{
 "cells": [
  {
   "cell_type": "code",
   "execution_count": 1,
   "id": "0fb632cd",
   "metadata": {},
   "outputs": [
    {
     "data": {
      "text/html": [
       "        <script type=\"text/javascript\">\n",
       "        window.PlotlyConfig = {MathJaxConfig: 'local'};\n",
       "        if (window.MathJax && window.MathJax.Hub && window.MathJax.Hub.Config) {window.MathJax.Hub.Config({SVG: {font: \"STIX-Web\"}});}\n",
       "        if (typeof require !== 'undefined') {\n",
       "        require.undef(\"plotly\");\n",
       "        requirejs.config({\n",
       "            paths: {\n",
       "                'plotly': ['https://cdn.plot.ly/plotly-2.12.1.min']\n",
       "            }\n",
       "        });\n",
       "        require(['plotly'], function(Plotly) {\n",
       "            window._Plotly = Plotly;\n",
       "        });\n",
       "        }\n",
       "        </script>\n",
       "        "
      ]
     },
     "metadata": {},
     "output_type": "display_data"
    },
    {
     "data": {
      "text/html": [
       "        <script type=\"text/javascript\">\n",
       "        window.PlotlyConfig = {MathJaxConfig: 'local'};\n",
       "        if (window.MathJax && window.MathJax.Hub && window.MathJax.Hub.Config) {window.MathJax.Hub.Config({SVG: {font: \"STIX-Web\"}});}\n",
       "        if (typeof require !== 'undefined') {\n",
       "        require.undef(\"plotly\");\n",
       "        requirejs.config({\n",
       "            paths: {\n",
       "                'plotly': ['https://cdn.plot.ly/plotly-2.12.1.min']\n",
       "            }\n",
       "        });\n",
       "        require(['plotly'], function(Plotly) {\n",
       "            window._Plotly = Plotly;\n",
       "        });\n",
       "        }\n",
       "        </script>\n",
       "        "
      ]
     },
     "metadata": {},
     "output_type": "display_data"
    }
   ],
   "source": [
    "import numpy as np\n",
    "import pandas as pd\n",
    "import matplotlib.pyplot as plt\n",
    "%matplotlib inline\n",
    "import os\n",
    "import sys\n",
    "import glob\n",
    "import pandas as pd\n",
    "import numpy as np\n",
    "import seaborn as sns\n",
    "import os\n",
    "import sys\n",
    "import glob\n",
    "from sklearn import preprocessing\n",
    "import matplotlib.pyplot as plt\n",
    "from pandas.plotting import scatter_matrix \n",
    "%matplotlib inline\n",
    "from sklearn.decomposition import PCA\n",
    "from sklearn.preprocessing import StandardScaler\n",
    "from sklearn.discriminant_analysis import LinearDiscriminantAnalysis as LDA\n",
    "from sklearn.discriminant_analysis import QuadraticDiscriminantAnalysis as QDA\n",
    "from sklearn.manifold import TSNE\n",
    "from colour import Color\n",
    "from sklearn.covariance import EllipticEnvelope\n",
    "from itertools import combinations\n",
    "import pandas as pd\n",
    "import numpy as np\n",
    "import seaborn as sns\n",
    "import os\n",
    "import sys\n",
    "import glob\n",
    "from sklearn import preprocessing\n",
    "import matplotlib.pyplot as plt\n",
    "from pandas.plotting import scatter_matrix \n",
    "%matplotlib inline\n",
    "# from pptx import Presentation\n",
    "# from pptx.util import Inches\n",
    "from sklearn.decomposition import PCA\n",
    "from sklearn.preprocessing import StandardScaler\n",
    "from sklearn.discriminant_analysis import LinearDiscriminantAnalysis as LDA\n",
    "from sklearn.discriminant_analysis import QuadraticDiscriminantAnalysis as QDA\n",
    "from sklearn.manifold import TSNE\n",
    "from colour import Color\n",
    "from sklearn.covariance import EllipticEnvelope\n",
    "import sklearn.linear_model\n",
    "from sklearn.linear_model import LinearRegression\n",
    "from sklearn import svm\n",
    "from sklearn.datasets import make_moons, make_blobs\n",
    "from sklearn.covariance import EllipticEnvelope\n",
    "from sklearn.ensemble import IsolationForest\n",
    "from sklearn.neighbors import LocalOutlierFactor\n",
    "#from sklearn.linear_model import SGDOneClassSVM\n",
    "from sklearn.kernel_approximation import Nystroem\n",
    "from sklearn.pipeline import make_pipeline\n",
    "from sklearn import preprocessing\n",
    "import matplotlib.pyplot as plt\n",
    "from pandas.plotting import scatter_matrix \n",
    "from psynlig import plot_correlation_heatmap\n",
    "#import pingouin as pg\n",
    "from scipy.stats import pearsonr\n",
    "import plotly.express as px\n",
    "import plotly.graph_objs as go\n",
    "from plotly.tools import FigureFactory as FF\n",
    "import chart_studio as cs\n",
    "import numpy as np\n",
    "import pandas as pd\n",
    "import scipy\n",
    "import chart_studio.plotly as py\n",
    "from plotly.offline import iplot\n",
    "import pandas as pd\n",
    "import numpy as np  \n",
    "%matplotlib inline  \n",
    "from plotly import __version__ \n",
    "from plotly.offline import download_plotlyjs, init_notebook_mode, plot, iplot\n",
    "import cufflinks as cf\n",
    "init_notebook_mode(connected=True)\n",
    "cf.go_offline()\n",
    "import chart_studio.plotly as py\n",
    "from sklearn import preprocessing\n",
    "from pandas.plotting import scatter_matrix \n",
    "from psynlig import plot_correlation_heatmap\n",
    "#import pingouin as pg\n",
    "from scipy.stats import pearsonr\n",
    "import kaleido"
   ]
  },
  {
   "cell_type": "code",
   "execution_count": 2,
   "id": "d6d00fb4",
   "metadata": {},
   "outputs": [],
   "source": [
    "##functions"
   ]
  },
  {
   "cell_type": "code",
   "execution_count": 2,
   "id": "8d56f0eb",
   "metadata": {},
   "outputs": [],
   "source": [
    "def summarize_dataframe(df, group_col):\n",
    "    \"\"\"\n",
    "    This function takes a pandas DataFrame and a column to group by as inputs and returns\n",
    "    a summary DataFrame with statistical parameters for each group.\n",
    "    \"\"\"\n",
    "    # Group the DataFrame by the specified column\n",
    "    grouped_df = df.groupby(group_col)\n",
    "   \n",
    "    # Define a dictionary to hold the statistical parameters to compute for each column\n",
    "    agg_dict = {}\n",
    "   \n",
    "    # Loop over the columns in the DataFrame and add the statistical parameters to the agg_dict\n",
    "    for col in df.columns:\n",
    "        if col != group_col:\n",
    "            agg_dict[col] = [\n",
    "                ('count', 'count'),\n",
    "                ('mean', 'mean'),\n",
    "                ('std', 'std'),\n",
    "                ('min', 'min'),\n",
    "                ('25%', lambda x: np.quantile(x, 0.25)),\n",
    "                ('median', 'median'),\n",
    "                ('75%', lambda x: np.quantile(x, 0.75)),\n",
    "                ('max', 'max')\n",
    "                \n",
    "            ]\n",
    "   \n",
    "    # Compute the summary statistics for each group and column using the agg_dict\n",
    "    summary_df = grouped_df.agg(agg_dict)\n",
    "   \n",
    "    # Flatten the multi-index column names into a single level\n",
    "    summary_df.columns = [f'{col}_{stat}' for col, stat in summary_df.columns]\n",
    "   \n",
    "    # Rename the index column\n",
    "    summary_df.index.name = group_col\n",
    "   \n",
    "    # Return the summary DataFrame\n",
    "    return summary_df"
   ]
  },
  {
   "cell_type": "code",
   "execution_count": 3,
   "id": "221b5b43",
   "metadata": {},
   "outputs": [],
   "source": [
    "def add_plate_column(folder_path):\n",
    "    files = os.listdir(folder_path)\n",
    "    output_folder = os.path.join(folder_path, \"output\")\n",
    "    os.makedirs(output_folder, exist_ok=True)\n",
    "   \n",
    "    for i, file in enumerate(files):\n",
    "        if file.endswith(\".csv\"):\n",
    "            file_path = os.path.join(folder_path, file)\n",
    "            output_path = os.path.join(output_folder, file)\n",
    "           \n",
    "            df = pd.read_csv(file_path)\n",
    "            df.insert(0, \"plate\", f\"p{i+1}\")\n",
    "            df['Row'] = 'r' + df['Row'].astype(str)\n",
    "            df['Column'] = 'c' + df['Column'].astype(str)\n",
    "            df[\"pos\"] = df[\"Row\"].astype(str) + df[\"Column\"].astype(str)  + df[\"plate\"].astype(str) \n",
    "            df.to_csv(output_path, index=False)"
   ]
  },
  {
   "cell_type": "code",
   "execution_count": 4,
   "id": "f13d8d23",
   "metadata": {},
   "outputs": [],
   "source": [
    "def dist_check_if_hc(frame):\n",
    "    frame = frame.drop(columns=['Local Outlier Factor 30', 'Local Outlier Factor 30_outliers',\n",
    "       'Local Outlier Factor 10', 'Local Outlier Factor 10_outliers',\n",
    "       'Local Outlier Factor 8', 'Local Outlier Factor 8_outliers', 'group', 'group_p', \"Cell_id\",\n",
    "       'group_with_id', 'group_with_p'])\n",
    "    print(\"frame_ready\")\n",
    "    for col in frame:\n",
    "            \n",
    "            plt.hist(frame[col])\n",
    "            plt.title(f\"Histogram of hc({col})\")\n",
    "            plt.xlabel(f\"hc({col})\")\n",
    "            plt.ylabel(\"Frequency\")\n",
    "            plt.show()\n",
    "            plt.savefig(path + '//' + f\"hist_hc{col}.pdf\", dpi = 600)\n",
    "            plt.close()\n",
    "            print(\"hist_done!\")\n",
    "            plt.figure()\n",
    "            scipy.stats.probplot(frame[col], dist=\"norm\", plot=plt)\n",
    "            plt.title(f\"Q-Q-{col}\")\n",
    "            plt.show\n",
    "            plt.savefig(path + '//' + f\"Q-Q_hc{col}.pdf\", dpi = 600)\n",
    "            plt.close()\n",
    "            print(\"qq_done:)\")\n",
    "            plt.figure()\n",
    "            sns.distplot(frame[col], kde = True, color ='red', bins = 30)\n",
    "            plt.title(f\"dist-{col}\")\n",
    "            plt.show\n",
    "            plt.savefig(path + '//' + f\"dist_hc{col}.pdf\", dpi = 600)\n",
    "            plt.close()\n",
    "            print(\"on it:)\")\n",
    "            print(\"done:)\")\n",
    "        "
   ]
  },
  {
   "cell_type": "code",
   "execution_count": 5,
   "id": "df2a5188",
   "metadata": {},
   "outputs": [],
   "source": [
    "def dist_check_if_max(frame):\n",
    "    \n",
    "    print(\"frame_ready\")\n",
    "    for col in frame:\n",
    "            #Nh_df_24 = Nh_df_24.drop(columns=[\"PC\", \"group_with_pc\", \"group\", \"group_with_id\"])\n",
    "            plt.hist(frame[col])\n",
    "            plt.title(f\"Histogram of max({col})\")\n",
    "            plt.xlabel(f\"max({col})\")\n",
    "            plt.ylabel(\"Frequency\")\n",
    "            plt.show()\n",
    "            plt.savefig(path + '//' + f\"hist_max{col}.pdf\", dpi = 600)\n",
    "            plt.close()\n",
    "            print(\"hist_done!\")\n",
    "            plt.figure()\n",
    "            scipy.stats.probplot(frame[col], dist=\"norm\", plot=plt)\n",
    "            plt.title(f\"Q-Q-{col}\")\n",
    "            plt.show\n",
    "            plt.savefig(path + '//' + f\"Q-Q_max{col}.pdf\", dpi = 600)\n",
    "            plt.close()\n",
    "            print(\"qq_done:)\")\n",
    "            plt.figure()\n",
    "            sns.distplot(frame[col], kde = True, color ='red', bins = 30)\n",
    "            plt.title(f\"dist-{col}\")\n",
    "            plt.show\n",
    "            plt.savefig(path + '//' + f\"dist_max{col}.pdf\", dpi = 600)\n",
    "            plt.close()\n",
    "            print(\"on it:)\")\n",
    "            print(\"done:)\")"
   ]
  },
  {
   "cell_type": "code",
   "execution_count": 6,
   "id": "d529670e",
   "metadata": {},
   "outputs": [],
   "source": [
    "def dist_check_if_log(frame):\n",
    "    \n",
    "    print(\"frame_ready\")\n",
    "    for col in frame:\n",
    "            #Nh_df_24 = Nh_df_24.drop(columns=[\"PC\", \"group_with_pc\", \"group\", \"group_with_id\"])\n",
    "            plt.hist(frame[col])\n",
    "            plt.title(f\"Histogram of log({col})\")\n",
    "            plt.xlabel(f\"log({col})\")\n",
    "            plt.ylabel(\"Frequency\")\n",
    "            plt.show()\n",
    "            plt.savefig(path + '//' + f\"hist_log{col}.pdf\", dpi = 600)\n",
    "            plt.close()\n",
    "            print(\"hist_done!\")\n",
    "            plt.figure()\n",
    "            scipy.stats.probplot(frame[col], dist=\"norm\", plot=plt)\n",
    "            plt.title(f\"Q-Q-{col}\")\n",
    "            plt.show\n",
    "            plt.savefig(path + '//' + f\"Q-Q_log{col}.pdf\", dpi = 600)\n",
    "            plt.close()\n",
    "            print(\"qq_done:)\")\n",
    "            plt.figure()\n",
    "            sns.distplot(frame[col], kde = True, color ='red', bins = 30)\n",
    "            plt.title(f\"dist-{col}\")\n",
    "            plt.show\n",
    "            plt.savefig(path + '//' + f\"dist_log{col}.pdf\", dpi = 600)\n",
    "            plt.close()\n",
    "            print(\"on it:)\")\n",
    "            print(\"done:)\")"
   ]
  },
  {
   "cell_type": "code",
   "execution_count": 7,
   "id": "4f870bee",
   "metadata": {},
   "outputs": [],
   "source": [
    "def dist_check_if_log_2(frame):\n",
    "    \n",
    "    print(\"frame_ready\")\n",
    "    for col in frame:\n",
    "            #Nh_df_24 = Nh_df_24.drop(columns=[\"PC\", \"group_with_pc\", \"group\", \"group_with_id\"])\n",
    "            plt.hist(frame[col])\n",
    "            plt.title(f\"Histogram of log+1({col})\")\n",
    "            plt.xlabel(f\"log+1({col})\")\n",
    "            plt.ylabel(\"Frequency\")\n",
    "            plt.show()\n",
    "            plt.savefig(path + '//' + f\"hist_log+1{col}.pdf\", dpi = 600)\n",
    "            plt.close()\n",
    "            print(\"hist_done!\")\n",
    "            plt.figure()\n",
    "            scipy.stats.probplot(frame[col], dist=\"norm\", plot=plt)\n",
    "            plt.title(f\"Q-Q-{col}\")\n",
    "            plt.show\n",
    "            plt.savefig(path + '//' + f\"Q-Q_log+1{col}.pdf\", dpi = 600)\n",
    "            plt.close()\n",
    "            print(\"qq_done:)\")\n",
    "            plt.figure()\n",
    "            sns.distplot(frame[col], kde = True, color ='red', bins = 30)\n",
    "            plt.title(f\"dist-{col}\")\n",
    "            plt.show\n",
    "            plt.savefig(path + '//' + f\"dist_log+1{col}.pdf\", dpi = 600)\n",
    "            plt.close()\n",
    "            print(\"on it:)\")\n",
    "            print(\"done:)\")"
   ]
  },
  {
   "cell_type": "code",
   "execution_count": 8,
   "id": "16f80c53",
   "metadata": {},
   "outputs": [],
   "source": [
    "### mfn1 \n",
    "add_plate_column('C:/Users/Uri8s/MFN1')"
   ]
  },
  {
   "cell_type": "code",
   "execution_count": 8,
   "id": "a66da6bd",
   "metadata": {},
   "outputs": [
    {
     "name": "stdout",
     "output_type": "stream",
     "text": [
      "Output folder created\n"
     ]
    }
   ],
   "source": [
    "## mfn1 res path\n",
    "path = ('MFN1_res') \n",
    "if not os.path.exists(path):\n",
    "    os.mkdir(path)\n",
    "    print('Output folder created')"
   ]
  },
  {
   "cell_type": "code",
   "execution_count": null,
   "id": "e6c9b8ba",
   "metadata": {},
   "outputs": [],
   "source": [
    "#mfn1\n",
    "all_files = glob.glob('C:/Users/Uri8s/output_mfn1/*.csv')\n",
    "\n",
    "li = []\n",
    "\n",
    "for filename in all_files:\n",
    "    df = pd.read_csv(filename)\n",
    "\n",
    "    li.append(df)\n",
    "\n",
    "mfn1_df = pd.concat(li, axis=0, ignore_index=True)"
   ]
  },
  {
   "cell_type": "code",
   "execution_count": null,
   "id": "3142a8b1",
   "metadata": {},
   "outputs": [],
   "source": [
    "#index frame\n",
    "mfn1_df[\"group\"] = mfn1_df[\"Severity\"].astype(str) + mfn1_df[\"Compound\"].astype(str)\n",
    "mfn1_df.set_index([\"group\"], inplace = True,\n",
    "                            append = True, drop = False)\n",
    "mfn1_df[\"group_with_id\"] = mfn1_df[\"Severity\"].astype(str) + mfn1_df[\"Compound\"].astype(str) + mfn1_df[\"Cell ID\"].astype(str) \n",
    "mfn1_df.set_index([\"group_with_id\"], inplace = True,\n",
    "                            append = True, drop = False)\n",
    "mfn1_df[\"group_with_p\"] = mfn1_df[\"Severity\"].astype(str) + mfn1_df[\"Compound\"].astype(str) + mfn1_df[\"Cell ID\"].astype(str) + mfn1_df[\"plate\"].astype(str)\n",
    "mfn1_df.set_index([\"group_with_p\"], inplace = True,\n",
    "                            append = True, drop = False)\n",
    "mfn1_df[\"group_p\"] = mfn1_df[\"Severity\"].astype(str) + mfn1_df[\"Compound\"].astype(str) + mfn1_df[\"plate\"].astype(str)\n",
    "mfn1_df.set_index([\"group_p\"], inplace = True,\n",
    "                            append = True, drop = False)"
   ]
  },
  {
   "cell_type": "code",
   "execution_count": 15,
   "id": "b10ebc92",
   "metadata": {},
   "outputs": [
    {
     "data": {
      "image/png": "[encoded data removed]",
      "text/plain": [
       "<Figure size 432x288 with 1 Axes>"
      ]
     },
     "metadata": {
      "needs_background": "light"
     },
     "output_type": "display_data"
    },
    {
     "name": "stdout",
     "output_type": "stream",
     "text": [
      "Total number of cell types 594\n"
     ]
    },
    {
     "data": {
      "image/png": "[encoded data removed]",
      "text/plain": [
       "<Figure size 432x288 with 1 Axes>"
      ]
     },
     "metadata": {
      "needs_background": "light"
     },
     "output_type": "display_data"
    },
    {
     "name": "stdout",
     "output_type": "stream",
     "text": [
      "Total number of cells 534\n"
     ]
    }
   ],
   "source": [
    "plate_types =  mfn1_df[\"plate\"].values\n",
    "sns.histplot(plate_types)\n",
    "plt.show()\n",
    "print(f'Total number of cell types {len(plate_types)}')\n",
    "mfn1_df = mfn1_df.loc[plate_types != 'p1']\n",
    "sns.histplot(mfn1_df[\"plate\"].values)\n",
    "plt.show()\n",
    "print(f'Total number of cells {len(mfn1_df)}')"
   ]
  },
  {
   "cell_type": "code",
   "execution_count": 16,
   "id": "097c6c0e",
   "metadata": {
    "scrolled": true
   },
   "outputs": [
    {
     "data": {
      "image/png": "[encoded data removed]",
      "text/plain": [
       "<Figure size 432x288 with 1 Axes>"
      ]
     },
     "metadata": {
      "needs_background": "light"
     },
     "output_type": "display_data"
    },
    {
     "name": "stdout",
     "output_type": "stream",
     "text": [
      "Total number of cell types 534\n"
     ]
    },
    {
     "data": {
      "image/png": "[encoded data removed]",
      "text/plain": [
       "<Figure size 432x288 with 1 Axes>"
      ]
     },
     "metadata": {
      "needs_background": "light"
     },
     "output_type": "display_data"
    },
    {
     "name": "stdout",
     "output_type": "stream",
     "text": [
      "Total number of cells 475\n"
     ]
    }
   ],
   "source": [
    "plate_types =  mfn1_df[\"plate\"].values\n",
    "sns.histplot(plate_types)\n",
    "plt.show()\n",
    "print(f'Total number of cell types {len(plate_types)}')\n",
    "mfn1_df = mfn1_df.loc[plate_types != 'p2']\n",
    "sns.histplot(mfn1_df[\"plate\"].values)\n",
    "plt.show()\n",
    "print(f'Total number of cells {len(mfn1_df)}')"
   ]
  },
  {
   "cell_type": "code",
   "execution_count": 17,
   "id": "cc3e1636",
   "metadata": {},
   "outputs": [
    {
     "data": {
      "image/png": "[encoded data removed]",
      "text/plain": [
       "<Figure size 432x288 with 1 Axes>"
      ]
     },
     "metadata": {
      "needs_background": "light"
     },
     "output_type": "display_data"
    },
    {
     "name": "stdout",
     "output_type": "stream",
     "text": [
      "Total number of cell types 475\n"
     ]
    },
    {
     "data": {
      "image/png": "[encoded data removed]",
      "text/plain": [
       "<Figure size 432x288 with 1 Axes>"
      ]
     },
     "metadata": {
      "needs_background": "light"
     },
     "output_type": "display_data"
    },
    {
     "name": "stdout",
     "output_type": "stream",
     "text": [
      "Total number of cells 415\n"
     ]
    }
   ],
   "source": [
    "plate_types =  mfn1_df[\"plate\"].values\n",
    "sns.histplot(plate_types)\n",
    "plt.show()\n",
    "print(f'Total number of cell types {len(plate_types)}')\n",
    "mfn1_df = mfn1_df.loc[plate_types != 'p3']\n",
    "sns.histplot(mfn1_df[\"plate\"].values)\n",
    "plt.show()\n",
    "print(f'Total number of cells {len(mfn1_df)}')"
   ]
  },
  {
   "cell_type": "code",
   "execution_count": 150,
   "id": "a5f1db4c",
   "metadata": {
    "scrolled": true
   },
   "outputs": [],
   "source": [
    "#summary\n",
    "mfn1_df_sum = mfn1_df.drop(columns=[\"group\", \"group_with_id\",\"group_with_p\", \"group_p\", \"Cell ID\", \"plate\", \"Row\", \"Column\", \"Cell Type\",\n",
    "                                    \"Plane\", \"Timepoint\", \"Height [µm]\", \"Time [s]\", \"Compound\", \"Severity\", \"pos\" ])\n",
    "mfn1_df_sum = mfn1_df_sum.reset_index()\n",
    "mfn1_df_sum = mfn1_df_sum.drop(columns=[\"group_with_id\",\"group\", \"group_p\", \"level_0\"])\n",
    "sum1 = summarize_dataframe(mfn1_df_sum, \"group_with_p\")\n",
    "sum1 = sum1.reset_index()\n",
    "sum1.to_csv(path + \"//\" + 'mfn1_sum1a.csv', index=None)"
   ]
  },
  {
   "cell_type": "code",
   "execution_count": null,
   "id": "094e21fa",
   "metadata": {},
   "outputs": [],
   "source": [
    "# clear low and high cell count\n",
    "cell_count =  mfn1_df[\"all_cells - Number of Objects\"].values\n",
    "sns.histplot(cell_count)\n",
    "plt.show()\n",
    "mfn1_df = mfn1_df.loc[cell_count<1200]\n",
    "sns.histplot(mfn1_df[\"all_cells - Number of Objects\"].values)\n",
    "plt.show()\n",
    "mfn1_df = mfn1_df.loc[cell_count>200]\n",
    "sns.histplot(mfn1_df[\"all_cells - Number of Objects\"].values)\n",
    "plt.show()"
   ]
  },
  {
   "cell_type": "code",
   "execution_count": 158,
   "id": "3e493a2d",
   "metadata": {},
   "outputs": [],
   "source": [
    "mfn1_df.to_csv(path + \"//\" + 'mfn1_df1.csv', index=None)    "
   ]
  },
  {
   "cell_type": "code",
   "execution_count": 161,
   "id": "a305913c",
   "metadata": {
    "scrolled": true
   },
   "outputs": [
    {
     "data": {
      "application/vnd.plotly.v1+json": {
       "config": {
        "plotlyServerURL": "https://plot.ly"
       },
       "data": [
        {
         "alignmentgroup": "True",
         "hovertemplate": "group=%{x}<br>all_cells - Number of Objects=%{y}<extra></extra>",
         "legendgroup": "",
         "marker": {
          "color": "#636efa",
          "pattern": {
           "shape": ""
          }
         },
         "name": "",
         "offsetgroup": "",
         "orientation": "v",
         "showlegend": false,
         "textposition": "auto",
         "type": "bar",
         "x": [
          "HCDMSO",
          "MDMSO",
          "Mmdivi1 25uM",
          "PREDMSO",
          "PREmdivi1 25uM",
          "SDMSO",
          "Smdivi1 25uM"
         ],
         "xaxis": "x",
         "y": [
          823.1323529411765,
          831.7058823529412,
          710.2285714285714,
          756.0571428571428,
          639.6875,
          708.0571428571428,
          639.421052631579
         ],
         "yaxis": "y"
        }
       ],
       "layout": {
        "barmode": "group",
        "legend": {
         "tracegroupgap": 0
        },
        "margin": {
         "t": 60
        },
        "template": {
         "data": {
          "bar": [
           {
            "error_x": {
             "color": "#2a3f5f"
            },
            "error_y": {
             "color": "#2a3f5f"
            },
            "marker": {
             "line": {
              "color": "#E5ECF6",
              "width": 0.5
             },
             "pattern": {
              "fillmode": "overlay",
              "size": 10,
              "solidity": 0.2
             }
            },
            "type": "bar"
           }
          ],
          "barpolar": [
           {
            "marker": {
             "line": {
              "color": "#E5ECF6",
              "width": 0.5
             },
             "pattern": {
              "fillmode": "overlay",
              "size": 10,
              "solidity": 0.2
             }
            },
            "type": "barpolar"
           }
          ],
          "carpet": [
           {
            "aaxis": {
             "endlinecolor": "#2a3f5f",
             "gridcolor": "white",
             "linecolor": "white",
             "minorgridcolor": "white",
             "startlinecolor": "#2a3f5f"
            },
            "baxis": {
             "endlinecolor": "#2a3f5f",
             "gridcolor": "white",
             "linecolor": "white",
             "minorgridcolor": "white",
             "startlinecolor": "#2a3f5f"
            },
            "type": "carpet"
           }
          ],
          "choropleth": [
           {
            "colorbar": {
             "outlinewidth": 0,
             "ticks": ""
            },
            "type": "choropleth"
           }
          ],
          "contour": [
           {
            "colorbar": {
             "outlinewidth": 0,
             "ticks": ""
            },
            "colorscale": [
             [
              0,
              "#0d0887"
             ],
             [
              0.1111111111111111,
              "#46039f"
             ],
             [
              0.2222222222222222,
              "#7201a8"
             ],
             [
              0.3333333333333333,
              "#9c179e"
             ],
             [
              0.4444444444444444,
              "#bd3786"
             ],
             [
              0.5555555555555556,
              "#d8576b"
             ],
             [
              0.6666666666666666,
              "#ed7953"
             ],
             [
              0.7777777777777778,
              "#fb9f3a"
             ],
             [
              0.8888888888888888,
              "#fdca26"
             ],
             [
              1,
              "#f0f921"
             ]
            ],
            "type": "contour"
           }
          ],
          "contourcarpet": [
           {
            "colorbar": {
             "outlinewidth": 0,
             "ticks": ""
            },
            "type": "contourcarpet"
           }
          ],
          "heatmap": [
           {
            "colorbar": {
             "outlinewidth": 0,
             "ticks": ""
            },
            "colorscale": [
             [
              0,
              "#0d0887"
             ],
             [
              0.1111111111111111,
              "#46039f"
             ],
             [
              0.2222222222222222,
              "#7201a8"
             ],
             [
              0.3333333333333333,
              "#9c179e"
             ],
             [
              0.4444444444444444,
              "#bd3786"
             ],
             [
              0.5555555555555556,
              "#d8576b"
             ],
             [
              0.6666666666666666,
              "#ed7953"
             ],
             [
              0.7777777777777778,
              "#fb9f3a"
             ],
             [
              0.8888888888888888,
              "#fdca26"
             ],
             [
              1,
              "#f0f921"
             ]
            ],
            "type": "heatmap"
           }
          ],
          "heatmapgl": [
           {
            "colorbar": {
             "outlinewidth": 0,
             "ticks": ""
            },
            "colorscale": [
             [
              0,
              "#0d0887"
             ],
             [
              0.1111111111111111,
              "#46039f"
             ],
             [
              0.2222222222222222,
              "#7201a8"
             ],
             [
              0.3333333333333333,
              "#9c179e"
             ],
             [
              0.4444444444444444,
              "#bd3786"
             ],
             [
              0.5555555555555556,
              "#d8576b"
             ],
             [
              0.6666666666666666,
              "#ed7953"
             ],
             [
              0.7777777777777778,
              "#fb9f3a"
             ],
             [
              0.8888888888888888,
              "#fdca26"
             ],
             [
              1,
              "#f0f921"
             ]
            ],
            "type": "heatmapgl"
           }
          ],
          "histogram": [
           {
            "marker": {
             "pattern": {
              "fillmode": "overlay",
              "size": 10,
              "solidity": 0.2
             }
            },
            "type": "histogram"
           }
          ],
          "histogram2d": [
           {
            "colorbar": {
             "outlinewidth": 0,
             "ticks": ""
            },
            "colorscale": [
             [
              0,
              "#0d0887"
             ],
             [
              0.1111111111111111,
              "#46039f"
             ],
             [
              0.2222222222222222,
              "#7201a8"
             ],
             [
              0.3333333333333333,
              "#9c179e"
             ],
             [
              0.4444444444444444,
              "#bd3786"
             ],
             [
              0.5555555555555556,
              "#d8576b"
             ],
             [
              0.6666666666666666,
              "#ed7953"
             ],
             [
              0.7777777777777778,
              "#fb9f3a"
             ],
             [
              0.8888888888888888,
              "#fdca26"
             ],
             [
              1,
              "#f0f921"
             ]
            ],
            "type": "histogram2d"
           }
          ],
          "histogram2dcontour": [
           {
            "colorbar": {
             "outlinewidth": 0,
             "ticks": ""
            },
            "colorscale": [
             [
              0,
              "#0d0887"
             ],
             [
              0.1111111111111111,
              "#46039f"
             ],
             [
              0.2222222222222222,
              "#7201a8"
             ],
             [
              0.3333333333333333,
              "#9c179e"
             ],
             [
              0.4444444444444444,
              "#bd3786"
             ],
             [
              0.5555555555555556,
              "#d8576b"
             ],
             [
              0.6666666666666666,
              "#ed7953"
             ],
             [
              0.7777777777777778,
              "#fb9f3a"
             ],
             [
              0.8888888888888888,
              "#fdca26"
             ],
             [
              1,
              "#f0f921"
             ]
            ],
            "type": "histogram2dcontour"
           }
          ],
          "mesh3d": [
           {
            "colorbar": {
             "outlinewidth": 0,
             "ticks": ""
            },
            "type": "mesh3d"
           }
          ],
          "parcoords": [
           {
            "line": {
             "colorbar": {
              "outlinewidth": 0,
              "ticks": ""
             }
            },
            "type": "parcoords"
           }
          ],
          "pie": [
           {
            "automargin": true,
            "type": "pie"
           }
          ],
          "scatter": [
           {
            "fillpattern": {
             "fillmode": "overlay",
             "size": 10,
             "solidity": 0.2
            },
            "type": "scatter"
           }
          ],
          "scatter3d": [
           {
            "line": {
             "colorbar": {
              "outlinewidth": 0,
              "ticks": ""
             }
            },
            "marker": {
             "colorbar": {
              "outlinewidth": 0,
              "ticks": ""
             }
            },
            "type": "scatter3d"
           }
          ],
          "scattercarpet": [
           {
            "marker": {
             "colorbar": {
              "outlinewidth": 0,
              "ticks": ""
             }
            },
            "type": "scattercarpet"
           }
          ],
          "scattergeo": [
           {
            "marker": {
             "colorbar": {
              "outlinewidth": 0,
              "ticks": ""
             }
            },
            "type": "scattergeo"
           }
          ],
          "scattergl": [
           {
            "marker": {
             "colorbar": {
              "outlinewidth": 0,
              "ticks": ""
             }
            },
            "type": "scattergl"
           }
          ],
          "scattermapbox": [
           {
            "marker": {
             "colorbar": {
              "outlinewidth": 0,
              "ticks": ""
             }
            },
            "type": "scattermapbox"
           }
          ],
          "scatterpolar": [
           {
            "marker": {
             "colorbar": {
              "outlinewidth": 0,
              "ticks": ""
             }
            },
            "type": "scatterpolar"
           }
          ],
          "scatterpolargl": [
           {
            "marker": {
             "colorbar": {
              "outlinewidth": 0,
              "ticks": ""
             }
            },
            "type": "scatterpolargl"
           }
          ],
          "scatterternary": [
           {
            "marker": {
             "colorbar": {
              "outlinewidth": 0,
              "ticks": ""
             }
            },
            "type": "scatterternary"
           }
          ],
          "surface": [
           {
            "colorbar": {
             "outlinewidth": 0,
             "ticks": ""
            },
            "colorscale": [
             [
              0,
              "#0d0887"
             ],
             [
              0.1111111111111111,
              "#46039f"
             ],
             [
              0.2222222222222222,
              "#7201a8"
             ],
             [
              0.3333333333333333,
              "#9c179e"
             ],
             [
              0.4444444444444444,
              "#bd3786"
             ],
             [
              0.5555555555555556,
              "#d8576b"
             ],
             [
              0.6666666666666666,
              "#ed7953"
             ],
             [
              0.7777777777777778,
              "#fb9f3a"
             ],
             [
              0.8888888888888888,
              "#fdca26"
             ],
             [
              1,
              "#f0f921"
             ]
            ],
            "type": "surface"
           }
          ],
          "table": [
           {
            "cells": {
             "fill": {
              "color": "#EBF0F8"
             },
             "line": {
              "color": "white"
             }
            },
            "header": {
             "fill": {
              "color": "#C8D4E3"
             },
             "line": {
              "color": "white"
             }
            },
            "type": "table"
           }
          ]
         },
         "layout": {
          "annotationdefaults": {
           "arrowcolor": "#2a3f5f",
           "arrowhead": 0,
           "arrowwidth": 1
          },
          "autotypenumbers": "strict",
          "coloraxis": {
           "colorbar": {
            "outlinewidth": 0,
            "ticks": ""
           }
          },
          "colorscale": {
           "diverging": [
            [
             0,
             "#8e0152"
            ],
            [
             0.1,
             "#c51b7d"
            ],
            [
             0.2,
             "#de77ae"
            ],
            [
             0.3,
             "#f1b6da"
            ],
            [
             0.4,
             "#fde0ef"
            ],
            [
             0.5,
             "#f7f7f7"
            ],
            [
             0.6,
             "#e6f5d0"
            ],
            [
             0.7,
             "#b8e186"
            ],
            [
             0.8,
             "#7fbc41"
            ],
            [
             0.9,
             "#4d9221"
            ],
            [
             1,
             "#276419"
            ]
           ],
           "sequential": [
            [
             0,
             "#0d0887"
            ],
            [
             0.1111111111111111,
             "#46039f"
            ],
            [
             0.2222222222222222,
             "#7201a8"
            ],
            [
             0.3333333333333333,
             "#9c179e"
            ],
            [
             0.4444444444444444,
             "#bd3786"
            ],
            [
             0.5555555555555556,
             "#d8576b"
            ],
            [
             0.6666666666666666,
             "#ed7953"
            ],
            [
             0.7777777777777778,
             "#fb9f3a"
            ],
            [
             0.8888888888888888,
             "#fdca26"
            ],
            [
             1,
             "#f0f921"
            ]
           ],
           "sequentialminus": [
            [
             0,
             "#0d0887"
            ],
            [
             0.1111111111111111,
             "#46039f"
            ],
            [
             0.2222222222222222,
             "#7201a8"
            ],
            [
             0.3333333333333333,
             "#9c179e"
            ],
            [
             0.4444444444444444,
             "#bd3786"
            ],
            [
             0.5555555555555556,
             "#d8576b"
            ],
            [
             0.6666666666666666,
             "#ed7953"
            ],
            [
             0.7777777777777778,
             "#fb9f3a"
            ],
            [
             0.8888888888888888,
             "#fdca26"
            ],
            [
             1,
             "#f0f921"
            ]
           ]
          },
          "colorway": [
           "#636efa",
           "#EF553B",
           "#00cc96",
           "#ab63fa",
           "#FFA15A",
           "#19d3f3",
           "#FF6692",
           "#B6E880",
           "#FF97FF",
           "#FECB52"
          ],
          "font": {
           "color": "#2a3f5f"
          },
          "geo": {
           "bgcolor": "white",
           "lakecolor": "white",
           "landcolor": "#E5ECF6",
           "showlakes": true,
           "showland": true,
           "subunitcolor": "white"
          },
          "hoverlabel": {
           "align": "left"
          },
          "hovermode": "closest",
          "mapbox": {
           "style": "light"
          },
          "paper_bgcolor": "white",
          "plot_bgcolor": "#E5ECF6",
          "polar": {
           "angularaxis": {
            "gridcolor": "white",
            "linecolor": "white",
            "ticks": ""
           },
           "bgcolor": "#E5ECF6",
           "radialaxis": {
            "gridcolor": "white",
            "linecolor": "white",
            "ticks": ""
           }
          },
          "scene": {
           "xaxis": {
            "backgroundcolor": "#E5ECF6",
            "gridcolor": "white",
            "gridwidth": 2,
            "linecolor": "white",
            "showbackground": true,
            "ticks": "",
            "zerolinecolor": "white"
           },
           "yaxis": {
            "backgroundcolor": "#E5ECF6",
            "gridcolor": "white",
            "gridwidth": 2,
            "linecolor": "white",
            "showbackground": true,
            "ticks": "",
            "zerolinecolor": "white"
           },
           "zaxis": {
            "backgroundcolor": "#E5ECF6",
            "gridcolor": "white",
            "gridwidth": 2,
            "linecolor": "white",
            "showbackground": true,
            "ticks": "",
            "zerolinecolor": "white"
           }
          },
          "shapedefaults": {
           "line": {
            "color": "#2a3f5f"
           }
          },
          "ternary": {
           "aaxis": {
            "gridcolor": "white",
            "linecolor": "white",
            "ticks": ""
           },
           "baxis": {
            "gridcolor": "white",
            "linecolor": "white",
            "ticks": ""
           },
           "bgcolor": "#E5ECF6",
           "caxis": {
            "gridcolor": "white",
            "linecolor": "white",
            "ticks": ""
           }
          },
          "title": {
           "x": 0.05
          },
          "xaxis": {
           "automargin": true,
           "gridcolor": "white",
           "linecolor": "white",
           "ticks": "",
           "title": {
            "standoff": 15
           },
           "zerolinecolor": "white",
           "zerolinewidth": 2
          },
          "yaxis": {
           "automargin": true,
           "gridcolor": "white",
           "linecolor": "white",
           "ticks": "",
           "title": {
            "standoff": 15
           },
           "zerolinecolor": "white",
           "zerolinewidth": 2
          }
         }
        },
        "xaxis": {
         "anchor": "y",
         "domain": [
          0,
          1
         ],
         "title": {
          "text": "group"
         }
        },
        "yaxis": {
         "anchor": "x",
         "domain": [
          0,
          1
         ],
         "title": {
          "text": "all_cells - Number of Objects"
         }
        }
       }
      },
      "text/html": [
       "<div>                            <div id=\"81305db5-f121-4804-8e7f-4eb1749dec2b\" class=\"plotly-graph-div\" style=\"height:525px; width:100%;\"></div>            <script type=\"text/javascript\">                require([\"plotly\"], function(Plotly) {                    window.PLOTLYENV=window.PLOTLYENV || {};                                    if (document.getElementById(\"81305db5-f121-4804-8e7f-4eb1749dec2b\")) {                    Plotly.newPlot(                        \"81305db5-f121-4804-8e7f-4eb1749dec2b\",                        [{\"alignmentgroup\":\"True\",\"hovertemplate\":\"group=%{x}<br>all_cells - Number of Objects=%{y}<extra></extra>\",\"legendgroup\":\"\",\"marker\":{\"color\":\"#636efa\",\"pattern\":{\"shape\":\"\"}},\"name\":\"\",\"offsetgroup\":\"\",\"orientation\":\"v\",\"showlegend\":false,\"textposition\":\"auto\",\"x\":[\"HCDMSO\",\"MDMSO\",\"Mmdivi1 25uM\",\"PREDMSO\",\"PREmdivi1 25uM\",\"SDMSO\",\"Smdivi1 25uM\"],\"xaxis\":\"x\",\"y\":[823.1323529411765,831.7058823529412,710.2285714285714,756.0571428571428,639.6875,708.0571428571428,639.421052631579],\"yaxis\":\"y\",\"type\":\"bar\"}],                        {\"template\":{\"data\":{\"histogram2dcontour\":[{\"type\":\"histogram2dcontour\",\"colorbar\":{\"outlinewidth\":0,\"ticks\":\"\"},\"colorscale\":[[0.0,\"#0d0887\"],[0.1111111111111111,\"#46039f\"],[0.2222222222222222,\"#7201a8\"],[0.3333333333333333,\"#9c179e\"],[0.4444444444444444,\"#bd3786\"],[0.5555555555555556,\"#d8576b\"],[0.6666666666666666,\"#ed7953\"],[0.7777777777777778,\"#fb9f3a\"],[0.8888888888888888,\"#fdca26\"],[1.0,\"#f0f921\"]]}],\"choropleth\":[{\"type\":\"choropleth\",\"colorbar\":{\"outlinewidth\":0,\"ticks\":\"\"}}],\"histogram2d\":[{\"type\":\"histogram2d\",\"colorbar\":{\"outlinewidth\":0,\"ticks\":\"\"},\"colorscale\":[[0.0,\"#0d0887\"],[0.1111111111111111,\"#46039f\"],[0.2222222222222222,\"#7201a8\"],[0.3333333333333333,\"#9c179e\"],[0.4444444444444444,\"#bd3786\"],[0.5555555555555556,\"#d8576b\"],[0.6666666666666666,\"#ed7953\"],[0.7777777777777778,\"#fb9f3a\"],[0.8888888888888888,\"#fdca26\"],[1.0,\"#f0f921\"]]}],\"heatmap\":[{\"type\":\"heatmap\",\"colorbar\":{\"outlinewidth\":0,\"ticks\":\"\"},\"colorscale\":[[0.0,\"#0d0887\"],[0.1111111111111111,\"#46039f\"],[0.2222222222222222,\"#7201a8\"],[0.3333333333333333,\"#9c179e\"],[0.4444444444444444,\"#bd3786\"],[0.5555555555555556,\"#d8576b\"],[0.6666666666666666,\"#ed7953\"],[0.7777777777777778,\"#fb9f3a\"],[0.8888888888888888,\"#fdca26\"],[1.0,\"#f0f921\"]]}],\"heatmapgl\":[{\"type\":\"heatmapgl\",\"colorbar\":{\"outlinewidth\":0,\"ticks\":\"\"},\"colorscale\":[[0.0,\"#0d0887\"],[0.1111111111111111,\"#46039f\"],[0.2222222222222222,\"#7201a8\"],[0.3333333333333333,\"#9c179e\"],[0.4444444444444444,\"#bd3786\"],[0.5555555555555556,\"#d8576b\"],[0.6666666666666666,\"#ed7953\"],[0.7777777777777778,\"#fb9f3a\"],[0.8888888888888888,\"#fdca26\"],[1.0,\"#f0f921\"]]}],\"contourcarpet\":[{\"type\":\"contourcarpet\",\"colorbar\":{\"outlinewidth\":0,\"ticks\":\"\"}}],\"contour\":[{\"type\":\"contour\",\"colorbar\":{\"outlinewidth\":0,\"ticks\":\"\"},\"colorscale\":[[0.0,\"#0d0887\"],[0.1111111111111111,\"#46039f\"],[0.2222222222222222,\"#7201a8\"],[0.3333333333333333,\"#9c179e\"],[0.4444444444444444,\"#bd3786\"],[0.5555555555555556,\"#d8576b\"],[0.6666666666666666,\"#ed7953\"],[0.7777777777777778,\"#fb9f3a\"],[0.8888888888888888,\"#fdca26\"],[1.0,\"#f0f921\"]]}],\"surface\":[{\"type\":\"surface\",\"colorbar\":{\"outlinewidth\":0,\"ticks\":\"\"},\"colorscale\":[[0.0,\"#0d0887\"],[0.1111111111111111,\"#46039f\"],[0.2222222222222222,\"#7201a8\"],[0.3333333333333333,\"#9c179e\"],[0.4444444444444444,\"#bd3786\"],[0.5555555555555556,\"#d8576b\"],[0.6666666666666666,\"#ed7953\"],[0.7777777777777778,\"#fb9f3a\"],[0.8888888888888888,\"#fdca26\"],[1.0,\"#f0f921\"]]}],\"mesh3d\":[{\"type\":\"mesh3d\",\"colorbar\":{\"outlinewidth\":0,\"ticks\":\"\"}}],\"scatter\":[{\"fillpattern\":{\"fillmode\":\"overlay\",\"size\":10,\"solidity\":0.2},\"type\":\"scatter\"}],\"parcoords\":[{\"type\":\"parcoords\",\"line\":{\"colorbar\":{\"outlinewidth\":0,\"ticks\":\"\"}}}],\"scatterpolargl\":[{\"type\":\"scatterpolargl\",\"marker\":{\"colorbar\":{\"outlinewidth\":0,\"ticks\":\"\"}}}],\"bar\":[{\"error_x\":{\"color\":\"#2a3f5f\"},\"error_y\":{\"color\":\"#2a3f5f\"},\"marker\":{\"line\":{\"color\":\"#E5ECF6\",\"width\":0.5},\"pattern\":{\"fillmode\":\"overlay\",\"size\":10,\"solidity\":0.2}},\"type\":\"bar\"}],\"scattergeo\":[{\"type\":\"scattergeo\",\"marker\":{\"colorbar\":{\"outlinewidth\":0,\"ticks\":\"\"}}}],\"scatterpolar\":[{\"type\":\"scatterpolar\",\"marker\":{\"colorbar\":{\"outlinewidth\":0,\"ticks\":\"\"}}}],\"histogram\":[{\"marker\":{\"pattern\":{\"fillmode\":\"overlay\",\"size\":10,\"solidity\":0.2}},\"type\":\"histogram\"}],\"scattergl\":[{\"type\":\"scattergl\",\"marker\":{\"colorbar\":{\"outlinewidth\":0,\"ticks\":\"\"}}}],\"scatter3d\":[{\"type\":\"scatter3d\",\"line\":{\"colorbar\":{\"outlinewidth\":0,\"ticks\":\"\"}},\"marker\":{\"colorbar\":{\"outlinewidth\":0,\"ticks\":\"\"}}}],\"scattermapbox\":[{\"type\":\"scattermapbox\",\"marker\":{\"colorbar\":{\"outlinewidth\":0,\"ticks\":\"\"}}}],\"scatterternary\":[{\"type\":\"scatterternary\",\"marker\":{\"colorbar\":{\"outlinewidth\":0,\"ticks\":\"\"}}}],\"scattercarpet\":[{\"type\":\"scattercarpet\",\"marker\":{\"colorbar\":{\"outlinewidth\":0,\"ticks\":\"\"}}}],\"carpet\":[{\"aaxis\":{\"endlinecolor\":\"#2a3f5f\",\"gridcolor\":\"white\",\"linecolor\":\"white\",\"minorgridcolor\":\"white\",\"startlinecolor\":\"#2a3f5f\"},\"baxis\":{\"endlinecolor\":\"#2a3f5f\",\"gridcolor\":\"white\",\"linecolor\":\"white\",\"minorgridcolor\":\"white\",\"startlinecolor\":\"#2a3f5f\"},\"type\":\"carpet\"}],\"table\":[{\"cells\":{\"fill\":{\"color\":\"#EBF0F8\"},\"line\":{\"color\":\"white\"}},\"header\":{\"fill\":{\"color\":\"#C8D4E3\"},\"line\":{\"color\":\"white\"}},\"type\":\"table\"}],\"barpolar\":[{\"marker\":{\"line\":{\"color\":\"#E5ECF6\",\"width\":0.5},\"pattern\":{\"fillmode\":\"overlay\",\"size\":10,\"solidity\":0.2}},\"type\":\"barpolar\"}],\"pie\":[{\"automargin\":true,\"type\":\"pie\"}]},\"layout\":{\"autotypenumbers\":\"strict\",\"colorway\":[\"#636efa\",\"#EF553B\",\"#00cc96\",\"#ab63fa\",\"#FFA15A\",\"#19d3f3\",\"#FF6692\",\"#B6E880\",\"#FF97FF\",\"#FECB52\"],\"font\":{\"color\":\"#2a3f5f\"},\"hovermode\":\"closest\",\"hoverlabel\":{\"align\":\"left\"},\"paper_bgcolor\":\"white\",\"plot_bgcolor\":\"#E5ECF6\",\"polar\":{\"bgcolor\":\"#E5ECF6\",\"angularaxis\":{\"gridcolor\":\"white\",\"linecolor\":\"white\",\"ticks\":\"\"},\"radialaxis\":{\"gridcolor\":\"white\",\"linecolor\":\"white\",\"ticks\":\"\"}},\"ternary\":{\"bgcolor\":\"#E5ECF6\",\"aaxis\":{\"gridcolor\":\"white\",\"linecolor\":\"white\",\"ticks\":\"\"},\"baxis\":{\"gridcolor\":\"white\",\"linecolor\":\"white\",\"ticks\":\"\"},\"caxis\":{\"gridcolor\":\"white\",\"linecolor\":\"white\",\"ticks\":\"\"}},\"coloraxis\":{\"colorbar\":{\"outlinewidth\":0,\"ticks\":\"\"}},\"colorscale\":{\"sequential\":[[0.0,\"#0d0887\"],[0.1111111111111111,\"#46039f\"],[0.2222222222222222,\"#7201a8\"],[0.3333333333333333,\"#9c179e\"],[0.4444444444444444,\"#bd3786\"],[0.5555555555555556,\"#d8576b\"],[0.6666666666666666,\"#ed7953\"],[0.7777777777777778,\"#fb9f3a\"],[0.8888888888888888,\"#fdca26\"],[1.0,\"#f0f921\"]],\"sequentialminus\":[[0.0,\"#0d0887\"],[0.1111111111111111,\"#46039f\"],[0.2222222222222222,\"#7201a8\"],[0.3333333333333333,\"#9c179e\"],[0.4444444444444444,\"#bd3786\"],[0.5555555555555556,\"#d8576b\"],[0.6666666666666666,\"#ed7953\"],[0.7777777777777778,\"#fb9f3a\"],[0.8888888888888888,\"#fdca26\"],[1.0,\"#f0f921\"]],\"diverging\":[[0,\"#8e0152\"],[0.1,\"#c51b7d\"],[0.2,\"#de77ae\"],[0.3,\"#f1b6da\"],[0.4,\"#fde0ef\"],[0.5,\"#f7f7f7\"],[0.6,\"#e6f5d0\"],[0.7,\"#b8e186\"],[0.8,\"#7fbc41\"],[0.9,\"#4d9221\"],[1,\"#276419\"]]},\"xaxis\":{\"gridcolor\":\"white\",\"linecolor\":\"white\",\"ticks\":\"\",\"title\":{\"standoff\":15},\"zerolinecolor\":\"white\",\"automargin\":true,\"zerolinewidth\":2},\"yaxis\":{\"gridcolor\":\"white\",\"linecolor\":\"white\",\"ticks\":\"\",\"title\":{\"standoff\":15},\"zerolinecolor\":\"white\",\"automargin\":true,\"zerolinewidth\":2},\"scene\":{\"xaxis\":{\"backgroundcolor\":\"#E5ECF6\",\"gridcolor\":\"white\",\"linecolor\":\"white\",\"showbackground\":true,\"ticks\":\"\",\"zerolinecolor\":\"white\",\"gridwidth\":2},\"yaxis\":{\"backgroundcolor\":\"#E5ECF6\",\"gridcolor\":\"white\",\"linecolor\":\"white\",\"showbackground\":true,\"ticks\":\"\",\"zerolinecolor\":\"white\",\"gridwidth\":2},\"zaxis\":{\"backgroundcolor\":\"#E5ECF6\",\"gridcolor\":\"white\",\"linecolor\":\"white\",\"showbackground\":true,\"ticks\":\"\",\"zerolinecolor\":\"white\",\"gridwidth\":2}},\"shapedefaults\":{\"line\":{\"color\":\"#2a3f5f\"}},\"annotationdefaults\":{\"arrowcolor\":\"#2a3f5f\",\"arrowhead\":0,\"arrowwidth\":1},\"geo\":{\"bgcolor\":\"white\",\"landcolor\":\"#E5ECF6\",\"subunitcolor\":\"white\",\"showland\":true,\"showlakes\":true,\"lakecolor\":\"white\"},\"title\":{\"x\":0.05},\"mapbox\":{\"style\":\"light\"}}},\"xaxis\":{\"anchor\":\"y\",\"domain\":[0.0,1.0],\"title\":{\"text\":\"group\"}},\"yaxis\":{\"anchor\":\"x\",\"domain\":[0.0,1.0],\"title\":{\"text\":\"all_cells - Number of Objects\"}},\"legend\":{\"tracegroupgap\":0},\"margin\":{\"t\":60},\"barmode\":\"group\"},                        {\"responsive\": true}                    ).then(function(){\n",
       "                            \n",
       "var gd = document.getElementById('81305db5-f121-4804-8e7f-4eb1749dec2b');\n",
       "var x = new MutationObserver(function (mutations, observer) {{\n",
       "        var display = window.getComputedStyle(gd).display;\n",
       "        if (!display || display === 'none') {{\n",
       "            console.log([gd, 'removed!']);\n",
       "            Plotly.purge(gd);\n",
       "            observer.disconnect();\n",
       "        }}\n",
       "}});\n",
       "\n",
       "// Listen for the removal of the full notebook cells\n",
       "var notebookContainer = gd.closest('#notebook-container');\n",
       "if (notebookContainer) {{\n",
       "    x.observe(notebookContainer, {childList: true});\n",
       "}}\n",
       "\n",
       "// Listen for the clearing of the current output cell\n",
       "var outputEl = gd.closest('.output');\n",
       "if (outputEl) {{\n",
       "    x.observe(outputEl, {childList: true});\n",
       "}}\n",
       "\n",
       "                        })                };                });            </script>        </div>"
      ]
     },
     "metadata": {},
     "output_type": "display_data"
    }
   ],
   "source": [
    "#count per group\n",
    "mfn1_df_count = mfn1_df.groupby(level=1).mean()\n",
    "mfn1_df_count = mfn1_df_count.reset_index()\n",
    "count_cells = px.bar(mfn1_df_count, x = \"group\", y = \"all_cells - Number of Objects\",\n",
    "            barmode = 'group')\n",
    "\n",
    "count_cells.show()"
   ]
  },
  {
   "cell_type": "code",
   "execution_count": null,
   "id": "a7fba43e",
   "metadata": {},
   "outputs": [],
   "source": [
    "#keep features by corelation analysis\n",
    "mfn1_df2 = mfn1_df[['group', 'group_with_id', \"group_with_p\", \"Cell ID\", \"group_p\",\n",
    "                           \"spots_chanel_4_final - Intensity_Spot chanel_4_final Mean - Mean per Well\", \"total_ir_chanel_4_normalized\"]]\n",
    "mfn1_df2.columns = [str(col) + '_mfn1' for col in mfn1_df2.columns]\n",
    "mfn1_df2 = mfn1_df2.rename(\n",
    "     columns={\"group_mfn1\":\"group\",\n",
    "              \"group_with_id_mfn1\":\"group_with_id\",\n",
    "              \"group_with_p_mfn1\":\"group_with_p\",\n",
    "              \"group_p_mfn1\":\"group_p\",\n",
    "              \"Cell ID_mfn1\":\"Cell_id\",\n",
    "              \"spots_chanel_4_final - Intensity_Spot chanel_4_final Mean - Mean per Well_mfn1\":\"mfn1_intensity\",\n",
    "              \"total_ir_chanel_4_normalized_mfn1\":\"mfn1_area\"})\n",
    "print(mfn1_df2)\n",
    "mfn1_df2.to_csv(path + \"//\" + 'mfn1_df2.csv', index=None)    "
   ]
  },
  {
   "cell_type": "code",
   "execution_count": null,
   "id": "2cf29d0a",
   "metadata": {},
   "outputs": [],
   "source": [
    "#summary 2\n",
    "mfn1_df_sum = mfn1_df2.drop(columns=[\"group\", \"group_with_id\",\"group_with_p\", \"group_p\"])\n",
    "mfn1_df_sum = mfn1_df_sum.reset_index()\n",
    "mfn1_df_sum = mfn1_df_sum.drop(columns=[\"Cell_id\", \"group_with_id\",\"group\", \"level_0\", \"group_p\"])\n",
    "sum2 = summarize_dataframe(mfn1_df_sum, \"group_with_p\")\n",
    "sum2 = sum2.reset_index()\n",
    "sum2.to_csv(path + \"//\" + 'mfn1_sum2b.csv', index=None)"
   ]
  },
  {
   "cell_type": "code",
   "execution_count": 174,
   "id": "4a57c827",
   "metadata": {},
   "outputs": [],
   "source": [
    "mfn1_df2.to_csv(path + \"//\" + 'mfn1_df3.csv', index=None)"
   ]
  },
  {
   "cell_type": "code",
   "execution_count": null,
   "id": "30689883",
   "metadata": {},
   "outputs": [],
   "source": [
    "# OUTLIER DETECTION MODE \n",
    "DataFrame_OutliersDetections = mfn1_df2.copy()\n",
    "types = mfn1_df2[\"group\"].unique()\n",
    "mask = []\n",
    "features = mfn1_df2.columns[5:]\n",
    "#['LysoSpots-RSI', 'LysoSpots-CSI', 'LysoSpots-USPI', 'LysoSpots-SC', 'LysoSpots-SBI', 'LysoSpots-RI', 'LysoSpots-STRI', 'LysoSpots-SAUM', 'LysoSpots-SR', 'TmreSpots-RSI', 'TmreSpots-CSI', 'TmreSpots-USPI', 'TmreSpots-SC', 'TmreSpots-SBI', 'TmreSpots-SAPX', 'TmreSpots-RI', 'TmreSpots-STRI', 'TmreSpots-SAUM', 'TmreIArea-UM', 'TmreIArea-R', 'LysoIArea-UM', 'LysoIArea-R', 'TmreIntensityMean', 'TmreIntensitySum', 'Calceinarea', 'CalceinR', 'Nucarea', 'NucR', 'TmreTSarea', 'LysointensityMean', 'LysointensitySum', 'LysoTSarea', 'CalceinIntensityMean', 'NucIntensityMean']\n",
    "# features = ['LysoSpots-RSI', 'LysoSpots-CSI', 'LysoSpots-USPI', 'LysoSpots-SC', 'LysoSpots-SBI', 'LysoSpots-SAPX', 'LysoSpots-RI', 'LysoSpots-STRI', 'LysoSpots-SAUM', 'LysoSpots-SR', 'TmreSpots-RSI', 'TmreSpots-CSI', 'TmreSpots-USPI', 'TmreSpots-SC', 'TmreSpots-SBI', 'TmreSpots-SAPX', 'TmreSpots-RI', 'TmreSpots-STRI', 'TmreSpots-SAUM', 'TmreIArea-UM', 'TmreIArea-R', 'LysoIArea-UM', 'LysoIArea-R', 'TmreIntensityMean', 'TmreIntensitySum', 'Calceinarea', 'CalceinR', 'Nucarea', 'NucR', 'TmreTSarea', 'LysointensityMean', 'LysointensitySum', 'LysoTSarea', 'CalceinIntensityMean', 'NucIntensityMean']\n",
    "print(types)\n",
    "# detector_list = ['pca_approx', 'robust_cov']\n",
    "\n",
    "\n",
    "detector_list = [\n",
    "    \n",
    "        (\n",
    "        \"Local Outlier Factor 8\",\n",
    "        LocalOutlierFactor(n_neighbors=8),\n",
    "    ),\n",
    "    (\n",
    "        \"Local Outlier Factor 10\",\n",
    "        LocalOutlierFactor(n_neighbors=10),\n",
    "    ),\n",
    "        (\n",
    "         \"Local Outlier Factor 30\",\n",
    "        LocalOutlierFactor(n_neighbors=30),\n",
    "        ),\n",
    "    ]"
   ]
  },
  {
   "cell_type": "code",
   "execution_count": 34,
   "id": "a188efdd",
   "metadata": {},
   "outputs": [],
   "source": [
    "for name, algorithm in detector_list:\n",
    "    errors = np.full(len(DataFrame_OutliersDetections),fill_value=np.nan)\n",
    "    outliers = np.full(len(DataFrame_OutliersDetections),fill_value=np.nan)\n",
    "\n",
    "    for type in types:\n",
    "        x = DataFrame_OutliersDetections.loc[:,features].values\n",
    "        F = x.sum(1)\n",
    "        mask = np.zeros(x.shape[0])\n",
    "        mask[np.isfinite(F)] = 1\n",
    "        mask_type = mask * np.array(DataFrame_OutliersDetections[\"group\"] == type)\n",
    "        Curr_df = DataFrame_OutliersDetections.loc[mask_type==1,features]\n",
    "\n",
    "        x = Curr_df.values\n",
    "        if name == 'pca_approx':\n",
    "\n",
    "            x = StandardScaler().fit_transform(x)\n",
    "            # F = x.sum(1)\n",
    "            # x = x[np.isfinite(F),:]\n",
    "            # mask[1-np.isfinite(F)] = False\n",
    "            # pd.DataFrame(data = Curr_df, columns = features).head()\n",
    "            # pca = PCA(n_components=2)\n",
    "            lower_dimensional_data = algorithm.fit_transform(x)\n",
    "            pproximation = algorithm.inverse_transform(lower_dimensional_data)\n",
    "\n",
    "            err = np.linalg.norm(x-pproximation,2,axis=1)\n",
    "\n",
    "            errors[mask_type==1] = err\n",
    "            outliers[mask_type==1] = (err < 5) * 2 - 1\n",
    "            if False:\n",
    "                plt.scatter(lower_dimensional_data[:,0],lower_dimensional_data[:,1],c=err>5)\n",
    "                plt.title(type)\n",
    "                plt.show()\n",
    "        else:\n",
    "            algorithm.fit(x)\n",
    "            if name == \"Robust covariance\":\n",
    "                errors[mask_type==1] = algorithm.mahalanobis(x)\n",
    "                outliers[mask_type==1] = algorithm.predict(x)\n",
    "\n",
    "            if  \"Local Outlier Factor\" in name:\n",
    "                errors[mask_type==1] = algorithm.negative_outlier_factor_\n",
    "                outliers[mask_type==1] = algorithm.fit_predict(x)\n",
    "            else:\n",
    "                y_pred = algorithm.fit(x).predict(x)\n",
    "\n",
    "\n",
    "\n",
    "        # Curr_df[name] = errors[mask_type==1]\n",
    "        # Curr_df[f'{name}_outliers'] = outliers[mask_type==1]\n",
    "        # Curr_df.set_index(name, inplace = True,\n",
    "        #                         append = True, drop = False)\n",
    "        # file =   f'{type}_df_outliers_det.csv'\n",
    "        # Curr_df.to_csv(file)\n",
    "    DataFrame_OutliersDetections[name] = errors\n",
    "    DataFrame_OutliersDetections[f'{name}_outliers'] = outliers\n",
    "    DataFrame_OutliersDetections.set_index(name, inplace = True,\n",
    "                            append = True, drop = False)\n",
    "\n",
    "    DataFrame_OutliersDetections.to_csv(path + \"//\" + 'mfn1_df4.csv', index=None)    "
   ]
  },
  {
   "cell_type": "code",
   "execution_count": null,
   "id": "ab4604cb",
   "metadata": {},
   "outputs": [],
   "source": [
    "DataFrame_OutliersDetections[\"group\"].value_counts()"
   ]
  },
  {
   "cell_type": "code",
   "execution_count": null,
   "id": "23ec89f1",
   "metadata": {},
   "outputs": [],
   "source": [
    "df_clean = DataFrame_OutliersDetections[DataFrame_OutliersDetections['Local Outlier Factor 8_outliers'] == 1]\n",
    "df_clean[\"group\"].value_counts()"
   ]
  },
  {
   "cell_type": "code",
   "execution_count": null,
   "id": "36eae47d",
   "metadata": {},
   "outputs": [],
   "source": [
    "## export for integ"
   ]
  },
  {
   "cell_type": "code",
   "execution_count": null,
   "id": "db6dc7f6",
   "metadata": {},
   "outputs": [],
   "source": [
    "df_integ = df_clean.groupby(level=2).mean()\n",
    "df_integ = df_integ.reset_index()"
   ]
  },
  {
   "cell_type": "code",
   "execution_count": 181,
   "id": "f69c7aa4",
   "metadata": {},
   "outputs": [],
   "source": [
    "df_clean.to_csv(path + \"//\" + 'mfn1_df5.csv', index=None)  \n",
    "df_integ.to_csv(path + \"//\" + 'mfn1_df_integ.csv', index=None)  "
   ]
  },
  {
   "cell_type": "code",
   "execution_count": null,
   "id": "c7521244",
   "metadata": {},
   "outputs": [],
   "source": [
    "##normalize data"
   ]
  },
  {
   "cell_type": "code",
   "execution_count": 183,
   "id": "2556ed88",
   "metadata": {
    "scrolled": false
   },
   "outputs": [
    {
     "name": "stderr",
     "output_type": "stream",
     "text": [
      "C:\\Users\\Uri8s\\AppData\\Local\\Temp/ipykernel_27488/1008584565.py:3: FutureWarning:\n",
      "\n",
      "Dropping of nuisance columns in DataFrame reductions (with 'numeric_only=None') is deprecated; in a future version this will raise TypeError.  Select only valid columns before calling the reduction.\n",
      "\n"
     ]
    }
   ],
   "source": [
    "#hc mean norm\n",
    "hc = df_clean[(df_clean['group'] == 'HCDMSO')]\n",
    "hc_mean = hc.mean()\n",
    "Nh_df = df_clean/hc_mean"
   ]
  },
  {
   "cell_type": "code",
   "execution_count": 186,
   "id": "981d84e2",
   "metadata": {},
   "outputs": [],
   "source": [
    "df_log = df_clean.drop(columns=[\"group_with_p\", \"group\", \"group_with_id\", \"group_p\",\n",
    "                           'Local Outlier Factor 8', \"Cell_id\",\n",
    "       'Local Outlier Factor 8_outliers', 'Local Outlier Factor 10',\n",
    "       'Local Outlier Factor 10_outliers', 'Local Outlier Factor 30',\n",
    "       'Local Outlier Factor 30_outliers'])\n",
    "for col in df_log:\n",
    "    df_log[col] = np.log(df_log[col])\n",
    "    NL_df = df_log.copy()"
   ]
  },
  {
   "cell_type": "code",
   "execution_count": 190,
   "id": "72815a33",
   "metadata": {},
   "outputs": [],
   "source": [
    "df_log_2 = df_clean.drop(columns=[\"group_with_p\", \"group\", \"group_with_id\", \"group_p\",\n",
    "                           'Local Outlier Factor 8', \"Cell_id\",\n",
    "       'Local Outlier Factor 8_outliers', 'Local Outlier Factor 10',\n",
    "       'Local Outlier Factor 10_outliers', 'Local Outlier Factor 30',\n",
    "       'Local Outlier Factor 30_outliers'])\n",
    "for col in df_log_2:\n",
    "        df_log_2[col] = np.log(1+df_log_2[col]-min(df_log_2[col]))\n",
    "        NL2_df = df_log_2.copy()"
   ]
  },
  {
   "cell_type": "code",
   "execution_count": 191,
   "id": "ca10dd0d",
   "metadata": {},
   "outputs": [],
   "source": [
    "df_max_scaled = df_clean.drop(columns=[\"group_with_p\", \"group\", \"group_with_id\", \"group_p\",\n",
    "                           'Local Outlier Factor 8', \"Cell_id\",\n",
    "       'Local Outlier Factor 8_outliers', 'Local Outlier Factor 10',\n",
    "       'Local Outlier Factor 10_outliers', 'Local Outlier Factor 30',\n",
    "       'Local Outlier Factor 30_outliers'])\n",
    "for column in df_max_scaled.columns:\n",
    "        df_max_scaled[column] = df_max_scaled[column]  / df_max_scaled[column].abs().max()\n",
    "        NM_df = df_max_scaled.copy()"
   ]
  },
  {
   "cell_type": "code",
   "execution_count": 192,
   "id": "cd339918",
   "metadata": {},
   "outputs": [
    {
     "name": "stdout",
     "output_type": "stream",
     "text": [
      "done\n"
     ]
    }
   ],
   "source": [
    "#initialze the excel writer\n",
    "writer = pd.ExcelWriter(path + '//' + 'mfn1_normalzied-excel.xlsx', engine='xlsxwriter')\n",
    "\n",
    "    #store your dataframes in a  dict, where the key is the sheet name you want\n",
    "frames = {'hc': Nh_df, 'log': NL_df, 'log2':NL2_df,\n",
    "              'max': NM_df}\n",
    "    #frames = {'HCUN': HCUN, 'DSUN': DSUN}\n",
    "    #now loop thru and put each on a specific sheet\n",
    "for sheet, frame in  frames.items(): # .use .items for python 3.X\n",
    "    frame.to_excel(writer, sheet_name = sheet)\n",
    "\n",
    "    #critical last step\n",
    "writer.save()\n",
    "    #writer.close()\n",
    "print('done')"
   ]
  },
  {
   "cell_type": "code",
   "execution_count": null,
   "id": "bb448219",
   "metadata": {},
   "outputs": [],
   "source": [
    "#feat QC"
   ]
  },
  {
   "cell_type": "code",
   "execution_count": null,
   "id": "610d51e2",
   "metadata": {},
   "outputs": [],
   "source": [
    "df_var_calc = df_clean.copy()\n",
    "df_var_calc = df_var_calc.drop(columns=['Local Outlier Factor 30', 'Local Outlier Factor 30_outliers',\n",
    "       'Local Outlier Factor 10', 'Local Outlier Factor 10_outliers',\n",
    "       'Local Outlier Factor 8', 'Local Outlier Factor 8_outliers', 'group', \"Cell_id\",\n",
    "       'group_with_id', 'group_with_p', 'group_p'])"
   ]
  },
  {
   "cell_type": "code",
   "execution_count": null,
   "id": "d37c8834",
   "metadata": {},
   "outputs": [],
   "source": [
    "#variance each feature\n",
    "feature_variances = df_var_calc.var()\n",
    "\n",
    "##standard deviation each feature\n",
    "feature_std_devs = df_var_calc.std()\n",
    "\n",
    "###CV each feature\n",
    "feature_cv = df_var_calc.std() / df_var_calc.mean()\n",
    "\n",
    "###printresults\n",
    "print(\"Feature Variance:\")\n",
    "print(feature_variances)\n",
    "\n",
    "print(\"\\nFeature Standard Deviation:\")\n",
    "print(feature_std_devs)\n",
    "\n",
    "print(\"\\nFeature Coefficient of Variation (CV):\")\n",
    "print(feature_cv)\n",
    "\n",
    "\n",
    "feature_variances.to_csv(path + \"//\" + 'mfn1-feature_variances.csv', index=None)\n",
    "feature_std_devs.to_csv(path + \"//\" + 'mfn1-feature_std_devs.csv', index=None)\n",
    "feature_cv.to_csv(path + \"//\" + 'mfn1-feature_coefficient_of_variation.csv', index=None)"
   ]
  },
  {
   "cell_type": "code",
   "execution_count": null,
   "id": "464e5b49",
   "metadata": {},
   "outputs": [],
   "source": [
    "# Visualization\n",
    "# Plot feature variances\n",
    "plt.bar(range(len(feature_variances)), feature_variances, align='center')\n",
    "plt.xticks(range(len(feature_variances)), feature_variances.index, rotation=45)\n",
    "plt.title('Feature Variance')\n",
    "plt.ylabel('Variance')\n",
    "plt.xlabel('features')\n",
    "plt.show()\n",
    "plt.savefig(path + '//' + \"mfn1-feature_var.pdf\", dpi = 600)\n",
    "plt.close()\n",
    "print(\"var_done!\")"
   ]
  },
  {
   "cell_type": "code",
   "execution_count": null,
   "id": "b887c0f3",
   "metadata": {},
   "outputs": [],
   "source": [
    "# Plot feature standard deviations\n",
    "plt.bar(range(len(feature_std_devs)), feature_std_devs, align='center')\n",
    "plt.xticks(range(len(feature_std_devs)), feature_std_devs.index, rotation=45)\n",
    "plt.title('Feature Standard Deviation')\n",
    "plt.ylabel('Standard Deviation')\n",
    "plt.xlabel('features')\n",
    "plt.show()\n",
    "plt.savefig(path + '//' + \"mfn1-feature_sd.pdf\", dpi = 600)\n",
    "plt.close()\n",
    "print(\"sd_done!\")"
   ]
  },
  {
   "cell_type": "code",
   "execution_count": null,
   "id": "be1b9b47",
   "metadata": {},
   "outputs": [],
   "source": [
    "# Plot feature coefficient of variation\n",
    "plt.bar(range(len(feature_cv)), feature_cv, align='center')\n",
    "plt.xticks(range(len(feature_cv)), feature_cv.index, rotation=45)\n",
    "plt.title('Feature Coefficient of Variation (CV)')\n",
    "plt.ylabel('Coefficient of Variation')\n",
    "plt.xlabel('features')\n",
    "plt.show()\n",
    "plt.savefig(path + '//' + \"mfn1-feature_cv.pdf\", dpi = 600)\n",
    "plt.close()\n",
    "print(\"cv_done!\")\n",
    "\n",
    "plt.tight_layout()\n",
    "plt.show()"
   ]
  },
  {
   "cell_type": "code",
   "execution_count": 83,
   "id": "217575b3",
   "metadata": {},
   "outputs": [],
   "source": [
    "### make sure to groupby mean before plotting"
   ]
  },
  {
   "cell_type": "code",
   "execution_count": null,
   "id": "9ef5f582",
   "metadata": {},
   "outputs": [],
   "source": [
    "df_plot = df_log.groupby(level=2).mean()\n",
    "df_plot = df_plot.reset_index()"
   ]
  },
  {
   "cell_type": "code",
   "execution_count": 200,
   "id": "98938d2f",
   "metadata": {
    "scrolled": true
   },
   "outputs": [
    {
     "data": {
      "application/vnd.plotly.v1+json": {
       "config": {
        "plotlyServerURL": "https://plot.ly"
       },
       "data": [
        {
         "alignmentgroup": "True",
         "hovertemplate": "group_with_id=%{y}<extra></extra>",
         "legendgroup": "",
         "marker": {
          "color": "#636efa",
          "pattern": {
           "shape": ""
          }
         },
         "name": "",
         "offsetgroup": "",
         "orientation": "v",
         "showlegend": false,
         "textposition": "auto",
         "type": "bar",
         "x": [
          "HCDMSO1016.0",
          "HCDMSO143.0",
          "HCDMSO1650.0",
          "HCDMSO1653.0",
          "HCDMSO495.0",
          "HCDMSO951.0",
          "MDMSO4212.0",
          "MDMSO4715.0",
          "MDMSO4721.0",
          "MDMSO4799.0",
          "MDMSO4819.0",
          "MDMSO4887.0",
          "Mmdivi1 25uM4212.0",
          "Mmdivi1 25uM4715.0",
          "Mmdivi1 25uM4721.0",
          "Mmdivi1 25uM4799.0",
          "Mmdivi1 25uM4819.0",
          "PREDMSO4689.0",
          "PREDMSO4717.0",
          "PREDMSO4719.0",
          "PREDMSO4837.0",
          "PREmdivi1 25uM4689.0",
          "PREmdivi1 25uM4717.0",
          "PREmdivi1 25uM4719.0",
          "PREmdivi1 25uM4837.0",
          "SDMSO2165.0",
          "SDMSO305.0",
          "SDMSO4287.0",
          "SDMSO4476.0",
          "SDMSO4687.0",
          "SDMSO4709.0",
          "SDMSO4807.0",
          "Smdivi1 25uM2165.0",
          "Smdivi1 25uM305.0",
          "Smdivi1 25uM4287.0",
          "Smdivi1 25uM4476.0",
          "Smdivi1 25uM4687.0",
          "Smdivi1 25uM4709.0",
          "Smdivi1 25uM4807.0"
         ],
         "xaxis": "x",
         "y": [
          "HCDMSO1016.0",
          "HCDMSO143.0",
          "HCDMSO1650.0",
          "HCDMSO1653.0",
          "HCDMSO495.0",
          "HCDMSO951.0",
          "MDMSO4212.0",
          "MDMSO4715.0",
          "MDMSO4721.0",
          "MDMSO4799.0",
          "MDMSO4819.0",
          "MDMSO4887.0",
          "Mmdivi1 25uM4212.0",
          "Mmdivi1 25uM4715.0",
          "Mmdivi1 25uM4721.0",
          "Mmdivi1 25uM4799.0",
          "Mmdivi1 25uM4819.0",
          "PREDMSO4689.0",
          "PREDMSO4717.0",
          "PREDMSO4719.0",
          "PREDMSO4837.0",
          "PREmdivi1 25uM4689.0",
          "PREmdivi1 25uM4717.0",
          "PREmdivi1 25uM4719.0",
          "PREmdivi1 25uM4837.0",
          "SDMSO2165.0",
          "SDMSO305.0",
          "SDMSO4287.0",
          "SDMSO4476.0",
          "SDMSO4687.0",
          "SDMSO4709.0",
          "SDMSO4807.0",
          "Smdivi1 25uM2165.0",
          "Smdivi1 25uM305.0",
          "Smdivi1 25uM4287.0",
          "Smdivi1 25uM4476.0",
          "Smdivi1 25uM4687.0",
          "Smdivi1 25uM4709.0",
          "Smdivi1 25uM4807.0"
         ],
         "yaxis": "y"
        }
       ],
       "layout": {
        "barmode": "group",
        "legend": {
         "tracegroupgap": 0
        },
        "margin": {
         "t": 60
        },
        "template": {
         "data": {
          "bar": [
           {
            "error_x": {
             "color": "#2a3f5f"
            },
            "error_y": {
             "color": "#2a3f5f"
            },
            "marker": {
             "line": {
              "color": "#E5ECF6",
              "width": 0.5
             },
             "pattern": {
              "fillmode": "overlay",
              "size": 10,
              "solidity": 0.2
             }
            },
            "type": "bar"
           }
          ],
          "barpolar": [
           {
            "marker": {
             "line": {
              "color": "#E5ECF6",
              "width": 0.5
             },
             "pattern": {
              "fillmode": "overlay",
              "size": 10,
              "solidity": 0.2
             }
            },
            "type": "barpolar"
           }
          ],
          "carpet": [
           {
            "aaxis": {
             "endlinecolor": "#2a3f5f",
             "gridcolor": "white",
             "linecolor": "white",
             "minorgridcolor": "white",
             "startlinecolor": "#2a3f5f"
            },
            "baxis": {
             "endlinecolor": "#2a3f5f",
             "gridcolor": "white",
             "linecolor": "white",
             "minorgridcolor": "white",
             "startlinecolor": "#2a3f5f"
            },
            "type": "carpet"
           }
          ],
          "choropleth": [
           {
            "colorbar": {
             "outlinewidth": 0,
             "ticks": ""
            },
            "type": "choropleth"
           }
          ],
          "contour": [
           {
            "colorbar": {
             "outlinewidth": 0,
             "ticks": ""
            },
            "colorscale": [
             [
              0,
              "#0d0887"
             ],
             [
              0.1111111111111111,
              "#46039f"
             ],
             [
              0.2222222222222222,
              "#7201a8"
             ],
             [
              0.3333333333333333,
              "#9c179e"
             ],
             [
              0.4444444444444444,
              "#bd3786"
             ],
             [
              0.5555555555555556,
              "#d8576b"
             ],
             [
              0.6666666666666666,
              "#ed7953"
             ],
             [
              0.7777777777777778,
              "#fb9f3a"
             ],
             [
              0.8888888888888888,
              "#fdca26"
             ],
             [
              1,
              "#f0f921"
             ]
            ],
            "type": "contour"
           }
          ],
          "contourcarpet": [
           {
            "colorbar": {
             "outlinewidth": 0,
             "ticks": ""
            },
            "type": "contourcarpet"
           }
          ],
          "heatmap": [
           {
            "colorbar": {
             "outlinewidth": 0,
             "ticks": ""
            },
            "colorscale": [
             [
              0,
              "#0d0887"
             ],
             [
              0.1111111111111111,
              "#46039f"
             ],
             [
              0.2222222222222222,
              "#7201a8"
             ],
             [
              0.3333333333333333,
              "#9c179e"
             ],
             [
              0.4444444444444444,
              "#bd3786"
             ],
             [
              0.5555555555555556,
              "#d8576b"
             ],
             [
              0.6666666666666666,
              "#ed7953"
             ],
             [
              0.7777777777777778,
              "#fb9f3a"
             ],
             [
              0.8888888888888888,
              "#fdca26"
             ],
             [
              1,
              "#f0f921"
             ]
            ],
            "type": "heatmap"
           }
          ],
          "heatmapgl": [
           {
            "colorbar": {
             "outlinewidth": 0,
             "ticks": ""
            },
            "colorscale": [
             [
              0,
              "#0d0887"
             ],
             [
              0.1111111111111111,
              "#46039f"
             ],
             [
              0.2222222222222222,
              "#7201a8"
             ],
             [
              0.3333333333333333,
              "#9c179e"
             ],
             [
              0.4444444444444444,
              "#bd3786"
             ],
             [
              0.5555555555555556,
              "#d8576b"
             ],
             [
              0.6666666666666666,
              "#ed7953"
             ],
             [
              0.7777777777777778,
              "#fb9f3a"
             ],
             [
              0.8888888888888888,
              "#fdca26"
             ],
             [
              1,
              "#f0f921"
             ]
            ],
            "type": "heatmapgl"
           }
          ],
          "histogram": [
           {
            "marker": {
             "pattern": {
              "fillmode": "overlay",
              "size": 10,
              "solidity": 0.2
             }
            },
            "type": "histogram"
           }
          ],
          "histogram2d": [
           {
            "colorbar": {
             "outlinewidth": 0,
             "ticks": ""
            },
            "colorscale": [
             [
              0,
              "#0d0887"
             ],
             [
              0.1111111111111111,
              "#46039f"
             ],
             [
              0.2222222222222222,
              "#7201a8"
             ],
             [
              0.3333333333333333,
              "#9c179e"
             ],
             [
              0.4444444444444444,
              "#bd3786"
             ],
             [
              0.5555555555555556,
              "#d8576b"
             ],
             [
              0.6666666666666666,
              "#ed7953"
             ],
             [
              0.7777777777777778,
              "#fb9f3a"
             ],
             [
              0.8888888888888888,
              "#fdca26"
             ],
             [
              1,
              "#f0f921"
             ]
            ],
            "type": "histogram2d"
           }
          ],
          "histogram2dcontour": [
           {
            "colorbar": {
             "outlinewidth": 0,
             "ticks": ""
            },
            "colorscale": [
             [
              0,
              "#0d0887"
             ],
             [
              0.1111111111111111,
              "#46039f"
             ],
             [
              0.2222222222222222,
              "#7201a8"
             ],
             [
              0.3333333333333333,
              "#9c179e"
             ],
             [
              0.4444444444444444,
              "#bd3786"
             ],
             [
              0.5555555555555556,
              "#d8576b"
             ],
             [
              0.6666666666666666,
              "#ed7953"
             ],
             [
              0.7777777777777778,
              "#fb9f3a"
             ],
             [
              0.8888888888888888,
              "#fdca26"
             ],
             [
              1,
              "#f0f921"
             ]
            ],
            "type": "histogram2dcontour"
           }
          ],
          "mesh3d": [
           {
            "colorbar": {
             "outlinewidth": 0,
             "ticks": ""
            },
            "type": "mesh3d"
           }
          ],
          "parcoords": [
           {
            "line": {
             "colorbar": {
              "outlinewidth": 0,
              "ticks": ""
             }
            },
            "type": "parcoords"
           }
          ],
          "pie": [
           {
            "automargin": true,
            "type": "pie"
           }
          ],
          "scatter": [
           {
            "fillpattern": {
             "fillmode": "overlay",
             "size": 10,
             "solidity": 0.2
            },
            "type": "scatter"
           }
          ],
          "scatter3d": [
           {
            "line": {
             "colorbar": {
              "outlinewidth": 0,
              "ticks": ""
             }
            },
            "marker": {
             "colorbar": {
              "outlinewidth": 0,
              "ticks": ""
             }
            },
            "type": "scatter3d"
           }
          ],
          "scattercarpet": [
           {
            "marker": {
             "colorbar": {
              "outlinewidth": 0,
              "ticks": ""
             }
            },
            "type": "scattercarpet"
           }
          ],
          "scattergeo": [
           {
            "marker": {
             "colorbar": {
              "outlinewidth": 0,
              "ticks": ""
             }
            },
            "type": "scattergeo"
           }
          ],
          "scattergl": [
           {
            "marker": {
             "colorbar": {
              "outlinewidth": 0,
              "ticks": ""
             }
            },
            "type": "scattergl"
           }
          ],
          "scattermapbox": [
           {
            "marker": {
             "colorbar": {
              "outlinewidth": 0,
              "ticks": ""
             }
            },
            "type": "scattermapbox"
           }
          ],
          "scatterpolar": [
           {
            "marker": {
             "colorbar": {
              "outlinewidth": 0,
              "ticks": ""
             }
            },
            "type": "scatterpolar"
           }
          ],
          "scatterpolargl": [
           {
            "marker": {
             "colorbar": {
              "outlinewidth": 0,
              "ticks": ""
             }
            },
            "type": "scatterpolargl"
           }
          ],
          "scatterternary": [
           {
            "marker": {
             "colorbar": {
              "outlinewidth": 0,
              "ticks": ""
             }
            },
            "type": "scatterternary"
           }
          ],
          "surface": [
           {
            "colorbar": {
             "outlinewidth": 0,
             "ticks": ""
            },
            "colorscale": [
             [
              0,
              "#0d0887"
             ],
             [
              0.1111111111111111,
              "#46039f"
             ],
             [
              0.2222222222222222,
              "#7201a8"
             ],
             [
              0.3333333333333333,
              "#9c179e"
             ],
             [
              0.4444444444444444,
              "#bd3786"
             ],
             [
              0.5555555555555556,
              "#d8576b"
             ],
             [
              0.6666666666666666,
              "#ed7953"
             ],
             [
              0.7777777777777778,
              "#fb9f3a"
             ],
             [
              0.8888888888888888,
              "#fdca26"
             ],
             [
              1,
              "#f0f921"
             ]
            ],
            "type": "surface"
           }
          ],
          "table": [
           {
            "cells": {
             "fill": {
              "color": "#EBF0F8"
             },
             "line": {
              "color": "white"
             }
            },
            "header": {
             "fill": {
              "color": "#C8D4E3"
             },
             "line": {
              "color": "white"
             }
            },
            "type": "table"
           }
          ]
         },
         "layout": {
          "annotationdefaults": {
           "arrowcolor": "#2a3f5f",
           "arrowhead": 0,
           "arrowwidth": 1
          },
          "autotypenumbers": "strict",
          "coloraxis": {
           "colorbar": {
            "outlinewidth": 0,
            "ticks": ""
           }
          },
          "colorscale": {
           "diverging": [
            [
             0,
             "#8e0152"
            ],
            [
             0.1,
             "#c51b7d"
            ],
            [
             0.2,
             "#de77ae"
            ],
            [
             0.3,
             "#f1b6da"
            ],
            [
             0.4,
             "#fde0ef"
            ],
            [
             0.5,
             "#f7f7f7"
            ],
            [
             0.6,
             "#e6f5d0"
            ],
            [
             0.7,
             "#b8e186"
            ],
            [
             0.8,
             "#7fbc41"
            ],
            [
             0.9,
             "#4d9221"
            ],
            [
             1,
             "#276419"
            ]
           ],
           "sequential": [
            [
             0,
             "#0d0887"
            ],
            [
             0.1111111111111111,
             "#46039f"
            ],
            [
             0.2222222222222222,
             "#7201a8"
            ],
            [
             0.3333333333333333,
             "#9c179e"
            ],
            [
             0.4444444444444444,
             "#bd3786"
            ],
            [
             0.5555555555555556,
             "#d8576b"
            ],
            [
             0.6666666666666666,
             "#ed7953"
            ],
            [
             0.7777777777777778,
             "#fb9f3a"
            ],
            [
             0.8888888888888888,
             "#fdca26"
            ],
            [
             1,
             "#f0f921"
            ]
           ],
           "sequentialminus": [
            [
             0,
             "#0d0887"
            ],
            [
             0.1111111111111111,
             "#46039f"
            ],
            [
             0.2222222222222222,
             "#7201a8"
            ],
            [
             0.3333333333333333,
             "#9c179e"
            ],
            [
             0.4444444444444444,
             "#bd3786"
            ],
            [
             0.5555555555555556,
             "#d8576b"
            ],
            [
             0.6666666666666666,
             "#ed7953"
            ],
            [
             0.7777777777777778,
             "#fb9f3a"
            ],
            [
             0.8888888888888888,
             "#fdca26"
            ],
            [
             1,
             "#f0f921"
            ]
           ]
          },
          "colorway": [
           "#636efa",
           "#EF553B",
           "#00cc96",
           "#ab63fa",
           "#FFA15A",
           "#19d3f3",
           "#FF6692",
           "#B6E880",
           "#FF97FF",
           "#FECB52"
          ],
          "font": {
           "color": "#2a3f5f"
          },
          "geo": {
           "bgcolor": "white",
           "lakecolor": "white",
           "landcolor": "#E5ECF6",
           "showlakes": true,
           "showland": true,
           "subunitcolor": "white"
          },
          "hoverlabel": {
           "align": "left"
          },
          "hovermode": "closest",
          "mapbox": {
           "style": "light"
          },
          "paper_bgcolor": "white",
          "plot_bgcolor": "#E5ECF6",
          "polar": {
           "angularaxis": {
            "gridcolor": "white",
            "linecolor": "white",
            "ticks": ""
           },
           "bgcolor": "#E5ECF6",
           "radialaxis": {
            "gridcolor": "white",
            "linecolor": "white",
            "ticks": ""
           }
          },
          "scene": {
           "xaxis": {
            "backgroundcolor": "#E5ECF6",
            "gridcolor": "white",
            "gridwidth": 2,
            "linecolor": "white",
            "showbackground": true,
            "ticks": "",
            "zerolinecolor": "white"
           },
           "yaxis": {
            "backgroundcolor": "#E5ECF6",
            "gridcolor": "white",
            "gridwidth": 2,
            "linecolor": "white",
            "showbackground": true,
            "ticks": "",
            "zerolinecolor": "white"
           },
           "zaxis": {
            "backgroundcolor": "#E5ECF6",
            "gridcolor": "white",
            "gridwidth": 2,
            "linecolor": "white",
            "showbackground": true,
            "ticks": "",
            "zerolinecolor": "white"
           }
          },
          "shapedefaults": {
           "line": {
            "color": "#2a3f5f"
           }
          },
          "ternary": {
           "aaxis": {
            "gridcolor": "white",
            "linecolor": "white",
            "ticks": ""
           },
           "baxis": {
            "gridcolor": "white",
            "linecolor": "white",
            "ticks": ""
           },
           "bgcolor": "#E5ECF6",
           "caxis": {
            "gridcolor": "white",
            "linecolor": "white",
            "ticks": ""
           }
          },
          "title": {
           "x": 0.05
          },
          "xaxis": {
           "automargin": true,
           "gridcolor": "white",
           "linecolor": "white",
           "ticks": "",
           "title": {
            "standoff": 15
           },
           "zerolinecolor": "white",
           "zerolinewidth": 2
          },
          "yaxis": {
           "automargin": true,
           "gridcolor": "white",
           "linecolor": "white",
           "ticks": "",
           "title": {
            "standoff": 15
           },
           "zerolinecolor": "white",
           "zerolinewidth": 2
          }
         }
        },
        "xaxis": {
         "anchor": "y",
         "domain": [
          0,
          1
         ],
         "title": {
          "text": "group_with_id"
         }
        },
        "yaxis": {
         "anchor": "x",
         "domain": [
          0,
          1
         ],
         "title": {
          "text": "group_with_id"
         }
        }
       }
      },
      "text/html": [
       "<div>                            <div id=\"191630b1-798c-4b05-8943-b69a87d45a3f\" class=\"plotly-graph-div\" style=\"height:525px; width:100%;\"></div>            <script type=\"text/javascript\">                require([\"plotly\"], function(Plotly) {                    window.PLOTLYENV=window.PLOTLYENV || {};                                    if (document.getElementById(\"191630b1-798c-4b05-8943-b69a87d45a3f\")) {                    Plotly.newPlot(                        \"191630b1-798c-4b05-8943-b69a87d45a3f\",                        [{\"alignmentgroup\":\"True\",\"hovertemplate\":\"group_with_id=%{y}<extra></extra>\",\"legendgroup\":\"\",\"marker\":{\"color\":\"#636efa\",\"pattern\":{\"shape\":\"\"}},\"name\":\"\",\"offsetgroup\":\"\",\"orientation\":\"v\",\"showlegend\":false,\"textposition\":\"auto\",\"x\":[\"HCDMSO1016.0\",\"HCDMSO143.0\",\"HCDMSO1650.0\",\"HCDMSO1653.0\",\"HCDMSO495.0\",\"HCDMSO951.0\",\"MDMSO4212.0\",\"MDMSO4715.0\",\"MDMSO4721.0\",\"MDMSO4799.0\",\"MDMSO4819.0\",\"MDMSO4887.0\",\"Mmdivi1 25uM4212.0\",\"Mmdivi1 25uM4715.0\",\"Mmdivi1 25uM4721.0\",\"Mmdivi1 25uM4799.0\",\"Mmdivi1 25uM4819.0\",\"PREDMSO4689.0\",\"PREDMSO4717.0\",\"PREDMSO4719.0\",\"PREDMSO4837.0\",\"PREmdivi1 25uM4689.0\",\"PREmdivi1 25uM4717.0\",\"PREmdivi1 25uM4719.0\",\"PREmdivi1 25uM4837.0\",\"SDMSO2165.0\",\"SDMSO305.0\",\"SDMSO4287.0\",\"SDMSO4476.0\",\"SDMSO4687.0\",\"SDMSO4709.0\",\"SDMSO4807.0\",\"Smdivi1 25uM2165.0\",\"Smdivi1 25uM305.0\",\"Smdivi1 25uM4287.0\",\"Smdivi1 25uM4476.0\",\"Smdivi1 25uM4687.0\",\"Smdivi1 25uM4709.0\",\"Smdivi1 25uM4807.0\"],\"xaxis\":\"x\",\"y\":[\"HCDMSO1016.0\",\"HCDMSO143.0\",\"HCDMSO1650.0\",\"HCDMSO1653.0\",\"HCDMSO495.0\",\"HCDMSO951.0\",\"MDMSO4212.0\",\"MDMSO4715.0\",\"MDMSO4721.0\",\"MDMSO4799.0\",\"MDMSO4819.0\",\"MDMSO4887.0\",\"Mmdivi1 25uM4212.0\",\"Mmdivi1 25uM4715.0\",\"Mmdivi1 25uM4721.0\",\"Mmdivi1 25uM4799.0\",\"Mmdivi1 25uM4819.0\",\"PREDMSO4689.0\",\"PREDMSO4717.0\",\"PREDMSO4719.0\",\"PREDMSO4837.0\",\"PREmdivi1 25uM4689.0\",\"PREmdivi1 25uM4717.0\",\"PREmdivi1 25uM4719.0\",\"PREmdivi1 25uM4837.0\",\"SDMSO2165.0\",\"SDMSO305.0\",\"SDMSO4287.0\",\"SDMSO4476.0\",\"SDMSO4687.0\",\"SDMSO4709.0\",\"SDMSO4807.0\",\"Smdivi1 25uM2165.0\",\"Smdivi1 25uM305.0\",\"Smdivi1 25uM4287.0\",\"Smdivi1 25uM4476.0\",\"Smdivi1 25uM4687.0\",\"Smdivi1 25uM4709.0\",\"Smdivi1 25uM4807.0\"],\"yaxis\":\"y\",\"type\":\"bar\"}],                        {\"template\":{\"data\":{\"histogram2dcontour\":[{\"type\":\"histogram2dcontour\",\"colorbar\":{\"outlinewidth\":0,\"ticks\":\"\"},\"colorscale\":[[0.0,\"#0d0887\"],[0.1111111111111111,\"#46039f\"],[0.2222222222222222,\"#7201a8\"],[0.3333333333333333,\"#9c179e\"],[0.4444444444444444,\"#bd3786\"],[0.5555555555555556,\"#d8576b\"],[0.6666666666666666,\"#ed7953\"],[0.7777777777777778,\"#fb9f3a\"],[0.8888888888888888,\"#fdca26\"],[1.0,\"#f0f921\"]]}],\"choropleth\":[{\"type\":\"choropleth\",\"colorbar\":{\"outlinewidth\":0,\"ticks\":\"\"}}],\"histogram2d\":[{\"type\":\"histogram2d\",\"colorbar\":{\"outlinewidth\":0,\"ticks\":\"\"},\"colorscale\":[[0.0,\"#0d0887\"],[0.1111111111111111,\"#46039f\"],[0.2222222222222222,\"#7201a8\"],[0.3333333333333333,\"#9c179e\"],[0.4444444444444444,\"#bd3786\"],[0.5555555555555556,\"#d8576b\"],[0.6666666666666666,\"#ed7953\"],[0.7777777777777778,\"#fb9f3a\"],[0.8888888888888888,\"#fdca26\"],[1.0,\"#f0f921\"]]}],\"heatmap\":[{\"type\":\"heatmap\",\"colorbar\":{\"outlinewidth\":0,\"ticks\":\"\"},\"colorscale\":[[0.0,\"#0d0887\"],[0.1111111111111111,\"#46039f\"],[0.2222222222222222,\"#7201a8\"],[0.3333333333333333,\"#9c179e\"],[0.4444444444444444,\"#bd3786\"],[0.5555555555555556,\"#d8576b\"],[0.6666666666666666,\"#ed7953\"],[0.7777777777777778,\"#fb9f3a\"],[0.8888888888888888,\"#fdca26\"],[1.0,\"#f0f921\"]]}],\"heatmapgl\":[{\"type\":\"heatmapgl\",\"colorbar\":{\"outlinewidth\":0,\"ticks\":\"\"},\"colorscale\":[[0.0,\"#0d0887\"],[0.1111111111111111,\"#46039f\"],[0.2222222222222222,\"#7201a8\"],[0.3333333333333333,\"#9c179e\"],[0.4444444444444444,\"#bd3786\"],[0.5555555555555556,\"#d8576b\"],[0.6666666666666666,\"#ed7953\"],[0.7777777777777778,\"#fb9f3a\"],[0.8888888888888888,\"#fdca26\"],[1.0,\"#f0f921\"]]}],\"contourcarpet\":[{\"type\":\"contourcarpet\",\"colorbar\":{\"outlinewidth\":0,\"ticks\":\"\"}}],\"contour\":[{\"type\":\"contour\",\"colorbar\":{\"outlinewidth\":0,\"ticks\":\"\"},\"colorscale\":[[0.0,\"#0d0887\"],[0.1111111111111111,\"#46039f\"],[0.2222222222222222,\"#7201a8\"],[0.3333333333333333,\"#9c179e\"],[0.4444444444444444,\"#bd3786\"],[0.5555555555555556,\"#d8576b\"],[0.6666666666666666,\"#ed7953\"],[0.7777777777777778,\"#fb9f3a\"],[0.8888888888888888,\"#fdca26\"],[1.0,\"#f0f921\"]]}],\"surface\":[{\"type\":\"surface\",\"colorbar\":{\"outlinewidth\":0,\"ticks\":\"\"},\"colorscale\":[[0.0,\"#0d0887\"],[0.1111111111111111,\"#46039f\"],[0.2222222222222222,\"#7201a8\"],[0.3333333333333333,\"#9c179e\"],[0.4444444444444444,\"#bd3786\"],[0.5555555555555556,\"#d8576b\"],[0.6666666666666666,\"#ed7953\"],[0.7777777777777778,\"#fb9f3a\"],[0.8888888888888888,\"#fdca26\"],[1.0,\"#f0f921\"]]}],\"mesh3d\":[{\"type\":\"mesh3d\",\"colorbar\":{\"outlinewidth\":0,\"ticks\":\"\"}}],\"scatter\":[{\"fillpattern\":{\"fillmode\":\"overlay\",\"size\":10,\"solidity\":0.2},\"type\":\"scatter\"}],\"parcoords\":[{\"type\":\"parcoords\",\"line\":{\"colorbar\":{\"outlinewidth\":0,\"ticks\":\"\"}}}],\"scatterpolargl\":[{\"type\":\"scatterpolargl\",\"marker\":{\"colorbar\":{\"outlinewidth\":0,\"ticks\":\"\"}}}],\"bar\":[{\"error_x\":{\"color\":\"#2a3f5f\"},\"error_y\":{\"color\":\"#2a3f5f\"},\"marker\":{\"line\":{\"color\":\"#E5ECF6\",\"width\":0.5},\"pattern\":{\"fillmode\":\"overlay\",\"size\":10,\"solidity\":0.2}},\"type\":\"bar\"}],\"scattergeo\":[{\"type\":\"scattergeo\",\"marker\":{\"colorbar\":{\"outlinewidth\":0,\"ticks\":\"\"}}}],\"scatterpolar\":[{\"type\":\"scatterpolar\",\"marker\":{\"colorbar\":{\"outlinewidth\":0,\"ticks\":\"\"}}}],\"histogram\":[{\"marker\":{\"pattern\":{\"fillmode\":\"overlay\",\"size\":10,\"solidity\":0.2}},\"type\":\"histogram\"}],\"scattergl\":[{\"type\":\"scattergl\",\"marker\":{\"colorbar\":{\"outlinewidth\":0,\"ticks\":\"\"}}}],\"scatter3d\":[{\"type\":\"scatter3d\",\"line\":{\"colorbar\":{\"outlinewidth\":0,\"ticks\":\"\"}},\"marker\":{\"colorbar\":{\"outlinewidth\":0,\"ticks\":\"\"}}}],\"scattermapbox\":[{\"type\":\"scattermapbox\",\"marker\":{\"colorbar\":{\"outlinewidth\":0,\"ticks\":\"\"}}}],\"scatterternary\":[{\"type\":\"scatterternary\",\"marker\":{\"colorbar\":{\"outlinewidth\":0,\"ticks\":\"\"}}}],\"scattercarpet\":[{\"type\":\"scattercarpet\",\"marker\":{\"colorbar\":{\"outlinewidth\":0,\"ticks\":\"\"}}}],\"carpet\":[{\"aaxis\":{\"endlinecolor\":\"#2a3f5f\",\"gridcolor\":\"white\",\"linecolor\":\"white\",\"minorgridcolor\":\"white\",\"startlinecolor\":\"#2a3f5f\"},\"baxis\":{\"endlinecolor\":\"#2a3f5f\",\"gridcolor\":\"white\",\"linecolor\":\"white\",\"minorgridcolor\":\"white\",\"startlinecolor\":\"#2a3f5f\"},\"type\":\"carpet\"}],\"table\":[{\"cells\":{\"fill\":{\"color\":\"#EBF0F8\"},\"line\":{\"color\":\"white\"}},\"header\":{\"fill\":{\"color\":\"#C8D4E3\"},\"line\":{\"color\":\"white\"}},\"type\":\"table\"}],\"barpolar\":[{\"marker\":{\"line\":{\"color\":\"#E5ECF6\",\"width\":0.5},\"pattern\":{\"fillmode\":\"overlay\",\"size\":10,\"solidity\":0.2}},\"type\":\"barpolar\"}],\"pie\":[{\"automargin\":true,\"type\":\"pie\"}]},\"layout\":{\"autotypenumbers\":\"strict\",\"colorway\":[\"#636efa\",\"#EF553B\",\"#00cc96\",\"#ab63fa\",\"#FFA15A\",\"#19d3f3\",\"#FF6692\",\"#B6E880\",\"#FF97FF\",\"#FECB52\"],\"font\":{\"color\":\"#2a3f5f\"},\"hovermode\":\"closest\",\"hoverlabel\":{\"align\":\"left\"},\"paper_bgcolor\":\"white\",\"plot_bgcolor\":\"#E5ECF6\",\"polar\":{\"bgcolor\":\"#E5ECF6\",\"angularaxis\":{\"gridcolor\":\"white\",\"linecolor\":\"white\",\"ticks\":\"\"},\"radialaxis\":{\"gridcolor\":\"white\",\"linecolor\":\"white\",\"ticks\":\"\"}},\"ternary\":{\"bgcolor\":\"#E5ECF6\",\"aaxis\":{\"gridcolor\":\"white\",\"linecolor\":\"white\",\"ticks\":\"\"},\"baxis\":{\"gridcolor\":\"white\",\"linecolor\":\"white\",\"ticks\":\"\"},\"caxis\":{\"gridcolor\":\"white\",\"linecolor\":\"white\",\"ticks\":\"\"}},\"coloraxis\":{\"colorbar\":{\"outlinewidth\":0,\"ticks\":\"\"}},\"colorscale\":{\"sequential\":[[0.0,\"#0d0887\"],[0.1111111111111111,\"#46039f\"],[0.2222222222222222,\"#7201a8\"],[0.3333333333333333,\"#9c179e\"],[0.4444444444444444,\"#bd3786\"],[0.5555555555555556,\"#d8576b\"],[0.6666666666666666,\"#ed7953\"],[0.7777777777777778,\"#fb9f3a\"],[0.8888888888888888,\"#fdca26\"],[1.0,\"#f0f921\"]],\"sequentialminus\":[[0.0,\"#0d0887\"],[0.1111111111111111,\"#46039f\"],[0.2222222222222222,\"#7201a8\"],[0.3333333333333333,\"#9c179e\"],[0.4444444444444444,\"#bd3786\"],[0.5555555555555556,\"#d8576b\"],[0.6666666666666666,\"#ed7953\"],[0.7777777777777778,\"#fb9f3a\"],[0.8888888888888888,\"#fdca26\"],[1.0,\"#f0f921\"]],\"diverging\":[[0,\"#8e0152\"],[0.1,\"#c51b7d\"],[0.2,\"#de77ae\"],[0.3,\"#f1b6da\"],[0.4,\"#fde0ef\"],[0.5,\"#f7f7f7\"],[0.6,\"#e6f5d0\"],[0.7,\"#b8e186\"],[0.8,\"#7fbc41\"],[0.9,\"#4d9221\"],[1,\"#276419\"]]},\"xaxis\":{\"gridcolor\":\"white\",\"linecolor\":\"white\",\"ticks\":\"\",\"title\":{\"standoff\":15},\"zerolinecolor\":\"white\",\"automargin\":true,\"zerolinewidth\":2},\"yaxis\":{\"gridcolor\":\"white\",\"linecolor\":\"white\",\"ticks\":\"\",\"title\":{\"standoff\":15},\"zerolinecolor\":\"white\",\"automargin\":true,\"zerolinewidth\":2},\"scene\":{\"xaxis\":{\"backgroundcolor\":\"#E5ECF6\",\"gridcolor\":\"white\",\"linecolor\":\"white\",\"showbackground\":true,\"ticks\":\"\",\"zerolinecolor\":\"white\",\"gridwidth\":2},\"yaxis\":{\"backgroundcolor\":\"#E5ECF6\",\"gridcolor\":\"white\",\"linecolor\":\"white\",\"showbackground\":true,\"ticks\":\"\",\"zerolinecolor\":\"white\",\"gridwidth\":2},\"zaxis\":{\"backgroundcolor\":\"#E5ECF6\",\"gridcolor\":\"white\",\"linecolor\":\"white\",\"showbackground\":true,\"ticks\":\"\",\"zerolinecolor\":\"white\",\"gridwidth\":2}},\"shapedefaults\":{\"line\":{\"color\":\"#2a3f5f\"}},\"annotationdefaults\":{\"arrowcolor\":\"#2a3f5f\",\"arrowhead\":0,\"arrowwidth\":1},\"geo\":{\"bgcolor\":\"white\",\"landcolor\":\"#E5ECF6\",\"subunitcolor\":\"white\",\"showland\":true,\"showlakes\":true,\"lakecolor\":\"white\"},\"title\":{\"x\":0.05},\"mapbox\":{\"style\":\"light\"}}},\"xaxis\":{\"anchor\":\"y\",\"domain\":[0.0,1.0],\"title\":{\"text\":\"group_with_id\"}},\"yaxis\":{\"anchor\":\"x\",\"domain\":[0.0,1.0],\"title\":{\"text\":\"group_with_id\"}},\"legend\":{\"tracegroupgap\":0},\"margin\":{\"t\":60},\"barmode\":\"group\"},                        {\"responsive\": true}                    ).then(function(){\n",
       "                            \n",
       "var gd = document.getElementById('191630b1-798c-4b05-8943-b69a87d45a3f');\n",
       "var x = new MutationObserver(function (mutations, observer) {{\n",
       "        var display = window.getComputedStyle(gd).display;\n",
       "        if (!display || display === 'none') {{\n",
       "            console.log([gd, 'removed!']);\n",
       "            Plotly.purge(gd);\n",
       "            observer.disconnect();\n",
       "        }}\n",
       "}});\n",
       "\n",
       "// Listen for the removal of the full notebook cells\n",
       "var notebookContainer = gd.closest('#notebook-container');\n",
       "if (notebookContainer) {{\n",
       "    x.observe(notebookContainer, {childList: true});\n",
       "}}\n",
       "\n",
       "// Listen for the clearing of the current output cell\n",
       "var outputEl = gd.closest('.output');\n",
       "if (outputEl) {{\n",
       "    x.observe(outputEl, {childList: true});\n",
       "}}\n",
       "\n",
       "                        })                };                });            </script>        </div>"
      ]
     },
     "metadata": {},
     "output_type": "display_data"
    },
    {
     "data": {
      "application/vnd.plotly.v1+json": {
       "config": {
        "plotlyServerURL": "https://plot.ly"
       },
       "data": [
        {
         "alignmentgroup": "True",
         "hovertemplate": "group_with_id=%{x}<br>mfn1_intensity=%{y}<extra></extra>",
         "legendgroup": "",
         "marker": {
          "color": "#636efa",
          "pattern": {
           "shape": ""
          }
         },
         "name": "",
         "offsetgroup": "",
         "orientation": "v",
         "showlegend": false,
         "textposition": "auto",
         "type": "bar",
         "x": [
          "HCDMSO1016.0",
          "HCDMSO143.0",
          "HCDMSO1650.0",
          "HCDMSO1653.0",
          "HCDMSO495.0",
          "HCDMSO951.0",
          "MDMSO4212.0",
          "MDMSO4715.0",
          "MDMSO4721.0",
          "MDMSO4799.0",
          "MDMSO4819.0",
          "MDMSO4887.0",
          "Mmdivi1 25uM4212.0",
          "Mmdivi1 25uM4715.0",
          "Mmdivi1 25uM4721.0",
          "Mmdivi1 25uM4799.0",
          "Mmdivi1 25uM4819.0",
          "PREDMSO4689.0",
          "PREDMSO4717.0",
          "PREDMSO4719.0",
          "PREDMSO4837.0",
          "PREmdivi1 25uM4689.0",
          "PREmdivi1 25uM4717.0",
          "PREmdivi1 25uM4719.0",
          "PREmdivi1 25uM4837.0",
          "SDMSO2165.0",
          "SDMSO305.0",
          "SDMSO4287.0",
          "SDMSO4476.0",
          "SDMSO4687.0",
          "SDMSO4709.0",
          "SDMSO4807.0",
          "Smdivi1 25uM2165.0",
          "Smdivi1 25uM305.0",
          "Smdivi1 25uM4287.0",
          "Smdivi1 25uM4476.0",
          "Smdivi1 25uM4687.0",
          "Smdivi1 25uM4709.0",
          "Smdivi1 25uM4807.0"
         ],
         "xaxis": "x",
         "y": [
          4.5345777806445495,
          4.544287345852938,
          4.534732227874322,
          4.524030697710609,
          4.551539954895855,
          4.515458780182242,
          4.526475820432058,
          4.525377352310774,
          4.549411470584796,
          4.539536458233819,
          4.572780235864115,
          4.597850425163195,
          4.52389065335092,
          4.503317593430614,
          4.528861451973132,
          4.500467436959502,
          4.475945640160486,
          4.519051769637512,
          4.593691056177351,
          4.548204809719182,
          4.501957115705767,
          4.51654534074202,
          4.594215765921158,
          4.534319694044854,
          4.519267044361116,
          4.547030747207319,
          4.526217276729361,
          4.518704849705693,
          4.5022154892856765,
          4.620180728102869,
          4.465534581905388,
          4.472248197031009,
          4.534664580778312,
          4.4767024362478605,
          4.5098226577409495,
          4.52597129965672,
          4.633844666658465,
          4.476060978265261,
          4.470291552679765
         ],
         "yaxis": "y"
        }
       ],
       "layout": {
        "barmode": "group",
        "legend": {
         "tracegroupgap": 0
        },
        "margin": {
         "t": 60
        },
        "template": {
         "data": {
          "bar": [
           {
            "error_x": {
             "color": "#2a3f5f"
            },
            "error_y": {
             "color": "#2a3f5f"
            },
            "marker": {
             "line": {
              "color": "#E5ECF6",
              "width": 0.5
             },
             "pattern": {
              "fillmode": "overlay",
              "size": 10,
              "solidity": 0.2
             }
            },
            "type": "bar"
           }
          ],
          "barpolar": [
           {
            "marker": {
             "line": {
              "color": "#E5ECF6",
              "width": 0.5
             },
             "pattern": {
              "fillmode": "overlay",
              "size": 10,
              "solidity": 0.2
             }
            },
            "type": "barpolar"
           }
          ],
          "carpet": [
           {
            "aaxis": {
             "endlinecolor": "#2a3f5f",
             "gridcolor": "white",
             "linecolor": "white",
             "minorgridcolor": "white",
             "startlinecolor": "#2a3f5f"
            },
            "baxis": {
             "endlinecolor": "#2a3f5f",
             "gridcolor": "white",
             "linecolor": "white",
             "minorgridcolor": "white",
             "startlinecolor": "#2a3f5f"
            },
            "type": "carpet"
           }
          ],
          "choropleth": [
           {
            "colorbar": {
             "outlinewidth": 0,
             "ticks": ""
            },
            "type": "choropleth"
           }
          ],
          "contour": [
           {
            "colorbar": {
             "outlinewidth": 0,
             "ticks": ""
            },
            "colorscale": [
             [
              0,
              "#0d0887"
             ],
             [
              0.1111111111111111,
              "#46039f"
             ],
             [
              0.2222222222222222,
              "#7201a8"
             ],
             [
              0.3333333333333333,
              "#9c179e"
             ],
             [
              0.4444444444444444,
              "#bd3786"
             ],
             [
              0.5555555555555556,
              "#d8576b"
             ],
             [
              0.6666666666666666,
              "#ed7953"
             ],
             [
              0.7777777777777778,
              "#fb9f3a"
             ],
             [
              0.8888888888888888,
              "#fdca26"
             ],
             [
              1,
              "#f0f921"
             ]
            ],
            "type": "contour"
           }
          ],
          "contourcarpet": [
           {
            "colorbar": {
             "outlinewidth": 0,
             "ticks": ""
            },
            "type": "contourcarpet"
           }
          ],
          "heatmap": [
           {
            "colorbar": {
             "outlinewidth": 0,
             "ticks": ""
            },
            "colorscale": [
             [
              0,
              "#0d0887"
             ],
             [
              0.1111111111111111,
              "#46039f"
             ],
             [
              0.2222222222222222,
              "#7201a8"
             ],
             [
              0.3333333333333333,
              "#9c179e"
             ],
             [
              0.4444444444444444,
              "#bd3786"
             ],
             [
              0.5555555555555556,
              "#d8576b"
             ],
             [
              0.6666666666666666,
              "#ed7953"
             ],
             [
              0.7777777777777778,
              "#fb9f3a"
             ],
             [
              0.8888888888888888,
              "#fdca26"
             ],
             [
              1,
              "#f0f921"
             ]
            ],
            "type": "heatmap"
           }
          ],
          "heatmapgl": [
           {
            "colorbar": {
             "outlinewidth": 0,
             "ticks": ""
            },
            "colorscale": [
             [
              0,
              "#0d0887"
             ],
             [
              0.1111111111111111,
              "#46039f"
             ],
             [
              0.2222222222222222,
              "#7201a8"
             ],
             [
              0.3333333333333333,
              "#9c179e"
             ],
             [
              0.4444444444444444,
              "#bd3786"
             ],
             [
              0.5555555555555556,
              "#d8576b"
             ],
             [
              0.6666666666666666,
              "#ed7953"
             ],
             [
              0.7777777777777778,
              "#fb9f3a"
             ],
             [
              0.8888888888888888,
              "#fdca26"
             ],
             [
              1,
              "#f0f921"
             ]
            ],
            "type": "heatmapgl"
           }
          ],
          "histogram": [
           {
            "marker": {
             "pattern": {
              "fillmode": "overlay",
              "size": 10,
              "solidity": 0.2
             }
            },
            "type": "histogram"
           }
          ],
          "histogram2d": [
           {
            "colorbar": {
             "outlinewidth": 0,
             "ticks": ""
            },
            "colorscale": [
             [
              0,
              "#0d0887"
             ],
             [
              0.1111111111111111,
              "#46039f"
             ],
             [
              0.2222222222222222,
              "#7201a8"
             ],
             [
              0.3333333333333333,
              "#9c179e"
             ],
             [
              0.4444444444444444,
              "#bd3786"
             ],
             [
              0.5555555555555556,
              "#d8576b"
             ],
             [
              0.6666666666666666,
              "#ed7953"
             ],
             [
              0.7777777777777778,
              "#fb9f3a"
             ],
             [
              0.8888888888888888,
              "#fdca26"
             ],
             [
              1,
              "#f0f921"
             ]
            ],
            "type": "histogram2d"
           }
          ],
          "histogram2dcontour": [
           {
            "colorbar": {
             "outlinewidth": 0,
             "ticks": ""
            },
            "colorscale": [
             [
              0,
              "#0d0887"
             ],
             [
              0.1111111111111111,
              "#46039f"
             ],
             [
              0.2222222222222222,
              "#7201a8"
             ],
             [
              0.3333333333333333,
              "#9c179e"
             ],
             [
              0.4444444444444444,
              "#bd3786"
             ],
             [
              0.5555555555555556,
              "#d8576b"
             ],
             [
              0.6666666666666666,
              "#ed7953"
             ],
             [
              0.7777777777777778,
              "#fb9f3a"
             ],
             [
              0.8888888888888888,
              "#fdca26"
             ],
             [
              1,
              "#f0f921"
             ]
            ],
            "type": "histogram2dcontour"
           }
          ],
          "mesh3d": [
           {
            "colorbar": {
             "outlinewidth": 0,
             "ticks": ""
            },
            "type": "mesh3d"
           }
          ],
          "parcoords": [
           {
            "line": {
             "colorbar": {
              "outlinewidth": 0,
              "ticks": ""
             }
            },
            "type": "parcoords"
           }
          ],
          "pie": [
           {
            "automargin": true,
            "type": "pie"
           }
          ],
          "scatter": [
           {
            "fillpattern": {
             "fillmode": "overlay",
             "size": 10,
             "solidity": 0.2
            },
            "type": "scatter"
           }
          ],
          "scatter3d": [
           {
            "line": {
             "colorbar": {
              "outlinewidth": 0,
              "ticks": ""
             }
            },
            "marker": {
             "colorbar": {
              "outlinewidth": 0,
              "ticks": ""
             }
            },
            "type": "scatter3d"
           }
          ],
          "scattercarpet": [
           {
            "marker": {
             "colorbar": {
              "outlinewidth": 0,
              "ticks": ""
             }
            },
            "type": "scattercarpet"
           }
          ],
          "scattergeo": [
           {
            "marker": {
             "colorbar": {
              "outlinewidth": 0,
              "ticks": ""
             }
            },
            "type": "scattergeo"
           }
          ],
          "scattergl": [
           {
            "marker": {
             "colorbar": {
              "outlinewidth": 0,
              "ticks": ""
             }
            },
            "type": "scattergl"
           }
          ],
          "scattermapbox": [
           {
            "marker": {
             "colorbar": {
              "outlinewidth": 0,
              "ticks": ""
             }
            },
            "type": "scattermapbox"
           }
          ],
          "scatterpolar": [
           {
            "marker": {
             "colorbar": {
              "outlinewidth": 0,
              "ticks": ""
             }
            },
            "type": "scatterpolar"
           }
          ],
          "scatterpolargl": [
           {
            "marker": {
             "colorbar": {
              "outlinewidth": 0,
              "ticks": ""
             }
            },
            "type": "scatterpolargl"
           }
          ],
          "scatterternary": [
           {
            "marker": {
             "colorbar": {
              "outlinewidth": 0,
              "ticks": ""
             }
            },
            "type": "scatterternary"
           }
          ],
          "surface": [
           {
            "colorbar": {
             "outlinewidth": 0,
             "ticks": ""
            },
            "colorscale": [
             [
              0,
              "#0d0887"
             ],
             [
              0.1111111111111111,
              "#46039f"
             ],
             [
              0.2222222222222222,
              "#7201a8"
             ],
             [
              0.3333333333333333,
              "#9c179e"
             ],
             [
              0.4444444444444444,
              "#bd3786"
             ],
             [
              0.5555555555555556,
              "#d8576b"
             ],
             [
              0.6666666666666666,
              "#ed7953"
             ],
             [
              0.7777777777777778,
              "#fb9f3a"
             ],
             [
              0.8888888888888888,
              "#fdca26"
             ],
             [
              1,
              "#f0f921"
             ]
            ],
            "type": "surface"
           }
          ],
          "table": [
           {
            "cells": {
             "fill": {
              "color": "#EBF0F8"
             },
             "line": {
              "color": "white"
             }
            },
            "header": {
             "fill": {
              "color": "#C8D4E3"
             },
             "line": {
              "color": "white"
             }
            },
            "type": "table"
           }
          ]
         },
         "layout": {
          "annotationdefaults": {
           "arrowcolor": "#2a3f5f",
           "arrowhead": 0,
           "arrowwidth": 1
          },
          "autotypenumbers": "strict",
          "coloraxis": {
           "colorbar": {
            "outlinewidth": 0,
            "ticks": ""
           }
          },
          "colorscale": {
           "diverging": [
            [
             0,
             "#8e0152"
            ],
            [
             0.1,
             "#c51b7d"
            ],
            [
             0.2,
             "#de77ae"
            ],
            [
             0.3,
             "#f1b6da"
            ],
            [
             0.4,
             "#fde0ef"
            ],
            [
             0.5,
             "#f7f7f7"
            ],
            [
             0.6,
             "#e6f5d0"
            ],
            [
             0.7,
             "#b8e186"
            ],
            [
             0.8,
             "#7fbc41"
            ],
            [
             0.9,
             "#4d9221"
            ],
            [
             1,
             "#276419"
            ]
           ],
           "sequential": [
            [
             0,
             "#0d0887"
            ],
            [
             0.1111111111111111,
             "#46039f"
            ],
            [
             0.2222222222222222,
             "#7201a8"
            ],
            [
             0.3333333333333333,
             "#9c179e"
            ],
            [
             0.4444444444444444,
             "#bd3786"
            ],
            [
             0.5555555555555556,
             "#d8576b"
            ],
            [
             0.6666666666666666,
             "#ed7953"
            ],
            [
             0.7777777777777778,
             "#fb9f3a"
            ],
            [
             0.8888888888888888,
             "#fdca26"
            ],
            [
             1,
             "#f0f921"
            ]
           ],
           "sequentialminus": [
            [
             0,
             "#0d0887"
            ],
            [
             0.1111111111111111,
             "#46039f"
            ],
            [
             0.2222222222222222,
             "#7201a8"
            ],
            [
             0.3333333333333333,
             "#9c179e"
            ],
            [
             0.4444444444444444,
             "#bd3786"
            ],
            [
             0.5555555555555556,
             "#d8576b"
            ],
            [
             0.6666666666666666,
             "#ed7953"
            ],
            [
             0.7777777777777778,
             "#fb9f3a"
            ],
            [
             0.8888888888888888,
             "#fdca26"
            ],
            [
             1,
             "#f0f921"
            ]
           ]
          },
          "colorway": [
           "#636efa",
           "#EF553B",
           "#00cc96",
           "#ab63fa",
           "#FFA15A",
           "#19d3f3",
           "#FF6692",
           "#B6E880",
           "#FF97FF",
           "#FECB52"
          ],
          "font": {
           "color": "#2a3f5f"
          },
          "geo": {
           "bgcolor": "white",
           "lakecolor": "white",
           "landcolor": "#E5ECF6",
           "showlakes": true,
           "showland": true,
           "subunitcolor": "white"
          },
          "hoverlabel": {
           "align": "left"
          },
          "hovermode": "closest",
          "mapbox": {
           "style": "light"
          },
          "paper_bgcolor": "white",
          "plot_bgcolor": "#E5ECF6",
          "polar": {
           "angularaxis": {
            "gridcolor": "white",
            "linecolor": "white",
            "ticks": ""
           },
           "bgcolor": "#E5ECF6",
           "radialaxis": {
            "gridcolor": "white",
            "linecolor": "white",
            "ticks": ""
           }
          },
          "scene": {
           "xaxis": {
            "backgroundcolor": "#E5ECF6",
            "gridcolor": "white",
            "gridwidth": 2,
            "linecolor": "white",
            "showbackground": true,
            "ticks": "",
            "zerolinecolor": "white"
           },
           "yaxis": {
            "backgroundcolor": "#E5ECF6",
            "gridcolor": "white",
            "gridwidth": 2,
            "linecolor": "white",
            "showbackground": true,
            "ticks": "",
            "zerolinecolor": "white"
           },
           "zaxis": {
            "backgroundcolor": "#E5ECF6",
            "gridcolor": "white",
            "gridwidth": 2,
            "linecolor": "white",
            "showbackground": true,
            "ticks": "",
            "zerolinecolor": "white"
           }
          },
          "shapedefaults": {
           "line": {
            "color": "#2a3f5f"
           }
          },
          "ternary": {
           "aaxis": {
            "gridcolor": "white",
            "linecolor": "white",
            "ticks": ""
           },
           "baxis": {
            "gridcolor": "white",
            "linecolor": "white",
            "ticks": ""
           },
           "bgcolor": "#E5ECF6",
           "caxis": {
            "gridcolor": "white",
            "linecolor": "white",
            "ticks": ""
           }
          },
          "title": {
           "x": 0.05
          },
          "xaxis": {
           "automargin": true,
           "gridcolor": "white",
           "linecolor": "white",
           "ticks": "",
           "title": {
            "standoff": 15
           },
           "zerolinecolor": "white",
           "zerolinewidth": 2
          },
          "yaxis": {
           "automargin": true,
           "gridcolor": "white",
           "linecolor": "white",
           "ticks": "",
           "title": {
            "standoff": 15
           },
           "zerolinecolor": "white",
           "zerolinewidth": 2
          }
         }
        },
        "xaxis": {
         "anchor": "y",
         "domain": [
          0,
          1
         ],
         "title": {
          "text": "group_with_id"
         }
        },
        "yaxis": {
         "anchor": "x",
         "domain": [
          0,
          1
         ],
         "title": {
          "text": "mfn1_intensity"
         }
        }
       }
      },
      "text/html": [
       "<div>                            <div id=\"e759fa5d-c5af-466b-8e29-b7d68b0d32fb\" class=\"plotly-graph-div\" style=\"height:525px; width:100%;\"></div>            <script type=\"text/javascript\">                require([\"plotly\"], function(Plotly) {                    window.PLOTLYENV=window.PLOTLYENV || {};                                    if (document.getElementById(\"e759fa5d-c5af-466b-8e29-b7d68b0d32fb\")) {                    Plotly.newPlot(                        \"e759fa5d-c5af-466b-8e29-b7d68b0d32fb\",                        [{\"alignmentgroup\":\"True\",\"hovertemplate\":\"group_with_id=%{x}<br>mfn1_intensity=%{y}<extra></extra>\",\"legendgroup\":\"\",\"marker\":{\"color\":\"#636efa\",\"pattern\":{\"shape\":\"\"}},\"name\":\"\",\"offsetgroup\":\"\",\"orientation\":\"v\",\"showlegend\":false,\"textposition\":\"auto\",\"x\":[\"HCDMSO1016.0\",\"HCDMSO143.0\",\"HCDMSO1650.0\",\"HCDMSO1653.0\",\"HCDMSO495.0\",\"HCDMSO951.0\",\"MDMSO4212.0\",\"MDMSO4715.0\",\"MDMSO4721.0\",\"MDMSO4799.0\",\"MDMSO4819.0\",\"MDMSO4887.0\",\"Mmdivi1 25uM4212.0\",\"Mmdivi1 25uM4715.0\",\"Mmdivi1 25uM4721.0\",\"Mmdivi1 25uM4799.0\",\"Mmdivi1 25uM4819.0\",\"PREDMSO4689.0\",\"PREDMSO4717.0\",\"PREDMSO4719.0\",\"PREDMSO4837.0\",\"PREmdivi1 25uM4689.0\",\"PREmdivi1 25uM4717.0\",\"PREmdivi1 25uM4719.0\",\"PREmdivi1 25uM4837.0\",\"SDMSO2165.0\",\"SDMSO305.0\",\"SDMSO4287.0\",\"SDMSO4476.0\",\"SDMSO4687.0\",\"SDMSO4709.0\",\"SDMSO4807.0\",\"Smdivi1 25uM2165.0\",\"Smdivi1 25uM305.0\",\"Smdivi1 25uM4287.0\",\"Smdivi1 25uM4476.0\",\"Smdivi1 25uM4687.0\",\"Smdivi1 25uM4709.0\",\"Smdivi1 25uM4807.0\"],\"xaxis\":\"x\",\"y\":[4.5345777806445495,4.544287345852938,4.534732227874322,4.524030697710609,4.551539954895855,4.515458780182242,4.526475820432058,4.525377352310774,4.549411470584796,4.539536458233819,4.572780235864115,4.597850425163195,4.52389065335092,4.503317593430614,4.528861451973132,4.500467436959502,4.475945640160486,4.519051769637512,4.593691056177351,4.548204809719182,4.501957115705767,4.51654534074202,4.594215765921158,4.534319694044854,4.519267044361116,4.547030747207319,4.526217276729361,4.518704849705693,4.5022154892856765,4.620180728102869,4.465534581905388,4.472248197031009,4.534664580778312,4.4767024362478605,4.5098226577409495,4.52597129965672,4.633844666658465,4.476060978265261,4.470291552679765],\"yaxis\":\"y\",\"type\":\"bar\"}],                        {\"template\":{\"data\":{\"histogram2dcontour\":[{\"type\":\"histogram2dcontour\",\"colorbar\":{\"outlinewidth\":0,\"ticks\":\"\"},\"colorscale\":[[0.0,\"#0d0887\"],[0.1111111111111111,\"#46039f\"],[0.2222222222222222,\"#7201a8\"],[0.3333333333333333,\"#9c179e\"],[0.4444444444444444,\"#bd3786\"],[0.5555555555555556,\"#d8576b\"],[0.6666666666666666,\"#ed7953\"],[0.7777777777777778,\"#fb9f3a\"],[0.8888888888888888,\"#fdca26\"],[1.0,\"#f0f921\"]]}],\"choropleth\":[{\"type\":\"choropleth\",\"colorbar\":{\"outlinewidth\":0,\"ticks\":\"\"}}],\"histogram2d\":[{\"type\":\"histogram2d\",\"colorbar\":{\"outlinewidth\":0,\"ticks\":\"\"},\"colorscale\":[[0.0,\"#0d0887\"],[0.1111111111111111,\"#46039f\"],[0.2222222222222222,\"#7201a8\"],[0.3333333333333333,\"#9c179e\"],[0.4444444444444444,\"#bd3786\"],[0.5555555555555556,\"#d8576b\"],[0.6666666666666666,\"#ed7953\"],[0.7777777777777778,\"#fb9f3a\"],[0.8888888888888888,\"#fdca26\"],[1.0,\"#f0f921\"]]}],\"heatmap\":[{\"type\":\"heatmap\",\"colorbar\":{\"outlinewidth\":0,\"ticks\":\"\"},\"colorscale\":[[0.0,\"#0d0887\"],[0.1111111111111111,\"#46039f\"],[0.2222222222222222,\"#7201a8\"],[0.3333333333333333,\"#9c179e\"],[0.4444444444444444,\"#bd3786\"],[0.5555555555555556,\"#d8576b\"],[0.6666666666666666,\"#ed7953\"],[0.7777777777777778,\"#fb9f3a\"],[0.8888888888888888,\"#fdca26\"],[1.0,\"#f0f921\"]]}],\"heatmapgl\":[{\"type\":\"heatmapgl\",\"colorbar\":{\"outlinewidth\":0,\"ticks\":\"\"},\"colorscale\":[[0.0,\"#0d0887\"],[0.1111111111111111,\"#46039f\"],[0.2222222222222222,\"#7201a8\"],[0.3333333333333333,\"#9c179e\"],[0.4444444444444444,\"#bd3786\"],[0.5555555555555556,\"#d8576b\"],[0.6666666666666666,\"#ed7953\"],[0.7777777777777778,\"#fb9f3a\"],[0.8888888888888888,\"#fdca26\"],[1.0,\"#f0f921\"]]}],\"contourcarpet\":[{\"type\":\"contourcarpet\",\"colorbar\":{\"outlinewidth\":0,\"ticks\":\"\"}}],\"contour\":[{\"type\":\"contour\",\"colorbar\":{\"outlinewidth\":0,\"ticks\":\"\"},\"colorscale\":[[0.0,\"#0d0887\"],[0.1111111111111111,\"#46039f\"],[0.2222222222222222,\"#7201a8\"],[0.3333333333333333,\"#9c179e\"],[0.4444444444444444,\"#bd3786\"],[0.5555555555555556,\"#d8576b\"],[0.6666666666666666,\"#ed7953\"],[0.7777777777777778,\"#fb9f3a\"],[0.8888888888888888,\"#fdca26\"],[1.0,\"#f0f921\"]]}],\"surface\":[{\"type\":\"surface\",\"colorbar\":{\"outlinewidth\":0,\"ticks\":\"\"},\"colorscale\":[[0.0,\"#0d0887\"],[0.1111111111111111,\"#46039f\"],[0.2222222222222222,\"#7201a8\"],[0.3333333333333333,\"#9c179e\"],[0.4444444444444444,\"#bd3786\"],[0.5555555555555556,\"#d8576b\"],[0.6666666666666666,\"#ed7953\"],[0.7777777777777778,\"#fb9f3a\"],[0.8888888888888888,\"#fdca26\"],[1.0,\"#f0f921\"]]}],\"mesh3d\":[{\"type\":\"mesh3d\",\"colorbar\":{\"outlinewidth\":0,\"ticks\":\"\"}}],\"scatter\":[{\"fillpattern\":{\"fillmode\":\"overlay\",\"size\":10,\"solidity\":0.2},\"type\":\"scatter\"}],\"parcoords\":[{\"type\":\"parcoords\",\"line\":{\"colorbar\":{\"outlinewidth\":0,\"ticks\":\"\"}}}],\"scatterpolargl\":[{\"type\":\"scatterpolargl\",\"marker\":{\"colorbar\":{\"outlinewidth\":0,\"ticks\":\"\"}}}],\"bar\":[{\"error_x\":{\"color\":\"#2a3f5f\"},\"error_y\":{\"color\":\"#2a3f5f\"},\"marker\":{\"line\":{\"color\":\"#E5ECF6\",\"width\":0.5},\"pattern\":{\"fillmode\":\"overlay\",\"size\":10,\"solidity\":0.2}},\"type\":\"bar\"}],\"scattergeo\":[{\"type\":\"scattergeo\",\"marker\":{\"colorbar\":{\"outlinewidth\":0,\"ticks\":\"\"}}}],\"scatterpolar\":[{\"type\":\"scatterpolar\",\"marker\":{\"colorbar\":{\"outlinewidth\":0,\"ticks\":\"\"}}}],\"histogram\":[{\"marker\":{\"pattern\":{\"fillmode\":\"overlay\",\"size\":10,\"solidity\":0.2}},\"type\":\"histogram\"}],\"scattergl\":[{\"type\":\"scattergl\",\"marker\":{\"colorbar\":{\"outlinewidth\":0,\"ticks\":\"\"}}}],\"scatter3d\":[{\"type\":\"scatter3d\",\"line\":{\"colorbar\":{\"outlinewidth\":0,\"ticks\":\"\"}},\"marker\":{\"colorbar\":{\"outlinewidth\":0,\"ticks\":\"\"}}}],\"scattermapbox\":[{\"type\":\"scattermapbox\",\"marker\":{\"colorbar\":{\"outlinewidth\":0,\"ticks\":\"\"}}}],\"scatterternary\":[{\"type\":\"scatterternary\",\"marker\":{\"colorbar\":{\"outlinewidth\":0,\"ticks\":\"\"}}}],\"scattercarpet\":[{\"type\":\"scattercarpet\",\"marker\":{\"colorbar\":{\"outlinewidth\":0,\"ticks\":\"\"}}}],\"carpet\":[{\"aaxis\":{\"endlinecolor\":\"#2a3f5f\",\"gridcolor\":\"white\",\"linecolor\":\"white\",\"minorgridcolor\":\"white\",\"startlinecolor\":\"#2a3f5f\"},\"baxis\":{\"endlinecolor\":\"#2a3f5f\",\"gridcolor\":\"white\",\"linecolor\":\"white\",\"minorgridcolor\":\"white\",\"startlinecolor\":\"#2a3f5f\"},\"type\":\"carpet\"}],\"table\":[{\"cells\":{\"fill\":{\"color\":\"#EBF0F8\"},\"line\":{\"color\":\"white\"}},\"header\":{\"fill\":{\"color\":\"#C8D4E3\"},\"line\":{\"color\":\"white\"}},\"type\":\"table\"}],\"barpolar\":[{\"marker\":{\"line\":{\"color\":\"#E5ECF6\",\"width\":0.5},\"pattern\":{\"fillmode\":\"overlay\",\"size\":10,\"solidity\":0.2}},\"type\":\"barpolar\"}],\"pie\":[{\"automargin\":true,\"type\":\"pie\"}]},\"layout\":{\"autotypenumbers\":\"strict\",\"colorway\":[\"#636efa\",\"#EF553B\",\"#00cc96\",\"#ab63fa\",\"#FFA15A\",\"#19d3f3\",\"#FF6692\",\"#B6E880\",\"#FF97FF\",\"#FECB52\"],\"font\":{\"color\":\"#2a3f5f\"},\"hovermode\":\"closest\",\"hoverlabel\":{\"align\":\"left\"},\"paper_bgcolor\":\"white\",\"plot_bgcolor\":\"#E5ECF6\",\"polar\":{\"bgcolor\":\"#E5ECF6\",\"angularaxis\":{\"gridcolor\":\"white\",\"linecolor\":\"white\",\"ticks\":\"\"},\"radialaxis\":{\"gridcolor\":\"white\",\"linecolor\":\"white\",\"ticks\":\"\"}},\"ternary\":{\"bgcolor\":\"#E5ECF6\",\"aaxis\":{\"gridcolor\":\"white\",\"linecolor\":\"white\",\"ticks\":\"\"},\"baxis\":{\"gridcolor\":\"white\",\"linecolor\":\"white\",\"ticks\":\"\"},\"caxis\":{\"gridcolor\":\"white\",\"linecolor\":\"white\",\"ticks\":\"\"}},\"coloraxis\":{\"colorbar\":{\"outlinewidth\":0,\"ticks\":\"\"}},\"colorscale\":{\"sequential\":[[0.0,\"#0d0887\"],[0.1111111111111111,\"#46039f\"],[0.2222222222222222,\"#7201a8\"],[0.3333333333333333,\"#9c179e\"],[0.4444444444444444,\"#bd3786\"],[0.5555555555555556,\"#d8576b\"],[0.6666666666666666,\"#ed7953\"],[0.7777777777777778,\"#fb9f3a\"],[0.8888888888888888,\"#fdca26\"],[1.0,\"#f0f921\"]],\"sequentialminus\":[[0.0,\"#0d0887\"],[0.1111111111111111,\"#46039f\"],[0.2222222222222222,\"#7201a8\"],[0.3333333333333333,\"#9c179e\"],[0.4444444444444444,\"#bd3786\"],[0.5555555555555556,\"#d8576b\"],[0.6666666666666666,\"#ed7953\"],[0.7777777777777778,\"#fb9f3a\"],[0.8888888888888888,\"#fdca26\"],[1.0,\"#f0f921\"]],\"diverging\":[[0,\"#8e0152\"],[0.1,\"#c51b7d\"],[0.2,\"#de77ae\"],[0.3,\"#f1b6da\"],[0.4,\"#fde0ef\"],[0.5,\"#f7f7f7\"],[0.6,\"#e6f5d0\"],[0.7,\"#b8e186\"],[0.8,\"#7fbc41\"],[0.9,\"#4d9221\"],[1,\"#276419\"]]},\"xaxis\":{\"gridcolor\":\"white\",\"linecolor\":\"white\",\"ticks\":\"\",\"title\":{\"standoff\":15},\"zerolinecolor\":\"white\",\"automargin\":true,\"zerolinewidth\":2},\"yaxis\":{\"gridcolor\":\"white\",\"linecolor\":\"white\",\"ticks\":\"\",\"title\":{\"standoff\":15},\"zerolinecolor\":\"white\",\"automargin\":true,\"zerolinewidth\":2},\"scene\":{\"xaxis\":{\"backgroundcolor\":\"#E5ECF6\",\"gridcolor\":\"white\",\"linecolor\":\"white\",\"showbackground\":true,\"ticks\":\"\",\"zerolinecolor\":\"white\",\"gridwidth\":2},\"yaxis\":{\"backgroundcolor\":\"#E5ECF6\",\"gridcolor\":\"white\",\"linecolor\":\"white\",\"showbackground\":true,\"ticks\":\"\",\"zerolinecolor\":\"white\",\"gridwidth\":2},\"zaxis\":{\"backgroundcolor\":\"#E5ECF6\",\"gridcolor\":\"white\",\"linecolor\":\"white\",\"showbackground\":true,\"ticks\":\"\",\"zerolinecolor\":\"white\",\"gridwidth\":2}},\"shapedefaults\":{\"line\":{\"color\":\"#2a3f5f\"}},\"annotationdefaults\":{\"arrowcolor\":\"#2a3f5f\",\"arrowhead\":0,\"arrowwidth\":1},\"geo\":{\"bgcolor\":\"white\",\"landcolor\":\"#E5ECF6\",\"subunitcolor\":\"white\",\"showland\":true,\"showlakes\":true,\"lakecolor\":\"white\"},\"title\":{\"x\":0.05},\"mapbox\":{\"style\":\"light\"}}},\"xaxis\":{\"anchor\":\"y\",\"domain\":[0.0,1.0],\"title\":{\"text\":\"group_with_id\"}},\"yaxis\":{\"anchor\":\"x\",\"domain\":[0.0,1.0],\"title\":{\"text\":\"mfn1_intensity\"}},\"legend\":{\"tracegroupgap\":0},\"margin\":{\"t\":60},\"barmode\":\"group\"},                        {\"responsive\": true}                    ).then(function(){\n",
       "                            \n",
       "var gd = document.getElementById('e759fa5d-c5af-466b-8e29-b7d68b0d32fb');\n",
       "var x = new MutationObserver(function (mutations, observer) {{\n",
       "        var display = window.getComputedStyle(gd).display;\n",
       "        if (!display || display === 'none') {{\n",
       "            console.log([gd, 'removed!']);\n",
       "            Plotly.purge(gd);\n",
       "            observer.disconnect();\n",
       "        }}\n",
       "}});\n",
       "\n",
       "// Listen for the removal of the full notebook cells\n",
       "var notebookContainer = gd.closest('#notebook-container');\n",
       "if (notebookContainer) {{\n",
       "    x.observe(notebookContainer, {childList: true});\n",
       "}}\n",
       "\n",
       "// Listen for the clearing of the current output cell\n",
       "var outputEl = gd.closest('.output');\n",
       "if (outputEl) {{\n",
       "    x.observe(outputEl, {childList: true});\n",
       "}}\n",
       "\n",
       "                        })                };                });            </script>        </div>"
      ]
     },
     "metadata": {},
     "output_type": "display_data"
    },
    {
     "data": {
      "application/vnd.plotly.v1+json": {
       "config": {
        "plotlyServerURL": "https://plot.ly"
       },
       "data": [
        {
         "alignmentgroup": "True",
         "hovertemplate": "group_with_id=%{x}<br>mfn1_area=%{y}<extra></extra>",
         "legendgroup": "",
         "marker": {
          "color": "#636efa",
          "pattern": {
           "shape": ""
          }
         },
         "name": "",
         "offsetgroup": "",
         "orientation": "v",
         "showlegend": false,
         "textposition": "auto",
         "type": "bar",
         "x": [
          "HCDMSO1016.0",
          "HCDMSO143.0",
          "HCDMSO1650.0",
          "HCDMSO1653.0",
          "HCDMSO495.0",
          "HCDMSO951.0",
          "MDMSO4212.0",
          "MDMSO4715.0",
          "MDMSO4721.0",
          "MDMSO4799.0",
          "MDMSO4819.0",
          "MDMSO4887.0",
          "Mmdivi1 25uM4212.0",
          "Mmdivi1 25uM4715.0",
          "Mmdivi1 25uM4721.0",
          "Mmdivi1 25uM4799.0",
          "Mmdivi1 25uM4819.0",
          "PREDMSO4689.0",
          "PREDMSO4717.0",
          "PREDMSO4719.0",
          "PREDMSO4837.0",
          "PREmdivi1 25uM4689.0",
          "PREmdivi1 25uM4717.0",
          "PREmdivi1 25uM4719.0",
          "PREmdivi1 25uM4837.0",
          "SDMSO2165.0",
          "SDMSO305.0",
          "SDMSO4287.0",
          "SDMSO4476.0",
          "SDMSO4687.0",
          "SDMSO4709.0",
          "SDMSO4807.0",
          "Smdivi1 25uM2165.0",
          "Smdivi1 25uM305.0",
          "Smdivi1 25uM4287.0",
          "Smdivi1 25uM4476.0",
          "Smdivi1 25uM4687.0",
          "Smdivi1 25uM4709.0",
          "Smdivi1 25uM4807.0"
         ],
         "xaxis": "x",
         "y": [
          6.258424030964783,
          6.268155267427466,
          6.1288818004906815,
          6.258769246992194,
          6.211165404305433,
          6.051885105729052,
          5.927711087952621,
          6.053828734907473,
          5.98056768152104,
          6.074723029712782,
          6.253234241575882,
          6.387136036641596,
          5.996243575893465,
          6.111259533545739,
          5.962717609378252,
          6.092624004681925,
          6.160604365315909,
          6.116931191255867,
          6.202847606845361,
          6.190165998321292,
          6.184630907285725,
          6.234475864562709,
          6.257662716511359,
          6.2624253490387645,
          6.416107717418036,
          5.923293432840525,
          6.144839267459584,
          6.494736579651939,
          5.970918363944419,
          6.372773592108564,
          6.106969265671045,
          6.6061425204003,
          6.293207631423099,
          6.116918088506446,
          6.5346113884704975,
          6.207711939640531,
          6.434358149741931,
          6.355333781627183,
          6.6749615049138376
         ],
         "yaxis": "y"
        }
       ],
       "layout": {
        "barmode": "group",
        "legend": {
         "tracegroupgap": 0
        },
        "margin": {
         "t": 60
        },
        "template": {
         "data": {
          "bar": [
           {
            "error_x": {
             "color": "#2a3f5f"
            },
            "error_y": {
             "color": "#2a3f5f"
            },
            "marker": {
             "line": {
              "color": "#E5ECF6",
              "width": 0.5
             },
             "pattern": {
              "fillmode": "overlay",
              "size": 10,
              "solidity": 0.2
             }
            },
            "type": "bar"
           }
          ],
          "barpolar": [
           {
            "marker": {
             "line": {
              "color": "#E5ECF6",
              "width": 0.5
             },
             "pattern": {
              "fillmode": "overlay",
              "size": 10,
              "solidity": 0.2
             }
            },
            "type": "barpolar"
           }
          ],
          "carpet": [
           {
            "aaxis": {
             "endlinecolor": "#2a3f5f",
             "gridcolor": "white",
             "linecolor": "white",
             "minorgridcolor": "white",
             "startlinecolor": "#2a3f5f"
            },
            "baxis": {
             "endlinecolor": "#2a3f5f",
             "gridcolor": "white",
             "linecolor": "white",
             "minorgridcolor": "white",
             "startlinecolor": "#2a3f5f"
            },
            "type": "carpet"
           }
          ],
          "choropleth": [
           {
            "colorbar": {
             "outlinewidth": 0,
             "ticks": ""
            },
            "type": "choropleth"
           }
          ],
          "contour": [
           {
            "colorbar": {
             "outlinewidth": 0,
             "ticks": ""
            },
            "colorscale": [
             [
              0,
              "#0d0887"
             ],
             [
              0.1111111111111111,
              "#46039f"
             ],
             [
              0.2222222222222222,
              "#7201a8"
             ],
             [
              0.3333333333333333,
              "#9c179e"
             ],
             [
              0.4444444444444444,
              "#bd3786"
             ],
             [
              0.5555555555555556,
              "#d8576b"
             ],
             [
              0.6666666666666666,
              "#ed7953"
             ],
             [
              0.7777777777777778,
              "#fb9f3a"
             ],
             [
              0.8888888888888888,
              "#fdca26"
             ],
             [
              1,
              "#f0f921"
             ]
            ],
            "type": "contour"
           }
          ],
          "contourcarpet": [
           {
            "colorbar": {
             "outlinewidth": 0,
             "ticks": ""
            },
            "type": "contourcarpet"
           }
          ],
          "heatmap": [
           {
            "colorbar": {
             "outlinewidth": 0,
             "ticks": ""
            },
            "colorscale": [
             [
              0,
              "#0d0887"
             ],
             [
              0.1111111111111111,
              "#46039f"
             ],
             [
              0.2222222222222222,
              "#7201a8"
             ],
             [
              0.3333333333333333,
              "#9c179e"
             ],
             [
              0.4444444444444444,
              "#bd3786"
             ],
             [
              0.5555555555555556,
              "#d8576b"
             ],
             [
              0.6666666666666666,
              "#ed7953"
             ],
             [
              0.7777777777777778,
              "#fb9f3a"
             ],
             [
              0.8888888888888888,
              "#fdca26"
             ],
             [
              1,
              "#f0f921"
             ]
            ],
            "type": "heatmap"
           }
          ],
          "heatmapgl": [
           {
            "colorbar": {
             "outlinewidth": 0,
             "ticks": ""
            },
            "colorscale": [
             [
              0,
              "#0d0887"
             ],
             [
              0.1111111111111111,
              "#46039f"
             ],
             [
              0.2222222222222222,
              "#7201a8"
             ],
             [
              0.3333333333333333,
              "#9c179e"
             ],
             [
              0.4444444444444444,
              "#bd3786"
             ],
             [
              0.5555555555555556,
              "#d8576b"
             ],
             [
              0.6666666666666666,
              "#ed7953"
             ],
             [
              0.7777777777777778,
              "#fb9f3a"
             ],
             [
              0.8888888888888888,
              "#fdca26"
             ],
             [
              1,
              "#f0f921"
             ]
            ],
            "type": "heatmapgl"
           }
          ],
          "histogram": [
           {
            "marker": {
             "pattern": {
              "fillmode": "overlay",
              "size": 10,
              "solidity": 0.2
             }
            },
            "type": "histogram"
           }
          ],
          "histogram2d": [
           {
            "colorbar": {
             "outlinewidth": 0,
             "ticks": ""
            },
            "colorscale": [
             [
              0,
              "#0d0887"
             ],
             [
              0.1111111111111111,
              "#46039f"
             ],
             [
              0.2222222222222222,
              "#7201a8"
             ],
             [
              0.3333333333333333,
              "#9c179e"
             ],
             [
              0.4444444444444444,
              "#bd3786"
             ],
             [
              0.5555555555555556,
              "#d8576b"
             ],
             [
              0.6666666666666666,
              "#ed7953"
             ],
             [
              0.7777777777777778,
              "#fb9f3a"
             ],
             [
              0.8888888888888888,
              "#fdca26"
             ],
             [
              1,
              "#f0f921"
             ]
            ],
            "type": "histogram2d"
           }
          ],
          "histogram2dcontour": [
           {
            "colorbar": {
             "outlinewidth": 0,
             "ticks": ""
            },
            "colorscale": [
             [
              0,
              "#0d0887"
             ],
             [
              0.1111111111111111,
              "#46039f"
             ],
             [
              0.2222222222222222,
              "#7201a8"
             ],
             [
              0.3333333333333333,
              "#9c179e"
             ],
             [
              0.4444444444444444,
              "#bd3786"
             ],
             [
              0.5555555555555556,
              "#d8576b"
             ],
             [
              0.6666666666666666,
              "#ed7953"
             ],
             [
              0.7777777777777778,
              "#fb9f3a"
             ],
             [
              0.8888888888888888,
              "#fdca26"
             ],
             [
              1,
              "#f0f921"
             ]
            ],
            "type": "histogram2dcontour"
           }
          ],
          "mesh3d": [
           {
            "colorbar": {
             "outlinewidth": 0,
             "ticks": ""
            },
            "type": "mesh3d"
           }
          ],
          "parcoords": [
           {
            "line": {
             "colorbar": {
              "outlinewidth": 0,
              "ticks": ""
             }
            },
            "type": "parcoords"
           }
          ],
          "pie": [
           {
            "automargin": true,
            "type": "pie"
           }
          ],
          "scatter": [
           {
            "fillpattern": {
             "fillmode": "overlay",
             "size": 10,
             "solidity": 0.2
            },
            "type": "scatter"
           }
          ],
          "scatter3d": [
           {
            "line": {
             "colorbar": {
              "outlinewidth": 0,
              "ticks": ""
             }
            },
            "marker": {
             "colorbar": {
              "outlinewidth": 0,
              "ticks": ""
             }
            },
            "type": "scatter3d"
           }
          ],
          "scattercarpet": [
           {
            "marker": {
             "colorbar": {
              "outlinewidth": 0,
              "ticks": ""
             }
            },
            "type": "scattercarpet"
           }
          ],
          "scattergeo": [
           {
            "marker": {
             "colorbar": {
              "outlinewidth": 0,
              "ticks": ""
             }
            },
            "type": "scattergeo"
           }
          ],
          "scattergl": [
           {
            "marker": {
             "colorbar": {
              "outlinewidth": 0,
              "ticks": ""
             }
            },
            "type": "scattergl"
           }
          ],
          "scattermapbox": [
           {
            "marker": {
             "colorbar": {
              "outlinewidth": 0,
              "ticks": ""
             }
            },
            "type": "scattermapbox"
           }
          ],
          "scatterpolar": [
           {
            "marker": {
             "colorbar": {
              "outlinewidth": 0,
              "ticks": ""
             }
            },
            "type": "scatterpolar"
           }
          ],
          "scatterpolargl": [
           {
            "marker": {
             "colorbar": {
              "outlinewidth": 0,
              "ticks": ""
             }
            },
            "type": "scatterpolargl"
           }
          ],
          "scatterternary": [
           {
            "marker": {
             "colorbar": {
              "outlinewidth": 0,
              "ticks": ""
             }
            },
            "type": "scatterternary"
           }
          ],
          "surface": [
           {
            "colorbar": {
             "outlinewidth": 0,
             "ticks": ""
            },
            "colorscale": [
             [
              0,
              "#0d0887"
             ],
             [
              0.1111111111111111,
              "#46039f"
             ],
             [
              0.2222222222222222,
              "#7201a8"
             ],
             [
              0.3333333333333333,
              "#9c179e"
             ],
             [
              0.4444444444444444,
              "#bd3786"
             ],
             [
              0.5555555555555556,
              "#d8576b"
             ],
             [
              0.6666666666666666,
              "#ed7953"
             ],
             [
              0.7777777777777778,
              "#fb9f3a"
             ],
             [
              0.8888888888888888,
              "#fdca26"
             ],
             [
              1,
              "#f0f921"
             ]
            ],
            "type": "surface"
           }
          ],
          "table": [
           {
            "cells": {
             "fill": {
              "color": "#EBF0F8"
             },
             "line": {
              "color": "white"
             }
            },
            "header": {
             "fill": {
              "color": "#C8D4E3"
             },
             "line": {
              "color": "white"
             }
            },
            "type": "table"
           }
          ]
         },
         "layout": {
          "annotationdefaults": {
           "arrowcolor": "#2a3f5f",
           "arrowhead": 0,
           "arrowwidth": 1
          },
          "autotypenumbers": "strict",
          "coloraxis": {
           "colorbar": {
            "outlinewidth": 0,
            "ticks": ""
           }
          },
          "colorscale": {
           "diverging": [
            [
             0,
             "#8e0152"
            ],
            [
             0.1,
             "#c51b7d"
            ],
            [
             0.2,
             "#de77ae"
            ],
            [
             0.3,
             "#f1b6da"
            ],
            [
             0.4,
             "#fde0ef"
            ],
            [
             0.5,
             "#f7f7f7"
            ],
            [
             0.6,
             "#e6f5d0"
            ],
            [
             0.7,
             "#b8e186"
            ],
            [
             0.8,
             "#7fbc41"
            ],
            [
             0.9,
             "#4d9221"
            ],
            [
             1,
             "#276419"
            ]
           ],
           "sequential": [
            [
             0,
             "#0d0887"
            ],
            [
             0.1111111111111111,
             "#46039f"
            ],
            [
             0.2222222222222222,
             "#7201a8"
            ],
            [
             0.3333333333333333,
             "#9c179e"
            ],
            [
             0.4444444444444444,
             "#bd3786"
            ],
            [
             0.5555555555555556,
             "#d8576b"
            ],
            [
             0.6666666666666666,
             "#ed7953"
            ],
            [
             0.7777777777777778,
             "#fb9f3a"
            ],
            [
             0.8888888888888888,
             "#fdca26"
            ],
            [
             1,
             "#f0f921"
            ]
           ],
           "sequentialminus": [
            [
             0,
             "#0d0887"
            ],
            [
             0.1111111111111111,
             "#46039f"
            ],
            [
             0.2222222222222222,
             "#7201a8"
            ],
            [
             0.3333333333333333,
             "#9c179e"
            ],
            [
             0.4444444444444444,
             "#bd3786"
            ],
            [
             0.5555555555555556,
             "#d8576b"
            ],
            [
             0.6666666666666666,
             "#ed7953"
            ],
            [
             0.7777777777777778,
             "#fb9f3a"
            ],
            [
             0.8888888888888888,
             "#fdca26"
            ],
            [
             1,
             "#f0f921"
            ]
           ]
          },
          "colorway": [
           "#636efa",
           "#EF553B",
           "#00cc96",
           "#ab63fa",
           "#FFA15A",
           "#19d3f3",
           "#FF6692",
           "#B6E880",
           "#FF97FF",
           "#FECB52"
          ],
          "font": {
           "color": "#2a3f5f"
          },
          "geo": {
           "bgcolor": "white",
           "lakecolor": "white",
           "landcolor": "#E5ECF6",
           "showlakes": true,
           "showland": true,
           "subunitcolor": "white"
          },
          "hoverlabel": {
           "align": "left"
          },
          "hovermode": "closest",
          "mapbox": {
           "style": "light"
          },
          "paper_bgcolor": "white",
          "plot_bgcolor": "#E5ECF6",
          "polar": {
           "angularaxis": {
            "gridcolor": "white",
            "linecolor": "white",
            "ticks": ""
           },
           "bgcolor": "#E5ECF6",
           "radialaxis": {
            "gridcolor": "white",
            "linecolor": "white",
            "ticks": ""
           }
          },
          "scene": {
           "xaxis": {
            "backgroundcolor": "#E5ECF6",
            "gridcolor": "white",
            "gridwidth": 2,
            "linecolor": "white",
            "showbackground": true,
            "ticks": "",
            "zerolinecolor": "white"
           },
           "yaxis": {
            "backgroundcolor": "#E5ECF6",
            "gridcolor": "white",
            "gridwidth": 2,
            "linecolor": "white",
            "showbackground": true,
            "ticks": "",
            "zerolinecolor": "white"
           },
           "zaxis": {
            "backgroundcolor": "#E5ECF6",
            "gridcolor": "white",
            "gridwidth": 2,
            "linecolor": "white",
            "showbackground": true,
            "ticks": "",
            "zerolinecolor": "white"
           }
          },
          "shapedefaults": {
           "line": {
            "color": "#2a3f5f"
           }
          },
          "ternary": {
           "aaxis": {
            "gridcolor": "white",
            "linecolor": "white",
            "ticks": ""
           },
           "baxis": {
            "gridcolor": "white",
            "linecolor": "white",
            "ticks": ""
           },
           "bgcolor": "#E5ECF6",
           "caxis": {
            "gridcolor": "white",
            "linecolor": "white",
            "ticks": ""
           }
          },
          "title": {
           "x": 0.05
          },
          "xaxis": {
           "automargin": true,
           "gridcolor": "white",
           "linecolor": "white",
           "ticks": "",
           "title": {
            "standoff": 15
           },
           "zerolinecolor": "white",
           "zerolinewidth": 2
          },
          "yaxis": {
           "automargin": true,
           "gridcolor": "white",
           "linecolor": "white",
           "ticks": "",
           "title": {
            "standoff": 15
           },
           "zerolinecolor": "white",
           "zerolinewidth": 2
          }
         }
        },
        "xaxis": {
         "anchor": "y",
         "domain": [
          0,
          1
         ],
         "title": {
          "text": "group_with_id"
         }
        },
        "yaxis": {
         "anchor": "x",
         "domain": [
          0,
          1
         ],
         "title": {
          "text": "mfn1_area"
         }
        }
       }
      },
      "text/html": [
       "<div>                            <div id=\"4717ee6a-5909-4543-bcda-11ab060f8a1e\" class=\"plotly-graph-div\" style=\"height:525px; width:100%;\"></div>            <script type=\"text/javascript\">                require([\"plotly\"], function(Plotly) {                    window.PLOTLYENV=window.PLOTLYENV || {};                                    if (document.getElementById(\"4717ee6a-5909-4543-bcda-11ab060f8a1e\")) {                    Plotly.newPlot(                        \"4717ee6a-5909-4543-bcda-11ab060f8a1e\",                        [{\"alignmentgroup\":\"True\",\"hovertemplate\":\"group_with_id=%{x}<br>mfn1_area=%{y}<extra></extra>\",\"legendgroup\":\"\",\"marker\":{\"color\":\"#636efa\",\"pattern\":{\"shape\":\"\"}},\"name\":\"\",\"offsetgroup\":\"\",\"orientation\":\"v\",\"showlegend\":false,\"textposition\":\"auto\",\"x\":[\"HCDMSO1016.0\",\"HCDMSO143.0\",\"HCDMSO1650.0\",\"HCDMSO1653.0\",\"HCDMSO495.0\",\"HCDMSO951.0\",\"MDMSO4212.0\",\"MDMSO4715.0\",\"MDMSO4721.0\",\"MDMSO4799.0\",\"MDMSO4819.0\",\"MDMSO4887.0\",\"Mmdivi1 25uM4212.0\",\"Mmdivi1 25uM4715.0\",\"Mmdivi1 25uM4721.0\",\"Mmdivi1 25uM4799.0\",\"Mmdivi1 25uM4819.0\",\"PREDMSO4689.0\",\"PREDMSO4717.0\",\"PREDMSO4719.0\",\"PREDMSO4837.0\",\"PREmdivi1 25uM4689.0\",\"PREmdivi1 25uM4717.0\",\"PREmdivi1 25uM4719.0\",\"PREmdivi1 25uM4837.0\",\"SDMSO2165.0\",\"SDMSO305.0\",\"SDMSO4287.0\",\"SDMSO4476.0\",\"SDMSO4687.0\",\"SDMSO4709.0\",\"SDMSO4807.0\",\"Smdivi1 25uM2165.0\",\"Smdivi1 25uM305.0\",\"Smdivi1 25uM4287.0\",\"Smdivi1 25uM4476.0\",\"Smdivi1 25uM4687.0\",\"Smdivi1 25uM4709.0\",\"Smdivi1 25uM4807.0\"],\"xaxis\":\"x\",\"y\":[6.258424030964783,6.268155267427466,6.1288818004906815,6.258769246992194,6.211165404305433,6.051885105729052,5.927711087952621,6.053828734907473,5.98056768152104,6.074723029712782,6.253234241575882,6.387136036641596,5.996243575893465,6.111259533545739,5.962717609378252,6.092624004681925,6.160604365315909,6.116931191255867,6.202847606845361,6.190165998321292,6.184630907285725,6.234475864562709,6.257662716511359,6.2624253490387645,6.416107717418036,5.923293432840525,6.144839267459584,6.494736579651939,5.970918363944419,6.372773592108564,6.106969265671045,6.6061425204003,6.293207631423099,6.116918088506446,6.5346113884704975,6.207711939640531,6.434358149741931,6.355333781627183,6.6749615049138376],\"yaxis\":\"y\",\"type\":\"bar\"}],                        {\"template\":{\"data\":{\"histogram2dcontour\":[{\"type\":\"histogram2dcontour\",\"colorbar\":{\"outlinewidth\":0,\"ticks\":\"\"},\"colorscale\":[[0.0,\"#0d0887\"],[0.1111111111111111,\"#46039f\"],[0.2222222222222222,\"#7201a8\"],[0.3333333333333333,\"#9c179e\"],[0.4444444444444444,\"#bd3786\"],[0.5555555555555556,\"#d8576b\"],[0.6666666666666666,\"#ed7953\"],[0.7777777777777778,\"#fb9f3a\"],[0.8888888888888888,\"#fdca26\"],[1.0,\"#f0f921\"]]}],\"choropleth\":[{\"type\":\"choropleth\",\"colorbar\":{\"outlinewidth\":0,\"ticks\":\"\"}}],\"histogram2d\":[{\"type\":\"histogram2d\",\"colorbar\":{\"outlinewidth\":0,\"ticks\":\"\"},\"colorscale\":[[0.0,\"#0d0887\"],[0.1111111111111111,\"#46039f\"],[0.2222222222222222,\"#7201a8\"],[0.3333333333333333,\"#9c179e\"],[0.4444444444444444,\"#bd3786\"],[0.5555555555555556,\"#d8576b\"],[0.6666666666666666,\"#ed7953\"],[0.7777777777777778,\"#fb9f3a\"],[0.8888888888888888,\"#fdca26\"],[1.0,\"#f0f921\"]]}],\"heatmap\":[{\"type\":\"heatmap\",\"colorbar\":{\"outlinewidth\":0,\"ticks\":\"\"},\"colorscale\":[[0.0,\"#0d0887\"],[0.1111111111111111,\"#46039f\"],[0.2222222222222222,\"#7201a8\"],[0.3333333333333333,\"#9c179e\"],[0.4444444444444444,\"#bd3786\"],[0.5555555555555556,\"#d8576b\"],[0.6666666666666666,\"#ed7953\"],[0.7777777777777778,\"#fb9f3a\"],[0.8888888888888888,\"#fdca26\"],[1.0,\"#f0f921\"]]}],\"heatmapgl\":[{\"type\":\"heatmapgl\",\"colorbar\":{\"outlinewidth\":0,\"ticks\":\"\"},\"colorscale\":[[0.0,\"#0d0887\"],[0.1111111111111111,\"#46039f\"],[0.2222222222222222,\"#7201a8\"],[0.3333333333333333,\"#9c179e\"],[0.4444444444444444,\"#bd3786\"],[0.5555555555555556,\"#d8576b\"],[0.6666666666666666,\"#ed7953\"],[0.7777777777777778,\"#fb9f3a\"],[0.8888888888888888,\"#fdca26\"],[1.0,\"#f0f921\"]]}],\"contourcarpet\":[{\"type\":\"contourcarpet\",\"colorbar\":{\"outlinewidth\":0,\"ticks\":\"\"}}],\"contour\":[{\"type\":\"contour\",\"colorbar\":{\"outlinewidth\":0,\"ticks\":\"\"},\"colorscale\":[[0.0,\"#0d0887\"],[0.1111111111111111,\"#46039f\"],[0.2222222222222222,\"#7201a8\"],[0.3333333333333333,\"#9c179e\"],[0.4444444444444444,\"#bd3786\"],[0.5555555555555556,\"#d8576b\"],[0.6666666666666666,\"#ed7953\"],[0.7777777777777778,\"#fb9f3a\"],[0.8888888888888888,\"#fdca26\"],[1.0,\"#f0f921\"]]}],\"surface\":[{\"type\":\"surface\",\"colorbar\":{\"outlinewidth\":0,\"ticks\":\"\"},\"colorscale\":[[0.0,\"#0d0887\"],[0.1111111111111111,\"#46039f\"],[0.2222222222222222,\"#7201a8\"],[0.3333333333333333,\"#9c179e\"],[0.4444444444444444,\"#bd3786\"],[0.5555555555555556,\"#d8576b\"],[0.6666666666666666,\"#ed7953\"],[0.7777777777777778,\"#fb9f3a\"],[0.8888888888888888,\"#fdca26\"],[1.0,\"#f0f921\"]]}],\"mesh3d\":[{\"type\":\"mesh3d\",\"colorbar\":{\"outlinewidth\":0,\"ticks\":\"\"}}],\"scatter\":[{\"fillpattern\":{\"fillmode\":\"overlay\",\"size\":10,\"solidity\":0.2},\"type\":\"scatter\"}],\"parcoords\":[{\"type\":\"parcoords\",\"line\":{\"colorbar\":{\"outlinewidth\":0,\"ticks\":\"\"}}}],\"scatterpolargl\":[{\"type\":\"scatterpolargl\",\"marker\":{\"colorbar\":{\"outlinewidth\":0,\"ticks\":\"\"}}}],\"bar\":[{\"error_x\":{\"color\":\"#2a3f5f\"},\"error_y\":{\"color\":\"#2a3f5f\"},\"marker\":{\"line\":{\"color\":\"#E5ECF6\",\"width\":0.5},\"pattern\":{\"fillmode\":\"overlay\",\"size\":10,\"solidity\":0.2}},\"type\":\"bar\"}],\"scattergeo\":[{\"type\":\"scattergeo\",\"marker\":{\"colorbar\":{\"outlinewidth\":0,\"ticks\":\"\"}}}],\"scatterpolar\":[{\"type\":\"scatterpolar\",\"marker\":{\"colorbar\":{\"outlinewidth\":0,\"ticks\":\"\"}}}],\"histogram\":[{\"marker\":{\"pattern\":{\"fillmode\":\"overlay\",\"size\":10,\"solidity\":0.2}},\"type\":\"histogram\"}],\"scattergl\":[{\"type\":\"scattergl\",\"marker\":{\"colorbar\":{\"outlinewidth\":0,\"ticks\":\"\"}}}],\"scatter3d\":[{\"type\":\"scatter3d\",\"line\":{\"colorbar\":{\"outlinewidth\":0,\"ticks\":\"\"}},\"marker\":{\"colorbar\":{\"outlinewidth\":0,\"ticks\":\"\"}}}],\"scattermapbox\":[{\"type\":\"scattermapbox\",\"marker\":{\"colorbar\":{\"outlinewidth\":0,\"ticks\":\"\"}}}],\"scatterternary\":[{\"type\":\"scatterternary\",\"marker\":{\"colorbar\":{\"outlinewidth\":0,\"ticks\":\"\"}}}],\"scattercarpet\":[{\"type\":\"scattercarpet\",\"marker\":{\"colorbar\":{\"outlinewidth\":0,\"ticks\":\"\"}}}],\"carpet\":[{\"aaxis\":{\"endlinecolor\":\"#2a3f5f\",\"gridcolor\":\"white\",\"linecolor\":\"white\",\"minorgridcolor\":\"white\",\"startlinecolor\":\"#2a3f5f\"},\"baxis\":{\"endlinecolor\":\"#2a3f5f\",\"gridcolor\":\"white\",\"linecolor\":\"white\",\"minorgridcolor\":\"white\",\"startlinecolor\":\"#2a3f5f\"},\"type\":\"carpet\"}],\"table\":[{\"cells\":{\"fill\":{\"color\":\"#EBF0F8\"},\"line\":{\"color\":\"white\"}},\"header\":{\"fill\":{\"color\":\"#C8D4E3\"},\"line\":{\"color\":\"white\"}},\"type\":\"table\"}],\"barpolar\":[{\"marker\":{\"line\":{\"color\":\"#E5ECF6\",\"width\":0.5},\"pattern\":{\"fillmode\":\"overlay\",\"size\":10,\"solidity\":0.2}},\"type\":\"barpolar\"}],\"pie\":[{\"automargin\":true,\"type\":\"pie\"}]},\"layout\":{\"autotypenumbers\":\"strict\",\"colorway\":[\"#636efa\",\"#EF553B\",\"#00cc96\",\"#ab63fa\",\"#FFA15A\",\"#19d3f3\",\"#FF6692\",\"#B6E880\",\"#FF97FF\",\"#FECB52\"],\"font\":{\"color\":\"#2a3f5f\"},\"hovermode\":\"closest\",\"hoverlabel\":{\"align\":\"left\"},\"paper_bgcolor\":\"white\",\"plot_bgcolor\":\"#E5ECF6\",\"polar\":{\"bgcolor\":\"#E5ECF6\",\"angularaxis\":{\"gridcolor\":\"white\",\"linecolor\":\"white\",\"ticks\":\"\"},\"radialaxis\":{\"gridcolor\":\"white\",\"linecolor\":\"white\",\"ticks\":\"\"}},\"ternary\":{\"bgcolor\":\"#E5ECF6\",\"aaxis\":{\"gridcolor\":\"white\",\"linecolor\":\"white\",\"ticks\":\"\"},\"baxis\":{\"gridcolor\":\"white\",\"linecolor\":\"white\",\"ticks\":\"\"},\"caxis\":{\"gridcolor\":\"white\",\"linecolor\":\"white\",\"ticks\":\"\"}},\"coloraxis\":{\"colorbar\":{\"outlinewidth\":0,\"ticks\":\"\"}},\"colorscale\":{\"sequential\":[[0.0,\"#0d0887\"],[0.1111111111111111,\"#46039f\"],[0.2222222222222222,\"#7201a8\"],[0.3333333333333333,\"#9c179e\"],[0.4444444444444444,\"#bd3786\"],[0.5555555555555556,\"#d8576b\"],[0.6666666666666666,\"#ed7953\"],[0.7777777777777778,\"#fb9f3a\"],[0.8888888888888888,\"#fdca26\"],[1.0,\"#f0f921\"]],\"sequentialminus\":[[0.0,\"#0d0887\"],[0.1111111111111111,\"#46039f\"],[0.2222222222222222,\"#7201a8\"],[0.3333333333333333,\"#9c179e\"],[0.4444444444444444,\"#bd3786\"],[0.5555555555555556,\"#d8576b\"],[0.6666666666666666,\"#ed7953\"],[0.7777777777777778,\"#fb9f3a\"],[0.8888888888888888,\"#fdca26\"],[1.0,\"#f0f921\"]],\"diverging\":[[0,\"#8e0152\"],[0.1,\"#c51b7d\"],[0.2,\"#de77ae\"],[0.3,\"#f1b6da\"],[0.4,\"#fde0ef\"],[0.5,\"#f7f7f7\"],[0.6,\"#e6f5d0\"],[0.7,\"#b8e186\"],[0.8,\"#7fbc41\"],[0.9,\"#4d9221\"],[1,\"#276419\"]]},\"xaxis\":{\"gridcolor\":\"white\",\"linecolor\":\"white\",\"ticks\":\"\",\"title\":{\"standoff\":15},\"zerolinecolor\":\"white\",\"automargin\":true,\"zerolinewidth\":2},\"yaxis\":{\"gridcolor\":\"white\",\"linecolor\":\"white\",\"ticks\":\"\",\"title\":{\"standoff\":15},\"zerolinecolor\":\"white\",\"automargin\":true,\"zerolinewidth\":2},\"scene\":{\"xaxis\":{\"backgroundcolor\":\"#E5ECF6\",\"gridcolor\":\"white\",\"linecolor\":\"white\",\"showbackground\":true,\"ticks\":\"\",\"zerolinecolor\":\"white\",\"gridwidth\":2},\"yaxis\":{\"backgroundcolor\":\"#E5ECF6\",\"gridcolor\":\"white\",\"linecolor\":\"white\",\"showbackground\":true,\"ticks\":\"\",\"zerolinecolor\":\"white\",\"gridwidth\":2},\"zaxis\":{\"backgroundcolor\":\"#E5ECF6\",\"gridcolor\":\"white\",\"linecolor\":\"white\",\"showbackground\":true,\"ticks\":\"\",\"zerolinecolor\":\"white\",\"gridwidth\":2}},\"shapedefaults\":{\"line\":{\"color\":\"#2a3f5f\"}},\"annotationdefaults\":{\"arrowcolor\":\"#2a3f5f\",\"arrowhead\":0,\"arrowwidth\":1},\"geo\":{\"bgcolor\":\"white\",\"landcolor\":\"#E5ECF6\",\"subunitcolor\":\"white\",\"showland\":true,\"showlakes\":true,\"lakecolor\":\"white\"},\"title\":{\"x\":0.05},\"mapbox\":{\"style\":\"light\"}}},\"xaxis\":{\"anchor\":\"y\",\"domain\":[0.0,1.0],\"title\":{\"text\":\"group_with_id\"}},\"yaxis\":{\"anchor\":\"x\",\"domain\":[0.0,1.0],\"title\":{\"text\":\"mfn1_area\"}},\"legend\":{\"tracegroupgap\":0},\"margin\":{\"t\":60},\"barmode\":\"group\"},                        {\"responsive\": true}                    ).then(function(){\n",
       "                            \n",
       "var gd = document.getElementById('4717ee6a-5909-4543-bcda-11ab060f8a1e');\n",
       "var x = new MutationObserver(function (mutations, observer) {{\n",
       "        var display = window.getComputedStyle(gd).display;\n",
       "        if (!display || display === 'none') {{\n",
       "            console.log([gd, 'removed!']);\n",
       "            Plotly.purge(gd);\n",
       "            observer.disconnect();\n",
       "        }}\n",
       "}});\n",
       "\n",
       "// Listen for the removal of the full notebook cells\n",
       "var notebookContainer = gd.closest('#notebook-container');\n",
       "if (notebookContainer) {{\n",
       "    x.observe(notebookContainer, {childList: true});\n",
       "}}\n",
       "\n",
       "// Listen for the clearing of the current output cell\n",
       "var outputEl = gd.closest('.output');\n",
       "if (outputEl) {{\n",
       "    x.observe(outputEl, {childList: true});\n",
       "}}\n",
       "\n",
       "                        })                };                });            </script>        </div>"
      ]
     },
     "metadata": {},
     "output_type": "display_data"
    }
   ],
   "source": [
    "for col in df_plot:\n",
    "    \n",
    "    fig = px.bar(df_plot, x = \"group_with_id\", y = col,\n",
    "            barmode = 'group')\n",
    "    fig.write_image(path + '//' + f\"{col}mid_plot_image.pdf\", engine=\"kaleido\")\n",
    "    fig.show()"
   ]
  },
  {
   "cell_type": "code",
   "execution_count": null,
   "id": "470a0c76",
   "metadata": {},
   "outputs": [],
   "source": [
    "#test dist"
   ]
  },
  {
   "cell_type": "code",
   "execution_count": null,
   "id": "f657f5da",
   "metadata": {},
   "outputs": [],
   "source": [
    "dist_check_if_hc(Nh_df)\n",
    "dist_check_if_log(df_log)\n",
    "dist_check_if_log_2(df_log_2)\n",
    "dist_check_if_max(df_max_scaled)"
   ]
  },
  {
   "cell_type": "code",
   "execution_count": null,
   "id": "faf6c275",
   "metadata": {},
   "outputs": [],
   "source": [
    "### vis+stats_marker conclusions "
   ]
  },
  {
   "cell_type": "code",
   "execution_count": null,
   "id": "def1387b",
   "metadata": {},
   "outputs": [],
   "source": [
    "df_stats = df_log.copy()\n",
    "df_stats = df_stats.reset_index()\n",
    "df_stats = df_stats.drop(columns=['Local Outlier Factor 30', 'Local Outlier Factor 10', 'Local Outlier Factor 8', 'level_0'])\n",
    "df_stats = df_stats.reset_index()\n",
    "df_stats = df_stats.drop(columns=['index'])\n"
   ]
  },
  {
   "cell_type": "code",
   "execution_count": null,
   "id": "d8744c5b",
   "metadata": {},
   "outputs": [],
   "source": [
    "grouped_df = df_stats.groupby(\"group\").mean()\n",
    "grouped_df.fillna(0, inplace=True)\n",
    "grouped_df =(grouped_df-grouped_df.mean())/grouped_df.std()\n",
    "###heatmap \n",
    "plt.figure(figsize=(8, 6))\n",
    "sns.heatmap(grouped_df, cmap='BuPu')\n",
    "sns.set_style(\"white\")\n",
    "SMALL_SIZE =3\n",
    "MEDIUM_SIZE = 5\n",
    "BIGGER_SIZE = 12\n",
    "plt.rc('font', size=SMALL_SIZE)          # controls default text sizes\n",
    "plt.rc('axes', titlesize=SMALL_SIZE)     # fontsize of the axes title\n",
    "plt.rc('axes', labelsize=SMALL_SIZE)    # fontsize of the x and y labels\n",
    "plt.rc('xtick', labelsize=SMALL_SIZE)    # fontsize of the tick labels\n",
    "plt.rc('ytick', labelsize=MEDIUM_SIZE)    # fontsize of the tick labels\n",
    "plt.rc('legend', fontsize=SMALL_SIZE)    # legend fontsize\n",
    "plt.rc('figure', titlesize=BIGGER_SIZE)  # fontsize of the figure title\n",
    "cax = plt.gcf().axes[0]\n",
    "cax.tick_params(labelsize=6)\n",
    "plt.yticks(rotation=\"horizontal\")\n",
    "plt.xticks(rotation=\"vertical\")\n",
    "plt.margins(0.1)\n",
    "plt.subplots_adjust(bottom=0.3)\n",
    "plt.savefig(path + '//' + \"heatmap_mfn1.pdf\")\n",
    "plt.show()"
   ]
  },
  {
   "cell_type": "code",
   "execution_count": 211,
   "id": "0409829c",
   "metadata": {
    "scrolled": true
   },
   "outputs": [
    {
     "data": {
      "application/vnd.plotly.v1+json": {
       "config": {
        "plotlyServerURL": "https://plot.ly"
       },
       "data": [
        {
         "alignmentgroup": "True",
         "boxpoints": "all",
         "customdata": [
          [
           "HCDMSO1653.0p4"
          ],
          [
           "HCDMSO1650.0p8"
          ],
          [
           "HCDMSO143.0p7"
          ],
          [
           "HCDMSO1650.0p5"
          ],
          [
           "HCDMSO1653.0p9"
          ],
          [
           "HCDMSO1650.0p9"
          ],
          [
           "HCDMSO951.0p10"
          ],
          [
           "HCDMSO1653.0p4"
          ],
          [
           "HCDMSO143.0p7"
          ],
          [
           "HCDMSO1653.0p6"
          ],
          [
           "HCDMSO143.0p6"
          ],
          [
           "HCDMSO1653.0p8"
          ],
          [
           "HCDMSO1650.0p8"
          ],
          [
           "HCDMSO1653.0p9"
          ],
          [
           "HCDMSO1653.0p6"
          ],
          [
           "HCDMSO1653.0p9"
          ],
          [
           "HCDMSO1653.0p6"
          ],
          [
           "HCDMSO1016.0p10"
          ],
          [
           "HCDMSO1650.0p5"
          ],
          [
           "HCDMSO1653.0p8"
          ],
          [
           "HCDMSO1653.0p9"
          ],
          [
           "HCDMSO1653.0p8"
          ],
          [
           "HCDMSO143.0p7"
          ],
          [
           "HCDMSO1650.0p5"
          ],
          [
           "HCDMSO1650.0p8"
          ],
          [
           "HCDMSO1653.0p8"
          ],
          [
           "HCDMSO1650.0p9"
          ],
          [
           "HCDMSO1653.0p4"
          ],
          [
           "HCDMSO143.0p7"
          ],
          [
           "HCDMSO1016.0p10"
          ],
          [
           "HCDMSO1650.0p8"
          ],
          [
           "HCDMSO1653.0p4"
          ],
          [
           "HCDMSO1650.0p5"
          ],
          [
           "HCDMSO495.0p6"
          ],
          [
           "HCDMSO1653.0p6"
          ],
          [
           "HCDMSO1653.0p4"
          ],
          [
           "HCDMSO1653.0p9"
          ],
          [
           "HCDMSO1016.0p10"
          ],
          [
           "HCDMSO1653.0p6"
          ],
          [
           "HCDMSO143.0p6"
          ],
          [
           "HCDMSO1016.0p10"
          ],
          [
           "HCDMSO1650.0p8"
          ],
          [
           "HCDMSO951.0p10"
          ],
          [
           "HCDMSO1650.0p9"
          ],
          [
           "HCDMSO1650.0p9"
          ],
          [
           "HCDMSO143.0p6"
          ],
          [
           "HCDMSO143.0p6"
          ],
          [
           "HCDMSO495.0p6"
          ],
          [
           "HCDMSO1653.0p6"
          ],
          [
           "HCDMSO951.0p10"
          ],
          [
           "HCDMSO1650.0p5"
          ],
          [
           "HCDMSO143.0p6"
          ],
          [
           "HCDMSO143.0p6"
          ],
          [
           "HCDMSO495.0p6"
          ],
          [
           "HCDMSO1650.0p9"
          ],
          [
           "HCDMSO1650.0p8"
          ],
          [
           "HCDMSO495.0p6"
          ],
          [
           "HCDMSO1653.0p9"
          ],
          [
           "HCDMSO495.0p6"
          ],
          [
           "HCDMSO1650.0p5"
          ],
          [
           "HCDMSO1653.0p8"
          ],
          [
           "HCDMSO1653.0p4"
          ],
          [
           "HCDMSO1016.0p10"
          ],
          [
           "HCDMSO1653.0p8"
          ]
         ],
         "hovertemplate": "group=%{x}<br>group_p=%{y}<br>group_with_p=%{customdata[0]}<extra></extra>",
         "legendgroup": "HCDMSO",
         "marker": {
          "color": "#636efa"
         },
         "name": "HCDMSO",
         "notched": true,
         "offsetgroup": "HCDMSO",
         "orientation": "v",
         "quartilemethod": "inclusive",
         "showlegend": true,
         "type": "box",
         "x": [
          "HCDMSO",
          "HCDMSO",
          "HCDMSO",
          "HCDMSO",
          "HCDMSO",
          "HCDMSO",
          "HCDMSO",
          "HCDMSO",
          "HCDMSO",
          "HCDMSO",
          "HCDMSO",
          "HCDMSO",
          "HCDMSO",
          "HCDMSO",
          "HCDMSO",
          "HCDMSO",
          "HCDMSO",
          "HCDMSO",
          "HCDMSO",
          "HCDMSO",
          "HCDMSO",
          "HCDMSO",
          "HCDMSO",
          "HCDMSO",
          "HCDMSO",
          "HCDMSO",
          "HCDMSO",
          "HCDMSO",
          "HCDMSO",
          "HCDMSO",
          "HCDMSO",
          "HCDMSO",
          "HCDMSO",
          "HCDMSO",
          "HCDMSO",
          "HCDMSO",
          "HCDMSO",
          "HCDMSO",
          "HCDMSO",
          "HCDMSO",
          "HCDMSO",
          "HCDMSO",
          "HCDMSO",
          "HCDMSO",
          "HCDMSO",
          "HCDMSO",
          "HCDMSO",
          "HCDMSO",
          "HCDMSO",
          "HCDMSO",
          "HCDMSO",
          "HCDMSO",
          "HCDMSO",
          "HCDMSO",
          "HCDMSO",
          "HCDMSO",
          "HCDMSO",
          "HCDMSO",
          "HCDMSO",
          "HCDMSO",
          "HCDMSO",
          "HCDMSO",
          "HCDMSO",
          "HCDMSO"
         ],
         "x0": " ",
         "xaxis": "x",
         "y": [
          "HCDMSOp4",
          "HCDMSOp8",
          "HCDMSOp7",
          "HCDMSOp5",
          "HCDMSOp9",
          "HCDMSOp9",
          "HCDMSOp10",
          "HCDMSOp4",
          "HCDMSOp7",
          "HCDMSOp6",
          "HCDMSOp6",
          "HCDMSOp8",
          "HCDMSOp8",
          "HCDMSOp9",
          "HCDMSOp6",
          "HCDMSOp9",
          "HCDMSOp6",
          "HCDMSOp10",
          "HCDMSOp5",
          "HCDMSOp8",
          "HCDMSOp9",
          "HCDMSOp8",
          "HCDMSOp7",
          "HCDMSOp5",
          "HCDMSOp8",
          "HCDMSOp8",
          "HCDMSOp9",
          "HCDMSOp4",
          "HCDMSOp7",
          "HCDMSOp10",
          "HCDMSOp8",
          "HCDMSOp4",
          "HCDMSOp5",
          "HCDMSOp6",
          "HCDMSOp6",
          "HCDMSOp4",
          "HCDMSOp9",
          "HCDMSOp10",
          "HCDMSOp6",
          "HCDMSOp6",
          "HCDMSOp10",
          "HCDMSOp8",
          "HCDMSOp10",
          "HCDMSOp9",
          "HCDMSOp9",
          "HCDMSOp6",
          "HCDMSOp6",
          "HCDMSOp6",
          "HCDMSOp6",
          "HCDMSOp10",
          "HCDMSOp5",
          "HCDMSOp6",
          "HCDMSOp6",
          "HCDMSOp6",
          "HCDMSOp9",
          "HCDMSOp8",
          "HCDMSOp6",
          "HCDMSOp9",
          "HCDMSOp6",
          "HCDMSOp5",
          "HCDMSOp8",
          "HCDMSOp4",
          "HCDMSOp10",
          "HCDMSOp8"
         ],
         "y0": " ",
         "yaxis": "y"
        },
        {
         "alignmentgroup": "True",
         "boxpoints": "all",
         "customdata": [
          [
           "PREDMSO4689.0p6"
          ],
          [
           "PREDMSO4837.0p9"
          ],
          [
           "PREDMSO4719.0p5"
          ],
          [
           "PREDMSO4689.0p6"
          ],
          [
           "PREDMSO4689.0p6"
          ],
          [
           "PREDMSO4719.0p4"
          ],
          [
           "PREDMSO4717.0p7"
          ],
          [
           "PREDMSO4719.0p5"
          ],
          [
           "PREDMSO4837.0p9"
          ],
          [
           "PREDMSO4719.0p4"
          ],
          [
           "PREDMSO4719.0p5"
          ],
          [
           "PREDMSO4717.0p7"
          ],
          [
           "PREDMSO4837.0p9"
          ],
          [
           "PREDMSO4719.0p5"
          ],
          [
           "PREDMSO4719.0p4"
          ],
          [
           "PREDMSO4717.0p7"
          ],
          [
           "PREDMSO4717.0p7"
          ],
          [
           "PREDMSO4717.0p7"
          ],
          [
           "PREDMSO4689.0p6"
          ],
          [
           "PREDMSO4719.0p4"
          ],
          [
           "PREDMSO4689.0p6"
          ],
          [
           "PREDMSO4837.0p9"
          ],
          [
           "PREDMSO4719.0p4"
          ],
          [
           "PREDMSO4719.0p5"
          ],
          [
           "PREDMSO4717.0p7"
          ],
          [
           "PREDMSO4719.0p4"
          ],
          [
           "PREDMSO4837.0p9"
          ]
         ],
         "hovertemplate": "group=%{x}<br>group_p=%{y}<br>group_with_p=%{customdata[0]}<extra></extra>",
         "legendgroup": "PREDMSO",
         "marker": {
          "color": "#EF553B"
         },
         "name": "PREDMSO",
         "notched": true,
         "offsetgroup": "PREDMSO",
         "orientation": "v",
         "quartilemethod": "inclusive",
         "showlegend": true,
         "type": "box",
         "x": [
          "PREDMSO",
          "PREDMSO",
          "PREDMSO",
          "PREDMSO",
          "PREDMSO",
          "PREDMSO",
          "PREDMSO",
          "PREDMSO",
          "PREDMSO",
          "PREDMSO",
          "PREDMSO",
          "PREDMSO",
          "PREDMSO",
          "PREDMSO",
          "PREDMSO",
          "PREDMSO",
          "PREDMSO",
          "PREDMSO",
          "PREDMSO",
          "PREDMSO",
          "PREDMSO",
          "PREDMSO",
          "PREDMSO",
          "PREDMSO",
          "PREDMSO",
          "PREDMSO",
          "PREDMSO"
         ],
         "x0": " ",
         "xaxis": "x",
         "y": [
          "PREDMSOp6",
          "PREDMSOp9",
          "PREDMSOp5",
          "PREDMSOp6",
          "PREDMSOp6",
          "PREDMSOp4",
          "PREDMSOp7",
          "PREDMSOp5",
          "PREDMSOp9",
          "PREDMSOp4",
          "PREDMSOp5",
          "PREDMSOp7",
          "PREDMSOp9",
          "PREDMSOp5",
          "PREDMSOp4",
          "PREDMSOp7",
          "PREDMSOp7",
          "PREDMSOp7",
          "PREDMSOp6",
          "PREDMSOp4",
          "PREDMSOp6",
          "PREDMSOp9",
          "PREDMSOp4",
          "PREDMSOp5",
          "PREDMSOp7",
          "PREDMSOp4",
          "PREDMSOp9"
         ],
         "y0": " ",
         "yaxis": "y"
        },
        {
         "alignmentgroup": "True",
         "boxpoints": "all",
         "customdata": [
          [
           "PREmdivi1 25uM4719.0p5"
          ],
          [
           "PREmdivi1 25uM4719.0p4"
          ],
          [
           "PREmdivi1 25uM4717.0p7"
          ],
          [
           "PREmdivi1 25uM4717.0p7"
          ],
          [
           "PREmdivi1 25uM4717.0p7"
          ],
          [
           "PREmdivi1 25uM4837.0p9"
          ],
          [
           "PREmdivi1 25uM4719.0p5"
          ],
          [
           "PREmdivi1 25uM4719.0p5"
          ],
          [
           "PREmdivi1 25uM4689.0p6"
          ],
          [
           "PREmdivi1 25uM4717.0p7"
          ],
          [
           "PREmdivi1 25uM4717.0p7"
          ],
          [
           "PREmdivi1 25uM4719.0p5"
          ],
          [
           "PREmdivi1 25uM4719.0p5"
          ],
          [
           "PREmdivi1 25uM4719.0p4"
          ],
          [
           "PREmdivi1 25uM4837.0p9"
          ],
          [
           "PREmdivi1 25uM4837.0p9"
          ],
          [
           "PREmdivi1 25uM4689.0p6"
          ],
          [
           "PREmdivi1 25uM4689.0p6"
          ],
          [
           "PREmdivi1 25uM4717.0p7"
          ],
          [
           "PREmdivi1 25uM4837.0p9"
          ],
          [
           "PREmdivi1 25uM4837.0p9"
          ],
          [
           "PREmdivi1 25uM4719.0p5"
          ],
          [
           "PREmdivi1 25uM4689.0p6"
          ],
          [
           "PREmdivi1 25uM4719.0p4"
          ],
          [
           "PREmdivi1 25uM4689.0p6"
          ]
         ],
         "hovertemplate": "group=%{x}<br>group_p=%{y}<br>group_with_p=%{customdata[0]}<extra></extra>",
         "legendgroup": "PREmdivi1 25uM",
         "marker": {
          "color": "#00cc96"
         },
         "name": "PREmdivi1 25uM",
         "notched": true,
         "offsetgroup": "PREmdivi1 25uM",
         "orientation": "v",
         "quartilemethod": "inclusive",
         "showlegend": true,
         "type": "box",
         "x": [
          "PREmdivi1 25uM",
          "PREmdivi1 25uM",
          "PREmdivi1 25uM",
          "PREmdivi1 25uM",
          "PREmdivi1 25uM",
          "PREmdivi1 25uM",
          "PREmdivi1 25uM",
          "PREmdivi1 25uM",
          "PREmdivi1 25uM",
          "PREmdivi1 25uM",
          "PREmdivi1 25uM",
          "PREmdivi1 25uM",
          "PREmdivi1 25uM",
          "PREmdivi1 25uM",
          "PREmdivi1 25uM",
          "PREmdivi1 25uM",
          "PREmdivi1 25uM",
          "PREmdivi1 25uM",
          "PREmdivi1 25uM",
          "PREmdivi1 25uM",
          "PREmdivi1 25uM",
          "PREmdivi1 25uM",
          "PREmdivi1 25uM",
          "PREmdivi1 25uM",
          "PREmdivi1 25uM"
         ],
         "x0": " ",
         "xaxis": "x",
         "y": [
          "PREmdivi1 25uMp5",
          "PREmdivi1 25uMp4",
          "PREmdivi1 25uMp7",
          "PREmdivi1 25uMp7",
          "PREmdivi1 25uMp7",
          "PREmdivi1 25uMp9",
          "PREmdivi1 25uMp5",
          "PREmdivi1 25uMp5",
          "PREmdivi1 25uMp6",
          "PREmdivi1 25uMp7",
          "PREmdivi1 25uMp7",
          "PREmdivi1 25uMp5",
          "PREmdivi1 25uMp5",
          "PREmdivi1 25uMp4",
          "PREmdivi1 25uMp9",
          "PREmdivi1 25uMp9",
          "PREmdivi1 25uMp6",
          "PREmdivi1 25uMp6",
          "PREmdivi1 25uMp7",
          "PREmdivi1 25uMp9",
          "PREmdivi1 25uMp9",
          "PREmdivi1 25uMp5",
          "PREmdivi1 25uMp6",
          "PREmdivi1 25uMp4",
          "PREmdivi1 25uMp6"
         ],
         "y0": " ",
         "yaxis": "y"
        },
        {
         "alignmentgroup": "True",
         "boxpoints": "all",
         "customdata": [
          [
           "MDMSO4887.0p7"
          ],
          [
           "MDMSO4819.0p4"
          ],
          [
           "MDMSO4819.0p4"
          ],
          [
           "MDMSO4212.0p9"
          ],
          [
           "MDMSO4212.0p9"
          ],
          [
           "MDMSO4721.0p5"
          ],
          [
           "MDMSO4715.0p6"
          ],
          [
           "MDMSO4799.0p8"
          ],
          [
           "MDMSO4715.0p6"
          ],
          [
           "MDMSO4212.0p9"
          ],
          [
           "MDMSO4887.0p7"
          ],
          [
           "MDMSO4212.0p9"
          ],
          [
           "MDMSO4799.0p8"
          ],
          [
           "MDMSO4721.0p5"
          ],
          [
           "MDMSO4721.0p5"
          ],
          [
           "MDMSO4715.0p6"
          ],
          [
           "MDMSO4887.0p7"
          ],
          [
           "MDMSO4799.0p8"
          ],
          [
           "MDMSO4715.0p6"
          ],
          [
           "MDMSO4212.0p9"
          ],
          [
           "MDMSO4799.0p8"
          ],
          [
           "MDMSO4799.0p8"
          ],
          [
           "MDMSO4715.0p6"
          ],
          [
           "MDMSO4799.0p8"
          ],
          [
           "MDMSO4819.0p4"
          ],
          [
           "MDMSO4819.0p4"
          ],
          [
           "MDMSO4721.0p5"
          ],
          [
           "MDMSO4819.0p4"
          ],
          [
           "MDMSO4715.0p6"
          ],
          [
           "MDMSO4819.0p4"
          ]
         ],
         "hovertemplate": "group=%{x}<br>group_p=%{y}<br>group_with_p=%{customdata[0]}<extra></extra>",
         "legendgroup": "MDMSO",
         "marker": {
          "color": "#ab63fa"
         },
         "name": "MDMSO",
         "notched": true,
         "offsetgroup": "MDMSO",
         "orientation": "v",
         "quartilemethod": "inclusive",
         "showlegend": true,
         "type": "box",
         "x": [
          "MDMSO",
          "MDMSO",
          "MDMSO",
          "MDMSO",
          "MDMSO",
          "MDMSO",
          "MDMSO",
          "MDMSO",
          "MDMSO",
          "MDMSO",
          "MDMSO",
          "MDMSO",
          "MDMSO",
          "MDMSO",
          "MDMSO",
          "MDMSO",
          "MDMSO",
          "MDMSO",
          "MDMSO",
          "MDMSO",
          "MDMSO",
          "MDMSO",
          "MDMSO",
          "MDMSO",
          "MDMSO",
          "MDMSO",
          "MDMSO",
          "MDMSO",
          "MDMSO",
          "MDMSO"
         ],
         "x0": " ",
         "xaxis": "x",
         "y": [
          "MDMSOp7",
          "MDMSOp4",
          "MDMSOp4",
          "MDMSOp9",
          "MDMSOp9",
          "MDMSOp5",
          "MDMSOp6",
          "MDMSOp8",
          "MDMSOp6",
          "MDMSOp9",
          "MDMSOp7",
          "MDMSOp9",
          "MDMSOp8",
          "MDMSOp5",
          "MDMSOp5",
          "MDMSOp6",
          "MDMSOp7",
          "MDMSOp8",
          "MDMSOp6",
          "MDMSOp9",
          "MDMSOp8",
          "MDMSOp8",
          "MDMSOp6",
          "MDMSOp8",
          "MDMSOp4",
          "MDMSOp4",
          "MDMSOp5",
          "MDMSOp4",
          "MDMSOp6",
          "MDMSOp4"
         ],
         "y0": " ",
         "yaxis": "y"
        },
        {
         "alignmentgroup": "True",
         "boxpoints": "all",
         "customdata": [
          [
           "Smdivi1 25uM4287.0p5"
          ],
          [
           "Smdivi1 25uM4287.0p5"
          ],
          [
           "Smdivi1 25uM4687.0p7"
          ],
          [
           "Smdivi1 25uM4476.0p10"
          ],
          [
           "Smdivi1 25uM4709.0p9"
          ],
          [
           "Smdivi1 25uM4687.0p7"
          ],
          [
           "Smdivi1 25uM4287.0p5"
          ],
          [
           "Smdivi1 25uM4709.0p9"
          ],
          [
           "Smdivi1 25uM305.0p6"
          ],
          [
           "Smdivi1 25uM4709.0p9"
          ],
          [
           "Smdivi1 25uM4709.0p9"
          ],
          [
           "Smdivi1 25uM4687.0p7"
          ],
          [
           "Smdivi1 25uM2165.0p10"
          ],
          [
           "Smdivi1 25uM305.0p6"
          ],
          [
           "Smdivi1 25uM4807.0p8"
          ],
          [
           "Smdivi1 25uM4287.0p5"
          ],
          [
           "Smdivi1 25uM4807.0p8"
          ],
          [
           "Smdivi1 25uM4687.0p7"
          ],
          [
           "Smdivi1 25uM4476.0p10"
          ],
          [
           "Smdivi1 25uM305.0p6"
          ],
          [
           "Smdivi1 25uM4476.0p10"
          ],
          [
           "Smdivi1 25uM2165.0p10"
          ],
          [
           "Smdivi1 25uM4687.0p7"
          ],
          [
           "Smdivi1 25uM4476.0p10"
          ],
          [
           "Smdivi1 25uM305.0p6"
          ],
          [
           "Smdivi1 25uM4687.0p7"
          ],
          [
           "Smdivi1 25uM4709.0p9"
          ],
          [
           "Smdivi1 25uM2165.0p10"
          ],
          [
           "Smdivi1 25uM2165.0p10"
          ],
          [
           "Smdivi1 25uM4476.0p10"
          ],
          [
           "Smdivi1 25uM4287.0p5"
          ],
          [
           "Smdivi1 25uM305.0p6"
          ],
          [
           "Smdivi1 25uM4807.0p8"
          ],
          [
           "Smdivi1 25uM4476.0p10"
          ],
          [
           "Smdivi1 25uM4807.0p8"
          ]
         ],
         "hovertemplate": "group=%{x}<br>group_p=%{y}<br>group_with_p=%{customdata[0]}<extra></extra>",
         "legendgroup": "Smdivi1 25uM",
         "marker": {
          "color": "#FFA15A"
         },
         "name": "Smdivi1 25uM",
         "notched": true,
         "offsetgroup": "Smdivi1 25uM",
         "orientation": "v",
         "quartilemethod": "inclusive",
         "showlegend": true,
         "type": "box",
         "x": [
          "Smdivi1 25uM",
          "Smdivi1 25uM",
          "Smdivi1 25uM",
          "Smdivi1 25uM",
          "Smdivi1 25uM",
          "Smdivi1 25uM",
          "Smdivi1 25uM",
          "Smdivi1 25uM",
          "Smdivi1 25uM",
          "Smdivi1 25uM",
          "Smdivi1 25uM",
          "Smdivi1 25uM",
          "Smdivi1 25uM",
          "Smdivi1 25uM",
          "Smdivi1 25uM",
          "Smdivi1 25uM",
          "Smdivi1 25uM",
          "Smdivi1 25uM",
          "Smdivi1 25uM",
          "Smdivi1 25uM",
          "Smdivi1 25uM",
          "Smdivi1 25uM",
          "Smdivi1 25uM",
          "Smdivi1 25uM",
          "Smdivi1 25uM",
          "Smdivi1 25uM",
          "Smdivi1 25uM",
          "Smdivi1 25uM",
          "Smdivi1 25uM",
          "Smdivi1 25uM",
          "Smdivi1 25uM",
          "Smdivi1 25uM",
          "Smdivi1 25uM",
          "Smdivi1 25uM",
          "Smdivi1 25uM"
         ],
         "x0": " ",
         "xaxis": "x",
         "y": [
          "Smdivi1 25uMp5",
          "Smdivi1 25uMp5",
          "Smdivi1 25uMp7",
          "Smdivi1 25uMp10",
          "Smdivi1 25uMp9",
          "Smdivi1 25uMp7",
          "Smdivi1 25uMp5",
          "Smdivi1 25uMp9",
          "Smdivi1 25uMp6",
          "Smdivi1 25uMp9",
          "Smdivi1 25uMp9",
          "Smdivi1 25uMp7",
          "Smdivi1 25uMp10",
          "Smdivi1 25uMp6",
          "Smdivi1 25uMp8",
          "Smdivi1 25uMp5",
          "Smdivi1 25uMp8",
          "Smdivi1 25uMp7",
          "Smdivi1 25uMp10",
          "Smdivi1 25uMp6",
          "Smdivi1 25uMp10",
          "Smdivi1 25uMp10",
          "Smdivi1 25uMp7",
          "Smdivi1 25uMp10",
          "Smdivi1 25uMp6",
          "Smdivi1 25uMp7",
          "Smdivi1 25uMp9",
          "Smdivi1 25uMp10",
          "Smdivi1 25uMp10",
          "Smdivi1 25uMp10",
          "Smdivi1 25uMp5",
          "Smdivi1 25uMp6",
          "Smdivi1 25uMp8",
          "Smdivi1 25uMp10",
          "Smdivi1 25uMp8"
         ],
         "y0": " ",
         "yaxis": "y"
        },
        {
         "alignmentgroup": "True",
         "boxpoints": "all",
         "customdata": [
          [
           "SDMSO4807.0p8"
          ],
          [
           "SDMSO4807.0p8"
          ],
          [
           "SDMSO4287.0p5"
          ],
          [
           "SDMSO4287.0p5"
          ],
          [
           "SDMSO4287.0p5"
          ],
          [
           "SDMSO4709.0p9"
          ],
          [
           "SDMSO4709.0p9"
          ],
          [
           "SDMSO305.0p6"
          ],
          [
           "SDMSO4709.0p9"
          ],
          [
           "SDMSO4807.0p8"
          ],
          [
           "SDMSO305.0p6"
          ],
          [
           "SDMSO4287.0p5"
          ],
          [
           "SDMSO4687.0p7"
          ],
          [
           "SDMSO4709.0p9"
          ],
          [
           "SDMSO4687.0p7"
          ],
          [
           "SDMSO4476.0p10"
          ],
          [
           "SDMSO4687.0p7"
          ],
          [
           "SDMSO4476.0p10"
          ],
          [
           "SDMSO4709.0p9"
          ],
          [
           "SDMSO2165.0p10"
          ],
          [
           "SDMSO4687.0p7"
          ],
          [
           "SDMSO4687.0p7"
          ],
          [
           "SDMSO305.0p6"
          ],
          [
           "SDMSO4476.0p10"
          ],
          [
           "SDMSO305.0p6"
          ],
          [
           "SDMSO4807.0p8"
          ],
          [
           "SDMSO305.0p6"
          ],
          [
           "SDMSO4287.0p5"
          ],
          [
           "SDMSO4709.0p9"
          ],
          [
           "SDMSO305.0p6"
          ],
          [
           "SDMSO4287.0p5"
          ],
          [
           "SDMSO4687.0p7"
          ],
          [
           "SDMSO4476.0p10"
          ],
          [
           "SDMSO4807.0p8"
          ]
         ],
         "hovertemplate": "group=%{x}<br>group_p=%{y}<br>group_with_p=%{customdata[0]}<extra></extra>",
         "legendgroup": "SDMSO",
         "marker": {
          "color": "#19d3f3"
         },
         "name": "SDMSO",
         "notched": true,
         "offsetgroup": "SDMSO",
         "orientation": "v",
         "quartilemethod": "inclusive",
         "showlegend": true,
         "type": "box",
         "x": [
          "SDMSO",
          "SDMSO",
          "SDMSO",
          "SDMSO",
          "SDMSO",
          "SDMSO",
          "SDMSO",
          "SDMSO",
          "SDMSO",
          "SDMSO",
          "SDMSO",
          "SDMSO",
          "SDMSO",
          "SDMSO",
          "SDMSO",
          "SDMSO",
          "SDMSO",
          "SDMSO",
          "SDMSO",
          "SDMSO",
          "SDMSO",
          "SDMSO",
          "SDMSO",
          "SDMSO",
          "SDMSO",
          "SDMSO",
          "SDMSO",
          "SDMSO",
          "SDMSO",
          "SDMSO",
          "SDMSO",
          "SDMSO",
          "SDMSO",
          "SDMSO"
         ],
         "x0": " ",
         "xaxis": "x",
         "y": [
          "SDMSOp8",
          "SDMSOp8",
          "SDMSOp5",
          "SDMSOp5",
          "SDMSOp5",
          "SDMSOp9",
          "SDMSOp9",
          "SDMSOp6",
          "SDMSOp9",
          "SDMSOp8",
          "SDMSOp6",
          "SDMSOp5",
          "SDMSOp7",
          "SDMSOp9",
          "SDMSOp7",
          "SDMSOp10",
          "SDMSOp7",
          "SDMSOp10",
          "SDMSOp9",
          "SDMSOp10",
          "SDMSOp7",
          "SDMSOp7",
          "SDMSOp6",
          "SDMSOp10",
          "SDMSOp6",
          "SDMSOp8",
          "SDMSOp6",
          "SDMSOp5",
          "SDMSOp9",
          "SDMSOp6",
          "SDMSOp5",
          "SDMSOp7",
          "SDMSOp10",
          "SDMSOp8"
         ],
         "y0": " ",
         "yaxis": "y"
        },
        {
         "alignmentgroup": "True",
         "boxpoints": "all",
         "customdata": [
          [
           "Mmdivi1 25uM4715.0p6"
          ],
          [
           "Mmdivi1 25uM4212.0p9"
          ],
          [
           "Mmdivi1 25uM4721.0p5"
          ],
          [
           "Mmdivi1 25uM4799.0p8"
          ],
          [
           "Mmdivi1 25uM4721.0p5"
          ],
          [
           "Mmdivi1 25uM4799.0p8"
          ],
          [
           "Mmdivi1 25uM4715.0p6"
          ],
          [
           "Mmdivi1 25uM4819.0p4"
          ],
          [
           "Mmdivi1 25uM4799.0p8"
          ],
          [
           "Mmdivi1 25uM4819.0p4"
          ],
          [
           "Mmdivi1 25uM4212.0p9"
          ],
          [
           "Mmdivi1 25uM4721.0p5"
          ],
          [
           "Mmdivi1 25uM4212.0p9"
          ],
          [
           "Mmdivi1 25uM4799.0p8"
          ],
          [
           "Mmdivi1 25uM4715.0p6"
          ],
          [
           "Mmdivi1 25uM4715.0p6"
          ],
          [
           "Mmdivi1 25uM4721.0p5"
          ],
          [
           "Mmdivi1 25uM4721.0p5"
          ],
          [
           "Mmdivi1 25uM4819.0p4"
          ],
          [
           "Mmdivi1 25uM4715.0p6"
          ],
          [
           "Mmdivi1 25uM4212.0p9"
          ],
          [
           "Mmdivi1 25uM4721.0p5"
          ],
          [
           "Mmdivi1 25uM4212.0p9"
          ],
          [
           "Mmdivi1 25uM4715.0p6"
          ],
          [
           "Mmdivi1 25uM4799.0p8"
          ]
         ],
         "hovertemplate": "group=%{x}<br>group_p=%{y}<br>group_with_p=%{customdata[0]}<extra></extra>",
         "legendgroup": "Mmdivi1 25uM",
         "marker": {
          "color": "#FF6692"
         },
         "name": "Mmdivi1 25uM",
         "notched": true,
         "offsetgroup": "Mmdivi1 25uM",
         "orientation": "v",
         "quartilemethod": "inclusive",
         "showlegend": true,
         "type": "box",
         "x": [
          "Mmdivi1 25uM",
          "Mmdivi1 25uM",
          "Mmdivi1 25uM",
          "Mmdivi1 25uM",
          "Mmdivi1 25uM",
          "Mmdivi1 25uM",
          "Mmdivi1 25uM",
          "Mmdivi1 25uM",
          "Mmdivi1 25uM",
          "Mmdivi1 25uM",
          "Mmdivi1 25uM",
          "Mmdivi1 25uM",
          "Mmdivi1 25uM",
          "Mmdivi1 25uM",
          "Mmdivi1 25uM",
          "Mmdivi1 25uM",
          "Mmdivi1 25uM",
          "Mmdivi1 25uM",
          "Mmdivi1 25uM",
          "Mmdivi1 25uM",
          "Mmdivi1 25uM",
          "Mmdivi1 25uM",
          "Mmdivi1 25uM",
          "Mmdivi1 25uM",
          "Mmdivi1 25uM"
         ],
         "x0": " ",
         "xaxis": "x",
         "y": [
          "Mmdivi1 25uMp6",
          "Mmdivi1 25uMp9",
          "Mmdivi1 25uMp5",
          "Mmdivi1 25uMp8",
          "Mmdivi1 25uMp5",
          "Mmdivi1 25uMp8",
          "Mmdivi1 25uMp6",
          "Mmdivi1 25uMp4",
          "Mmdivi1 25uMp8",
          "Mmdivi1 25uMp4",
          "Mmdivi1 25uMp9",
          "Mmdivi1 25uMp5",
          "Mmdivi1 25uMp9",
          "Mmdivi1 25uMp8",
          "Mmdivi1 25uMp6",
          "Mmdivi1 25uMp6",
          "Mmdivi1 25uMp5",
          "Mmdivi1 25uMp5",
          "Mmdivi1 25uMp4",
          "Mmdivi1 25uMp6",
          "Mmdivi1 25uMp9",
          "Mmdivi1 25uMp5",
          "Mmdivi1 25uMp9",
          "Mmdivi1 25uMp6",
          "Mmdivi1 25uMp8"
         ],
         "y0": " ",
         "yaxis": "y"
        }
       ],
       "layout": {
        "boxmode": "overlay",
        "font": {
         "color": "Black",
         "family": "Arial",
         "size": 20
        },
        "legend": {
         "title": {
          "text": "group"
         },
         "tracegroupgap": 0
        },
        "margin": {
         "t": 60
        },
        "template": {
         "data": {
          "bar": [
           {
            "error_x": {
             "color": "#2a3f5f"
            },
            "error_y": {
             "color": "#2a3f5f"
            },
            "marker": {
             "line": {
              "color": "#E5ECF6",
              "width": 0.5
             },
             "pattern": {
              "fillmode": "overlay",
              "size": 10,
              "solidity": 0.2
             }
            },
            "type": "bar"
           }
          ],
          "barpolar": [
           {
            "marker": {
             "line": {
              "color": "#E5ECF6",
              "width": 0.5
             },
             "pattern": {
              "fillmode": "overlay",
              "size": 10,
              "solidity": 0.2
             }
            },
            "type": "barpolar"
           }
          ],
          "carpet": [
           {
            "aaxis": {
             "endlinecolor": "#2a3f5f",
             "gridcolor": "white",
             "linecolor": "white",
             "minorgridcolor": "white",
             "startlinecolor": "#2a3f5f"
            },
            "baxis": {
             "endlinecolor": "#2a3f5f",
             "gridcolor": "white",
             "linecolor": "white",
             "minorgridcolor": "white",
             "startlinecolor": "#2a3f5f"
            },
            "type": "carpet"
           }
          ],
          "choropleth": [
           {
            "colorbar": {
             "outlinewidth": 0,
             "ticks": ""
            },
            "type": "choropleth"
           }
          ],
          "contour": [
           {
            "colorbar": {
             "outlinewidth": 0,
             "ticks": ""
            },
            "colorscale": [
             [
              0,
              "#0d0887"
             ],
             [
              0.1111111111111111,
              "#46039f"
             ],
             [
              0.2222222222222222,
              "#7201a8"
             ],
             [
              0.3333333333333333,
              "#9c179e"
             ],
             [
              0.4444444444444444,
              "#bd3786"
             ],
             [
              0.5555555555555556,
              "#d8576b"
             ],
             [
              0.6666666666666666,
              "#ed7953"
             ],
             [
              0.7777777777777778,
              "#fb9f3a"
             ],
             [
              0.8888888888888888,
              "#fdca26"
             ],
             [
              1,
              "#f0f921"
             ]
            ],
            "type": "contour"
           }
          ],
          "contourcarpet": [
           {
            "colorbar": {
             "outlinewidth": 0,
             "ticks": ""
            },
            "type": "contourcarpet"
           }
          ],
          "heatmap": [
           {
            "colorbar": {
             "outlinewidth": 0,
             "ticks": ""
            },
            "colorscale": [
             [
              0,
              "#0d0887"
             ],
             [
              0.1111111111111111,
              "#46039f"
             ],
             [
              0.2222222222222222,
              "#7201a8"
             ],
             [
              0.3333333333333333,
              "#9c179e"
             ],
             [
              0.4444444444444444,
              "#bd3786"
             ],
             [
              0.5555555555555556,
              "#d8576b"
             ],
             [
              0.6666666666666666,
              "#ed7953"
             ],
             [
              0.7777777777777778,
              "#fb9f3a"
             ],
             [
              0.8888888888888888,
              "#fdca26"
             ],
             [
              1,
              "#f0f921"
             ]
            ],
            "type": "heatmap"
           }
          ],
          "heatmapgl": [
           {
            "colorbar": {
             "outlinewidth": 0,
             "ticks": ""
            },
            "colorscale": [
             [
              0,
              "#0d0887"
             ],
             [
              0.1111111111111111,
              "#46039f"
             ],
             [
              0.2222222222222222,
              "#7201a8"
             ],
             [
              0.3333333333333333,
              "#9c179e"
             ],
             [
              0.4444444444444444,
              "#bd3786"
             ],
             [
              0.5555555555555556,
              "#d8576b"
             ],
             [
              0.6666666666666666,
              "#ed7953"
             ],
             [
              0.7777777777777778,
              "#fb9f3a"
             ],
             [
              0.8888888888888888,
              "#fdca26"
             ],
             [
              1,
              "#f0f921"
             ]
            ],
            "type": "heatmapgl"
           }
          ],
          "histogram": [
           {
            "marker": {
             "pattern": {
              "fillmode": "overlay",
              "size": 10,
              "solidity": 0.2
             }
            },
            "type": "histogram"
           }
          ],
          "histogram2d": [
           {
            "colorbar": {
             "outlinewidth": 0,
             "ticks": ""
            },
            "colorscale": [
             [
              0,
              "#0d0887"
             ],
             [
              0.1111111111111111,
              "#46039f"
             ],
             [
              0.2222222222222222,
              "#7201a8"
             ],
             [
              0.3333333333333333,
              "#9c179e"
             ],
             [
              0.4444444444444444,
              "#bd3786"
             ],
             [
              0.5555555555555556,
              "#d8576b"
             ],
             [
              0.6666666666666666,
              "#ed7953"
             ],
             [
              0.7777777777777778,
              "#fb9f3a"
             ],
             [
              0.8888888888888888,
              "#fdca26"
             ],
             [
              1,
              "#f0f921"
             ]
            ],
            "type": "histogram2d"
           }
          ],
          "histogram2dcontour": [
           {
            "colorbar": {
             "outlinewidth": 0,
             "ticks": ""
            },
            "colorscale": [
             [
              0,
              "#0d0887"
             ],
             [
              0.1111111111111111,
              "#46039f"
             ],
             [
              0.2222222222222222,
              "#7201a8"
             ],
             [
              0.3333333333333333,
              "#9c179e"
             ],
             [
              0.4444444444444444,
              "#bd3786"
             ],
             [
              0.5555555555555556,
              "#d8576b"
             ],
             [
              0.6666666666666666,
              "#ed7953"
             ],
             [
              0.7777777777777778,
              "#fb9f3a"
             ],
             [
              0.8888888888888888,
              "#fdca26"
             ],
             [
              1,
              "#f0f921"
             ]
            ],
            "type": "histogram2dcontour"
           }
          ],
          "mesh3d": [
           {
            "colorbar": {
             "outlinewidth": 0,
             "ticks": ""
            },
            "type": "mesh3d"
           }
          ],
          "parcoords": [
           {
            "line": {
             "colorbar": {
              "outlinewidth": 0,
              "ticks": ""
             }
            },
            "type": "parcoords"
           }
          ],
          "pie": [
           {
            "automargin": true,
            "type": "pie"
           }
          ],
          "scatter": [
           {
            "fillpattern": {
             "fillmode": "overlay",
             "size": 10,
             "solidity": 0.2
            },
            "type": "scatter"
           }
          ],
          "scatter3d": [
           {
            "line": {
             "colorbar": {
              "outlinewidth": 0,
              "ticks": ""
             }
            },
            "marker": {
             "colorbar": {
              "outlinewidth": 0,
              "ticks": ""
             }
            },
            "type": "scatter3d"
           }
          ],
          "scattercarpet": [
           {
            "marker": {
             "colorbar": {
              "outlinewidth": 0,
              "ticks": ""
             }
            },
            "type": "scattercarpet"
           }
          ],
          "scattergeo": [
           {
            "marker": {
             "colorbar": {
              "outlinewidth": 0,
              "ticks": ""
             }
            },
            "type": "scattergeo"
           }
          ],
          "scattergl": [
           {
            "marker": {
             "colorbar": {
              "outlinewidth": 0,
              "ticks": ""
             }
            },
            "type": "scattergl"
           }
          ],
          "scattermapbox": [
           {
            "marker": {
             "colorbar": {
              "outlinewidth": 0,
              "ticks": ""
             }
            },
            "type": "scattermapbox"
           }
          ],
          "scatterpolar": [
           {
            "marker": {
             "colorbar": {
              "outlinewidth": 0,
              "ticks": ""
             }
            },
            "type": "scatterpolar"
           }
          ],
          "scatterpolargl": [
           {
            "marker": {
             "colorbar": {
              "outlinewidth": 0,
              "ticks": ""
             }
            },
            "type": "scatterpolargl"
           }
          ],
          "scatterternary": [
           {
            "marker": {
             "colorbar": {
              "outlinewidth": 0,
              "ticks": ""
             }
            },
            "type": "scatterternary"
           }
          ],
          "surface": [
           {
            "colorbar": {
             "outlinewidth": 0,
             "ticks": ""
            },
            "colorscale": [
             [
              0,
              "#0d0887"
             ],
             [
              0.1111111111111111,
              "#46039f"
             ],
             [
              0.2222222222222222,
              "#7201a8"
             ],
             [
              0.3333333333333333,
              "#9c179e"
             ],
             [
              0.4444444444444444,
              "#bd3786"
             ],
             [
              0.5555555555555556,
              "#d8576b"
             ],
             [
              0.6666666666666666,
              "#ed7953"
             ],
             [
              0.7777777777777778,
              "#fb9f3a"
             ],
             [
              0.8888888888888888,
              "#fdca26"
             ],
             [
              1,
              "#f0f921"
             ]
            ],
            "type": "surface"
           }
          ],
          "table": [
           {
            "cells": {
             "fill": {
              "color": "#EBF0F8"
             },
             "line": {
              "color": "white"
             }
            },
            "header": {
             "fill": {
              "color": "#C8D4E3"
             },
             "line": {
              "color": "white"
             }
            },
            "type": "table"
           }
          ]
         },
         "layout": {
          "annotationdefaults": {
           "arrowcolor": "#2a3f5f",
           "arrowhead": 0,
           "arrowwidth": 1
          },
          "autotypenumbers": "strict",
          "coloraxis": {
           "colorbar": {
            "outlinewidth": 0,
            "ticks": ""
           }
          },
          "colorscale": {
           "diverging": [
            [
             0,
             "#8e0152"
            ],
            [
             0.1,
             "#c51b7d"
            ],
            [
             0.2,
             "#de77ae"
            ],
            [
             0.3,
             "#f1b6da"
            ],
            [
             0.4,
             "#fde0ef"
            ],
            [
             0.5,
             "#f7f7f7"
            ],
            [
             0.6,
             "#e6f5d0"
            ],
            [
             0.7,
             "#b8e186"
            ],
            [
             0.8,
             "#7fbc41"
            ],
            [
             0.9,
             "#4d9221"
            ],
            [
             1,
             "#276419"
            ]
           ],
           "sequential": [
            [
             0,
             "#0d0887"
            ],
            [
             0.1111111111111111,
             "#46039f"
            ],
            [
             0.2222222222222222,
             "#7201a8"
            ],
            [
             0.3333333333333333,
             "#9c179e"
            ],
            [
             0.4444444444444444,
             "#bd3786"
            ],
            [
             0.5555555555555556,
             "#d8576b"
            ],
            [
             0.6666666666666666,
             "#ed7953"
            ],
            [
             0.7777777777777778,
             "#fb9f3a"
            ],
            [
             0.8888888888888888,
             "#fdca26"
            ],
            [
             1,
             "#f0f921"
            ]
           ],
           "sequentialminus": [
            [
             0,
             "#0d0887"
            ],
            [
             0.1111111111111111,
             "#46039f"
            ],
            [
             0.2222222222222222,
             "#7201a8"
            ],
            [
             0.3333333333333333,
             "#9c179e"
            ],
            [
             0.4444444444444444,
             "#bd3786"
            ],
            [
             0.5555555555555556,
             "#d8576b"
            ],
            [
             0.6666666666666666,
             "#ed7953"
            ],
            [
             0.7777777777777778,
             "#fb9f3a"
            ],
            [
             0.8888888888888888,
             "#fdca26"
            ],
            [
             1,
             "#f0f921"
            ]
           ]
          },
          "colorway": [
           "#636efa",
           "#EF553B",
           "#00cc96",
           "#ab63fa",
           "#FFA15A",
           "#19d3f3",
           "#FF6692",
           "#B6E880",
           "#FF97FF",
           "#FECB52"
          ],
          "font": {
           "color": "#2a3f5f"
          },
          "geo": {
           "bgcolor": "white",
           "lakecolor": "white",
           "landcolor": "#E5ECF6",
           "showlakes": true,
           "showland": true,
           "subunitcolor": "white"
          },
          "hoverlabel": {
           "align": "left"
          },
          "hovermode": "closest",
          "mapbox": {
           "style": "light"
          },
          "paper_bgcolor": "white",
          "plot_bgcolor": "#E5ECF6",
          "polar": {
           "angularaxis": {
            "gridcolor": "white",
            "linecolor": "white",
            "ticks": ""
           },
           "bgcolor": "#E5ECF6",
           "radialaxis": {
            "gridcolor": "white",
            "linecolor": "white",
            "ticks": ""
           }
          },
          "scene": {
           "xaxis": {
            "backgroundcolor": "#E5ECF6",
            "gridcolor": "white",
            "gridwidth": 2,
            "linecolor": "white",
            "showbackground": true,
            "ticks": "",
            "zerolinecolor": "white"
           },
           "yaxis": {
            "backgroundcolor": "#E5ECF6",
            "gridcolor": "white",
            "gridwidth": 2,
            "linecolor": "white",
            "showbackground": true,
            "ticks": "",
            "zerolinecolor": "white"
           },
           "zaxis": {
            "backgroundcolor": "#E5ECF6",
            "gridcolor": "white",
            "gridwidth": 2,
            "linecolor": "white",
            "showbackground": true,
            "ticks": "",
            "zerolinecolor": "white"
           }
          },
          "shapedefaults": {
           "line": {
            "color": "#2a3f5f"
           }
          },
          "ternary": {
           "aaxis": {
            "gridcolor": "white",
            "linecolor": "white",
            "ticks": ""
           },
           "baxis": {
            "gridcolor": "white",
            "linecolor": "white",
            "ticks": ""
           },
           "bgcolor": "#E5ECF6",
           "caxis": {
            "gridcolor": "white",
            "linecolor": "white",
            "ticks": ""
           }
          },
          "title": {
           "x": 0.05
          },
          "xaxis": {
           "automargin": true,
           "gridcolor": "white",
           "linecolor": "white",
           "ticks": "",
           "title": {
            "standoff": 15
           },
           "zerolinecolor": "white",
           "zerolinewidth": 2
          },
          "yaxis": {
           "automargin": true,
           "gridcolor": "white",
           "linecolor": "white",
           "ticks": "",
           "title": {
            "standoff": 15
           },
           "zerolinecolor": "white",
           "zerolinewidth": 2
          }
         }
        },
        "xaxis": {
         "anchor": "y",
         "categoryarray": [
          "HCDMSO",
          "PREDMSO",
          "PREmdivi1 25uM",
          "MDMSO",
          "Mmdivi1 25uM",
          "SDMSO",
          "Smdivi1 25uM"
         ],
         "categoryorder": "array",
         "domain": [
          0,
          1
         ],
         "title": {
          "text": "group"
         }
        },
        "yaxis": {
         "anchor": "x",
         "domain": [
          0,
          1
         ],
         "title": {
          "text": "group_p"
         }
        }
       }
      },
      "text/html": [
       "<div>                            <div id=\"ae16a9d6-3169-4559-b8c5-235f9fec9637\" class=\"plotly-graph-div\" style=\"height:525px; width:100%;\"></div>            <script type=\"text/javascript\">                require([\"plotly\"], function(Plotly) {                    window.PLOTLYENV=window.PLOTLYENV || {};                                    if (document.getElementById(\"ae16a9d6-3169-4559-b8c5-235f9fec9637\")) {                    Plotly.newPlot(                        \"ae16a9d6-3169-4559-b8c5-235f9fec9637\",                        [{\"alignmentgroup\":\"True\",\"boxpoints\":\"all\",\"customdata\":[[\"HCDMSO1653.0p4\"],[\"HCDMSO1650.0p8\"],[\"HCDMSO143.0p7\"],[\"HCDMSO1650.0p5\"],[\"HCDMSO1653.0p9\"],[\"HCDMSO1650.0p9\"],[\"HCDMSO951.0p10\"],[\"HCDMSO1653.0p4\"],[\"HCDMSO143.0p7\"],[\"HCDMSO1653.0p6\"],[\"HCDMSO143.0p6\"],[\"HCDMSO1653.0p8\"],[\"HCDMSO1650.0p8\"],[\"HCDMSO1653.0p9\"],[\"HCDMSO1653.0p6\"],[\"HCDMSO1653.0p9\"],[\"HCDMSO1653.0p6\"],[\"HCDMSO1016.0p10\"],[\"HCDMSO1650.0p5\"],[\"HCDMSO1653.0p8\"],[\"HCDMSO1653.0p9\"],[\"HCDMSO1653.0p8\"],[\"HCDMSO143.0p7\"],[\"HCDMSO1650.0p5\"],[\"HCDMSO1650.0p8\"],[\"HCDMSO1653.0p8\"],[\"HCDMSO1650.0p9\"],[\"HCDMSO1653.0p4\"],[\"HCDMSO143.0p7\"],[\"HCDMSO1016.0p10\"],[\"HCDMSO1650.0p8\"],[\"HCDMSO1653.0p4\"],[\"HCDMSO1650.0p5\"],[\"HCDMSO495.0p6\"],[\"HCDMSO1653.0p6\"],[\"HCDMSO1653.0p4\"],[\"HCDMSO1653.0p9\"],[\"HCDMSO1016.0p10\"],[\"HCDMSO1653.0p6\"],[\"HCDMSO143.0p6\"],[\"HCDMSO1016.0p10\"],[\"HCDMSO1650.0p8\"],[\"HCDMSO951.0p10\"],[\"HCDMSO1650.0p9\"],[\"HCDMSO1650.0p9\"],[\"HCDMSO143.0p6\"],[\"HCDMSO143.0p6\"],[\"HCDMSO495.0p6\"],[\"HCDMSO1653.0p6\"],[\"HCDMSO951.0p10\"],[\"HCDMSO1650.0p5\"],[\"HCDMSO143.0p6\"],[\"HCDMSO143.0p6\"],[\"HCDMSO495.0p6\"],[\"HCDMSO1650.0p9\"],[\"HCDMSO1650.0p8\"],[\"HCDMSO495.0p6\"],[\"HCDMSO1653.0p9\"],[\"HCDMSO495.0p6\"],[\"HCDMSO1650.0p5\"],[\"HCDMSO1653.0p8\"],[\"HCDMSO1653.0p4\"],[\"HCDMSO1016.0p10\"],[\"HCDMSO1653.0p8\"]],\"hovertemplate\":\"group=%{x}<br>group_p=%{y}<br>group_with_p=%{customdata[0]}<extra></extra>\",\"legendgroup\":\"HCDMSO\",\"marker\":{\"color\":\"#636efa\"},\"name\":\"HCDMSO\",\"notched\":true,\"offsetgroup\":\"HCDMSO\",\"orientation\":\"v\",\"showlegend\":true,\"x\":[\"HCDMSO\",\"HCDMSO\",\"HCDMSO\",\"HCDMSO\",\"HCDMSO\",\"HCDMSO\",\"HCDMSO\",\"HCDMSO\",\"HCDMSO\",\"HCDMSO\",\"HCDMSO\",\"HCDMSO\",\"HCDMSO\",\"HCDMSO\",\"HCDMSO\",\"HCDMSO\",\"HCDMSO\",\"HCDMSO\",\"HCDMSO\",\"HCDMSO\",\"HCDMSO\",\"HCDMSO\",\"HCDMSO\",\"HCDMSO\",\"HCDMSO\",\"HCDMSO\",\"HCDMSO\",\"HCDMSO\",\"HCDMSO\",\"HCDMSO\",\"HCDMSO\",\"HCDMSO\",\"HCDMSO\",\"HCDMSO\",\"HCDMSO\",\"HCDMSO\",\"HCDMSO\",\"HCDMSO\",\"HCDMSO\",\"HCDMSO\",\"HCDMSO\",\"HCDMSO\",\"HCDMSO\",\"HCDMSO\",\"HCDMSO\",\"HCDMSO\",\"HCDMSO\",\"HCDMSO\",\"HCDMSO\",\"HCDMSO\",\"HCDMSO\",\"HCDMSO\",\"HCDMSO\",\"HCDMSO\",\"HCDMSO\",\"HCDMSO\",\"HCDMSO\",\"HCDMSO\",\"HCDMSO\",\"HCDMSO\",\"HCDMSO\",\"HCDMSO\",\"HCDMSO\",\"HCDMSO\"],\"x0\":\" \",\"xaxis\":\"x\",\"y\":[\"HCDMSOp4\",\"HCDMSOp8\",\"HCDMSOp7\",\"HCDMSOp5\",\"HCDMSOp9\",\"HCDMSOp9\",\"HCDMSOp10\",\"HCDMSOp4\",\"HCDMSOp7\",\"HCDMSOp6\",\"HCDMSOp6\",\"HCDMSOp8\",\"HCDMSOp8\",\"HCDMSOp9\",\"HCDMSOp6\",\"HCDMSOp9\",\"HCDMSOp6\",\"HCDMSOp10\",\"HCDMSOp5\",\"HCDMSOp8\",\"HCDMSOp9\",\"HCDMSOp8\",\"HCDMSOp7\",\"HCDMSOp5\",\"HCDMSOp8\",\"HCDMSOp8\",\"HCDMSOp9\",\"HCDMSOp4\",\"HCDMSOp7\",\"HCDMSOp10\",\"HCDMSOp8\",\"HCDMSOp4\",\"HCDMSOp5\",\"HCDMSOp6\",\"HCDMSOp6\",\"HCDMSOp4\",\"HCDMSOp9\",\"HCDMSOp10\",\"HCDMSOp6\",\"HCDMSOp6\",\"HCDMSOp10\",\"HCDMSOp8\",\"HCDMSOp10\",\"HCDMSOp9\",\"HCDMSOp9\",\"HCDMSOp6\",\"HCDMSOp6\",\"HCDMSOp6\",\"HCDMSOp6\",\"HCDMSOp10\",\"HCDMSOp5\",\"HCDMSOp6\",\"HCDMSOp6\",\"HCDMSOp6\",\"HCDMSOp9\",\"HCDMSOp8\",\"HCDMSOp6\",\"HCDMSOp9\",\"HCDMSOp6\",\"HCDMSOp5\",\"HCDMSOp8\",\"HCDMSOp4\",\"HCDMSOp10\",\"HCDMSOp8\"],\"y0\":\" \",\"yaxis\":\"y\",\"type\":\"box\",\"quartilemethod\":\"inclusive\"},{\"alignmentgroup\":\"True\",\"boxpoints\":\"all\",\"customdata\":[[\"PREDMSO4689.0p6\"],[\"PREDMSO4837.0p9\"],[\"PREDMSO4719.0p5\"],[\"PREDMSO4689.0p6\"],[\"PREDMSO4689.0p6\"],[\"PREDMSO4719.0p4\"],[\"PREDMSO4717.0p7\"],[\"PREDMSO4719.0p5\"],[\"PREDMSO4837.0p9\"],[\"PREDMSO4719.0p4\"],[\"PREDMSO4719.0p5\"],[\"PREDMSO4717.0p7\"],[\"PREDMSO4837.0p9\"],[\"PREDMSO4719.0p5\"],[\"PREDMSO4719.0p4\"],[\"PREDMSO4717.0p7\"],[\"PREDMSO4717.0p7\"],[\"PREDMSO4717.0p7\"],[\"PREDMSO4689.0p6\"],[\"PREDMSO4719.0p4\"],[\"PREDMSO4689.0p6\"],[\"PREDMSO4837.0p9\"],[\"PREDMSO4719.0p4\"],[\"PREDMSO4719.0p5\"],[\"PREDMSO4717.0p7\"],[\"PREDMSO4719.0p4\"],[\"PREDMSO4837.0p9\"]],\"hovertemplate\":\"group=%{x}<br>group_p=%{y}<br>group_with_p=%{customdata[0]}<extra></extra>\",\"legendgroup\":\"PREDMSO\",\"marker\":{\"color\":\"#EF553B\"},\"name\":\"PREDMSO\",\"notched\":true,\"offsetgroup\":\"PREDMSO\",\"orientation\":\"v\",\"showlegend\":true,\"x\":[\"PREDMSO\",\"PREDMSO\",\"PREDMSO\",\"PREDMSO\",\"PREDMSO\",\"PREDMSO\",\"PREDMSO\",\"PREDMSO\",\"PREDMSO\",\"PREDMSO\",\"PREDMSO\",\"PREDMSO\",\"PREDMSO\",\"PREDMSO\",\"PREDMSO\",\"PREDMSO\",\"PREDMSO\",\"PREDMSO\",\"PREDMSO\",\"PREDMSO\",\"PREDMSO\",\"PREDMSO\",\"PREDMSO\",\"PREDMSO\",\"PREDMSO\",\"PREDMSO\",\"PREDMSO\"],\"x0\":\" \",\"xaxis\":\"x\",\"y\":[\"PREDMSOp6\",\"PREDMSOp9\",\"PREDMSOp5\",\"PREDMSOp6\",\"PREDMSOp6\",\"PREDMSOp4\",\"PREDMSOp7\",\"PREDMSOp5\",\"PREDMSOp9\",\"PREDMSOp4\",\"PREDMSOp5\",\"PREDMSOp7\",\"PREDMSOp9\",\"PREDMSOp5\",\"PREDMSOp4\",\"PREDMSOp7\",\"PREDMSOp7\",\"PREDMSOp7\",\"PREDMSOp6\",\"PREDMSOp4\",\"PREDMSOp6\",\"PREDMSOp9\",\"PREDMSOp4\",\"PREDMSOp5\",\"PREDMSOp7\",\"PREDMSOp4\",\"PREDMSOp9\"],\"y0\":\" \",\"yaxis\":\"y\",\"type\":\"box\",\"quartilemethod\":\"inclusive\"},{\"alignmentgroup\":\"True\",\"boxpoints\":\"all\",\"customdata\":[[\"PREmdivi1 25uM4719.0p5\"],[\"PREmdivi1 25uM4719.0p4\"],[\"PREmdivi1 25uM4717.0p7\"],[\"PREmdivi1 25uM4717.0p7\"],[\"PREmdivi1 25uM4717.0p7\"],[\"PREmdivi1 25uM4837.0p9\"],[\"PREmdivi1 25uM4719.0p5\"],[\"PREmdivi1 25uM4719.0p5\"],[\"PREmdivi1 25uM4689.0p6\"],[\"PREmdivi1 25uM4717.0p7\"],[\"PREmdivi1 25uM4717.0p7\"],[\"PREmdivi1 25uM4719.0p5\"],[\"PREmdivi1 25uM4719.0p5\"],[\"PREmdivi1 25uM4719.0p4\"],[\"PREmdivi1 25uM4837.0p9\"],[\"PREmdivi1 25uM4837.0p9\"],[\"PREmdivi1 25uM4689.0p6\"],[\"PREmdivi1 25uM4689.0p6\"],[\"PREmdivi1 25uM4717.0p7\"],[\"PREmdivi1 25uM4837.0p9\"],[\"PREmdivi1 25uM4837.0p9\"],[\"PREmdivi1 25uM4719.0p5\"],[\"PREmdivi1 25uM4689.0p6\"],[\"PREmdivi1 25uM4719.0p4\"],[\"PREmdivi1 25uM4689.0p6\"]],\"hovertemplate\":\"group=%{x}<br>group_p=%{y}<br>group_with_p=%{customdata[0]}<extra></extra>\",\"legendgroup\":\"PREmdivi1 25uM\",\"marker\":{\"color\":\"#00cc96\"},\"name\":\"PREmdivi1 25uM\",\"notched\":true,\"offsetgroup\":\"PREmdivi1 25uM\",\"orientation\":\"v\",\"showlegend\":true,\"x\":[\"PREmdivi1 25uM\",\"PREmdivi1 25uM\",\"PREmdivi1 25uM\",\"PREmdivi1 25uM\",\"PREmdivi1 25uM\",\"PREmdivi1 25uM\",\"PREmdivi1 25uM\",\"PREmdivi1 25uM\",\"PREmdivi1 25uM\",\"PREmdivi1 25uM\",\"PREmdivi1 25uM\",\"PREmdivi1 25uM\",\"PREmdivi1 25uM\",\"PREmdivi1 25uM\",\"PREmdivi1 25uM\",\"PREmdivi1 25uM\",\"PREmdivi1 25uM\",\"PREmdivi1 25uM\",\"PREmdivi1 25uM\",\"PREmdivi1 25uM\",\"PREmdivi1 25uM\",\"PREmdivi1 25uM\",\"PREmdivi1 25uM\",\"PREmdivi1 25uM\",\"PREmdivi1 25uM\"],\"x0\":\" \",\"xaxis\":\"x\",\"y\":[\"PREmdivi1 25uMp5\",\"PREmdivi1 25uMp4\",\"PREmdivi1 25uMp7\",\"PREmdivi1 25uMp7\",\"PREmdivi1 25uMp7\",\"PREmdivi1 25uMp9\",\"PREmdivi1 25uMp5\",\"PREmdivi1 25uMp5\",\"PREmdivi1 25uMp6\",\"PREmdivi1 25uMp7\",\"PREmdivi1 25uMp7\",\"PREmdivi1 25uMp5\",\"PREmdivi1 25uMp5\",\"PREmdivi1 25uMp4\",\"PREmdivi1 25uMp9\",\"PREmdivi1 25uMp9\",\"PREmdivi1 25uMp6\",\"PREmdivi1 25uMp6\",\"PREmdivi1 25uMp7\",\"PREmdivi1 25uMp9\",\"PREmdivi1 25uMp9\",\"PREmdivi1 25uMp5\",\"PREmdivi1 25uMp6\",\"PREmdivi1 25uMp4\",\"PREmdivi1 25uMp6\"],\"y0\":\" \",\"yaxis\":\"y\",\"type\":\"box\",\"quartilemethod\":\"inclusive\"},{\"alignmentgroup\":\"True\",\"boxpoints\":\"all\",\"customdata\":[[\"MDMSO4887.0p7\"],[\"MDMSO4819.0p4\"],[\"MDMSO4819.0p4\"],[\"MDMSO4212.0p9\"],[\"MDMSO4212.0p9\"],[\"MDMSO4721.0p5\"],[\"MDMSO4715.0p6\"],[\"MDMSO4799.0p8\"],[\"MDMSO4715.0p6\"],[\"MDMSO4212.0p9\"],[\"MDMSO4887.0p7\"],[\"MDMSO4212.0p9\"],[\"MDMSO4799.0p8\"],[\"MDMSO4721.0p5\"],[\"MDMSO4721.0p5\"],[\"MDMSO4715.0p6\"],[\"MDMSO4887.0p7\"],[\"MDMSO4799.0p8\"],[\"MDMSO4715.0p6\"],[\"MDMSO4212.0p9\"],[\"MDMSO4799.0p8\"],[\"MDMSO4799.0p8\"],[\"MDMSO4715.0p6\"],[\"MDMSO4799.0p8\"],[\"MDMSO4819.0p4\"],[\"MDMSO4819.0p4\"],[\"MDMSO4721.0p5\"],[\"MDMSO4819.0p4\"],[\"MDMSO4715.0p6\"],[\"MDMSO4819.0p4\"]],\"hovertemplate\":\"group=%{x}<br>group_p=%{y}<br>group_with_p=%{customdata[0]}<extra></extra>\",\"legendgroup\":\"MDMSO\",\"marker\":{\"color\":\"#ab63fa\"},\"name\":\"MDMSO\",\"notched\":true,\"offsetgroup\":\"MDMSO\",\"orientation\":\"v\",\"showlegend\":true,\"x\":[\"MDMSO\",\"MDMSO\",\"MDMSO\",\"MDMSO\",\"MDMSO\",\"MDMSO\",\"MDMSO\",\"MDMSO\",\"MDMSO\",\"MDMSO\",\"MDMSO\",\"MDMSO\",\"MDMSO\",\"MDMSO\",\"MDMSO\",\"MDMSO\",\"MDMSO\",\"MDMSO\",\"MDMSO\",\"MDMSO\",\"MDMSO\",\"MDMSO\",\"MDMSO\",\"MDMSO\",\"MDMSO\",\"MDMSO\",\"MDMSO\",\"MDMSO\",\"MDMSO\",\"MDMSO\"],\"x0\":\" \",\"xaxis\":\"x\",\"y\":[\"MDMSOp7\",\"MDMSOp4\",\"MDMSOp4\",\"MDMSOp9\",\"MDMSOp9\",\"MDMSOp5\",\"MDMSOp6\",\"MDMSOp8\",\"MDMSOp6\",\"MDMSOp9\",\"MDMSOp7\",\"MDMSOp9\",\"MDMSOp8\",\"MDMSOp5\",\"MDMSOp5\",\"MDMSOp6\",\"MDMSOp7\",\"MDMSOp8\",\"MDMSOp6\",\"MDMSOp9\",\"MDMSOp8\",\"MDMSOp8\",\"MDMSOp6\",\"MDMSOp8\",\"MDMSOp4\",\"MDMSOp4\",\"MDMSOp5\",\"MDMSOp4\",\"MDMSOp6\",\"MDMSOp4\"],\"y0\":\" \",\"yaxis\":\"y\",\"type\":\"box\",\"quartilemethod\":\"inclusive\"},{\"alignmentgroup\":\"True\",\"boxpoints\":\"all\",\"customdata\":[[\"Smdivi1 25uM4287.0p5\"],[\"Smdivi1 25uM4287.0p5\"],[\"Smdivi1 25uM4687.0p7\"],[\"Smdivi1 25uM4476.0p10\"],[\"Smdivi1 25uM4709.0p9\"],[\"Smdivi1 25uM4687.0p7\"],[\"Smdivi1 25uM4287.0p5\"],[\"Smdivi1 25uM4709.0p9\"],[\"Smdivi1 25uM305.0p6\"],[\"Smdivi1 25uM4709.0p9\"],[\"Smdivi1 25uM4709.0p9\"],[\"Smdivi1 25uM4687.0p7\"],[\"Smdivi1 25uM2165.0p10\"],[\"Smdivi1 25uM305.0p6\"],[\"Smdivi1 25uM4807.0p8\"],[\"Smdivi1 25uM4287.0p5\"],[\"Smdivi1 25uM4807.0p8\"],[\"Smdivi1 25uM4687.0p7\"],[\"Smdivi1 25uM4476.0p10\"],[\"Smdivi1 25uM305.0p6\"],[\"Smdivi1 25uM4476.0p10\"],[\"Smdivi1 25uM2165.0p10\"],[\"Smdivi1 25uM4687.0p7\"],[\"Smdivi1 25uM4476.0p10\"],[\"Smdivi1 25uM305.0p6\"],[\"Smdivi1 25uM4687.0p7\"],[\"Smdivi1 25uM4709.0p9\"],[\"Smdivi1 25uM2165.0p10\"],[\"Smdivi1 25uM2165.0p10\"],[\"Smdivi1 25uM4476.0p10\"],[\"Smdivi1 25uM4287.0p5\"],[\"Smdivi1 25uM305.0p6\"],[\"Smdivi1 25uM4807.0p8\"],[\"Smdivi1 25uM4476.0p10\"],[\"Smdivi1 25uM4807.0p8\"]],\"hovertemplate\":\"group=%{x}<br>group_p=%{y}<br>group_with_p=%{customdata[0]}<extra></extra>\",\"legendgroup\":\"Smdivi1 25uM\",\"marker\":{\"color\":\"#FFA15A\"},\"name\":\"Smdivi1 25uM\",\"notched\":true,\"offsetgroup\":\"Smdivi1 25uM\",\"orientation\":\"v\",\"showlegend\":true,\"x\":[\"Smdivi1 25uM\",\"Smdivi1 25uM\",\"Smdivi1 25uM\",\"Smdivi1 25uM\",\"Smdivi1 25uM\",\"Smdivi1 25uM\",\"Smdivi1 25uM\",\"Smdivi1 25uM\",\"Smdivi1 25uM\",\"Smdivi1 25uM\",\"Smdivi1 25uM\",\"Smdivi1 25uM\",\"Smdivi1 25uM\",\"Smdivi1 25uM\",\"Smdivi1 25uM\",\"Smdivi1 25uM\",\"Smdivi1 25uM\",\"Smdivi1 25uM\",\"Smdivi1 25uM\",\"Smdivi1 25uM\",\"Smdivi1 25uM\",\"Smdivi1 25uM\",\"Smdivi1 25uM\",\"Smdivi1 25uM\",\"Smdivi1 25uM\",\"Smdivi1 25uM\",\"Smdivi1 25uM\",\"Smdivi1 25uM\",\"Smdivi1 25uM\",\"Smdivi1 25uM\",\"Smdivi1 25uM\",\"Smdivi1 25uM\",\"Smdivi1 25uM\",\"Smdivi1 25uM\",\"Smdivi1 25uM\"],\"x0\":\" \",\"xaxis\":\"x\",\"y\":[\"Smdivi1 25uMp5\",\"Smdivi1 25uMp5\",\"Smdivi1 25uMp7\",\"Smdivi1 25uMp10\",\"Smdivi1 25uMp9\",\"Smdivi1 25uMp7\",\"Smdivi1 25uMp5\",\"Smdivi1 25uMp9\",\"Smdivi1 25uMp6\",\"Smdivi1 25uMp9\",\"Smdivi1 25uMp9\",\"Smdivi1 25uMp7\",\"Smdivi1 25uMp10\",\"Smdivi1 25uMp6\",\"Smdivi1 25uMp8\",\"Smdivi1 25uMp5\",\"Smdivi1 25uMp8\",\"Smdivi1 25uMp7\",\"Smdivi1 25uMp10\",\"Smdivi1 25uMp6\",\"Smdivi1 25uMp10\",\"Smdivi1 25uMp10\",\"Smdivi1 25uMp7\",\"Smdivi1 25uMp10\",\"Smdivi1 25uMp6\",\"Smdivi1 25uMp7\",\"Smdivi1 25uMp9\",\"Smdivi1 25uMp10\",\"Smdivi1 25uMp10\",\"Smdivi1 25uMp10\",\"Smdivi1 25uMp5\",\"Smdivi1 25uMp6\",\"Smdivi1 25uMp8\",\"Smdivi1 25uMp10\",\"Smdivi1 25uMp8\"],\"y0\":\" \",\"yaxis\":\"y\",\"type\":\"box\",\"quartilemethod\":\"inclusive\"},{\"alignmentgroup\":\"True\",\"boxpoints\":\"all\",\"customdata\":[[\"SDMSO4807.0p8\"],[\"SDMSO4807.0p8\"],[\"SDMSO4287.0p5\"],[\"SDMSO4287.0p5\"],[\"SDMSO4287.0p5\"],[\"SDMSO4709.0p9\"],[\"SDMSO4709.0p9\"],[\"SDMSO305.0p6\"],[\"SDMSO4709.0p9\"],[\"SDMSO4807.0p8\"],[\"SDMSO305.0p6\"],[\"SDMSO4287.0p5\"],[\"SDMSO4687.0p7\"],[\"SDMSO4709.0p9\"],[\"SDMSO4687.0p7\"],[\"SDMSO4476.0p10\"],[\"SDMSO4687.0p7\"],[\"SDMSO4476.0p10\"],[\"SDMSO4709.0p9\"],[\"SDMSO2165.0p10\"],[\"SDMSO4687.0p7\"],[\"SDMSO4687.0p7\"],[\"SDMSO305.0p6\"],[\"SDMSO4476.0p10\"],[\"SDMSO305.0p6\"],[\"SDMSO4807.0p8\"],[\"SDMSO305.0p6\"],[\"SDMSO4287.0p5\"],[\"SDMSO4709.0p9\"],[\"SDMSO305.0p6\"],[\"SDMSO4287.0p5\"],[\"SDMSO4687.0p7\"],[\"SDMSO4476.0p10\"],[\"SDMSO4807.0p8\"]],\"hovertemplate\":\"group=%{x}<br>group_p=%{y}<br>group_with_p=%{customdata[0]}<extra></extra>\",\"legendgroup\":\"SDMSO\",\"marker\":{\"color\":\"#19d3f3\"},\"name\":\"SDMSO\",\"notched\":true,\"offsetgroup\":\"SDMSO\",\"orientation\":\"v\",\"showlegend\":true,\"x\":[\"SDMSO\",\"SDMSO\",\"SDMSO\",\"SDMSO\",\"SDMSO\",\"SDMSO\",\"SDMSO\",\"SDMSO\",\"SDMSO\",\"SDMSO\",\"SDMSO\",\"SDMSO\",\"SDMSO\",\"SDMSO\",\"SDMSO\",\"SDMSO\",\"SDMSO\",\"SDMSO\",\"SDMSO\",\"SDMSO\",\"SDMSO\",\"SDMSO\",\"SDMSO\",\"SDMSO\",\"SDMSO\",\"SDMSO\",\"SDMSO\",\"SDMSO\",\"SDMSO\",\"SDMSO\",\"SDMSO\",\"SDMSO\",\"SDMSO\",\"SDMSO\"],\"x0\":\" \",\"xaxis\":\"x\",\"y\":[\"SDMSOp8\",\"SDMSOp8\",\"SDMSOp5\",\"SDMSOp5\",\"SDMSOp5\",\"SDMSOp9\",\"SDMSOp9\",\"SDMSOp6\",\"SDMSOp9\",\"SDMSOp8\",\"SDMSOp6\",\"SDMSOp5\",\"SDMSOp7\",\"SDMSOp9\",\"SDMSOp7\",\"SDMSOp10\",\"SDMSOp7\",\"SDMSOp10\",\"SDMSOp9\",\"SDMSOp10\",\"SDMSOp7\",\"SDMSOp7\",\"SDMSOp6\",\"SDMSOp10\",\"SDMSOp6\",\"SDMSOp8\",\"SDMSOp6\",\"SDMSOp5\",\"SDMSOp9\",\"SDMSOp6\",\"SDMSOp5\",\"SDMSOp7\",\"SDMSOp10\",\"SDMSOp8\"],\"y0\":\" \",\"yaxis\":\"y\",\"type\":\"box\",\"quartilemethod\":\"inclusive\"},{\"alignmentgroup\":\"True\",\"boxpoints\":\"all\",\"customdata\":[[\"Mmdivi1 25uM4715.0p6\"],[\"Mmdivi1 25uM4212.0p9\"],[\"Mmdivi1 25uM4721.0p5\"],[\"Mmdivi1 25uM4799.0p8\"],[\"Mmdivi1 25uM4721.0p5\"],[\"Mmdivi1 25uM4799.0p8\"],[\"Mmdivi1 25uM4715.0p6\"],[\"Mmdivi1 25uM4819.0p4\"],[\"Mmdivi1 25uM4799.0p8\"],[\"Mmdivi1 25uM4819.0p4\"],[\"Mmdivi1 25uM4212.0p9\"],[\"Mmdivi1 25uM4721.0p5\"],[\"Mmdivi1 25uM4212.0p9\"],[\"Mmdivi1 25uM4799.0p8\"],[\"Mmdivi1 25uM4715.0p6\"],[\"Mmdivi1 25uM4715.0p6\"],[\"Mmdivi1 25uM4721.0p5\"],[\"Mmdivi1 25uM4721.0p5\"],[\"Mmdivi1 25uM4819.0p4\"],[\"Mmdivi1 25uM4715.0p6\"],[\"Mmdivi1 25uM4212.0p9\"],[\"Mmdivi1 25uM4721.0p5\"],[\"Mmdivi1 25uM4212.0p9\"],[\"Mmdivi1 25uM4715.0p6\"],[\"Mmdivi1 25uM4799.0p8\"]],\"hovertemplate\":\"group=%{x}<br>group_p=%{y}<br>group_with_p=%{customdata[0]}<extra></extra>\",\"legendgroup\":\"Mmdivi1 25uM\",\"marker\":{\"color\":\"#FF6692\"},\"name\":\"Mmdivi1 25uM\",\"notched\":true,\"offsetgroup\":\"Mmdivi1 25uM\",\"orientation\":\"v\",\"showlegend\":true,\"x\":[\"Mmdivi1 25uM\",\"Mmdivi1 25uM\",\"Mmdivi1 25uM\",\"Mmdivi1 25uM\",\"Mmdivi1 25uM\",\"Mmdivi1 25uM\",\"Mmdivi1 25uM\",\"Mmdivi1 25uM\",\"Mmdivi1 25uM\",\"Mmdivi1 25uM\",\"Mmdivi1 25uM\",\"Mmdivi1 25uM\",\"Mmdivi1 25uM\",\"Mmdivi1 25uM\",\"Mmdivi1 25uM\",\"Mmdivi1 25uM\",\"Mmdivi1 25uM\",\"Mmdivi1 25uM\",\"Mmdivi1 25uM\",\"Mmdivi1 25uM\",\"Mmdivi1 25uM\",\"Mmdivi1 25uM\",\"Mmdivi1 25uM\",\"Mmdivi1 25uM\",\"Mmdivi1 25uM\"],\"x0\":\" \",\"xaxis\":\"x\",\"y\":[\"Mmdivi1 25uMp6\",\"Mmdivi1 25uMp9\",\"Mmdivi1 25uMp5\",\"Mmdivi1 25uMp8\",\"Mmdivi1 25uMp5\",\"Mmdivi1 25uMp8\",\"Mmdivi1 25uMp6\",\"Mmdivi1 25uMp4\",\"Mmdivi1 25uMp8\",\"Mmdivi1 25uMp4\",\"Mmdivi1 25uMp9\",\"Mmdivi1 25uMp5\",\"Mmdivi1 25uMp9\",\"Mmdivi1 25uMp8\",\"Mmdivi1 25uMp6\",\"Mmdivi1 25uMp6\",\"Mmdivi1 25uMp5\",\"Mmdivi1 25uMp5\",\"Mmdivi1 25uMp4\",\"Mmdivi1 25uMp6\",\"Mmdivi1 25uMp9\",\"Mmdivi1 25uMp5\",\"Mmdivi1 25uMp9\",\"Mmdivi1 25uMp6\",\"Mmdivi1 25uMp8\"],\"y0\":\" \",\"yaxis\":\"y\",\"type\":\"box\",\"quartilemethod\":\"inclusive\"}],                        {\"template\":{\"data\":{\"histogram2dcontour\":[{\"type\":\"histogram2dcontour\",\"colorbar\":{\"outlinewidth\":0,\"ticks\":\"\"},\"colorscale\":[[0.0,\"#0d0887\"],[0.1111111111111111,\"#46039f\"],[0.2222222222222222,\"#7201a8\"],[0.3333333333333333,\"#9c179e\"],[0.4444444444444444,\"#bd3786\"],[0.5555555555555556,\"#d8576b\"],[0.6666666666666666,\"#ed7953\"],[0.7777777777777778,\"#fb9f3a\"],[0.8888888888888888,\"#fdca26\"],[1.0,\"#f0f921\"]]}],\"choropleth\":[{\"type\":\"choropleth\",\"colorbar\":{\"outlinewidth\":0,\"ticks\":\"\"}}],\"histogram2d\":[{\"type\":\"histogram2d\",\"colorbar\":{\"outlinewidth\":0,\"ticks\":\"\"},\"colorscale\":[[0.0,\"#0d0887\"],[0.1111111111111111,\"#46039f\"],[0.2222222222222222,\"#7201a8\"],[0.3333333333333333,\"#9c179e\"],[0.4444444444444444,\"#bd3786\"],[0.5555555555555556,\"#d8576b\"],[0.6666666666666666,\"#ed7953\"],[0.7777777777777778,\"#fb9f3a\"],[0.8888888888888888,\"#fdca26\"],[1.0,\"#f0f921\"]]}],\"heatmap\":[{\"type\":\"heatmap\",\"colorbar\":{\"outlinewidth\":0,\"ticks\":\"\"},\"colorscale\":[[0.0,\"#0d0887\"],[0.1111111111111111,\"#46039f\"],[0.2222222222222222,\"#7201a8\"],[0.3333333333333333,\"#9c179e\"],[0.4444444444444444,\"#bd3786\"],[0.5555555555555556,\"#d8576b\"],[0.6666666666666666,\"#ed7953\"],[0.7777777777777778,\"#fb9f3a\"],[0.8888888888888888,\"#fdca26\"],[1.0,\"#f0f921\"]]}],\"heatmapgl\":[{\"type\":\"heatmapgl\",\"colorbar\":{\"outlinewidth\":0,\"ticks\":\"\"},\"colorscale\":[[0.0,\"#0d0887\"],[0.1111111111111111,\"#46039f\"],[0.2222222222222222,\"#7201a8\"],[0.3333333333333333,\"#9c179e\"],[0.4444444444444444,\"#bd3786\"],[0.5555555555555556,\"#d8576b\"],[0.6666666666666666,\"#ed7953\"],[0.7777777777777778,\"#fb9f3a\"],[0.8888888888888888,\"#fdca26\"],[1.0,\"#f0f921\"]]}],\"contourcarpet\":[{\"type\":\"contourcarpet\",\"colorbar\":{\"outlinewidth\":0,\"ticks\":\"\"}}],\"contour\":[{\"type\":\"contour\",\"colorbar\":{\"outlinewidth\":0,\"ticks\":\"\"},\"colorscale\":[[0.0,\"#0d0887\"],[0.1111111111111111,\"#46039f\"],[0.2222222222222222,\"#7201a8\"],[0.3333333333333333,\"#9c179e\"],[0.4444444444444444,\"#bd3786\"],[0.5555555555555556,\"#d8576b\"],[0.6666666666666666,\"#ed7953\"],[0.7777777777777778,\"#fb9f3a\"],[0.8888888888888888,\"#fdca26\"],[1.0,\"#f0f921\"]]}],\"surface\":[{\"type\":\"surface\",\"colorbar\":{\"outlinewidth\":0,\"ticks\":\"\"},\"colorscale\":[[0.0,\"#0d0887\"],[0.1111111111111111,\"#46039f\"],[0.2222222222222222,\"#7201a8\"],[0.3333333333333333,\"#9c179e\"],[0.4444444444444444,\"#bd3786\"],[0.5555555555555556,\"#d8576b\"],[0.6666666666666666,\"#ed7953\"],[0.7777777777777778,\"#fb9f3a\"],[0.8888888888888888,\"#fdca26\"],[1.0,\"#f0f921\"]]}],\"mesh3d\":[{\"type\":\"mesh3d\",\"colorbar\":{\"outlinewidth\":0,\"ticks\":\"\"}}],\"scatter\":[{\"fillpattern\":{\"fillmode\":\"overlay\",\"size\":10,\"solidity\":0.2},\"type\":\"scatter\"}],\"parcoords\":[{\"type\":\"parcoords\",\"line\":{\"colorbar\":{\"outlinewidth\":0,\"ticks\":\"\"}}}],\"scatterpolargl\":[{\"type\":\"scatterpolargl\",\"marker\":{\"colorbar\":{\"outlinewidth\":0,\"ticks\":\"\"}}}],\"bar\":[{\"error_x\":{\"color\":\"#2a3f5f\"},\"error_y\":{\"color\":\"#2a3f5f\"},\"marker\":{\"line\":{\"color\":\"#E5ECF6\",\"width\":0.5},\"pattern\":{\"fillmode\":\"overlay\",\"size\":10,\"solidity\":0.2}},\"type\":\"bar\"}],\"scattergeo\":[{\"type\":\"scattergeo\",\"marker\":{\"colorbar\":{\"outlinewidth\":0,\"ticks\":\"\"}}}],\"scatterpolar\":[{\"type\":\"scatterpolar\",\"marker\":{\"colorbar\":{\"outlinewidth\":0,\"ticks\":\"\"}}}],\"histogram\":[{\"marker\":{\"pattern\":{\"fillmode\":\"overlay\",\"size\":10,\"solidity\":0.2}},\"type\":\"histogram\"}],\"scattergl\":[{\"type\":\"scattergl\",\"marker\":{\"colorbar\":{\"outlinewidth\":0,\"ticks\":\"\"}}}],\"scatter3d\":[{\"type\":\"scatter3d\",\"line\":{\"colorbar\":{\"outlinewidth\":0,\"ticks\":\"\"}},\"marker\":{\"colorbar\":{\"outlinewidth\":0,\"ticks\":\"\"}}}],\"scattermapbox\":[{\"type\":\"scattermapbox\",\"marker\":{\"colorbar\":{\"outlinewidth\":0,\"ticks\":\"\"}}}],\"scatterternary\":[{\"type\":\"scatterternary\",\"marker\":{\"colorbar\":{\"outlinewidth\":0,\"ticks\":\"\"}}}],\"scattercarpet\":[{\"type\":\"scattercarpet\",\"marker\":{\"colorbar\":{\"outlinewidth\":0,\"ticks\":\"\"}}}],\"carpet\":[{\"aaxis\":{\"endlinecolor\":\"#2a3f5f\",\"gridcolor\":\"white\",\"linecolor\":\"white\",\"minorgridcolor\":\"white\",\"startlinecolor\":\"#2a3f5f\"},\"baxis\":{\"endlinecolor\":\"#2a3f5f\",\"gridcolor\":\"white\",\"linecolor\":\"white\",\"minorgridcolor\":\"white\",\"startlinecolor\":\"#2a3f5f\"},\"type\":\"carpet\"}],\"table\":[{\"cells\":{\"fill\":{\"color\":\"#EBF0F8\"},\"line\":{\"color\":\"white\"}},\"header\":{\"fill\":{\"color\":\"#C8D4E3\"},\"line\":{\"color\":\"white\"}},\"type\":\"table\"}],\"barpolar\":[{\"marker\":{\"line\":{\"color\":\"#E5ECF6\",\"width\":0.5},\"pattern\":{\"fillmode\":\"overlay\",\"size\":10,\"solidity\":0.2}},\"type\":\"barpolar\"}],\"pie\":[{\"automargin\":true,\"type\":\"pie\"}]},\"layout\":{\"autotypenumbers\":\"strict\",\"colorway\":[\"#636efa\",\"#EF553B\",\"#00cc96\",\"#ab63fa\",\"#FFA15A\",\"#19d3f3\",\"#FF6692\",\"#B6E880\",\"#FF97FF\",\"#FECB52\"],\"font\":{\"color\":\"#2a3f5f\"},\"hovermode\":\"closest\",\"hoverlabel\":{\"align\":\"left\"},\"paper_bgcolor\":\"white\",\"plot_bgcolor\":\"#E5ECF6\",\"polar\":{\"bgcolor\":\"#E5ECF6\",\"angularaxis\":{\"gridcolor\":\"white\",\"linecolor\":\"white\",\"ticks\":\"\"},\"radialaxis\":{\"gridcolor\":\"white\",\"linecolor\":\"white\",\"ticks\":\"\"}},\"ternary\":{\"bgcolor\":\"#E5ECF6\",\"aaxis\":{\"gridcolor\":\"white\",\"linecolor\":\"white\",\"ticks\":\"\"},\"baxis\":{\"gridcolor\":\"white\",\"linecolor\":\"white\",\"ticks\":\"\"},\"caxis\":{\"gridcolor\":\"white\",\"linecolor\":\"white\",\"ticks\":\"\"}},\"coloraxis\":{\"colorbar\":{\"outlinewidth\":0,\"ticks\":\"\"}},\"colorscale\":{\"sequential\":[[0.0,\"#0d0887\"],[0.1111111111111111,\"#46039f\"],[0.2222222222222222,\"#7201a8\"],[0.3333333333333333,\"#9c179e\"],[0.4444444444444444,\"#bd3786\"],[0.5555555555555556,\"#d8576b\"],[0.6666666666666666,\"#ed7953\"],[0.7777777777777778,\"#fb9f3a\"],[0.8888888888888888,\"#fdca26\"],[1.0,\"#f0f921\"]],\"sequentialminus\":[[0.0,\"#0d0887\"],[0.1111111111111111,\"#46039f\"],[0.2222222222222222,\"#7201a8\"],[0.3333333333333333,\"#9c179e\"],[0.4444444444444444,\"#bd3786\"],[0.5555555555555556,\"#d8576b\"],[0.6666666666666666,\"#ed7953\"],[0.7777777777777778,\"#fb9f3a\"],[0.8888888888888888,\"#fdca26\"],[1.0,\"#f0f921\"]],\"diverging\":[[0,\"#8e0152\"],[0.1,\"#c51b7d\"],[0.2,\"#de77ae\"],[0.3,\"#f1b6da\"],[0.4,\"#fde0ef\"],[0.5,\"#f7f7f7\"],[0.6,\"#e6f5d0\"],[0.7,\"#b8e186\"],[0.8,\"#7fbc41\"],[0.9,\"#4d9221\"],[1,\"#276419\"]]},\"xaxis\":{\"gridcolor\":\"white\",\"linecolor\":\"white\",\"ticks\":\"\",\"title\":{\"standoff\":15},\"zerolinecolor\":\"white\",\"automargin\":true,\"zerolinewidth\":2},\"yaxis\":{\"gridcolor\":\"white\",\"linecolor\":\"white\",\"ticks\":\"\",\"title\":{\"standoff\":15},\"zerolinecolor\":\"white\",\"automargin\":true,\"zerolinewidth\":2},\"scene\":{\"xaxis\":{\"backgroundcolor\":\"#E5ECF6\",\"gridcolor\":\"white\",\"linecolor\":\"white\",\"showbackground\":true,\"ticks\":\"\",\"zerolinecolor\":\"white\",\"gridwidth\":2},\"yaxis\":{\"backgroundcolor\":\"#E5ECF6\",\"gridcolor\":\"white\",\"linecolor\":\"white\",\"showbackground\":true,\"ticks\":\"\",\"zerolinecolor\":\"white\",\"gridwidth\":2},\"zaxis\":{\"backgroundcolor\":\"#E5ECF6\",\"gridcolor\":\"white\",\"linecolor\":\"white\",\"showbackground\":true,\"ticks\":\"\",\"zerolinecolor\":\"white\",\"gridwidth\":2}},\"shapedefaults\":{\"line\":{\"color\":\"#2a3f5f\"}},\"annotationdefaults\":{\"arrowcolor\":\"#2a3f5f\",\"arrowhead\":0,\"arrowwidth\":1},\"geo\":{\"bgcolor\":\"white\",\"landcolor\":\"#E5ECF6\",\"subunitcolor\":\"white\",\"showland\":true,\"showlakes\":true,\"lakecolor\":\"white\"},\"title\":{\"x\":0.05},\"mapbox\":{\"style\":\"light\"}}},\"xaxis\":{\"anchor\":\"y\",\"domain\":[0.0,1.0],\"title\":{\"text\":\"group\"},\"categoryorder\":\"array\",\"categoryarray\":[\"HCDMSO\",\"PREDMSO\",\"PREmdivi1 25uM\",\"MDMSO\",\"Mmdivi1 25uM\",\"SDMSO\",\"Smdivi1 25uM\"]},\"yaxis\":{\"anchor\":\"x\",\"domain\":[0.0,1.0],\"title\":{\"text\":\"group_p\"}},\"legend\":{\"title\":{\"text\":\"group\"},\"tracegroupgap\":0},\"margin\":{\"t\":60},\"boxmode\":\"overlay\",\"font\":{\"family\":\"Arial\",\"color\":\"Black\",\"size\":20}},                        {\"responsive\": true}                    ).then(function(){\n",
       "                            \n",
       "var gd = document.getElementById('ae16a9d6-3169-4559-b8c5-235f9fec9637');\n",
       "var x = new MutationObserver(function (mutations, observer) {{\n",
       "        var display = window.getComputedStyle(gd).display;\n",
       "        if (!display || display === 'none') {{\n",
       "            console.log([gd, 'removed!']);\n",
       "            Plotly.purge(gd);\n",
       "            observer.disconnect();\n",
       "        }}\n",
       "}});\n",
       "\n",
       "// Listen for the removal of the full notebook cells\n",
       "var notebookContainer = gd.closest('#notebook-container');\n",
       "if (notebookContainer) {{\n",
       "    x.observe(notebookContainer, {childList: true});\n",
       "}}\n",
       "\n",
       "// Listen for the clearing of the current output cell\n",
       "var outputEl = gd.closest('.output');\n",
       "if (outputEl) {{\n",
       "    x.observe(outputEl, {childList: true});\n",
       "}}\n",
       "\n",
       "                        })                };                });            </script>        </div>"
      ]
     },
     "metadata": {},
     "output_type": "display_data"
    },
    {
     "data": {
      "application/vnd.plotly.v1+json": {
       "config": {
        "plotlyServerURL": "https://plot.ly"
       },
       "data": [
        {
         "alignmentgroup": "True",
         "boxpoints": "all",
         "customdata": [
          [
           "HCDMSO1653.0p4"
          ],
          [
           "HCDMSO1650.0p8"
          ],
          [
           "HCDMSO143.0p7"
          ],
          [
           "HCDMSO1650.0p5"
          ],
          [
           "HCDMSO1653.0p9"
          ],
          [
           "HCDMSO1650.0p9"
          ],
          [
           "HCDMSO951.0p10"
          ],
          [
           "HCDMSO1653.0p4"
          ],
          [
           "HCDMSO143.0p7"
          ],
          [
           "HCDMSO1653.0p6"
          ],
          [
           "HCDMSO143.0p6"
          ],
          [
           "HCDMSO1653.0p8"
          ],
          [
           "HCDMSO1650.0p8"
          ],
          [
           "HCDMSO1653.0p9"
          ],
          [
           "HCDMSO1653.0p6"
          ],
          [
           "HCDMSO1653.0p9"
          ],
          [
           "HCDMSO1653.0p6"
          ],
          [
           "HCDMSO1016.0p10"
          ],
          [
           "HCDMSO1650.0p5"
          ],
          [
           "HCDMSO1653.0p8"
          ],
          [
           "HCDMSO1653.0p9"
          ],
          [
           "HCDMSO1653.0p8"
          ],
          [
           "HCDMSO143.0p7"
          ],
          [
           "HCDMSO1650.0p5"
          ],
          [
           "HCDMSO1650.0p8"
          ],
          [
           "HCDMSO1653.0p8"
          ],
          [
           "HCDMSO1650.0p9"
          ],
          [
           "HCDMSO1653.0p4"
          ],
          [
           "HCDMSO143.0p7"
          ],
          [
           "HCDMSO1016.0p10"
          ],
          [
           "HCDMSO1650.0p8"
          ],
          [
           "HCDMSO1653.0p4"
          ],
          [
           "HCDMSO1650.0p5"
          ],
          [
           "HCDMSO495.0p6"
          ],
          [
           "HCDMSO1653.0p6"
          ],
          [
           "HCDMSO1653.0p4"
          ],
          [
           "HCDMSO1653.0p9"
          ],
          [
           "HCDMSO1016.0p10"
          ],
          [
           "HCDMSO1653.0p6"
          ],
          [
           "HCDMSO143.0p6"
          ],
          [
           "HCDMSO1016.0p10"
          ],
          [
           "HCDMSO1650.0p8"
          ],
          [
           "HCDMSO951.0p10"
          ],
          [
           "HCDMSO1650.0p9"
          ],
          [
           "HCDMSO1650.0p9"
          ],
          [
           "HCDMSO143.0p6"
          ],
          [
           "HCDMSO143.0p6"
          ],
          [
           "HCDMSO495.0p6"
          ],
          [
           "HCDMSO1653.0p6"
          ],
          [
           "HCDMSO951.0p10"
          ],
          [
           "HCDMSO1650.0p5"
          ],
          [
           "HCDMSO143.0p6"
          ],
          [
           "HCDMSO143.0p6"
          ],
          [
           "HCDMSO495.0p6"
          ],
          [
           "HCDMSO1650.0p9"
          ],
          [
           "HCDMSO1650.0p8"
          ],
          [
           "HCDMSO495.0p6"
          ],
          [
           "HCDMSO1653.0p9"
          ],
          [
           "HCDMSO495.0p6"
          ],
          [
           "HCDMSO1650.0p5"
          ],
          [
           "HCDMSO1653.0p8"
          ],
          [
           "HCDMSO1653.0p4"
          ],
          [
           "HCDMSO1016.0p10"
          ],
          [
           "HCDMSO1653.0p8"
          ]
         ],
         "hovertemplate": "group=%{x}<br>mfn1_intensity=%{y}<br>group_with_p=%{customdata[0]}<extra></extra>",
         "legendgroup": "HCDMSO",
         "marker": {
          "color": "#636efa"
         },
         "name": "HCDMSO",
         "notched": true,
         "offsetgroup": "HCDMSO",
         "orientation": "v",
         "quartilemethod": "inclusive",
         "showlegend": true,
         "type": "box",
         "x": [
          "HCDMSO",
          "HCDMSO",
          "HCDMSO",
          "HCDMSO",
          "HCDMSO",
          "HCDMSO",
          "HCDMSO",
          "HCDMSO",
          "HCDMSO",
          "HCDMSO",
          "HCDMSO",
          "HCDMSO",
          "HCDMSO",
          "HCDMSO",
          "HCDMSO",
          "HCDMSO",
          "HCDMSO",
          "HCDMSO",
          "HCDMSO",
          "HCDMSO",
          "HCDMSO",
          "HCDMSO",
          "HCDMSO",
          "HCDMSO",
          "HCDMSO",
          "HCDMSO",
          "HCDMSO",
          "HCDMSO",
          "HCDMSO",
          "HCDMSO",
          "HCDMSO",
          "HCDMSO",
          "HCDMSO",
          "HCDMSO",
          "HCDMSO",
          "HCDMSO",
          "HCDMSO",
          "HCDMSO",
          "HCDMSO",
          "HCDMSO",
          "HCDMSO",
          "HCDMSO",
          "HCDMSO",
          "HCDMSO",
          "HCDMSO",
          "HCDMSO",
          "HCDMSO",
          "HCDMSO",
          "HCDMSO",
          "HCDMSO",
          "HCDMSO",
          "HCDMSO",
          "HCDMSO",
          "HCDMSO",
          "HCDMSO",
          "HCDMSO",
          "HCDMSO",
          "HCDMSO",
          "HCDMSO",
          "HCDMSO",
          "HCDMSO",
          "HCDMSO",
          "HCDMSO",
          "HCDMSO"
         ],
         "x0": " ",
         "xaxis": "x",
         "y": [
          4.553181855721158,
          4.534764643365969,
          4.550525382477692,
          4.543512645939183,
          4.5145705590453495,
          4.508105782355665,
          4.5187799506093365,
          4.500447421722496,
          4.574218097680264,
          4.47411668829038,
          4.518877713293924,
          4.525506235699753,
          4.51420203316846,
          4.542823498079862,
          4.541152419563844,
          4.506165124833187,
          4.457040391320051,
          4.5225480969233915,
          4.552498598246284,
          4.547908243793268,
          4.503287934025915,
          4.504870782536794,
          4.568072459176917,
          4.561428126574066,
          4.5306859619131075,
          4.505956625748621,
          4.545430975201349,
          4.5523455324231055,
          4.544518505871147,
          4.566754764907054,
          4.537676482030582,
          4.467245349193043,
          4.554755790038237,
          4.560593199518164,
          4.583270279893173,
          4.537550932589631,
          4.539781930699894,
          4.541230598294605,
          4.53165691959184,
          4.55770597164872,
          4.516705775290643,
          4.551803092870892,
          4.531564577560118,
          4.533183914495293,
          4.5235824198190855,
          4.546374861942284,
          4.491092634662272,
          4.570914827530172,
          4.51639456957854,
          4.49603181237727,
          4.538464246838562,
          4.559732861586891,
          4.531754970189266,
          4.559248424127527,
          4.51421975049675,
          4.538772338257911,
          4.580523722065529,
          4.507869779196465,
          4.486419601237884,
          4.507361072252082,
          4.550434275067328,
          4.567299966120582,
          4.525649667807054,
          4.545859430320332
         ],
         "y0": " ",
         "yaxis": "y"
        },
        {
         "alignmentgroup": "True",
         "boxpoints": "all",
         "customdata": [
          [
           "PREDMSO4689.0p6"
          ],
          [
           "PREDMSO4837.0p9"
          ],
          [
           "PREDMSO4719.0p5"
          ],
          [
           "PREDMSO4689.0p6"
          ],
          [
           "PREDMSO4689.0p6"
          ],
          [
           "PREDMSO4719.0p4"
          ],
          [
           "PREDMSO4717.0p7"
          ],
          [
           "PREDMSO4719.0p5"
          ],
          [
           "PREDMSO4837.0p9"
          ],
          [
           "PREDMSO4719.0p4"
          ],
          [
           "PREDMSO4719.0p5"
          ],
          [
           "PREDMSO4717.0p7"
          ],
          [
           "PREDMSO4837.0p9"
          ],
          [
           "PREDMSO4719.0p5"
          ],
          [
           "PREDMSO4719.0p4"
          ],
          [
           "PREDMSO4717.0p7"
          ],
          [
           "PREDMSO4717.0p7"
          ],
          [
           "PREDMSO4717.0p7"
          ],
          [
           "PREDMSO4689.0p6"
          ],
          [
           "PREDMSO4719.0p4"
          ],
          [
           "PREDMSO4689.0p6"
          ],
          [
           "PREDMSO4837.0p9"
          ],
          [
           "PREDMSO4719.0p4"
          ],
          [
           "PREDMSO4719.0p5"
          ],
          [
           "PREDMSO4717.0p7"
          ],
          [
           "PREDMSO4719.0p4"
          ],
          [
           "PREDMSO4837.0p9"
          ]
         ],
         "hovertemplate": "group=%{x}<br>mfn1_intensity=%{y}<br>group_with_p=%{customdata[0]}<extra></extra>",
         "legendgroup": "PREDMSO",
         "marker": {
          "color": "#EF553B"
         },
         "name": "PREDMSO",
         "notched": true,
         "offsetgroup": "PREDMSO",
         "orientation": "v",
         "quartilemethod": "inclusive",
         "showlegend": true,
         "type": "box",
         "x": [
          "PREDMSO",
          "PREDMSO",
          "PREDMSO",
          "PREDMSO",
          "PREDMSO",
          "PREDMSO",
          "PREDMSO",
          "PREDMSO",
          "PREDMSO",
          "PREDMSO",
          "PREDMSO",
          "PREDMSO",
          "PREDMSO",
          "PREDMSO",
          "PREDMSO",
          "PREDMSO",
          "PREDMSO",
          "PREDMSO",
          "PREDMSO",
          "PREDMSO",
          "PREDMSO",
          "PREDMSO",
          "PREDMSO",
          "PREDMSO",
          "PREDMSO",
          "PREDMSO",
          "PREDMSO"
         ],
         "x0": " ",
         "xaxis": "x",
         "y": [
          4.539470352764063,
          4.477165580834472,
          4.556038019766224,
          4.488643953882032,
          4.549988086649599,
          4.472014480770502,
          4.604320672157374,
          4.545140630091058,
          4.501745545419903,
          4.473132359857061,
          4.552668514998045,
          4.552971879298315,
          4.50378661828567,
          4.581630829061795,
          4.625100082685178,
          4.555400731160749,
          4.6078779666488545,
          4.6113069075059405,
          4.561151982046858,
          4.570173299441788,
          4.456004472845009,
          4.494653411237398,
          4.531962276074645,
          4.6003053088264085,
          4.630268180292874,
          4.522087105338297,
          4.532434422751392
         ],
         "y0": " ",
         "yaxis": "y"
        },
        {
         "alignmentgroup": "True",
         "boxpoints": "all",
         "customdata": [
          [
           "PREmdivi1 25uM4719.0p5"
          ],
          [
           "PREmdivi1 25uM4719.0p4"
          ],
          [
           "PREmdivi1 25uM4717.0p7"
          ],
          [
           "PREmdivi1 25uM4717.0p7"
          ],
          [
           "PREmdivi1 25uM4717.0p7"
          ],
          [
           "PREmdivi1 25uM4837.0p9"
          ],
          [
           "PREmdivi1 25uM4719.0p5"
          ],
          [
           "PREmdivi1 25uM4719.0p5"
          ],
          [
           "PREmdivi1 25uM4689.0p6"
          ],
          [
           "PREmdivi1 25uM4717.0p7"
          ],
          [
           "PREmdivi1 25uM4717.0p7"
          ],
          [
           "PREmdivi1 25uM4719.0p5"
          ],
          [
           "PREmdivi1 25uM4719.0p5"
          ],
          [
           "PREmdivi1 25uM4719.0p4"
          ],
          [
           "PREmdivi1 25uM4837.0p9"
          ],
          [
           "PREmdivi1 25uM4837.0p9"
          ],
          [
           "PREmdivi1 25uM4689.0p6"
          ],
          [
           "PREmdivi1 25uM4689.0p6"
          ],
          [
           "PREmdivi1 25uM4717.0p7"
          ],
          [
           "PREmdivi1 25uM4837.0p9"
          ],
          [
           "PREmdivi1 25uM4837.0p9"
          ],
          [
           "PREmdivi1 25uM4719.0p5"
          ],
          [
           "PREmdivi1 25uM4689.0p6"
          ],
          [
           "PREmdivi1 25uM4719.0p4"
          ],
          [
           "PREmdivi1 25uM4689.0p6"
          ]
         ],
         "hovertemplate": "group=%{x}<br>mfn1_intensity=%{y}<br>group_with_p=%{customdata[0]}<extra></extra>",
         "legendgroup": "PREmdivi1 25uM",
         "marker": {
          "color": "#00cc96"
         },
         "name": "PREmdivi1 25uM",
         "notched": true,
         "offsetgroup": "PREmdivi1 25uM",
         "orientation": "v",
         "quartilemethod": "inclusive",
         "showlegend": true,
         "type": "box",
         "x": [
          "PREmdivi1 25uM",
          "PREmdivi1 25uM",
          "PREmdivi1 25uM",
          "PREmdivi1 25uM",
          "PREmdivi1 25uM",
          "PREmdivi1 25uM",
          "PREmdivi1 25uM",
          "PREmdivi1 25uM",
          "PREmdivi1 25uM",
          "PREmdivi1 25uM",
          "PREmdivi1 25uM",
          "PREmdivi1 25uM",
          "PREmdivi1 25uM",
          "PREmdivi1 25uM",
          "PREmdivi1 25uM",
          "PREmdivi1 25uM",
          "PREmdivi1 25uM",
          "PREmdivi1 25uM",
          "PREmdivi1 25uM",
          "PREmdivi1 25uM",
          "PREmdivi1 25uM",
          "PREmdivi1 25uM",
          "PREmdivi1 25uM",
          "PREmdivi1 25uM",
          "PREmdivi1 25uM"
         ],
         "x0": " ",
         "xaxis": "x",
         "y": [
          4.541284662158164,
          4.4159928140628555,
          4.578905204863067,
          4.597617755006321,
          4.557090742790115,
          4.502057294443029,
          4.611654108377542,
          4.532850073505914,
          4.579758278175526,
          4.600745261744821,
          4.633127074617861,
          4.568688497108588,
          4.554294388281935,
          4.521791857417573,
          4.565745645419894,
          4.520241155945101,
          4.603681895322764,
          4.455145973389949,
          4.59780855650476,
          4.525838640418747,
          4.482452485578807,
          4.569534974895055,
          4.456929675478617,
          4.492785870596056,
          4.487210881343243
         ],
         "y0": " ",
         "yaxis": "y"
        },
        {
         "alignmentgroup": "True",
         "boxpoints": "all",
         "customdata": [
          [
           "MDMSO4887.0p7"
          ],
          [
           "MDMSO4819.0p4"
          ],
          [
           "MDMSO4819.0p4"
          ],
          [
           "MDMSO4212.0p9"
          ],
          [
           "MDMSO4212.0p9"
          ],
          [
           "MDMSO4721.0p5"
          ],
          [
           "MDMSO4715.0p6"
          ],
          [
           "MDMSO4799.0p8"
          ],
          [
           "MDMSO4715.0p6"
          ],
          [
           "MDMSO4212.0p9"
          ],
          [
           "MDMSO4887.0p7"
          ],
          [
           "MDMSO4212.0p9"
          ],
          [
           "MDMSO4799.0p8"
          ],
          [
           "MDMSO4721.0p5"
          ],
          [
           "MDMSO4721.0p5"
          ],
          [
           "MDMSO4715.0p6"
          ],
          [
           "MDMSO4887.0p7"
          ],
          [
           "MDMSO4799.0p8"
          ],
          [
           "MDMSO4715.0p6"
          ],
          [
           "MDMSO4212.0p9"
          ],
          [
           "MDMSO4799.0p8"
          ],
          [
           "MDMSO4799.0p8"
          ],
          [
           "MDMSO4715.0p6"
          ],
          [
           "MDMSO4799.0p8"
          ],
          [
           "MDMSO4819.0p4"
          ],
          [
           "MDMSO4819.0p4"
          ],
          [
           "MDMSO4721.0p5"
          ],
          [
           "MDMSO4819.0p4"
          ],
          [
           "MDMSO4715.0p6"
          ],
          [
           "MDMSO4819.0p4"
          ]
         ],
         "hovertemplate": "group=%{x}<br>mfn1_intensity=%{y}<br>group_with_p=%{customdata[0]}<extra></extra>",
         "legendgroup": "MDMSO",
         "marker": {
          "color": "#ab63fa"
         },
         "name": "MDMSO",
         "notched": true,
         "offsetgroup": "MDMSO",
         "orientation": "v",
         "quartilemethod": "inclusive",
         "showlegend": true,
         "type": "box",
         "x": [
          "MDMSO",
          "MDMSO",
          "MDMSO",
          "MDMSO",
          "MDMSO",
          "MDMSO",
          "MDMSO",
          "MDMSO",
          "MDMSO",
          "MDMSO",
          "MDMSO",
          "MDMSO",
          "MDMSO",
          "MDMSO",
          "MDMSO",
          "MDMSO",
          "MDMSO",
          "MDMSO",
          "MDMSO",
          "MDMSO",
          "MDMSO",
          "MDMSO",
          "MDMSO",
          "MDMSO",
          "MDMSO",
          "MDMSO",
          "MDMSO",
          "MDMSO",
          "MDMSO",
          "MDMSO"
         ],
         "x0": " ",
         "xaxis": "x",
         "y": [
          4.603804498346103,
          4.522035603650674,
          4.545055407544433,
          4.542920139872645,
          4.518053202421193,
          4.55987796319176,
          4.551636843277237,
          4.5560607226174445,
          4.476373208801389,
          4.530969169930535,
          4.589049527575035,
          4.538625080040825,
          4.5714512037545605,
          4.545563308653374,
          4.5454579483914355,
          4.55034448062608,
          4.600697249568446,
          4.515350796962056,
          4.512536346874565,
          4.5018115098950915,
          4.542782893470902,
          4.544443723012397,
          4.5012417412869885,
          4.507129409585554,
          4.579191122934645,
          4.630567363436292,
          4.546746662102615,
          4.647420430262712,
          4.560131492998384,
          4.512411487355933
         ],
         "y0": " ",
         "yaxis": "y"
        },
        {
         "alignmentgroup": "True",
         "boxpoints": "all",
         "customdata": [
          [
           "Smdivi1 25uM4287.0p5"
          ],
          [
           "Smdivi1 25uM4287.0p5"
          ],
          [
           "Smdivi1 25uM4687.0p7"
          ],
          [
           "Smdivi1 25uM4476.0p10"
          ],
          [
           "Smdivi1 25uM4709.0p9"
          ],
          [
           "Smdivi1 25uM4687.0p7"
          ],
          [
           "Smdivi1 25uM4287.0p5"
          ],
          [
           "Smdivi1 25uM4709.0p9"
          ],
          [
           "Smdivi1 25uM305.0p6"
          ],
          [
           "Smdivi1 25uM4709.0p9"
          ],
          [
           "Smdivi1 25uM4709.0p9"
          ],
          [
           "Smdivi1 25uM4687.0p7"
          ],
          [
           "Smdivi1 25uM2165.0p10"
          ],
          [
           "Smdivi1 25uM305.0p6"
          ],
          [
           "Smdivi1 25uM4807.0p8"
          ],
          [
           "Smdivi1 25uM4287.0p5"
          ],
          [
           "Smdivi1 25uM4807.0p8"
          ],
          [
           "Smdivi1 25uM4687.0p7"
          ],
          [
           "Smdivi1 25uM4476.0p10"
          ],
          [
           "Smdivi1 25uM305.0p6"
          ],
          [
           "Smdivi1 25uM4476.0p10"
          ],
          [
           "Smdivi1 25uM2165.0p10"
          ],
          [
           "Smdivi1 25uM4687.0p7"
          ],
          [
           "Smdivi1 25uM4476.0p10"
          ],
          [
           "Smdivi1 25uM305.0p6"
          ],
          [
           "Smdivi1 25uM4687.0p7"
          ],
          [
           "Smdivi1 25uM4709.0p9"
          ],
          [
           "Smdivi1 25uM2165.0p10"
          ],
          [
           "Smdivi1 25uM2165.0p10"
          ],
          [
           "Smdivi1 25uM4476.0p10"
          ],
          [
           "Smdivi1 25uM4287.0p5"
          ],
          [
           "Smdivi1 25uM305.0p6"
          ],
          [
           "Smdivi1 25uM4807.0p8"
          ],
          [
           "Smdivi1 25uM4476.0p10"
          ],
          [
           "Smdivi1 25uM4807.0p8"
          ]
         ],
         "hovertemplate": "group=%{x}<br>mfn1_intensity=%{y}<br>group_with_p=%{customdata[0]}<extra></extra>",
         "legendgroup": "Smdivi1 25uM",
         "marker": {
          "color": "#FFA15A"
         },
         "name": "Smdivi1 25uM",
         "notched": true,
         "offsetgroup": "Smdivi1 25uM",
         "orientation": "v",
         "quartilemethod": "inclusive",
         "showlegend": true,
         "type": "box",
         "x": [
          "Smdivi1 25uM",
          "Smdivi1 25uM",
          "Smdivi1 25uM",
          "Smdivi1 25uM",
          "Smdivi1 25uM",
          "Smdivi1 25uM",
          "Smdivi1 25uM",
          "Smdivi1 25uM",
          "Smdivi1 25uM",
          "Smdivi1 25uM",
          "Smdivi1 25uM",
          "Smdivi1 25uM",
          "Smdivi1 25uM",
          "Smdivi1 25uM",
          "Smdivi1 25uM",
          "Smdivi1 25uM",
          "Smdivi1 25uM",
          "Smdivi1 25uM",
          "Smdivi1 25uM",
          "Smdivi1 25uM",
          "Smdivi1 25uM",
          "Smdivi1 25uM",
          "Smdivi1 25uM",
          "Smdivi1 25uM",
          "Smdivi1 25uM",
          "Smdivi1 25uM",
          "Smdivi1 25uM",
          "Smdivi1 25uM",
          "Smdivi1 25uM",
          "Smdivi1 25uM",
          "Smdivi1 25uM",
          "Smdivi1 25uM",
          "Smdivi1 25uM",
          "Smdivi1 25uM",
          "Smdivi1 25uM"
         ],
         "x0": " ",
         "xaxis": "x",
         "y": [
          4.52730922527402,
          4.508863113379212,
          4.6356615614907035,
          4.529888591928139,
          4.480774562499916,
          4.633266672119802,
          4.49550396469722,
          4.475404784218216,
          4.506661098041901,
          4.4841214017787205,
          4.480940303731281,
          4.667133174361731,
          4.537105582894549,
          4.485245663823146,
          4.471331285581611,
          4.496036859018553,
          4.44854311082627,
          4.593702570516626,
          4.526014888035634,
          4.500479441195897,
          4.506732764816013,
          4.539573585458961,
          4.653958680908511,
          4.521815163985822,
          4.457732010857451,
          4.619345340553418,
          4.459063839098171,
          4.568020313513154,
          4.493958841246583,
          4.543862769211473,
          4.5214001263357435,
          4.4333939673209075,
          4.480676790064065,
          4.527513619963235,
          4.480615024247113
         ],
         "y0": " ",
         "yaxis": "y"
        },
        {
         "alignmentgroup": "True",
         "boxpoints": "all",
         "customdata": [
          [
           "SDMSO4807.0p8"
          ],
          [
           "SDMSO4807.0p8"
          ],
          [
           "SDMSO4287.0p5"
          ],
          [
           "SDMSO4287.0p5"
          ],
          [
           "SDMSO4287.0p5"
          ],
          [
           "SDMSO4709.0p9"
          ],
          [
           "SDMSO4709.0p9"
          ],
          [
           "SDMSO305.0p6"
          ],
          [
           "SDMSO4709.0p9"
          ],
          [
           "SDMSO4807.0p8"
          ],
          [
           "SDMSO305.0p6"
          ],
          [
           "SDMSO4287.0p5"
          ],
          [
           "SDMSO4687.0p7"
          ],
          [
           "SDMSO4709.0p9"
          ],
          [
           "SDMSO4687.0p7"
          ],
          [
           "SDMSO4476.0p10"
          ],
          [
           "SDMSO4687.0p7"
          ],
          [
           "SDMSO4476.0p10"
          ],
          [
           "SDMSO4709.0p9"
          ],
          [
           "SDMSO2165.0p10"
          ],
          [
           "SDMSO4687.0p7"
          ],
          [
           "SDMSO4687.0p7"
          ],
          [
           "SDMSO305.0p6"
          ],
          [
           "SDMSO4476.0p10"
          ],
          [
           "SDMSO305.0p6"
          ],
          [
           "SDMSO4807.0p8"
          ],
          [
           "SDMSO305.0p6"
          ],
          [
           "SDMSO4287.0p5"
          ],
          [
           "SDMSO4709.0p9"
          ],
          [
           "SDMSO305.0p6"
          ],
          [
           "SDMSO4287.0p5"
          ],
          [
           "SDMSO4687.0p7"
          ],
          [
           "SDMSO4476.0p10"
          ],
          [
           "SDMSO4807.0p8"
          ]
         ],
         "hovertemplate": "group=%{x}<br>mfn1_intensity=%{y}<br>group_with_p=%{customdata[0]}<extra></extra>",
         "legendgroup": "SDMSO",
         "marker": {
          "color": "#19d3f3"
         },
         "name": "SDMSO",
         "notched": true,
         "offsetgroup": "SDMSO",
         "orientation": "v",
         "quartilemethod": "inclusive",
         "showlegend": true,
         "type": "box",
         "x": [
          "SDMSO",
          "SDMSO",
          "SDMSO",
          "SDMSO",
          "SDMSO",
          "SDMSO",
          "SDMSO",
          "SDMSO",
          "SDMSO",
          "SDMSO",
          "SDMSO",
          "SDMSO",
          "SDMSO",
          "SDMSO",
          "SDMSO",
          "SDMSO",
          "SDMSO",
          "SDMSO",
          "SDMSO",
          "SDMSO",
          "SDMSO",
          "SDMSO",
          "SDMSO",
          "SDMSO",
          "SDMSO",
          "SDMSO",
          "SDMSO",
          "SDMSO",
          "SDMSO",
          "SDMSO",
          "SDMSO",
          "SDMSO",
          "SDMSO",
          "SDMSO"
         ],
         "x0": " ",
         "xaxis": "x",
         "y": [
          4.506530840937446,
          4.450994984424011,
          4.504570101023191,
          4.545099829255881,
          4.535559920905787,
          4.445985373527995,
          4.477054765880103,
          4.541733687209826,
          4.474952171724108,
          4.492033028587728,
          4.500473374326699,
          4.507187487093646,
          4.64999366182238,
          4.459894450751662,
          4.629644850419732,
          4.50699396528143,
          4.580017783724546,
          4.496503898711053,
          4.4805429649702,
          4.547030747207319,
          4.62515540273145,
          4.631396818334133,
          4.530898617650936,
          4.511835020988508,
          4.534896535490541,
          4.4607039253890415,
          4.54323140633626,
          4.5061127143287685,
          4.454777764578258,
          4.506070039361906,
          4.513699045626883,
          4.60487585158497,
          4.493529072161714,
          4.450978205816819
         ],
         "y0": " ",
         "yaxis": "y"
        },
        {
         "alignmentgroup": "True",
         "boxpoints": "all",
         "customdata": [
          [
           "Mmdivi1 25uM4715.0p6"
          ],
          [
           "Mmdivi1 25uM4212.0p9"
          ],
          [
           "Mmdivi1 25uM4721.0p5"
          ],
          [
           "Mmdivi1 25uM4799.0p8"
          ],
          [
           "Mmdivi1 25uM4721.0p5"
          ],
          [
           "Mmdivi1 25uM4799.0p8"
          ],
          [
           "Mmdivi1 25uM4715.0p6"
          ],
          [
           "Mmdivi1 25uM4819.0p4"
          ],
          [
           "Mmdivi1 25uM4799.0p8"
          ],
          [
           "Mmdivi1 25uM4819.0p4"
          ],
          [
           "Mmdivi1 25uM4212.0p9"
          ],
          [
           "Mmdivi1 25uM4721.0p5"
          ],
          [
           "Mmdivi1 25uM4212.0p9"
          ],
          [
           "Mmdivi1 25uM4799.0p8"
          ],
          [
           "Mmdivi1 25uM4715.0p6"
          ],
          [
           "Mmdivi1 25uM4715.0p6"
          ],
          [
           "Mmdivi1 25uM4721.0p5"
          ],
          [
           "Mmdivi1 25uM4721.0p5"
          ],
          [
           "Mmdivi1 25uM4819.0p4"
          ],
          [
           "Mmdivi1 25uM4715.0p6"
          ],
          [
           "Mmdivi1 25uM4212.0p9"
          ],
          [
           "Mmdivi1 25uM4721.0p5"
          ],
          [
           "Mmdivi1 25uM4212.0p9"
          ],
          [
           "Mmdivi1 25uM4715.0p6"
          ],
          [
           "Mmdivi1 25uM4799.0p8"
          ]
         ],
         "hovertemplate": "group=%{x}<br>mfn1_intensity=%{y}<br>group_with_p=%{customdata[0]}<extra></extra>",
         "legendgroup": "Mmdivi1 25uM",
         "marker": {
          "color": "#FF6692"
         },
         "name": "Mmdivi1 25uM",
         "notched": true,
         "offsetgroup": "Mmdivi1 25uM",
         "orientation": "v",
         "quartilemethod": "inclusive",
         "showlegend": true,
         "type": "box",
         "x": [
          "Mmdivi1 25uM",
          "Mmdivi1 25uM",
          "Mmdivi1 25uM",
          "Mmdivi1 25uM",
          "Mmdivi1 25uM",
          "Mmdivi1 25uM",
          "Mmdivi1 25uM",
          "Mmdivi1 25uM",
          "Mmdivi1 25uM",
          "Mmdivi1 25uM",
          "Mmdivi1 25uM",
          "Mmdivi1 25uM",
          "Mmdivi1 25uM",
          "Mmdivi1 25uM",
          "Mmdivi1 25uM",
          "Mmdivi1 25uM",
          "Mmdivi1 25uM",
          "Mmdivi1 25uM",
          "Mmdivi1 25uM",
          "Mmdivi1 25uM",
          "Mmdivi1 25uM",
          "Mmdivi1 25uM",
          "Mmdivi1 25uM",
          "Mmdivi1 25uM",
          "Mmdivi1 25uM"
         ],
         "x0": " ",
         "xaxis": "x",
         "y": [
          4.475813251269985,
          4.532761324372931,
          4.564378328611625,
          4.51067514049171,
          4.496624262707633,
          4.506535025389488,
          4.428153702002598,
          4.508684942883824,
          4.469807495176164,
          4.41384707621798,
          4.5144029788790805,
          4.5275464652202695,
          4.525976725696809,
          4.514684444289292,
          4.535250161159067,
          4.506507145184427,
          4.504471983930037,
          4.5634423509588,
          4.5053049013796524,
          4.543115823448255,
          4.551861823952632,
          4.516705320410427,
          4.494450413853144,
          4.531065477519351,
          4.5006350794508565
         ],
         "y0": " ",
         "yaxis": "y"
        }
       ],
       "layout": {
        "boxmode": "overlay",
        "font": {
         "color": "Black",
         "family": "Arial",
         "size": 20
        },
        "legend": {
         "title": {
          "text": "group"
         },
         "tracegroupgap": 0
        },
        "margin": {
         "t": 60
        },
        "template": {
         "data": {
          "bar": [
           {
            "error_x": {
             "color": "#2a3f5f"
            },
            "error_y": {
             "color": "#2a3f5f"
            },
            "marker": {
             "line": {
              "color": "#E5ECF6",
              "width": 0.5
             },
             "pattern": {
              "fillmode": "overlay",
              "size": 10,
              "solidity": 0.2
             }
            },
            "type": "bar"
           }
          ],
          "barpolar": [
           {
            "marker": {
             "line": {
              "color": "#E5ECF6",
              "width": 0.5
             },
             "pattern": {
              "fillmode": "overlay",
              "size": 10,
              "solidity": 0.2
             }
            },
            "type": "barpolar"
           }
          ],
          "carpet": [
           {
            "aaxis": {
             "endlinecolor": "#2a3f5f",
             "gridcolor": "white",
             "linecolor": "white",
             "minorgridcolor": "white",
             "startlinecolor": "#2a3f5f"
            },
            "baxis": {
             "endlinecolor": "#2a3f5f",
             "gridcolor": "white",
             "linecolor": "white",
             "minorgridcolor": "white",
             "startlinecolor": "#2a3f5f"
            },
            "type": "carpet"
           }
          ],
          "choropleth": [
           {
            "colorbar": {
             "outlinewidth": 0,
             "ticks": ""
            },
            "type": "choropleth"
           }
          ],
          "contour": [
           {
            "colorbar": {
             "outlinewidth": 0,
             "ticks": ""
            },
            "colorscale": [
             [
              0,
              "#0d0887"
             ],
             [
              0.1111111111111111,
              "#46039f"
             ],
             [
              0.2222222222222222,
              "#7201a8"
             ],
             [
              0.3333333333333333,
              "#9c179e"
             ],
             [
              0.4444444444444444,
              "#bd3786"
             ],
             [
              0.5555555555555556,
              "#d8576b"
             ],
             [
              0.6666666666666666,
              "#ed7953"
             ],
             [
              0.7777777777777778,
              "#fb9f3a"
             ],
             [
              0.8888888888888888,
              "#fdca26"
             ],
             [
              1,
              "#f0f921"
             ]
            ],
            "type": "contour"
           }
          ],
          "contourcarpet": [
           {
            "colorbar": {
             "outlinewidth": 0,
             "ticks": ""
            },
            "type": "contourcarpet"
           }
          ],
          "heatmap": [
           {
            "colorbar": {
             "outlinewidth": 0,
             "ticks": ""
            },
            "colorscale": [
             [
              0,
              "#0d0887"
             ],
             [
              0.1111111111111111,
              "#46039f"
             ],
             [
              0.2222222222222222,
              "#7201a8"
             ],
             [
              0.3333333333333333,
              "#9c179e"
             ],
             [
              0.4444444444444444,
              "#bd3786"
             ],
             [
              0.5555555555555556,
              "#d8576b"
             ],
             [
              0.6666666666666666,
              "#ed7953"
             ],
             [
              0.7777777777777778,
              "#fb9f3a"
             ],
             [
              0.8888888888888888,
              "#fdca26"
             ],
             [
              1,
              "#f0f921"
             ]
            ],
            "type": "heatmap"
           }
          ],
          "heatmapgl": [
           {
            "colorbar": {
             "outlinewidth": 0,
             "ticks": ""
            },
            "colorscale": [
             [
              0,
              "#0d0887"
             ],
             [
              0.1111111111111111,
              "#46039f"
             ],
             [
              0.2222222222222222,
              "#7201a8"
             ],
             [
              0.3333333333333333,
              "#9c179e"
             ],
             [
              0.4444444444444444,
              "#bd3786"
             ],
             [
              0.5555555555555556,
              "#d8576b"
             ],
             [
              0.6666666666666666,
              "#ed7953"
             ],
             [
              0.7777777777777778,
              "#fb9f3a"
             ],
             [
              0.8888888888888888,
              "#fdca26"
             ],
             [
              1,
              "#f0f921"
             ]
            ],
            "type": "heatmapgl"
           }
          ],
          "histogram": [
           {
            "marker": {
             "pattern": {
              "fillmode": "overlay",
              "size": 10,
              "solidity": 0.2
             }
            },
            "type": "histogram"
           }
          ],
          "histogram2d": [
           {
            "colorbar": {
             "outlinewidth": 0,
             "ticks": ""
            },
            "colorscale": [
             [
              0,
              "#0d0887"
             ],
             [
              0.1111111111111111,
              "#46039f"
             ],
             [
              0.2222222222222222,
              "#7201a8"
             ],
             [
              0.3333333333333333,
              "#9c179e"
             ],
             [
              0.4444444444444444,
              "#bd3786"
             ],
             [
              0.5555555555555556,
              "#d8576b"
             ],
             [
              0.6666666666666666,
              "#ed7953"
             ],
             [
              0.7777777777777778,
              "#fb9f3a"
             ],
             [
              0.8888888888888888,
              "#fdca26"
             ],
             [
              1,
              "#f0f921"
             ]
            ],
            "type": "histogram2d"
           }
          ],
          "histogram2dcontour": [
           {
            "colorbar": {
             "outlinewidth": 0,
             "ticks": ""
            },
            "colorscale": [
             [
              0,
              "#0d0887"
             ],
             [
              0.1111111111111111,
              "#46039f"
             ],
             [
              0.2222222222222222,
              "#7201a8"
             ],
             [
              0.3333333333333333,
              "#9c179e"
             ],
             [
              0.4444444444444444,
              "#bd3786"
             ],
             [
              0.5555555555555556,
              "#d8576b"
             ],
             [
              0.6666666666666666,
              "#ed7953"
             ],
             [
              0.7777777777777778,
              "#fb9f3a"
             ],
             [
              0.8888888888888888,
              "#fdca26"
             ],
             [
              1,
              "#f0f921"
             ]
            ],
            "type": "histogram2dcontour"
           }
          ],
          "mesh3d": [
           {
            "colorbar": {
             "outlinewidth": 0,
             "ticks": ""
            },
            "type": "mesh3d"
           }
          ],
          "parcoords": [
           {
            "line": {
             "colorbar": {
              "outlinewidth": 0,
              "ticks": ""
             }
            },
            "type": "parcoords"
           }
          ],
          "pie": [
           {
            "automargin": true,
            "type": "pie"
           }
          ],
          "scatter": [
           {
            "fillpattern": {
             "fillmode": "overlay",
             "size": 10,
             "solidity": 0.2
            },
            "type": "scatter"
           }
          ],
          "scatter3d": [
           {
            "line": {
             "colorbar": {
              "outlinewidth": 0,
              "ticks": ""
             }
            },
            "marker": {
             "colorbar": {
              "outlinewidth": 0,
              "ticks": ""
             }
            },
            "type": "scatter3d"
           }
          ],
          "scattercarpet": [
           {
            "marker": {
             "colorbar": {
              "outlinewidth": 0,
              "ticks": ""
             }
            },
            "type": "scattercarpet"
           }
          ],
          "scattergeo": [
           {
            "marker": {
             "colorbar": {
              "outlinewidth": 0,
              "ticks": ""
             }
            },
            "type": "scattergeo"
           }
          ],
          "scattergl": [
           {
            "marker": {
             "colorbar": {
              "outlinewidth": 0,
              "ticks": ""
             }
            },
            "type": "scattergl"
           }
          ],
          "scattermapbox": [
           {
            "marker": {
             "colorbar": {
              "outlinewidth": 0,
              "ticks": ""
             }
            },
            "type": "scattermapbox"
           }
          ],
          "scatterpolar": [
           {
            "marker": {
             "colorbar": {
              "outlinewidth": 0,
              "ticks": ""
             }
            },
            "type": "scatterpolar"
           }
          ],
          "scatterpolargl": [
           {
            "marker": {
             "colorbar": {
              "outlinewidth": 0,
              "ticks": ""
             }
            },
            "type": "scatterpolargl"
           }
          ],
          "scatterternary": [
           {
            "marker": {
             "colorbar": {
              "outlinewidth": 0,
              "ticks": ""
             }
            },
            "type": "scatterternary"
           }
          ],
          "surface": [
           {
            "colorbar": {
             "outlinewidth": 0,
             "ticks": ""
            },
            "colorscale": [
             [
              0,
              "#0d0887"
             ],
             [
              0.1111111111111111,
              "#46039f"
             ],
             [
              0.2222222222222222,
              "#7201a8"
             ],
             [
              0.3333333333333333,
              "#9c179e"
             ],
             [
              0.4444444444444444,
              "#bd3786"
             ],
             [
              0.5555555555555556,
              "#d8576b"
             ],
             [
              0.6666666666666666,
              "#ed7953"
             ],
             [
              0.7777777777777778,
              "#fb9f3a"
             ],
             [
              0.8888888888888888,
              "#fdca26"
             ],
             [
              1,
              "#f0f921"
             ]
            ],
            "type": "surface"
           }
          ],
          "table": [
           {
            "cells": {
             "fill": {
              "color": "#EBF0F8"
             },
             "line": {
              "color": "white"
             }
            },
            "header": {
             "fill": {
              "color": "#C8D4E3"
             },
             "line": {
              "color": "white"
             }
            },
            "type": "table"
           }
          ]
         },
         "layout": {
          "annotationdefaults": {
           "arrowcolor": "#2a3f5f",
           "arrowhead": 0,
           "arrowwidth": 1
          },
          "autotypenumbers": "strict",
          "coloraxis": {
           "colorbar": {
            "outlinewidth": 0,
            "ticks": ""
           }
          },
          "colorscale": {
           "diverging": [
            [
             0,
             "#8e0152"
            ],
            [
             0.1,
             "#c51b7d"
            ],
            [
             0.2,
             "#de77ae"
            ],
            [
             0.3,
             "#f1b6da"
            ],
            [
             0.4,
             "#fde0ef"
            ],
            [
             0.5,
             "#f7f7f7"
            ],
            [
             0.6,
             "#e6f5d0"
            ],
            [
             0.7,
             "#b8e186"
            ],
            [
             0.8,
             "#7fbc41"
            ],
            [
             0.9,
             "#4d9221"
            ],
            [
             1,
             "#276419"
            ]
           ],
           "sequential": [
            [
             0,
             "#0d0887"
            ],
            [
             0.1111111111111111,
             "#46039f"
            ],
            [
             0.2222222222222222,
             "#7201a8"
            ],
            [
             0.3333333333333333,
             "#9c179e"
            ],
            [
             0.4444444444444444,
             "#bd3786"
            ],
            [
             0.5555555555555556,
             "#d8576b"
            ],
            [
             0.6666666666666666,
             "#ed7953"
            ],
            [
             0.7777777777777778,
             "#fb9f3a"
            ],
            [
             0.8888888888888888,
             "#fdca26"
            ],
            [
             1,
             "#f0f921"
            ]
           ],
           "sequentialminus": [
            [
             0,
             "#0d0887"
            ],
            [
             0.1111111111111111,
             "#46039f"
            ],
            [
             0.2222222222222222,
             "#7201a8"
            ],
            [
             0.3333333333333333,
             "#9c179e"
            ],
            [
             0.4444444444444444,
             "#bd3786"
            ],
            [
             0.5555555555555556,
             "#d8576b"
            ],
            [
             0.6666666666666666,
             "#ed7953"
            ],
            [
             0.7777777777777778,
             "#fb9f3a"
            ],
            [
             0.8888888888888888,
             "#fdca26"
            ],
            [
             1,
             "#f0f921"
            ]
           ]
          },
          "colorway": [
           "#636efa",
           "#EF553B",
           "#00cc96",
           "#ab63fa",
           "#FFA15A",
           "#19d3f3",
           "#FF6692",
           "#B6E880",
           "#FF97FF",
           "#FECB52"
          ],
          "font": {
           "color": "#2a3f5f"
          },
          "geo": {
           "bgcolor": "white",
           "lakecolor": "white",
           "landcolor": "#E5ECF6",
           "showlakes": true,
           "showland": true,
           "subunitcolor": "white"
          },
          "hoverlabel": {
           "align": "left"
          },
          "hovermode": "closest",
          "mapbox": {
           "style": "light"
          },
          "paper_bgcolor": "white",
          "plot_bgcolor": "#E5ECF6",
          "polar": {
           "angularaxis": {
            "gridcolor": "white",
            "linecolor": "white",
            "ticks": ""
           },
           "bgcolor": "#E5ECF6",
           "radialaxis": {
            "gridcolor": "white",
            "linecolor": "white",
            "ticks": ""
           }
          },
          "scene": {
           "xaxis": {
            "backgroundcolor": "#E5ECF6",
            "gridcolor": "white",
            "gridwidth": 2,
            "linecolor": "white",
            "showbackground": true,
            "ticks": "",
            "zerolinecolor": "white"
           },
           "yaxis": {
            "backgroundcolor": "#E5ECF6",
            "gridcolor": "white",
            "gridwidth": 2,
            "linecolor": "white",
            "showbackground": true,
            "ticks": "",
            "zerolinecolor": "white"
           },
           "zaxis": {
            "backgroundcolor": "#E5ECF6",
            "gridcolor": "white",
            "gridwidth": 2,
            "linecolor": "white",
            "showbackground": true,
            "ticks": "",
            "zerolinecolor": "white"
           }
          },
          "shapedefaults": {
           "line": {
            "color": "#2a3f5f"
           }
          },
          "ternary": {
           "aaxis": {
            "gridcolor": "white",
            "linecolor": "white",
            "ticks": ""
           },
           "baxis": {
            "gridcolor": "white",
            "linecolor": "white",
            "ticks": ""
           },
           "bgcolor": "#E5ECF6",
           "caxis": {
            "gridcolor": "white",
            "linecolor": "white",
            "ticks": ""
           }
          },
          "title": {
           "x": 0.05
          },
          "xaxis": {
           "automargin": true,
           "gridcolor": "white",
           "linecolor": "white",
           "ticks": "",
           "title": {
            "standoff": 15
           },
           "zerolinecolor": "white",
           "zerolinewidth": 2
          },
          "yaxis": {
           "automargin": true,
           "gridcolor": "white",
           "linecolor": "white",
           "ticks": "",
           "title": {
            "standoff": 15
           },
           "zerolinecolor": "white",
           "zerolinewidth": 2
          }
         }
        },
        "xaxis": {
         "anchor": "y",
         "categoryarray": [
          "HCDMSO",
          "PREDMSO",
          "PREmdivi1 25uM",
          "MDMSO",
          "Mmdivi1 25uM",
          "SDMSO",
          "Smdivi1 25uM"
         ],
         "categoryorder": "array",
         "domain": [
          0,
          1
         ],
         "title": {
          "text": "group"
         }
        },
        "yaxis": {
         "anchor": "x",
         "domain": [
          0,
          1
         ],
         "title": {
          "text": "mfn1_intensity"
         }
        }
       }
      },
      "text/html": [
       "<div>                            <div id=\"8e14b8d4-bf78-48c6-838e-5da89fc20b55\" class=\"plotly-graph-div\" style=\"height:525px; width:100%;\"></div>            <script type=\"text/javascript\">                require([\"plotly\"], function(Plotly) {                    window.PLOTLYENV=window.PLOTLYENV || {};                                    if (document.getElementById(\"8e14b8d4-bf78-48c6-838e-5da89fc20b55\")) {                    Plotly.newPlot(                        \"8e14b8d4-bf78-48c6-838e-5da89fc20b55\",                        [{\"alignmentgroup\":\"True\",\"boxpoints\":\"all\",\"customdata\":[[\"HCDMSO1653.0p4\"],[\"HCDMSO1650.0p8\"],[\"HCDMSO143.0p7\"],[\"HCDMSO1650.0p5\"],[\"HCDMSO1653.0p9\"],[\"HCDMSO1650.0p9\"],[\"HCDMSO951.0p10\"],[\"HCDMSO1653.0p4\"],[\"HCDMSO143.0p7\"],[\"HCDMSO1653.0p6\"],[\"HCDMSO143.0p6\"],[\"HCDMSO1653.0p8\"],[\"HCDMSO1650.0p8\"],[\"HCDMSO1653.0p9\"],[\"HCDMSO1653.0p6\"],[\"HCDMSO1653.0p9\"],[\"HCDMSO1653.0p6\"],[\"HCDMSO1016.0p10\"],[\"HCDMSO1650.0p5\"],[\"HCDMSO1653.0p8\"],[\"HCDMSO1653.0p9\"],[\"HCDMSO1653.0p8\"],[\"HCDMSO143.0p7\"],[\"HCDMSO1650.0p5\"],[\"HCDMSO1650.0p8\"],[\"HCDMSO1653.0p8\"],[\"HCDMSO1650.0p9\"],[\"HCDMSO1653.0p4\"],[\"HCDMSO143.0p7\"],[\"HCDMSO1016.0p10\"],[\"HCDMSO1650.0p8\"],[\"HCDMSO1653.0p4\"],[\"HCDMSO1650.0p5\"],[\"HCDMSO495.0p6\"],[\"HCDMSO1653.0p6\"],[\"HCDMSO1653.0p4\"],[\"HCDMSO1653.0p9\"],[\"HCDMSO1016.0p10\"],[\"HCDMSO1653.0p6\"],[\"HCDMSO143.0p6\"],[\"HCDMSO1016.0p10\"],[\"HCDMSO1650.0p8\"],[\"HCDMSO951.0p10\"],[\"HCDMSO1650.0p9\"],[\"HCDMSO1650.0p9\"],[\"HCDMSO143.0p6\"],[\"HCDMSO143.0p6\"],[\"HCDMSO495.0p6\"],[\"HCDMSO1653.0p6\"],[\"HCDMSO951.0p10\"],[\"HCDMSO1650.0p5\"],[\"HCDMSO143.0p6\"],[\"HCDMSO143.0p6\"],[\"HCDMSO495.0p6\"],[\"HCDMSO1650.0p9\"],[\"HCDMSO1650.0p8\"],[\"HCDMSO495.0p6\"],[\"HCDMSO1653.0p9\"],[\"HCDMSO495.0p6\"],[\"HCDMSO1650.0p5\"],[\"HCDMSO1653.0p8\"],[\"HCDMSO1653.0p4\"],[\"HCDMSO1016.0p10\"],[\"HCDMSO1653.0p8\"]],\"hovertemplate\":\"group=%{x}<br>mfn1_intensity=%{y}<br>group_with_p=%{customdata[0]}<extra></extra>\",\"legendgroup\":\"HCDMSO\",\"marker\":{\"color\":\"#636efa\"},\"name\":\"HCDMSO\",\"notched\":true,\"offsetgroup\":\"HCDMSO\",\"orientation\":\"v\",\"showlegend\":true,\"x\":[\"HCDMSO\",\"HCDMSO\",\"HCDMSO\",\"HCDMSO\",\"HCDMSO\",\"HCDMSO\",\"HCDMSO\",\"HCDMSO\",\"HCDMSO\",\"HCDMSO\",\"HCDMSO\",\"HCDMSO\",\"HCDMSO\",\"HCDMSO\",\"HCDMSO\",\"HCDMSO\",\"HCDMSO\",\"HCDMSO\",\"HCDMSO\",\"HCDMSO\",\"HCDMSO\",\"HCDMSO\",\"HCDMSO\",\"HCDMSO\",\"HCDMSO\",\"HCDMSO\",\"HCDMSO\",\"HCDMSO\",\"HCDMSO\",\"HCDMSO\",\"HCDMSO\",\"HCDMSO\",\"HCDMSO\",\"HCDMSO\",\"HCDMSO\",\"HCDMSO\",\"HCDMSO\",\"HCDMSO\",\"HCDMSO\",\"HCDMSO\",\"HCDMSO\",\"HCDMSO\",\"HCDMSO\",\"HCDMSO\",\"HCDMSO\",\"HCDMSO\",\"HCDMSO\",\"HCDMSO\",\"HCDMSO\",\"HCDMSO\",\"HCDMSO\",\"HCDMSO\",\"HCDMSO\",\"HCDMSO\",\"HCDMSO\",\"HCDMSO\",\"HCDMSO\",\"HCDMSO\",\"HCDMSO\",\"HCDMSO\",\"HCDMSO\",\"HCDMSO\",\"HCDMSO\",\"HCDMSO\"],\"x0\":\" \",\"xaxis\":\"x\",\"y\":[4.553181855721158,4.534764643365969,4.550525382477692,4.543512645939183,4.5145705590453495,4.508105782355665,4.5187799506093365,4.500447421722496,4.574218097680264,4.47411668829038,4.518877713293924,4.525506235699753,4.51420203316846,4.542823498079862,4.541152419563844,4.506165124833187,4.457040391320051,4.5225480969233915,4.552498598246284,4.547908243793268,4.503287934025915,4.504870782536794,4.568072459176917,4.561428126574066,4.5306859619131075,4.505956625748621,4.545430975201349,4.5523455324231055,4.544518505871147,4.566754764907054,4.537676482030582,4.467245349193043,4.554755790038237,4.560593199518164,4.583270279893173,4.537550932589631,4.539781930699894,4.541230598294605,4.53165691959184,4.55770597164872,4.516705775290643,4.551803092870892,4.531564577560118,4.533183914495293,4.5235824198190855,4.546374861942284,4.491092634662272,4.570914827530172,4.51639456957854,4.49603181237727,4.538464246838562,4.559732861586891,4.531754970189266,4.559248424127527,4.51421975049675,4.538772338257911,4.580523722065529,4.507869779196465,4.486419601237884,4.507361072252082,4.550434275067328,4.567299966120582,4.525649667807054,4.545859430320332],\"y0\":\" \",\"yaxis\":\"y\",\"type\":\"box\",\"quartilemethod\":\"inclusive\"},{\"alignmentgroup\":\"True\",\"boxpoints\":\"all\",\"customdata\":[[\"PREDMSO4689.0p6\"],[\"PREDMSO4837.0p9\"],[\"PREDMSO4719.0p5\"],[\"PREDMSO4689.0p6\"],[\"PREDMSO4689.0p6\"],[\"PREDMSO4719.0p4\"],[\"PREDMSO4717.0p7\"],[\"PREDMSO4719.0p5\"],[\"PREDMSO4837.0p9\"],[\"PREDMSO4719.0p4\"],[\"PREDMSO4719.0p5\"],[\"PREDMSO4717.0p7\"],[\"PREDMSO4837.0p9\"],[\"PREDMSO4719.0p5\"],[\"PREDMSO4719.0p4\"],[\"PREDMSO4717.0p7\"],[\"PREDMSO4717.0p7\"],[\"PREDMSO4717.0p7\"],[\"PREDMSO4689.0p6\"],[\"PREDMSO4719.0p4\"],[\"PREDMSO4689.0p6\"],[\"PREDMSO4837.0p9\"],[\"PREDMSO4719.0p4\"],[\"PREDMSO4719.0p5\"],[\"PREDMSO4717.0p7\"],[\"PREDMSO4719.0p4\"],[\"PREDMSO4837.0p9\"]],\"hovertemplate\":\"group=%{x}<br>mfn1_intensity=%{y}<br>group_with_p=%{customdata[0]}<extra></extra>\",\"legendgroup\":\"PREDMSO\",\"marker\":{\"color\":\"#EF553B\"},\"name\":\"PREDMSO\",\"notched\":true,\"offsetgroup\":\"PREDMSO\",\"orientation\":\"v\",\"showlegend\":true,\"x\":[\"PREDMSO\",\"PREDMSO\",\"PREDMSO\",\"PREDMSO\",\"PREDMSO\",\"PREDMSO\",\"PREDMSO\",\"PREDMSO\",\"PREDMSO\",\"PREDMSO\",\"PREDMSO\",\"PREDMSO\",\"PREDMSO\",\"PREDMSO\",\"PREDMSO\",\"PREDMSO\",\"PREDMSO\",\"PREDMSO\",\"PREDMSO\",\"PREDMSO\",\"PREDMSO\",\"PREDMSO\",\"PREDMSO\",\"PREDMSO\",\"PREDMSO\",\"PREDMSO\",\"PREDMSO\"],\"x0\":\" \",\"xaxis\":\"x\",\"y\":[4.539470352764063,4.477165580834472,4.556038019766224,4.488643953882032,4.549988086649599,4.472014480770502,4.604320672157374,4.545140630091058,4.501745545419903,4.473132359857061,4.552668514998045,4.552971879298315,4.50378661828567,4.581630829061795,4.625100082685178,4.555400731160749,4.6078779666488545,4.6113069075059405,4.561151982046858,4.570173299441788,4.456004472845009,4.494653411237398,4.531962276074645,4.6003053088264085,4.630268180292874,4.522087105338297,4.532434422751392],\"y0\":\" \",\"yaxis\":\"y\",\"type\":\"box\",\"quartilemethod\":\"inclusive\"},{\"alignmentgroup\":\"True\",\"boxpoints\":\"all\",\"customdata\":[[\"PREmdivi1 25uM4719.0p5\"],[\"PREmdivi1 25uM4719.0p4\"],[\"PREmdivi1 25uM4717.0p7\"],[\"PREmdivi1 25uM4717.0p7\"],[\"PREmdivi1 25uM4717.0p7\"],[\"PREmdivi1 25uM4837.0p9\"],[\"PREmdivi1 25uM4719.0p5\"],[\"PREmdivi1 25uM4719.0p5\"],[\"PREmdivi1 25uM4689.0p6\"],[\"PREmdivi1 25uM4717.0p7\"],[\"PREmdivi1 25uM4717.0p7\"],[\"PREmdivi1 25uM4719.0p5\"],[\"PREmdivi1 25uM4719.0p5\"],[\"PREmdivi1 25uM4719.0p4\"],[\"PREmdivi1 25uM4837.0p9\"],[\"PREmdivi1 25uM4837.0p9\"],[\"PREmdivi1 25uM4689.0p6\"],[\"PREmdivi1 25uM4689.0p6\"],[\"PREmdivi1 25uM4717.0p7\"],[\"PREmdivi1 25uM4837.0p9\"],[\"PREmdivi1 25uM4837.0p9\"],[\"PREmdivi1 25uM4719.0p5\"],[\"PREmdivi1 25uM4689.0p6\"],[\"PREmdivi1 25uM4719.0p4\"],[\"PREmdivi1 25uM4689.0p6\"]],\"hovertemplate\":\"group=%{x}<br>mfn1_intensity=%{y}<br>group_with_p=%{customdata[0]}<extra></extra>\",\"legendgroup\":\"PREmdivi1 25uM\",\"marker\":{\"color\":\"#00cc96\"},\"name\":\"PREmdivi1 25uM\",\"notched\":true,\"offsetgroup\":\"PREmdivi1 25uM\",\"orientation\":\"v\",\"showlegend\":true,\"x\":[\"PREmdivi1 25uM\",\"PREmdivi1 25uM\",\"PREmdivi1 25uM\",\"PREmdivi1 25uM\",\"PREmdivi1 25uM\",\"PREmdivi1 25uM\",\"PREmdivi1 25uM\",\"PREmdivi1 25uM\",\"PREmdivi1 25uM\",\"PREmdivi1 25uM\",\"PREmdivi1 25uM\",\"PREmdivi1 25uM\",\"PREmdivi1 25uM\",\"PREmdivi1 25uM\",\"PREmdivi1 25uM\",\"PREmdivi1 25uM\",\"PREmdivi1 25uM\",\"PREmdivi1 25uM\",\"PREmdivi1 25uM\",\"PREmdivi1 25uM\",\"PREmdivi1 25uM\",\"PREmdivi1 25uM\",\"PREmdivi1 25uM\",\"PREmdivi1 25uM\",\"PREmdivi1 25uM\"],\"x0\":\" \",\"xaxis\":\"x\",\"y\":[4.541284662158164,4.4159928140628555,4.578905204863067,4.597617755006321,4.557090742790115,4.502057294443029,4.611654108377542,4.532850073505914,4.579758278175526,4.600745261744821,4.633127074617861,4.568688497108588,4.554294388281935,4.521791857417573,4.565745645419894,4.520241155945101,4.603681895322764,4.455145973389949,4.59780855650476,4.525838640418747,4.482452485578807,4.569534974895055,4.456929675478617,4.492785870596056,4.487210881343243],\"y0\":\" \",\"yaxis\":\"y\",\"type\":\"box\",\"quartilemethod\":\"inclusive\"},{\"alignmentgroup\":\"True\",\"boxpoints\":\"all\",\"customdata\":[[\"MDMSO4887.0p7\"],[\"MDMSO4819.0p4\"],[\"MDMSO4819.0p4\"],[\"MDMSO4212.0p9\"],[\"MDMSO4212.0p9\"],[\"MDMSO4721.0p5\"],[\"MDMSO4715.0p6\"],[\"MDMSO4799.0p8\"],[\"MDMSO4715.0p6\"],[\"MDMSO4212.0p9\"],[\"MDMSO4887.0p7\"],[\"MDMSO4212.0p9\"],[\"MDMSO4799.0p8\"],[\"MDMSO4721.0p5\"],[\"MDMSO4721.0p5\"],[\"MDMSO4715.0p6\"],[\"MDMSO4887.0p7\"],[\"MDMSO4799.0p8\"],[\"MDMSO4715.0p6\"],[\"MDMSO4212.0p9\"],[\"MDMSO4799.0p8\"],[\"MDMSO4799.0p8\"],[\"MDMSO4715.0p6\"],[\"MDMSO4799.0p8\"],[\"MDMSO4819.0p4\"],[\"MDMSO4819.0p4\"],[\"MDMSO4721.0p5\"],[\"MDMSO4819.0p4\"],[\"MDMSO4715.0p6\"],[\"MDMSO4819.0p4\"]],\"hovertemplate\":\"group=%{x}<br>mfn1_intensity=%{y}<br>group_with_p=%{customdata[0]}<extra></extra>\",\"legendgroup\":\"MDMSO\",\"marker\":{\"color\":\"#ab63fa\"},\"name\":\"MDMSO\",\"notched\":true,\"offsetgroup\":\"MDMSO\",\"orientation\":\"v\",\"showlegend\":true,\"x\":[\"MDMSO\",\"MDMSO\",\"MDMSO\",\"MDMSO\",\"MDMSO\",\"MDMSO\",\"MDMSO\",\"MDMSO\",\"MDMSO\",\"MDMSO\",\"MDMSO\",\"MDMSO\",\"MDMSO\",\"MDMSO\",\"MDMSO\",\"MDMSO\",\"MDMSO\",\"MDMSO\",\"MDMSO\",\"MDMSO\",\"MDMSO\",\"MDMSO\",\"MDMSO\",\"MDMSO\",\"MDMSO\",\"MDMSO\",\"MDMSO\",\"MDMSO\",\"MDMSO\",\"MDMSO\"],\"x0\":\" \",\"xaxis\":\"x\",\"y\":[4.603804498346103,4.522035603650674,4.545055407544433,4.542920139872645,4.518053202421193,4.55987796319176,4.551636843277237,4.5560607226174445,4.476373208801389,4.530969169930535,4.589049527575035,4.538625080040825,4.5714512037545605,4.545563308653374,4.5454579483914355,4.55034448062608,4.600697249568446,4.515350796962056,4.512536346874565,4.5018115098950915,4.542782893470902,4.544443723012397,4.5012417412869885,4.507129409585554,4.579191122934645,4.630567363436292,4.546746662102615,4.647420430262712,4.560131492998384,4.512411487355933],\"y0\":\" \",\"yaxis\":\"y\",\"type\":\"box\",\"quartilemethod\":\"inclusive\"},{\"alignmentgroup\":\"True\",\"boxpoints\":\"all\",\"customdata\":[[\"Smdivi1 25uM4287.0p5\"],[\"Smdivi1 25uM4287.0p5\"],[\"Smdivi1 25uM4687.0p7\"],[\"Smdivi1 25uM4476.0p10\"],[\"Smdivi1 25uM4709.0p9\"],[\"Smdivi1 25uM4687.0p7\"],[\"Smdivi1 25uM4287.0p5\"],[\"Smdivi1 25uM4709.0p9\"],[\"Smdivi1 25uM305.0p6\"],[\"Smdivi1 25uM4709.0p9\"],[\"Smdivi1 25uM4709.0p9\"],[\"Smdivi1 25uM4687.0p7\"],[\"Smdivi1 25uM2165.0p10\"],[\"Smdivi1 25uM305.0p6\"],[\"Smdivi1 25uM4807.0p8\"],[\"Smdivi1 25uM4287.0p5\"],[\"Smdivi1 25uM4807.0p8\"],[\"Smdivi1 25uM4687.0p7\"],[\"Smdivi1 25uM4476.0p10\"],[\"Smdivi1 25uM305.0p6\"],[\"Smdivi1 25uM4476.0p10\"],[\"Smdivi1 25uM2165.0p10\"],[\"Smdivi1 25uM4687.0p7\"],[\"Smdivi1 25uM4476.0p10\"],[\"Smdivi1 25uM305.0p6\"],[\"Smdivi1 25uM4687.0p7\"],[\"Smdivi1 25uM4709.0p9\"],[\"Smdivi1 25uM2165.0p10\"],[\"Smdivi1 25uM2165.0p10\"],[\"Smdivi1 25uM4476.0p10\"],[\"Smdivi1 25uM4287.0p5\"],[\"Smdivi1 25uM305.0p6\"],[\"Smdivi1 25uM4807.0p8\"],[\"Smdivi1 25uM4476.0p10\"],[\"Smdivi1 25uM4807.0p8\"]],\"hovertemplate\":\"group=%{x}<br>mfn1_intensity=%{y}<br>group_with_p=%{customdata[0]}<extra></extra>\",\"legendgroup\":\"Smdivi1 25uM\",\"marker\":{\"color\":\"#FFA15A\"},\"name\":\"Smdivi1 25uM\",\"notched\":true,\"offsetgroup\":\"Smdivi1 25uM\",\"orientation\":\"v\",\"showlegend\":true,\"x\":[\"Smdivi1 25uM\",\"Smdivi1 25uM\",\"Smdivi1 25uM\",\"Smdivi1 25uM\",\"Smdivi1 25uM\",\"Smdivi1 25uM\",\"Smdivi1 25uM\",\"Smdivi1 25uM\",\"Smdivi1 25uM\",\"Smdivi1 25uM\",\"Smdivi1 25uM\",\"Smdivi1 25uM\",\"Smdivi1 25uM\",\"Smdivi1 25uM\",\"Smdivi1 25uM\",\"Smdivi1 25uM\",\"Smdivi1 25uM\",\"Smdivi1 25uM\",\"Smdivi1 25uM\",\"Smdivi1 25uM\",\"Smdivi1 25uM\",\"Smdivi1 25uM\",\"Smdivi1 25uM\",\"Smdivi1 25uM\",\"Smdivi1 25uM\",\"Smdivi1 25uM\",\"Smdivi1 25uM\",\"Smdivi1 25uM\",\"Smdivi1 25uM\",\"Smdivi1 25uM\",\"Smdivi1 25uM\",\"Smdivi1 25uM\",\"Smdivi1 25uM\",\"Smdivi1 25uM\",\"Smdivi1 25uM\"],\"x0\":\" \",\"xaxis\":\"x\",\"y\":[4.52730922527402,4.508863113379212,4.6356615614907035,4.529888591928139,4.480774562499916,4.633266672119802,4.49550396469722,4.475404784218216,4.506661098041901,4.4841214017787205,4.480940303731281,4.667133174361731,4.537105582894549,4.485245663823146,4.471331285581611,4.496036859018553,4.44854311082627,4.593702570516626,4.526014888035634,4.500479441195897,4.506732764816013,4.539573585458961,4.653958680908511,4.521815163985822,4.457732010857451,4.619345340553418,4.459063839098171,4.568020313513154,4.493958841246583,4.543862769211473,4.5214001263357435,4.4333939673209075,4.480676790064065,4.527513619963235,4.480615024247113],\"y0\":\" \",\"yaxis\":\"y\",\"type\":\"box\",\"quartilemethod\":\"inclusive\"},{\"alignmentgroup\":\"True\",\"boxpoints\":\"all\",\"customdata\":[[\"SDMSO4807.0p8\"],[\"SDMSO4807.0p8\"],[\"SDMSO4287.0p5\"],[\"SDMSO4287.0p5\"],[\"SDMSO4287.0p5\"],[\"SDMSO4709.0p9\"],[\"SDMSO4709.0p9\"],[\"SDMSO305.0p6\"],[\"SDMSO4709.0p9\"],[\"SDMSO4807.0p8\"],[\"SDMSO305.0p6\"],[\"SDMSO4287.0p5\"],[\"SDMSO4687.0p7\"],[\"SDMSO4709.0p9\"],[\"SDMSO4687.0p7\"],[\"SDMSO4476.0p10\"],[\"SDMSO4687.0p7\"],[\"SDMSO4476.0p10\"],[\"SDMSO4709.0p9\"],[\"SDMSO2165.0p10\"],[\"SDMSO4687.0p7\"],[\"SDMSO4687.0p7\"],[\"SDMSO305.0p6\"],[\"SDMSO4476.0p10\"],[\"SDMSO305.0p6\"],[\"SDMSO4807.0p8\"],[\"SDMSO305.0p6\"],[\"SDMSO4287.0p5\"],[\"SDMSO4709.0p9\"],[\"SDMSO305.0p6\"],[\"SDMSO4287.0p5\"],[\"SDMSO4687.0p7\"],[\"SDMSO4476.0p10\"],[\"SDMSO4807.0p8\"]],\"hovertemplate\":\"group=%{x}<br>mfn1_intensity=%{y}<br>group_with_p=%{customdata[0]}<extra></extra>\",\"legendgroup\":\"SDMSO\",\"marker\":{\"color\":\"#19d3f3\"},\"name\":\"SDMSO\",\"notched\":true,\"offsetgroup\":\"SDMSO\",\"orientation\":\"v\",\"showlegend\":true,\"x\":[\"SDMSO\",\"SDMSO\",\"SDMSO\",\"SDMSO\",\"SDMSO\",\"SDMSO\",\"SDMSO\",\"SDMSO\",\"SDMSO\",\"SDMSO\",\"SDMSO\",\"SDMSO\",\"SDMSO\",\"SDMSO\",\"SDMSO\",\"SDMSO\",\"SDMSO\",\"SDMSO\",\"SDMSO\",\"SDMSO\",\"SDMSO\",\"SDMSO\",\"SDMSO\",\"SDMSO\",\"SDMSO\",\"SDMSO\",\"SDMSO\",\"SDMSO\",\"SDMSO\",\"SDMSO\",\"SDMSO\",\"SDMSO\",\"SDMSO\",\"SDMSO\"],\"x0\":\" \",\"xaxis\":\"x\",\"y\":[4.506530840937446,4.450994984424011,4.504570101023191,4.545099829255881,4.535559920905787,4.445985373527995,4.477054765880103,4.541733687209826,4.474952171724108,4.492033028587728,4.500473374326699,4.507187487093646,4.64999366182238,4.459894450751662,4.629644850419732,4.50699396528143,4.580017783724546,4.496503898711053,4.4805429649702,4.547030747207319,4.62515540273145,4.631396818334133,4.530898617650936,4.511835020988508,4.534896535490541,4.4607039253890415,4.54323140633626,4.5061127143287685,4.454777764578258,4.506070039361906,4.513699045626883,4.60487585158497,4.493529072161714,4.450978205816819],\"y0\":\" \",\"yaxis\":\"y\",\"type\":\"box\",\"quartilemethod\":\"inclusive\"},{\"alignmentgroup\":\"True\",\"boxpoints\":\"all\",\"customdata\":[[\"Mmdivi1 25uM4715.0p6\"],[\"Mmdivi1 25uM4212.0p9\"],[\"Mmdivi1 25uM4721.0p5\"],[\"Mmdivi1 25uM4799.0p8\"],[\"Mmdivi1 25uM4721.0p5\"],[\"Mmdivi1 25uM4799.0p8\"],[\"Mmdivi1 25uM4715.0p6\"],[\"Mmdivi1 25uM4819.0p4\"],[\"Mmdivi1 25uM4799.0p8\"],[\"Mmdivi1 25uM4819.0p4\"],[\"Mmdivi1 25uM4212.0p9\"],[\"Mmdivi1 25uM4721.0p5\"],[\"Mmdivi1 25uM4212.0p9\"],[\"Mmdivi1 25uM4799.0p8\"],[\"Mmdivi1 25uM4715.0p6\"],[\"Mmdivi1 25uM4715.0p6\"],[\"Mmdivi1 25uM4721.0p5\"],[\"Mmdivi1 25uM4721.0p5\"],[\"Mmdivi1 25uM4819.0p4\"],[\"Mmdivi1 25uM4715.0p6\"],[\"Mmdivi1 25uM4212.0p9\"],[\"Mmdivi1 25uM4721.0p5\"],[\"Mmdivi1 25uM4212.0p9\"],[\"Mmdivi1 25uM4715.0p6\"],[\"Mmdivi1 25uM4799.0p8\"]],\"hovertemplate\":\"group=%{x}<br>mfn1_intensity=%{y}<br>group_with_p=%{customdata[0]}<extra></extra>\",\"legendgroup\":\"Mmdivi1 25uM\",\"marker\":{\"color\":\"#FF6692\"},\"name\":\"Mmdivi1 25uM\",\"notched\":true,\"offsetgroup\":\"Mmdivi1 25uM\",\"orientation\":\"v\",\"showlegend\":true,\"x\":[\"Mmdivi1 25uM\",\"Mmdivi1 25uM\",\"Mmdivi1 25uM\",\"Mmdivi1 25uM\",\"Mmdivi1 25uM\",\"Mmdivi1 25uM\",\"Mmdivi1 25uM\",\"Mmdivi1 25uM\",\"Mmdivi1 25uM\",\"Mmdivi1 25uM\",\"Mmdivi1 25uM\",\"Mmdivi1 25uM\",\"Mmdivi1 25uM\",\"Mmdivi1 25uM\",\"Mmdivi1 25uM\",\"Mmdivi1 25uM\",\"Mmdivi1 25uM\",\"Mmdivi1 25uM\",\"Mmdivi1 25uM\",\"Mmdivi1 25uM\",\"Mmdivi1 25uM\",\"Mmdivi1 25uM\",\"Mmdivi1 25uM\",\"Mmdivi1 25uM\",\"Mmdivi1 25uM\"],\"x0\":\" \",\"xaxis\":\"x\",\"y\":[4.475813251269985,4.532761324372931,4.564378328611625,4.51067514049171,4.496624262707633,4.506535025389488,4.428153702002598,4.508684942883824,4.469807495176164,4.41384707621798,4.5144029788790805,4.5275464652202695,4.525976725696809,4.514684444289292,4.535250161159067,4.506507145184427,4.504471983930037,4.5634423509588,4.5053049013796524,4.543115823448255,4.551861823952632,4.516705320410427,4.494450413853144,4.531065477519351,4.5006350794508565],\"y0\":\" \",\"yaxis\":\"y\",\"type\":\"box\",\"quartilemethod\":\"inclusive\"}],                        {\"template\":{\"data\":{\"histogram2dcontour\":[{\"type\":\"histogram2dcontour\",\"colorbar\":{\"outlinewidth\":0,\"ticks\":\"\"},\"colorscale\":[[0.0,\"#0d0887\"],[0.1111111111111111,\"#46039f\"],[0.2222222222222222,\"#7201a8\"],[0.3333333333333333,\"#9c179e\"],[0.4444444444444444,\"#bd3786\"],[0.5555555555555556,\"#d8576b\"],[0.6666666666666666,\"#ed7953\"],[0.7777777777777778,\"#fb9f3a\"],[0.8888888888888888,\"#fdca26\"],[1.0,\"#f0f921\"]]}],\"choropleth\":[{\"type\":\"choropleth\",\"colorbar\":{\"outlinewidth\":0,\"ticks\":\"\"}}],\"histogram2d\":[{\"type\":\"histogram2d\",\"colorbar\":{\"outlinewidth\":0,\"ticks\":\"\"},\"colorscale\":[[0.0,\"#0d0887\"],[0.1111111111111111,\"#46039f\"],[0.2222222222222222,\"#7201a8\"],[0.3333333333333333,\"#9c179e\"],[0.4444444444444444,\"#bd3786\"],[0.5555555555555556,\"#d8576b\"],[0.6666666666666666,\"#ed7953\"],[0.7777777777777778,\"#fb9f3a\"],[0.8888888888888888,\"#fdca26\"],[1.0,\"#f0f921\"]]}],\"heatmap\":[{\"type\":\"heatmap\",\"colorbar\":{\"outlinewidth\":0,\"ticks\":\"\"},\"colorscale\":[[0.0,\"#0d0887\"],[0.1111111111111111,\"#46039f\"],[0.2222222222222222,\"#7201a8\"],[0.3333333333333333,\"#9c179e\"],[0.4444444444444444,\"#bd3786\"],[0.5555555555555556,\"#d8576b\"],[0.6666666666666666,\"#ed7953\"],[0.7777777777777778,\"#fb9f3a\"],[0.8888888888888888,\"#fdca26\"],[1.0,\"#f0f921\"]]}],\"heatmapgl\":[{\"type\":\"heatmapgl\",\"colorbar\":{\"outlinewidth\":0,\"ticks\":\"\"},\"colorscale\":[[0.0,\"#0d0887\"],[0.1111111111111111,\"#46039f\"],[0.2222222222222222,\"#7201a8\"],[0.3333333333333333,\"#9c179e\"],[0.4444444444444444,\"#bd3786\"],[0.5555555555555556,\"#d8576b\"],[0.6666666666666666,\"#ed7953\"],[0.7777777777777778,\"#fb9f3a\"],[0.8888888888888888,\"#fdca26\"],[1.0,\"#f0f921\"]]}],\"contourcarpet\":[{\"type\":\"contourcarpet\",\"colorbar\":{\"outlinewidth\":0,\"ticks\":\"\"}}],\"contour\":[{\"type\":\"contour\",\"colorbar\":{\"outlinewidth\":0,\"ticks\":\"\"},\"colorscale\":[[0.0,\"#0d0887\"],[0.1111111111111111,\"#46039f\"],[0.2222222222222222,\"#7201a8\"],[0.3333333333333333,\"#9c179e\"],[0.4444444444444444,\"#bd3786\"],[0.5555555555555556,\"#d8576b\"],[0.6666666666666666,\"#ed7953\"],[0.7777777777777778,\"#fb9f3a\"],[0.8888888888888888,\"#fdca26\"],[1.0,\"#f0f921\"]]}],\"surface\":[{\"type\":\"surface\",\"colorbar\":{\"outlinewidth\":0,\"ticks\":\"\"},\"colorscale\":[[0.0,\"#0d0887\"],[0.1111111111111111,\"#46039f\"],[0.2222222222222222,\"#7201a8\"],[0.3333333333333333,\"#9c179e\"],[0.4444444444444444,\"#bd3786\"],[0.5555555555555556,\"#d8576b\"],[0.6666666666666666,\"#ed7953\"],[0.7777777777777778,\"#fb9f3a\"],[0.8888888888888888,\"#fdca26\"],[1.0,\"#f0f921\"]]}],\"mesh3d\":[{\"type\":\"mesh3d\",\"colorbar\":{\"outlinewidth\":0,\"ticks\":\"\"}}],\"scatter\":[{\"fillpattern\":{\"fillmode\":\"overlay\",\"size\":10,\"solidity\":0.2},\"type\":\"scatter\"}],\"parcoords\":[{\"type\":\"parcoords\",\"line\":{\"colorbar\":{\"outlinewidth\":0,\"ticks\":\"\"}}}],\"scatterpolargl\":[{\"type\":\"scatterpolargl\",\"marker\":{\"colorbar\":{\"outlinewidth\":0,\"ticks\":\"\"}}}],\"bar\":[{\"error_x\":{\"color\":\"#2a3f5f\"},\"error_y\":{\"color\":\"#2a3f5f\"},\"marker\":{\"line\":{\"color\":\"#E5ECF6\",\"width\":0.5},\"pattern\":{\"fillmode\":\"overlay\",\"size\":10,\"solidity\":0.2}},\"type\":\"bar\"}],\"scattergeo\":[{\"type\":\"scattergeo\",\"marker\":{\"colorbar\":{\"outlinewidth\":0,\"ticks\":\"\"}}}],\"scatterpolar\":[{\"type\":\"scatterpolar\",\"marker\":{\"colorbar\":{\"outlinewidth\":0,\"ticks\":\"\"}}}],\"histogram\":[{\"marker\":{\"pattern\":{\"fillmode\":\"overlay\",\"size\":10,\"solidity\":0.2}},\"type\":\"histogram\"}],\"scattergl\":[{\"type\":\"scattergl\",\"marker\":{\"colorbar\":{\"outlinewidth\":0,\"ticks\":\"\"}}}],\"scatter3d\":[{\"type\":\"scatter3d\",\"line\":{\"colorbar\":{\"outlinewidth\":0,\"ticks\":\"\"}},\"marker\":{\"colorbar\":{\"outlinewidth\":0,\"ticks\":\"\"}}}],\"scattermapbox\":[{\"type\":\"scattermapbox\",\"marker\":{\"colorbar\":{\"outlinewidth\":0,\"ticks\":\"\"}}}],\"scatterternary\":[{\"type\":\"scatterternary\",\"marker\":{\"colorbar\":{\"outlinewidth\":0,\"ticks\":\"\"}}}],\"scattercarpet\":[{\"type\":\"scattercarpet\",\"marker\":{\"colorbar\":{\"outlinewidth\":0,\"ticks\":\"\"}}}],\"carpet\":[{\"aaxis\":{\"endlinecolor\":\"#2a3f5f\",\"gridcolor\":\"white\",\"linecolor\":\"white\",\"minorgridcolor\":\"white\",\"startlinecolor\":\"#2a3f5f\"},\"baxis\":{\"endlinecolor\":\"#2a3f5f\",\"gridcolor\":\"white\",\"linecolor\":\"white\",\"minorgridcolor\":\"white\",\"startlinecolor\":\"#2a3f5f\"},\"type\":\"carpet\"}],\"table\":[{\"cells\":{\"fill\":{\"color\":\"#EBF0F8\"},\"line\":{\"color\":\"white\"}},\"header\":{\"fill\":{\"color\":\"#C8D4E3\"},\"line\":{\"color\":\"white\"}},\"type\":\"table\"}],\"barpolar\":[{\"marker\":{\"line\":{\"color\":\"#E5ECF6\",\"width\":0.5},\"pattern\":{\"fillmode\":\"overlay\",\"size\":10,\"solidity\":0.2}},\"type\":\"barpolar\"}],\"pie\":[{\"automargin\":true,\"type\":\"pie\"}]},\"layout\":{\"autotypenumbers\":\"strict\",\"colorway\":[\"#636efa\",\"#EF553B\",\"#00cc96\",\"#ab63fa\",\"#FFA15A\",\"#19d3f3\",\"#FF6692\",\"#B6E880\",\"#FF97FF\",\"#FECB52\"],\"font\":{\"color\":\"#2a3f5f\"},\"hovermode\":\"closest\",\"hoverlabel\":{\"align\":\"left\"},\"paper_bgcolor\":\"white\",\"plot_bgcolor\":\"#E5ECF6\",\"polar\":{\"bgcolor\":\"#E5ECF6\",\"angularaxis\":{\"gridcolor\":\"white\",\"linecolor\":\"white\",\"ticks\":\"\"},\"radialaxis\":{\"gridcolor\":\"white\",\"linecolor\":\"white\",\"ticks\":\"\"}},\"ternary\":{\"bgcolor\":\"#E5ECF6\",\"aaxis\":{\"gridcolor\":\"white\",\"linecolor\":\"white\",\"ticks\":\"\"},\"baxis\":{\"gridcolor\":\"white\",\"linecolor\":\"white\",\"ticks\":\"\"},\"caxis\":{\"gridcolor\":\"white\",\"linecolor\":\"white\",\"ticks\":\"\"}},\"coloraxis\":{\"colorbar\":{\"outlinewidth\":0,\"ticks\":\"\"}},\"colorscale\":{\"sequential\":[[0.0,\"#0d0887\"],[0.1111111111111111,\"#46039f\"],[0.2222222222222222,\"#7201a8\"],[0.3333333333333333,\"#9c179e\"],[0.4444444444444444,\"#bd3786\"],[0.5555555555555556,\"#d8576b\"],[0.6666666666666666,\"#ed7953\"],[0.7777777777777778,\"#fb9f3a\"],[0.8888888888888888,\"#fdca26\"],[1.0,\"#f0f921\"]],\"sequentialminus\":[[0.0,\"#0d0887\"],[0.1111111111111111,\"#46039f\"],[0.2222222222222222,\"#7201a8\"],[0.3333333333333333,\"#9c179e\"],[0.4444444444444444,\"#bd3786\"],[0.5555555555555556,\"#d8576b\"],[0.6666666666666666,\"#ed7953\"],[0.7777777777777778,\"#fb9f3a\"],[0.8888888888888888,\"#fdca26\"],[1.0,\"#f0f921\"]],\"diverging\":[[0,\"#8e0152\"],[0.1,\"#c51b7d\"],[0.2,\"#de77ae\"],[0.3,\"#f1b6da\"],[0.4,\"#fde0ef\"],[0.5,\"#f7f7f7\"],[0.6,\"#e6f5d0\"],[0.7,\"#b8e186\"],[0.8,\"#7fbc41\"],[0.9,\"#4d9221\"],[1,\"#276419\"]]},\"xaxis\":{\"gridcolor\":\"white\",\"linecolor\":\"white\",\"ticks\":\"\",\"title\":{\"standoff\":15},\"zerolinecolor\":\"white\",\"automargin\":true,\"zerolinewidth\":2},\"yaxis\":{\"gridcolor\":\"white\",\"linecolor\":\"white\",\"ticks\":\"\",\"title\":{\"standoff\":15},\"zerolinecolor\":\"white\",\"automargin\":true,\"zerolinewidth\":2},\"scene\":{\"xaxis\":{\"backgroundcolor\":\"#E5ECF6\",\"gridcolor\":\"white\",\"linecolor\":\"white\",\"showbackground\":true,\"ticks\":\"\",\"zerolinecolor\":\"white\",\"gridwidth\":2},\"yaxis\":{\"backgroundcolor\":\"#E5ECF6\",\"gridcolor\":\"white\",\"linecolor\":\"white\",\"showbackground\":true,\"ticks\":\"\",\"zerolinecolor\":\"white\",\"gridwidth\":2},\"zaxis\":{\"backgroundcolor\":\"#E5ECF6\",\"gridcolor\":\"white\",\"linecolor\":\"white\",\"showbackground\":true,\"ticks\":\"\",\"zerolinecolor\":\"white\",\"gridwidth\":2}},\"shapedefaults\":{\"line\":{\"color\":\"#2a3f5f\"}},\"annotationdefaults\":{\"arrowcolor\":\"#2a3f5f\",\"arrowhead\":0,\"arrowwidth\":1},\"geo\":{\"bgcolor\":\"white\",\"landcolor\":\"#E5ECF6\",\"subunitcolor\":\"white\",\"showland\":true,\"showlakes\":true,\"lakecolor\":\"white\"},\"title\":{\"x\":0.05},\"mapbox\":{\"style\":\"light\"}}},\"xaxis\":{\"anchor\":\"y\",\"domain\":[0.0,1.0],\"title\":{\"text\":\"group\"},\"categoryorder\":\"array\",\"categoryarray\":[\"HCDMSO\",\"PREDMSO\",\"PREmdivi1 25uM\",\"MDMSO\",\"Mmdivi1 25uM\",\"SDMSO\",\"Smdivi1 25uM\"]},\"yaxis\":{\"anchor\":\"x\",\"domain\":[0.0,1.0],\"title\":{\"text\":\"mfn1_intensity\"}},\"legend\":{\"title\":{\"text\":\"group\"},\"tracegroupgap\":0},\"margin\":{\"t\":60},\"boxmode\":\"overlay\",\"font\":{\"family\":\"Arial\",\"color\":\"Black\",\"size\":20}},                        {\"responsive\": true}                    ).then(function(){\n",
       "                            \n",
       "var gd = document.getElementById('8e14b8d4-bf78-48c6-838e-5da89fc20b55');\n",
       "var x = new MutationObserver(function (mutations, observer) {{\n",
       "        var display = window.getComputedStyle(gd).display;\n",
       "        if (!display || display === 'none') {{\n",
       "            console.log([gd, 'removed!']);\n",
       "            Plotly.purge(gd);\n",
       "            observer.disconnect();\n",
       "        }}\n",
       "}});\n",
       "\n",
       "// Listen for the removal of the full notebook cells\n",
       "var notebookContainer = gd.closest('#notebook-container');\n",
       "if (notebookContainer) {{\n",
       "    x.observe(notebookContainer, {childList: true});\n",
       "}}\n",
       "\n",
       "// Listen for the clearing of the current output cell\n",
       "var outputEl = gd.closest('.output');\n",
       "if (outputEl) {{\n",
       "    x.observe(outputEl, {childList: true});\n",
       "}}\n",
       "\n",
       "                        })                };                });            </script>        </div>"
      ]
     },
     "metadata": {},
     "output_type": "display_data"
    },
    {
     "data": {
      "application/vnd.plotly.v1+json": {
       "config": {
        "plotlyServerURL": "https://plot.ly"
       },
       "data": [
        {
         "alignmentgroup": "True",
         "boxpoints": "all",
         "customdata": [
          [
           "HCDMSO1653.0p4"
          ],
          [
           "HCDMSO1650.0p8"
          ],
          [
           "HCDMSO143.0p7"
          ],
          [
           "HCDMSO1650.0p5"
          ],
          [
           "HCDMSO1653.0p9"
          ],
          [
           "HCDMSO1650.0p9"
          ],
          [
           "HCDMSO951.0p10"
          ],
          [
           "HCDMSO1653.0p4"
          ],
          [
           "HCDMSO143.0p7"
          ],
          [
           "HCDMSO1653.0p6"
          ],
          [
           "HCDMSO143.0p6"
          ],
          [
           "HCDMSO1653.0p8"
          ],
          [
           "HCDMSO1650.0p8"
          ],
          [
           "HCDMSO1653.0p9"
          ],
          [
           "HCDMSO1653.0p6"
          ],
          [
           "HCDMSO1653.0p9"
          ],
          [
           "HCDMSO1653.0p6"
          ],
          [
           "HCDMSO1016.0p10"
          ],
          [
           "HCDMSO1650.0p5"
          ],
          [
           "HCDMSO1653.0p8"
          ],
          [
           "HCDMSO1653.0p9"
          ],
          [
           "HCDMSO1653.0p8"
          ],
          [
           "HCDMSO143.0p7"
          ],
          [
           "HCDMSO1650.0p5"
          ],
          [
           "HCDMSO1650.0p8"
          ],
          [
           "HCDMSO1653.0p8"
          ],
          [
           "HCDMSO1650.0p9"
          ],
          [
           "HCDMSO1653.0p4"
          ],
          [
           "HCDMSO143.0p7"
          ],
          [
           "HCDMSO1016.0p10"
          ],
          [
           "HCDMSO1650.0p8"
          ],
          [
           "HCDMSO1653.0p4"
          ],
          [
           "HCDMSO1650.0p5"
          ],
          [
           "HCDMSO495.0p6"
          ],
          [
           "HCDMSO1653.0p6"
          ],
          [
           "HCDMSO1653.0p4"
          ],
          [
           "HCDMSO1653.0p9"
          ],
          [
           "HCDMSO1016.0p10"
          ],
          [
           "HCDMSO1653.0p6"
          ],
          [
           "HCDMSO143.0p6"
          ],
          [
           "HCDMSO1016.0p10"
          ],
          [
           "HCDMSO1650.0p8"
          ],
          [
           "HCDMSO951.0p10"
          ],
          [
           "HCDMSO1650.0p9"
          ],
          [
           "HCDMSO1650.0p9"
          ],
          [
           "HCDMSO143.0p6"
          ],
          [
           "HCDMSO143.0p6"
          ],
          [
           "HCDMSO495.0p6"
          ],
          [
           "HCDMSO1653.0p6"
          ],
          [
           "HCDMSO951.0p10"
          ],
          [
           "HCDMSO1650.0p5"
          ],
          [
           "HCDMSO143.0p6"
          ],
          [
           "HCDMSO143.0p6"
          ],
          [
           "HCDMSO495.0p6"
          ],
          [
           "HCDMSO1650.0p9"
          ],
          [
           "HCDMSO1650.0p8"
          ],
          [
           "HCDMSO495.0p6"
          ],
          [
           "HCDMSO1653.0p9"
          ],
          [
           "HCDMSO495.0p6"
          ],
          [
           "HCDMSO1650.0p5"
          ],
          [
           "HCDMSO1653.0p8"
          ],
          [
           "HCDMSO1653.0p4"
          ],
          [
           "HCDMSO1016.0p10"
          ],
          [
           "HCDMSO1653.0p8"
          ]
         ],
         "hovertemplate": "group=%{x}<br>mfn1_area=%{y}<br>group_with_p=%{customdata[0]}<extra></extra>",
         "legendgroup": "HCDMSO",
         "marker": {
          "color": "#636efa"
         },
         "name": "HCDMSO",
         "notched": true,
         "offsetgroup": "HCDMSO",
         "orientation": "v",
         "quartilemethod": "inclusive",
         "showlegend": true,
         "type": "box",
         "x": [
          "HCDMSO",
          "HCDMSO",
          "HCDMSO",
          "HCDMSO",
          "HCDMSO",
          "HCDMSO",
          "HCDMSO",
          "HCDMSO",
          "HCDMSO",
          "HCDMSO",
          "HCDMSO",
          "HCDMSO",
          "HCDMSO",
          "HCDMSO",
          "HCDMSO",
          "HCDMSO",
          "HCDMSO",
          "HCDMSO",
          "HCDMSO",
          "HCDMSO",
          "HCDMSO",
          "HCDMSO",
          "HCDMSO",
          "HCDMSO",
          "HCDMSO",
          "HCDMSO",
          "HCDMSO",
          "HCDMSO",
          "HCDMSO",
          "HCDMSO",
          "HCDMSO",
          "HCDMSO",
          "HCDMSO",
          "HCDMSO",
          "HCDMSO",
          "HCDMSO",
          "HCDMSO",
          "HCDMSO",
          "HCDMSO",
          "HCDMSO",
          "HCDMSO",
          "HCDMSO",
          "HCDMSO",
          "HCDMSO",
          "HCDMSO",
          "HCDMSO",
          "HCDMSO",
          "HCDMSO",
          "HCDMSO",
          "HCDMSO",
          "HCDMSO",
          "HCDMSO",
          "HCDMSO",
          "HCDMSO",
          "HCDMSO",
          "HCDMSO",
          "HCDMSO",
          "HCDMSO",
          "HCDMSO",
          "HCDMSO",
          "HCDMSO",
          "HCDMSO",
          "HCDMSO",
          "HCDMSO"
         ],
         "x0": " ",
         "xaxis": "x",
         "y": [
          6.369752352368884,
          5.990820626105345,
          6.226291217494702,
          6.086918730118348,
          6.1595512632185345,
          6.048383114361204,
          6.111684323201698,
          6.327003547154733,
          6.368466261029888,
          6.262742941534724,
          6.373389281327934,
          6.151654438126276,
          6.130624951762989,
          6.326023010260972,
          6.382690434851269,
          6.092129370834005,
          6.138550270088307,
          6.147566336601534,
          6.216340259622414,
          6.383501637302261,
          6.260598415427442,
          6.185864941336061,
          6.265440847748744,
          6.185236362456861,
          6.228537608625826,
          6.198088429254786,
          6.151717822009875,
          6.256252095001046,
          6.310828650653579,
          6.3652485099264755,
          6.070023583891375,
          6.013851371202748,
          6.1885655549143905,
          6.155169101504201,
          6.2851586439354685,
          6.344365895293834,
          6.271916299038986,
          6.340354876665042,
          6.326975445346847,
          6.260344372805857,
          6.184243007023889,
          6.232675673512903,
          6.085332320739961,
          6.091447170442812,
          6.068203463178016,
          6.26380286086594,
          6.12841150503387,
          6.239961063365119,
          6.343023037130526,
          5.958638673245494,
          6.146546810910397,
          6.252005896328457,
          6.232571780985691,
          6.240771770127027,
          6.017429526291683,
          6.185881530839374,
          6.260849663582804,
          6.141668076772359,
          6.159075422948014,
          6.151637819297778,
          6.35293609740219,
          6.353061490934078,
          6.254707424606976,
          6.283102423996312
         ],
         "y0": " ",
         "yaxis": "y"
        },
        {
         "alignmentgroup": "True",
         "boxpoints": "all",
         "customdata": [
          [
           "PREDMSO4689.0p6"
          ],
          [
           "PREDMSO4837.0p9"
          ],
          [
           "PREDMSO4719.0p5"
          ],
          [
           "PREDMSO4689.0p6"
          ],
          [
           "PREDMSO4689.0p6"
          ],
          [
           "PREDMSO4719.0p4"
          ],
          [
           "PREDMSO4717.0p7"
          ],
          [
           "PREDMSO4719.0p5"
          ],
          [
           "PREDMSO4837.0p9"
          ],
          [
           "PREDMSO4719.0p4"
          ],
          [
           "PREDMSO4719.0p5"
          ],
          [
           "PREDMSO4717.0p7"
          ],
          [
           "PREDMSO4837.0p9"
          ],
          [
           "PREDMSO4719.0p5"
          ],
          [
           "PREDMSO4719.0p4"
          ],
          [
           "PREDMSO4717.0p7"
          ],
          [
           "PREDMSO4717.0p7"
          ],
          [
           "PREDMSO4717.0p7"
          ],
          [
           "PREDMSO4689.0p6"
          ],
          [
           "PREDMSO4719.0p4"
          ],
          [
           "PREDMSO4689.0p6"
          ],
          [
           "PREDMSO4837.0p9"
          ],
          [
           "PREDMSO4719.0p4"
          ],
          [
           "PREDMSO4719.0p5"
          ],
          [
           "PREDMSO4717.0p7"
          ],
          [
           "PREDMSO4719.0p4"
          ],
          [
           "PREDMSO4837.0p9"
          ]
         ],
         "hovertemplate": "group=%{x}<br>mfn1_area=%{y}<br>group_with_p=%{customdata[0]}<extra></extra>",
         "legendgroup": "PREDMSO",
         "marker": {
          "color": "#EF553B"
         },
         "name": "PREDMSO",
         "notched": true,
         "offsetgroup": "PREDMSO",
         "orientation": "v",
         "quartilemethod": "inclusive",
         "showlegend": true,
         "type": "box",
         "x": [
          "PREDMSO",
          "PREDMSO",
          "PREDMSO",
          "PREDMSO",
          "PREDMSO",
          "PREDMSO",
          "PREDMSO",
          "PREDMSO",
          "PREDMSO",
          "PREDMSO",
          "PREDMSO",
          "PREDMSO",
          "PREDMSO",
          "PREDMSO",
          "PREDMSO",
          "PREDMSO",
          "PREDMSO",
          "PREDMSO",
          "PREDMSO",
          "PREDMSO",
          "PREDMSO",
          "PREDMSO",
          "PREDMSO",
          "PREDMSO",
          "PREDMSO",
          "PREDMSO",
          "PREDMSO"
         ],
         "x0": " ",
         "xaxis": "x",
         "y": [
          6.1383884004996645,
          6.138158395610977,
          6.227060476588322,
          6.092894074701578,
          6.168594782993255,
          6.160168570835853,
          6.22053143851225,
          6.216025744628794,
          6.219525285464384,
          6.10492460213382,
          6.2481169779754655,
          6.213157038776178,
          6.225905473083546,
          6.199204032811616,
          6.154606731085577,
          6.23811140033608,
          6.2655605936164935,
          6.122203013505649,
          6.101016425052059,
          6.170959638523991,
          6.083762273032783,
          6.222362436913497,
          6.125116451827505,
          6.235894809444662,
          6.1575221563255145,
          6.249747945678607,
          6.117202945356223
         ],
         "y0": " ",
         "yaxis": "y"
        },
        {
         "alignmentgroup": "True",
         "boxpoints": "all",
         "customdata": [
          [
           "PREmdivi1 25uM4719.0p5"
          ],
          [
           "PREmdivi1 25uM4719.0p4"
          ],
          [
           "PREmdivi1 25uM4717.0p7"
          ],
          [
           "PREmdivi1 25uM4717.0p7"
          ],
          [
           "PREmdivi1 25uM4717.0p7"
          ],
          [
           "PREmdivi1 25uM4837.0p9"
          ],
          [
           "PREmdivi1 25uM4719.0p5"
          ],
          [
           "PREmdivi1 25uM4719.0p5"
          ],
          [
           "PREmdivi1 25uM4689.0p6"
          ],
          [
           "PREmdivi1 25uM4717.0p7"
          ],
          [
           "PREmdivi1 25uM4717.0p7"
          ],
          [
           "PREmdivi1 25uM4719.0p5"
          ],
          [
           "PREmdivi1 25uM4719.0p5"
          ],
          [
           "PREmdivi1 25uM4719.0p4"
          ],
          [
           "PREmdivi1 25uM4837.0p9"
          ],
          [
           "PREmdivi1 25uM4837.0p9"
          ],
          [
           "PREmdivi1 25uM4689.0p6"
          ],
          [
           "PREmdivi1 25uM4689.0p6"
          ],
          [
           "PREmdivi1 25uM4717.0p7"
          ],
          [
           "PREmdivi1 25uM4837.0p9"
          ],
          [
           "PREmdivi1 25uM4837.0p9"
          ],
          [
           "PREmdivi1 25uM4719.0p5"
          ],
          [
           "PREmdivi1 25uM4689.0p6"
          ],
          [
           "PREmdivi1 25uM4719.0p4"
          ],
          [
           "PREmdivi1 25uM4689.0p6"
          ]
         ],
         "hovertemplate": "group=%{x}<br>mfn1_area=%{y}<br>group_with_p=%{customdata[0]}<extra></extra>",
         "legendgroup": "PREmdivi1 25uM",
         "marker": {
          "color": "#00cc96"
         },
         "name": "PREmdivi1 25uM",
         "notched": true,
         "offsetgroup": "PREmdivi1 25uM",
         "orientation": "v",
         "quartilemethod": "inclusive",
         "showlegend": true,
         "type": "box",
         "x": [
          "PREmdivi1 25uM",
          "PREmdivi1 25uM",
          "PREmdivi1 25uM",
          "PREmdivi1 25uM",
          "PREmdivi1 25uM",
          "PREmdivi1 25uM",
          "PREmdivi1 25uM",
          "PREmdivi1 25uM",
          "PREmdivi1 25uM",
          "PREmdivi1 25uM",
          "PREmdivi1 25uM",
          "PREmdivi1 25uM",
          "PREmdivi1 25uM",
          "PREmdivi1 25uM",
          "PREmdivi1 25uM",
          "PREmdivi1 25uM",
          "PREmdivi1 25uM",
          "PREmdivi1 25uM",
          "PREmdivi1 25uM",
          "PREmdivi1 25uM",
          "PREmdivi1 25uM",
          "PREmdivi1 25uM",
          "PREmdivi1 25uM",
          "PREmdivi1 25uM",
          "PREmdivi1 25uM"
         ],
         "x0": " ",
         "xaxis": "x",
         "y": [
          6.269527429427616,
          6.164556925574809,
          6.222815671477562,
          6.276383937206016,
          6.228046822848356,
          6.430450290456484,
          6.348364298454386,
          6.271147194566743,
          6.33940055567074,
          6.184800202936221,
          6.31009955753443,
          6.332973810430179,
          6.202454101049832,
          6.179590809588062,
          6.450907872516739,
          6.417377317373779,
          6.457223809596585,
          6.061419137806394,
          6.323830107065572,
          6.385143519158681,
          6.3966595875845,
          6.3092043253591745,
          6.09819273371013,
          6.284009246898083,
          6.216143086029696
         ],
         "y0": " ",
         "yaxis": "y"
        },
        {
         "alignmentgroup": "True",
         "boxpoints": "all",
         "customdata": [
          [
           "MDMSO4887.0p7"
          ],
          [
           "MDMSO4819.0p4"
          ],
          [
           "MDMSO4819.0p4"
          ],
          [
           "MDMSO4212.0p9"
          ],
          [
           "MDMSO4212.0p9"
          ],
          [
           "MDMSO4721.0p5"
          ],
          [
           "MDMSO4715.0p6"
          ],
          [
           "MDMSO4799.0p8"
          ],
          [
           "MDMSO4715.0p6"
          ],
          [
           "MDMSO4212.0p9"
          ],
          [
           "MDMSO4887.0p7"
          ],
          [
           "MDMSO4212.0p9"
          ],
          [
           "MDMSO4799.0p8"
          ],
          [
           "MDMSO4721.0p5"
          ],
          [
           "MDMSO4721.0p5"
          ],
          [
           "MDMSO4715.0p6"
          ],
          [
           "MDMSO4887.0p7"
          ],
          [
           "MDMSO4799.0p8"
          ],
          [
           "MDMSO4715.0p6"
          ],
          [
           "MDMSO4212.0p9"
          ],
          [
           "MDMSO4799.0p8"
          ],
          [
           "MDMSO4799.0p8"
          ],
          [
           "MDMSO4715.0p6"
          ],
          [
           "MDMSO4799.0p8"
          ],
          [
           "MDMSO4819.0p4"
          ],
          [
           "MDMSO4819.0p4"
          ],
          [
           "MDMSO4721.0p5"
          ],
          [
           "MDMSO4819.0p4"
          ],
          [
           "MDMSO4715.0p6"
          ],
          [
           "MDMSO4819.0p4"
          ]
         ],
         "hovertemplate": "group=%{x}<br>mfn1_area=%{y}<br>group_with_p=%{customdata[0]}<extra></extra>",
         "legendgroup": "MDMSO",
         "marker": {
          "color": "#ab63fa"
         },
         "name": "MDMSO",
         "notched": true,
         "offsetgroup": "MDMSO",
         "orientation": "v",
         "quartilemethod": "inclusive",
         "showlegend": true,
         "type": "box",
         "x": [
          "MDMSO",
          "MDMSO",
          "MDMSO",
          "MDMSO",
          "MDMSO",
          "MDMSO",
          "MDMSO",
          "MDMSO",
          "MDMSO",
          "MDMSO",
          "MDMSO",
          "MDMSO",
          "MDMSO",
          "MDMSO",
          "MDMSO",
          "MDMSO",
          "MDMSO",
          "MDMSO",
          "MDMSO",
          "MDMSO",
          "MDMSO",
          "MDMSO",
          "MDMSO",
          "MDMSO",
          "MDMSO",
          "MDMSO",
          "MDMSO",
          "MDMSO",
          "MDMSO",
          "MDMSO"
         ],
         "x0": " ",
         "xaxis": "x",
         "y": [
          6.484407570938405,
          6.390434727657194,
          6.204572470500932,
          5.844268848277814,
          5.754811124178555,
          6.082387212117023,
          6.036997144367811,
          6.2449371698021245,
          6.021975001307455,
          6.025319451927299,
          6.363625411390746,
          6.10401284817967,
          6.246684475582694,
          5.889841995698945,
          6.081983672591487,
          6.120680516944158,
          6.313375127595638,
          5.953236176410218,
          6.054994865974933,
          5.910143167199765,
          5.953185402804594,
          6.251354348463318,
          6.0302165453570735,
          5.798940605213746,
          6.482672058832026,
          6.1352862255698,
          5.868057845676706,
          6.360452311284028,
          6.058108335493404,
          5.9459876556113125
         ],
         "y0": " ",
         "yaxis": "y"
        },
        {
         "alignmentgroup": "True",
         "boxpoints": "all",
         "customdata": [
          [
           "Smdivi1 25uM4287.0p5"
          ],
          [
           "Smdivi1 25uM4287.0p5"
          ],
          [
           "Smdivi1 25uM4687.0p7"
          ],
          [
           "Smdivi1 25uM4476.0p10"
          ],
          [
           "Smdivi1 25uM4709.0p9"
          ],
          [
           "Smdivi1 25uM4687.0p7"
          ],
          [
           "Smdivi1 25uM4287.0p5"
          ],
          [
           "Smdivi1 25uM4709.0p9"
          ],
          [
           "Smdivi1 25uM305.0p6"
          ],
          [
           "Smdivi1 25uM4709.0p9"
          ],
          [
           "Smdivi1 25uM4709.0p9"
          ],
          [
           "Smdivi1 25uM4687.0p7"
          ],
          [
           "Smdivi1 25uM2165.0p10"
          ],
          [
           "Smdivi1 25uM305.0p6"
          ],
          [
           "Smdivi1 25uM4807.0p8"
          ],
          [
           "Smdivi1 25uM4287.0p5"
          ],
          [
           "Smdivi1 25uM4807.0p8"
          ],
          [
           "Smdivi1 25uM4687.0p7"
          ],
          [
           "Smdivi1 25uM4476.0p10"
          ],
          [
           "Smdivi1 25uM305.0p6"
          ],
          [
           "Smdivi1 25uM4476.0p10"
          ],
          [
           "Smdivi1 25uM2165.0p10"
          ],
          [
           "Smdivi1 25uM4687.0p7"
          ],
          [
           "Smdivi1 25uM4476.0p10"
          ],
          [
           "Smdivi1 25uM305.0p6"
          ],
          [
           "Smdivi1 25uM4687.0p7"
          ],
          [
           "Smdivi1 25uM4709.0p9"
          ],
          [
           "Smdivi1 25uM2165.0p10"
          ],
          [
           "Smdivi1 25uM2165.0p10"
          ],
          [
           "Smdivi1 25uM4476.0p10"
          ],
          [
           "Smdivi1 25uM4287.0p5"
          ],
          [
           "Smdivi1 25uM305.0p6"
          ],
          [
           "Smdivi1 25uM4807.0p8"
          ],
          [
           "Smdivi1 25uM4476.0p10"
          ],
          [
           "Smdivi1 25uM4807.0p8"
          ]
         ],
         "hovertemplate": "group=%{x}<br>mfn1_area=%{y}<br>group_with_p=%{customdata[0]}<extra></extra>",
         "legendgroup": "Smdivi1 25uM",
         "marker": {
          "color": "#FFA15A"
         },
         "name": "Smdivi1 25uM",
         "notched": true,
         "offsetgroup": "Smdivi1 25uM",
         "orientation": "v",
         "quartilemethod": "inclusive",
         "showlegend": true,
         "type": "box",
         "x": [
          "Smdivi1 25uM",
          "Smdivi1 25uM",
          "Smdivi1 25uM",
          "Smdivi1 25uM",
          "Smdivi1 25uM",
          "Smdivi1 25uM",
          "Smdivi1 25uM",
          "Smdivi1 25uM",
          "Smdivi1 25uM",
          "Smdivi1 25uM",
          "Smdivi1 25uM",
          "Smdivi1 25uM",
          "Smdivi1 25uM",
          "Smdivi1 25uM",
          "Smdivi1 25uM",
          "Smdivi1 25uM",
          "Smdivi1 25uM",
          "Smdivi1 25uM",
          "Smdivi1 25uM",
          "Smdivi1 25uM",
          "Smdivi1 25uM",
          "Smdivi1 25uM",
          "Smdivi1 25uM",
          "Smdivi1 25uM",
          "Smdivi1 25uM",
          "Smdivi1 25uM",
          "Smdivi1 25uM",
          "Smdivi1 25uM",
          "Smdivi1 25uM",
          "Smdivi1 25uM",
          "Smdivi1 25uM",
          "Smdivi1 25uM",
          "Smdivi1 25uM",
          "Smdivi1 25uM",
          "Smdivi1 25uM"
         ],
         "x0": " ",
         "xaxis": "x",
         "y": [
          6.435721675923437,
          6.666617716182177,
          6.319195702727178,
          6.315002298128142,
          6.477384704883498,
          6.510680526803669,
          6.535680211929149,
          6.183771115040701,
          6.221216187761875,
          6.494952205899372,
          6.440739189170585,
          6.5700283986443555,
          6.2147393768807975,
          6.1325133261774445,
          6.5905471199144365,
          6.580619109614216,
          6.740518685929874,
          6.238518307233073,
          6.304916774593307,
          6.185457141182147,
          6.09470041477666,
          6.329484695827026,
          6.604530692250205,
          6.1123558684044665,
          6.043511941828141,
          6.363195270793104,
          6.179821693141761,
          6.298222247093143,
          6.33038420589143,
          6.305453792856825,
          6.454418228703511,
          6.001891845582621,
          6.703011645457843,
          6.113842489083786,
          6.665768568353197
         ],
         "y0": " ",
         "yaxis": "y"
        },
        {
         "alignmentgroup": "True",
         "boxpoints": "all",
         "customdata": [
          [
           "SDMSO4807.0p8"
          ],
          [
           "SDMSO4807.0p8"
          ],
          [
           "SDMSO4287.0p5"
          ],
          [
           "SDMSO4287.0p5"
          ],
          [
           "SDMSO4287.0p5"
          ],
          [
           "SDMSO4709.0p9"
          ],
          [
           "SDMSO4709.0p9"
          ],
          [
           "SDMSO305.0p6"
          ],
          [
           "SDMSO4709.0p9"
          ],
          [
           "SDMSO4807.0p8"
          ],
          [
           "SDMSO305.0p6"
          ],
          [
           "SDMSO4287.0p5"
          ],
          [
           "SDMSO4687.0p7"
          ],
          [
           "SDMSO4709.0p9"
          ],
          [
           "SDMSO4687.0p7"
          ],
          [
           "SDMSO4476.0p10"
          ],
          [
           "SDMSO4687.0p7"
          ],
          [
           "SDMSO4476.0p10"
          ],
          [
           "SDMSO4709.0p9"
          ],
          [
           "SDMSO2165.0p10"
          ],
          [
           "SDMSO4687.0p7"
          ],
          [
           "SDMSO4687.0p7"
          ],
          [
           "SDMSO305.0p6"
          ],
          [
           "SDMSO4476.0p10"
          ],
          [
           "SDMSO305.0p6"
          ],
          [
           "SDMSO4807.0p8"
          ],
          [
           "SDMSO305.0p6"
          ],
          [
           "SDMSO4287.0p5"
          ],
          [
           "SDMSO4709.0p9"
          ],
          [
           "SDMSO305.0p6"
          ],
          [
           "SDMSO4287.0p5"
          ],
          [
           "SDMSO4687.0p7"
          ],
          [
           "SDMSO4476.0p10"
          ],
          [
           "SDMSO4807.0p8"
          ]
         ],
         "hovertemplate": "group=%{x}<br>mfn1_area=%{y}<br>group_with_p=%{customdata[0]}<extra></extra>",
         "legendgroup": "SDMSO",
         "marker": {
          "color": "#19d3f3"
         },
         "name": "SDMSO",
         "notched": true,
         "offsetgroup": "SDMSO",
         "orientation": "v",
         "quartilemethod": "inclusive",
         "showlegend": true,
         "type": "box",
         "x": [
          "SDMSO",
          "SDMSO",
          "SDMSO",
          "SDMSO",
          "SDMSO",
          "SDMSO",
          "SDMSO",
          "SDMSO",
          "SDMSO",
          "SDMSO",
          "SDMSO",
          "SDMSO",
          "SDMSO",
          "SDMSO",
          "SDMSO",
          "SDMSO",
          "SDMSO",
          "SDMSO",
          "SDMSO",
          "SDMSO",
          "SDMSO",
          "SDMSO",
          "SDMSO",
          "SDMSO",
          "SDMSO",
          "SDMSO",
          "SDMSO",
          "SDMSO",
          "SDMSO",
          "SDMSO",
          "SDMSO",
          "SDMSO",
          "SDMSO",
          "SDMSO"
         ],
         "x0": " ",
         "xaxis": "x",
         "y": [
          6.5558987261412875,
          6.5087888646861805,
          6.663833946943205,
          6.6233208142656546,
          6.299848401745,
          5.979124194489718,
          6.266627129908356,
          6.047118360558131,
          6.057403110082571,
          6.694020514156224,
          6.166373391054364,
          6.277564632951055,
          6.358181247792685,
          6.092888287694647,
          6.51700195681956,
          5.866757172489474,
          6.271013953216936,
          5.945491722091041,
          6.32791638134071,
          5.923293432840525,
          6.440725759417247,
          6.608121885112509,
          6.215032164801333,
          6.171790160408381,
          6.139122842919192,
          6.56983103522179,
          6.054548370673412,
          6.584529125266038,
          5.917856490510268,
          6.246840474751075,
          6.519322556740689,
          6.04159675029245,
          5.899634400788778,
          6.7021734617960185
         ],
         "y0": " ",
         "yaxis": "y"
        },
        {
         "alignmentgroup": "True",
         "boxpoints": "all",
         "customdata": [
          [
           "Mmdivi1 25uM4715.0p6"
          ],
          [
           "Mmdivi1 25uM4212.0p9"
          ],
          [
           "Mmdivi1 25uM4721.0p5"
          ],
          [
           "Mmdivi1 25uM4799.0p8"
          ],
          [
           "Mmdivi1 25uM4721.0p5"
          ],
          [
           "Mmdivi1 25uM4799.0p8"
          ],
          [
           "Mmdivi1 25uM4715.0p6"
          ],
          [
           "Mmdivi1 25uM4819.0p4"
          ],
          [
           "Mmdivi1 25uM4799.0p8"
          ],
          [
           "Mmdivi1 25uM4819.0p4"
          ],
          [
           "Mmdivi1 25uM4212.0p9"
          ],
          [
           "Mmdivi1 25uM4721.0p5"
          ],
          [
           "Mmdivi1 25uM4212.0p9"
          ],
          [
           "Mmdivi1 25uM4799.0p8"
          ],
          [
           "Mmdivi1 25uM4715.0p6"
          ],
          [
           "Mmdivi1 25uM4715.0p6"
          ],
          [
           "Mmdivi1 25uM4721.0p5"
          ],
          [
           "Mmdivi1 25uM4721.0p5"
          ],
          [
           "Mmdivi1 25uM4819.0p4"
          ],
          [
           "Mmdivi1 25uM4715.0p6"
          ],
          [
           "Mmdivi1 25uM4212.0p9"
          ],
          [
           "Mmdivi1 25uM4721.0p5"
          ],
          [
           "Mmdivi1 25uM4212.0p9"
          ],
          [
           "Mmdivi1 25uM4715.0p6"
          ],
          [
           "Mmdivi1 25uM4799.0p8"
          ]
         ],
         "hovertemplate": "group=%{x}<br>mfn1_area=%{y}<br>group_with_p=%{customdata[0]}<extra></extra>",
         "legendgroup": "Mmdivi1 25uM",
         "marker": {
          "color": "#FF6692"
         },
         "name": "Mmdivi1 25uM",
         "notched": true,
         "offsetgroup": "Mmdivi1 25uM",
         "orientation": "v",
         "quartilemethod": "inclusive",
         "showlegend": true,
         "type": "box",
         "x": [
          "Mmdivi1 25uM",
          "Mmdivi1 25uM",
          "Mmdivi1 25uM",
          "Mmdivi1 25uM",
          "Mmdivi1 25uM",
          "Mmdivi1 25uM",
          "Mmdivi1 25uM",
          "Mmdivi1 25uM",
          "Mmdivi1 25uM",
          "Mmdivi1 25uM",
          "Mmdivi1 25uM",
          "Mmdivi1 25uM",
          "Mmdivi1 25uM",
          "Mmdivi1 25uM",
          "Mmdivi1 25uM",
          "Mmdivi1 25uM",
          "Mmdivi1 25uM",
          "Mmdivi1 25uM",
          "Mmdivi1 25uM",
          "Mmdivi1 25uM",
          "Mmdivi1 25uM",
          "Mmdivi1 25uM",
          "Mmdivi1 25uM",
          "Mmdivi1 25uM",
          "Mmdivi1 25uM"
         ],
         "x0": " ",
         "xaxis": "x",
         "y": [
          6.08893620975156,
          6.077522650273756,
          6.01711863002052,
          6.186071173189146,
          5.814329716195497,
          5.981731592318125,
          5.904504887633705,
          6.203406024342473,
          6.033697669315871,
          6.127935440840302,
          5.910326862737669,
          6.053880550613469,
          6.004463343247296,
          6.188297763773409,
          6.120418230103539,
          6.174712501821179,
          5.8490650304569565,
          6.152536430956273,
          6.150471630764954,
          6.1948901252245525,
          6.2150569487718,
          5.889375298026802,
          5.773848074436806,
          6.184095246739896,
          6.073321824813072
         ],
         "y0": " ",
         "yaxis": "y"
        }
       ],
       "layout": {
        "boxmode": "overlay",
        "font": {
         "color": "Black",
         "family": "Arial",
         "size": 20
        },
        "legend": {
         "title": {
          "text": "group"
         },
         "tracegroupgap": 0
        },
        "margin": {
         "t": 60
        },
        "template": {
         "data": {
          "bar": [
           {
            "error_x": {
             "color": "#2a3f5f"
            },
            "error_y": {
             "color": "#2a3f5f"
            },
            "marker": {
             "line": {
              "color": "#E5ECF6",
              "width": 0.5
             },
             "pattern": {
              "fillmode": "overlay",
              "size": 10,
              "solidity": 0.2
             }
            },
            "type": "bar"
           }
          ],
          "barpolar": [
           {
            "marker": {
             "line": {
              "color": "#E5ECF6",
              "width": 0.5
             },
             "pattern": {
              "fillmode": "overlay",
              "size": 10,
              "solidity": 0.2
             }
            },
            "type": "barpolar"
           }
          ],
          "carpet": [
           {
            "aaxis": {
             "endlinecolor": "#2a3f5f",
             "gridcolor": "white",
             "linecolor": "white",
             "minorgridcolor": "white",
             "startlinecolor": "#2a3f5f"
            },
            "baxis": {
             "endlinecolor": "#2a3f5f",
             "gridcolor": "white",
             "linecolor": "white",
             "minorgridcolor": "white",
             "startlinecolor": "#2a3f5f"
            },
            "type": "carpet"
           }
          ],
          "choropleth": [
           {
            "colorbar": {
             "outlinewidth": 0,
             "ticks": ""
            },
            "type": "choropleth"
           }
          ],
          "contour": [
           {
            "colorbar": {
             "outlinewidth": 0,
             "ticks": ""
            },
            "colorscale": [
             [
              0,
              "#0d0887"
             ],
             [
              0.1111111111111111,
              "#46039f"
             ],
             [
              0.2222222222222222,
              "#7201a8"
             ],
             [
              0.3333333333333333,
              "#9c179e"
             ],
             [
              0.4444444444444444,
              "#bd3786"
             ],
             [
              0.5555555555555556,
              "#d8576b"
             ],
             [
              0.6666666666666666,
              "#ed7953"
             ],
             [
              0.7777777777777778,
              "#fb9f3a"
             ],
             [
              0.8888888888888888,
              "#fdca26"
             ],
             [
              1,
              "#f0f921"
             ]
            ],
            "type": "contour"
           }
          ],
          "contourcarpet": [
           {
            "colorbar": {
             "outlinewidth": 0,
             "ticks": ""
            },
            "type": "contourcarpet"
           }
          ],
          "heatmap": [
           {
            "colorbar": {
             "outlinewidth": 0,
             "ticks": ""
            },
            "colorscale": [
             [
              0,
              "#0d0887"
             ],
             [
              0.1111111111111111,
              "#46039f"
             ],
             [
              0.2222222222222222,
              "#7201a8"
             ],
             [
              0.3333333333333333,
              "#9c179e"
             ],
             [
              0.4444444444444444,
              "#bd3786"
             ],
             [
              0.5555555555555556,
              "#d8576b"
             ],
             [
              0.6666666666666666,
              "#ed7953"
             ],
             [
              0.7777777777777778,
              "#fb9f3a"
             ],
             [
              0.8888888888888888,
              "#fdca26"
             ],
             [
              1,
              "#f0f921"
             ]
            ],
            "type": "heatmap"
           }
          ],
          "heatmapgl": [
           {
            "colorbar": {
             "outlinewidth": 0,
             "ticks": ""
            },
            "colorscale": [
             [
              0,
              "#0d0887"
             ],
             [
              0.1111111111111111,
              "#46039f"
             ],
             [
              0.2222222222222222,
              "#7201a8"
             ],
             [
              0.3333333333333333,
              "#9c179e"
             ],
             [
              0.4444444444444444,
              "#bd3786"
             ],
             [
              0.5555555555555556,
              "#d8576b"
             ],
             [
              0.6666666666666666,
              "#ed7953"
             ],
             [
              0.7777777777777778,
              "#fb9f3a"
             ],
             [
              0.8888888888888888,
              "#fdca26"
             ],
             [
              1,
              "#f0f921"
             ]
            ],
            "type": "heatmapgl"
           }
          ],
          "histogram": [
           {
            "marker": {
             "pattern": {
              "fillmode": "overlay",
              "size": 10,
              "solidity": 0.2
             }
            },
            "type": "histogram"
           }
          ],
          "histogram2d": [
           {
            "colorbar": {
             "outlinewidth": 0,
             "ticks": ""
            },
            "colorscale": [
             [
              0,
              "#0d0887"
             ],
             [
              0.1111111111111111,
              "#46039f"
             ],
             [
              0.2222222222222222,
              "#7201a8"
             ],
             [
              0.3333333333333333,
              "#9c179e"
             ],
             [
              0.4444444444444444,
              "#bd3786"
             ],
             [
              0.5555555555555556,
              "#d8576b"
             ],
             [
              0.6666666666666666,
              "#ed7953"
             ],
             [
              0.7777777777777778,
              "#fb9f3a"
             ],
             [
              0.8888888888888888,
              "#fdca26"
             ],
             [
              1,
              "#f0f921"
             ]
            ],
            "type": "histogram2d"
           }
          ],
          "histogram2dcontour": [
           {
            "colorbar": {
             "outlinewidth": 0,
             "ticks": ""
            },
            "colorscale": [
             [
              0,
              "#0d0887"
             ],
             [
              0.1111111111111111,
              "#46039f"
             ],
             [
              0.2222222222222222,
              "#7201a8"
             ],
             [
              0.3333333333333333,
              "#9c179e"
             ],
             [
              0.4444444444444444,
              "#bd3786"
             ],
             [
              0.5555555555555556,
              "#d8576b"
             ],
             [
              0.6666666666666666,
              "#ed7953"
             ],
             [
              0.7777777777777778,
              "#fb9f3a"
             ],
             [
              0.8888888888888888,
              "#fdca26"
             ],
             [
              1,
              "#f0f921"
             ]
            ],
            "type": "histogram2dcontour"
           }
          ],
          "mesh3d": [
           {
            "colorbar": {
             "outlinewidth": 0,
             "ticks": ""
            },
            "type": "mesh3d"
           }
          ],
          "parcoords": [
           {
            "line": {
             "colorbar": {
              "outlinewidth": 0,
              "ticks": ""
             }
            },
            "type": "parcoords"
           }
          ],
          "pie": [
           {
            "automargin": true,
            "type": "pie"
           }
          ],
          "scatter": [
           {
            "fillpattern": {
             "fillmode": "overlay",
             "size": 10,
             "solidity": 0.2
            },
            "type": "scatter"
           }
          ],
          "scatter3d": [
           {
            "line": {
             "colorbar": {
              "outlinewidth": 0,
              "ticks": ""
             }
            },
            "marker": {
             "colorbar": {
              "outlinewidth": 0,
              "ticks": ""
             }
            },
            "type": "scatter3d"
           }
          ],
          "scattercarpet": [
           {
            "marker": {
             "colorbar": {
              "outlinewidth": 0,
              "ticks": ""
             }
            },
            "type": "scattercarpet"
           }
          ],
          "scattergeo": [
           {
            "marker": {
             "colorbar": {
              "outlinewidth": 0,
              "ticks": ""
             }
            },
            "type": "scattergeo"
           }
          ],
          "scattergl": [
           {
            "marker": {
             "colorbar": {
              "outlinewidth": 0,
              "ticks": ""
             }
            },
            "type": "scattergl"
           }
          ],
          "scattermapbox": [
           {
            "marker": {
             "colorbar": {
              "outlinewidth": 0,
              "ticks": ""
             }
            },
            "type": "scattermapbox"
           }
          ],
          "scatterpolar": [
           {
            "marker": {
             "colorbar": {
              "outlinewidth": 0,
              "ticks": ""
             }
            },
            "type": "scatterpolar"
           }
          ],
          "scatterpolargl": [
           {
            "marker": {
             "colorbar": {
              "outlinewidth": 0,
              "ticks": ""
             }
            },
            "type": "scatterpolargl"
           }
          ],
          "scatterternary": [
           {
            "marker": {
             "colorbar": {
              "outlinewidth": 0,
              "ticks": ""
             }
            },
            "type": "scatterternary"
           }
          ],
          "surface": [
           {
            "colorbar": {
             "outlinewidth": 0,
             "ticks": ""
            },
            "colorscale": [
             [
              0,
              "#0d0887"
             ],
             [
              0.1111111111111111,
              "#46039f"
             ],
             [
              0.2222222222222222,
              "#7201a8"
             ],
             [
              0.3333333333333333,
              "#9c179e"
             ],
             [
              0.4444444444444444,
              "#bd3786"
             ],
             [
              0.5555555555555556,
              "#d8576b"
             ],
             [
              0.6666666666666666,
              "#ed7953"
             ],
             [
              0.7777777777777778,
              "#fb9f3a"
             ],
             [
              0.8888888888888888,
              "#fdca26"
             ],
             [
              1,
              "#f0f921"
             ]
            ],
            "type": "surface"
           }
          ],
          "table": [
           {
            "cells": {
             "fill": {
              "color": "#EBF0F8"
             },
             "line": {
              "color": "white"
             }
            },
            "header": {
             "fill": {
              "color": "#C8D4E3"
             },
             "line": {
              "color": "white"
             }
            },
            "type": "table"
           }
          ]
         },
         "layout": {
          "annotationdefaults": {
           "arrowcolor": "#2a3f5f",
           "arrowhead": 0,
           "arrowwidth": 1
          },
          "autotypenumbers": "strict",
          "coloraxis": {
           "colorbar": {
            "outlinewidth": 0,
            "ticks": ""
           }
          },
          "colorscale": {
           "diverging": [
            [
             0,
             "#8e0152"
            ],
            [
             0.1,
             "#c51b7d"
            ],
            [
             0.2,
             "#de77ae"
            ],
            [
             0.3,
             "#f1b6da"
            ],
            [
             0.4,
             "#fde0ef"
            ],
            [
             0.5,
             "#f7f7f7"
            ],
            [
             0.6,
             "#e6f5d0"
            ],
            [
             0.7,
             "#b8e186"
            ],
            [
             0.8,
             "#7fbc41"
            ],
            [
             0.9,
             "#4d9221"
            ],
            [
             1,
             "#276419"
            ]
           ],
           "sequential": [
            [
             0,
             "#0d0887"
            ],
            [
             0.1111111111111111,
             "#46039f"
            ],
            [
             0.2222222222222222,
             "#7201a8"
            ],
            [
             0.3333333333333333,
             "#9c179e"
            ],
            [
             0.4444444444444444,
             "#bd3786"
            ],
            [
             0.5555555555555556,
             "#d8576b"
            ],
            [
             0.6666666666666666,
             "#ed7953"
            ],
            [
             0.7777777777777778,
             "#fb9f3a"
            ],
            [
             0.8888888888888888,
             "#fdca26"
            ],
            [
             1,
             "#f0f921"
            ]
           ],
           "sequentialminus": [
            [
             0,
             "#0d0887"
            ],
            [
             0.1111111111111111,
             "#46039f"
            ],
            [
             0.2222222222222222,
             "#7201a8"
            ],
            [
             0.3333333333333333,
             "#9c179e"
            ],
            [
             0.4444444444444444,
             "#bd3786"
            ],
            [
             0.5555555555555556,
             "#d8576b"
            ],
            [
             0.6666666666666666,
             "#ed7953"
            ],
            [
             0.7777777777777778,
             "#fb9f3a"
            ],
            [
             0.8888888888888888,
             "#fdca26"
            ],
            [
             1,
             "#f0f921"
            ]
           ]
          },
          "colorway": [
           "#636efa",
           "#EF553B",
           "#00cc96",
           "#ab63fa",
           "#FFA15A",
           "#19d3f3",
           "#FF6692",
           "#B6E880",
           "#FF97FF",
           "#FECB52"
          ],
          "font": {
           "color": "#2a3f5f"
          },
          "geo": {
           "bgcolor": "white",
           "lakecolor": "white",
           "landcolor": "#E5ECF6",
           "showlakes": true,
           "showland": true,
           "subunitcolor": "white"
          },
          "hoverlabel": {
           "align": "left"
          },
          "hovermode": "closest",
          "mapbox": {
           "style": "light"
          },
          "paper_bgcolor": "white",
          "plot_bgcolor": "#E5ECF6",
          "polar": {
           "angularaxis": {
            "gridcolor": "white",
            "linecolor": "white",
            "ticks": ""
           },
           "bgcolor": "#E5ECF6",
           "radialaxis": {
            "gridcolor": "white",
            "linecolor": "white",
            "ticks": ""
           }
          },
          "scene": {
           "xaxis": {
            "backgroundcolor": "#E5ECF6",
            "gridcolor": "white",
            "gridwidth": 2,
            "linecolor": "white",
            "showbackground": true,
            "ticks": "",
            "zerolinecolor": "white"
           },
           "yaxis": {
            "backgroundcolor": "#E5ECF6",
            "gridcolor": "white",
            "gridwidth": 2,
            "linecolor": "white",
            "showbackground": true,
            "ticks": "",
            "zerolinecolor": "white"
           },
           "zaxis": {
            "backgroundcolor": "#E5ECF6",
            "gridcolor": "white",
            "gridwidth": 2,
            "linecolor": "white",
            "showbackground": true,
            "ticks": "",
            "zerolinecolor": "white"
           }
          },
          "shapedefaults": {
           "line": {
            "color": "#2a3f5f"
           }
          },
          "ternary": {
           "aaxis": {
            "gridcolor": "white",
            "linecolor": "white",
            "ticks": ""
           },
           "baxis": {
            "gridcolor": "white",
            "linecolor": "white",
            "ticks": ""
           },
           "bgcolor": "#E5ECF6",
           "caxis": {
            "gridcolor": "white",
            "linecolor": "white",
            "ticks": ""
           }
          },
          "title": {
           "x": 0.05
          },
          "xaxis": {
           "automargin": true,
           "gridcolor": "white",
           "linecolor": "white",
           "ticks": "",
           "title": {
            "standoff": 15
           },
           "zerolinecolor": "white",
           "zerolinewidth": 2
          },
          "yaxis": {
           "automargin": true,
           "gridcolor": "white",
           "linecolor": "white",
           "ticks": "",
           "title": {
            "standoff": 15
           },
           "zerolinecolor": "white",
           "zerolinewidth": 2
          }
         }
        },
        "xaxis": {
         "anchor": "y",
         "categoryarray": [
          "HCDMSO",
          "PREDMSO",
          "PREmdivi1 25uM",
          "MDMSO",
          "Mmdivi1 25uM",
          "SDMSO",
          "Smdivi1 25uM"
         ],
         "categoryorder": "array",
         "domain": [
          0,
          1
         ],
         "title": {
          "text": "group"
         }
        },
        "yaxis": {
         "anchor": "x",
         "domain": [
          0,
          1
         ],
         "title": {
          "text": "mfn1_area"
         }
        }
       }
      },
      "text/html": [
       "<div>                            <div id=\"c7c8e07a-8fdb-463e-b2ae-6b199cccb742\" class=\"plotly-graph-div\" style=\"height:525px; width:100%;\"></div>            <script type=\"text/javascript\">                require([\"plotly\"], function(Plotly) {                    window.PLOTLYENV=window.PLOTLYENV || {};                                    if (document.getElementById(\"c7c8e07a-8fdb-463e-b2ae-6b199cccb742\")) {                    Plotly.newPlot(                        \"c7c8e07a-8fdb-463e-b2ae-6b199cccb742\",                        [{\"alignmentgroup\":\"True\",\"boxpoints\":\"all\",\"customdata\":[[\"HCDMSO1653.0p4\"],[\"HCDMSO1650.0p8\"],[\"HCDMSO143.0p7\"],[\"HCDMSO1650.0p5\"],[\"HCDMSO1653.0p9\"],[\"HCDMSO1650.0p9\"],[\"HCDMSO951.0p10\"],[\"HCDMSO1653.0p4\"],[\"HCDMSO143.0p7\"],[\"HCDMSO1653.0p6\"],[\"HCDMSO143.0p6\"],[\"HCDMSO1653.0p8\"],[\"HCDMSO1650.0p8\"],[\"HCDMSO1653.0p9\"],[\"HCDMSO1653.0p6\"],[\"HCDMSO1653.0p9\"],[\"HCDMSO1653.0p6\"],[\"HCDMSO1016.0p10\"],[\"HCDMSO1650.0p5\"],[\"HCDMSO1653.0p8\"],[\"HCDMSO1653.0p9\"],[\"HCDMSO1653.0p8\"],[\"HCDMSO143.0p7\"],[\"HCDMSO1650.0p5\"],[\"HCDMSO1650.0p8\"],[\"HCDMSO1653.0p8\"],[\"HCDMSO1650.0p9\"],[\"HCDMSO1653.0p4\"],[\"HCDMSO143.0p7\"],[\"HCDMSO1016.0p10\"],[\"HCDMSO1650.0p8\"],[\"HCDMSO1653.0p4\"],[\"HCDMSO1650.0p5\"],[\"HCDMSO495.0p6\"],[\"HCDMSO1653.0p6\"],[\"HCDMSO1653.0p4\"],[\"HCDMSO1653.0p9\"],[\"HCDMSO1016.0p10\"],[\"HCDMSO1653.0p6\"],[\"HCDMSO143.0p6\"],[\"HCDMSO1016.0p10\"],[\"HCDMSO1650.0p8\"],[\"HCDMSO951.0p10\"],[\"HCDMSO1650.0p9\"],[\"HCDMSO1650.0p9\"],[\"HCDMSO143.0p6\"],[\"HCDMSO143.0p6\"],[\"HCDMSO495.0p6\"],[\"HCDMSO1653.0p6\"],[\"HCDMSO951.0p10\"],[\"HCDMSO1650.0p5\"],[\"HCDMSO143.0p6\"],[\"HCDMSO143.0p6\"],[\"HCDMSO495.0p6\"],[\"HCDMSO1650.0p9\"],[\"HCDMSO1650.0p8\"],[\"HCDMSO495.0p6\"],[\"HCDMSO1653.0p9\"],[\"HCDMSO495.0p6\"],[\"HCDMSO1650.0p5\"],[\"HCDMSO1653.0p8\"],[\"HCDMSO1653.0p4\"],[\"HCDMSO1016.0p10\"],[\"HCDMSO1653.0p8\"]],\"hovertemplate\":\"group=%{x}<br>mfn1_area=%{y}<br>group_with_p=%{customdata[0]}<extra></extra>\",\"legendgroup\":\"HCDMSO\",\"marker\":{\"color\":\"#636efa\"},\"name\":\"HCDMSO\",\"notched\":true,\"offsetgroup\":\"HCDMSO\",\"orientation\":\"v\",\"showlegend\":true,\"x\":[\"HCDMSO\",\"HCDMSO\",\"HCDMSO\",\"HCDMSO\",\"HCDMSO\",\"HCDMSO\",\"HCDMSO\",\"HCDMSO\",\"HCDMSO\",\"HCDMSO\",\"HCDMSO\",\"HCDMSO\",\"HCDMSO\",\"HCDMSO\",\"HCDMSO\",\"HCDMSO\",\"HCDMSO\",\"HCDMSO\",\"HCDMSO\",\"HCDMSO\",\"HCDMSO\",\"HCDMSO\",\"HCDMSO\",\"HCDMSO\",\"HCDMSO\",\"HCDMSO\",\"HCDMSO\",\"HCDMSO\",\"HCDMSO\",\"HCDMSO\",\"HCDMSO\",\"HCDMSO\",\"HCDMSO\",\"HCDMSO\",\"HCDMSO\",\"HCDMSO\",\"HCDMSO\",\"HCDMSO\",\"HCDMSO\",\"HCDMSO\",\"HCDMSO\",\"HCDMSO\",\"HCDMSO\",\"HCDMSO\",\"HCDMSO\",\"HCDMSO\",\"HCDMSO\",\"HCDMSO\",\"HCDMSO\",\"HCDMSO\",\"HCDMSO\",\"HCDMSO\",\"HCDMSO\",\"HCDMSO\",\"HCDMSO\",\"HCDMSO\",\"HCDMSO\",\"HCDMSO\",\"HCDMSO\",\"HCDMSO\",\"HCDMSO\",\"HCDMSO\",\"HCDMSO\",\"HCDMSO\"],\"x0\":\" \",\"xaxis\":\"x\",\"y\":[6.369752352368884,5.990820626105345,6.226291217494702,6.086918730118348,6.1595512632185345,6.048383114361204,6.111684323201698,6.327003547154733,6.368466261029888,6.262742941534724,6.373389281327934,6.151654438126276,6.130624951762989,6.326023010260972,6.382690434851269,6.092129370834005,6.138550270088307,6.147566336601534,6.216340259622414,6.383501637302261,6.260598415427442,6.185864941336061,6.265440847748744,6.185236362456861,6.228537608625826,6.198088429254786,6.151717822009875,6.256252095001046,6.310828650653579,6.3652485099264755,6.070023583891375,6.013851371202748,6.1885655549143905,6.155169101504201,6.2851586439354685,6.344365895293834,6.271916299038986,6.340354876665042,6.326975445346847,6.260344372805857,6.184243007023889,6.232675673512903,6.085332320739961,6.091447170442812,6.068203463178016,6.26380286086594,6.12841150503387,6.239961063365119,6.343023037130526,5.958638673245494,6.146546810910397,6.252005896328457,6.232571780985691,6.240771770127027,6.017429526291683,6.185881530839374,6.260849663582804,6.141668076772359,6.159075422948014,6.151637819297778,6.35293609740219,6.353061490934078,6.254707424606976,6.283102423996312],\"y0\":\" \",\"yaxis\":\"y\",\"type\":\"box\",\"quartilemethod\":\"inclusive\"},{\"alignmentgroup\":\"True\",\"boxpoints\":\"all\",\"customdata\":[[\"PREDMSO4689.0p6\"],[\"PREDMSO4837.0p9\"],[\"PREDMSO4719.0p5\"],[\"PREDMSO4689.0p6\"],[\"PREDMSO4689.0p6\"],[\"PREDMSO4719.0p4\"],[\"PREDMSO4717.0p7\"],[\"PREDMSO4719.0p5\"],[\"PREDMSO4837.0p9\"],[\"PREDMSO4719.0p4\"],[\"PREDMSO4719.0p5\"],[\"PREDMSO4717.0p7\"],[\"PREDMSO4837.0p9\"],[\"PREDMSO4719.0p5\"],[\"PREDMSO4719.0p4\"],[\"PREDMSO4717.0p7\"],[\"PREDMSO4717.0p7\"],[\"PREDMSO4717.0p7\"],[\"PREDMSO4689.0p6\"],[\"PREDMSO4719.0p4\"],[\"PREDMSO4689.0p6\"],[\"PREDMSO4837.0p9\"],[\"PREDMSO4719.0p4\"],[\"PREDMSO4719.0p5\"],[\"PREDMSO4717.0p7\"],[\"PREDMSO4719.0p4\"],[\"PREDMSO4837.0p9\"]],\"hovertemplate\":\"group=%{x}<br>mfn1_area=%{y}<br>group_with_p=%{customdata[0]}<extra></extra>\",\"legendgroup\":\"PREDMSO\",\"marker\":{\"color\":\"#EF553B\"},\"name\":\"PREDMSO\",\"notched\":true,\"offsetgroup\":\"PREDMSO\",\"orientation\":\"v\",\"showlegend\":true,\"x\":[\"PREDMSO\",\"PREDMSO\",\"PREDMSO\",\"PREDMSO\",\"PREDMSO\",\"PREDMSO\",\"PREDMSO\",\"PREDMSO\",\"PREDMSO\",\"PREDMSO\",\"PREDMSO\",\"PREDMSO\",\"PREDMSO\",\"PREDMSO\",\"PREDMSO\",\"PREDMSO\",\"PREDMSO\",\"PREDMSO\",\"PREDMSO\",\"PREDMSO\",\"PREDMSO\",\"PREDMSO\",\"PREDMSO\",\"PREDMSO\",\"PREDMSO\",\"PREDMSO\",\"PREDMSO\"],\"x0\":\" \",\"xaxis\":\"x\",\"y\":[6.1383884004996645,6.138158395610977,6.227060476588322,6.092894074701578,6.168594782993255,6.160168570835853,6.22053143851225,6.216025744628794,6.219525285464384,6.10492460213382,6.2481169779754655,6.213157038776178,6.225905473083546,6.199204032811616,6.154606731085577,6.23811140033608,6.2655605936164935,6.122203013505649,6.101016425052059,6.170959638523991,6.083762273032783,6.222362436913497,6.125116451827505,6.235894809444662,6.1575221563255145,6.249747945678607,6.117202945356223],\"y0\":\" \",\"yaxis\":\"y\",\"type\":\"box\",\"quartilemethod\":\"inclusive\"},{\"alignmentgroup\":\"True\",\"boxpoints\":\"all\",\"customdata\":[[\"PREmdivi1 25uM4719.0p5\"],[\"PREmdivi1 25uM4719.0p4\"],[\"PREmdivi1 25uM4717.0p7\"],[\"PREmdivi1 25uM4717.0p7\"],[\"PREmdivi1 25uM4717.0p7\"],[\"PREmdivi1 25uM4837.0p9\"],[\"PREmdivi1 25uM4719.0p5\"],[\"PREmdivi1 25uM4719.0p5\"],[\"PREmdivi1 25uM4689.0p6\"],[\"PREmdivi1 25uM4717.0p7\"],[\"PREmdivi1 25uM4717.0p7\"],[\"PREmdivi1 25uM4719.0p5\"],[\"PREmdivi1 25uM4719.0p5\"],[\"PREmdivi1 25uM4719.0p4\"],[\"PREmdivi1 25uM4837.0p9\"],[\"PREmdivi1 25uM4837.0p9\"],[\"PREmdivi1 25uM4689.0p6\"],[\"PREmdivi1 25uM4689.0p6\"],[\"PREmdivi1 25uM4717.0p7\"],[\"PREmdivi1 25uM4837.0p9\"],[\"PREmdivi1 25uM4837.0p9\"],[\"PREmdivi1 25uM4719.0p5\"],[\"PREmdivi1 25uM4689.0p6\"],[\"PREmdivi1 25uM4719.0p4\"],[\"PREmdivi1 25uM4689.0p6\"]],\"hovertemplate\":\"group=%{x}<br>mfn1_area=%{y}<br>group_with_p=%{customdata[0]}<extra></extra>\",\"legendgroup\":\"PREmdivi1 25uM\",\"marker\":{\"color\":\"#00cc96\"},\"name\":\"PREmdivi1 25uM\",\"notched\":true,\"offsetgroup\":\"PREmdivi1 25uM\",\"orientation\":\"v\",\"showlegend\":true,\"x\":[\"PREmdivi1 25uM\",\"PREmdivi1 25uM\",\"PREmdivi1 25uM\",\"PREmdivi1 25uM\",\"PREmdivi1 25uM\",\"PREmdivi1 25uM\",\"PREmdivi1 25uM\",\"PREmdivi1 25uM\",\"PREmdivi1 25uM\",\"PREmdivi1 25uM\",\"PREmdivi1 25uM\",\"PREmdivi1 25uM\",\"PREmdivi1 25uM\",\"PREmdivi1 25uM\",\"PREmdivi1 25uM\",\"PREmdivi1 25uM\",\"PREmdivi1 25uM\",\"PREmdivi1 25uM\",\"PREmdivi1 25uM\",\"PREmdivi1 25uM\",\"PREmdivi1 25uM\",\"PREmdivi1 25uM\",\"PREmdivi1 25uM\",\"PREmdivi1 25uM\",\"PREmdivi1 25uM\"],\"x0\":\" \",\"xaxis\":\"x\",\"y\":[6.269527429427616,6.164556925574809,6.222815671477562,6.276383937206016,6.228046822848356,6.430450290456484,6.348364298454386,6.271147194566743,6.33940055567074,6.184800202936221,6.31009955753443,6.332973810430179,6.202454101049832,6.179590809588062,6.450907872516739,6.417377317373779,6.457223809596585,6.061419137806394,6.323830107065572,6.385143519158681,6.3966595875845,6.3092043253591745,6.09819273371013,6.284009246898083,6.216143086029696],\"y0\":\" \",\"yaxis\":\"y\",\"type\":\"box\",\"quartilemethod\":\"inclusive\"},{\"alignmentgroup\":\"True\",\"boxpoints\":\"all\",\"customdata\":[[\"MDMSO4887.0p7\"],[\"MDMSO4819.0p4\"],[\"MDMSO4819.0p4\"],[\"MDMSO4212.0p9\"],[\"MDMSO4212.0p9\"],[\"MDMSO4721.0p5\"],[\"MDMSO4715.0p6\"],[\"MDMSO4799.0p8\"],[\"MDMSO4715.0p6\"],[\"MDMSO4212.0p9\"],[\"MDMSO4887.0p7\"],[\"MDMSO4212.0p9\"],[\"MDMSO4799.0p8\"],[\"MDMSO4721.0p5\"],[\"MDMSO4721.0p5\"],[\"MDMSO4715.0p6\"],[\"MDMSO4887.0p7\"],[\"MDMSO4799.0p8\"],[\"MDMSO4715.0p6\"],[\"MDMSO4212.0p9\"],[\"MDMSO4799.0p8\"],[\"MDMSO4799.0p8\"],[\"MDMSO4715.0p6\"],[\"MDMSO4799.0p8\"],[\"MDMSO4819.0p4\"],[\"MDMSO4819.0p4\"],[\"MDMSO4721.0p5\"],[\"MDMSO4819.0p4\"],[\"MDMSO4715.0p6\"],[\"MDMSO4819.0p4\"]],\"hovertemplate\":\"group=%{x}<br>mfn1_area=%{y}<br>group_with_p=%{customdata[0]}<extra></extra>\",\"legendgroup\":\"MDMSO\",\"marker\":{\"color\":\"#ab63fa\"},\"name\":\"MDMSO\",\"notched\":true,\"offsetgroup\":\"MDMSO\",\"orientation\":\"v\",\"showlegend\":true,\"x\":[\"MDMSO\",\"MDMSO\",\"MDMSO\",\"MDMSO\",\"MDMSO\",\"MDMSO\",\"MDMSO\",\"MDMSO\",\"MDMSO\",\"MDMSO\",\"MDMSO\",\"MDMSO\",\"MDMSO\",\"MDMSO\",\"MDMSO\",\"MDMSO\",\"MDMSO\",\"MDMSO\",\"MDMSO\",\"MDMSO\",\"MDMSO\",\"MDMSO\",\"MDMSO\",\"MDMSO\",\"MDMSO\",\"MDMSO\",\"MDMSO\",\"MDMSO\",\"MDMSO\",\"MDMSO\"],\"x0\":\" \",\"xaxis\":\"x\",\"y\":[6.484407570938405,6.390434727657194,6.204572470500932,5.844268848277814,5.754811124178555,6.082387212117023,6.036997144367811,6.2449371698021245,6.021975001307455,6.025319451927299,6.363625411390746,6.10401284817967,6.246684475582694,5.889841995698945,6.081983672591487,6.120680516944158,6.313375127595638,5.953236176410218,6.054994865974933,5.910143167199765,5.953185402804594,6.251354348463318,6.0302165453570735,5.798940605213746,6.482672058832026,6.1352862255698,5.868057845676706,6.360452311284028,6.058108335493404,5.9459876556113125],\"y0\":\" \",\"yaxis\":\"y\",\"type\":\"box\",\"quartilemethod\":\"inclusive\"},{\"alignmentgroup\":\"True\",\"boxpoints\":\"all\",\"customdata\":[[\"Smdivi1 25uM4287.0p5\"],[\"Smdivi1 25uM4287.0p5\"],[\"Smdivi1 25uM4687.0p7\"],[\"Smdivi1 25uM4476.0p10\"],[\"Smdivi1 25uM4709.0p9\"],[\"Smdivi1 25uM4687.0p7\"],[\"Smdivi1 25uM4287.0p5\"],[\"Smdivi1 25uM4709.0p9\"],[\"Smdivi1 25uM305.0p6\"],[\"Smdivi1 25uM4709.0p9\"],[\"Smdivi1 25uM4709.0p9\"],[\"Smdivi1 25uM4687.0p7\"],[\"Smdivi1 25uM2165.0p10\"],[\"Smdivi1 25uM305.0p6\"],[\"Smdivi1 25uM4807.0p8\"],[\"Smdivi1 25uM4287.0p5\"],[\"Smdivi1 25uM4807.0p8\"],[\"Smdivi1 25uM4687.0p7\"],[\"Smdivi1 25uM4476.0p10\"],[\"Smdivi1 25uM305.0p6\"],[\"Smdivi1 25uM4476.0p10\"],[\"Smdivi1 25uM2165.0p10\"],[\"Smdivi1 25uM4687.0p7\"],[\"Smdivi1 25uM4476.0p10\"],[\"Smdivi1 25uM305.0p6\"],[\"Smdivi1 25uM4687.0p7\"],[\"Smdivi1 25uM4709.0p9\"],[\"Smdivi1 25uM2165.0p10\"],[\"Smdivi1 25uM2165.0p10\"],[\"Smdivi1 25uM4476.0p10\"],[\"Smdivi1 25uM4287.0p5\"],[\"Smdivi1 25uM305.0p6\"],[\"Smdivi1 25uM4807.0p8\"],[\"Smdivi1 25uM4476.0p10\"],[\"Smdivi1 25uM4807.0p8\"]],\"hovertemplate\":\"group=%{x}<br>mfn1_area=%{y}<br>group_with_p=%{customdata[0]}<extra></extra>\",\"legendgroup\":\"Smdivi1 25uM\",\"marker\":{\"color\":\"#FFA15A\"},\"name\":\"Smdivi1 25uM\",\"notched\":true,\"offsetgroup\":\"Smdivi1 25uM\",\"orientation\":\"v\",\"showlegend\":true,\"x\":[\"Smdivi1 25uM\",\"Smdivi1 25uM\",\"Smdivi1 25uM\",\"Smdivi1 25uM\",\"Smdivi1 25uM\",\"Smdivi1 25uM\",\"Smdivi1 25uM\",\"Smdivi1 25uM\",\"Smdivi1 25uM\",\"Smdivi1 25uM\",\"Smdivi1 25uM\",\"Smdivi1 25uM\",\"Smdivi1 25uM\",\"Smdivi1 25uM\",\"Smdivi1 25uM\",\"Smdivi1 25uM\",\"Smdivi1 25uM\",\"Smdivi1 25uM\",\"Smdivi1 25uM\",\"Smdivi1 25uM\",\"Smdivi1 25uM\",\"Smdivi1 25uM\",\"Smdivi1 25uM\",\"Smdivi1 25uM\",\"Smdivi1 25uM\",\"Smdivi1 25uM\",\"Smdivi1 25uM\",\"Smdivi1 25uM\",\"Smdivi1 25uM\",\"Smdivi1 25uM\",\"Smdivi1 25uM\",\"Smdivi1 25uM\",\"Smdivi1 25uM\",\"Smdivi1 25uM\",\"Smdivi1 25uM\"],\"x0\":\" \",\"xaxis\":\"x\",\"y\":[6.435721675923437,6.666617716182177,6.319195702727178,6.315002298128142,6.477384704883498,6.510680526803669,6.535680211929149,6.183771115040701,6.221216187761875,6.494952205899372,6.440739189170585,6.5700283986443555,6.2147393768807975,6.1325133261774445,6.5905471199144365,6.580619109614216,6.740518685929874,6.238518307233073,6.304916774593307,6.185457141182147,6.09470041477666,6.329484695827026,6.604530692250205,6.1123558684044665,6.043511941828141,6.363195270793104,6.179821693141761,6.298222247093143,6.33038420589143,6.305453792856825,6.454418228703511,6.001891845582621,6.703011645457843,6.113842489083786,6.665768568353197],\"y0\":\" \",\"yaxis\":\"y\",\"type\":\"box\",\"quartilemethod\":\"inclusive\"},{\"alignmentgroup\":\"True\",\"boxpoints\":\"all\",\"customdata\":[[\"SDMSO4807.0p8\"],[\"SDMSO4807.0p8\"],[\"SDMSO4287.0p5\"],[\"SDMSO4287.0p5\"],[\"SDMSO4287.0p5\"],[\"SDMSO4709.0p9\"],[\"SDMSO4709.0p9\"],[\"SDMSO305.0p6\"],[\"SDMSO4709.0p9\"],[\"SDMSO4807.0p8\"],[\"SDMSO305.0p6\"],[\"SDMSO4287.0p5\"],[\"SDMSO4687.0p7\"],[\"SDMSO4709.0p9\"],[\"SDMSO4687.0p7\"],[\"SDMSO4476.0p10\"],[\"SDMSO4687.0p7\"],[\"SDMSO4476.0p10\"],[\"SDMSO4709.0p9\"],[\"SDMSO2165.0p10\"],[\"SDMSO4687.0p7\"],[\"SDMSO4687.0p7\"],[\"SDMSO305.0p6\"],[\"SDMSO4476.0p10\"],[\"SDMSO305.0p6\"],[\"SDMSO4807.0p8\"],[\"SDMSO305.0p6\"],[\"SDMSO4287.0p5\"],[\"SDMSO4709.0p9\"],[\"SDMSO305.0p6\"],[\"SDMSO4287.0p5\"],[\"SDMSO4687.0p7\"],[\"SDMSO4476.0p10\"],[\"SDMSO4807.0p8\"]],\"hovertemplate\":\"group=%{x}<br>mfn1_area=%{y}<br>group_with_p=%{customdata[0]}<extra></extra>\",\"legendgroup\":\"SDMSO\",\"marker\":{\"color\":\"#19d3f3\"},\"name\":\"SDMSO\",\"notched\":true,\"offsetgroup\":\"SDMSO\",\"orientation\":\"v\",\"showlegend\":true,\"x\":[\"SDMSO\",\"SDMSO\",\"SDMSO\",\"SDMSO\",\"SDMSO\",\"SDMSO\",\"SDMSO\",\"SDMSO\",\"SDMSO\",\"SDMSO\",\"SDMSO\",\"SDMSO\",\"SDMSO\",\"SDMSO\",\"SDMSO\",\"SDMSO\",\"SDMSO\",\"SDMSO\",\"SDMSO\",\"SDMSO\",\"SDMSO\",\"SDMSO\",\"SDMSO\",\"SDMSO\",\"SDMSO\",\"SDMSO\",\"SDMSO\",\"SDMSO\",\"SDMSO\",\"SDMSO\",\"SDMSO\",\"SDMSO\",\"SDMSO\",\"SDMSO\"],\"x0\":\" \",\"xaxis\":\"x\",\"y\":[6.5558987261412875,6.5087888646861805,6.663833946943205,6.6233208142656546,6.299848401745,5.979124194489718,6.266627129908356,6.047118360558131,6.057403110082571,6.694020514156224,6.166373391054364,6.277564632951055,6.358181247792685,6.092888287694647,6.51700195681956,5.866757172489474,6.271013953216936,5.945491722091041,6.32791638134071,5.923293432840525,6.440725759417247,6.608121885112509,6.215032164801333,6.171790160408381,6.139122842919192,6.56983103522179,6.054548370673412,6.584529125266038,5.917856490510268,6.246840474751075,6.519322556740689,6.04159675029245,5.899634400788778,6.7021734617960185],\"y0\":\" \",\"yaxis\":\"y\",\"type\":\"box\",\"quartilemethod\":\"inclusive\"},{\"alignmentgroup\":\"True\",\"boxpoints\":\"all\",\"customdata\":[[\"Mmdivi1 25uM4715.0p6\"],[\"Mmdivi1 25uM4212.0p9\"],[\"Mmdivi1 25uM4721.0p5\"],[\"Mmdivi1 25uM4799.0p8\"],[\"Mmdivi1 25uM4721.0p5\"],[\"Mmdivi1 25uM4799.0p8\"],[\"Mmdivi1 25uM4715.0p6\"],[\"Mmdivi1 25uM4819.0p4\"],[\"Mmdivi1 25uM4799.0p8\"],[\"Mmdivi1 25uM4819.0p4\"],[\"Mmdivi1 25uM4212.0p9\"],[\"Mmdivi1 25uM4721.0p5\"],[\"Mmdivi1 25uM4212.0p9\"],[\"Mmdivi1 25uM4799.0p8\"],[\"Mmdivi1 25uM4715.0p6\"],[\"Mmdivi1 25uM4715.0p6\"],[\"Mmdivi1 25uM4721.0p5\"],[\"Mmdivi1 25uM4721.0p5\"],[\"Mmdivi1 25uM4819.0p4\"],[\"Mmdivi1 25uM4715.0p6\"],[\"Mmdivi1 25uM4212.0p9\"],[\"Mmdivi1 25uM4721.0p5\"],[\"Mmdivi1 25uM4212.0p9\"],[\"Mmdivi1 25uM4715.0p6\"],[\"Mmdivi1 25uM4799.0p8\"]],\"hovertemplate\":\"group=%{x}<br>mfn1_area=%{y}<br>group_with_p=%{customdata[0]}<extra></extra>\",\"legendgroup\":\"Mmdivi1 25uM\",\"marker\":{\"color\":\"#FF6692\"},\"name\":\"Mmdivi1 25uM\",\"notched\":true,\"offsetgroup\":\"Mmdivi1 25uM\",\"orientation\":\"v\",\"showlegend\":true,\"x\":[\"Mmdivi1 25uM\",\"Mmdivi1 25uM\",\"Mmdivi1 25uM\",\"Mmdivi1 25uM\",\"Mmdivi1 25uM\",\"Mmdivi1 25uM\",\"Mmdivi1 25uM\",\"Mmdivi1 25uM\",\"Mmdivi1 25uM\",\"Mmdivi1 25uM\",\"Mmdivi1 25uM\",\"Mmdivi1 25uM\",\"Mmdivi1 25uM\",\"Mmdivi1 25uM\",\"Mmdivi1 25uM\",\"Mmdivi1 25uM\",\"Mmdivi1 25uM\",\"Mmdivi1 25uM\",\"Mmdivi1 25uM\",\"Mmdivi1 25uM\",\"Mmdivi1 25uM\",\"Mmdivi1 25uM\",\"Mmdivi1 25uM\",\"Mmdivi1 25uM\",\"Mmdivi1 25uM\"],\"x0\":\" \",\"xaxis\":\"x\",\"y\":[6.08893620975156,6.077522650273756,6.01711863002052,6.186071173189146,5.814329716195497,5.981731592318125,5.904504887633705,6.203406024342473,6.033697669315871,6.127935440840302,5.910326862737669,6.053880550613469,6.004463343247296,6.188297763773409,6.120418230103539,6.174712501821179,5.8490650304569565,6.152536430956273,6.150471630764954,6.1948901252245525,6.2150569487718,5.889375298026802,5.773848074436806,6.184095246739896,6.073321824813072],\"y0\":\" \",\"yaxis\":\"y\",\"type\":\"box\",\"quartilemethod\":\"inclusive\"}],                        {\"template\":{\"data\":{\"histogram2dcontour\":[{\"type\":\"histogram2dcontour\",\"colorbar\":{\"outlinewidth\":0,\"ticks\":\"\"},\"colorscale\":[[0.0,\"#0d0887\"],[0.1111111111111111,\"#46039f\"],[0.2222222222222222,\"#7201a8\"],[0.3333333333333333,\"#9c179e\"],[0.4444444444444444,\"#bd3786\"],[0.5555555555555556,\"#d8576b\"],[0.6666666666666666,\"#ed7953\"],[0.7777777777777778,\"#fb9f3a\"],[0.8888888888888888,\"#fdca26\"],[1.0,\"#f0f921\"]]}],\"choropleth\":[{\"type\":\"choropleth\",\"colorbar\":{\"outlinewidth\":0,\"ticks\":\"\"}}],\"histogram2d\":[{\"type\":\"histogram2d\",\"colorbar\":{\"outlinewidth\":0,\"ticks\":\"\"},\"colorscale\":[[0.0,\"#0d0887\"],[0.1111111111111111,\"#46039f\"],[0.2222222222222222,\"#7201a8\"],[0.3333333333333333,\"#9c179e\"],[0.4444444444444444,\"#bd3786\"],[0.5555555555555556,\"#d8576b\"],[0.6666666666666666,\"#ed7953\"],[0.7777777777777778,\"#fb9f3a\"],[0.8888888888888888,\"#fdca26\"],[1.0,\"#f0f921\"]]}],\"heatmap\":[{\"type\":\"heatmap\",\"colorbar\":{\"outlinewidth\":0,\"ticks\":\"\"},\"colorscale\":[[0.0,\"#0d0887\"],[0.1111111111111111,\"#46039f\"],[0.2222222222222222,\"#7201a8\"],[0.3333333333333333,\"#9c179e\"],[0.4444444444444444,\"#bd3786\"],[0.5555555555555556,\"#d8576b\"],[0.6666666666666666,\"#ed7953\"],[0.7777777777777778,\"#fb9f3a\"],[0.8888888888888888,\"#fdca26\"],[1.0,\"#f0f921\"]]}],\"heatmapgl\":[{\"type\":\"heatmapgl\",\"colorbar\":{\"outlinewidth\":0,\"ticks\":\"\"},\"colorscale\":[[0.0,\"#0d0887\"],[0.1111111111111111,\"#46039f\"],[0.2222222222222222,\"#7201a8\"],[0.3333333333333333,\"#9c179e\"],[0.4444444444444444,\"#bd3786\"],[0.5555555555555556,\"#d8576b\"],[0.6666666666666666,\"#ed7953\"],[0.7777777777777778,\"#fb9f3a\"],[0.8888888888888888,\"#fdca26\"],[1.0,\"#f0f921\"]]}],\"contourcarpet\":[{\"type\":\"contourcarpet\",\"colorbar\":{\"outlinewidth\":0,\"ticks\":\"\"}}],\"contour\":[{\"type\":\"contour\",\"colorbar\":{\"outlinewidth\":0,\"ticks\":\"\"},\"colorscale\":[[0.0,\"#0d0887\"],[0.1111111111111111,\"#46039f\"],[0.2222222222222222,\"#7201a8\"],[0.3333333333333333,\"#9c179e\"],[0.4444444444444444,\"#bd3786\"],[0.5555555555555556,\"#d8576b\"],[0.6666666666666666,\"#ed7953\"],[0.7777777777777778,\"#fb9f3a\"],[0.8888888888888888,\"#fdca26\"],[1.0,\"#f0f921\"]]}],\"surface\":[{\"type\":\"surface\",\"colorbar\":{\"outlinewidth\":0,\"ticks\":\"\"},\"colorscale\":[[0.0,\"#0d0887\"],[0.1111111111111111,\"#46039f\"],[0.2222222222222222,\"#7201a8\"],[0.3333333333333333,\"#9c179e\"],[0.4444444444444444,\"#bd3786\"],[0.5555555555555556,\"#d8576b\"],[0.6666666666666666,\"#ed7953\"],[0.7777777777777778,\"#fb9f3a\"],[0.8888888888888888,\"#fdca26\"],[1.0,\"#f0f921\"]]}],\"mesh3d\":[{\"type\":\"mesh3d\",\"colorbar\":{\"outlinewidth\":0,\"ticks\":\"\"}}],\"scatter\":[{\"fillpattern\":{\"fillmode\":\"overlay\",\"size\":10,\"solidity\":0.2},\"type\":\"scatter\"}],\"parcoords\":[{\"type\":\"parcoords\",\"line\":{\"colorbar\":{\"outlinewidth\":0,\"ticks\":\"\"}}}],\"scatterpolargl\":[{\"type\":\"scatterpolargl\",\"marker\":{\"colorbar\":{\"outlinewidth\":0,\"ticks\":\"\"}}}],\"bar\":[{\"error_x\":{\"color\":\"#2a3f5f\"},\"error_y\":{\"color\":\"#2a3f5f\"},\"marker\":{\"line\":{\"color\":\"#E5ECF6\",\"width\":0.5},\"pattern\":{\"fillmode\":\"overlay\",\"size\":10,\"solidity\":0.2}},\"type\":\"bar\"}],\"scattergeo\":[{\"type\":\"scattergeo\",\"marker\":{\"colorbar\":{\"outlinewidth\":0,\"ticks\":\"\"}}}],\"scatterpolar\":[{\"type\":\"scatterpolar\",\"marker\":{\"colorbar\":{\"outlinewidth\":0,\"ticks\":\"\"}}}],\"histogram\":[{\"marker\":{\"pattern\":{\"fillmode\":\"overlay\",\"size\":10,\"solidity\":0.2}},\"type\":\"histogram\"}],\"scattergl\":[{\"type\":\"scattergl\",\"marker\":{\"colorbar\":{\"outlinewidth\":0,\"ticks\":\"\"}}}],\"scatter3d\":[{\"type\":\"scatter3d\",\"line\":{\"colorbar\":{\"outlinewidth\":0,\"ticks\":\"\"}},\"marker\":{\"colorbar\":{\"outlinewidth\":0,\"ticks\":\"\"}}}],\"scattermapbox\":[{\"type\":\"scattermapbox\",\"marker\":{\"colorbar\":{\"outlinewidth\":0,\"ticks\":\"\"}}}],\"scatterternary\":[{\"type\":\"scatterternary\",\"marker\":{\"colorbar\":{\"outlinewidth\":0,\"ticks\":\"\"}}}],\"scattercarpet\":[{\"type\":\"scattercarpet\",\"marker\":{\"colorbar\":{\"outlinewidth\":0,\"ticks\":\"\"}}}],\"carpet\":[{\"aaxis\":{\"endlinecolor\":\"#2a3f5f\",\"gridcolor\":\"white\",\"linecolor\":\"white\",\"minorgridcolor\":\"white\",\"startlinecolor\":\"#2a3f5f\"},\"baxis\":{\"endlinecolor\":\"#2a3f5f\",\"gridcolor\":\"white\",\"linecolor\":\"white\",\"minorgridcolor\":\"white\",\"startlinecolor\":\"#2a3f5f\"},\"type\":\"carpet\"}],\"table\":[{\"cells\":{\"fill\":{\"color\":\"#EBF0F8\"},\"line\":{\"color\":\"white\"}},\"header\":{\"fill\":{\"color\":\"#C8D4E3\"},\"line\":{\"color\":\"white\"}},\"type\":\"table\"}],\"barpolar\":[{\"marker\":{\"line\":{\"color\":\"#E5ECF6\",\"width\":0.5},\"pattern\":{\"fillmode\":\"overlay\",\"size\":10,\"solidity\":0.2}},\"type\":\"barpolar\"}],\"pie\":[{\"automargin\":true,\"type\":\"pie\"}]},\"layout\":{\"autotypenumbers\":\"strict\",\"colorway\":[\"#636efa\",\"#EF553B\",\"#00cc96\",\"#ab63fa\",\"#FFA15A\",\"#19d3f3\",\"#FF6692\",\"#B6E880\",\"#FF97FF\",\"#FECB52\"],\"font\":{\"color\":\"#2a3f5f\"},\"hovermode\":\"closest\",\"hoverlabel\":{\"align\":\"left\"},\"paper_bgcolor\":\"white\",\"plot_bgcolor\":\"#E5ECF6\",\"polar\":{\"bgcolor\":\"#E5ECF6\",\"angularaxis\":{\"gridcolor\":\"white\",\"linecolor\":\"white\",\"ticks\":\"\"},\"radialaxis\":{\"gridcolor\":\"white\",\"linecolor\":\"white\",\"ticks\":\"\"}},\"ternary\":{\"bgcolor\":\"#E5ECF6\",\"aaxis\":{\"gridcolor\":\"white\",\"linecolor\":\"white\",\"ticks\":\"\"},\"baxis\":{\"gridcolor\":\"white\",\"linecolor\":\"white\",\"ticks\":\"\"},\"caxis\":{\"gridcolor\":\"white\",\"linecolor\":\"white\",\"ticks\":\"\"}},\"coloraxis\":{\"colorbar\":{\"outlinewidth\":0,\"ticks\":\"\"}},\"colorscale\":{\"sequential\":[[0.0,\"#0d0887\"],[0.1111111111111111,\"#46039f\"],[0.2222222222222222,\"#7201a8\"],[0.3333333333333333,\"#9c179e\"],[0.4444444444444444,\"#bd3786\"],[0.5555555555555556,\"#d8576b\"],[0.6666666666666666,\"#ed7953\"],[0.7777777777777778,\"#fb9f3a\"],[0.8888888888888888,\"#fdca26\"],[1.0,\"#f0f921\"]],\"sequentialminus\":[[0.0,\"#0d0887\"],[0.1111111111111111,\"#46039f\"],[0.2222222222222222,\"#7201a8\"],[0.3333333333333333,\"#9c179e\"],[0.4444444444444444,\"#bd3786\"],[0.5555555555555556,\"#d8576b\"],[0.6666666666666666,\"#ed7953\"],[0.7777777777777778,\"#fb9f3a\"],[0.8888888888888888,\"#fdca26\"],[1.0,\"#f0f921\"]],\"diverging\":[[0,\"#8e0152\"],[0.1,\"#c51b7d\"],[0.2,\"#de77ae\"],[0.3,\"#f1b6da\"],[0.4,\"#fde0ef\"],[0.5,\"#f7f7f7\"],[0.6,\"#e6f5d0\"],[0.7,\"#b8e186\"],[0.8,\"#7fbc41\"],[0.9,\"#4d9221\"],[1,\"#276419\"]]},\"xaxis\":{\"gridcolor\":\"white\",\"linecolor\":\"white\",\"ticks\":\"\",\"title\":{\"standoff\":15},\"zerolinecolor\":\"white\",\"automargin\":true,\"zerolinewidth\":2},\"yaxis\":{\"gridcolor\":\"white\",\"linecolor\":\"white\",\"ticks\":\"\",\"title\":{\"standoff\":15},\"zerolinecolor\":\"white\",\"automargin\":true,\"zerolinewidth\":2},\"scene\":{\"xaxis\":{\"backgroundcolor\":\"#E5ECF6\",\"gridcolor\":\"white\",\"linecolor\":\"white\",\"showbackground\":true,\"ticks\":\"\",\"zerolinecolor\":\"white\",\"gridwidth\":2},\"yaxis\":{\"backgroundcolor\":\"#E5ECF6\",\"gridcolor\":\"white\",\"linecolor\":\"white\",\"showbackground\":true,\"ticks\":\"\",\"zerolinecolor\":\"white\",\"gridwidth\":2},\"zaxis\":{\"backgroundcolor\":\"#E5ECF6\",\"gridcolor\":\"white\",\"linecolor\":\"white\",\"showbackground\":true,\"ticks\":\"\",\"zerolinecolor\":\"white\",\"gridwidth\":2}},\"shapedefaults\":{\"line\":{\"color\":\"#2a3f5f\"}},\"annotationdefaults\":{\"arrowcolor\":\"#2a3f5f\",\"arrowhead\":0,\"arrowwidth\":1},\"geo\":{\"bgcolor\":\"white\",\"landcolor\":\"#E5ECF6\",\"subunitcolor\":\"white\",\"showland\":true,\"showlakes\":true,\"lakecolor\":\"white\"},\"title\":{\"x\":0.05},\"mapbox\":{\"style\":\"light\"}}},\"xaxis\":{\"anchor\":\"y\",\"domain\":[0.0,1.0],\"title\":{\"text\":\"group\"},\"categoryorder\":\"array\",\"categoryarray\":[\"HCDMSO\",\"PREDMSO\",\"PREmdivi1 25uM\",\"MDMSO\",\"Mmdivi1 25uM\",\"SDMSO\",\"Smdivi1 25uM\"]},\"yaxis\":{\"anchor\":\"x\",\"domain\":[0.0,1.0],\"title\":{\"text\":\"mfn1_area\"}},\"legend\":{\"title\":{\"text\":\"group\"},\"tracegroupgap\":0},\"margin\":{\"t\":60},\"boxmode\":\"overlay\",\"font\":{\"family\":\"Arial\",\"color\":\"Black\",\"size\":20}},                        {\"responsive\": true}                    ).then(function(){\n",
       "                            \n",
       "var gd = document.getElementById('c7c8e07a-8fdb-463e-b2ae-6b199cccb742');\n",
       "var x = new MutationObserver(function (mutations, observer) {{\n",
       "        var display = window.getComputedStyle(gd).display;\n",
       "        if (!display || display === 'none') {{\n",
       "            console.log([gd, 'removed!']);\n",
       "            Plotly.purge(gd);\n",
       "            observer.disconnect();\n",
       "        }}\n",
       "}});\n",
       "\n",
       "// Listen for the removal of the full notebook cells\n",
       "var notebookContainer = gd.closest('#notebook-container');\n",
       "if (notebookContainer) {{\n",
       "    x.observe(notebookContainer, {childList: true});\n",
       "}}\n",
       "\n",
       "// Listen for the clearing of the current output cell\n",
       "var outputEl = gd.closest('.output');\n",
       "if (outputEl) {{\n",
       "    x.observe(outputEl, {childList: true});\n",
       "}}\n",
       "\n",
       "                        })                };                });            </script>        </div>"
      ]
     },
     "metadata": {},
     "output_type": "display_data"
    }
   ],
   "source": [
    "### box plots all feat\n",
    "for col in df_stats.columns[3:]:\n",
    "    \n",
    "    fig = px.box(df_stats, x = \"group\", y = col, hover_data=[\"group_with_p\"],\n",
    "                 points=\"all\", color=\"group\",\n",
    "            notched=True)\n",
    "    fig.update_xaxes(categoryorder='array', categoryarray= ['HCDMSO', 'PREDMSO', 'PREmdivi1 25uM',\n",
    "                                                            'MDMSO', 'Mmdivi1 25uM', \n",
    "                                                           'SDMSO', 'Smdivi1 25uM'])\n",
    "    fig.update_traces(quartilemethod=\"inclusive\") # or \"inclusive\", or \"linear\" by default\n",
    "    fig.update_layout(\n",
    "    font_family=\"Arial\",\n",
    "    font_color=\"Black\",\n",
    "    font_size=20,\n",
    "    font=dict(\n",
    "        family=\"Arial\",\n",
    "        size=20,\n",
    "        color=\"Black\"\n",
    "    )\n",
    ")\n",
    "\n",
    "    fig.write_image(path + '//' + f\"{col}box_plot_image.pdf\", engine=\"kaleido\")\n",
    "    fig.show()"
   ]
  },
  {
   "cell_type": "code",
   "execution_count": null,
   "id": "aaa0df0b",
   "metadata": {},
   "outputs": [],
   "source": [
    "#statistics"
   ]
  },
  {
   "cell_type": "code",
   "execution_count": 212,
   "id": "49872c5c",
   "metadata": {},
   "outputs": [],
   "source": [
    "#DEF GROUPS\n",
    "#hc\n",
    "HC = df_stats[(df_stats['group'] == 'HCDMSO')]\n",
    "HC_intensity_mean = HC[[\"mfn1_intensity\"]]\n",
    "HC_area = HC[[\"mfn1_area\"]]\n",
    "#ds\n",
    "#Sev\n",
    "S = df_stats[(df_stats['group'] == 'SDMSO')]\n",
    "S_intensity_mean = S[[\"mfn1_intensity\"]]\n",
    "S_area = S[[\"mfn1_area\"]]\n",
    "#Mild\n",
    "M = df_stats[(df_stats['group'] == 'MDMSO')]\n",
    "M_intensity_mean = M[[\"mfn1_intensity\"]]\n",
    "M_area = M[[\"mfn1_area\"]]\n",
    "#Pre\n",
    "P = df_stats[(df_stats['group'] == 'PREDMSO')]\n",
    "P_intensity_mean = P[[\"mfn1_intensity\"]]\n",
    "P_area = P[[\"mfn1_area\"]]\n",
    "#dsT\n",
    "#Sev\n",
    "ST = df_stats[(df_stats['group'] == 'Smdivi1 25uM')]\n",
    "ST_intensity_mean = ST[[\"mfn1_intensity\"]]\n",
    "ST_area = ST[[\"mfn1_area\"]]\n",
    "#Mild\n",
    "MT = df_stats[(df_stats['group'] == 'Mmdivi1 25uM')]\n",
    "MT_intensity_mean = MT[[\"mfn1_intensity\"]]\n",
    "MT_area = MT[[\"mfn1_area\"]]\n",
    "#Pre\n",
    "PT = df_stats[(df_stats['group'] == 'PREmdivi1 25uM')]\n",
    "PT_intensity_mean = PT[[\"mfn1_intensity\"]]\n",
    "PT_area = PT[[\"mfn1_area\"]]\n"
   ]
  },
  {
   "cell_type": "code",
   "execution_count": 213,
   "id": "db5540fe",
   "metadata": {},
   "outputs": [],
   "source": [
    "# hc vs ds \n",
    "one_list = [(S_intensity_mean), (HC_intensity_mean)]\n",
    "two_list = [(M_intensity_mean), (HC_intensity_mean)]\n",
    "three_list = [(P_intensity_mean), (HC_intensity_mean)]\n",
    "#ds vs dst \n",
    "one2_list = [(S_intensity_mean), (ST_intensity_mean)]\n",
    "two2_list = [(M_intensity_mean), (MT_intensity_mean)]\n",
    "three2_list = [(P_intensity_mean), (PT_intensity_mean)]\n",
    "#DS vs ds \n",
    "one3_list = [ (S_intensity_mean), (M_intensity_mean)]\n",
    "two3_list = [(S_intensity_mean), (P_intensity_mean)]\n",
    "three3_list = [(M_intensity_mean), (P_intensity_mean)]\n",
    "#general lists \n",
    "all_list = (one_list, two_list, three_list)\n",
    "sec_list = (one2_list, two2_list, three2_list)\n",
    "t_list = (one3_list, two3_list, three3_list)"
   ]
  },
  {
   "cell_type": "code",
   "execution_count": 215,
   "id": "3bf9bf12",
   "metadata": {},
   "outputs": [],
   "source": [
    "def t_function(list):\n",
    "    for item in list:\n",
    "        name = [i for i in globals() if globals()[i] is item][0]\n",
    "        item1 = list[0]\n",
    "        item2 = list[1]\n",
    "        twosample_results = scipy.stats.ttest_ind(item1, item2, equal_var=False, permutations=1000)\n",
    "        matrix_twosample = [\n",
    "        ['', 'Test Statistic', 'p-value'],\n",
    "        ['{}'.format(name), twosample_results[0], twosample_results[1]]\n",
    "    ]\n",
    "        twosample_table = FF.create_table(matrix_twosample, index=True)\n",
    "        cf.go_offline()\n",
    "        iplot(twosample_table, filename='{}twosample-table')"
   ]
  },
  {
   "cell_type": "code",
   "execution_count": null,
   "id": "530db06a",
   "metadata": {},
   "outputs": [],
   "source": [
    "for x in all_list:\n",
    "    t_function(x)\n",
    "    print('done')"
   ]
  },
  {
   "cell_type": "code",
   "execution_count": null,
   "id": "51b35a89",
   "metadata": {},
   "outputs": [],
   "source": [
    "for x in sec_list:\n",
    "    t_function(x)\n",
    "    print('done')"
   ]
  },
  {
   "cell_type": "code",
   "execution_count": null,
   "id": "f6546e96",
   "metadata": {},
   "outputs": [],
   "source": [
    "for x in t_list:\n",
    "    t_function(x)\n",
    "    print('done')"
   ]
  },
  {
   "cell_type": "code",
   "execution_count": null,
   "id": "ac7c2221",
   "metadata": {},
   "outputs": [],
   "source": [
    "######################"
   ]
  },
  {
   "cell_type": "code",
   "execution_count": null,
   "id": "6b22dace",
   "metadata": {},
   "outputs": [],
   "source": []
  },
  {
   "cell_type": "code",
   "execution_count": null,
   "id": "1c12085e",
   "metadata": {},
   "outputs": [],
   "source": []
  }
 ],
 "metadata": {
  "kernelspec": {
   "display_name": "Python 3 (ipykernel)",
   "language": "python",
   "name": "python3"
  },
  "language_info": {
   "codemirror_mode": {
    "name": "ipython",
    "version": 3
   },
   "file_extension": ".py",
   "mimetype": "text/x-python",
   "name": "python",
   "nbconvert_exporter": "python",
   "pygments_lexer": "ipython3",
   "version": "3.9.13"
  }
 },
 "nbformat": 4,
 "nbformat_minor": 5
}
