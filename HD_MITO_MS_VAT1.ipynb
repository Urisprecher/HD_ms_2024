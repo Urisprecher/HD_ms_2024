{
 "cells": [
  {
   "cell_type": "code",
   "execution_count": 1,
   "id": "0fb632cd",
   "metadata": {},
   "outputs": [
    {
     "data": {
      "text/html": [
       "        <script type=\"text/javascript\">\n",
       "        window.PlotlyConfig = {MathJaxConfig: 'local'};\n",
       "        if (window.MathJax && window.MathJax.Hub && window.MathJax.Hub.Config) {window.MathJax.Hub.Config({SVG: {font: \"STIX-Web\"}});}\n",
       "        if (typeof require !== 'undefined') {\n",
       "        require.undef(\"plotly\");\n",
       "        requirejs.config({\n",
       "            paths: {\n",
       "                'plotly': ['https://cdn.plot.ly/plotly-2.12.1.min']\n",
       "            }\n",
       "        });\n",
       "        require(['plotly'], function(Plotly) {\n",
       "            window._Plotly = Plotly;\n",
       "        });\n",
       "        }\n",
       "        </script>\n",
       "        "
      ]
     },
     "metadata": {},
     "output_type": "display_data"
    },
    {
     "data": {
      "text/html": [
       "        <script type=\"text/javascript\">\n",
       "        window.PlotlyConfig = {MathJaxConfig: 'local'};\n",
       "        if (window.MathJax && window.MathJax.Hub && window.MathJax.Hub.Config) {window.MathJax.Hub.Config({SVG: {font: \"STIX-Web\"}});}\n",
       "        if (typeof require !== 'undefined') {\n",
       "        require.undef(\"plotly\");\n",
       "        requirejs.config({\n",
       "            paths: {\n",
       "                'plotly': ['https://cdn.plot.ly/plotly-2.12.1.min']\n",
       "            }\n",
       "        });\n",
       "        require(['plotly'], function(Plotly) {\n",
       "            window._Plotly = Plotly;\n",
       "        });\n",
       "        }\n",
       "        </script>\n",
       "        "
      ]
     },
     "metadata": {},
     "output_type": "display_data"
    }
   ],
   "source": [
    "import numpy as np\n",
    "import pandas as pd\n",
    "import matplotlib.pyplot as plt\n",
    "%matplotlib inline\n",
    "import os\n",
    "import sys\n",
    "import glob\n",
    "import pandas as pd\n",
    "import numpy as np\n",
    "import seaborn as sns\n",
    "import os\n",
    "import sys\n",
    "import glob\n",
    "from sklearn import preprocessing\n",
    "import matplotlib.pyplot as plt\n",
    "from pandas.plotting import scatter_matrix \n",
    "%matplotlib inline\n",
    "from sklearn.decomposition import PCA\n",
    "from sklearn.preprocessing import StandardScaler\n",
    "from sklearn.discriminant_analysis import LinearDiscriminantAnalysis as LDA\n",
    "from sklearn.discriminant_analysis import QuadraticDiscriminantAnalysis as QDA\n",
    "from sklearn.manifold import TSNE\n",
    "from colour import Color\n",
    "from sklearn.covariance import EllipticEnvelope\n",
    "from itertools import combinations\n",
    "import pandas as pd\n",
    "import numpy as np\n",
    "import seaborn as sns\n",
    "import os\n",
    "import sys\n",
    "import glob\n",
    "from sklearn import preprocessing\n",
    "import matplotlib.pyplot as plt\n",
    "from pandas.plotting import scatter_matrix \n",
    "%matplotlib inline\n",
    "# from pptx import Presentation\n",
    "# from pptx.util import Inches\n",
    "from sklearn.decomposition import PCA\n",
    "from sklearn.preprocessing import StandardScaler\n",
    "from sklearn.discriminant_analysis import LinearDiscriminantAnalysis as LDA\n",
    "from sklearn.discriminant_analysis import QuadraticDiscriminantAnalysis as QDA\n",
    "from sklearn.manifold import TSNE\n",
    "from colour import Color\n",
    "from sklearn.covariance import EllipticEnvelope\n",
    "import sklearn.linear_model\n",
    "from sklearn.linear_model import LinearRegression\n",
    "from sklearn import svm\n",
    "from sklearn.datasets import make_moons, make_blobs\n",
    "from sklearn.covariance import EllipticEnvelope\n",
    "from sklearn.ensemble import IsolationForest\n",
    "from sklearn.neighbors import LocalOutlierFactor\n",
    "#from sklearn.linear_model import SGDOneClassSVM\n",
    "from sklearn.kernel_approximation import Nystroem\n",
    "from sklearn.pipeline import make_pipeline\n",
    "from sklearn import preprocessing\n",
    "import matplotlib.pyplot as plt\n",
    "from pandas.plotting import scatter_matrix \n",
    "from psynlig import plot_correlation_heatmap\n",
    "#import pingouin as pg\n",
    "from scipy.stats import pearsonr\n",
    "import plotly.express as px\n",
    "import plotly.graph_objs as go\n",
    "from plotly.tools import FigureFactory as FF\n",
    "import chart_studio as cs\n",
    "import numpy as np\n",
    "import pandas as pd\n",
    "import scipy\n",
    "import chart_studio.plotly as py\n",
    "from plotly.offline import iplot\n",
    "import pandas as pd\n",
    "import numpy as np  \n",
    "%matplotlib inline  \n",
    "from plotly import __version__ \n",
    "from plotly.offline import download_plotlyjs, init_notebook_mode, plot, iplot\n",
    "import cufflinks as cf\n",
    "init_notebook_mode(connected=True)\n",
    "cf.go_offline()\n",
    "import chart_studio.plotly as py\n",
    "from sklearn import preprocessing\n",
    "from pandas.plotting import scatter_matrix \n",
    "from psynlig import plot_correlation_heatmap\n",
    "#import pingouin as pg\n",
    "from scipy.stats import pearsonr\n",
    "import kaleido"
   ]
  },
  {
   "cell_type": "code",
   "execution_count": 131,
   "id": "d6d00fb4",
   "metadata": {},
   "outputs": [],
   "source": [
    "##functions"
   ]
  },
  {
   "cell_type": "code",
   "execution_count": 2,
   "id": "8d56f0eb",
   "metadata": {},
   "outputs": [],
   "source": [
    "def summarize_dataframe(df, group_col):\n",
    "    \"\"\"\n",
    "    This function takes a pandas DataFrame and a column to group by as inputs and returns\n",
    "    a summary DataFrame with statistical parameters for each group.\n",
    "    \"\"\"\n",
    "    # Group the DataFrame by the specified column\n",
    "    grouped_df = df.groupby(group_col)\n",
    "   \n",
    "    # Define a dictionary to hold the statistical parameters to compute for each column\n",
    "    agg_dict = {}\n",
    "   \n",
    "    # Loop over the columns in the DataFrame and add the statistical parameters to the agg_dict\n",
    "    for col in df.columns:\n",
    "        if col != group_col:\n",
    "            agg_dict[col] = [\n",
    "                ('count', 'count'),\n",
    "                ('mean', 'mean'),\n",
    "                ('std', 'std'),\n",
    "                ('min', 'min'),\n",
    "                ('25%', lambda x: np.quantile(x, 0.25)),\n",
    "                ('median', 'median'),\n",
    "                ('75%', lambda x: np.quantile(x, 0.75)),\n",
    "                ('max', 'max')\n",
    "                \n",
    "            ]\n",
    "   \n",
    "    # Compute the summary statistics for each group and column using the agg_dict\n",
    "    summary_df = grouped_df.agg(agg_dict)\n",
    "   \n",
    "    # Flatten the multi-index column names into a single level\n",
    "    summary_df.columns = [f'{col}_{stat}' for col, stat in summary_df.columns]\n",
    "   \n",
    "    # Rename the index column\n",
    "    summary_df.index.name = group_col\n",
    "   \n",
    "    # Return the summary DataFrame\n",
    "    return summary_df"
   ]
  },
  {
   "cell_type": "code",
   "execution_count": 3,
   "id": "221b5b43",
   "metadata": {},
   "outputs": [],
   "source": [
    "def add_plate_column(folder_path):\n",
    "    files = os.listdir(folder_path)\n",
    "    output_folder = os.path.join(folder_path, \"output\")\n",
    "    os.makedirs(output_folder, exist_ok=True)\n",
    "   \n",
    "    for i, file in enumerate(files):\n",
    "        if file.endswith(\".csv\"):\n",
    "            file_path = os.path.join(folder_path, file)\n",
    "            output_path = os.path.join(output_folder, file)\n",
    "           \n",
    "            df = pd.read_csv(file_path)\n",
    "            df.insert(0, \"plate\", f\"p{i+1}\")\n",
    "            df['Row'] = 'r' + df['Row'].astype(str)\n",
    "            df['Column'] = 'c' + df['Column'].astype(str)\n",
    "            df[\"pos\"] = df[\"Row\"].astype(str) + df[\"Column\"].astype(str)  + df[\"plate\"].astype(str) \n",
    "            df.to_csv(output_path, index=False)"
   ]
  },
  {
   "cell_type": "code",
   "execution_count": 4,
   "id": "f13d8d23",
   "metadata": {},
   "outputs": [],
   "source": [
    "def dist_check_if_hc(frame):\n",
    "    frame = frame.drop(columns=['Local Outlier Factor 30', 'Local Outlier Factor 30_outliers',\n",
    "       'Local Outlier Factor 10', 'Local Outlier Factor 10_outliers',\n",
    "       'Local Outlier Factor 8', 'Local Outlier Factor 8_outliers', 'group', 'group_p', 'Cell_id',\n",
    "       'group_with_id', 'group_with_p'])\n",
    "    print(\"frame_ready\")\n",
    "    for col in frame:\n",
    "            \n",
    "            plt.hist(frame[col])\n",
    "            plt.title(f\"Histogram of hc({col})\")\n",
    "            plt.xlabel(f\"hc({col})\")\n",
    "            plt.ylabel(\"Frequency\")\n",
    "            plt.show()\n",
    "            plt.savefig(path + '//' + f\"hist_hc{col}.pdf\", dpi = 600)\n",
    "            plt.close()\n",
    "            print(\"hist_done!\")\n",
    "            plt.figure()\n",
    "            scipy.stats.probplot(frame[col], dist=\"norm\", plot=plt)\n",
    "            plt.title(f\"Q-Q-{col}\")\n",
    "            plt.show\n",
    "            plt.savefig(path + '//' + f\"Q-Q_hc{col}.pdf\", dpi = 600)\n",
    "            plt.close()\n",
    "            print(\"qq_done:)\")\n",
    "            plt.figure()\n",
    "            sns.distplot(frame[col], kde = True, color ='red', bins = 30)\n",
    "            plt.title(f\"dist-{col}\")\n",
    "            plt.show\n",
    "            plt.savefig(path + '//' + f\"dist_hc{col}.pdf\", dpi = 600)\n",
    "            plt.close()\n",
    "            print(\"on it:)\")\n",
    "            print(\"done:)\")\n",
    "        "
   ]
  },
  {
   "cell_type": "code",
   "execution_count": 5,
   "id": "df2a5188",
   "metadata": {},
   "outputs": [],
   "source": [
    "def dist_check_if_max(frame):\n",
    "    \n",
    "    print(\"frame_ready\")\n",
    "    for col in frame:\n",
    "            #Nh_df_24 = Nh_df_24.drop(columns=[\"PC\", \"group_with_pc\", \"group\", \"group_with_id\"])\n",
    "            plt.hist(frame[col])\n",
    "            plt.title(f\"Histogram of max({col})\")\n",
    "            plt.xlabel(f\"max({col})\")\n",
    "            plt.ylabel(\"Frequency\")\n",
    "            plt.show()\n",
    "            plt.savefig(path + '//' + f\"hist_max{col}.pdf\", dpi = 600)\n",
    "            plt.close()\n",
    "            print(\"hist_done!\")\n",
    "            plt.figure()\n",
    "            scipy.stats.probplot(frame[col], dist=\"norm\", plot=plt)\n",
    "            plt.title(f\"Q-Q-{col}\")\n",
    "            plt.show\n",
    "            plt.savefig(path + '//' + f\"Q-Q_max{col}.pdf\", dpi = 600)\n",
    "            plt.close()\n",
    "            print(\"qq_done:)\")\n",
    "            plt.figure()\n",
    "            sns.distplot(frame[col], kde = True, color ='red', bins = 30)\n",
    "            plt.title(f\"dist-{col}\")\n",
    "            plt.show\n",
    "            plt.savefig(path + '//' + f\"dist_max{col}.pdf\", dpi = 600)\n",
    "            plt.close()\n",
    "            print(\"on it:)\")\n",
    "            print(\"done:)\")"
   ]
  },
  {
   "cell_type": "code",
   "execution_count": 6,
   "id": "d529670e",
   "metadata": {},
   "outputs": [],
   "source": [
    "def dist_check_if_log(frame):\n",
    "    \n",
    "    print(\"frame_ready\")\n",
    "    for col in frame:\n",
    "            #Nh_df_24 = Nh_df_24.drop(columns=[\"PC\", \"group_with_pc\", \"group\", \"group_with_id\"])\n",
    "            plt.hist(frame[col])\n",
    "            plt.title(f\"Histogram of log({col})\")\n",
    "            plt.xlabel(f\"log({col})\")\n",
    "            plt.ylabel(\"Frequency\")\n",
    "            plt.show()\n",
    "            plt.savefig(path + '//' + f\"hist_log{col}.pdf\", dpi = 600)\n",
    "            plt.close()\n",
    "            print(\"hist_done!\")\n",
    "            plt.figure()\n",
    "            scipy.stats.probplot(frame[col], dist=\"norm\", plot=plt)\n",
    "            plt.title(f\"Q-Q-{col}\")\n",
    "            plt.show\n",
    "            plt.savefig(path + '//' + f\"Q-Q_log{col}.pdf\", dpi = 600)\n",
    "            plt.close()\n",
    "            print(\"qq_done:)\")\n",
    "            plt.figure()\n",
    "            sns.distplot(frame[col], kde = True, color ='red', bins = 30)\n",
    "            plt.title(f\"dist-{col}\")\n",
    "            plt.show\n",
    "            plt.savefig(path + '//' + f\"dist_log{col}.pdf\", dpi = 600)\n",
    "            plt.close()\n",
    "            print(\"on it:)\")\n",
    "            print(\"done:)\")"
   ]
  },
  {
   "cell_type": "code",
   "execution_count": 7,
   "id": "4f870bee",
   "metadata": {},
   "outputs": [],
   "source": [
    "def dist_check_if_log_2(frame):\n",
    "    \n",
    "    print(\"frame_ready\")\n",
    "    for col in frame:\n",
    "            #Nh_df_24 = Nh_df_24.drop(columns=[\"PC\", \"group_with_pc\", \"group\", \"group_with_id\"])\n",
    "            plt.hist(frame[col])\n",
    "            plt.title(f\"Histogram of log+1({col})\")\n",
    "            plt.xlabel(f\"log+1({col})\")\n",
    "            plt.ylabel(\"Frequency\")\n",
    "            plt.show()\n",
    "            plt.savefig(path + '//' + f\"hist_log+1{col}.pdf\", dpi = 600)\n",
    "            plt.close()\n",
    "            print(\"hist_done!\")\n",
    "            plt.figure()\n",
    "            scipy.stats.probplot(frame[col], dist=\"norm\", plot=plt)\n",
    "            plt.title(f\"Q-Q-{col}\")\n",
    "            plt.show\n",
    "            plt.savefig(path + '//' + f\"Q-Q_log+1{col}.pdf\", dpi = 600)\n",
    "            plt.close()\n",
    "            print(\"qq_done:)\")\n",
    "            plt.figure()\n",
    "            sns.distplot(frame[col], kde = True, color ='red', bins = 30)\n",
    "            plt.title(f\"dist-{col}\")\n",
    "            plt.show\n",
    "            plt.savefig(path + '//' + f\"dist_log+1{col}.pdf\", dpi = 600)\n",
    "            plt.close()\n",
    "            print(\"on it:)\")\n",
    "            print(\"done:)\")"
   ]
  },
  {
   "cell_type": "code",
   "execution_count": 10,
   "id": "16f80c53",
   "metadata": {},
   "outputs": [],
   "source": [
    "### vat1\n",
    "add_plate_column('C:/Users/Uri8s/VAT1')"
   ]
  },
  {
   "cell_type": "code",
   "execution_count": 8,
   "id": "a66da6bd",
   "metadata": {},
   "outputs": [
    {
     "name": "stdout",
     "output_type": "stream",
     "text": [
      "Output folder created\n"
     ]
    }
   ],
   "source": [
    "## vat1 res path\n",
    "path = ('VAT1_res') \n",
    "if not os.path.exists(path):\n",
    "    os.mkdir(path)\n",
    "    print('Output folder created')"
   ]
  },
  {
   "cell_type": "code",
   "execution_count": null,
   "id": "be0fe670",
   "metadata": {},
   "outputs": [],
   "source": [
    "#vat1\n",
    "all_files = glob.glob('C:/Users/Uri8s/output_vat1/*.csv')\n",
    "\n",
    "li = []\n",
    "\n",
    "for filename in all_files:\n",
    "    df = pd.read_csv(filename)\n",
    "\n",
    "    li.append(df)\n",
    "\n",
    "vat1_df = pd.concat(li, axis=0, ignore_index=True)"
   ]
  },
  {
   "cell_type": "code",
   "execution_count": null,
   "id": "f01e9b0e",
   "metadata": {},
   "outputs": [],
   "source": [
    "#index frame\n",
    "vat1_df[\"group\"] = vat1_df[\"Severity\"].astype(str) + vat1_df[\"Compound\"].astype(str)\n",
    "vat1_df.set_index([\"group\"], inplace = True,\n",
    "                            append = True, drop = False)\n",
    "vat1_df[\"group_with_id\"] = vat1_df[\"Severity\"].astype(str) + vat1_df[\"Compound\"].astype(str) + vat1_df[\"Cell ID\"].astype(str) \n",
    "vat1_df.set_index([\"group_with_id\"], inplace = True,\n",
    "                            append = True, drop = False)\n",
    "vat1_df[\"group_with_p\"] = vat1_df[\"Severity\"].astype(str) + vat1_df[\"Compound\"].astype(str) + vat1_df[\"Cell ID\"].astype(str) + vat1_df[\"plate\"].astype(str)\n",
    "vat1_df.set_index([\"group_with_p\"], inplace = True,\n",
    "                            append = True, drop = False)\n",
    "vat1_df[\"group_p\"] = vat1_df[\"Severity\"].astype(str) + vat1_df[\"Compound\"].astype(str) + vat1_df[\"plate\"].astype(str)\n",
    "vat1_df.set_index([\"group_p\"], inplace = True,\n",
    "                            append = True, drop = False)"
   ]
  },
  {
   "cell_type": "code",
   "execution_count": 12,
   "id": "5b7b0ba3",
   "metadata": {
    "scrolled": true
   },
   "outputs": [
    {
     "data": {
      "image/png": "[encoded data removed]",
      "text/plain": [
       "<Figure size 432x288 with 1 Axes>"
      ]
     },
     "metadata": {
      "needs_background": "light"
     },
     "output_type": "display_data"
    },
    {
     "name": "stdout",
     "output_type": "stream",
     "text": [
      "Total number of cell types 600\n"
     ]
    },
    {
     "data": {
      "image/png": "[encoded data removed]",
      "text/plain": [
       "<Figure size 432x288 with 1 Axes>"
      ]
     },
     "metadata": {
      "needs_background": "light"
     },
     "output_type": "display_data"
    },
    {
     "name": "stdout",
     "output_type": "stream",
     "text": [
      "Total number of cells 596\n"
     ]
    }
   ],
   "source": [
    "cell_types =  vat1_df[\"group\"].values\n",
    "sns.histplot(cell_types)\n",
    "plt.show()\n",
    "print(f'Total number of cell types {len(cell_types)}')\n",
    "vat1_df = vat1_df.loc[cell_types != 'nannan']\n",
    "sns.histplot(vat1_df[\"group\"].values)\n",
    "plt.show()\n",
    "print(f'Total number of cells {len(vat1_df)}')"
   ]
  },
  {
   "cell_type": "code",
   "execution_count": 13,
   "id": "e9222353",
   "metadata": {},
   "outputs": [
    {
     "data": {
      "text/plain": [
       "HCDMSO            239\n",
       "Smdivi1 25uM       66\n",
       "SDMSO              66\n",
       "Mmdivi1 25uM       60\n",
       "MDMSO              59\n",
       "PREmdivi1 25uM     54\n",
       "PREDMSO            52\n",
       "Name: group, dtype: int64"
      ]
     },
     "execution_count": 13,
     "metadata": {},
     "output_type": "execute_result"
    }
   ],
   "source": [
    "vat1_df[\"group\"].value_counts()"
   ]
  },
  {
   "cell_type": "code",
   "execution_count": 14,
   "id": "ec685b98",
   "metadata": {},
   "outputs": [
    {
     "data": {
      "text/plain": [
       "p1     60\n",
       "p2     60\n",
       "p4     60\n",
       "p5     60\n",
       "p7     60\n",
       "p9     60\n",
       "p10    60\n",
       "p6     59\n",
       "p8     59\n",
       "p3     58\n",
       "Name: plate, dtype: int64"
      ]
     },
     "execution_count": 14,
     "metadata": {},
     "output_type": "execute_result"
    }
   ],
   "source": [
    "vat1_df[\"plate\"].value_counts()"
   ]
  },
  {
   "cell_type": "code",
   "execution_count": 15,
   "id": "b10ebc92",
   "metadata": {},
   "outputs": [
    {
     "data": {
      "image/png": "[encoded data removed]",
      "text/plain": [
       "<Figure size 432x288 with 1 Axes>"
      ]
     },
     "metadata": {
      "needs_background": "light"
     },
     "output_type": "display_data"
    },
    {
     "name": "stdout",
     "output_type": "stream",
     "text": [
      "Total number of cell types 596\n"
     ]
    },
    {
     "data": {
      "image/png": "[encoded data removed]",
      "text/plain": [
       "<Figure size 432x288 with 1 Axes>"
      ]
     },
     "metadata": {
      "needs_background": "light"
     },
     "output_type": "display_data"
    },
    {
     "name": "stdout",
     "output_type": "stream",
     "text": [
      "Total number of cells 536\n"
     ]
    }
   ],
   "source": [
    "plate_types =  vat1_df[\"plate\"].values\n",
    "sns.histplot(plate_types)\n",
    "plt.show()\n",
    "print(f'Total number of cell types {len(plate_types)}')\n",
    "vat1_df = vat1_df.loc[plate_types != 'p1']\n",
    "sns.histplot(vat1_df[\"plate\"].values)\n",
    "plt.show()\n",
    "print(f'Total number of cells {len(vat1_df)}')"
   ]
  },
  {
   "cell_type": "code",
   "execution_count": 16,
   "id": "097c6c0e",
   "metadata": {
    "scrolled": true
   },
   "outputs": [
    {
     "data": {
      "image/png": "[encoded data removed]",
      "text/plain": [
       "<Figure size 432x288 with 1 Axes>"
      ]
     },
     "metadata": {
      "needs_background": "light"
     },
     "output_type": "display_data"
    },
    {
     "name": "stdout",
     "output_type": "stream",
     "text": [
      "Total number of cell types 536\n"
     ]
    },
    {
     "data": {
      "image/png": "[encoded data removed]",
      "text/plain": [
       "<Figure size 432x288 with 1 Axes>"
      ]
     },
     "metadata": {
      "needs_background": "light"
     },
     "output_type": "display_data"
    },
    {
     "name": "stdout",
     "output_type": "stream",
     "text": [
      "Total number of cells 476\n"
     ]
    }
   ],
   "source": [
    "plate_types =  vat1_df[\"plate\"].values\n",
    "sns.histplot(plate_types)\n",
    "plt.show()\n",
    "print(f'Total number of cell types {len(plate_types)}')\n",
    "vat1_df = vat1_df.loc[plate_types != 'p2']\n",
    "sns.histplot(vat1_df[\"plate\"].values)\n",
    "plt.show()\n",
    "print(f'Total number of cells {len(vat1_df)}')"
   ]
  },
  {
   "cell_type": "code",
   "execution_count": 17,
   "id": "cc3e1636",
   "metadata": {},
   "outputs": [
    {
     "data": {
      "image/png": "[encoded data removed]",
      "text/plain": [
       "<Figure size 432x288 with 1 Axes>"
      ]
     },
     "metadata": {
      "needs_background": "light"
     },
     "output_type": "display_data"
    },
    {
     "name": "stdout",
     "output_type": "stream",
     "text": [
      "Total number of cell types 476\n"
     ]
    },
    {
     "data": {
      "image/png": "[encoded data removed]",
      "text/plain": [
       "<Figure size 432x288 with 1 Axes>"
      ]
     },
     "metadata": {
      "needs_background": "light"
     },
     "output_type": "display_data"
    },
    {
     "name": "stdout",
     "output_type": "stream",
     "text": [
      "Total number of cells 418\n"
     ]
    }
   ],
   "source": [
    "plate_types =  vat1_df[\"plate\"].values\n",
    "sns.histplot(plate_types)\n",
    "plt.show()\n",
    "print(f'Total number of cell types {len(plate_types)}')\n",
    "vat1_df = vat1_df.loc[plate_types != 'p3']\n",
    "sns.histplot(vat1_df[\"plate\"].values)\n",
    "plt.show()\n",
    "print(f'Total number of cells {len(vat1_df)}')"
   ]
  },
  {
   "cell_type": "code",
   "execution_count": 18,
   "id": "59cab54c",
   "metadata": {
    "scrolled": true
   },
   "outputs": [
    {
     "data": {
      "text/plain": [
       "HCDMSO            167\n",
       "Smdivi1 25uM       48\n",
       "SDMSO              48\n",
       "Mmdivi1 25uM       42\n",
       "MDMSO              42\n",
       "PREmdivi1 25uM     36\n",
       "PREDMSO            35\n",
       "Name: group, dtype: int64"
      ]
     },
     "execution_count": 18,
     "metadata": {},
     "output_type": "execute_result"
    }
   ],
   "source": [
    "vat1_df[\"group\"].value_counts()"
   ]
  },
  {
   "cell_type": "code",
   "execution_count": 19,
   "id": "0d5f205b",
   "metadata": {},
   "outputs": [
    {
     "data": {
      "text/html": [
       "<div>\n",
       "<style scoped>\n",
       "    .dataframe tbody tr th:only-of-type {\n",
       "        vertical-align: middle;\n",
       "    }\n",
       "\n",
       "    .dataframe tbody tr th {\n",
       "        vertical-align: top;\n",
       "    }\n",
       "\n",
       "    .dataframe thead th {\n",
       "        text-align: right;\n",
       "    }\n",
       "</style>\n",
       "<table border=\"1\" class=\"dataframe\">\n",
       "  <thead>\n",
       "    <tr style=\"text-align: right;\">\n",
       "      <th></th>\n",
       "      <th></th>\n",
       "      <th></th>\n",
       "      <th></th>\n",
       "      <th></th>\n",
       "      <th>plate</th>\n",
       "      <th>Row</th>\n",
       "      <th>Column</th>\n",
       "      <th>Plane</th>\n",
       "      <th>Timepoint</th>\n",
       "      <th>modified_spots_chanel_4 - Total Spot Area - Mean per Well</th>\n",
       "      <th>modified_spots_chanel_4 - Relative Spot Intensity - Mean per Well</th>\n",
       "      <th>modified_spots_chanel_4 - Number of Spots - Mean per Well</th>\n",
       "      <th>modified_spots_chanel_4 - Number of Spots per Area of modified_spots_chanel_4 - Mean per Well</th>\n",
       "      <th>modified_spots_chanel_3 - Total Spot Area - Mean per Well</th>\n",
       "      <th>...</th>\n",
       "      <th>Time [s]</th>\n",
       "      <th>Compound</th>\n",
       "      <th>Cell Type</th>\n",
       "      <th>Cell ID</th>\n",
       "      <th>Severity</th>\n",
       "      <th>pos</th>\n",
       "      <th>group</th>\n",
       "      <th>group_with_id</th>\n",
       "      <th>group_with_p</th>\n",
       "      <th>group_p</th>\n",
       "    </tr>\n",
       "    <tr>\n",
       "      <th></th>\n",
       "      <th>group</th>\n",
       "      <th>group_with_id</th>\n",
       "      <th>group_with_p</th>\n",
       "      <th>group_p</th>\n",
       "      <th></th>\n",
       "      <th></th>\n",
       "      <th></th>\n",
       "      <th></th>\n",
       "      <th></th>\n",
       "      <th></th>\n",
       "      <th></th>\n",
       "      <th></th>\n",
       "      <th></th>\n",
       "      <th></th>\n",
       "      <th></th>\n",
       "      <th></th>\n",
       "      <th></th>\n",
       "      <th></th>\n",
       "      <th></th>\n",
       "      <th></th>\n",
       "      <th></th>\n",
       "      <th></th>\n",
       "      <th></th>\n",
       "      <th></th>\n",
       "      <th></th>\n",
       "    </tr>\n",
       "  </thead>\n",
       "  <tbody>\n",
       "    <tr>\n",
       "      <th>180</th>\n",
       "      <th>PREmdivi1 25uM</th>\n",
       "      <th>PREmdivi1 25uM4719.0</th>\n",
       "      <th>PREmdivi1 25uM4719.0p4</th>\n",
       "      <th>PREmdivi1 25uMp4</th>\n",
       "      <td>p4</td>\n",
       "      <td>r2</td>\n",
       "      <td>c2</td>\n",
       "      <td>1</td>\n",
       "      <td>0</td>\n",
       "      <td>6.486988</td>\n",
       "      <td>0.491441</td>\n",
       "      <td>1.041606</td>\n",
       "      <td>0.174363</td>\n",
       "      <td>17.169066</td>\n",
       "      <td>...</td>\n",
       "      <td>0.0</td>\n",
       "      <td>mdivi1 25uM</td>\n",
       "      <td>HD</td>\n",
       "      <td>4719.0</td>\n",
       "      <td>PRE</td>\n",
       "      <td>r2c2p4</td>\n",
       "      <td>PREmdivi1 25uM</td>\n",
       "      <td>PREmdivi1 25uM4719.0</td>\n",
       "      <td>PREmdivi1 25uM4719.0p4</td>\n",
       "      <td>PREmdivi1 25uMp4</td>\n",
       "    </tr>\n",
       "    <tr>\n",
       "      <th>181</th>\n",
       "      <th>Mmdivi1 25uM</th>\n",
       "      <th>Mmdivi1 25uM4819.0</th>\n",
       "      <th>Mmdivi1 25uM4819.0p4</th>\n",
       "      <th>Mmdivi1 25uMp4</th>\n",
       "      <td>p4</td>\n",
       "      <td>r2</td>\n",
       "      <td>c3</td>\n",
       "      <td>1</td>\n",
       "      <td>0</td>\n",
       "      <td>7.396635</td>\n",
       "      <td>0.506879</td>\n",
       "      <td>1.083542</td>\n",
       "      <td>0.163676</td>\n",
       "      <td>14.888427</td>\n",
       "      <td>...</td>\n",
       "      <td>0.0</td>\n",
       "      <td>mdivi1 25uM</td>\n",
       "      <td>HD</td>\n",
       "      <td>4819.0</td>\n",
       "      <td>M</td>\n",
       "      <td>r2c3p4</td>\n",
       "      <td>Mmdivi1 25uM</td>\n",
       "      <td>Mmdivi1 25uM4819.0</td>\n",
       "      <td>Mmdivi1 25uM4819.0p4</td>\n",
       "      <td>Mmdivi1 25uMp4</td>\n",
       "    </tr>\n",
       "    <tr>\n",
       "      <th>182</th>\n",
       "      <th>Smdivi1 25uM</th>\n",
       "      <th>Smdivi1 25uM4200.0</th>\n",
       "      <th>Smdivi1 25uM4200.0p4</th>\n",
       "      <th>Smdivi1 25uMp4</th>\n",
       "      <td>p4</td>\n",
       "      <td>r2</td>\n",
       "      <td>c4</td>\n",
       "      <td>1</td>\n",
       "      <td>0</td>\n",
       "      <td>6.545056</td>\n",
       "      <td>0.499344</td>\n",
       "      <td>1.043546</td>\n",
       "      <td>0.174107</td>\n",
       "      <td>13.893379</td>\n",
       "      <td>...</td>\n",
       "      <td>0.0</td>\n",
       "      <td>mdivi1 25uM</td>\n",
       "      <td>HD</td>\n",
       "      <td>4200.0</td>\n",
       "      <td>S</td>\n",
       "      <td>r2c4p4</td>\n",
       "      <td>Smdivi1 25uM</td>\n",
       "      <td>Smdivi1 25uM4200.0</td>\n",
       "      <td>Smdivi1 25uM4200.0p4</td>\n",
       "      <td>Smdivi1 25uMp4</td>\n",
       "    </tr>\n",
       "    <tr>\n",
       "      <th>184</th>\n",
       "      <th>HCDMSO</th>\n",
       "      <th>HCDMSO1653.0</th>\n",
       "      <th>HCDMSO1653.0p4</th>\n",
       "      <th>HCDMSOp4</th>\n",
       "      <td>p4</td>\n",
       "      <td>r2</td>\n",
       "      <td>c6</td>\n",
       "      <td>1</td>\n",
       "      <td>0</td>\n",
       "      <td>6.893692</td>\n",
       "      <td>0.505880</td>\n",
       "      <td>1.056952</td>\n",
       "      <td>0.173405</td>\n",
       "      <td>14.645410</td>\n",
       "      <td>...</td>\n",
       "      <td>0.0</td>\n",
       "      <td>DMSO</td>\n",
       "      <td>HC</td>\n",
       "      <td>1653.0</td>\n",
       "      <td>HC</td>\n",
       "      <td>r2c6p4</td>\n",
       "      <td>HCDMSO</td>\n",
       "      <td>HCDMSO1653.0</td>\n",
       "      <td>HCDMSO1653.0p4</td>\n",
       "      <td>HCDMSOp4</td>\n",
       "    </tr>\n",
       "    <tr>\n",
       "      <th>185</th>\n",
       "      <th>HCDMSO</th>\n",
       "      <th>HCDMSO848.0</th>\n",
       "      <th>HCDMSO848.0p4</th>\n",
       "      <th>HCDMSOp4</th>\n",
       "      <td>p4</td>\n",
       "      <td>r2</td>\n",
       "      <td>c7</td>\n",
       "      <td>1</td>\n",
       "      <td>0</td>\n",
       "      <td>6.839293</td>\n",
       "      <td>0.494933</td>\n",
       "      <td>1.050158</td>\n",
       "      <td>0.171983</td>\n",
       "      <td>14.919085</td>\n",
       "      <td>...</td>\n",
       "      <td>0.0</td>\n",
       "      <td>DMSO</td>\n",
       "      <td>HC</td>\n",
       "      <td>848.0</td>\n",
       "      <td>HC</td>\n",
       "      <td>r2c7p4</td>\n",
       "      <td>HCDMSO</td>\n",
       "      <td>HCDMSO848.0</td>\n",
       "      <td>HCDMSO848.0p4</td>\n",
       "      <td>HCDMSOp4</td>\n",
       "    </tr>\n",
       "    <tr>\n",
       "      <th>...</th>\n",
       "      <th>...</th>\n",
       "      <th>...</th>\n",
       "      <th>...</th>\n",
       "      <th>...</th>\n",
       "      <td>...</td>\n",
       "      <td>...</td>\n",
       "      <td>...</td>\n",
       "      <td>...</td>\n",
       "      <td>...</td>\n",
       "      <td>...</td>\n",
       "      <td>...</td>\n",
       "      <td>...</td>\n",
       "      <td>...</td>\n",
       "      <td>...</td>\n",
       "      <td>...</td>\n",
       "      <td>...</td>\n",
       "      <td>...</td>\n",
       "      <td>...</td>\n",
       "      <td>...</td>\n",
       "      <td>...</td>\n",
       "      <td>...</td>\n",
       "      <td>...</td>\n",
       "      <td>...</td>\n",
       "      <td>...</td>\n",
       "      <td>...</td>\n",
       "    </tr>\n",
       "    <tr>\n",
       "      <th>594</th>\n",
       "      <th>HCDMSO</th>\n",
       "      <th>HCDMSO951.0</th>\n",
       "      <th>HCDMSO951.0p10</th>\n",
       "      <th>HCDMSOp10</th>\n",
       "      <td>p10</td>\n",
       "      <td>r7</td>\n",
       "      <td>c6</td>\n",
       "      <td>1</td>\n",
       "      <td>0</td>\n",
       "      <td>7.445385</td>\n",
       "      <td>0.496061</td>\n",
       "      <td>1.078424</td>\n",
       "      <td>0.165688</td>\n",
       "      <td>14.077372</td>\n",
       "      <td>...</td>\n",
       "      <td>0.0</td>\n",
       "      <td>DMSO</td>\n",
       "      <td>HC</td>\n",
       "      <td>951.0</td>\n",
       "      <td>HC</td>\n",
       "      <td>r7c6p10</td>\n",
       "      <td>HCDMSO</td>\n",
       "      <td>HCDMSO951.0</td>\n",
       "      <td>HCDMSO951.0p10</td>\n",
       "      <td>HCDMSOp10</td>\n",
       "    </tr>\n",
       "    <tr>\n",
       "      <th>596</th>\n",
       "      <th>HCDMSO</th>\n",
       "      <th>HCDMSO848.0</th>\n",
       "      <th>HCDMSO848.0p10</th>\n",
       "      <th>HCDMSOp10</th>\n",
       "      <td>p10</td>\n",
       "      <td>r7</td>\n",
       "      <td>c8</td>\n",
       "      <td>1</td>\n",
       "      <td>0</td>\n",
       "      <td>8.451380</td>\n",
       "      <td>0.479106</td>\n",
       "      <td>1.111865</td>\n",
       "      <td>0.155148</td>\n",
       "      <td>18.121187</td>\n",
       "      <td>...</td>\n",
       "      <td>0.0</td>\n",
       "      <td>DMSO</td>\n",
       "      <td>HC</td>\n",
       "      <td>848.0</td>\n",
       "      <td>HC</td>\n",
       "      <td>r7c8p10</td>\n",
       "      <td>HCDMSO</td>\n",
       "      <td>HCDMSO848.0</td>\n",
       "      <td>HCDMSO848.0p10</td>\n",
       "      <td>HCDMSOp10</td>\n",
       "    </tr>\n",
       "    <tr>\n",
       "      <th>597</th>\n",
       "      <th>SDMSO</th>\n",
       "      <th>SDMSO2165.0</th>\n",
       "      <th>SDMSO2165.0p10</th>\n",
       "      <th>SDMSOp10</th>\n",
       "      <td>p10</td>\n",
       "      <td>r7</td>\n",
       "      <td>c9</td>\n",
       "      <td>1</td>\n",
       "      <td>0</td>\n",
       "      <td>7.107128</td>\n",
       "      <td>0.503176</td>\n",
       "      <td>1.068563</td>\n",
       "      <td>0.168535</td>\n",
       "      <td>12.910103</td>\n",
       "      <td>...</td>\n",
       "      <td>0.0</td>\n",
       "      <td>DMSO</td>\n",
       "      <td>HD</td>\n",
       "      <td>2165.0</td>\n",
       "      <td>S</td>\n",
       "      <td>r7c9p10</td>\n",
       "      <td>SDMSO</td>\n",
       "      <td>SDMSO2165.0</td>\n",
       "      <td>SDMSO2165.0p10</td>\n",
       "      <td>SDMSOp10</td>\n",
       "    </tr>\n",
       "    <tr>\n",
       "      <th>598</th>\n",
       "      <th>MDMSO</th>\n",
       "      <th>MDMSO4196.0</th>\n",
       "      <th>MDMSO4196.0p10</th>\n",
       "      <th>MDMSOp10</th>\n",
       "      <td>p10</td>\n",
       "      <td>r7</td>\n",
       "      <td>c10</td>\n",
       "      <td>1</td>\n",
       "      <td>0</td>\n",
       "      <td>7.776179</td>\n",
       "      <td>0.490155</td>\n",
       "      <td>1.086272</td>\n",
       "      <td>0.162938</td>\n",
       "      <td>16.415462</td>\n",
       "      <td>...</td>\n",
       "      <td>0.0</td>\n",
       "      <td>DMSO</td>\n",
       "      <td>HD</td>\n",
       "      <td>4196.0</td>\n",
       "      <td>M</td>\n",
       "      <td>r7c10p10</td>\n",
       "      <td>MDMSO</td>\n",
       "      <td>MDMSO4196.0</td>\n",
       "      <td>MDMSO4196.0p10</td>\n",
       "      <td>MDMSOp10</td>\n",
       "    </tr>\n",
       "    <tr>\n",
       "      <th>599</th>\n",
       "      <th>SDMSO</th>\n",
       "      <th>SDMSO4476.0</th>\n",
       "      <th>SDMSO4476.0p10</th>\n",
       "      <th>SDMSOp10</th>\n",
       "      <td>p10</td>\n",
       "      <td>r7</td>\n",
       "      <td>c11</td>\n",
       "      <td>1</td>\n",
       "      <td>0</td>\n",
       "      <td>7.691855</td>\n",
       "      <td>0.501076</td>\n",
       "      <td>1.089282</td>\n",
       "      <td>0.162056</td>\n",
       "      <td>14.913845</td>\n",
       "      <td>...</td>\n",
       "      <td>0.0</td>\n",
       "      <td>DMSO</td>\n",
       "      <td>HD</td>\n",
       "      <td>4476.0</td>\n",
       "      <td>S</td>\n",
       "      <td>r7c11p10</td>\n",
       "      <td>SDMSO</td>\n",
       "      <td>SDMSO4476.0</td>\n",
       "      <td>SDMSO4476.0p10</td>\n",
       "      <td>SDMSOp10</td>\n",
       "    </tr>\n",
       "  </tbody>\n",
       "</table>\n",
       "<p>358 rows × 128 columns</p>\n",
       "</div>"
      ],
      "text/plain": [
       "                                                                                plate  \\\n",
       "    group          group_with_id        group_with_p           group_p                  \n",
       "180 PREmdivi1 25uM PREmdivi1 25uM4719.0 PREmdivi1 25uM4719.0p4 PREmdivi1 25uMp4    p4   \n",
       "181 Mmdivi1 25uM   Mmdivi1 25uM4819.0   Mmdivi1 25uM4819.0p4   Mmdivi1 25uMp4      p4   \n",
       "182 Smdivi1 25uM   Smdivi1 25uM4200.0   Smdivi1 25uM4200.0p4   Smdivi1 25uMp4      p4   \n",
       "184 HCDMSO         HCDMSO1653.0         HCDMSO1653.0p4         HCDMSOp4            p4   \n",
       "185 HCDMSO         HCDMSO848.0          HCDMSO848.0p4          HCDMSOp4            p4   \n",
       "...                                                                               ...   \n",
       "594 HCDMSO         HCDMSO951.0          HCDMSO951.0p10         HCDMSOp10          p10   \n",
       "596 HCDMSO         HCDMSO848.0          HCDMSO848.0p10         HCDMSOp10          p10   \n",
       "597 SDMSO          SDMSO2165.0          SDMSO2165.0p10         SDMSOp10           p10   \n",
       "598 MDMSO          MDMSO4196.0          MDMSO4196.0p10         MDMSOp10           p10   \n",
       "599 SDMSO          SDMSO4476.0          SDMSO4476.0p10         SDMSOp10           p10   \n",
       "\n",
       "                                                                                Row  \\\n",
       "    group          group_with_id        group_with_p           group_p                \n",
       "180 PREmdivi1 25uM PREmdivi1 25uM4719.0 PREmdivi1 25uM4719.0p4 PREmdivi1 25uMp4  r2   \n",
       "181 Mmdivi1 25uM   Mmdivi1 25uM4819.0   Mmdivi1 25uM4819.0p4   Mmdivi1 25uMp4    r2   \n",
       "182 Smdivi1 25uM   Smdivi1 25uM4200.0   Smdivi1 25uM4200.0p4   Smdivi1 25uMp4    r2   \n",
       "184 HCDMSO         HCDMSO1653.0         HCDMSO1653.0p4         HCDMSOp4          r2   \n",
       "185 HCDMSO         HCDMSO848.0          HCDMSO848.0p4          HCDMSOp4          r2   \n",
       "...                                                                              ..   \n",
       "594 HCDMSO         HCDMSO951.0          HCDMSO951.0p10         HCDMSOp10         r7   \n",
       "596 HCDMSO         HCDMSO848.0          HCDMSO848.0p10         HCDMSOp10         r7   \n",
       "597 SDMSO          SDMSO2165.0          SDMSO2165.0p10         SDMSOp10          r7   \n",
       "598 MDMSO          MDMSO4196.0          MDMSO4196.0p10         MDMSOp10          r7   \n",
       "599 SDMSO          SDMSO4476.0          SDMSO4476.0p10         SDMSOp10          r7   \n",
       "\n",
       "                                                                                Column  \\\n",
       "    group          group_with_id        group_with_p           group_p                   \n",
       "180 PREmdivi1 25uM PREmdivi1 25uM4719.0 PREmdivi1 25uM4719.0p4 PREmdivi1 25uMp4     c2   \n",
       "181 Mmdivi1 25uM   Mmdivi1 25uM4819.0   Mmdivi1 25uM4819.0p4   Mmdivi1 25uMp4       c3   \n",
       "182 Smdivi1 25uM   Smdivi1 25uM4200.0   Smdivi1 25uM4200.0p4   Smdivi1 25uMp4       c4   \n",
       "184 HCDMSO         HCDMSO1653.0         HCDMSO1653.0p4         HCDMSOp4             c6   \n",
       "185 HCDMSO         HCDMSO848.0          HCDMSO848.0p4          HCDMSOp4             c7   \n",
       "...                                                                                ...   \n",
       "594 HCDMSO         HCDMSO951.0          HCDMSO951.0p10         HCDMSOp10            c6   \n",
       "596 HCDMSO         HCDMSO848.0          HCDMSO848.0p10         HCDMSOp10            c8   \n",
       "597 SDMSO          SDMSO2165.0          SDMSO2165.0p10         SDMSOp10             c9   \n",
       "598 MDMSO          MDMSO4196.0          MDMSO4196.0p10         MDMSOp10            c10   \n",
       "599 SDMSO          SDMSO4476.0          SDMSO4476.0p10         SDMSOp10            c11   \n",
       "\n",
       "                                                                                 Plane  \\\n",
       "    group          group_with_id        group_with_p           group_p                   \n",
       "180 PREmdivi1 25uM PREmdivi1 25uM4719.0 PREmdivi1 25uM4719.0p4 PREmdivi1 25uMp4      1   \n",
       "181 Mmdivi1 25uM   Mmdivi1 25uM4819.0   Mmdivi1 25uM4819.0p4   Mmdivi1 25uMp4        1   \n",
       "182 Smdivi1 25uM   Smdivi1 25uM4200.0   Smdivi1 25uM4200.0p4   Smdivi1 25uMp4        1   \n",
       "184 HCDMSO         HCDMSO1653.0         HCDMSO1653.0p4         HCDMSOp4              1   \n",
       "185 HCDMSO         HCDMSO848.0          HCDMSO848.0p4          HCDMSOp4              1   \n",
       "...                                                                                ...   \n",
       "594 HCDMSO         HCDMSO951.0          HCDMSO951.0p10         HCDMSOp10             1   \n",
       "596 HCDMSO         HCDMSO848.0          HCDMSO848.0p10         HCDMSOp10             1   \n",
       "597 SDMSO          SDMSO2165.0          SDMSO2165.0p10         SDMSOp10              1   \n",
       "598 MDMSO          MDMSO4196.0          MDMSO4196.0p10         MDMSOp10              1   \n",
       "599 SDMSO          SDMSO4476.0          SDMSO4476.0p10         SDMSOp10              1   \n",
       "\n",
       "                                                                                 Timepoint  \\\n",
       "    group          group_with_id        group_with_p           group_p                       \n",
       "180 PREmdivi1 25uM PREmdivi1 25uM4719.0 PREmdivi1 25uM4719.0p4 PREmdivi1 25uMp4          0   \n",
       "181 Mmdivi1 25uM   Mmdivi1 25uM4819.0   Mmdivi1 25uM4819.0p4   Mmdivi1 25uMp4            0   \n",
       "182 Smdivi1 25uM   Smdivi1 25uM4200.0   Smdivi1 25uM4200.0p4   Smdivi1 25uMp4            0   \n",
       "184 HCDMSO         HCDMSO1653.0         HCDMSO1653.0p4         HCDMSOp4                  0   \n",
       "185 HCDMSO         HCDMSO848.0          HCDMSO848.0p4          HCDMSOp4                  0   \n",
       "...                                                                                    ...   \n",
       "594 HCDMSO         HCDMSO951.0          HCDMSO951.0p10         HCDMSOp10                 0   \n",
       "596 HCDMSO         HCDMSO848.0          HCDMSO848.0p10         HCDMSOp10                 0   \n",
       "597 SDMSO          SDMSO2165.0          SDMSO2165.0p10         SDMSOp10                  0   \n",
       "598 MDMSO          MDMSO4196.0          MDMSO4196.0p10         MDMSOp10                  0   \n",
       "599 SDMSO          SDMSO4476.0          SDMSO4476.0p10         SDMSOp10                  0   \n",
       "\n",
       "                                                                                 modified_spots_chanel_4 - Total Spot Area - Mean per Well  \\\n",
       "    group          group_with_id        group_with_p           group_p                                                                       \n",
       "180 PREmdivi1 25uM PREmdivi1 25uM4719.0 PREmdivi1 25uM4719.0p4 PREmdivi1 25uMp4                                           6.486988           \n",
       "181 Mmdivi1 25uM   Mmdivi1 25uM4819.0   Mmdivi1 25uM4819.0p4   Mmdivi1 25uMp4                                             7.396635           \n",
       "182 Smdivi1 25uM   Smdivi1 25uM4200.0   Smdivi1 25uM4200.0p4   Smdivi1 25uMp4                                             6.545056           \n",
       "184 HCDMSO         HCDMSO1653.0         HCDMSO1653.0p4         HCDMSOp4                                                   6.893692           \n",
       "185 HCDMSO         HCDMSO848.0          HCDMSO848.0p4          HCDMSOp4                                                   6.839293           \n",
       "...                                                                                                                            ...           \n",
       "594 HCDMSO         HCDMSO951.0          HCDMSO951.0p10         HCDMSOp10                                                  7.445385           \n",
       "596 HCDMSO         HCDMSO848.0          HCDMSO848.0p10         HCDMSOp10                                                  8.451380           \n",
       "597 SDMSO          SDMSO2165.0          SDMSO2165.0p10         SDMSOp10                                                   7.107128           \n",
       "598 MDMSO          MDMSO4196.0          MDMSO4196.0p10         MDMSOp10                                                   7.776179           \n",
       "599 SDMSO          SDMSO4476.0          SDMSO4476.0p10         SDMSOp10                                                   7.691855           \n",
       "\n",
       "                                                                                 modified_spots_chanel_4 - Relative Spot Intensity - Mean per Well  \\\n",
       "    group          group_with_id        group_with_p           group_p                                                                               \n",
       "180 PREmdivi1 25uM PREmdivi1 25uM4719.0 PREmdivi1 25uM4719.0p4 PREmdivi1 25uMp4                                           0.491441                   \n",
       "181 Mmdivi1 25uM   Mmdivi1 25uM4819.0   Mmdivi1 25uM4819.0p4   Mmdivi1 25uMp4                                             0.506879                   \n",
       "182 Smdivi1 25uM   Smdivi1 25uM4200.0   Smdivi1 25uM4200.0p4   Smdivi1 25uMp4                                             0.499344                   \n",
       "184 HCDMSO         HCDMSO1653.0         HCDMSO1653.0p4         HCDMSOp4                                                   0.505880                   \n",
       "185 HCDMSO         HCDMSO848.0          HCDMSO848.0p4          HCDMSOp4                                                   0.494933                   \n",
       "...                                                                                                                            ...                   \n",
       "594 HCDMSO         HCDMSO951.0          HCDMSO951.0p10         HCDMSOp10                                                  0.496061                   \n",
       "596 HCDMSO         HCDMSO848.0          HCDMSO848.0p10         HCDMSOp10                                                  0.479106                   \n",
       "597 SDMSO          SDMSO2165.0          SDMSO2165.0p10         SDMSOp10                                                   0.503176                   \n",
       "598 MDMSO          MDMSO4196.0          MDMSO4196.0p10         MDMSOp10                                                   0.490155                   \n",
       "599 SDMSO          SDMSO4476.0          SDMSO4476.0p10         SDMSOp10                                                   0.501076                   \n",
       "\n",
       "                                                                                 modified_spots_chanel_4 - Number of Spots - Mean per Well  \\\n",
       "    group          group_with_id        group_with_p           group_p                                                                       \n",
       "180 PREmdivi1 25uM PREmdivi1 25uM4719.0 PREmdivi1 25uM4719.0p4 PREmdivi1 25uMp4                                           1.041606           \n",
       "181 Mmdivi1 25uM   Mmdivi1 25uM4819.0   Mmdivi1 25uM4819.0p4   Mmdivi1 25uMp4                                             1.083542           \n",
       "182 Smdivi1 25uM   Smdivi1 25uM4200.0   Smdivi1 25uM4200.0p4   Smdivi1 25uMp4                                             1.043546           \n",
       "184 HCDMSO         HCDMSO1653.0         HCDMSO1653.0p4         HCDMSOp4                                                   1.056952           \n",
       "185 HCDMSO         HCDMSO848.0          HCDMSO848.0p4          HCDMSOp4                                                   1.050158           \n",
       "...                                                                                                                            ...           \n",
       "594 HCDMSO         HCDMSO951.0          HCDMSO951.0p10         HCDMSOp10                                                  1.078424           \n",
       "596 HCDMSO         HCDMSO848.0          HCDMSO848.0p10         HCDMSOp10                                                  1.111865           \n",
       "597 SDMSO          SDMSO2165.0          SDMSO2165.0p10         SDMSOp10                                                   1.068563           \n",
       "598 MDMSO          MDMSO4196.0          MDMSO4196.0p10         MDMSOp10                                                   1.086272           \n",
       "599 SDMSO          SDMSO4476.0          SDMSO4476.0p10         SDMSOp10                                                   1.089282           \n",
       "\n",
       "                                                                                 modified_spots_chanel_4 - Number of Spots per Area of modified_spots_chanel_4 - Mean per Well  \\\n",
       "    group          group_with_id        group_with_p           group_p                                                                                                           \n",
       "180 PREmdivi1 25uM PREmdivi1 25uM4719.0 PREmdivi1 25uM4719.0p4 PREmdivi1 25uMp4                                           0.174363                                               \n",
       "181 Mmdivi1 25uM   Mmdivi1 25uM4819.0   Mmdivi1 25uM4819.0p4   Mmdivi1 25uMp4                                             0.163676                                               \n",
       "182 Smdivi1 25uM   Smdivi1 25uM4200.0   Smdivi1 25uM4200.0p4   Smdivi1 25uMp4                                             0.174107                                               \n",
       "184 HCDMSO         HCDMSO1653.0         HCDMSO1653.0p4         HCDMSOp4                                                   0.173405                                               \n",
       "185 HCDMSO         HCDMSO848.0          HCDMSO848.0p4          HCDMSOp4                                                   0.171983                                               \n",
       "...                                                                                                                            ...                                               \n",
       "594 HCDMSO         HCDMSO951.0          HCDMSO951.0p10         HCDMSOp10                                                  0.165688                                               \n",
       "596 HCDMSO         HCDMSO848.0          HCDMSO848.0p10         HCDMSOp10                                                  0.155148                                               \n",
       "597 SDMSO          SDMSO2165.0          SDMSO2165.0p10         SDMSOp10                                                   0.168535                                               \n",
       "598 MDMSO          MDMSO4196.0          MDMSO4196.0p10         MDMSOp10                                                   0.162938                                               \n",
       "599 SDMSO          SDMSO4476.0          SDMSO4476.0p10         SDMSOp10                                                   0.162056                                               \n",
       "\n",
       "                                                                                 modified_spots_chanel_3 - Total Spot Area - Mean per Well  \\\n",
       "    group          group_with_id        group_with_p           group_p                                                                       \n",
       "180 PREmdivi1 25uM PREmdivi1 25uM4719.0 PREmdivi1 25uM4719.0p4 PREmdivi1 25uMp4                                          17.169066           \n",
       "181 Mmdivi1 25uM   Mmdivi1 25uM4819.0   Mmdivi1 25uM4819.0p4   Mmdivi1 25uMp4                                            14.888427           \n",
       "182 Smdivi1 25uM   Smdivi1 25uM4200.0   Smdivi1 25uM4200.0p4   Smdivi1 25uMp4                                            13.893379           \n",
       "184 HCDMSO         HCDMSO1653.0         HCDMSO1653.0p4         HCDMSOp4                                                  14.645410           \n",
       "185 HCDMSO         HCDMSO848.0          HCDMSO848.0p4          HCDMSOp4                                                  14.919085           \n",
       "...                                                                                                                            ...           \n",
       "594 HCDMSO         HCDMSO951.0          HCDMSO951.0p10         HCDMSOp10                                                 14.077372           \n",
       "596 HCDMSO         HCDMSO848.0          HCDMSO848.0p10         HCDMSOp10                                                 18.121187           \n",
       "597 SDMSO          SDMSO2165.0          SDMSO2165.0p10         SDMSOp10                                                  12.910103           \n",
       "598 MDMSO          MDMSO4196.0          MDMSO4196.0p10         MDMSOp10                                                  16.415462           \n",
       "599 SDMSO          SDMSO4476.0          SDMSO4476.0p10         SDMSOp10                                                  14.913845           \n",
       "\n",
       "                                                                                 ...  \\\n",
       "    group          group_with_id        group_with_p           group_p           ...   \n",
       "180 PREmdivi1 25uM PREmdivi1 25uM4719.0 PREmdivi1 25uM4719.0p4 PREmdivi1 25uMp4  ...   \n",
       "181 Mmdivi1 25uM   Mmdivi1 25uM4819.0   Mmdivi1 25uM4819.0p4   Mmdivi1 25uMp4    ...   \n",
       "182 Smdivi1 25uM   Smdivi1 25uM4200.0   Smdivi1 25uM4200.0p4   Smdivi1 25uMp4    ...   \n",
       "184 HCDMSO         HCDMSO1653.0         HCDMSO1653.0p4         HCDMSOp4          ...   \n",
       "185 HCDMSO         HCDMSO848.0          HCDMSO848.0p4          HCDMSOp4          ...   \n",
       "...                                                                              ...   \n",
       "594 HCDMSO         HCDMSO951.0          HCDMSO951.0p10         HCDMSOp10         ...   \n",
       "596 HCDMSO         HCDMSO848.0          HCDMSO848.0p10         HCDMSOp10         ...   \n",
       "597 SDMSO          SDMSO2165.0          SDMSO2165.0p10         SDMSOp10          ...   \n",
       "598 MDMSO          MDMSO4196.0          MDMSO4196.0p10         MDMSOp10          ...   \n",
       "599 SDMSO          SDMSO4476.0          SDMSO4476.0p10         SDMSOp10          ...   \n",
       "\n",
       "                                                                                 Time [s]  \\\n",
       "    group          group_with_id        group_with_p           group_p                      \n",
       "180 PREmdivi1 25uM PREmdivi1 25uM4719.0 PREmdivi1 25uM4719.0p4 PREmdivi1 25uMp4       0.0   \n",
       "181 Mmdivi1 25uM   Mmdivi1 25uM4819.0   Mmdivi1 25uM4819.0p4   Mmdivi1 25uMp4         0.0   \n",
       "182 Smdivi1 25uM   Smdivi1 25uM4200.0   Smdivi1 25uM4200.0p4   Smdivi1 25uMp4         0.0   \n",
       "184 HCDMSO         HCDMSO1653.0         HCDMSO1653.0p4         HCDMSOp4               0.0   \n",
       "185 HCDMSO         HCDMSO848.0          HCDMSO848.0p4          HCDMSOp4               0.0   \n",
       "...                                                                                   ...   \n",
       "594 HCDMSO         HCDMSO951.0          HCDMSO951.0p10         HCDMSOp10              0.0   \n",
       "596 HCDMSO         HCDMSO848.0          HCDMSO848.0p10         HCDMSOp10              0.0   \n",
       "597 SDMSO          SDMSO2165.0          SDMSO2165.0p10         SDMSOp10               0.0   \n",
       "598 MDMSO          MDMSO4196.0          MDMSO4196.0p10         MDMSOp10               0.0   \n",
       "599 SDMSO          SDMSO4476.0          SDMSO4476.0p10         SDMSOp10               0.0   \n",
       "\n",
       "                                                                                    Compound  \\\n",
       "    group          group_with_id        group_with_p           group_p                         \n",
       "180 PREmdivi1 25uM PREmdivi1 25uM4719.0 PREmdivi1 25uM4719.0p4 PREmdivi1 25uMp4  mdivi1 25uM   \n",
       "181 Mmdivi1 25uM   Mmdivi1 25uM4819.0   Mmdivi1 25uM4819.0p4   Mmdivi1 25uMp4    mdivi1 25uM   \n",
       "182 Smdivi1 25uM   Smdivi1 25uM4200.0   Smdivi1 25uM4200.0p4   Smdivi1 25uMp4    mdivi1 25uM   \n",
       "184 HCDMSO         HCDMSO1653.0         HCDMSO1653.0p4         HCDMSOp4                 DMSO   \n",
       "185 HCDMSO         HCDMSO848.0          HCDMSO848.0p4          HCDMSOp4                 DMSO   \n",
       "...                                                                                      ...   \n",
       "594 HCDMSO         HCDMSO951.0          HCDMSO951.0p10         HCDMSOp10                DMSO   \n",
       "596 HCDMSO         HCDMSO848.0          HCDMSO848.0p10         HCDMSOp10                DMSO   \n",
       "597 SDMSO          SDMSO2165.0          SDMSO2165.0p10         SDMSOp10                 DMSO   \n",
       "598 MDMSO          MDMSO4196.0          MDMSO4196.0p10         MDMSOp10                 DMSO   \n",
       "599 SDMSO          SDMSO4476.0          SDMSO4476.0p10         SDMSOp10                 DMSO   \n",
       "\n",
       "                                                                                 Cell Type  \\\n",
       "    group          group_with_id        group_with_p           group_p                       \n",
       "180 PREmdivi1 25uM PREmdivi1 25uM4719.0 PREmdivi1 25uM4719.0p4 PREmdivi1 25uMp4         HD   \n",
       "181 Mmdivi1 25uM   Mmdivi1 25uM4819.0   Mmdivi1 25uM4819.0p4   Mmdivi1 25uMp4           HD   \n",
       "182 Smdivi1 25uM   Smdivi1 25uM4200.0   Smdivi1 25uM4200.0p4   Smdivi1 25uMp4           HD   \n",
       "184 HCDMSO         HCDMSO1653.0         HCDMSO1653.0p4         HCDMSOp4                 HC   \n",
       "185 HCDMSO         HCDMSO848.0          HCDMSO848.0p4          HCDMSOp4                 HC   \n",
       "...                                                                                    ...   \n",
       "594 HCDMSO         HCDMSO951.0          HCDMSO951.0p10         HCDMSOp10                HC   \n",
       "596 HCDMSO         HCDMSO848.0          HCDMSO848.0p10         HCDMSOp10                HC   \n",
       "597 SDMSO          SDMSO2165.0          SDMSO2165.0p10         SDMSOp10                 HD   \n",
       "598 MDMSO          MDMSO4196.0          MDMSO4196.0p10         MDMSOp10                 HD   \n",
       "599 SDMSO          SDMSO4476.0          SDMSO4476.0p10         SDMSOp10                 HD   \n",
       "\n",
       "                                                                                 Cell ID  \\\n",
       "    group          group_with_id        group_with_p           group_p                     \n",
       "180 PREmdivi1 25uM PREmdivi1 25uM4719.0 PREmdivi1 25uM4719.0p4 PREmdivi1 25uMp4   4719.0   \n",
       "181 Mmdivi1 25uM   Mmdivi1 25uM4819.0   Mmdivi1 25uM4819.0p4   Mmdivi1 25uMp4     4819.0   \n",
       "182 Smdivi1 25uM   Smdivi1 25uM4200.0   Smdivi1 25uM4200.0p4   Smdivi1 25uMp4     4200.0   \n",
       "184 HCDMSO         HCDMSO1653.0         HCDMSO1653.0p4         HCDMSOp4           1653.0   \n",
       "185 HCDMSO         HCDMSO848.0          HCDMSO848.0p4          HCDMSOp4            848.0   \n",
       "...                                                                                  ...   \n",
       "594 HCDMSO         HCDMSO951.0          HCDMSO951.0p10         HCDMSOp10           951.0   \n",
       "596 HCDMSO         HCDMSO848.0          HCDMSO848.0p10         HCDMSOp10           848.0   \n",
       "597 SDMSO          SDMSO2165.0          SDMSO2165.0p10         SDMSOp10           2165.0   \n",
       "598 MDMSO          MDMSO4196.0          MDMSO4196.0p10         MDMSOp10           4196.0   \n",
       "599 SDMSO          SDMSO4476.0          SDMSO4476.0p10         SDMSOp10           4476.0   \n",
       "\n",
       "                                                                                 Severity  \\\n",
       "    group          group_with_id        group_with_p           group_p                      \n",
       "180 PREmdivi1 25uM PREmdivi1 25uM4719.0 PREmdivi1 25uM4719.0p4 PREmdivi1 25uMp4       PRE   \n",
       "181 Mmdivi1 25uM   Mmdivi1 25uM4819.0   Mmdivi1 25uM4819.0p4   Mmdivi1 25uMp4           M   \n",
       "182 Smdivi1 25uM   Smdivi1 25uM4200.0   Smdivi1 25uM4200.0p4   Smdivi1 25uMp4           S   \n",
       "184 HCDMSO         HCDMSO1653.0         HCDMSO1653.0p4         HCDMSOp4                HC   \n",
       "185 HCDMSO         HCDMSO848.0          HCDMSO848.0p4          HCDMSOp4                HC   \n",
       "...                                                                                   ...   \n",
       "594 HCDMSO         HCDMSO951.0          HCDMSO951.0p10         HCDMSOp10               HC   \n",
       "596 HCDMSO         HCDMSO848.0          HCDMSO848.0p10         HCDMSOp10               HC   \n",
       "597 SDMSO          SDMSO2165.0          SDMSO2165.0p10         SDMSOp10                 S   \n",
       "598 MDMSO          MDMSO4196.0          MDMSO4196.0p10         MDMSOp10                 M   \n",
       "599 SDMSO          SDMSO4476.0          SDMSO4476.0p10         SDMSOp10                 S   \n",
       "\n",
       "                                                                                      pos  \\\n",
       "    group          group_with_id        group_with_p           group_p                      \n",
       "180 PREmdivi1 25uM PREmdivi1 25uM4719.0 PREmdivi1 25uM4719.0p4 PREmdivi1 25uMp4    r2c2p4   \n",
       "181 Mmdivi1 25uM   Mmdivi1 25uM4819.0   Mmdivi1 25uM4819.0p4   Mmdivi1 25uMp4      r2c3p4   \n",
       "182 Smdivi1 25uM   Smdivi1 25uM4200.0   Smdivi1 25uM4200.0p4   Smdivi1 25uMp4      r2c4p4   \n",
       "184 HCDMSO         HCDMSO1653.0         HCDMSO1653.0p4         HCDMSOp4            r2c6p4   \n",
       "185 HCDMSO         HCDMSO848.0          HCDMSO848.0p4          HCDMSOp4            r2c7p4   \n",
       "...                                                                                   ...   \n",
       "594 HCDMSO         HCDMSO951.0          HCDMSO951.0p10         HCDMSOp10          r7c6p10   \n",
       "596 HCDMSO         HCDMSO848.0          HCDMSO848.0p10         HCDMSOp10          r7c8p10   \n",
       "597 SDMSO          SDMSO2165.0          SDMSO2165.0p10         SDMSOp10           r7c9p10   \n",
       "598 MDMSO          MDMSO4196.0          MDMSO4196.0p10         MDMSOp10          r7c10p10   \n",
       "599 SDMSO          SDMSO4476.0          SDMSO4476.0p10         SDMSOp10          r7c11p10   \n",
       "\n",
       "                                                                                          group  \\\n",
       "    group          group_with_id        group_with_p           group_p                            \n",
       "180 PREmdivi1 25uM PREmdivi1 25uM4719.0 PREmdivi1 25uM4719.0p4 PREmdivi1 25uMp4  PREmdivi1 25uM   \n",
       "181 Mmdivi1 25uM   Mmdivi1 25uM4819.0   Mmdivi1 25uM4819.0p4   Mmdivi1 25uMp4      Mmdivi1 25uM   \n",
       "182 Smdivi1 25uM   Smdivi1 25uM4200.0   Smdivi1 25uM4200.0p4   Smdivi1 25uMp4      Smdivi1 25uM   \n",
       "184 HCDMSO         HCDMSO1653.0         HCDMSO1653.0p4         HCDMSOp4                  HCDMSO   \n",
       "185 HCDMSO         HCDMSO848.0          HCDMSO848.0p4          HCDMSOp4                  HCDMSO   \n",
       "...                                                                                         ...   \n",
       "594 HCDMSO         HCDMSO951.0          HCDMSO951.0p10         HCDMSOp10                 HCDMSO   \n",
       "596 HCDMSO         HCDMSO848.0          HCDMSO848.0p10         HCDMSOp10                 HCDMSO   \n",
       "597 SDMSO          SDMSO2165.0          SDMSO2165.0p10         SDMSOp10                   SDMSO   \n",
       "598 MDMSO          MDMSO4196.0          MDMSO4196.0p10         MDMSOp10                   MDMSO   \n",
       "599 SDMSO          SDMSO4476.0          SDMSO4476.0p10         SDMSOp10                   SDMSO   \n",
       "\n",
       "                                                                                        group_with_id  \\\n",
       "    group          group_with_id        group_with_p           group_p                                  \n",
       "180 PREmdivi1 25uM PREmdivi1 25uM4719.0 PREmdivi1 25uM4719.0p4 PREmdivi1 25uMp4  PREmdivi1 25uM4719.0   \n",
       "181 Mmdivi1 25uM   Mmdivi1 25uM4819.0   Mmdivi1 25uM4819.0p4   Mmdivi1 25uMp4      Mmdivi1 25uM4819.0   \n",
       "182 Smdivi1 25uM   Smdivi1 25uM4200.0   Smdivi1 25uM4200.0p4   Smdivi1 25uMp4      Smdivi1 25uM4200.0   \n",
       "184 HCDMSO         HCDMSO1653.0         HCDMSO1653.0p4         HCDMSOp4                  HCDMSO1653.0   \n",
       "185 HCDMSO         HCDMSO848.0          HCDMSO848.0p4          HCDMSOp4                   HCDMSO848.0   \n",
       "...                                                                                               ...   \n",
       "594 HCDMSO         HCDMSO951.0          HCDMSO951.0p10         HCDMSOp10                  HCDMSO951.0   \n",
       "596 HCDMSO         HCDMSO848.0          HCDMSO848.0p10         HCDMSOp10                  HCDMSO848.0   \n",
       "597 SDMSO          SDMSO2165.0          SDMSO2165.0p10         SDMSOp10                   SDMSO2165.0   \n",
       "598 MDMSO          MDMSO4196.0          MDMSO4196.0p10         MDMSOp10                   MDMSO4196.0   \n",
       "599 SDMSO          SDMSO4476.0          SDMSO4476.0p10         SDMSOp10                   SDMSO4476.0   \n",
       "\n",
       "                                                                                           group_with_p  \\\n",
       "    group          group_with_id        group_with_p           group_p                                    \n",
       "180 PREmdivi1 25uM PREmdivi1 25uM4719.0 PREmdivi1 25uM4719.0p4 PREmdivi1 25uMp4  PREmdivi1 25uM4719.0p4   \n",
       "181 Mmdivi1 25uM   Mmdivi1 25uM4819.0   Mmdivi1 25uM4819.0p4   Mmdivi1 25uMp4      Mmdivi1 25uM4819.0p4   \n",
       "182 Smdivi1 25uM   Smdivi1 25uM4200.0   Smdivi1 25uM4200.0p4   Smdivi1 25uMp4      Smdivi1 25uM4200.0p4   \n",
       "184 HCDMSO         HCDMSO1653.0         HCDMSO1653.0p4         HCDMSOp4                  HCDMSO1653.0p4   \n",
       "185 HCDMSO         HCDMSO848.0          HCDMSO848.0p4          HCDMSOp4                   HCDMSO848.0p4   \n",
       "...                                                                                                 ...   \n",
       "594 HCDMSO         HCDMSO951.0          HCDMSO951.0p10         HCDMSOp10                 HCDMSO951.0p10   \n",
       "596 HCDMSO         HCDMSO848.0          HCDMSO848.0p10         HCDMSOp10                 HCDMSO848.0p10   \n",
       "597 SDMSO          SDMSO2165.0          SDMSO2165.0p10         SDMSOp10                  SDMSO2165.0p10   \n",
       "598 MDMSO          MDMSO4196.0          MDMSO4196.0p10         MDMSOp10                  MDMSO4196.0p10   \n",
       "599 SDMSO          SDMSO4476.0          SDMSO4476.0p10         SDMSOp10                  SDMSO4476.0p10   \n",
       "\n",
       "                                                                                          group_p  \n",
       "    group          group_with_id        group_with_p           group_p                             \n",
       "180 PREmdivi1 25uM PREmdivi1 25uM4719.0 PREmdivi1 25uM4719.0p4 PREmdivi1 25uMp4  PREmdivi1 25uMp4  \n",
       "181 Mmdivi1 25uM   Mmdivi1 25uM4819.0   Mmdivi1 25uM4819.0p4   Mmdivi1 25uMp4      Mmdivi1 25uMp4  \n",
       "182 Smdivi1 25uM   Smdivi1 25uM4200.0   Smdivi1 25uM4200.0p4   Smdivi1 25uMp4      Smdivi1 25uMp4  \n",
       "184 HCDMSO         HCDMSO1653.0         HCDMSO1653.0p4         HCDMSOp4                  HCDMSOp4  \n",
       "185 HCDMSO         HCDMSO848.0          HCDMSO848.0p4          HCDMSOp4                  HCDMSOp4  \n",
       "...                                                                                           ...  \n",
       "594 HCDMSO         HCDMSO951.0          HCDMSO951.0p10         HCDMSOp10                HCDMSOp10  \n",
       "596 HCDMSO         HCDMSO848.0          HCDMSO848.0p10         HCDMSOp10                HCDMSOp10  \n",
       "597 SDMSO          SDMSO2165.0          SDMSO2165.0p10         SDMSOp10                  SDMSOp10  \n",
       "598 MDMSO          MDMSO4196.0          MDMSO4196.0p10         MDMSOp10                  MDMSOp10  \n",
       "599 SDMSO          SDMSO4476.0          SDMSO4476.0p10         SDMSOp10                  SDMSOp10  \n",
       "\n",
       "[358 rows x 128 columns]"
      ]
     },
     "execution_count": 19,
     "metadata": {},
     "output_type": "execute_result"
    }
   ],
   "source": [
    "# Values to be removed based on the \"Group\" column\n",
    "groups_to_remove = [\"HCDMSO1650.0p9\", \"HCDMSO1650.0p7\", \"HCDMSO1650.0p4\",\n",
    "\"HCDMSO1653.0p6\", \"HCDMSO1653.0p9\", \"HCDMSO495.0p6\",\n",
    "\"HCDMSO143.0p6\", \"HCDMSO848.0p5\", \"HCDMSO1170.0p10\"]\n",
    "# Remove rows with the specified values in the \"Group\" column\n",
    "vat1_df = vat1_df[~vat1_df['group_with_p'].isin(groups_to_remove)]\n",
    "# Display the filtered DataFrame\n",
    "vat1_df"
   ]
  },
  {
   "cell_type": "code",
   "execution_count": 20,
   "id": "e87a430f",
   "metadata": {},
   "outputs": [
    {
     "data": {
      "image/png": "[encoded data removed]",
      "text/plain": [
       "<Figure size 432x288 with 1 Axes>"
      ]
     },
     "metadata": {
      "needs_background": "light"
     },
     "output_type": "display_data"
    },
    {
     "name": "stdout",
     "output_type": "stream",
     "text": [
      "Total number of cell types 358\n"
     ]
    },
    {
     "data": {
      "image/png": "[encoded data removed]",
      "text/plain": [
       "<Figure size 432x288 with 1 Axes>"
      ]
     },
     "metadata": {
      "needs_background": "light"
     },
     "output_type": "display_data"
    },
    {
     "name": "stdout",
     "output_type": "stream",
     "text": [
      "Total number of cells 346\n"
     ]
    }
   ],
   "source": [
    "vat1_df[\"Cell ID\"] = vat1_df[\"Cell ID\"].astype(str)\n",
    "cell_types =  vat1_df[\"Cell ID\"].values\n",
    "sns.histplot(cell_types)\n",
    "plt.show()\n",
    "print(f'Total number of cell types {len(cell_types)}')\n",
    "vat1_df = vat1_df.loc[cell_types != '4200.0']\n",
    "sns.histplot(vat1_df[\"Cell ID\"].values)\n",
    "plt.show()\n",
    "print(f'Total number of cells {len(vat1_df)}')"
   ]
  },
  {
   "cell_type": "code",
   "execution_count": 21,
   "id": "cd16f54e",
   "metadata": {
    "scrolled": true
   },
   "outputs": [
    {
     "data": {
      "image/png": "[encoded data removed]",
      "text/plain": [
       "<Figure size 432x288 with 1 Axes>"
      ]
     },
     "metadata": {
      "needs_background": "light"
     },
     "output_type": "display_data"
    },
    {
     "name": "stdout",
     "output_type": "stream",
     "text": [
      "Total number of cell types 346\n"
     ]
    },
    {
     "data": {
      "image/png": "[encoded data removed]",
      "text/plain": [
       "<Figure size 432x288 with 1 Axes>"
      ]
     },
     "metadata": {
      "needs_background": "light"
     },
     "output_type": "display_data"
    },
    {
     "name": "stdout",
     "output_type": "stream",
     "text": [
      "Total number of cells 334\n"
     ]
    }
   ],
   "source": [
    "cell_types =  vat1_df[\"Cell ID\"].values\n",
    "sns.histplot(cell_types)\n",
    "plt.show()\n",
    "print(f'Total number of cell types {len(cell_types)}')\n",
    "vat1_df = vat1_df.loc[cell_types != '4196.0']\n",
    "sns.histplot(vat1_df[\"Cell ID\"].values)\n",
    "plt.show()\n",
    "print(f'Total number of cells {len(vat1_df)}')"
   ]
  },
  {
   "cell_type": "code",
   "execution_count": 311,
   "id": "e5e51f70",
   "metadata": {},
   "outputs": [
    {
     "data": {
      "image/png": "[encoded data removed]",
      "text/plain": [
       "<Figure size 432x288 with 1 Axes>"
      ]
     },
     "metadata": {
      "needs_background": "light"
     },
     "output_type": "display_data"
    },
    {
     "name": "stdout",
     "output_type": "stream",
     "text": [
      "Total number of cell types 450\n"
     ]
    },
    {
     "data": {
      "image/png": "[encoded data removed]",
      "text/plain": [
       "<Figure size 432x288 with 1 Axes>"
      ]
     },
     "metadata": {
      "needs_background": "light"
     },
     "output_type": "display_data"
    },
    {
     "name": "stdout",
     "output_type": "stream",
     "text": [
      "Total number of cells 438\n"
     ]
    }
   ],
   "source": [
    "# cell_types =  mfn1_df[\"Cell ID\"].values\n",
    "# sns.histplot(cell_types)\n",
    "# plt.show()\n",
    "# print(f'Total number of cell types {len(cell_types)}')\n",
    "# mfn1_df = mfn1_df.loc[cell_types != '4715.0']\n",
    "# sns.histplot(mfn1_df[\"Cell ID\"].values)\n",
    "# plt.show()\n",
    "# print(f'Total number of cells {len(mfn1_df)}')"
   ]
  },
  {
   "cell_type": "code",
   "execution_count": 22,
   "id": "a639e58d",
   "metadata": {},
   "outputs": [
    {
     "data": {
      "image/png": "[encoded data removed]",
      "text/plain": [
       "<Figure size 432x288 with 1 Axes>"
      ]
     },
     "metadata": {
      "needs_background": "light"
     },
     "output_type": "display_data"
    },
    {
     "name": "stdout",
     "output_type": "stream",
     "text": [
      "Total number of cell types 334\n"
     ]
    },
    {
     "data": {
      "image/png": "[encoded data removed]",
      "text/plain": [
       "<Figure size 432x288 with 1 Axes>"
      ]
     },
     "metadata": {
      "needs_background": "light"
     },
     "output_type": "display_data"
    },
    {
     "name": "stdout",
     "output_type": "stream",
     "text": [
      "Total number of cells 328\n"
     ]
    }
   ],
   "source": [
    "cell_types =  vat1_df[\"Cell ID\"].values\n",
    "sns.histplot(cell_types)\n",
    "plt.show()\n",
    "print(f'Total number of cell types {len(cell_types)}')\n",
    "vat1_df = vat1_df.loc[cell_types != '951.0']\n",
    "sns.histplot(vat1_df[\"Cell ID\"].values)\n",
    "plt.show()\n",
    "print(f'Total number of cells {len(vat1_df)}')"
   ]
  },
  {
   "cell_type": "code",
   "execution_count": 23,
   "id": "21e2d512",
   "metadata": {
    "scrolled": true
   },
   "outputs": [
    {
     "data": {
      "image/png": "[encoded data removed]",
      "text/plain": [
       "<Figure size 432x288 with 1 Axes>"
      ]
     },
     "metadata": {
      "needs_background": "light"
     },
     "output_type": "display_data"
    },
    {
     "name": "stdout",
     "output_type": "stream",
     "text": [
      "Total number of cell types 328\n"
     ]
    },
    {
     "data": {
      "image/png": "[encoded data removed]",
      "text/plain": [
       "<Figure size 432x288 with 1 Axes>"
      ]
     },
     "metadata": {
      "needs_background": "light"
     },
     "output_type": "display_data"
    },
    {
     "name": "stdout",
     "output_type": "stream",
     "text": [
      "Total number of cells 298\n"
     ]
    }
   ],
   "source": [
    "cell_types =  vat1_df[\"Cell ID\"].values\n",
    "sns.histplot(cell_types)\n",
    "plt.show()\n",
    "print(f'Total number of cell types {len(cell_types)}')\n",
    "vat1_df = vat1_df.loc[cell_types != '848.0']\n",
    "sns.histplot(vat1_df[\"Cell ID\"].values)\n",
    "plt.show()\n",
    "print(f'Total number of cells {len(vat1_df)}')"
   ]
  },
  {
   "cell_type": "code",
   "execution_count": 68,
   "id": "a5f1db4c",
   "metadata": {
    "scrolled": true
   },
   "outputs": [],
   "source": [
    "#summary 1\n",
    "vat1_df_sum = vat1_df.drop(columns=[\"group\", \"group_with_id\",\"group_with_p\", \"group_p\", \"Cell ID\", \"plate\", \"Row\", \"Column\", \"Cell Type\",\n",
    "                                    \"Plane\", \"Timepoint\", \"Height [µm]\", \"Time [s]\", \"Compound\", \"Severity\", \"pos\" ])\n",
    "vat1_df_sum = vat1_df_sum.reset_index()\n",
    "vat1_df_sum = vat1_df_sum.drop(columns=[\"group_with_id\",\"group\", \"group_p\", \"level_0\"])\n",
    "sum1 = summarize_dataframe(vat1_df_sum, \"group_with_p\")\n",
    "sum1 = sum1.reset_index()\n",
    "sum1.to_csv(path + \"//\" + 'vat1_sum1a.csv', index=None)"
   ]
  },
  {
   "cell_type": "code",
   "execution_count": null,
   "id": "153c95b4",
   "metadata": {},
   "outputs": [],
   "source": [
    "# clear low and high cell count\n",
    "cell_count =  vat1_df[\"all_cells - Number of Objects\"].values\n",
    "sns.histplot(cell_count)\n",
    "plt.show()\n",
    "vat1_df = vat1_df.loc[cell_count<1200]\n",
    "sns.histplot(vat1_df[\"all_cells - Number of Objects\"].values)\n",
    "plt.show()\n",
    "vat1_df = vat1_df.loc[cell_count>400]\n",
    "sns.histplot(vat1_df[\"all_cells - Number of Objects\"].values)\n",
    "plt.show()"
   ]
  },
  {
   "cell_type": "code",
   "execution_count": 73,
   "id": "3e493a2d",
   "metadata": {},
   "outputs": [],
   "source": [
    "vat1_df.to_csv(path + \"//\" + 'vat1_df1.csv', index=None)    "
   ]
  },
  {
   "cell_type": "code",
   "execution_count": 76,
   "id": "a305913c",
   "metadata": {
    "scrolled": true
   },
   "outputs": [
    {
     "data": {
      "application/vnd.plotly.v1+json": {
       "config": {
        "plotlyServerURL": "https://plot.ly"
       },
       "data": [
        {
         "alignmentgroup": "True",
         "hovertemplate": "group=%{x}<br>all_cells - Number of Objects=%{y}<extra></extra>",
         "legendgroup": "",
         "marker": {
          "color": "#636efa",
          "pattern": {
           "shape": ""
          }
         },
         "name": "",
         "offsetgroup": "",
         "orientation": "v",
         "showlegend": false,
         "textposition": "auto",
         "type": "bar",
         "x": [
          "HCDMSO",
          "MDMSO",
          "Mmdivi1 25uM",
          "PREDMSO",
          "PREmdivi1 25uM",
          "SDMSO",
          "Smdivi1 25uM"
         ],
         "xaxis": "x",
         "y": [
          760.6567164179105,
          945.78125,
          868.2,
          904.8666666666667,
          811.2333333333333,
          806.8,
          761.3421052631579
         ],
         "yaxis": "y"
        }
       ],
       "layout": {
        "barmode": "group",
        "legend": {
         "tracegroupgap": 0
        },
        "margin": {
         "t": 60
        },
        "template": {
         "data": {
          "bar": [
           {
            "error_x": {
             "color": "#2a3f5f"
            },
            "error_y": {
             "color": "#2a3f5f"
            },
            "marker": {
             "line": {
              "color": "#E5ECF6",
              "width": 0.5
             },
             "pattern": {
              "fillmode": "overlay",
              "size": 10,
              "solidity": 0.2
             }
            },
            "type": "bar"
           }
          ],
          "barpolar": [
           {
            "marker": {
             "line": {
              "color": "#E5ECF6",
              "width": 0.5
             },
             "pattern": {
              "fillmode": "overlay",
              "size": 10,
              "solidity": 0.2
             }
            },
            "type": "barpolar"
           }
          ],
          "carpet": [
           {
            "aaxis": {
             "endlinecolor": "#2a3f5f",
             "gridcolor": "white",
             "linecolor": "white",
             "minorgridcolor": "white",
             "startlinecolor": "#2a3f5f"
            },
            "baxis": {
             "endlinecolor": "#2a3f5f",
             "gridcolor": "white",
             "linecolor": "white",
             "minorgridcolor": "white",
             "startlinecolor": "#2a3f5f"
            },
            "type": "carpet"
           }
          ],
          "choropleth": [
           {
            "colorbar": {
             "outlinewidth": 0,
             "ticks": ""
            },
            "type": "choropleth"
           }
          ],
          "contour": [
           {
            "colorbar": {
             "outlinewidth": 0,
             "ticks": ""
            },
            "colorscale": [
             [
              0,
              "#0d0887"
             ],
             [
              0.1111111111111111,
              "#46039f"
             ],
             [
              0.2222222222222222,
              "#7201a8"
             ],
             [
              0.3333333333333333,
              "#9c179e"
             ],
             [
              0.4444444444444444,
              "#bd3786"
             ],
             [
              0.5555555555555556,
              "#d8576b"
             ],
             [
              0.6666666666666666,
              "#ed7953"
             ],
             [
              0.7777777777777778,
              "#fb9f3a"
             ],
             [
              0.8888888888888888,
              "#fdca26"
             ],
             [
              1,
              "#f0f921"
             ]
            ],
            "type": "contour"
           }
          ],
          "contourcarpet": [
           {
            "colorbar": {
             "outlinewidth": 0,
             "ticks": ""
            },
            "type": "contourcarpet"
           }
          ],
          "heatmap": [
           {
            "colorbar": {
             "outlinewidth": 0,
             "ticks": ""
            },
            "colorscale": [
             [
              0,
              "#0d0887"
             ],
             [
              0.1111111111111111,
              "#46039f"
             ],
             [
              0.2222222222222222,
              "#7201a8"
             ],
             [
              0.3333333333333333,
              "#9c179e"
             ],
             [
              0.4444444444444444,
              "#bd3786"
             ],
             [
              0.5555555555555556,
              "#d8576b"
             ],
             [
              0.6666666666666666,
              "#ed7953"
             ],
             [
              0.7777777777777778,
              "#fb9f3a"
             ],
             [
              0.8888888888888888,
              "#fdca26"
             ],
             [
              1,
              "#f0f921"
             ]
            ],
            "type": "heatmap"
           }
          ],
          "heatmapgl": [
           {
            "colorbar": {
             "outlinewidth": 0,
             "ticks": ""
            },
            "colorscale": [
             [
              0,
              "#0d0887"
             ],
             [
              0.1111111111111111,
              "#46039f"
             ],
             [
              0.2222222222222222,
              "#7201a8"
             ],
             [
              0.3333333333333333,
              "#9c179e"
             ],
             [
              0.4444444444444444,
              "#bd3786"
             ],
             [
              0.5555555555555556,
              "#d8576b"
             ],
             [
              0.6666666666666666,
              "#ed7953"
             ],
             [
              0.7777777777777778,
              "#fb9f3a"
             ],
             [
              0.8888888888888888,
              "#fdca26"
             ],
             [
              1,
              "#f0f921"
             ]
            ],
            "type": "heatmapgl"
           }
          ],
          "histogram": [
           {
            "marker": {
             "pattern": {
              "fillmode": "overlay",
              "size": 10,
              "solidity": 0.2
             }
            },
            "type": "histogram"
           }
          ],
          "histogram2d": [
           {
            "colorbar": {
             "outlinewidth": 0,
             "ticks": ""
            },
            "colorscale": [
             [
              0,
              "#0d0887"
             ],
             [
              0.1111111111111111,
              "#46039f"
             ],
             [
              0.2222222222222222,
              "#7201a8"
             ],
             [
              0.3333333333333333,
              "#9c179e"
             ],
             [
              0.4444444444444444,
              "#bd3786"
             ],
             [
              0.5555555555555556,
              "#d8576b"
             ],
             [
              0.6666666666666666,
              "#ed7953"
             ],
             [
              0.7777777777777778,
              "#fb9f3a"
             ],
             [
              0.8888888888888888,
              "#fdca26"
             ],
             [
              1,
              "#f0f921"
             ]
            ],
            "type": "histogram2d"
           }
          ],
          "histogram2dcontour": [
           {
            "colorbar": {
             "outlinewidth": 0,
             "ticks": ""
            },
            "colorscale": [
             [
              0,
              "#0d0887"
             ],
             [
              0.1111111111111111,
              "#46039f"
             ],
             [
              0.2222222222222222,
              "#7201a8"
             ],
             [
              0.3333333333333333,
              "#9c179e"
             ],
             [
              0.4444444444444444,
              "#bd3786"
             ],
             [
              0.5555555555555556,
              "#d8576b"
             ],
             [
              0.6666666666666666,
              "#ed7953"
             ],
             [
              0.7777777777777778,
              "#fb9f3a"
             ],
             [
              0.8888888888888888,
              "#fdca26"
             ],
             [
              1,
              "#f0f921"
             ]
            ],
            "type": "histogram2dcontour"
           }
          ],
          "mesh3d": [
           {
            "colorbar": {
             "outlinewidth": 0,
             "ticks": ""
            },
            "type": "mesh3d"
           }
          ],
          "parcoords": [
           {
            "line": {
             "colorbar": {
              "outlinewidth": 0,
              "ticks": ""
             }
            },
            "type": "parcoords"
           }
          ],
          "pie": [
           {
            "automargin": true,
            "type": "pie"
           }
          ],
          "scatter": [
           {
            "fillpattern": {
             "fillmode": "overlay",
             "size": 10,
             "solidity": 0.2
            },
            "type": "scatter"
           }
          ],
          "scatter3d": [
           {
            "line": {
             "colorbar": {
              "outlinewidth": 0,
              "ticks": ""
             }
            },
            "marker": {
             "colorbar": {
              "outlinewidth": 0,
              "ticks": ""
             }
            },
            "type": "scatter3d"
           }
          ],
          "scattercarpet": [
           {
            "marker": {
             "colorbar": {
              "outlinewidth": 0,
              "ticks": ""
             }
            },
            "type": "scattercarpet"
           }
          ],
          "scattergeo": [
           {
            "marker": {
             "colorbar": {
              "outlinewidth": 0,
              "ticks": ""
             }
            },
            "type": "scattergeo"
           }
          ],
          "scattergl": [
           {
            "marker": {
             "colorbar": {
              "outlinewidth": 0,
              "ticks": ""
             }
            },
            "type": "scattergl"
           }
          ],
          "scattermapbox": [
           {
            "marker": {
             "colorbar": {
              "outlinewidth": 0,
              "ticks": ""
             }
            },
            "type": "scattermapbox"
           }
          ],
          "scatterpolar": [
           {
            "marker": {
             "colorbar": {
              "outlinewidth": 0,
              "ticks": ""
             }
            },
            "type": "scatterpolar"
           }
          ],
          "scatterpolargl": [
           {
            "marker": {
             "colorbar": {
              "outlinewidth": 0,
              "ticks": ""
             }
            },
            "type": "scatterpolargl"
           }
          ],
          "scatterternary": [
           {
            "marker": {
             "colorbar": {
              "outlinewidth": 0,
              "ticks": ""
             }
            },
            "type": "scatterternary"
           }
          ],
          "surface": [
           {
            "colorbar": {
             "outlinewidth": 0,
             "ticks": ""
            },
            "colorscale": [
             [
              0,
              "#0d0887"
             ],
             [
              0.1111111111111111,
              "#46039f"
             ],
             [
              0.2222222222222222,
              "#7201a8"
             ],
             [
              0.3333333333333333,
              "#9c179e"
             ],
             [
              0.4444444444444444,
              "#bd3786"
             ],
             [
              0.5555555555555556,
              "#d8576b"
             ],
             [
              0.6666666666666666,
              "#ed7953"
             ],
             [
              0.7777777777777778,
              "#fb9f3a"
             ],
             [
              0.8888888888888888,
              "#fdca26"
             ],
             [
              1,
              "#f0f921"
             ]
            ],
            "type": "surface"
           }
          ],
          "table": [
           {
            "cells": {
             "fill": {
              "color": "#EBF0F8"
             },
             "line": {
              "color": "white"
             }
            },
            "header": {
             "fill": {
              "color": "#C8D4E3"
             },
             "line": {
              "color": "white"
             }
            },
            "type": "table"
           }
          ]
         },
         "layout": {
          "annotationdefaults": {
           "arrowcolor": "#2a3f5f",
           "arrowhead": 0,
           "arrowwidth": 1
          },
          "autotypenumbers": "strict",
          "coloraxis": {
           "colorbar": {
            "outlinewidth": 0,
            "ticks": ""
           }
          },
          "colorscale": {
           "diverging": [
            [
             0,
             "#8e0152"
            ],
            [
             0.1,
             "#c51b7d"
            ],
            [
             0.2,
             "#de77ae"
            ],
            [
             0.3,
             "#f1b6da"
            ],
            [
             0.4,
             "#fde0ef"
            ],
            [
             0.5,
             "#f7f7f7"
            ],
            [
             0.6,
             "#e6f5d0"
            ],
            [
             0.7,
             "#b8e186"
            ],
            [
             0.8,
             "#7fbc41"
            ],
            [
             0.9,
             "#4d9221"
            ],
            [
             1,
             "#276419"
            ]
           ],
           "sequential": [
            [
             0,
             "#0d0887"
            ],
            [
             0.1111111111111111,
             "#46039f"
            ],
            [
             0.2222222222222222,
             "#7201a8"
            ],
            [
             0.3333333333333333,
             "#9c179e"
            ],
            [
             0.4444444444444444,
             "#bd3786"
            ],
            [
             0.5555555555555556,
             "#d8576b"
            ],
            [
             0.6666666666666666,
             "#ed7953"
            ],
            [
             0.7777777777777778,
             "#fb9f3a"
            ],
            [
             0.8888888888888888,
             "#fdca26"
            ],
            [
             1,
             "#f0f921"
            ]
           ],
           "sequentialminus": [
            [
             0,
             "#0d0887"
            ],
            [
             0.1111111111111111,
             "#46039f"
            ],
            [
             0.2222222222222222,
             "#7201a8"
            ],
            [
             0.3333333333333333,
             "#9c179e"
            ],
            [
             0.4444444444444444,
             "#bd3786"
            ],
            [
             0.5555555555555556,
             "#d8576b"
            ],
            [
             0.6666666666666666,
             "#ed7953"
            ],
            [
             0.7777777777777778,
             "#fb9f3a"
            ],
            [
             0.8888888888888888,
             "#fdca26"
            ],
            [
             1,
             "#f0f921"
            ]
           ]
          },
          "colorway": [
           "#636efa",
           "#EF553B",
           "#00cc96",
           "#ab63fa",
           "#FFA15A",
           "#19d3f3",
           "#FF6692",
           "#B6E880",
           "#FF97FF",
           "#FECB52"
          ],
          "font": {
           "color": "#2a3f5f"
          },
          "geo": {
           "bgcolor": "white",
           "lakecolor": "white",
           "landcolor": "#E5ECF6",
           "showlakes": true,
           "showland": true,
           "subunitcolor": "white"
          },
          "hoverlabel": {
           "align": "left"
          },
          "hovermode": "closest",
          "mapbox": {
           "style": "light"
          },
          "paper_bgcolor": "white",
          "plot_bgcolor": "#E5ECF6",
          "polar": {
           "angularaxis": {
            "gridcolor": "white",
            "linecolor": "white",
            "ticks": ""
           },
           "bgcolor": "#E5ECF6",
           "radialaxis": {
            "gridcolor": "white",
            "linecolor": "white",
            "ticks": ""
           }
          },
          "scene": {
           "xaxis": {
            "backgroundcolor": "#E5ECF6",
            "gridcolor": "white",
            "gridwidth": 2,
            "linecolor": "white",
            "showbackground": true,
            "ticks": "",
            "zerolinecolor": "white"
           },
           "yaxis": {
            "backgroundcolor": "#E5ECF6",
            "gridcolor": "white",
            "gridwidth": 2,
            "linecolor": "white",
            "showbackground": true,
            "ticks": "",
            "zerolinecolor": "white"
           },
           "zaxis": {
            "backgroundcolor": "#E5ECF6",
            "gridcolor": "white",
            "gridwidth": 2,
            "linecolor": "white",
            "showbackground": true,
            "ticks": "",
            "zerolinecolor": "white"
           }
          },
          "shapedefaults": {
           "line": {
            "color": "#2a3f5f"
           }
          },
          "ternary": {
           "aaxis": {
            "gridcolor": "white",
            "linecolor": "white",
            "ticks": ""
           },
           "baxis": {
            "gridcolor": "white",
            "linecolor": "white",
            "ticks": ""
           },
           "bgcolor": "#E5ECF6",
           "caxis": {
            "gridcolor": "white",
            "linecolor": "white",
            "ticks": ""
           }
          },
          "title": {
           "x": 0.05
          },
          "xaxis": {
           "automargin": true,
           "gridcolor": "white",
           "linecolor": "white",
           "ticks": "",
           "title": {
            "standoff": 15
           },
           "zerolinecolor": "white",
           "zerolinewidth": 2
          },
          "yaxis": {
           "automargin": true,
           "gridcolor": "white",
           "linecolor": "white",
           "ticks": "",
           "title": {
            "standoff": 15
           },
           "zerolinecolor": "white",
           "zerolinewidth": 2
          }
         }
        },
        "xaxis": {
         "anchor": "y",
         "domain": [
          0,
          1
         ],
         "title": {
          "text": "group"
         }
        },
        "yaxis": {
         "anchor": "x",
         "domain": [
          0,
          1
         ],
         "title": {
          "text": "all_cells - Number of Objects"
         }
        }
       }
      },
      "text/html": [
       "<div>                            <div id=\"56fee0d8-d475-4aa0-9131-83b3f319521d\" class=\"plotly-graph-div\" style=\"height:525px; width:100%;\"></div>            <script type=\"text/javascript\">                require([\"plotly\"], function(Plotly) {                    window.PLOTLYENV=window.PLOTLYENV || {};                                    if (document.getElementById(\"56fee0d8-d475-4aa0-9131-83b3f319521d\")) {                    Plotly.newPlot(                        \"56fee0d8-d475-4aa0-9131-83b3f319521d\",                        [{\"alignmentgroup\":\"True\",\"hovertemplate\":\"group=%{x}<br>all_cells - Number of Objects=%{y}<extra></extra>\",\"legendgroup\":\"\",\"marker\":{\"color\":\"#636efa\",\"pattern\":{\"shape\":\"\"}},\"name\":\"\",\"offsetgroup\":\"\",\"orientation\":\"v\",\"showlegend\":false,\"textposition\":\"auto\",\"x\":[\"HCDMSO\",\"MDMSO\",\"Mmdivi1 25uM\",\"PREDMSO\",\"PREmdivi1 25uM\",\"SDMSO\",\"Smdivi1 25uM\"],\"xaxis\":\"x\",\"y\":[760.6567164179105,945.78125,868.2,904.8666666666667,811.2333333333333,806.8,761.3421052631579],\"yaxis\":\"y\",\"type\":\"bar\"}],                        {\"template\":{\"data\":{\"histogram2dcontour\":[{\"type\":\"histogram2dcontour\",\"colorbar\":{\"outlinewidth\":0,\"ticks\":\"\"},\"colorscale\":[[0.0,\"#0d0887\"],[0.1111111111111111,\"#46039f\"],[0.2222222222222222,\"#7201a8\"],[0.3333333333333333,\"#9c179e\"],[0.4444444444444444,\"#bd3786\"],[0.5555555555555556,\"#d8576b\"],[0.6666666666666666,\"#ed7953\"],[0.7777777777777778,\"#fb9f3a\"],[0.8888888888888888,\"#fdca26\"],[1.0,\"#f0f921\"]]}],\"choropleth\":[{\"type\":\"choropleth\",\"colorbar\":{\"outlinewidth\":0,\"ticks\":\"\"}}],\"histogram2d\":[{\"type\":\"histogram2d\",\"colorbar\":{\"outlinewidth\":0,\"ticks\":\"\"},\"colorscale\":[[0.0,\"#0d0887\"],[0.1111111111111111,\"#46039f\"],[0.2222222222222222,\"#7201a8\"],[0.3333333333333333,\"#9c179e\"],[0.4444444444444444,\"#bd3786\"],[0.5555555555555556,\"#d8576b\"],[0.6666666666666666,\"#ed7953\"],[0.7777777777777778,\"#fb9f3a\"],[0.8888888888888888,\"#fdca26\"],[1.0,\"#f0f921\"]]}],\"heatmap\":[{\"type\":\"heatmap\",\"colorbar\":{\"outlinewidth\":0,\"ticks\":\"\"},\"colorscale\":[[0.0,\"#0d0887\"],[0.1111111111111111,\"#46039f\"],[0.2222222222222222,\"#7201a8\"],[0.3333333333333333,\"#9c179e\"],[0.4444444444444444,\"#bd3786\"],[0.5555555555555556,\"#d8576b\"],[0.6666666666666666,\"#ed7953\"],[0.7777777777777778,\"#fb9f3a\"],[0.8888888888888888,\"#fdca26\"],[1.0,\"#f0f921\"]]}],\"heatmapgl\":[{\"type\":\"heatmapgl\",\"colorbar\":{\"outlinewidth\":0,\"ticks\":\"\"},\"colorscale\":[[0.0,\"#0d0887\"],[0.1111111111111111,\"#46039f\"],[0.2222222222222222,\"#7201a8\"],[0.3333333333333333,\"#9c179e\"],[0.4444444444444444,\"#bd3786\"],[0.5555555555555556,\"#d8576b\"],[0.6666666666666666,\"#ed7953\"],[0.7777777777777778,\"#fb9f3a\"],[0.8888888888888888,\"#fdca26\"],[1.0,\"#f0f921\"]]}],\"contourcarpet\":[{\"type\":\"contourcarpet\",\"colorbar\":{\"outlinewidth\":0,\"ticks\":\"\"}}],\"contour\":[{\"type\":\"contour\",\"colorbar\":{\"outlinewidth\":0,\"ticks\":\"\"},\"colorscale\":[[0.0,\"#0d0887\"],[0.1111111111111111,\"#46039f\"],[0.2222222222222222,\"#7201a8\"],[0.3333333333333333,\"#9c179e\"],[0.4444444444444444,\"#bd3786\"],[0.5555555555555556,\"#d8576b\"],[0.6666666666666666,\"#ed7953\"],[0.7777777777777778,\"#fb9f3a\"],[0.8888888888888888,\"#fdca26\"],[1.0,\"#f0f921\"]]}],\"surface\":[{\"type\":\"surface\",\"colorbar\":{\"outlinewidth\":0,\"ticks\":\"\"},\"colorscale\":[[0.0,\"#0d0887\"],[0.1111111111111111,\"#46039f\"],[0.2222222222222222,\"#7201a8\"],[0.3333333333333333,\"#9c179e\"],[0.4444444444444444,\"#bd3786\"],[0.5555555555555556,\"#d8576b\"],[0.6666666666666666,\"#ed7953\"],[0.7777777777777778,\"#fb9f3a\"],[0.8888888888888888,\"#fdca26\"],[1.0,\"#f0f921\"]]}],\"mesh3d\":[{\"type\":\"mesh3d\",\"colorbar\":{\"outlinewidth\":0,\"ticks\":\"\"}}],\"scatter\":[{\"fillpattern\":{\"fillmode\":\"overlay\",\"size\":10,\"solidity\":0.2},\"type\":\"scatter\"}],\"parcoords\":[{\"type\":\"parcoords\",\"line\":{\"colorbar\":{\"outlinewidth\":0,\"ticks\":\"\"}}}],\"scatterpolargl\":[{\"type\":\"scatterpolargl\",\"marker\":{\"colorbar\":{\"outlinewidth\":0,\"ticks\":\"\"}}}],\"bar\":[{\"error_x\":{\"color\":\"#2a3f5f\"},\"error_y\":{\"color\":\"#2a3f5f\"},\"marker\":{\"line\":{\"color\":\"#E5ECF6\",\"width\":0.5},\"pattern\":{\"fillmode\":\"overlay\",\"size\":10,\"solidity\":0.2}},\"type\":\"bar\"}],\"scattergeo\":[{\"type\":\"scattergeo\",\"marker\":{\"colorbar\":{\"outlinewidth\":0,\"ticks\":\"\"}}}],\"scatterpolar\":[{\"type\":\"scatterpolar\",\"marker\":{\"colorbar\":{\"outlinewidth\":0,\"ticks\":\"\"}}}],\"histogram\":[{\"marker\":{\"pattern\":{\"fillmode\":\"overlay\",\"size\":10,\"solidity\":0.2}},\"type\":\"histogram\"}],\"scattergl\":[{\"type\":\"scattergl\",\"marker\":{\"colorbar\":{\"outlinewidth\":0,\"ticks\":\"\"}}}],\"scatter3d\":[{\"type\":\"scatter3d\",\"line\":{\"colorbar\":{\"outlinewidth\":0,\"ticks\":\"\"}},\"marker\":{\"colorbar\":{\"outlinewidth\":0,\"ticks\":\"\"}}}],\"scattermapbox\":[{\"type\":\"scattermapbox\",\"marker\":{\"colorbar\":{\"outlinewidth\":0,\"ticks\":\"\"}}}],\"scatterternary\":[{\"type\":\"scatterternary\",\"marker\":{\"colorbar\":{\"outlinewidth\":0,\"ticks\":\"\"}}}],\"scattercarpet\":[{\"type\":\"scattercarpet\",\"marker\":{\"colorbar\":{\"outlinewidth\":0,\"ticks\":\"\"}}}],\"carpet\":[{\"aaxis\":{\"endlinecolor\":\"#2a3f5f\",\"gridcolor\":\"white\",\"linecolor\":\"white\",\"minorgridcolor\":\"white\",\"startlinecolor\":\"#2a3f5f\"},\"baxis\":{\"endlinecolor\":\"#2a3f5f\",\"gridcolor\":\"white\",\"linecolor\":\"white\",\"minorgridcolor\":\"white\",\"startlinecolor\":\"#2a3f5f\"},\"type\":\"carpet\"}],\"table\":[{\"cells\":{\"fill\":{\"color\":\"#EBF0F8\"},\"line\":{\"color\":\"white\"}},\"header\":{\"fill\":{\"color\":\"#C8D4E3\"},\"line\":{\"color\":\"white\"}},\"type\":\"table\"}],\"barpolar\":[{\"marker\":{\"line\":{\"color\":\"#E5ECF6\",\"width\":0.5},\"pattern\":{\"fillmode\":\"overlay\",\"size\":10,\"solidity\":0.2}},\"type\":\"barpolar\"}],\"pie\":[{\"automargin\":true,\"type\":\"pie\"}]},\"layout\":{\"autotypenumbers\":\"strict\",\"colorway\":[\"#636efa\",\"#EF553B\",\"#00cc96\",\"#ab63fa\",\"#FFA15A\",\"#19d3f3\",\"#FF6692\",\"#B6E880\",\"#FF97FF\",\"#FECB52\"],\"font\":{\"color\":\"#2a3f5f\"},\"hovermode\":\"closest\",\"hoverlabel\":{\"align\":\"left\"},\"paper_bgcolor\":\"white\",\"plot_bgcolor\":\"#E5ECF6\",\"polar\":{\"bgcolor\":\"#E5ECF6\",\"angularaxis\":{\"gridcolor\":\"white\",\"linecolor\":\"white\",\"ticks\":\"\"},\"radialaxis\":{\"gridcolor\":\"white\",\"linecolor\":\"white\",\"ticks\":\"\"}},\"ternary\":{\"bgcolor\":\"#E5ECF6\",\"aaxis\":{\"gridcolor\":\"white\",\"linecolor\":\"white\",\"ticks\":\"\"},\"baxis\":{\"gridcolor\":\"white\",\"linecolor\":\"white\",\"ticks\":\"\"},\"caxis\":{\"gridcolor\":\"white\",\"linecolor\":\"white\",\"ticks\":\"\"}},\"coloraxis\":{\"colorbar\":{\"outlinewidth\":0,\"ticks\":\"\"}},\"colorscale\":{\"sequential\":[[0.0,\"#0d0887\"],[0.1111111111111111,\"#46039f\"],[0.2222222222222222,\"#7201a8\"],[0.3333333333333333,\"#9c179e\"],[0.4444444444444444,\"#bd3786\"],[0.5555555555555556,\"#d8576b\"],[0.6666666666666666,\"#ed7953\"],[0.7777777777777778,\"#fb9f3a\"],[0.8888888888888888,\"#fdca26\"],[1.0,\"#f0f921\"]],\"sequentialminus\":[[0.0,\"#0d0887\"],[0.1111111111111111,\"#46039f\"],[0.2222222222222222,\"#7201a8\"],[0.3333333333333333,\"#9c179e\"],[0.4444444444444444,\"#bd3786\"],[0.5555555555555556,\"#d8576b\"],[0.6666666666666666,\"#ed7953\"],[0.7777777777777778,\"#fb9f3a\"],[0.8888888888888888,\"#fdca26\"],[1.0,\"#f0f921\"]],\"diverging\":[[0,\"#8e0152\"],[0.1,\"#c51b7d\"],[0.2,\"#de77ae\"],[0.3,\"#f1b6da\"],[0.4,\"#fde0ef\"],[0.5,\"#f7f7f7\"],[0.6,\"#e6f5d0\"],[0.7,\"#b8e186\"],[0.8,\"#7fbc41\"],[0.9,\"#4d9221\"],[1,\"#276419\"]]},\"xaxis\":{\"gridcolor\":\"white\",\"linecolor\":\"white\",\"ticks\":\"\",\"title\":{\"standoff\":15},\"zerolinecolor\":\"white\",\"automargin\":true,\"zerolinewidth\":2},\"yaxis\":{\"gridcolor\":\"white\",\"linecolor\":\"white\",\"ticks\":\"\",\"title\":{\"standoff\":15},\"zerolinecolor\":\"white\",\"automargin\":true,\"zerolinewidth\":2},\"scene\":{\"xaxis\":{\"backgroundcolor\":\"#E5ECF6\",\"gridcolor\":\"white\",\"linecolor\":\"white\",\"showbackground\":true,\"ticks\":\"\",\"zerolinecolor\":\"white\",\"gridwidth\":2},\"yaxis\":{\"backgroundcolor\":\"#E5ECF6\",\"gridcolor\":\"white\",\"linecolor\":\"white\",\"showbackground\":true,\"ticks\":\"\",\"zerolinecolor\":\"white\",\"gridwidth\":2},\"zaxis\":{\"backgroundcolor\":\"#E5ECF6\",\"gridcolor\":\"white\",\"linecolor\":\"white\",\"showbackground\":true,\"ticks\":\"\",\"zerolinecolor\":\"white\",\"gridwidth\":2}},\"shapedefaults\":{\"line\":{\"color\":\"#2a3f5f\"}},\"annotationdefaults\":{\"arrowcolor\":\"#2a3f5f\",\"arrowhead\":0,\"arrowwidth\":1},\"geo\":{\"bgcolor\":\"white\",\"landcolor\":\"#E5ECF6\",\"subunitcolor\":\"white\",\"showland\":true,\"showlakes\":true,\"lakecolor\":\"white\"},\"title\":{\"x\":0.05},\"mapbox\":{\"style\":\"light\"}}},\"xaxis\":{\"anchor\":\"y\",\"domain\":[0.0,1.0],\"title\":{\"text\":\"group\"}},\"yaxis\":{\"anchor\":\"x\",\"domain\":[0.0,1.0],\"title\":{\"text\":\"all_cells - Number of Objects\"}},\"legend\":{\"tracegroupgap\":0},\"margin\":{\"t\":60},\"barmode\":\"group\"},                        {\"responsive\": true}                    ).then(function(){\n",
       "                            \n",
       "var gd = document.getElementById('56fee0d8-d475-4aa0-9131-83b3f319521d');\n",
       "var x = new MutationObserver(function (mutations, observer) {{\n",
       "        var display = window.getComputedStyle(gd).display;\n",
       "        if (!display || display === 'none') {{\n",
       "            console.log([gd, 'removed!']);\n",
       "            Plotly.purge(gd);\n",
       "            observer.disconnect();\n",
       "        }}\n",
       "}});\n",
       "\n",
       "// Listen for the removal of the full notebook cells\n",
       "var notebookContainer = gd.closest('#notebook-container');\n",
       "if (notebookContainer) {{\n",
       "    x.observe(notebookContainer, {childList: true});\n",
       "}}\n",
       "\n",
       "// Listen for the clearing of the current output cell\n",
       "var outputEl = gd.closest('.output');\n",
       "if (outputEl) {{\n",
       "    x.observe(outputEl, {childList: true});\n",
       "}}\n",
       "\n",
       "                        })                };                });            </script>        </div>"
      ]
     },
     "metadata": {},
     "output_type": "display_data"
    }
   ],
   "source": [
    "#count per group\n",
    "vat1_df_count = vat1_df.groupby(level=1).mean()\n",
    "vat1_df_count = vat1_df_count.reset_index()\n",
    "count_cells = px.bar(vat1_df_count, x = \"group\", y = \"all_cells - Number of Objects\",\n",
    "            barmode = 'group')\n",
    "\n",
    "count_cells.show()"
   ]
  },
  {
   "cell_type": "code",
   "execution_count": null,
   "id": "b86c3be5",
   "metadata": {},
   "outputs": [],
   "source": [
    "#keep features by corelation analysis\n",
    "vat1_df2 = vat1_df[['group', 'group_with_id', \"group_with_p\", \"Cell ID\", \"group_p\",\n",
    "                           \"all_cells - chanel_4_Intensity Mean - Mean per Well\", \"total_ir_chanel_4_normalized\"]]\n",
    "vat1_df2.columns = [str(col) + '_vat1' for col in vat1_df2.columns]\n",
    "vat1_df2 = vat1_df2.rename(\n",
    "     columns={\"group_vat1\":\"group\",\n",
    "              \"group_with_id_vat1\":\"group_with_id\",\n",
    "              \"group_with_p_vat1\":\"group_with_p\",\n",
    "              \"group_p_vat1\":\"group_p\",\n",
    "              \"Cell ID_vat1\":\"Cell_id\",\n",
    "              \"all_cells - chanel_4_Intensity Mean - Mean per Well_vat1\":\"vat1_intensity\",\n",
    "              \"total_ir_chanel_4_normalized_vat1\":\"vat1_area\"})\n",
    "print(vat1_df2)\n",
    "vat1_df2.to_csv(path + \"//\" + 'vat1_df2.csv', index=None)    "
   ]
  },
  {
   "cell_type": "code",
   "execution_count": null,
   "id": "c6f468a1",
   "metadata": {},
   "outputs": [],
   "source": [
    "#summary 2\n",
    "vat1_df_sum = vat1_df2.drop(columns=[\"group\", \"group_with_id\",\"group_with_p\", \"group_p\"])\n",
    "vat1_df_sum = vat1_df_sum.reset_index()\n",
    "vat1_df_sum = vat1_df_sum.drop(columns=[\"Cell_id\", \"group_with_id\",\"group\", \"level_0\", \"group_p\"])\n",
    "sum2 = summarize_dataframe(vat1_df_sum, \"group_with_p\")\n",
    "sum2 = sum2.reset_index()\n",
    "sum2.to_csv(path + \"//\" + 'vat1_sum2b.csv', index=None)"
   ]
  },
  {
   "cell_type": "code",
   "execution_count": null,
   "id": "652128d6",
   "metadata": {},
   "outputs": [],
   "source": [
    "# OUTLIER DETECTION MODE \n",
    "DataFrame_OutliersDetections = vat1_df2.copy()\n",
    "types = vat1_df2[\"group\"].unique()\n",
    "mask = []\n",
    "features = vat1_df2.columns[5:]\n",
    "#['LysoSpots-RSI', 'LysoSpots-CSI', 'LysoSpots-USPI', 'LysoSpots-SC', 'LysoSpots-SBI', 'LysoSpots-RI', 'LysoSpots-STRI', 'LysoSpots-SAUM', 'LysoSpots-SR', 'TmreSpots-RSI', 'TmreSpots-CSI', 'TmreSpots-USPI', 'TmreSpots-SC', 'TmreSpots-SBI', 'TmreSpots-SAPX', 'TmreSpots-RI', 'TmreSpots-STRI', 'TmreSpots-SAUM', 'TmreIArea-UM', 'TmreIArea-R', 'LysoIArea-UM', 'LysoIArea-R', 'TmreIntensityMean', 'TmreIntensitySum', 'Calceinarea', 'CalceinR', 'Nucarea', 'NucR', 'TmreTSarea', 'LysointensityMean', 'LysointensitySum', 'LysoTSarea', 'CalceinIntensityMean', 'NucIntensityMean']\n",
    "# features = ['LysoSpots-RSI', 'LysoSpots-CSI', 'LysoSpots-USPI', 'LysoSpots-SC', 'LysoSpots-SBI', 'LysoSpots-SAPX', 'LysoSpots-RI', 'LysoSpots-STRI', 'LysoSpots-SAUM', 'LysoSpots-SR', 'TmreSpots-RSI', 'TmreSpots-CSI', 'TmreSpots-USPI', 'TmreSpots-SC', 'TmreSpots-SBI', 'TmreSpots-SAPX', 'TmreSpots-RI', 'TmreSpots-STRI', 'TmreSpots-SAUM', 'TmreIArea-UM', 'TmreIArea-R', 'LysoIArea-UM', 'LysoIArea-R', 'TmreIntensityMean', 'TmreIntensitySum', 'Calceinarea', 'CalceinR', 'Nucarea', 'NucR', 'TmreTSarea', 'LysointensityMean', 'LysointensitySum', 'LysoTSarea', 'CalceinIntensityMean', 'NucIntensityMean']\n",
    "print(types)\n",
    "# detector_list = ['pca_approx', 'robust_cov']\n",
    "\n",
    "\n",
    "detector_list = [\n",
    "    \n",
    "        (\n",
    "        \"Local Outlier Factor 8\",\n",
    "        LocalOutlierFactor(n_neighbors=8),\n",
    "    ),\n",
    "    (\n",
    "        \"Local Outlier Factor 10\",\n",
    "        LocalOutlierFactor(n_neighbors=10),\n",
    "    ),\n",
    "        (\n",
    "         \"Local Outlier Factor 30\",\n",
    "        LocalOutlierFactor(n_neighbors=30),\n",
    "        ),\n",
    "    ]"
   ]
  },
  {
   "cell_type": "code",
   "execution_count": 35,
   "id": "a188efdd",
   "metadata": {},
   "outputs": [],
   "source": [
    "for name, algorithm in detector_list:\n",
    "    errors = np.full(len(DataFrame_OutliersDetections),fill_value=np.nan)\n",
    "    outliers = np.full(len(DataFrame_OutliersDetections),fill_value=np.nan)\n",
    "\n",
    "    for type in types:\n",
    "        x = DataFrame_OutliersDetections.loc[:,features].values\n",
    "        F = x.sum(1)\n",
    "        mask = np.zeros(x.shape[0])\n",
    "        mask[np.isfinite(F)] = 1\n",
    "        mask_type = mask * np.array(DataFrame_OutliersDetections[\"group\"] == type)\n",
    "        Curr_df = DataFrame_OutliersDetections.loc[mask_type==1,features]\n",
    "\n",
    "        x = Curr_df.values\n",
    "        if name == 'pca_approx':\n",
    "\n",
    "            x = StandardScaler().fit_transform(x)\n",
    "            # F = x.sum(1)\n",
    "            # x = x[np.isfinite(F),:]\n",
    "            # mask[1-np.isfinite(F)] = False\n",
    "            # pd.DataFrame(data = Curr_df, columns = features).head()\n",
    "            # pca = PCA(n_components=2)\n",
    "            lower_dimensional_data = algorithm.fit_transform(x)\n",
    "            pproximation = algorithm.inverse_transform(lower_dimensional_data)\n",
    "\n",
    "            err = np.linalg.norm(x-pproximation,2,axis=1)\n",
    "\n",
    "            errors[mask_type==1] = err\n",
    "            outliers[mask_type==1] = (err < 5) * 2 - 1\n",
    "            if False:\n",
    "                plt.scatter(lower_dimensional_data[:,0],lower_dimensional_data[:,1],c=err>5)\n",
    "                plt.title(type)\n",
    "                plt.show()\n",
    "        else:\n",
    "            algorithm.fit(x)\n",
    "            if name == \"Robust covariance\":\n",
    "                errors[mask_type==1] = algorithm.mahalanobis(x)\n",
    "                outliers[mask_type==1] = algorithm.predict(x)\n",
    "\n",
    "            if  \"Local Outlier Factor\" in name:\n",
    "                errors[mask_type==1] = algorithm.negative_outlier_factor_\n",
    "                outliers[mask_type==1] = algorithm.fit_predict(x)\n",
    "            else:\n",
    "                y_pred = algorithm.fit(x).predict(x)\n",
    "\n",
    "\n",
    "\n",
    "        # Curr_df[name] = errors[mask_type==1]\n",
    "        # Curr_df[f'{name}_outliers'] = outliers[mask_type==1]\n",
    "        # Curr_df.set_index(name, inplace = True,\n",
    "        #                         append = True, drop = False)\n",
    "        # file =   f'{type}_df_outliers_det.csv'\n",
    "        # Curr_df.to_csv(file)\n",
    "    DataFrame_OutliersDetections[name] = errors\n",
    "    DataFrame_OutliersDetections[f'{name}_outliers'] = outliers\n",
    "    DataFrame_OutliersDetections.set_index(name, inplace = True,\n",
    "                            append = True, drop = False)\n",
    "\n",
    "    DataFrame_OutliersDetections.to_csv(path + \"//\" + 'vat1_df4.csv', index=None)    "
   ]
  },
  {
   "cell_type": "code",
   "execution_count": null,
   "id": "e2f11b60",
   "metadata": {},
   "outputs": [],
   "source": [
    "DataFrame_OutliersDetections[\"group\"].value_counts()"
   ]
  },
  {
   "cell_type": "code",
   "execution_count": null,
   "id": "1be19c06",
   "metadata": {},
   "outputs": [],
   "source": [
    "df_clean = DataFrame_OutliersDetections[DataFrame_OutliersDetections['Local Outlier Factor 10_outliers'] == 1]\n",
    "df_clean[\"group\"].value_counts()"
   ]
  },
  {
   "cell_type": "code",
   "execution_count": null,
   "id": "0cdbc129",
   "metadata": {},
   "outputs": [],
   "source": [
    "## export for integ"
   ]
  },
  {
   "cell_type": "code",
   "execution_count": null,
   "id": "557c2885",
   "metadata": {},
   "outputs": [],
   "source": [
    "df_integ = df_clean.groupby(level=2).mean()\n",
    "df_integ = df_integ.reset_index()"
   ]
  },
  {
   "cell_type": "code",
   "execution_count": null,
   "id": "eecf3e39",
   "metadata": {},
   "outputs": [],
   "source": [
    "df_clean.to_csv(path + \"//\" + 'vat1_df5.csv', index=None)    \n",
    "df_integ.to_csv(path + \"//\" + 'vat1_df_integ.csv', index=None)    "
   ]
  },
  {
   "cell_type": "code",
   "execution_count": null,
   "id": "b96a0b8b",
   "metadata": {},
   "outputs": [],
   "source": [
    "#normalize data"
   ]
  },
  {
   "cell_type": "code",
   "execution_count": 95,
   "id": "2556ed88",
   "metadata": {
    "scrolled": false
   },
   "outputs": [
    {
     "name": "stderr",
     "output_type": "stream",
     "text": [
      "C:\\Users\\Uri8s\\AppData\\Local\\Temp/ipykernel_28064/1008584565.py:3: FutureWarning:\n",
      "\n",
      "Dropping of nuisance columns in DataFrame reductions (with 'numeric_only=None') is deprecated; in a future version this will raise TypeError.  Select only valid columns before calling the reduction.\n",
      "\n"
     ]
    }
   ],
   "source": [
    "#hc mean norm\n",
    "hc = df_clean[(df_clean['group'] == 'HCDMSO')]\n",
    "hc_mean = hc.mean()\n",
    "Nh_df = df_clean/hc_mean"
   ]
  },
  {
   "cell_type": "code",
   "execution_count": 98,
   "id": "981d84e2",
   "metadata": {},
   "outputs": [],
   "source": [
    "df_log = df_clean.drop(columns=[\"group_with_p\", \"group\", \"group_with_id\", \"group_p\",\n",
    "                           'Local Outlier Factor 8', \"Cell_id\",\n",
    "       'Local Outlier Factor 8_outliers', 'Local Outlier Factor 10',\n",
    "       'Local Outlier Factor 10_outliers', 'Local Outlier Factor 30',\n",
    "       'Local Outlier Factor 30_outliers'])\n",
    "for col in df_log:\n",
    "    df_log[col] = np.log(df_log[col])\n",
    "    NL_df = df_log.copy()"
   ]
  },
  {
   "cell_type": "code",
   "execution_count": 102,
   "id": "72815a33",
   "metadata": {},
   "outputs": [],
   "source": [
    "df_log_2 = df_clean.drop(columns=[\"group_with_p\", \"group\", \"group_with_id\", \"group_p\",\n",
    "                           'Local Outlier Factor 8', \"Cell_id\",\n",
    "       'Local Outlier Factor 8_outliers', 'Local Outlier Factor 10',\n",
    "       'Local Outlier Factor 10_outliers', 'Local Outlier Factor 30',\n",
    "       'Local Outlier Factor 30_outliers'])\n",
    "for col in df_log_2:\n",
    "        df_log_2[col] = np.log(1+df_log_2[col]-min(df_log_2[col]))\n",
    "        NL2_df = df_log_2.copy()"
   ]
  },
  {
   "cell_type": "code",
   "execution_count": 103,
   "id": "ca10dd0d",
   "metadata": {},
   "outputs": [],
   "source": [
    "df_max_scaled = df_clean.drop(columns=[\"group_with_p\", \"group\", \"group_with_id\", \"group_p\",\n",
    "                           'Local Outlier Factor 8', \"Cell_id\",\n",
    "       'Local Outlier Factor 8_outliers', 'Local Outlier Factor 10',\n",
    "       'Local Outlier Factor 10_outliers', 'Local Outlier Factor 30',\n",
    "       'Local Outlier Factor 30_outliers'])\n",
    "for column in df_max_scaled.columns:\n",
    "        df_max_scaled[column] = df_max_scaled[column]  / df_max_scaled[column].abs().max()\n",
    "        NM_df = df_max_scaled.copy()"
   ]
  },
  {
   "cell_type": "code",
   "execution_count": 104,
   "id": "cd339918",
   "metadata": {},
   "outputs": [
    {
     "name": "stdout",
     "output_type": "stream",
     "text": [
      "done\n"
     ]
    }
   ],
   "source": [
    "#initialze the excel writer\n",
    "writer = pd.ExcelWriter(path + '//' + 'vat1_normalzied-excel.xlsx', engine='xlsxwriter')\n",
    "\n",
    "    #store your dataframes in a  dict, where the key is the sheet name you want\n",
    "frames = {'hc': Nh_df, 'log': NL_df, 'log2':NL2_df,\n",
    "              'max': NM_df}\n",
    "    #frames = {'HCUN': HCUN, 'DSUN': DSUN}\n",
    "    #now loop thru and put each on a specific sheet\n",
    "for sheet, frame in  frames.items(): # .use .items for python 3.X\n",
    "    frame.to_excel(writer, sheet_name = sheet)\n",
    "\n",
    "    #critical last step\n",
    "writer.save()\n",
    "    #writer.close()\n",
    "print('done')\n",
    "#'24_1': N_df_24_1"
   ]
  },
  {
   "cell_type": "code",
   "execution_count": null,
   "id": "5215f538",
   "metadata": {},
   "outputs": [],
   "source": [
    "#feat QC"
   ]
  },
  {
   "cell_type": "code",
   "execution_count": null,
   "id": "adcd4c61",
   "metadata": {},
   "outputs": [],
   "source": [
    "df_var_calc = df_clean.copy()\n",
    "df_var_calc = df_var_calc.drop(columns=['Local Outlier Factor 30', 'Local Outlier Factor 30_outliers',\n",
    "       'Local Outlier Factor 10', 'Local Outlier Factor 10_outliers',\n",
    "       'Local Outlier Factor 8', 'Local Outlier Factor 8_outliers', 'group', \"Cell_id\",\n",
    "       'group_with_id', 'group_with_p', 'group_p'])"
   ]
  },
  {
   "cell_type": "code",
   "execution_count": null,
   "id": "92fa9d02",
   "metadata": {},
   "outputs": [],
   "source": [
    "#variance each feature\n",
    "feature_variances = df_var_calc.var()\n",
    "\n",
    "##standard deviation each feature\n",
    "feature_std_devs = df_var_calc.std()\n",
    "\n",
    "###CV each feature\n",
    "feature_cv = df_var_calc.std() / df_var_calc.mean()\n",
    "\n",
    "###printresults\n",
    "print(\"Feature Variance:\")\n",
    "print(feature_variances)\n",
    "\n",
    "print(\"\\nFeature Standard Deviation:\")\n",
    "print(feature_std_devs)\n",
    "\n",
    "print(\"\\nFeature Coefficient of Variation (CV):\")\n",
    "print(feature_cv)\n",
    "\n",
    "\n",
    "feature_variances.to_csv(path + \"//\" + 'vat1-feature_variances.csv', index=None)\n",
    "feature_std_devs.to_csv(path + \"//\" + 'vat1-feature_std_devs.csv', index=None)\n",
    "feature_cv.to_csv(path + \"//\" + 'vat1-feature_coefficient_of_variation.csv', index=None)"
   ]
  },
  {
   "cell_type": "code",
   "execution_count": null,
   "id": "875767ce",
   "metadata": {},
   "outputs": [],
   "source": [
    "# Visualization\n",
    "# Plot feature variances\n",
    "plt.bar(range(len(feature_variances)), feature_variances, align='center')\n",
    "plt.xticks(range(len(feature_variances)), feature_variances.index, rotation=45)\n",
    "plt.title('Feature Variance')\n",
    "plt.ylabel('Variance')\n",
    "plt.xlabel('features')\n",
    "plt.show()\n",
    "plt.savefig(path + '//' + \"vat1-feature_var.pdf\", dpi = 600)\n",
    "plt.close()\n",
    "print(\"var_done!\")"
   ]
  },
  {
   "cell_type": "code",
   "execution_count": null,
   "id": "85743e1e",
   "metadata": {},
   "outputs": [],
   "source": [
    "# Plot feature standard deviations\n",
    "plt.bar(range(len(feature_std_devs)), feature_std_devs, align='center')\n",
    "plt.xticks(range(len(feature_std_devs)), feature_std_devs.index, rotation=45)\n",
    "plt.title('Feature Standard Deviation')\n",
    "plt.ylabel('Standard Deviation')\n",
    "plt.xlabel('features')\n",
    "plt.show()\n",
    "plt.savefig(path + '//' + \"vat1-feature_sd.pdf\", dpi = 600)\n",
    "plt.close()\n",
    "print(\"sd_done!\")"
   ]
  },
  {
   "cell_type": "code",
   "execution_count": null,
   "id": "e1d9f810",
   "metadata": {},
   "outputs": [],
   "source": [
    "# Plot feature coefficient of variation\n",
    "plt.bar(range(len(feature_cv)), feature_cv, align='center')\n",
    "plt.xticks(range(len(feature_cv)), feature_cv.index, rotation=45)\n",
    "plt.title('Feature Coefficient of Variation (CV)')\n",
    "plt.ylabel('Coefficient of Variation')\n",
    "plt.xlabel('features')\n",
    "plt.show()\n",
    "plt.savefig(path + '//' + \"vat1-feature_cv.pdf\", dpi = 600)\n",
    "plt.close()\n",
    "print(\"cv_done!\")\n",
    "\n",
    "plt.tight_layout()\n",
    "plt.show()"
   ]
  },
  {
   "cell_type": "code",
   "execution_count": 70,
   "id": "217575b3",
   "metadata": {},
   "outputs": [],
   "source": [
    "### make sure to groupby mean before plotting"
   ]
  },
  {
   "cell_type": "code",
   "execution_count": null,
   "id": "132b1877",
   "metadata": {},
   "outputs": [],
   "source": [
    "df_plot = df_log.groupby(level=2).mean()\n",
    "df_plot = df_plot.reset_index()"
   ]
  },
  {
   "cell_type": "code",
   "execution_count": 113,
   "id": "98938d2f",
   "metadata": {
    "scrolled": true
   },
   "outputs": [
    {
     "data": {
      "application/vnd.plotly.v1+json": {
       "config": {
        "plotlyServerURL": "https://plot.ly"
       },
       "data": [
        {
         "alignmentgroup": "True",
         "hovertemplate": "group_with_id=%{y}<extra></extra>",
         "legendgroup": "",
         "marker": {
          "color": "#636efa",
          "pattern": {
           "shape": ""
          }
         },
         "name": "",
         "offsetgroup": "",
         "orientation": "v",
         "showlegend": false,
         "textposition": "auto",
         "type": "bar",
         "x": [
          "HCDMSO1016.0",
          "HCDMSO143.0",
          "HCDMSO1650.0",
          "HCDMSO1653.0",
          "HCDMSO495.0",
          "HCDMSO730.0",
          "MDMSO4212.0",
          "MDMSO4715.0",
          "MDMSO4721.0",
          "MDMSO4799.0",
          "MDMSO4819.0",
          "MDMSO4887.0",
          "Mmdivi1 25uM4212.0",
          "Mmdivi1 25uM4715.0",
          "Mmdivi1 25uM4721.0",
          "Mmdivi1 25uM4799.0",
          "Mmdivi1 25uM4819.0",
          "Mmdivi1 25uM4887.0",
          "PREDMSO4689.0",
          "PREDMSO4717.0",
          "PREDMSO4719.0",
          "PREDMSO4837.0",
          "PREmdivi1 25uM4689.0",
          "PREmdivi1 25uM4717.0",
          "PREmdivi1 25uM4719.0",
          "PREmdivi1 25uM4837.0",
          "SDMSO2165.0",
          "SDMSO305.0",
          "SDMSO4287.0",
          "SDMSO4476.0",
          "SDMSO4687.0",
          "SDMSO4709.0",
          "SDMSO4807.0",
          "Smdivi1 25uM2165.0",
          "Smdivi1 25uM305.0",
          "Smdivi1 25uM4287.0",
          "Smdivi1 25uM4476.0",
          "Smdivi1 25uM4687.0",
          "Smdivi1 25uM4709.0",
          "Smdivi1 25uM4807.0"
         ],
         "xaxis": "x",
         "y": [
          "HCDMSO1016.0",
          "HCDMSO143.0",
          "HCDMSO1650.0",
          "HCDMSO1653.0",
          "HCDMSO495.0",
          "HCDMSO730.0",
          "MDMSO4212.0",
          "MDMSO4715.0",
          "MDMSO4721.0",
          "MDMSO4799.0",
          "MDMSO4819.0",
          "MDMSO4887.0",
          "Mmdivi1 25uM4212.0",
          "Mmdivi1 25uM4715.0",
          "Mmdivi1 25uM4721.0",
          "Mmdivi1 25uM4799.0",
          "Mmdivi1 25uM4819.0",
          "Mmdivi1 25uM4887.0",
          "PREDMSO4689.0",
          "PREDMSO4717.0",
          "PREDMSO4719.0",
          "PREDMSO4837.0",
          "PREmdivi1 25uM4689.0",
          "PREmdivi1 25uM4717.0",
          "PREmdivi1 25uM4719.0",
          "PREmdivi1 25uM4837.0",
          "SDMSO2165.0",
          "SDMSO305.0",
          "SDMSO4287.0",
          "SDMSO4476.0",
          "SDMSO4687.0",
          "SDMSO4709.0",
          "SDMSO4807.0",
          "Smdivi1 25uM2165.0",
          "Smdivi1 25uM305.0",
          "Smdivi1 25uM4287.0",
          "Smdivi1 25uM4476.0",
          "Smdivi1 25uM4687.0",
          "Smdivi1 25uM4709.0",
          "Smdivi1 25uM4807.0"
         ],
         "yaxis": "y"
        }
       ],
       "layout": {
        "barmode": "group",
        "legend": {
         "tracegroupgap": 0
        },
        "margin": {
         "t": 60
        },
        "template": {
         "data": {
          "bar": [
           {
            "error_x": {
             "color": "#2a3f5f"
            },
            "error_y": {
             "color": "#2a3f5f"
            },
            "marker": {
             "line": {
              "color": "#E5ECF6",
              "width": 0.5
             },
             "pattern": {
              "fillmode": "overlay",
              "size": 10,
              "solidity": 0.2
             }
            },
            "type": "bar"
           }
          ],
          "barpolar": [
           {
            "marker": {
             "line": {
              "color": "#E5ECF6",
              "width": 0.5
             },
             "pattern": {
              "fillmode": "overlay",
              "size": 10,
              "solidity": 0.2
             }
            },
            "type": "barpolar"
           }
          ],
          "carpet": [
           {
            "aaxis": {
             "endlinecolor": "#2a3f5f",
             "gridcolor": "white",
             "linecolor": "white",
             "minorgridcolor": "white",
             "startlinecolor": "#2a3f5f"
            },
            "baxis": {
             "endlinecolor": "#2a3f5f",
             "gridcolor": "white",
             "linecolor": "white",
             "minorgridcolor": "white",
             "startlinecolor": "#2a3f5f"
            },
            "type": "carpet"
           }
          ],
          "choropleth": [
           {
            "colorbar": {
             "outlinewidth": 0,
             "ticks": ""
            },
            "type": "choropleth"
           }
          ],
          "contour": [
           {
            "colorbar": {
             "outlinewidth": 0,
             "ticks": ""
            },
            "colorscale": [
             [
              0,
              "#0d0887"
             ],
             [
              0.1111111111111111,
              "#46039f"
             ],
             [
              0.2222222222222222,
              "#7201a8"
             ],
             [
              0.3333333333333333,
              "#9c179e"
             ],
             [
              0.4444444444444444,
              "#bd3786"
             ],
             [
              0.5555555555555556,
              "#d8576b"
             ],
             [
              0.6666666666666666,
              "#ed7953"
             ],
             [
              0.7777777777777778,
              "#fb9f3a"
             ],
             [
              0.8888888888888888,
              "#fdca26"
             ],
             [
              1,
              "#f0f921"
             ]
            ],
            "type": "contour"
           }
          ],
          "contourcarpet": [
           {
            "colorbar": {
             "outlinewidth": 0,
             "ticks": ""
            },
            "type": "contourcarpet"
           }
          ],
          "heatmap": [
           {
            "colorbar": {
             "outlinewidth": 0,
             "ticks": ""
            },
            "colorscale": [
             [
              0,
              "#0d0887"
             ],
             [
              0.1111111111111111,
              "#46039f"
             ],
             [
              0.2222222222222222,
              "#7201a8"
             ],
             [
              0.3333333333333333,
              "#9c179e"
             ],
             [
              0.4444444444444444,
              "#bd3786"
             ],
             [
              0.5555555555555556,
              "#d8576b"
             ],
             [
              0.6666666666666666,
              "#ed7953"
             ],
             [
              0.7777777777777778,
              "#fb9f3a"
             ],
             [
              0.8888888888888888,
              "#fdca26"
             ],
             [
              1,
              "#f0f921"
             ]
            ],
            "type": "heatmap"
           }
          ],
          "heatmapgl": [
           {
            "colorbar": {
             "outlinewidth": 0,
             "ticks": ""
            },
            "colorscale": [
             [
              0,
              "#0d0887"
             ],
             [
              0.1111111111111111,
              "#46039f"
             ],
             [
              0.2222222222222222,
              "#7201a8"
             ],
             [
              0.3333333333333333,
              "#9c179e"
             ],
             [
              0.4444444444444444,
              "#bd3786"
             ],
             [
              0.5555555555555556,
              "#d8576b"
             ],
             [
              0.6666666666666666,
              "#ed7953"
             ],
             [
              0.7777777777777778,
              "#fb9f3a"
             ],
             [
              0.8888888888888888,
              "#fdca26"
             ],
             [
              1,
              "#f0f921"
             ]
            ],
            "type": "heatmapgl"
           }
          ],
          "histogram": [
           {
            "marker": {
             "pattern": {
              "fillmode": "overlay",
              "size": 10,
              "solidity": 0.2
             }
            },
            "type": "histogram"
           }
          ],
          "histogram2d": [
           {
            "colorbar": {
             "outlinewidth": 0,
             "ticks": ""
            },
            "colorscale": [
             [
              0,
              "#0d0887"
             ],
             [
              0.1111111111111111,
              "#46039f"
             ],
             [
              0.2222222222222222,
              "#7201a8"
             ],
             [
              0.3333333333333333,
              "#9c179e"
             ],
             [
              0.4444444444444444,
              "#bd3786"
             ],
             [
              0.5555555555555556,
              "#d8576b"
             ],
             [
              0.6666666666666666,
              "#ed7953"
             ],
             [
              0.7777777777777778,
              "#fb9f3a"
             ],
             [
              0.8888888888888888,
              "#fdca26"
             ],
             [
              1,
              "#f0f921"
             ]
            ],
            "type": "histogram2d"
           }
          ],
          "histogram2dcontour": [
           {
            "colorbar": {
             "outlinewidth": 0,
             "ticks": ""
            },
            "colorscale": [
             [
              0,
              "#0d0887"
             ],
             [
              0.1111111111111111,
              "#46039f"
             ],
             [
              0.2222222222222222,
              "#7201a8"
             ],
             [
              0.3333333333333333,
              "#9c179e"
             ],
             [
              0.4444444444444444,
              "#bd3786"
             ],
             [
              0.5555555555555556,
              "#d8576b"
             ],
             [
              0.6666666666666666,
              "#ed7953"
             ],
             [
              0.7777777777777778,
              "#fb9f3a"
             ],
             [
              0.8888888888888888,
              "#fdca26"
             ],
             [
              1,
              "#f0f921"
             ]
            ],
            "type": "histogram2dcontour"
           }
          ],
          "mesh3d": [
           {
            "colorbar": {
             "outlinewidth": 0,
             "ticks": ""
            },
            "type": "mesh3d"
           }
          ],
          "parcoords": [
           {
            "line": {
             "colorbar": {
              "outlinewidth": 0,
              "ticks": ""
             }
            },
            "type": "parcoords"
           }
          ],
          "pie": [
           {
            "automargin": true,
            "type": "pie"
           }
          ],
          "scatter": [
           {
            "fillpattern": {
             "fillmode": "overlay",
             "size": 10,
             "solidity": 0.2
            },
            "type": "scatter"
           }
          ],
          "scatter3d": [
           {
            "line": {
             "colorbar": {
              "outlinewidth": 0,
              "ticks": ""
             }
            },
            "marker": {
             "colorbar": {
              "outlinewidth": 0,
              "ticks": ""
             }
            },
            "type": "scatter3d"
           }
          ],
          "scattercarpet": [
           {
            "marker": {
             "colorbar": {
              "outlinewidth": 0,
              "ticks": ""
             }
            },
            "type": "scattercarpet"
           }
          ],
          "scattergeo": [
           {
            "marker": {
             "colorbar": {
              "outlinewidth": 0,
              "ticks": ""
             }
            },
            "type": "scattergeo"
           }
          ],
          "scattergl": [
           {
            "marker": {
             "colorbar": {
              "outlinewidth": 0,
              "ticks": ""
             }
            },
            "type": "scattergl"
           }
          ],
          "scattermapbox": [
           {
            "marker": {
             "colorbar": {
              "outlinewidth": 0,
              "ticks": ""
             }
            },
            "type": "scattermapbox"
           }
          ],
          "scatterpolar": [
           {
            "marker": {
             "colorbar": {
              "outlinewidth": 0,
              "ticks": ""
             }
            },
            "type": "scatterpolar"
           }
          ],
          "scatterpolargl": [
           {
            "marker": {
             "colorbar": {
              "outlinewidth": 0,
              "ticks": ""
             }
            },
            "type": "scatterpolargl"
           }
          ],
          "scatterternary": [
           {
            "marker": {
             "colorbar": {
              "outlinewidth": 0,
              "ticks": ""
             }
            },
            "type": "scatterternary"
           }
          ],
          "surface": [
           {
            "colorbar": {
             "outlinewidth": 0,
             "ticks": ""
            },
            "colorscale": [
             [
              0,
              "#0d0887"
             ],
             [
              0.1111111111111111,
              "#46039f"
             ],
             [
              0.2222222222222222,
              "#7201a8"
             ],
             [
              0.3333333333333333,
              "#9c179e"
             ],
             [
              0.4444444444444444,
              "#bd3786"
             ],
             [
              0.5555555555555556,
              "#d8576b"
             ],
             [
              0.6666666666666666,
              "#ed7953"
             ],
             [
              0.7777777777777778,
              "#fb9f3a"
             ],
             [
              0.8888888888888888,
              "#fdca26"
             ],
             [
              1,
              "#f0f921"
             ]
            ],
            "type": "surface"
           }
          ],
          "table": [
           {
            "cells": {
             "fill": {
              "color": "#EBF0F8"
             },
             "line": {
              "color": "white"
             }
            },
            "header": {
             "fill": {
              "color": "#C8D4E3"
             },
             "line": {
              "color": "white"
             }
            },
            "type": "table"
           }
          ]
         },
         "layout": {
          "annotationdefaults": {
           "arrowcolor": "#2a3f5f",
           "arrowhead": 0,
           "arrowwidth": 1
          },
          "autotypenumbers": "strict",
          "coloraxis": {
           "colorbar": {
            "outlinewidth": 0,
            "ticks": ""
           }
          },
          "colorscale": {
           "diverging": [
            [
             0,
             "#8e0152"
            ],
            [
             0.1,
             "#c51b7d"
            ],
            [
             0.2,
             "#de77ae"
            ],
            [
             0.3,
             "#f1b6da"
            ],
            [
             0.4,
             "#fde0ef"
            ],
            [
             0.5,
             "#f7f7f7"
            ],
            [
             0.6,
             "#e6f5d0"
            ],
            [
             0.7,
             "#b8e186"
            ],
            [
             0.8,
             "#7fbc41"
            ],
            [
             0.9,
             "#4d9221"
            ],
            [
             1,
             "#276419"
            ]
           ],
           "sequential": [
            [
             0,
             "#0d0887"
            ],
            [
             0.1111111111111111,
             "#46039f"
            ],
            [
             0.2222222222222222,
             "#7201a8"
            ],
            [
             0.3333333333333333,
             "#9c179e"
            ],
            [
             0.4444444444444444,
             "#bd3786"
            ],
            [
             0.5555555555555556,
             "#d8576b"
            ],
            [
             0.6666666666666666,
             "#ed7953"
            ],
            [
             0.7777777777777778,
             "#fb9f3a"
            ],
            [
             0.8888888888888888,
             "#fdca26"
            ],
            [
             1,
             "#f0f921"
            ]
           ],
           "sequentialminus": [
            [
             0,
             "#0d0887"
            ],
            [
             0.1111111111111111,
             "#46039f"
            ],
            [
             0.2222222222222222,
             "#7201a8"
            ],
            [
             0.3333333333333333,
             "#9c179e"
            ],
            [
             0.4444444444444444,
             "#bd3786"
            ],
            [
             0.5555555555555556,
             "#d8576b"
            ],
            [
             0.6666666666666666,
             "#ed7953"
            ],
            [
             0.7777777777777778,
             "#fb9f3a"
            ],
            [
             0.8888888888888888,
             "#fdca26"
            ],
            [
             1,
             "#f0f921"
            ]
           ]
          },
          "colorway": [
           "#636efa",
           "#EF553B",
           "#00cc96",
           "#ab63fa",
           "#FFA15A",
           "#19d3f3",
           "#FF6692",
           "#B6E880",
           "#FF97FF",
           "#FECB52"
          ],
          "font": {
           "color": "#2a3f5f"
          },
          "geo": {
           "bgcolor": "white",
           "lakecolor": "white",
           "landcolor": "#E5ECF6",
           "showlakes": true,
           "showland": true,
           "subunitcolor": "white"
          },
          "hoverlabel": {
           "align": "left"
          },
          "hovermode": "closest",
          "mapbox": {
           "style": "light"
          },
          "paper_bgcolor": "white",
          "plot_bgcolor": "#E5ECF6",
          "polar": {
           "angularaxis": {
            "gridcolor": "white",
            "linecolor": "white",
            "ticks": ""
           },
           "bgcolor": "#E5ECF6",
           "radialaxis": {
            "gridcolor": "white",
            "linecolor": "white",
            "ticks": ""
           }
          },
          "scene": {
           "xaxis": {
            "backgroundcolor": "#E5ECF6",
            "gridcolor": "white",
            "gridwidth": 2,
            "linecolor": "white",
            "showbackground": true,
            "ticks": "",
            "zerolinecolor": "white"
           },
           "yaxis": {
            "backgroundcolor": "#E5ECF6",
            "gridcolor": "white",
            "gridwidth": 2,
            "linecolor": "white",
            "showbackground": true,
            "ticks": "",
            "zerolinecolor": "white"
           },
           "zaxis": {
            "backgroundcolor": "#E5ECF6",
            "gridcolor": "white",
            "gridwidth": 2,
            "linecolor": "white",
            "showbackground": true,
            "ticks": "",
            "zerolinecolor": "white"
           }
          },
          "shapedefaults": {
           "line": {
            "color": "#2a3f5f"
           }
          },
          "ternary": {
           "aaxis": {
            "gridcolor": "white",
            "linecolor": "white",
            "ticks": ""
           },
           "baxis": {
            "gridcolor": "white",
            "linecolor": "white",
            "ticks": ""
           },
           "bgcolor": "#E5ECF6",
           "caxis": {
            "gridcolor": "white",
            "linecolor": "white",
            "ticks": ""
           }
          },
          "title": {
           "x": 0.05
          },
          "xaxis": {
           "automargin": true,
           "gridcolor": "white",
           "linecolor": "white",
           "ticks": "",
           "title": {
            "standoff": 15
           },
           "zerolinecolor": "white",
           "zerolinewidth": 2
          },
          "yaxis": {
           "automargin": true,
           "gridcolor": "white",
           "linecolor": "white",
           "ticks": "",
           "title": {
            "standoff": 15
           },
           "zerolinecolor": "white",
           "zerolinewidth": 2
          }
         }
        },
        "xaxis": {
         "anchor": "y",
         "domain": [
          0,
          1
         ],
         "title": {
          "text": "group_with_id"
         }
        },
        "yaxis": {
         "anchor": "x",
         "domain": [
          0,
          1
         ],
         "title": {
          "text": "group_with_id"
         }
        }
       }
      },
      "text/html": [
       "<div>                            <div id=\"86156b3d-3d7b-4b5c-b8ba-51da6dd86103\" class=\"plotly-graph-div\" style=\"height:525px; width:100%;\"></div>            <script type=\"text/javascript\">                require([\"plotly\"], function(Plotly) {                    window.PLOTLYENV=window.PLOTLYENV || {};                                    if (document.getElementById(\"86156b3d-3d7b-4b5c-b8ba-51da6dd86103\")) {                    Plotly.newPlot(                        \"86156b3d-3d7b-4b5c-b8ba-51da6dd86103\",                        [{\"alignmentgroup\":\"True\",\"hovertemplate\":\"group_with_id=%{y}<extra></extra>\",\"legendgroup\":\"\",\"marker\":{\"color\":\"#636efa\",\"pattern\":{\"shape\":\"\"}},\"name\":\"\",\"offsetgroup\":\"\",\"orientation\":\"v\",\"showlegend\":false,\"textposition\":\"auto\",\"x\":[\"HCDMSO1016.0\",\"HCDMSO143.0\",\"HCDMSO1650.0\",\"HCDMSO1653.0\",\"HCDMSO495.0\",\"HCDMSO730.0\",\"MDMSO4212.0\",\"MDMSO4715.0\",\"MDMSO4721.0\",\"MDMSO4799.0\",\"MDMSO4819.0\",\"MDMSO4887.0\",\"Mmdivi1 25uM4212.0\",\"Mmdivi1 25uM4715.0\",\"Mmdivi1 25uM4721.0\",\"Mmdivi1 25uM4799.0\",\"Mmdivi1 25uM4819.0\",\"Mmdivi1 25uM4887.0\",\"PREDMSO4689.0\",\"PREDMSO4717.0\",\"PREDMSO4719.0\",\"PREDMSO4837.0\",\"PREmdivi1 25uM4689.0\",\"PREmdivi1 25uM4717.0\",\"PREmdivi1 25uM4719.0\",\"PREmdivi1 25uM4837.0\",\"SDMSO2165.0\",\"SDMSO305.0\",\"SDMSO4287.0\",\"SDMSO4476.0\",\"SDMSO4687.0\",\"SDMSO4709.0\",\"SDMSO4807.0\",\"Smdivi1 25uM2165.0\",\"Smdivi1 25uM305.0\",\"Smdivi1 25uM4287.0\",\"Smdivi1 25uM4476.0\",\"Smdivi1 25uM4687.0\",\"Smdivi1 25uM4709.0\",\"Smdivi1 25uM4807.0\"],\"xaxis\":\"x\",\"y\":[\"HCDMSO1016.0\",\"HCDMSO143.0\",\"HCDMSO1650.0\",\"HCDMSO1653.0\",\"HCDMSO495.0\",\"HCDMSO730.0\",\"MDMSO4212.0\",\"MDMSO4715.0\",\"MDMSO4721.0\",\"MDMSO4799.0\",\"MDMSO4819.0\",\"MDMSO4887.0\",\"Mmdivi1 25uM4212.0\",\"Mmdivi1 25uM4715.0\",\"Mmdivi1 25uM4721.0\",\"Mmdivi1 25uM4799.0\",\"Mmdivi1 25uM4819.0\",\"Mmdivi1 25uM4887.0\",\"PREDMSO4689.0\",\"PREDMSO4717.0\",\"PREDMSO4719.0\",\"PREDMSO4837.0\",\"PREmdivi1 25uM4689.0\",\"PREmdivi1 25uM4717.0\",\"PREmdivi1 25uM4719.0\",\"PREmdivi1 25uM4837.0\",\"SDMSO2165.0\",\"SDMSO305.0\",\"SDMSO4287.0\",\"SDMSO4476.0\",\"SDMSO4687.0\",\"SDMSO4709.0\",\"SDMSO4807.0\",\"Smdivi1 25uM2165.0\",\"Smdivi1 25uM305.0\",\"Smdivi1 25uM4287.0\",\"Smdivi1 25uM4476.0\",\"Smdivi1 25uM4687.0\",\"Smdivi1 25uM4709.0\",\"Smdivi1 25uM4807.0\"],\"yaxis\":\"y\",\"type\":\"bar\"}],                        {\"template\":{\"data\":{\"histogram2dcontour\":[{\"type\":\"histogram2dcontour\",\"colorbar\":{\"outlinewidth\":0,\"ticks\":\"\"},\"colorscale\":[[0.0,\"#0d0887\"],[0.1111111111111111,\"#46039f\"],[0.2222222222222222,\"#7201a8\"],[0.3333333333333333,\"#9c179e\"],[0.4444444444444444,\"#bd3786\"],[0.5555555555555556,\"#d8576b\"],[0.6666666666666666,\"#ed7953\"],[0.7777777777777778,\"#fb9f3a\"],[0.8888888888888888,\"#fdca26\"],[1.0,\"#f0f921\"]]}],\"choropleth\":[{\"type\":\"choropleth\",\"colorbar\":{\"outlinewidth\":0,\"ticks\":\"\"}}],\"histogram2d\":[{\"type\":\"histogram2d\",\"colorbar\":{\"outlinewidth\":0,\"ticks\":\"\"},\"colorscale\":[[0.0,\"#0d0887\"],[0.1111111111111111,\"#46039f\"],[0.2222222222222222,\"#7201a8\"],[0.3333333333333333,\"#9c179e\"],[0.4444444444444444,\"#bd3786\"],[0.5555555555555556,\"#d8576b\"],[0.6666666666666666,\"#ed7953\"],[0.7777777777777778,\"#fb9f3a\"],[0.8888888888888888,\"#fdca26\"],[1.0,\"#f0f921\"]]}],\"heatmap\":[{\"type\":\"heatmap\",\"colorbar\":{\"outlinewidth\":0,\"ticks\":\"\"},\"colorscale\":[[0.0,\"#0d0887\"],[0.1111111111111111,\"#46039f\"],[0.2222222222222222,\"#7201a8\"],[0.3333333333333333,\"#9c179e\"],[0.4444444444444444,\"#bd3786\"],[0.5555555555555556,\"#d8576b\"],[0.6666666666666666,\"#ed7953\"],[0.7777777777777778,\"#fb9f3a\"],[0.8888888888888888,\"#fdca26\"],[1.0,\"#f0f921\"]]}],\"heatmapgl\":[{\"type\":\"heatmapgl\",\"colorbar\":{\"outlinewidth\":0,\"ticks\":\"\"},\"colorscale\":[[0.0,\"#0d0887\"],[0.1111111111111111,\"#46039f\"],[0.2222222222222222,\"#7201a8\"],[0.3333333333333333,\"#9c179e\"],[0.4444444444444444,\"#bd3786\"],[0.5555555555555556,\"#d8576b\"],[0.6666666666666666,\"#ed7953\"],[0.7777777777777778,\"#fb9f3a\"],[0.8888888888888888,\"#fdca26\"],[1.0,\"#f0f921\"]]}],\"contourcarpet\":[{\"type\":\"contourcarpet\",\"colorbar\":{\"outlinewidth\":0,\"ticks\":\"\"}}],\"contour\":[{\"type\":\"contour\",\"colorbar\":{\"outlinewidth\":0,\"ticks\":\"\"},\"colorscale\":[[0.0,\"#0d0887\"],[0.1111111111111111,\"#46039f\"],[0.2222222222222222,\"#7201a8\"],[0.3333333333333333,\"#9c179e\"],[0.4444444444444444,\"#bd3786\"],[0.5555555555555556,\"#d8576b\"],[0.6666666666666666,\"#ed7953\"],[0.7777777777777778,\"#fb9f3a\"],[0.8888888888888888,\"#fdca26\"],[1.0,\"#f0f921\"]]}],\"surface\":[{\"type\":\"surface\",\"colorbar\":{\"outlinewidth\":0,\"ticks\":\"\"},\"colorscale\":[[0.0,\"#0d0887\"],[0.1111111111111111,\"#46039f\"],[0.2222222222222222,\"#7201a8\"],[0.3333333333333333,\"#9c179e\"],[0.4444444444444444,\"#bd3786\"],[0.5555555555555556,\"#d8576b\"],[0.6666666666666666,\"#ed7953\"],[0.7777777777777778,\"#fb9f3a\"],[0.8888888888888888,\"#fdca26\"],[1.0,\"#f0f921\"]]}],\"mesh3d\":[{\"type\":\"mesh3d\",\"colorbar\":{\"outlinewidth\":0,\"ticks\":\"\"}}],\"scatter\":[{\"fillpattern\":{\"fillmode\":\"overlay\",\"size\":10,\"solidity\":0.2},\"type\":\"scatter\"}],\"parcoords\":[{\"type\":\"parcoords\",\"line\":{\"colorbar\":{\"outlinewidth\":0,\"ticks\":\"\"}}}],\"scatterpolargl\":[{\"type\":\"scatterpolargl\",\"marker\":{\"colorbar\":{\"outlinewidth\":0,\"ticks\":\"\"}}}],\"bar\":[{\"error_x\":{\"color\":\"#2a3f5f\"},\"error_y\":{\"color\":\"#2a3f5f\"},\"marker\":{\"line\":{\"color\":\"#E5ECF6\",\"width\":0.5},\"pattern\":{\"fillmode\":\"overlay\",\"size\":10,\"solidity\":0.2}},\"type\":\"bar\"}],\"scattergeo\":[{\"type\":\"scattergeo\",\"marker\":{\"colorbar\":{\"outlinewidth\":0,\"ticks\":\"\"}}}],\"scatterpolar\":[{\"type\":\"scatterpolar\",\"marker\":{\"colorbar\":{\"outlinewidth\":0,\"ticks\":\"\"}}}],\"histogram\":[{\"marker\":{\"pattern\":{\"fillmode\":\"overlay\",\"size\":10,\"solidity\":0.2}},\"type\":\"histogram\"}],\"scattergl\":[{\"type\":\"scattergl\",\"marker\":{\"colorbar\":{\"outlinewidth\":0,\"ticks\":\"\"}}}],\"scatter3d\":[{\"type\":\"scatter3d\",\"line\":{\"colorbar\":{\"outlinewidth\":0,\"ticks\":\"\"}},\"marker\":{\"colorbar\":{\"outlinewidth\":0,\"ticks\":\"\"}}}],\"scattermapbox\":[{\"type\":\"scattermapbox\",\"marker\":{\"colorbar\":{\"outlinewidth\":0,\"ticks\":\"\"}}}],\"scatterternary\":[{\"type\":\"scatterternary\",\"marker\":{\"colorbar\":{\"outlinewidth\":0,\"ticks\":\"\"}}}],\"scattercarpet\":[{\"type\":\"scattercarpet\",\"marker\":{\"colorbar\":{\"outlinewidth\":0,\"ticks\":\"\"}}}],\"carpet\":[{\"aaxis\":{\"endlinecolor\":\"#2a3f5f\",\"gridcolor\":\"white\",\"linecolor\":\"white\",\"minorgridcolor\":\"white\",\"startlinecolor\":\"#2a3f5f\"},\"baxis\":{\"endlinecolor\":\"#2a3f5f\",\"gridcolor\":\"white\",\"linecolor\":\"white\",\"minorgridcolor\":\"white\",\"startlinecolor\":\"#2a3f5f\"},\"type\":\"carpet\"}],\"table\":[{\"cells\":{\"fill\":{\"color\":\"#EBF0F8\"},\"line\":{\"color\":\"white\"}},\"header\":{\"fill\":{\"color\":\"#C8D4E3\"},\"line\":{\"color\":\"white\"}},\"type\":\"table\"}],\"barpolar\":[{\"marker\":{\"line\":{\"color\":\"#E5ECF6\",\"width\":0.5},\"pattern\":{\"fillmode\":\"overlay\",\"size\":10,\"solidity\":0.2}},\"type\":\"barpolar\"}],\"pie\":[{\"automargin\":true,\"type\":\"pie\"}]},\"layout\":{\"autotypenumbers\":\"strict\",\"colorway\":[\"#636efa\",\"#EF553B\",\"#00cc96\",\"#ab63fa\",\"#FFA15A\",\"#19d3f3\",\"#FF6692\",\"#B6E880\",\"#FF97FF\",\"#FECB52\"],\"font\":{\"color\":\"#2a3f5f\"},\"hovermode\":\"closest\",\"hoverlabel\":{\"align\":\"left\"},\"paper_bgcolor\":\"white\",\"plot_bgcolor\":\"#E5ECF6\",\"polar\":{\"bgcolor\":\"#E5ECF6\",\"angularaxis\":{\"gridcolor\":\"white\",\"linecolor\":\"white\",\"ticks\":\"\"},\"radialaxis\":{\"gridcolor\":\"white\",\"linecolor\":\"white\",\"ticks\":\"\"}},\"ternary\":{\"bgcolor\":\"#E5ECF6\",\"aaxis\":{\"gridcolor\":\"white\",\"linecolor\":\"white\",\"ticks\":\"\"},\"baxis\":{\"gridcolor\":\"white\",\"linecolor\":\"white\",\"ticks\":\"\"},\"caxis\":{\"gridcolor\":\"white\",\"linecolor\":\"white\",\"ticks\":\"\"}},\"coloraxis\":{\"colorbar\":{\"outlinewidth\":0,\"ticks\":\"\"}},\"colorscale\":{\"sequential\":[[0.0,\"#0d0887\"],[0.1111111111111111,\"#46039f\"],[0.2222222222222222,\"#7201a8\"],[0.3333333333333333,\"#9c179e\"],[0.4444444444444444,\"#bd3786\"],[0.5555555555555556,\"#d8576b\"],[0.6666666666666666,\"#ed7953\"],[0.7777777777777778,\"#fb9f3a\"],[0.8888888888888888,\"#fdca26\"],[1.0,\"#f0f921\"]],\"sequentialminus\":[[0.0,\"#0d0887\"],[0.1111111111111111,\"#46039f\"],[0.2222222222222222,\"#7201a8\"],[0.3333333333333333,\"#9c179e\"],[0.4444444444444444,\"#bd3786\"],[0.5555555555555556,\"#d8576b\"],[0.6666666666666666,\"#ed7953\"],[0.7777777777777778,\"#fb9f3a\"],[0.8888888888888888,\"#fdca26\"],[1.0,\"#f0f921\"]],\"diverging\":[[0,\"#8e0152\"],[0.1,\"#c51b7d\"],[0.2,\"#de77ae\"],[0.3,\"#f1b6da\"],[0.4,\"#fde0ef\"],[0.5,\"#f7f7f7\"],[0.6,\"#e6f5d0\"],[0.7,\"#b8e186\"],[0.8,\"#7fbc41\"],[0.9,\"#4d9221\"],[1,\"#276419\"]]},\"xaxis\":{\"gridcolor\":\"white\",\"linecolor\":\"white\",\"ticks\":\"\",\"title\":{\"standoff\":15},\"zerolinecolor\":\"white\",\"automargin\":true,\"zerolinewidth\":2},\"yaxis\":{\"gridcolor\":\"white\",\"linecolor\":\"white\",\"ticks\":\"\",\"title\":{\"standoff\":15},\"zerolinecolor\":\"white\",\"automargin\":true,\"zerolinewidth\":2},\"scene\":{\"xaxis\":{\"backgroundcolor\":\"#E5ECF6\",\"gridcolor\":\"white\",\"linecolor\":\"white\",\"showbackground\":true,\"ticks\":\"\",\"zerolinecolor\":\"white\",\"gridwidth\":2},\"yaxis\":{\"backgroundcolor\":\"#E5ECF6\",\"gridcolor\":\"white\",\"linecolor\":\"white\",\"showbackground\":true,\"ticks\":\"\",\"zerolinecolor\":\"white\",\"gridwidth\":2},\"zaxis\":{\"backgroundcolor\":\"#E5ECF6\",\"gridcolor\":\"white\",\"linecolor\":\"white\",\"showbackground\":true,\"ticks\":\"\",\"zerolinecolor\":\"white\",\"gridwidth\":2}},\"shapedefaults\":{\"line\":{\"color\":\"#2a3f5f\"}},\"annotationdefaults\":{\"arrowcolor\":\"#2a3f5f\",\"arrowhead\":0,\"arrowwidth\":1},\"geo\":{\"bgcolor\":\"white\",\"landcolor\":\"#E5ECF6\",\"subunitcolor\":\"white\",\"showland\":true,\"showlakes\":true,\"lakecolor\":\"white\"},\"title\":{\"x\":0.05},\"mapbox\":{\"style\":\"light\"}}},\"xaxis\":{\"anchor\":\"y\",\"domain\":[0.0,1.0],\"title\":{\"text\":\"group_with_id\"}},\"yaxis\":{\"anchor\":\"x\",\"domain\":[0.0,1.0],\"title\":{\"text\":\"group_with_id\"}},\"legend\":{\"tracegroupgap\":0},\"margin\":{\"t\":60},\"barmode\":\"group\"},                        {\"responsive\": true}                    ).then(function(){\n",
       "                            \n",
       "var gd = document.getElementById('86156b3d-3d7b-4b5c-b8ba-51da6dd86103');\n",
       "var x = new MutationObserver(function (mutations, observer) {{\n",
       "        var display = window.getComputedStyle(gd).display;\n",
       "        if (!display || display === 'none') {{\n",
       "            console.log([gd, 'removed!']);\n",
       "            Plotly.purge(gd);\n",
       "            observer.disconnect();\n",
       "        }}\n",
       "}});\n",
       "\n",
       "// Listen for the removal of the full notebook cells\n",
       "var notebookContainer = gd.closest('#notebook-container');\n",
       "if (notebookContainer) {{\n",
       "    x.observe(notebookContainer, {childList: true});\n",
       "}}\n",
       "\n",
       "// Listen for the clearing of the current output cell\n",
       "var outputEl = gd.closest('.output');\n",
       "if (outputEl) {{\n",
       "    x.observe(outputEl, {childList: true});\n",
       "}}\n",
       "\n",
       "                        })                };                });            </script>        </div>"
      ]
     },
     "metadata": {},
     "output_type": "display_data"
    },
    {
     "data": {
      "application/vnd.plotly.v1+json": {
       "config": {
        "plotlyServerURL": "https://plot.ly"
       },
       "data": [
        {
         "alignmentgroup": "True",
         "hovertemplate": "group_with_id=%{x}<br>vat1_intensity=%{y}<extra></extra>",
         "legendgroup": "",
         "marker": {
          "color": "#636efa",
          "pattern": {
           "shape": ""
          }
         },
         "name": "",
         "offsetgroup": "",
         "orientation": "v",
         "showlegend": false,
         "textposition": "auto",
         "type": "bar",
         "x": [
          "HCDMSO1016.0",
          "HCDMSO143.0",
          "HCDMSO1650.0",
          "HCDMSO1653.0",
          "HCDMSO495.0",
          "HCDMSO730.0",
          "MDMSO4212.0",
          "MDMSO4715.0",
          "MDMSO4721.0",
          "MDMSO4799.0",
          "MDMSO4819.0",
          "MDMSO4887.0",
          "Mmdivi1 25uM4212.0",
          "Mmdivi1 25uM4715.0",
          "Mmdivi1 25uM4721.0",
          "Mmdivi1 25uM4799.0",
          "Mmdivi1 25uM4819.0",
          "Mmdivi1 25uM4887.0",
          "PREDMSO4689.0",
          "PREDMSO4717.0",
          "PREDMSO4719.0",
          "PREDMSO4837.0",
          "PREmdivi1 25uM4689.0",
          "PREmdivi1 25uM4717.0",
          "PREmdivi1 25uM4719.0",
          "PREmdivi1 25uM4837.0",
          "SDMSO2165.0",
          "SDMSO305.0",
          "SDMSO4287.0",
          "SDMSO4476.0",
          "SDMSO4687.0",
          "SDMSO4709.0",
          "SDMSO4807.0",
          "Smdivi1 25uM2165.0",
          "Smdivi1 25uM305.0",
          "Smdivi1 25uM4287.0",
          "Smdivi1 25uM4476.0",
          "Smdivi1 25uM4687.0",
          "Smdivi1 25uM4709.0",
          "Smdivi1 25uM4807.0"
         ],
         "xaxis": "x",
         "y": [
          2.8901021569267407,
          2.72514585824146,
          2.8118217077329035,
          2.7027888166910428,
          2.7669524891019415,
          2.7754681181357808,
          2.6547390309258367,
          2.458119540096357,
          2.71583457254874,
          2.696868374482411,
          2.8520601297836423,
          2.7903471850842507,
          2.663655851039001,
          2.5913421028078734,
          2.676553171044437,
          2.728795960604337,
          2.89318069523599,
          2.86766737501573,
          2.6122810279854107,
          2.7529292269056254,
          2.6634518082655125,
          2.6792816589451323,
          2.6108306842626448,
          2.7992240386140916,
          2.665731821138879,
          2.64469703932126,
          2.6990161247748445,
          2.550507474760278,
          2.7109022214895746,
          2.805358797974051,
          2.6465732963713187,
          2.5421070171565217,
          2.427087447615584,
          2.881950942944495,
          2.552954403619049,
          2.9810252114272124,
          2.959218919151123,
          2.7362991900922107,
          2.566643019778798,
          2.719122587645318
         ],
         "yaxis": "y"
        }
       ],
       "layout": {
        "barmode": "group",
        "legend": {
         "tracegroupgap": 0
        },
        "margin": {
         "t": 60
        },
        "template": {
         "data": {
          "bar": [
           {
            "error_x": {
             "color": "#2a3f5f"
            },
            "error_y": {
             "color": "#2a3f5f"
            },
            "marker": {
             "line": {
              "color": "#E5ECF6",
              "width": 0.5
             },
             "pattern": {
              "fillmode": "overlay",
              "size": 10,
              "solidity": 0.2
             }
            },
            "type": "bar"
           }
          ],
          "barpolar": [
           {
            "marker": {
             "line": {
              "color": "#E5ECF6",
              "width": 0.5
             },
             "pattern": {
              "fillmode": "overlay",
              "size": 10,
              "solidity": 0.2
             }
            },
            "type": "barpolar"
           }
          ],
          "carpet": [
           {
            "aaxis": {
             "endlinecolor": "#2a3f5f",
             "gridcolor": "white",
             "linecolor": "white",
             "minorgridcolor": "white",
             "startlinecolor": "#2a3f5f"
            },
            "baxis": {
             "endlinecolor": "#2a3f5f",
             "gridcolor": "white",
             "linecolor": "white",
             "minorgridcolor": "white",
             "startlinecolor": "#2a3f5f"
            },
            "type": "carpet"
           }
          ],
          "choropleth": [
           {
            "colorbar": {
             "outlinewidth": 0,
             "ticks": ""
            },
            "type": "choropleth"
           }
          ],
          "contour": [
           {
            "colorbar": {
             "outlinewidth": 0,
             "ticks": ""
            },
            "colorscale": [
             [
              0,
              "#0d0887"
             ],
             [
              0.1111111111111111,
              "#46039f"
             ],
             [
              0.2222222222222222,
              "#7201a8"
             ],
             [
              0.3333333333333333,
              "#9c179e"
             ],
             [
              0.4444444444444444,
              "#bd3786"
             ],
             [
              0.5555555555555556,
              "#d8576b"
             ],
             [
              0.6666666666666666,
              "#ed7953"
             ],
             [
              0.7777777777777778,
              "#fb9f3a"
             ],
             [
              0.8888888888888888,
              "#fdca26"
             ],
             [
              1,
              "#f0f921"
             ]
            ],
            "type": "contour"
           }
          ],
          "contourcarpet": [
           {
            "colorbar": {
             "outlinewidth": 0,
             "ticks": ""
            },
            "type": "contourcarpet"
           }
          ],
          "heatmap": [
           {
            "colorbar": {
             "outlinewidth": 0,
             "ticks": ""
            },
            "colorscale": [
             [
              0,
              "#0d0887"
             ],
             [
              0.1111111111111111,
              "#46039f"
             ],
             [
              0.2222222222222222,
              "#7201a8"
             ],
             [
              0.3333333333333333,
              "#9c179e"
             ],
             [
              0.4444444444444444,
              "#bd3786"
             ],
             [
              0.5555555555555556,
              "#d8576b"
             ],
             [
              0.6666666666666666,
              "#ed7953"
             ],
             [
              0.7777777777777778,
              "#fb9f3a"
             ],
             [
              0.8888888888888888,
              "#fdca26"
             ],
             [
              1,
              "#f0f921"
             ]
            ],
            "type": "heatmap"
           }
          ],
          "heatmapgl": [
           {
            "colorbar": {
             "outlinewidth": 0,
             "ticks": ""
            },
            "colorscale": [
             [
              0,
              "#0d0887"
             ],
             [
              0.1111111111111111,
              "#46039f"
             ],
             [
              0.2222222222222222,
              "#7201a8"
             ],
             [
              0.3333333333333333,
              "#9c179e"
             ],
             [
              0.4444444444444444,
              "#bd3786"
             ],
             [
              0.5555555555555556,
              "#d8576b"
             ],
             [
              0.6666666666666666,
              "#ed7953"
             ],
             [
              0.7777777777777778,
              "#fb9f3a"
             ],
             [
              0.8888888888888888,
              "#fdca26"
             ],
             [
              1,
              "#f0f921"
             ]
            ],
            "type": "heatmapgl"
           }
          ],
          "histogram": [
           {
            "marker": {
             "pattern": {
              "fillmode": "overlay",
              "size": 10,
              "solidity": 0.2
             }
            },
            "type": "histogram"
           }
          ],
          "histogram2d": [
           {
            "colorbar": {
             "outlinewidth": 0,
             "ticks": ""
            },
            "colorscale": [
             [
              0,
              "#0d0887"
             ],
             [
              0.1111111111111111,
              "#46039f"
             ],
             [
              0.2222222222222222,
              "#7201a8"
             ],
             [
              0.3333333333333333,
              "#9c179e"
             ],
             [
              0.4444444444444444,
              "#bd3786"
             ],
             [
              0.5555555555555556,
              "#d8576b"
             ],
             [
              0.6666666666666666,
              "#ed7953"
             ],
             [
              0.7777777777777778,
              "#fb9f3a"
             ],
             [
              0.8888888888888888,
              "#fdca26"
             ],
             [
              1,
              "#f0f921"
             ]
            ],
            "type": "histogram2d"
           }
          ],
          "histogram2dcontour": [
           {
            "colorbar": {
             "outlinewidth": 0,
             "ticks": ""
            },
            "colorscale": [
             [
              0,
              "#0d0887"
             ],
             [
              0.1111111111111111,
              "#46039f"
             ],
             [
              0.2222222222222222,
              "#7201a8"
             ],
             [
              0.3333333333333333,
              "#9c179e"
             ],
             [
              0.4444444444444444,
              "#bd3786"
             ],
             [
              0.5555555555555556,
              "#d8576b"
             ],
             [
              0.6666666666666666,
              "#ed7953"
             ],
             [
              0.7777777777777778,
              "#fb9f3a"
             ],
             [
              0.8888888888888888,
              "#fdca26"
             ],
             [
              1,
              "#f0f921"
             ]
            ],
            "type": "histogram2dcontour"
           }
          ],
          "mesh3d": [
           {
            "colorbar": {
             "outlinewidth": 0,
             "ticks": ""
            },
            "type": "mesh3d"
           }
          ],
          "parcoords": [
           {
            "line": {
             "colorbar": {
              "outlinewidth": 0,
              "ticks": ""
             }
            },
            "type": "parcoords"
           }
          ],
          "pie": [
           {
            "automargin": true,
            "type": "pie"
           }
          ],
          "scatter": [
           {
            "fillpattern": {
             "fillmode": "overlay",
             "size": 10,
             "solidity": 0.2
            },
            "type": "scatter"
           }
          ],
          "scatter3d": [
           {
            "line": {
             "colorbar": {
              "outlinewidth": 0,
              "ticks": ""
             }
            },
            "marker": {
             "colorbar": {
              "outlinewidth": 0,
              "ticks": ""
             }
            },
            "type": "scatter3d"
           }
          ],
          "scattercarpet": [
           {
            "marker": {
             "colorbar": {
              "outlinewidth": 0,
              "ticks": ""
             }
            },
            "type": "scattercarpet"
           }
          ],
          "scattergeo": [
           {
            "marker": {
             "colorbar": {
              "outlinewidth": 0,
              "ticks": ""
             }
            },
            "type": "scattergeo"
           }
          ],
          "scattergl": [
           {
            "marker": {
             "colorbar": {
              "outlinewidth": 0,
              "ticks": ""
             }
            },
            "type": "scattergl"
           }
          ],
          "scattermapbox": [
           {
            "marker": {
             "colorbar": {
              "outlinewidth": 0,
              "ticks": ""
             }
            },
            "type": "scattermapbox"
           }
          ],
          "scatterpolar": [
           {
            "marker": {
             "colorbar": {
              "outlinewidth": 0,
              "ticks": ""
             }
            },
            "type": "scatterpolar"
           }
          ],
          "scatterpolargl": [
           {
            "marker": {
             "colorbar": {
              "outlinewidth": 0,
              "ticks": ""
             }
            },
            "type": "scatterpolargl"
           }
          ],
          "scatterternary": [
           {
            "marker": {
             "colorbar": {
              "outlinewidth": 0,
              "ticks": ""
             }
            },
            "type": "scatterternary"
           }
          ],
          "surface": [
           {
            "colorbar": {
             "outlinewidth": 0,
             "ticks": ""
            },
            "colorscale": [
             [
              0,
              "#0d0887"
             ],
             [
              0.1111111111111111,
              "#46039f"
             ],
             [
              0.2222222222222222,
              "#7201a8"
             ],
             [
              0.3333333333333333,
              "#9c179e"
             ],
             [
              0.4444444444444444,
              "#bd3786"
             ],
             [
              0.5555555555555556,
              "#d8576b"
             ],
             [
              0.6666666666666666,
              "#ed7953"
             ],
             [
              0.7777777777777778,
              "#fb9f3a"
             ],
             [
              0.8888888888888888,
              "#fdca26"
             ],
             [
              1,
              "#f0f921"
             ]
            ],
            "type": "surface"
           }
          ],
          "table": [
           {
            "cells": {
             "fill": {
              "color": "#EBF0F8"
             },
             "line": {
              "color": "white"
             }
            },
            "header": {
             "fill": {
              "color": "#C8D4E3"
             },
             "line": {
              "color": "white"
             }
            },
            "type": "table"
           }
          ]
         },
         "layout": {
          "annotationdefaults": {
           "arrowcolor": "#2a3f5f",
           "arrowhead": 0,
           "arrowwidth": 1
          },
          "autotypenumbers": "strict",
          "coloraxis": {
           "colorbar": {
            "outlinewidth": 0,
            "ticks": ""
           }
          },
          "colorscale": {
           "diverging": [
            [
             0,
             "#8e0152"
            ],
            [
             0.1,
             "#c51b7d"
            ],
            [
             0.2,
             "#de77ae"
            ],
            [
             0.3,
             "#f1b6da"
            ],
            [
             0.4,
             "#fde0ef"
            ],
            [
             0.5,
             "#f7f7f7"
            ],
            [
             0.6,
             "#e6f5d0"
            ],
            [
             0.7,
             "#b8e186"
            ],
            [
             0.8,
             "#7fbc41"
            ],
            [
             0.9,
             "#4d9221"
            ],
            [
             1,
             "#276419"
            ]
           ],
           "sequential": [
            [
             0,
             "#0d0887"
            ],
            [
             0.1111111111111111,
             "#46039f"
            ],
            [
             0.2222222222222222,
             "#7201a8"
            ],
            [
             0.3333333333333333,
             "#9c179e"
            ],
            [
             0.4444444444444444,
             "#bd3786"
            ],
            [
             0.5555555555555556,
             "#d8576b"
            ],
            [
             0.6666666666666666,
             "#ed7953"
            ],
            [
             0.7777777777777778,
             "#fb9f3a"
            ],
            [
             0.8888888888888888,
             "#fdca26"
            ],
            [
             1,
             "#f0f921"
            ]
           ],
           "sequentialminus": [
            [
             0,
             "#0d0887"
            ],
            [
             0.1111111111111111,
             "#46039f"
            ],
            [
             0.2222222222222222,
             "#7201a8"
            ],
            [
             0.3333333333333333,
             "#9c179e"
            ],
            [
             0.4444444444444444,
             "#bd3786"
            ],
            [
             0.5555555555555556,
             "#d8576b"
            ],
            [
             0.6666666666666666,
             "#ed7953"
            ],
            [
             0.7777777777777778,
             "#fb9f3a"
            ],
            [
             0.8888888888888888,
             "#fdca26"
            ],
            [
             1,
             "#f0f921"
            ]
           ]
          },
          "colorway": [
           "#636efa",
           "#EF553B",
           "#00cc96",
           "#ab63fa",
           "#FFA15A",
           "#19d3f3",
           "#FF6692",
           "#B6E880",
           "#FF97FF",
           "#FECB52"
          ],
          "font": {
           "color": "#2a3f5f"
          },
          "geo": {
           "bgcolor": "white",
           "lakecolor": "white",
           "landcolor": "#E5ECF6",
           "showlakes": true,
           "showland": true,
           "subunitcolor": "white"
          },
          "hoverlabel": {
           "align": "left"
          },
          "hovermode": "closest",
          "mapbox": {
           "style": "light"
          },
          "paper_bgcolor": "white",
          "plot_bgcolor": "#E5ECF6",
          "polar": {
           "angularaxis": {
            "gridcolor": "white",
            "linecolor": "white",
            "ticks": ""
           },
           "bgcolor": "#E5ECF6",
           "radialaxis": {
            "gridcolor": "white",
            "linecolor": "white",
            "ticks": ""
           }
          },
          "scene": {
           "xaxis": {
            "backgroundcolor": "#E5ECF6",
            "gridcolor": "white",
            "gridwidth": 2,
            "linecolor": "white",
            "showbackground": true,
            "ticks": "",
            "zerolinecolor": "white"
           },
           "yaxis": {
            "backgroundcolor": "#E5ECF6",
            "gridcolor": "white",
            "gridwidth": 2,
            "linecolor": "white",
            "showbackground": true,
            "ticks": "",
            "zerolinecolor": "white"
           },
           "zaxis": {
            "backgroundcolor": "#E5ECF6",
            "gridcolor": "white",
            "gridwidth": 2,
            "linecolor": "white",
            "showbackground": true,
            "ticks": "",
            "zerolinecolor": "white"
           }
          },
          "shapedefaults": {
           "line": {
            "color": "#2a3f5f"
           }
          },
          "ternary": {
           "aaxis": {
            "gridcolor": "white",
            "linecolor": "white",
            "ticks": ""
           },
           "baxis": {
            "gridcolor": "white",
            "linecolor": "white",
            "ticks": ""
           },
           "bgcolor": "#E5ECF6",
           "caxis": {
            "gridcolor": "white",
            "linecolor": "white",
            "ticks": ""
           }
          },
          "title": {
           "x": 0.05
          },
          "xaxis": {
           "automargin": true,
           "gridcolor": "white",
           "linecolor": "white",
           "ticks": "",
           "title": {
            "standoff": 15
           },
           "zerolinecolor": "white",
           "zerolinewidth": 2
          },
          "yaxis": {
           "automargin": true,
           "gridcolor": "white",
           "linecolor": "white",
           "ticks": "",
           "title": {
            "standoff": 15
           },
           "zerolinecolor": "white",
           "zerolinewidth": 2
          }
         }
        },
        "xaxis": {
         "anchor": "y",
         "domain": [
          0,
          1
         ],
         "title": {
          "text": "group_with_id"
         }
        },
        "yaxis": {
         "anchor": "x",
         "domain": [
          0,
          1
         ],
         "title": {
          "text": "vat1_intensity"
         }
        }
       }
      },
      "text/html": [
       "<div>                            <div id=\"ba063544-0bf2-40d6-bbf2-289a93108887\" class=\"plotly-graph-div\" style=\"height:525px; width:100%;\"></div>            <script type=\"text/javascript\">                require([\"plotly\"], function(Plotly) {                    window.PLOTLYENV=window.PLOTLYENV || {};                                    if (document.getElementById(\"ba063544-0bf2-40d6-bbf2-289a93108887\")) {                    Plotly.newPlot(                        \"ba063544-0bf2-40d6-bbf2-289a93108887\",                        [{\"alignmentgroup\":\"True\",\"hovertemplate\":\"group_with_id=%{x}<br>vat1_intensity=%{y}<extra></extra>\",\"legendgroup\":\"\",\"marker\":{\"color\":\"#636efa\",\"pattern\":{\"shape\":\"\"}},\"name\":\"\",\"offsetgroup\":\"\",\"orientation\":\"v\",\"showlegend\":false,\"textposition\":\"auto\",\"x\":[\"HCDMSO1016.0\",\"HCDMSO143.0\",\"HCDMSO1650.0\",\"HCDMSO1653.0\",\"HCDMSO495.0\",\"HCDMSO730.0\",\"MDMSO4212.0\",\"MDMSO4715.0\",\"MDMSO4721.0\",\"MDMSO4799.0\",\"MDMSO4819.0\",\"MDMSO4887.0\",\"Mmdivi1 25uM4212.0\",\"Mmdivi1 25uM4715.0\",\"Mmdivi1 25uM4721.0\",\"Mmdivi1 25uM4799.0\",\"Mmdivi1 25uM4819.0\",\"Mmdivi1 25uM4887.0\",\"PREDMSO4689.0\",\"PREDMSO4717.0\",\"PREDMSO4719.0\",\"PREDMSO4837.0\",\"PREmdivi1 25uM4689.0\",\"PREmdivi1 25uM4717.0\",\"PREmdivi1 25uM4719.0\",\"PREmdivi1 25uM4837.0\",\"SDMSO2165.0\",\"SDMSO305.0\",\"SDMSO4287.0\",\"SDMSO4476.0\",\"SDMSO4687.0\",\"SDMSO4709.0\",\"SDMSO4807.0\",\"Smdivi1 25uM2165.0\",\"Smdivi1 25uM305.0\",\"Smdivi1 25uM4287.0\",\"Smdivi1 25uM4476.0\",\"Smdivi1 25uM4687.0\",\"Smdivi1 25uM4709.0\",\"Smdivi1 25uM4807.0\"],\"xaxis\":\"x\",\"y\":[2.8901021569267407,2.72514585824146,2.8118217077329035,2.7027888166910428,2.7669524891019415,2.7754681181357808,2.6547390309258367,2.458119540096357,2.71583457254874,2.696868374482411,2.8520601297836423,2.7903471850842507,2.663655851039001,2.5913421028078734,2.676553171044437,2.728795960604337,2.89318069523599,2.86766737501573,2.6122810279854107,2.7529292269056254,2.6634518082655125,2.6792816589451323,2.6108306842626448,2.7992240386140916,2.665731821138879,2.64469703932126,2.6990161247748445,2.550507474760278,2.7109022214895746,2.805358797974051,2.6465732963713187,2.5421070171565217,2.427087447615584,2.881950942944495,2.552954403619049,2.9810252114272124,2.959218919151123,2.7362991900922107,2.566643019778798,2.719122587645318],\"yaxis\":\"y\",\"type\":\"bar\"}],                        {\"template\":{\"data\":{\"histogram2dcontour\":[{\"type\":\"histogram2dcontour\",\"colorbar\":{\"outlinewidth\":0,\"ticks\":\"\"},\"colorscale\":[[0.0,\"#0d0887\"],[0.1111111111111111,\"#46039f\"],[0.2222222222222222,\"#7201a8\"],[0.3333333333333333,\"#9c179e\"],[0.4444444444444444,\"#bd3786\"],[0.5555555555555556,\"#d8576b\"],[0.6666666666666666,\"#ed7953\"],[0.7777777777777778,\"#fb9f3a\"],[0.8888888888888888,\"#fdca26\"],[1.0,\"#f0f921\"]]}],\"choropleth\":[{\"type\":\"choropleth\",\"colorbar\":{\"outlinewidth\":0,\"ticks\":\"\"}}],\"histogram2d\":[{\"type\":\"histogram2d\",\"colorbar\":{\"outlinewidth\":0,\"ticks\":\"\"},\"colorscale\":[[0.0,\"#0d0887\"],[0.1111111111111111,\"#46039f\"],[0.2222222222222222,\"#7201a8\"],[0.3333333333333333,\"#9c179e\"],[0.4444444444444444,\"#bd3786\"],[0.5555555555555556,\"#d8576b\"],[0.6666666666666666,\"#ed7953\"],[0.7777777777777778,\"#fb9f3a\"],[0.8888888888888888,\"#fdca26\"],[1.0,\"#f0f921\"]]}],\"heatmap\":[{\"type\":\"heatmap\",\"colorbar\":{\"outlinewidth\":0,\"ticks\":\"\"},\"colorscale\":[[0.0,\"#0d0887\"],[0.1111111111111111,\"#46039f\"],[0.2222222222222222,\"#7201a8\"],[0.3333333333333333,\"#9c179e\"],[0.4444444444444444,\"#bd3786\"],[0.5555555555555556,\"#d8576b\"],[0.6666666666666666,\"#ed7953\"],[0.7777777777777778,\"#fb9f3a\"],[0.8888888888888888,\"#fdca26\"],[1.0,\"#f0f921\"]]}],\"heatmapgl\":[{\"type\":\"heatmapgl\",\"colorbar\":{\"outlinewidth\":0,\"ticks\":\"\"},\"colorscale\":[[0.0,\"#0d0887\"],[0.1111111111111111,\"#46039f\"],[0.2222222222222222,\"#7201a8\"],[0.3333333333333333,\"#9c179e\"],[0.4444444444444444,\"#bd3786\"],[0.5555555555555556,\"#d8576b\"],[0.6666666666666666,\"#ed7953\"],[0.7777777777777778,\"#fb9f3a\"],[0.8888888888888888,\"#fdca26\"],[1.0,\"#f0f921\"]]}],\"contourcarpet\":[{\"type\":\"contourcarpet\",\"colorbar\":{\"outlinewidth\":0,\"ticks\":\"\"}}],\"contour\":[{\"type\":\"contour\",\"colorbar\":{\"outlinewidth\":0,\"ticks\":\"\"},\"colorscale\":[[0.0,\"#0d0887\"],[0.1111111111111111,\"#46039f\"],[0.2222222222222222,\"#7201a8\"],[0.3333333333333333,\"#9c179e\"],[0.4444444444444444,\"#bd3786\"],[0.5555555555555556,\"#d8576b\"],[0.6666666666666666,\"#ed7953\"],[0.7777777777777778,\"#fb9f3a\"],[0.8888888888888888,\"#fdca26\"],[1.0,\"#f0f921\"]]}],\"surface\":[{\"type\":\"surface\",\"colorbar\":{\"outlinewidth\":0,\"ticks\":\"\"},\"colorscale\":[[0.0,\"#0d0887\"],[0.1111111111111111,\"#46039f\"],[0.2222222222222222,\"#7201a8\"],[0.3333333333333333,\"#9c179e\"],[0.4444444444444444,\"#bd3786\"],[0.5555555555555556,\"#d8576b\"],[0.6666666666666666,\"#ed7953\"],[0.7777777777777778,\"#fb9f3a\"],[0.8888888888888888,\"#fdca26\"],[1.0,\"#f0f921\"]]}],\"mesh3d\":[{\"type\":\"mesh3d\",\"colorbar\":{\"outlinewidth\":0,\"ticks\":\"\"}}],\"scatter\":[{\"fillpattern\":{\"fillmode\":\"overlay\",\"size\":10,\"solidity\":0.2},\"type\":\"scatter\"}],\"parcoords\":[{\"type\":\"parcoords\",\"line\":{\"colorbar\":{\"outlinewidth\":0,\"ticks\":\"\"}}}],\"scatterpolargl\":[{\"type\":\"scatterpolargl\",\"marker\":{\"colorbar\":{\"outlinewidth\":0,\"ticks\":\"\"}}}],\"bar\":[{\"error_x\":{\"color\":\"#2a3f5f\"},\"error_y\":{\"color\":\"#2a3f5f\"},\"marker\":{\"line\":{\"color\":\"#E5ECF6\",\"width\":0.5},\"pattern\":{\"fillmode\":\"overlay\",\"size\":10,\"solidity\":0.2}},\"type\":\"bar\"}],\"scattergeo\":[{\"type\":\"scattergeo\",\"marker\":{\"colorbar\":{\"outlinewidth\":0,\"ticks\":\"\"}}}],\"scatterpolar\":[{\"type\":\"scatterpolar\",\"marker\":{\"colorbar\":{\"outlinewidth\":0,\"ticks\":\"\"}}}],\"histogram\":[{\"marker\":{\"pattern\":{\"fillmode\":\"overlay\",\"size\":10,\"solidity\":0.2}},\"type\":\"histogram\"}],\"scattergl\":[{\"type\":\"scattergl\",\"marker\":{\"colorbar\":{\"outlinewidth\":0,\"ticks\":\"\"}}}],\"scatter3d\":[{\"type\":\"scatter3d\",\"line\":{\"colorbar\":{\"outlinewidth\":0,\"ticks\":\"\"}},\"marker\":{\"colorbar\":{\"outlinewidth\":0,\"ticks\":\"\"}}}],\"scattermapbox\":[{\"type\":\"scattermapbox\",\"marker\":{\"colorbar\":{\"outlinewidth\":0,\"ticks\":\"\"}}}],\"scatterternary\":[{\"type\":\"scatterternary\",\"marker\":{\"colorbar\":{\"outlinewidth\":0,\"ticks\":\"\"}}}],\"scattercarpet\":[{\"type\":\"scattercarpet\",\"marker\":{\"colorbar\":{\"outlinewidth\":0,\"ticks\":\"\"}}}],\"carpet\":[{\"aaxis\":{\"endlinecolor\":\"#2a3f5f\",\"gridcolor\":\"white\",\"linecolor\":\"white\",\"minorgridcolor\":\"white\",\"startlinecolor\":\"#2a3f5f\"},\"baxis\":{\"endlinecolor\":\"#2a3f5f\",\"gridcolor\":\"white\",\"linecolor\":\"white\",\"minorgridcolor\":\"white\",\"startlinecolor\":\"#2a3f5f\"},\"type\":\"carpet\"}],\"table\":[{\"cells\":{\"fill\":{\"color\":\"#EBF0F8\"},\"line\":{\"color\":\"white\"}},\"header\":{\"fill\":{\"color\":\"#C8D4E3\"},\"line\":{\"color\":\"white\"}},\"type\":\"table\"}],\"barpolar\":[{\"marker\":{\"line\":{\"color\":\"#E5ECF6\",\"width\":0.5},\"pattern\":{\"fillmode\":\"overlay\",\"size\":10,\"solidity\":0.2}},\"type\":\"barpolar\"}],\"pie\":[{\"automargin\":true,\"type\":\"pie\"}]},\"layout\":{\"autotypenumbers\":\"strict\",\"colorway\":[\"#636efa\",\"#EF553B\",\"#00cc96\",\"#ab63fa\",\"#FFA15A\",\"#19d3f3\",\"#FF6692\",\"#B6E880\",\"#FF97FF\",\"#FECB52\"],\"font\":{\"color\":\"#2a3f5f\"},\"hovermode\":\"closest\",\"hoverlabel\":{\"align\":\"left\"},\"paper_bgcolor\":\"white\",\"plot_bgcolor\":\"#E5ECF6\",\"polar\":{\"bgcolor\":\"#E5ECF6\",\"angularaxis\":{\"gridcolor\":\"white\",\"linecolor\":\"white\",\"ticks\":\"\"},\"radialaxis\":{\"gridcolor\":\"white\",\"linecolor\":\"white\",\"ticks\":\"\"}},\"ternary\":{\"bgcolor\":\"#E5ECF6\",\"aaxis\":{\"gridcolor\":\"white\",\"linecolor\":\"white\",\"ticks\":\"\"},\"baxis\":{\"gridcolor\":\"white\",\"linecolor\":\"white\",\"ticks\":\"\"},\"caxis\":{\"gridcolor\":\"white\",\"linecolor\":\"white\",\"ticks\":\"\"}},\"coloraxis\":{\"colorbar\":{\"outlinewidth\":0,\"ticks\":\"\"}},\"colorscale\":{\"sequential\":[[0.0,\"#0d0887\"],[0.1111111111111111,\"#46039f\"],[0.2222222222222222,\"#7201a8\"],[0.3333333333333333,\"#9c179e\"],[0.4444444444444444,\"#bd3786\"],[0.5555555555555556,\"#d8576b\"],[0.6666666666666666,\"#ed7953\"],[0.7777777777777778,\"#fb9f3a\"],[0.8888888888888888,\"#fdca26\"],[1.0,\"#f0f921\"]],\"sequentialminus\":[[0.0,\"#0d0887\"],[0.1111111111111111,\"#46039f\"],[0.2222222222222222,\"#7201a8\"],[0.3333333333333333,\"#9c179e\"],[0.4444444444444444,\"#bd3786\"],[0.5555555555555556,\"#d8576b\"],[0.6666666666666666,\"#ed7953\"],[0.7777777777777778,\"#fb9f3a\"],[0.8888888888888888,\"#fdca26\"],[1.0,\"#f0f921\"]],\"diverging\":[[0,\"#8e0152\"],[0.1,\"#c51b7d\"],[0.2,\"#de77ae\"],[0.3,\"#f1b6da\"],[0.4,\"#fde0ef\"],[0.5,\"#f7f7f7\"],[0.6,\"#e6f5d0\"],[0.7,\"#b8e186\"],[0.8,\"#7fbc41\"],[0.9,\"#4d9221\"],[1,\"#276419\"]]},\"xaxis\":{\"gridcolor\":\"white\",\"linecolor\":\"white\",\"ticks\":\"\",\"title\":{\"standoff\":15},\"zerolinecolor\":\"white\",\"automargin\":true,\"zerolinewidth\":2},\"yaxis\":{\"gridcolor\":\"white\",\"linecolor\":\"white\",\"ticks\":\"\",\"title\":{\"standoff\":15},\"zerolinecolor\":\"white\",\"automargin\":true,\"zerolinewidth\":2},\"scene\":{\"xaxis\":{\"backgroundcolor\":\"#E5ECF6\",\"gridcolor\":\"white\",\"linecolor\":\"white\",\"showbackground\":true,\"ticks\":\"\",\"zerolinecolor\":\"white\",\"gridwidth\":2},\"yaxis\":{\"backgroundcolor\":\"#E5ECF6\",\"gridcolor\":\"white\",\"linecolor\":\"white\",\"showbackground\":true,\"ticks\":\"\",\"zerolinecolor\":\"white\",\"gridwidth\":2},\"zaxis\":{\"backgroundcolor\":\"#E5ECF6\",\"gridcolor\":\"white\",\"linecolor\":\"white\",\"showbackground\":true,\"ticks\":\"\",\"zerolinecolor\":\"white\",\"gridwidth\":2}},\"shapedefaults\":{\"line\":{\"color\":\"#2a3f5f\"}},\"annotationdefaults\":{\"arrowcolor\":\"#2a3f5f\",\"arrowhead\":0,\"arrowwidth\":1},\"geo\":{\"bgcolor\":\"white\",\"landcolor\":\"#E5ECF6\",\"subunitcolor\":\"white\",\"showland\":true,\"showlakes\":true,\"lakecolor\":\"white\"},\"title\":{\"x\":0.05},\"mapbox\":{\"style\":\"light\"}}},\"xaxis\":{\"anchor\":\"y\",\"domain\":[0.0,1.0],\"title\":{\"text\":\"group_with_id\"}},\"yaxis\":{\"anchor\":\"x\",\"domain\":[0.0,1.0],\"title\":{\"text\":\"vat1_intensity\"}},\"legend\":{\"tracegroupgap\":0},\"margin\":{\"t\":60},\"barmode\":\"group\"},                        {\"responsive\": true}                    ).then(function(){\n",
       "                            \n",
       "var gd = document.getElementById('ba063544-0bf2-40d6-bbf2-289a93108887');\n",
       "var x = new MutationObserver(function (mutations, observer) {{\n",
       "        var display = window.getComputedStyle(gd).display;\n",
       "        if (!display || display === 'none') {{\n",
       "            console.log([gd, 'removed!']);\n",
       "            Plotly.purge(gd);\n",
       "            observer.disconnect();\n",
       "        }}\n",
       "}});\n",
       "\n",
       "// Listen for the removal of the full notebook cells\n",
       "var notebookContainer = gd.closest('#notebook-container');\n",
       "if (notebookContainer) {{\n",
       "    x.observe(notebookContainer, {childList: true});\n",
       "}}\n",
       "\n",
       "// Listen for the clearing of the current output cell\n",
       "var outputEl = gd.closest('.output');\n",
       "if (outputEl) {{\n",
       "    x.observe(outputEl, {childList: true});\n",
       "}}\n",
       "\n",
       "                        })                };                });            </script>        </div>"
      ]
     },
     "metadata": {},
     "output_type": "display_data"
    },
    {
     "data": {
      "application/vnd.plotly.v1+json": {
       "config": {
        "plotlyServerURL": "https://plot.ly"
       },
       "data": [
        {
         "alignmentgroup": "True",
         "hovertemplate": "group_with_id=%{x}<br>vat1_area=%{y}<extra></extra>",
         "legendgroup": "",
         "marker": {
          "color": "#636efa",
          "pattern": {
           "shape": ""
          }
         },
         "name": "",
         "offsetgroup": "",
         "orientation": "v",
         "showlegend": false,
         "textposition": "auto",
         "type": "bar",
         "x": [
          "HCDMSO1016.0",
          "HCDMSO143.0",
          "HCDMSO1650.0",
          "HCDMSO1653.0",
          "HCDMSO495.0",
          "HCDMSO730.0",
          "MDMSO4212.0",
          "MDMSO4715.0",
          "MDMSO4721.0",
          "MDMSO4799.0",
          "MDMSO4819.0",
          "MDMSO4887.0",
          "Mmdivi1 25uM4212.0",
          "Mmdivi1 25uM4715.0",
          "Mmdivi1 25uM4721.0",
          "Mmdivi1 25uM4799.0",
          "Mmdivi1 25uM4819.0",
          "Mmdivi1 25uM4887.0",
          "PREDMSO4689.0",
          "PREDMSO4717.0",
          "PREDMSO4719.0",
          "PREDMSO4837.0",
          "PREmdivi1 25uM4689.0",
          "PREmdivi1 25uM4717.0",
          "PREmdivi1 25uM4719.0",
          "PREmdivi1 25uM4837.0",
          "SDMSO2165.0",
          "SDMSO305.0",
          "SDMSO4287.0",
          "SDMSO4476.0",
          "SDMSO4687.0",
          "SDMSO4709.0",
          "SDMSO4807.0",
          "Smdivi1 25uM2165.0",
          "Smdivi1 25uM305.0",
          "Smdivi1 25uM4287.0",
          "Smdivi1 25uM4476.0",
          "Smdivi1 25uM4687.0",
          "Smdivi1 25uM4709.0",
          "Smdivi1 25uM4807.0"
         ],
         "xaxis": "x",
         "y": [
          5.726808984065866,
          5.374351081174703,
          5.3965175988444125,
          5.395225999840839,
          5.380956214523446,
          5.516746499796798,
          5.002914687477126,
          4.575489748835488,
          4.918265086513483,
          5.18067969503569,
          5.561518716000721,
          5.502731394240826,
          5.227779449310119,
          4.9995155926654125,
          5.118162836832591,
          5.455340210044739,
          5.855402644330215,
          5.817077359950342,
          4.947300252125209,
          5.163522765823416,
          5.1322772500637175,
          5.326462067840171,
          5.0661265663640505,
          5.413299636394628,
          5.368799730684832,
          5.504613470199091,
          5.28322130075392,
          4.867745496031122,
          5.453056444086833,
          5.445490211441915,
          5.13507743095566,
          5.208480167532268,
          5.340538858389365,
          5.651818379064946,
          4.957297231823119,
          6.122861637767043,
          5.915717363608451,
          5.408217365791284,
          5.450967224903777,
          6.131710599063785
         ],
         "yaxis": "y"
        }
       ],
       "layout": {
        "barmode": "group",
        "legend": {
         "tracegroupgap": 0
        },
        "margin": {
         "t": 60
        },
        "template": {
         "data": {
          "bar": [
           {
            "error_x": {
             "color": "#2a3f5f"
            },
            "error_y": {
             "color": "#2a3f5f"
            },
            "marker": {
             "line": {
              "color": "#E5ECF6",
              "width": 0.5
             },
             "pattern": {
              "fillmode": "overlay",
              "size": 10,
              "solidity": 0.2
             }
            },
            "type": "bar"
           }
          ],
          "barpolar": [
           {
            "marker": {
             "line": {
              "color": "#E5ECF6",
              "width": 0.5
             },
             "pattern": {
              "fillmode": "overlay",
              "size": 10,
              "solidity": 0.2
             }
            },
            "type": "barpolar"
           }
          ],
          "carpet": [
           {
            "aaxis": {
             "endlinecolor": "#2a3f5f",
             "gridcolor": "white",
             "linecolor": "white",
             "minorgridcolor": "white",
             "startlinecolor": "#2a3f5f"
            },
            "baxis": {
             "endlinecolor": "#2a3f5f",
             "gridcolor": "white",
             "linecolor": "white",
             "minorgridcolor": "white",
             "startlinecolor": "#2a3f5f"
            },
            "type": "carpet"
           }
          ],
          "choropleth": [
           {
            "colorbar": {
             "outlinewidth": 0,
             "ticks": ""
            },
            "type": "choropleth"
           }
          ],
          "contour": [
           {
            "colorbar": {
             "outlinewidth": 0,
             "ticks": ""
            },
            "colorscale": [
             [
              0,
              "#0d0887"
             ],
             [
              0.1111111111111111,
              "#46039f"
             ],
             [
              0.2222222222222222,
              "#7201a8"
             ],
             [
              0.3333333333333333,
              "#9c179e"
             ],
             [
              0.4444444444444444,
              "#bd3786"
             ],
             [
              0.5555555555555556,
              "#d8576b"
             ],
             [
              0.6666666666666666,
              "#ed7953"
             ],
             [
              0.7777777777777778,
              "#fb9f3a"
             ],
             [
              0.8888888888888888,
              "#fdca26"
             ],
             [
              1,
              "#f0f921"
             ]
            ],
            "type": "contour"
           }
          ],
          "contourcarpet": [
           {
            "colorbar": {
             "outlinewidth": 0,
             "ticks": ""
            },
            "type": "contourcarpet"
           }
          ],
          "heatmap": [
           {
            "colorbar": {
             "outlinewidth": 0,
             "ticks": ""
            },
            "colorscale": [
             [
              0,
              "#0d0887"
             ],
             [
              0.1111111111111111,
              "#46039f"
             ],
             [
              0.2222222222222222,
              "#7201a8"
             ],
             [
              0.3333333333333333,
              "#9c179e"
             ],
             [
              0.4444444444444444,
              "#bd3786"
             ],
             [
              0.5555555555555556,
              "#d8576b"
             ],
             [
              0.6666666666666666,
              "#ed7953"
             ],
             [
              0.7777777777777778,
              "#fb9f3a"
             ],
             [
              0.8888888888888888,
              "#fdca26"
             ],
             [
              1,
              "#f0f921"
             ]
            ],
            "type": "heatmap"
           }
          ],
          "heatmapgl": [
           {
            "colorbar": {
             "outlinewidth": 0,
             "ticks": ""
            },
            "colorscale": [
             [
              0,
              "#0d0887"
             ],
             [
              0.1111111111111111,
              "#46039f"
             ],
             [
              0.2222222222222222,
              "#7201a8"
             ],
             [
              0.3333333333333333,
              "#9c179e"
             ],
             [
              0.4444444444444444,
              "#bd3786"
             ],
             [
              0.5555555555555556,
              "#d8576b"
             ],
             [
              0.6666666666666666,
              "#ed7953"
             ],
             [
              0.7777777777777778,
              "#fb9f3a"
             ],
             [
              0.8888888888888888,
              "#fdca26"
             ],
             [
              1,
              "#f0f921"
             ]
            ],
            "type": "heatmapgl"
           }
          ],
          "histogram": [
           {
            "marker": {
             "pattern": {
              "fillmode": "overlay",
              "size": 10,
              "solidity": 0.2
             }
            },
            "type": "histogram"
           }
          ],
          "histogram2d": [
           {
            "colorbar": {
             "outlinewidth": 0,
             "ticks": ""
            },
            "colorscale": [
             [
              0,
              "#0d0887"
             ],
             [
              0.1111111111111111,
              "#46039f"
             ],
             [
              0.2222222222222222,
              "#7201a8"
             ],
             [
              0.3333333333333333,
              "#9c179e"
             ],
             [
              0.4444444444444444,
              "#bd3786"
             ],
             [
              0.5555555555555556,
              "#d8576b"
             ],
             [
              0.6666666666666666,
              "#ed7953"
             ],
             [
              0.7777777777777778,
              "#fb9f3a"
             ],
             [
              0.8888888888888888,
              "#fdca26"
             ],
             [
              1,
              "#f0f921"
             ]
            ],
            "type": "histogram2d"
           }
          ],
          "histogram2dcontour": [
           {
            "colorbar": {
             "outlinewidth": 0,
             "ticks": ""
            },
            "colorscale": [
             [
              0,
              "#0d0887"
             ],
             [
              0.1111111111111111,
              "#46039f"
             ],
             [
              0.2222222222222222,
              "#7201a8"
             ],
             [
              0.3333333333333333,
              "#9c179e"
             ],
             [
              0.4444444444444444,
              "#bd3786"
             ],
             [
              0.5555555555555556,
              "#d8576b"
             ],
             [
              0.6666666666666666,
              "#ed7953"
             ],
             [
              0.7777777777777778,
              "#fb9f3a"
             ],
             [
              0.8888888888888888,
              "#fdca26"
             ],
             [
              1,
              "#f0f921"
             ]
            ],
            "type": "histogram2dcontour"
           }
          ],
          "mesh3d": [
           {
            "colorbar": {
             "outlinewidth": 0,
             "ticks": ""
            },
            "type": "mesh3d"
           }
          ],
          "parcoords": [
           {
            "line": {
             "colorbar": {
              "outlinewidth": 0,
              "ticks": ""
             }
            },
            "type": "parcoords"
           }
          ],
          "pie": [
           {
            "automargin": true,
            "type": "pie"
           }
          ],
          "scatter": [
           {
            "fillpattern": {
             "fillmode": "overlay",
             "size": 10,
             "solidity": 0.2
            },
            "type": "scatter"
           }
          ],
          "scatter3d": [
           {
            "line": {
             "colorbar": {
              "outlinewidth": 0,
              "ticks": ""
             }
            },
            "marker": {
             "colorbar": {
              "outlinewidth": 0,
              "ticks": ""
             }
            },
            "type": "scatter3d"
           }
          ],
          "scattercarpet": [
           {
            "marker": {
             "colorbar": {
              "outlinewidth": 0,
              "ticks": ""
             }
            },
            "type": "scattercarpet"
           }
          ],
          "scattergeo": [
           {
            "marker": {
             "colorbar": {
              "outlinewidth": 0,
              "ticks": ""
             }
            },
            "type": "scattergeo"
           }
          ],
          "scattergl": [
           {
            "marker": {
             "colorbar": {
              "outlinewidth": 0,
              "ticks": ""
             }
            },
            "type": "scattergl"
           }
          ],
          "scattermapbox": [
           {
            "marker": {
             "colorbar": {
              "outlinewidth": 0,
              "ticks": ""
             }
            },
            "type": "scattermapbox"
           }
          ],
          "scatterpolar": [
           {
            "marker": {
             "colorbar": {
              "outlinewidth": 0,
              "ticks": ""
             }
            },
            "type": "scatterpolar"
           }
          ],
          "scatterpolargl": [
           {
            "marker": {
             "colorbar": {
              "outlinewidth": 0,
              "ticks": ""
             }
            },
            "type": "scatterpolargl"
           }
          ],
          "scatterternary": [
           {
            "marker": {
             "colorbar": {
              "outlinewidth": 0,
              "ticks": ""
             }
            },
            "type": "scatterternary"
           }
          ],
          "surface": [
           {
            "colorbar": {
             "outlinewidth": 0,
             "ticks": ""
            },
            "colorscale": [
             [
              0,
              "#0d0887"
             ],
             [
              0.1111111111111111,
              "#46039f"
             ],
             [
              0.2222222222222222,
              "#7201a8"
             ],
             [
              0.3333333333333333,
              "#9c179e"
             ],
             [
              0.4444444444444444,
              "#bd3786"
             ],
             [
              0.5555555555555556,
              "#d8576b"
             ],
             [
              0.6666666666666666,
              "#ed7953"
             ],
             [
              0.7777777777777778,
              "#fb9f3a"
             ],
             [
              0.8888888888888888,
              "#fdca26"
             ],
             [
              1,
              "#f0f921"
             ]
            ],
            "type": "surface"
           }
          ],
          "table": [
           {
            "cells": {
             "fill": {
              "color": "#EBF0F8"
             },
             "line": {
              "color": "white"
             }
            },
            "header": {
             "fill": {
              "color": "#C8D4E3"
             },
             "line": {
              "color": "white"
             }
            },
            "type": "table"
           }
          ]
         },
         "layout": {
          "annotationdefaults": {
           "arrowcolor": "#2a3f5f",
           "arrowhead": 0,
           "arrowwidth": 1
          },
          "autotypenumbers": "strict",
          "coloraxis": {
           "colorbar": {
            "outlinewidth": 0,
            "ticks": ""
           }
          },
          "colorscale": {
           "diverging": [
            [
             0,
             "#8e0152"
            ],
            [
             0.1,
             "#c51b7d"
            ],
            [
             0.2,
             "#de77ae"
            ],
            [
             0.3,
             "#f1b6da"
            ],
            [
             0.4,
             "#fde0ef"
            ],
            [
             0.5,
             "#f7f7f7"
            ],
            [
             0.6,
             "#e6f5d0"
            ],
            [
             0.7,
             "#b8e186"
            ],
            [
             0.8,
             "#7fbc41"
            ],
            [
             0.9,
             "#4d9221"
            ],
            [
             1,
             "#276419"
            ]
           ],
           "sequential": [
            [
             0,
             "#0d0887"
            ],
            [
             0.1111111111111111,
             "#46039f"
            ],
            [
             0.2222222222222222,
             "#7201a8"
            ],
            [
             0.3333333333333333,
             "#9c179e"
            ],
            [
             0.4444444444444444,
             "#bd3786"
            ],
            [
             0.5555555555555556,
             "#d8576b"
            ],
            [
             0.6666666666666666,
             "#ed7953"
            ],
            [
             0.7777777777777778,
             "#fb9f3a"
            ],
            [
             0.8888888888888888,
             "#fdca26"
            ],
            [
             1,
             "#f0f921"
            ]
           ],
           "sequentialminus": [
            [
             0,
             "#0d0887"
            ],
            [
             0.1111111111111111,
             "#46039f"
            ],
            [
             0.2222222222222222,
             "#7201a8"
            ],
            [
             0.3333333333333333,
             "#9c179e"
            ],
            [
             0.4444444444444444,
             "#bd3786"
            ],
            [
             0.5555555555555556,
             "#d8576b"
            ],
            [
             0.6666666666666666,
             "#ed7953"
            ],
            [
             0.7777777777777778,
             "#fb9f3a"
            ],
            [
             0.8888888888888888,
             "#fdca26"
            ],
            [
             1,
             "#f0f921"
            ]
           ]
          },
          "colorway": [
           "#636efa",
           "#EF553B",
           "#00cc96",
           "#ab63fa",
           "#FFA15A",
           "#19d3f3",
           "#FF6692",
           "#B6E880",
           "#FF97FF",
           "#FECB52"
          ],
          "font": {
           "color": "#2a3f5f"
          },
          "geo": {
           "bgcolor": "white",
           "lakecolor": "white",
           "landcolor": "#E5ECF6",
           "showlakes": true,
           "showland": true,
           "subunitcolor": "white"
          },
          "hoverlabel": {
           "align": "left"
          },
          "hovermode": "closest",
          "mapbox": {
           "style": "light"
          },
          "paper_bgcolor": "white",
          "plot_bgcolor": "#E5ECF6",
          "polar": {
           "angularaxis": {
            "gridcolor": "white",
            "linecolor": "white",
            "ticks": ""
           },
           "bgcolor": "#E5ECF6",
           "radialaxis": {
            "gridcolor": "white",
            "linecolor": "white",
            "ticks": ""
           }
          },
          "scene": {
           "xaxis": {
            "backgroundcolor": "#E5ECF6",
            "gridcolor": "white",
            "gridwidth": 2,
            "linecolor": "white",
            "showbackground": true,
            "ticks": "",
            "zerolinecolor": "white"
           },
           "yaxis": {
            "backgroundcolor": "#E5ECF6",
            "gridcolor": "white",
            "gridwidth": 2,
            "linecolor": "white",
            "showbackground": true,
            "ticks": "",
            "zerolinecolor": "white"
           },
           "zaxis": {
            "backgroundcolor": "#E5ECF6",
            "gridcolor": "white",
            "gridwidth": 2,
            "linecolor": "white",
            "showbackground": true,
            "ticks": "",
            "zerolinecolor": "white"
           }
          },
          "shapedefaults": {
           "line": {
            "color": "#2a3f5f"
           }
          },
          "ternary": {
           "aaxis": {
            "gridcolor": "white",
            "linecolor": "white",
            "ticks": ""
           },
           "baxis": {
            "gridcolor": "white",
            "linecolor": "white",
            "ticks": ""
           },
           "bgcolor": "#E5ECF6",
           "caxis": {
            "gridcolor": "white",
            "linecolor": "white",
            "ticks": ""
           }
          },
          "title": {
           "x": 0.05
          },
          "xaxis": {
           "automargin": true,
           "gridcolor": "white",
           "linecolor": "white",
           "ticks": "",
           "title": {
            "standoff": 15
           },
           "zerolinecolor": "white",
           "zerolinewidth": 2
          },
          "yaxis": {
           "automargin": true,
           "gridcolor": "white",
           "linecolor": "white",
           "ticks": "",
           "title": {
            "standoff": 15
           },
           "zerolinecolor": "white",
           "zerolinewidth": 2
          }
         }
        },
        "xaxis": {
         "anchor": "y",
         "domain": [
          0,
          1
         ],
         "title": {
          "text": "group_with_id"
         }
        },
        "yaxis": {
         "anchor": "x",
         "domain": [
          0,
          1
         ],
         "title": {
          "text": "vat1_area"
         }
        }
       }
      },
      "text/html": [
       "<div>                            <div id=\"bc42ba04-4d29-4c56-8666-55b0ccc502d8\" class=\"plotly-graph-div\" style=\"height:525px; width:100%;\"></div>            <script type=\"text/javascript\">                require([\"plotly\"], function(Plotly) {                    window.PLOTLYENV=window.PLOTLYENV || {};                                    if (document.getElementById(\"bc42ba04-4d29-4c56-8666-55b0ccc502d8\")) {                    Plotly.newPlot(                        \"bc42ba04-4d29-4c56-8666-55b0ccc502d8\",                        [{\"alignmentgroup\":\"True\",\"hovertemplate\":\"group_with_id=%{x}<br>vat1_area=%{y}<extra></extra>\",\"legendgroup\":\"\",\"marker\":{\"color\":\"#636efa\",\"pattern\":{\"shape\":\"\"}},\"name\":\"\",\"offsetgroup\":\"\",\"orientation\":\"v\",\"showlegend\":false,\"textposition\":\"auto\",\"x\":[\"HCDMSO1016.0\",\"HCDMSO143.0\",\"HCDMSO1650.0\",\"HCDMSO1653.0\",\"HCDMSO495.0\",\"HCDMSO730.0\",\"MDMSO4212.0\",\"MDMSO4715.0\",\"MDMSO4721.0\",\"MDMSO4799.0\",\"MDMSO4819.0\",\"MDMSO4887.0\",\"Mmdivi1 25uM4212.0\",\"Mmdivi1 25uM4715.0\",\"Mmdivi1 25uM4721.0\",\"Mmdivi1 25uM4799.0\",\"Mmdivi1 25uM4819.0\",\"Mmdivi1 25uM4887.0\",\"PREDMSO4689.0\",\"PREDMSO4717.0\",\"PREDMSO4719.0\",\"PREDMSO4837.0\",\"PREmdivi1 25uM4689.0\",\"PREmdivi1 25uM4717.0\",\"PREmdivi1 25uM4719.0\",\"PREmdivi1 25uM4837.0\",\"SDMSO2165.0\",\"SDMSO305.0\",\"SDMSO4287.0\",\"SDMSO4476.0\",\"SDMSO4687.0\",\"SDMSO4709.0\",\"SDMSO4807.0\",\"Smdivi1 25uM2165.0\",\"Smdivi1 25uM305.0\",\"Smdivi1 25uM4287.0\",\"Smdivi1 25uM4476.0\",\"Smdivi1 25uM4687.0\",\"Smdivi1 25uM4709.0\",\"Smdivi1 25uM4807.0\"],\"xaxis\":\"x\",\"y\":[5.726808984065866,5.374351081174703,5.3965175988444125,5.395225999840839,5.380956214523446,5.516746499796798,5.002914687477126,4.575489748835488,4.918265086513483,5.18067969503569,5.561518716000721,5.502731394240826,5.227779449310119,4.9995155926654125,5.118162836832591,5.455340210044739,5.855402644330215,5.817077359950342,4.947300252125209,5.163522765823416,5.1322772500637175,5.326462067840171,5.0661265663640505,5.413299636394628,5.368799730684832,5.504613470199091,5.28322130075392,4.867745496031122,5.453056444086833,5.445490211441915,5.13507743095566,5.208480167532268,5.340538858389365,5.651818379064946,4.957297231823119,6.122861637767043,5.915717363608451,5.408217365791284,5.450967224903777,6.131710599063785],\"yaxis\":\"y\",\"type\":\"bar\"}],                        {\"template\":{\"data\":{\"histogram2dcontour\":[{\"type\":\"histogram2dcontour\",\"colorbar\":{\"outlinewidth\":0,\"ticks\":\"\"},\"colorscale\":[[0.0,\"#0d0887\"],[0.1111111111111111,\"#46039f\"],[0.2222222222222222,\"#7201a8\"],[0.3333333333333333,\"#9c179e\"],[0.4444444444444444,\"#bd3786\"],[0.5555555555555556,\"#d8576b\"],[0.6666666666666666,\"#ed7953\"],[0.7777777777777778,\"#fb9f3a\"],[0.8888888888888888,\"#fdca26\"],[1.0,\"#f0f921\"]]}],\"choropleth\":[{\"type\":\"choropleth\",\"colorbar\":{\"outlinewidth\":0,\"ticks\":\"\"}}],\"histogram2d\":[{\"type\":\"histogram2d\",\"colorbar\":{\"outlinewidth\":0,\"ticks\":\"\"},\"colorscale\":[[0.0,\"#0d0887\"],[0.1111111111111111,\"#46039f\"],[0.2222222222222222,\"#7201a8\"],[0.3333333333333333,\"#9c179e\"],[0.4444444444444444,\"#bd3786\"],[0.5555555555555556,\"#d8576b\"],[0.6666666666666666,\"#ed7953\"],[0.7777777777777778,\"#fb9f3a\"],[0.8888888888888888,\"#fdca26\"],[1.0,\"#f0f921\"]]}],\"heatmap\":[{\"type\":\"heatmap\",\"colorbar\":{\"outlinewidth\":0,\"ticks\":\"\"},\"colorscale\":[[0.0,\"#0d0887\"],[0.1111111111111111,\"#46039f\"],[0.2222222222222222,\"#7201a8\"],[0.3333333333333333,\"#9c179e\"],[0.4444444444444444,\"#bd3786\"],[0.5555555555555556,\"#d8576b\"],[0.6666666666666666,\"#ed7953\"],[0.7777777777777778,\"#fb9f3a\"],[0.8888888888888888,\"#fdca26\"],[1.0,\"#f0f921\"]]}],\"heatmapgl\":[{\"type\":\"heatmapgl\",\"colorbar\":{\"outlinewidth\":0,\"ticks\":\"\"},\"colorscale\":[[0.0,\"#0d0887\"],[0.1111111111111111,\"#46039f\"],[0.2222222222222222,\"#7201a8\"],[0.3333333333333333,\"#9c179e\"],[0.4444444444444444,\"#bd3786\"],[0.5555555555555556,\"#d8576b\"],[0.6666666666666666,\"#ed7953\"],[0.7777777777777778,\"#fb9f3a\"],[0.8888888888888888,\"#fdca26\"],[1.0,\"#f0f921\"]]}],\"contourcarpet\":[{\"type\":\"contourcarpet\",\"colorbar\":{\"outlinewidth\":0,\"ticks\":\"\"}}],\"contour\":[{\"type\":\"contour\",\"colorbar\":{\"outlinewidth\":0,\"ticks\":\"\"},\"colorscale\":[[0.0,\"#0d0887\"],[0.1111111111111111,\"#46039f\"],[0.2222222222222222,\"#7201a8\"],[0.3333333333333333,\"#9c179e\"],[0.4444444444444444,\"#bd3786\"],[0.5555555555555556,\"#d8576b\"],[0.6666666666666666,\"#ed7953\"],[0.7777777777777778,\"#fb9f3a\"],[0.8888888888888888,\"#fdca26\"],[1.0,\"#f0f921\"]]}],\"surface\":[{\"type\":\"surface\",\"colorbar\":{\"outlinewidth\":0,\"ticks\":\"\"},\"colorscale\":[[0.0,\"#0d0887\"],[0.1111111111111111,\"#46039f\"],[0.2222222222222222,\"#7201a8\"],[0.3333333333333333,\"#9c179e\"],[0.4444444444444444,\"#bd3786\"],[0.5555555555555556,\"#d8576b\"],[0.6666666666666666,\"#ed7953\"],[0.7777777777777778,\"#fb9f3a\"],[0.8888888888888888,\"#fdca26\"],[1.0,\"#f0f921\"]]}],\"mesh3d\":[{\"type\":\"mesh3d\",\"colorbar\":{\"outlinewidth\":0,\"ticks\":\"\"}}],\"scatter\":[{\"fillpattern\":{\"fillmode\":\"overlay\",\"size\":10,\"solidity\":0.2},\"type\":\"scatter\"}],\"parcoords\":[{\"type\":\"parcoords\",\"line\":{\"colorbar\":{\"outlinewidth\":0,\"ticks\":\"\"}}}],\"scatterpolargl\":[{\"type\":\"scatterpolargl\",\"marker\":{\"colorbar\":{\"outlinewidth\":0,\"ticks\":\"\"}}}],\"bar\":[{\"error_x\":{\"color\":\"#2a3f5f\"},\"error_y\":{\"color\":\"#2a3f5f\"},\"marker\":{\"line\":{\"color\":\"#E5ECF6\",\"width\":0.5},\"pattern\":{\"fillmode\":\"overlay\",\"size\":10,\"solidity\":0.2}},\"type\":\"bar\"}],\"scattergeo\":[{\"type\":\"scattergeo\",\"marker\":{\"colorbar\":{\"outlinewidth\":0,\"ticks\":\"\"}}}],\"scatterpolar\":[{\"type\":\"scatterpolar\",\"marker\":{\"colorbar\":{\"outlinewidth\":0,\"ticks\":\"\"}}}],\"histogram\":[{\"marker\":{\"pattern\":{\"fillmode\":\"overlay\",\"size\":10,\"solidity\":0.2}},\"type\":\"histogram\"}],\"scattergl\":[{\"type\":\"scattergl\",\"marker\":{\"colorbar\":{\"outlinewidth\":0,\"ticks\":\"\"}}}],\"scatter3d\":[{\"type\":\"scatter3d\",\"line\":{\"colorbar\":{\"outlinewidth\":0,\"ticks\":\"\"}},\"marker\":{\"colorbar\":{\"outlinewidth\":0,\"ticks\":\"\"}}}],\"scattermapbox\":[{\"type\":\"scattermapbox\",\"marker\":{\"colorbar\":{\"outlinewidth\":0,\"ticks\":\"\"}}}],\"scatterternary\":[{\"type\":\"scatterternary\",\"marker\":{\"colorbar\":{\"outlinewidth\":0,\"ticks\":\"\"}}}],\"scattercarpet\":[{\"type\":\"scattercarpet\",\"marker\":{\"colorbar\":{\"outlinewidth\":0,\"ticks\":\"\"}}}],\"carpet\":[{\"aaxis\":{\"endlinecolor\":\"#2a3f5f\",\"gridcolor\":\"white\",\"linecolor\":\"white\",\"minorgridcolor\":\"white\",\"startlinecolor\":\"#2a3f5f\"},\"baxis\":{\"endlinecolor\":\"#2a3f5f\",\"gridcolor\":\"white\",\"linecolor\":\"white\",\"minorgridcolor\":\"white\",\"startlinecolor\":\"#2a3f5f\"},\"type\":\"carpet\"}],\"table\":[{\"cells\":{\"fill\":{\"color\":\"#EBF0F8\"},\"line\":{\"color\":\"white\"}},\"header\":{\"fill\":{\"color\":\"#C8D4E3\"},\"line\":{\"color\":\"white\"}},\"type\":\"table\"}],\"barpolar\":[{\"marker\":{\"line\":{\"color\":\"#E5ECF6\",\"width\":0.5},\"pattern\":{\"fillmode\":\"overlay\",\"size\":10,\"solidity\":0.2}},\"type\":\"barpolar\"}],\"pie\":[{\"automargin\":true,\"type\":\"pie\"}]},\"layout\":{\"autotypenumbers\":\"strict\",\"colorway\":[\"#636efa\",\"#EF553B\",\"#00cc96\",\"#ab63fa\",\"#FFA15A\",\"#19d3f3\",\"#FF6692\",\"#B6E880\",\"#FF97FF\",\"#FECB52\"],\"font\":{\"color\":\"#2a3f5f\"},\"hovermode\":\"closest\",\"hoverlabel\":{\"align\":\"left\"},\"paper_bgcolor\":\"white\",\"plot_bgcolor\":\"#E5ECF6\",\"polar\":{\"bgcolor\":\"#E5ECF6\",\"angularaxis\":{\"gridcolor\":\"white\",\"linecolor\":\"white\",\"ticks\":\"\"},\"radialaxis\":{\"gridcolor\":\"white\",\"linecolor\":\"white\",\"ticks\":\"\"}},\"ternary\":{\"bgcolor\":\"#E5ECF6\",\"aaxis\":{\"gridcolor\":\"white\",\"linecolor\":\"white\",\"ticks\":\"\"},\"baxis\":{\"gridcolor\":\"white\",\"linecolor\":\"white\",\"ticks\":\"\"},\"caxis\":{\"gridcolor\":\"white\",\"linecolor\":\"white\",\"ticks\":\"\"}},\"coloraxis\":{\"colorbar\":{\"outlinewidth\":0,\"ticks\":\"\"}},\"colorscale\":{\"sequential\":[[0.0,\"#0d0887\"],[0.1111111111111111,\"#46039f\"],[0.2222222222222222,\"#7201a8\"],[0.3333333333333333,\"#9c179e\"],[0.4444444444444444,\"#bd3786\"],[0.5555555555555556,\"#d8576b\"],[0.6666666666666666,\"#ed7953\"],[0.7777777777777778,\"#fb9f3a\"],[0.8888888888888888,\"#fdca26\"],[1.0,\"#f0f921\"]],\"sequentialminus\":[[0.0,\"#0d0887\"],[0.1111111111111111,\"#46039f\"],[0.2222222222222222,\"#7201a8\"],[0.3333333333333333,\"#9c179e\"],[0.4444444444444444,\"#bd3786\"],[0.5555555555555556,\"#d8576b\"],[0.6666666666666666,\"#ed7953\"],[0.7777777777777778,\"#fb9f3a\"],[0.8888888888888888,\"#fdca26\"],[1.0,\"#f0f921\"]],\"diverging\":[[0,\"#8e0152\"],[0.1,\"#c51b7d\"],[0.2,\"#de77ae\"],[0.3,\"#f1b6da\"],[0.4,\"#fde0ef\"],[0.5,\"#f7f7f7\"],[0.6,\"#e6f5d0\"],[0.7,\"#b8e186\"],[0.8,\"#7fbc41\"],[0.9,\"#4d9221\"],[1,\"#276419\"]]},\"xaxis\":{\"gridcolor\":\"white\",\"linecolor\":\"white\",\"ticks\":\"\",\"title\":{\"standoff\":15},\"zerolinecolor\":\"white\",\"automargin\":true,\"zerolinewidth\":2},\"yaxis\":{\"gridcolor\":\"white\",\"linecolor\":\"white\",\"ticks\":\"\",\"title\":{\"standoff\":15},\"zerolinecolor\":\"white\",\"automargin\":true,\"zerolinewidth\":2},\"scene\":{\"xaxis\":{\"backgroundcolor\":\"#E5ECF6\",\"gridcolor\":\"white\",\"linecolor\":\"white\",\"showbackground\":true,\"ticks\":\"\",\"zerolinecolor\":\"white\",\"gridwidth\":2},\"yaxis\":{\"backgroundcolor\":\"#E5ECF6\",\"gridcolor\":\"white\",\"linecolor\":\"white\",\"showbackground\":true,\"ticks\":\"\",\"zerolinecolor\":\"white\",\"gridwidth\":2},\"zaxis\":{\"backgroundcolor\":\"#E5ECF6\",\"gridcolor\":\"white\",\"linecolor\":\"white\",\"showbackground\":true,\"ticks\":\"\",\"zerolinecolor\":\"white\",\"gridwidth\":2}},\"shapedefaults\":{\"line\":{\"color\":\"#2a3f5f\"}},\"annotationdefaults\":{\"arrowcolor\":\"#2a3f5f\",\"arrowhead\":0,\"arrowwidth\":1},\"geo\":{\"bgcolor\":\"white\",\"landcolor\":\"#E5ECF6\",\"subunitcolor\":\"white\",\"showland\":true,\"showlakes\":true,\"lakecolor\":\"white\"},\"title\":{\"x\":0.05},\"mapbox\":{\"style\":\"light\"}}},\"xaxis\":{\"anchor\":\"y\",\"domain\":[0.0,1.0],\"title\":{\"text\":\"group_with_id\"}},\"yaxis\":{\"anchor\":\"x\",\"domain\":[0.0,1.0],\"title\":{\"text\":\"vat1_area\"}},\"legend\":{\"tracegroupgap\":0},\"margin\":{\"t\":60},\"barmode\":\"group\"},                        {\"responsive\": true}                    ).then(function(){\n",
       "                            \n",
       "var gd = document.getElementById('bc42ba04-4d29-4c56-8666-55b0ccc502d8');\n",
       "var x = new MutationObserver(function (mutations, observer) {{\n",
       "        var display = window.getComputedStyle(gd).display;\n",
       "        if (!display || display === 'none') {{\n",
       "            console.log([gd, 'removed!']);\n",
       "            Plotly.purge(gd);\n",
       "            observer.disconnect();\n",
       "        }}\n",
       "}});\n",
       "\n",
       "// Listen for the removal of the full notebook cells\n",
       "var notebookContainer = gd.closest('#notebook-container');\n",
       "if (notebookContainer) {{\n",
       "    x.observe(notebookContainer, {childList: true});\n",
       "}}\n",
       "\n",
       "// Listen for the clearing of the current output cell\n",
       "var outputEl = gd.closest('.output');\n",
       "if (outputEl) {{\n",
       "    x.observe(outputEl, {childList: true});\n",
       "}}\n",
       "\n",
       "                        })                };                });            </script>        </div>"
      ]
     },
     "metadata": {},
     "output_type": "display_data"
    }
   ],
   "source": [
    "for col in df_plot:\n",
    "    \n",
    "    fig = px.bar(df_plot, x = \"group_with_id\", y = col,\n",
    "            barmode = 'group')\n",
    "    fig.write_image(path + '//' + f\"{col}mid_plot_image.pdf\", engine=\"kaleido\")\n",
    "    fig.show()"
   ]
  },
  {
   "cell_type": "code",
   "execution_count": null,
   "id": "61de2678",
   "metadata": {},
   "outputs": [],
   "source": [
    "dist_check_if_hc(Nh_df)\n",
    "dist_check_if_log(df_log)\n",
    "dist_check_if_log_2(df_log_2)\n",
    "dist_check_if_max(df_max_scaled)"
   ]
  },
  {
   "cell_type": "code",
   "execution_count": null,
   "id": "faf6c275",
   "metadata": {},
   "outputs": [],
   "source": [
    "### vis+stats_marker conclusions "
   ]
  },
  {
   "cell_type": "code",
   "execution_count": null,
   "id": "c8330cd3",
   "metadata": {},
   "outputs": [],
   "source": [
    "df_stats = df_log.copy()\n",
    "df_stats = df_stats.reset_index()\n",
    "df_stats = df_stats.drop(columns=['Local Outlier Factor 30', 'Local Outlier Factor 10', 'Local Outlier Factor 8', 'level_0'])\n",
    "df_stats = df_stats.reset_index()\n",
    "df_stats = df_stats.drop(columns=['index'])"
   ]
  },
  {
   "cell_type": "code",
   "execution_count": null,
   "id": "948e81e2",
   "metadata": {},
   "outputs": [],
   "source": [
    "grouped_df = df_stats.groupby(\"group\").mean()\n",
    "grouped_df.fillna(0, inplace=True)\n",
    "grouped_df =(grouped_df-grouped_df.mean())/grouped_df.std()\n",
    "###heatmap \n",
    "plt.figure(figsize=(8, 6))\n",
    "sns.heatmap(grouped_df, cmap='BuPu')\n",
    "sns.set_style(\"white\")\n",
    "SMALL_SIZE =3\n",
    "MEDIUM_SIZE = 5\n",
    "BIGGER_SIZE = 12\n",
    "plt.rc('font', size=SMALL_SIZE)          # controls default text sizes\n",
    "plt.rc('axes', titlesize=SMALL_SIZE)     # fontsize of the axes title\n",
    "plt.rc('axes', labelsize=SMALL_SIZE)    # fontsize of the x and y labels\n",
    "plt.rc('xtick', labelsize=SMALL_SIZE)    # fontsize of the tick labels\n",
    "plt.rc('ytick', labelsize=MEDIUM_SIZE)    # fontsize of the tick labels\n",
    "plt.rc('legend', fontsize=SMALL_SIZE)    # legend fontsize\n",
    "plt.rc('figure', titlesize=BIGGER_SIZE)  # fontsize of the figure title\n",
    "cax = plt.gcf().axes[0]\n",
    "cax.tick_params(labelsize=6)\n",
    "plt.yticks(rotation=\"horizontal\")\n",
    "plt.xticks(rotation=\"vertical\")\n",
    "plt.margins(0.1)\n",
    "plt.subplots_adjust(bottom=0.3)\n",
    "plt.savefig(path + '//' + \"heatmap_vat1.pdf\")\n",
    "plt.show()"
   ]
  },
  {
   "cell_type": "code",
   "execution_count": 122,
   "id": "0409829c",
   "metadata": {
    "scrolled": true
   },
   "outputs": [
    {
     "data": {
      "application/vnd.plotly.v1+json": {
       "config": {
        "plotlyServerURL": "https://plot.ly"
       },
       "data": [
        {
         "alignmentgroup": "True",
         "boxpoints": "all",
         "customdata": [
          [
           "PREDMSO4719.0p4"
          ],
          [
           "PREDMSO4689.0p6"
          ],
          [
           "PREDMSO4689.0p6"
          ],
          [
           "PREDMSO4689.0p6"
          ],
          [
           "PREDMSO4719.0p5"
          ],
          [
           "PREDMSO4717.0p7"
          ],
          [
           "PREDMSO4689.0p6"
          ],
          [
           "PREDMSO4719.0p5"
          ],
          [
           "PREDMSO4837.0p9"
          ],
          [
           "PREDMSO4719.0p4"
          ],
          [
           "PREDMSO4717.0p7"
          ],
          [
           "PREDMSO4837.0p9"
          ],
          [
           "PREDMSO4719.0p5"
          ],
          [
           "PREDMSO4719.0p5"
          ],
          [
           "PREDMSO4837.0p9"
          ],
          [
           "PREDMSO4717.0p7"
          ],
          [
           "PREDMSO4719.0p4"
          ],
          [
           "PREDMSO4717.0p7"
          ],
          [
           "PREDMSO4719.0p4"
          ],
          [
           "PREDMSO4719.0p5"
          ],
          [
           "PREDMSO4719.0p4"
          ],
          [
           "PREDMSO4719.0p4"
          ],
          [
           "PREDMSO4837.0p9"
          ],
          [
           "PREDMSO4837.0p9"
          ],
          [
           "PREDMSO4689.0p6"
          ],
          [
           "PREDMSO4689.0p6"
          ],
          [
           "PREDMSO4717.0p7"
          ],
          [
           "PREDMSO4717.0p7"
          ]
         ],
         "hovertemplate": "group=%{x}<br>group_p=%{y}<br>group_with_p=%{customdata[0]}<extra></extra>",
         "legendgroup": "PREDMSO",
         "marker": {
          "color": "#636efa"
         },
         "name": "PREDMSO",
         "notched": true,
         "offsetgroup": "PREDMSO",
         "orientation": "v",
         "quartilemethod": "inclusive",
         "showlegend": true,
         "type": "box",
         "x": [
          "PREDMSO",
          "PREDMSO",
          "PREDMSO",
          "PREDMSO",
          "PREDMSO",
          "PREDMSO",
          "PREDMSO",
          "PREDMSO",
          "PREDMSO",
          "PREDMSO",
          "PREDMSO",
          "PREDMSO",
          "PREDMSO",
          "PREDMSO",
          "PREDMSO",
          "PREDMSO",
          "PREDMSO",
          "PREDMSO",
          "PREDMSO",
          "PREDMSO",
          "PREDMSO",
          "PREDMSO",
          "PREDMSO",
          "PREDMSO",
          "PREDMSO",
          "PREDMSO",
          "PREDMSO",
          "PREDMSO"
         ],
         "x0": " ",
         "xaxis": "x",
         "y": [
          "PREDMSOp4",
          "PREDMSOp6",
          "PREDMSOp6",
          "PREDMSOp6",
          "PREDMSOp5",
          "PREDMSOp7",
          "PREDMSOp6",
          "PREDMSOp5",
          "PREDMSOp9",
          "PREDMSOp4",
          "PREDMSOp7",
          "PREDMSOp9",
          "PREDMSOp5",
          "PREDMSOp5",
          "PREDMSOp9",
          "PREDMSOp7",
          "PREDMSOp4",
          "PREDMSOp7",
          "PREDMSOp4",
          "PREDMSOp5",
          "PREDMSOp4",
          "PREDMSOp4",
          "PREDMSOp9",
          "PREDMSOp9",
          "PREDMSOp6",
          "PREDMSOp6",
          "PREDMSOp7",
          "PREDMSOp7"
         ],
         "y0": " ",
         "yaxis": "y"
        },
        {
         "alignmentgroup": "True",
         "boxpoints": "all",
         "customdata": [
          [
           "PREmdivi1 25uM4719.0p4"
          ],
          [
           "PREmdivi1 25uM4689.0p6"
          ],
          [
           "PREmdivi1 25uM4719.0p4"
          ],
          [
           "PREmdivi1 25uM4689.0p6"
          ],
          [
           "PREmdivi1 25uM4689.0p6"
          ],
          [
           "PREmdivi1 25uM4719.0p5"
          ],
          [
           "PREmdivi1 25uM4719.0p5"
          ],
          [
           "PREmdivi1 25uM4717.0p7"
          ],
          [
           "PREmdivi1 25uM4719.0p4"
          ],
          [
           "PREmdivi1 25uM4689.0p6"
          ],
          [
           "PREmdivi1 25uM4719.0p5"
          ],
          [
           "PREmdivi1 25uM4837.0p9"
          ],
          [
           "PREmdivi1 25uM4719.0p4"
          ],
          [
           "PREmdivi1 25uM4837.0p9"
          ],
          [
           "PREmdivi1 25uM4717.0p7"
          ],
          [
           "PREmdivi1 25uM4719.0p4"
          ],
          [
           "PREmdivi1 25uM4837.0p9"
          ],
          [
           "PREmdivi1 25uM4689.0p6"
          ],
          [
           "PREmdivi1 25uM4717.0p7"
          ],
          [
           "PREmdivi1 25uM4719.0p5"
          ],
          [
           "PREmdivi1 25uM4689.0p6"
          ],
          [
           "PREmdivi1 25uM4719.0p5"
          ],
          [
           "PREmdivi1 25uM4717.0p7"
          ],
          [
           "PREmdivi1 25uM4837.0p9"
          ],
          [
           "PREmdivi1 25uM4717.0p7"
          ],
          [
           "PREmdivi1 25uM4719.0p5"
          ],
          [
           "PREmdivi1 25uM4719.0p4"
          ]
         ],
         "hovertemplate": "group=%{x}<br>group_p=%{y}<br>group_with_p=%{customdata[0]}<extra></extra>",
         "legendgroup": "PREmdivi1 25uM",
         "marker": {
          "color": "#EF553B"
         },
         "name": "PREmdivi1 25uM",
         "notched": true,
         "offsetgroup": "PREmdivi1 25uM",
         "orientation": "v",
         "quartilemethod": "inclusive",
         "showlegend": true,
         "type": "box",
         "x": [
          "PREmdivi1 25uM",
          "PREmdivi1 25uM",
          "PREmdivi1 25uM",
          "PREmdivi1 25uM",
          "PREmdivi1 25uM",
          "PREmdivi1 25uM",
          "PREmdivi1 25uM",
          "PREmdivi1 25uM",
          "PREmdivi1 25uM",
          "PREmdivi1 25uM",
          "PREmdivi1 25uM",
          "PREmdivi1 25uM",
          "PREmdivi1 25uM",
          "PREmdivi1 25uM",
          "PREmdivi1 25uM",
          "PREmdivi1 25uM",
          "PREmdivi1 25uM",
          "PREmdivi1 25uM",
          "PREmdivi1 25uM",
          "PREmdivi1 25uM",
          "PREmdivi1 25uM",
          "PREmdivi1 25uM",
          "PREmdivi1 25uM",
          "PREmdivi1 25uM",
          "PREmdivi1 25uM",
          "PREmdivi1 25uM",
          "PREmdivi1 25uM"
         ],
         "x0": " ",
         "xaxis": "x",
         "y": [
          "PREmdivi1 25uMp4",
          "PREmdivi1 25uMp6",
          "PREmdivi1 25uMp4",
          "PREmdivi1 25uMp6",
          "PREmdivi1 25uMp6",
          "PREmdivi1 25uMp5",
          "PREmdivi1 25uMp5",
          "PREmdivi1 25uMp7",
          "PREmdivi1 25uMp4",
          "PREmdivi1 25uMp6",
          "PREmdivi1 25uMp5",
          "PREmdivi1 25uMp9",
          "PREmdivi1 25uMp4",
          "PREmdivi1 25uMp9",
          "PREmdivi1 25uMp7",
          "PREmdivi1 25uMp4",
          "PREmdivi1 25uMp9",
          "PREmdivi1 25uMp6",
          "PREmdivi1 25uMp7",
          "PREmdivi1 25uMp5",
          "PREmdivi1 25uMp6",
          "PREmdivi1 25uMp5",
          "PREmdivi1 25uMp7",
          "PREmdivi1 25uMp9",
          "PREmdivi1 25uMp7",
          "PREmdivi1 25uMp5",
          "PREmdivi1 25uMp4"
         ],
         "y0": " ",
         "yaxis": "y"
        },
        {
         "alignmentgroup": "True",
         "boxpoints": "all",
         "customdata": [
          [
           "SDMSO4476.0p10"
          ],
          [
           "SDMSO4709.0p9"
          ],
          [
           "SDMSO4709.0p9"
          ],
          [
           "SDMSO4687.0p7"
          ],
          [
           "SDMSO4807.0p8"
          ],
          [
           "SDMSO4687.0p7"
          ],
          [
           "SDMSO4687.0p7"
          ],
          [
           "SDMSO305.0p6"
          ],
          [
           "SDMSO4807.0p8"
          ],
          [
           "SDMSO2165.0p10"
          ],
          [
           "SDMSO4709.0p9"
          ],
          [
           "SDMSO305.0p6"
          ],
          [
           "SDMSO4287.0p5"
          ],
          [
           "SDMSO4709.0p9"
          ],
          [
           "SDMSO305.0p6"
          ],
          [
           "SDMSO4476.0p10"
          ],
          [
           "SDMSO4687.0p7"
          ],
          [
           "SDMSO305.0p6"
          ],
          [
           "SDMSO305.0p6"
          ],
          [
           "SDMSO2165.0p10"
          ],
          [
           "SDMSO305.0p6"
          ],
          [
           "SDMSO4687.0p7"
          ],
          [
           "SDMSO4807.0p8"
          ],
          [
           "SDMSO2165.0p10"
          ],
          [
           "SDMSO4687.0p7"
          ],
          [
           "SDMSO4476.0p10"
          ],
          [
           "SDMSO4709.0p9"
          ],
          [
           "SDMSO4709.0p9"
          ]
         ],
         "hovertemplate": "group=%{x}<br>group_p=%{y}<br>group_with_p=%{customdata[0]}<extra></extra>",
         "legendgroup": "SDMSO",
         "marker": {
          "color": "#00cc96"
         },
         "name": "SDMSO",
         "notched": true,
         "offsetgroup": "SDMSO",
         "orientation": "v",
         "quartilemethod": "inclusive",
         "showlegend": true,
         "type": "box",
         "x": [
          "SDMSO",
          "SDMSO",
          "SDMSO",
          "SDMSO",
          "SDMSO",
          "SDMSO",
          "SDMSO",
          "SDMSO",
          "SDMSO",
          "SDMSO",
          "SDMSO",
          "SDMSO",
          "SDMSO",
          "SDMSO",
          "SDMSO",
          "SDMSO",
          "SDMSO",
          "SDMSO",
          "SDMSO",
          "SDMSO",
          "SDMSO",
          "SDMSO",
          "SDMSO",
          "SDMSO",
          "SDMSO",
          "SDMSO",
          "SDMSO",
          "SDMSO"
         ],
         "x0": " ",
         "xaxis": "x",
         "y": [
          "SDMSOp10",
          "SDMSOp9",
          "SDMSOp9",
          "SDMSOp7",
          "SDMSOp8",
          "SDMSOp7",
          "SDMSOp7",
          "SDMSOp6",
          "SDMSOp8",
          "SDMSOp10",
          "SDMSOp9",
          "SDMSOp6",
          "SDMSOp5",
          "SDMSOp9",
          "SDMSOp6",
          "SDMSOp10",
          "SDMSOp7",
          "SDMSOp6",
          "SDMSOp6",
          "SDMSOp10",
          "SDMSOp6",
          "SDMSOp7",
          "SDMSOp8",
          "SDMSOp10",
          "SDMSOp7",
          "SDMSOp10",
          "SDMSOp9",
          "SDMSOp9"
         ],
         "y0": " ",
         "yaxis": "y"
        },
        {
         "alignmentgroup": "True",
         "boxpoints": "all",
         "customdata": [
          [
           "Smdivi1 25uM305.0p6"
          ],
          [
           "Smdivi1 25uM4476.0p10"
          ],
          [
           "Smdivi1 25uM305.0p6"
          ],
          [
           "Smdivi1 25uM4476.0p10"
          ],
          [
           "Smdivi1 25uM2165.0p10"
          ],
          [
           "Smdivi1 25uM4287.0p5"
          ],
          [
           "Smdivi1 25uM4709.0p9"
          ],
          [
           "Smdivi1 25uM4287.0p5"
          ],
          [
           "Smdivi1 25uM4709.0p9"
          ],
          [
           "Smdivi1 25uM2165.0p10"
          ],
          [
           "Smdivi1 25uM4287.0p5"
          ],
          [
           "Smdivi1 25uM4287.0p5"
          ],
          [
           "Smdivi1 25uM4687.0p7"
          ],
          [
           "Smdivi1 25uM4709.0p9"
          ],
          [
           "Smdivi1 25uM2165.0p10"
          ],
          [
           "Smdivi1 25uM305.0p6"
          ],
          [
           "Smdivi1 25uM305.0p6"
          ],
          [
           "Smdivi1 25uM4687.0p7"
          ],
          [
           "Smdivi1 25uM4287.0p5"
          ],
          [
           "Smdivi1 25uM4687.0p7"
          ],
          [
           "Smdivi1 25uM305.0p6"
          ],
          [
           "Smdivi1 25uM4687.0p7"
          ],
          [
           "Smdivi1 25uM2165.0p10"
          ],
          [
           "Smdivi1 25uM4476.0p10"
          ],
          [
           "Smdivi1 25uM4476.0p10"
          ],
          [
           "Smdivi1 25uM2165.0p10"
          ],
          [
           "Smdivi1 25uM4687.0p7"
          ],
          [
           "Smdivi1 25uM4709.0p9"
          ],
          [
           "Smdivi1 25uM4687.0p7"
          ],
          [
           "Smdivi1 25uM4807.0p8"
          ],
          [
           "Smdivi1 25uM4476.0p10"
          ],
          [
           "Smdivi1 25uM4807.0p8"
          ],
          [
           "Smdivi1 25uM4709.0p9"
          ],
          [
           "Smdivi1 25uM4709.0p9"
          ],
          [
           "Smdivi1 25uM305.0p6"
          ],
          [
           "Smdivi1 25uM4476.0p10"
          ],
          [
           "Smdivi1 25uM2165.0p10"
          ]
         ],
         "hovertemplate": "group=%{x}<br>group_p=%{y}<br>group_with_p=%{customdata[0]}<extra></extra>",
         "legendgroup": "Smdivi1 25uM",
         "marker": {
          "color": "#ab63fa"
         },
         "name": "Smdivi1 25uM",
         "notched": true,
         "offsetgroup": "Smdivi1 25uM",
         "orientation": "v",
         "quartilemethod": "inclusive",
         "showlegend": true,
         "type": "box",
         "x": [
          "Smdivi1 25uM",
          "Smdivi1 25uM",
          "Smdivi1 25uM",
          "Smdivi1 25uM",
          "Smdivi1 25uM",
          "Smdivi1 25uM",
          "Smdivi1 25uM",
          "Smdivi1 25uM",
          "Smdivi1 25uM",
          "Smdivi1 25uM",
          "Smdivi1 25uM",
          "Smdivi1 25uM",
          "Smdivi1 25uM",
          "Smdivi1 25uM",
          "Smdivi1 25uM",
          "Smdivi1 25uM",
          "Smdivi1 25uM",
          "Smdivi1 25uM",
          "Smdivi1 25uM",
          "Smdivi1 25uM",
          "Smdivi1 25uM",
          "Smdivi1 25uM",
          "Smdivi1 25uM",
          "Smdivi1 25uM",
          "Smdivi1 25uM",
          "Smdivi1 25uM",
          "Smdivi1 25uM",
          "Smdivi1 25uM",
          "Smdivi1 25uM",
          "Smdivi1 25uM",
          "Smdivi1 25uM",
          "Smdivi1 25uM",
          "Smdivi1 25uM",
          "Smdivi1 25uM",
          "Smdivi1 25uM",
          "Smdivi1 25uM",
          "Smdivi1 25uM"
         ],
         "x0": " ",
         "xaxis": "x",
         "y": [
          "Smdivi1 25uMp6",
          "Smdivi1 25uMp10",
          "Smdivi1 25uMp6",
          "Smdivi1 25uMp10",
          "Smdivi1 25uMp10",
          "Smdivi1 25uMp5",
          "Smdivi1 25uMp9",
          "Smdivi1 25uMp5",
          "Smdivi1 25uMp9",
          "Smdivi1 25uMp10",
          "Smdivi1 25uMp5",
          "Smdivi1 25uMp5",
          "Smdivi1 25uMp7",
          "Smdivi1 25uMp9",
          "Smdivi1 25uMp10",
          "Smdivi1 25uMp6",
          "Smdivi1 25uMp6",
          "Smdivi1 25uMp7",
          "Smdivi1 25uMp5",
          "Smdivi1 25uMp7",
          "Smdivi1 25uMp6",
          "Smdivi1 25uMp7",
          "Smdivi1 25uMp10",
          "Smdivi1 25uMp10",
          "Smdivi1 25uMp10",
          "Smdivi1 25uMp10",
          "Smdivi1 25uMp7",
          "Smdivi1 25uMp9",
          "Smdivi1 25uMp7",
          "Smdivi1 25uMp8",
          "Smdivi1 25uMp10",
          "Smdivi1 25uMp8",
          "Smdivi1 25uMp9",
          "Smdivi1 25uMp9",
          "Smdivi1 25uMp6",
          "Smdivi1 25uMp10",
          "Smdivi1 25uMp10"
         ],
         "y0": " ",
         "yaxis": "y"
        },
        {
         "alignmentgroup": "True",
         "boxpoints": "all",
         "customdata": [
          [
           "HCDMSO143.0p7"
          ],
          [
           "HCDMSO1653.0p8"
          ],
          [
           "HCDMSO1653.0p4"
          ],
          [
           "HCDMSO730.0p9"
          ],
          [
           "HCDMSO1653.0p5"
          ],
          [
           "HCDMSO730.0p9"
          ],
          [
           "HCDMSO1653.0p7"
          ],
          [
           "HCDMSO1650.0p8"
          ],
          [
           "HCDMSO1653.0p8"
          ],
          [
           "HCDMSO1653.0p4"
          ],
          [
           "HCDMSO730.0p8"
          ],
          [
           "HCDMSO730.0p9"
          ],
          [
           "HCDMSO1653.0p8"
          ],
          [
           "HCDMSO1653.0p7"
          ],
          [
           "HCDMSO1016.0p10"
          ],
          [
           "HCDMSO730.0p9"
          ],
          [
           "HCDMSO143.0p7"
          ],
          [
           "HCDMSO1650.0p8"
          ],
          [
           "HCDMSO1650.0p6"
          ],
          [
           "HCDMSO1650.0p5"
          ],
          [
           "HCDMSO1016.0p10"
          ],
          [
           "HCDMSO1653.0p4"
          ],
          [
           "HCDMSO1650.0p5"
          ],
          [
           "HCDMSO1650.0p8"
          ],
          [
           "HCDMSO730.0p8"
          ],
          [
           "HCDMSO730.0p9"
          ],
          [
           "HCDMSO1653.0p4"
          ],
          [
           "HCDMSO1016.0p10"
          ],
          [
           "HCDMSO1653.0p4"
          ],
          [
           "HCDMSO1016.0p10"
          ],
          [
           "HCDMSO730.0p8"
          ],
          [
           "HCDMSO143.0p7"
          ],
          [
           "HCDMSO143.0p7"
          ],
          [
           "HCDMSO730.0p9"
          ],
          [
           "HCDMSO1653.0p5"
          ],
          [
           "HCDMSO1653.0p5"
          ],
          [
           "HCDMSO1650.0p8"
          ],
          [
           "HCDMSO1650.0p5"
          ],
          [
           "HCDMSO730.0p8"
          ],
          [
           "HCDMSO1016.0p10"
          ],
          [
           "HCDMSO495.0p7"
          ],
          [
           "HCDMSO1650.0p8"
          ],
          [
           "HCDMSO1650.0p5"
          ],
          [
           "HCDMSO1653.0p7"
          ],
          [
           "HCDMSO1650.0p6"
          ],
          [
           "HCDMSO143.0p7"
          ],
          [
           "HCDMSO1653.0p7"
          ],
          [
           "HCDMSO1016.0p10"
          ],
          [
           "HCDMSO1653.0p7"
          ],
          [
           "HCDMSO1650.0p6"
          ],
          [
           "HCDMSO1653.0p8"
          ],
          [
           "HCDMSO1650.0p8"
          ],
          [
           "HCDMSO1653.0p5"
          ],
          [
           "HCDMSO1653.0p8"
          ],
          [
           "HCDMSO1653.0p5"
          ],
          [
           "HCDMSO730.0p8"
          ],
          [
           "HCDMSO1653.0p7"
          ],
          [
           "HCDMSO1653.0p8"
          ],
          [
           "HCDMSO1653.0p5"
          ],
          [
           "HCDMSO1650.0p6"
          ]
         ],
         "hovertemplate": "group=%{x}<br>group_p=%{y}<br>group_with_p=%{customdata[0]}<extra></extra>",
         "legendgroup": "HCDMSO",
         "marker": {
          "color": "#FFA15A"
         },
         "name": "HCDMSO",
         "notched": true,
         "offsetgroup": "HCDMSO",
         "orientation": "v",
         "quartilemethod": "inclusive",
         "showlegend": true,
         "type": "box",
         "x": [
          "HCDMSO",
          "HCDMSO",
          "HCDMSO",
          "HCDMSO",
          "HCDMSO",
          "HCDMSO",
          "HCDMSO",
          "HCDMSO",
          "HCDMSO",
          "HCDMSO",
          "HCDMSO",
          "HCDMSO",
          "HCDMSO",
          "HCDMSO",
          "HCDMSO",
          "HCDMSO",
          "HCDMSO",
          "HCDMSO",
          "HCDMSO",
          "HCDMSO",
          "HCDMSO",
          "HCDMSO",
          "HCDMSO",
          "HCDMSO",
          "HCDMSO",
          "HCDMSO",
          "HCDMSO",
          "HCDMSO",
          "HCDMSO",
          "HCDMSO",
          "HCDMSO",
          "HCDMSO",
          "HCDMSO",
          "HCDMSO",
          "HCDMSO",
          "HCDMSO",
          "HCDMSO",
          "HCDMSO",
          "HCDMSO",
          "HCDMSO",
          "HCDMSO",
          "HCDMSO",
          "HCDMSO",
          "HCDMSO",
          "HCDMSO",
          "HCDMSO",
          "HCDMSO",
          "HCDMSO",
          "HCDMSO",
          "HCDMSO",
          "HCDMSO",
          "HCDMSO",
          "HCDMSO",
          "HCDMSO",
          "HCDMSO",
          "HCDMSO",
          "HCDMSO",
          "HCDMSO",
          "HCDMSO",
          "HCDMSO"
         ],
         "x0": " ",
         "xaxis": "x",
         "y": [
          "HCDMSOp7",
          "HCDMSOp8",
          "HCDMSOp4",
          "HCDMSOp9",
          "HCDMSOp5",
          "HCDMSOp9",
          "HCDMSOp7",
          "HCDMSOp8",
          "HCDMSOp8",
          "HCDMSOp4",
          "HCDMSOp8",
          "HCDMSOp9",
          "HCDMSOp8",
          "HCDMSOp7",
          "HCDMSOp10",
          "HCDMSOp9",
          "HCDMSOp7",
          "HCDMSOp8",
          "HCDMSOp6",
          "HCDMSOp5",
          "HCDMSOp10",
          "HCDMSOp4",
          "HCDMSOp5",
          "HCDMSOp8",
          "HCDMSOp8",
          "HCDMSOp9",
          "HCDMSOp4",
          "HCDMSOp10",
          "HCDMSOp4",
          "HCDMSOp10",
          "HCDMSOp8",
          "HCDMSOp7",
          "HCDMSOp7",
          "HCDMSOp9",
          "HCDMSOp5",
          "HCDMSOp5",
          "HCDMSOp8",
          "HCDMSOp5",
          "HCDMSOp8",
          "HCDMSOp10",
          "HCDMSOp7",
          "HCDMSOp8",
          "HCDMSOp5",
          "HCDMSOp7",
          "HCDMSOp6",
          "HCDMSOp7",
          "HCDMSOp7",
          "HCDMSOp10",
          "HCDMSOp7",
          "HCDMSOp6",
          "HCDMSOp8",
          "HCDMSOp8",
          "HCDMSOp5",
          "HCDMSOp8",
          "HCDMSOp5",
          "HCDMSOp8",
          "HCDMSOp7",
          "HCDMSOp8",
          "HCDMSOp5",
          "HCDMSOp6"
         ],
         "y0": " ",
         "yaxis": "y"
        },
        {
         "alignmentgroup": "True",
         "boxpoints": "all",
         "customdata": [
          [
           "Mmdivi1 25uM4819.0p4"
          ],
          [
           "Mmdivi1 25uM4819.0p4"
          ],
          [
           "Mmdivi1 25uM4212.0p9"
          ],
          [
           "Mmdivi1 25uM4819.0p4"
          ],
          [
           "Mmdivi1 25uM4887.0p7"
          ],
          [
           "Mmdivi1 25uM4212.0p9"
          ],
          [
           "Mmdivi1 25uM4887.0p7"
          ],
          [
           "Mmdivi1 25uM4721.0p5"
          ],
          [
           "Mmdivi1 25uM4799.0p8"
          ],
          [
           "Mmdivi1 25uM4799.0p8"
          ],
          [
           "Mmdivi1 25uM4721.0p5"
          ],
          [
           "Mmdivi1 25uM4212.0p9"
          ],
          [
           "Mmdivi1 25uM4819.0p4"
          ],
          [
           "Mmdivi1 25uM4721.0p5"
          ],
          [
           "Mmdivi1 25uM4887.0p7"
          ],
          [
           "Mmdivi1 25uM4887.0p7"
          ],
          [
           "Mmdivi1 25uM4799.0p8"
          ],
          [
           "Mmdivi1 25uM4212.0p9"
          ],
          [
           "Mmdivi1 25uM4715.0p6"
          ],
          [
           "Mmdivi1 25uM4887.0p7"
          ],
          [
           "Mmdivi1 25uM4819.0p4"
          ],
          [
           "Mmdivi1 25uM4715.0p6"
          ],
          [
           "Mmdivi1 25uM4721.0p5"
          ],
          [
           "Mmdivi1 25uM4721.0p5"
          ],
          [
           "Mmdivi1 25uM4721.0p5"
          ],
          [
           "Mmdivi1 25uM4212.0p9"
          ],
          [
           "Mmdivi1 25uM4819.0p4"
          ],
          [
           "Mmdivi1 25uM4799.0p8"
          ],
          [
           "Mmdivi1 25uM4799.0p8"
          ],
          [
           "Mmdivi1 25uM4887.0p7"
          ],
          [
           "Mmdivi1 25uM4799.0p8"
          ],
          [
           "Mmdivi1 25uM4715.0p6"
          ],
          [
           "Mmdivi1 25uM4212.0p9"
          ]
         ],
         "hovertemplate": "group=%{x}<br>group_p=%{y}<br>group_with_p=%{customdata[0]}<extra></extra>",
         "legendgroup": "Mmdivi1 25uM",
         "marker": {
          "color": "#19d3f3"
         },
         "name": "Mmdivi1 25uM",
         "notched": true,
         "offsetgroup": "Mmdivi1 25uM",
         "orientation": "v",
         "quartilemethod": "inclusive",
         "showlegend": true,
         "type": "box",
         "x": [
          "Mmdivi1 25uM",
          "Mmdivi1 25uM",
          "Mmdivi1 25uM",
          "Mmdivi1 25uM",
          "Mmdivi1 25uM",
          "Mmdivi1 25uM",
          "Mmdivi1 25uM",
          "Mmdivi1 25uM",
          "Mmdivi1 25uM",
          "Mmdivi1 25uM",
          "Mmdivi1 25uM",
          "Mmdivi1 25uM",
          "Mmdivi1 25uM",
          "Mmdivi1 25uM",
          "Mmdivi1 25uM",
          "Mmdivi1 25uM",
          "Mmdivi1 25uM",
          "Mmdivi1 25uM",
          "Mmdivi1 25uM",
          "Mmdivi1 25uM",
          "Mmdivi1 25uM",
          "Mmdivi1 25uM",
          "Mmdivi1 25uM",
          "Mmdivi1 25uM",
          "Mmdivi1 25uM",
          "Mmdivi1 25uM",
          "Mmdivi1 25uM",
          "Mmdivi1 25uM",
          "Mmdivi1 25uM",
          "Mmdivi1 25uM",
          "Mmdivi1 25uM",
          "Mmdivi1 25uM",
          "Mmdivi1 25uM"
         ],
         "x0": " ",
         "xaxis": "x",
         "y": [
          "Mmdivi1 25uMp4",
          "Mmdivi1 25uMp4",
          "Mmdivi1 25uMp9",
          "Mmdivi1 25uMp4",
          "Mmdivi1 25uMp7",
          "Mmdivi1 25uMp9",
          "Mmdivi1 25uMp7",
          "Mmdivi1 25uMp5",
          "Mmdivi1 25uMp8",
          "Mmdivi1 25uMp8",
          "Mmdivi1 25uMp5",
          "Mmdivi1 25uMp9",
          "Mmdivi1 25uMp4",
          "Mmdivi1 25uMp5",
          "Mmdivi1 25uMp7",
          "Mmdivi1 25uMp7",
          "Mmdivi1 25uMp8",
          "Mmdivi1 25uMp9",
          "Mmdivi1 25uMp6",
          "Mmdivi1 25uMp7",
          "Mmdivi1 25uMp4",
          "Mmdivi1 25uMp6",
          "Mmdivi1 25uMp5",
          "Mmdivi1 25uMp5",
          "Mmdivi1 25uMp5",
          "Mmdivi1 25uMp9",
          "Mmdivi1 25uMp4",
          "Mmdivi1 25uMp8",
          "Mmdivi1 25uMp8",
          "Mmdivi1 25uMp7",
          "Mmdivi1 25uMp8",
          "Mmdivi1 25uMp6",
          "Mmdivi1 25uMp9"
         ],
         "y0": " ",
         "yaxis": "y"
        },
        {
         "alignmentgroup": "True",
         "boxpoints": "all",
         "customdata": [
          [
           "MDMSO4819.0p4"
          ],
          [
           "MDMSO4799.0p8"
          ],
          [
           "MDMSO4887.0p7"
          ],
          [
           "MDMSO4212.0p9"
          ],
          [
           "MDMSO4721.0p5"
          ],
          [
           "MDMSO4887.0p7"
          ],
          [
           "MDMSO4819.0p4"
          ],
          [
           "MDMSO4721.0p5"
          ],
          [
           "MDMSO4715.0p6"
          ],
          [
           "MDMSO4799.0p8"
          ],
          [
           "MDMSO4799.0p8"
          ],
          [
           "MDMSO4799.0p8"
          ],
          [
           "MDMSO4799.0p8"
          ],
          [
           "MDMSO4212.0p9"
          ],
          [
           "MDMSO4212.0p9"
          ],
          [
           "MDMSO4721.0p5"
          ],
          [
           "MDMSO4819.0p4"
          ],
          [
           "MDMSO4715.0p6"
          ],
          [
           "MDMSO4799.0p8"
          ],
          [
           "MDMSO4212.0p9"
          ],
          [
           "MDMSO4819.0p4"
          ],
          [
           "MDMSO4715.0p6"
          ],
          [
           "MDMSO4887.0p7"
          ],
          [
           "MDMSO4212.0p9"
          ],
          [
           "MDMSO4715.0p6"
          ],
          [
           "MDMSO4212.0p9"
          ],
          [
           "MDMSO4819.0p4"
          ],
          [
           "MDMSO4715.0p6"
          ],
          [
           "MDMSO4887.0p7"
          ],
          [
           "MDMSO4715.0p6"
          ],
          [
           "MDMSO4887.0p7"
          ]
         ],
         "hovertemplate": "group=%{x}<br>group_p=%{y}<br>group_with_p=%{customdata[0]}<extra></extra>",
         "legendgroup": "MDMSO",
         "marker": {
          "color": "#FF6692"
         },
         "name": "MDMSO",
         "notched": true,
         "offsetgroup": "MDMSO",
         "orientation": "v",
         "quartilemethod": "inclusive",
         "showlegend": true,
         "type": "box",
         "x": [
          "MDMSO",
          "MDMSO",
          "MDMSO",
          "MDMSO",
          "MDMSO",
          "MDMSO",
          "MDMSO",
          "MDMSO",
          "MDMSO",
          "MDMSO",
          "MDMSO",
          "MDMSO",
          "MDMSO",
          "MDMSO",
          "MDMSO",
          "MDMSO",
          "MDMSO",
          "MDMSO",
          "MDMSO",
          "MDMSO",
          "MDMSO",
          "MDMSO",
          "MDMSO",
          "MDMSO",
          "MDMSO",
          "MDMSO",
          "MDMSO",
          "MDMSO",
          "MDMSO",
          "MDMSO",
          "MDMSO"
         ],
         "x0": " ",
         "xaxis": "x",
         "y": [
          "MDMSOp4",
          "MDMSOp8",
          "MDMSOp7",
          "MDMSOp9",
          "MDMSOp5",
          "MDMSOp7",
          "MDMSOp4",
          "MDMSOp5",
          "MDMSOp6",
          "MDMSOp8",
          "MDMSOp8",
          "MDMSOp8",
          "MDMSOp8",
          "MDMSOp9",
          "MDMSOp9",
          "MDMSOp5",
          "MDMSOp4",
          "MDMSOp6",
          "MDMSOp8",
          "MDMSOp9",
          "MDMSOp4",
          "MDMSOp6",
          "MDMSOp7",
          "MDMSOp9",
          "MDMSOp6",
          "MDMSOp9",
          "MDMSOp4",
          "MDMSOp6",
          "MDMSOp7",
          "MDMSOp6",
          "MDMSOp7"
         ],
         "y0": " ",
         "yaxis": "y"
        }
       ],
       "layout": {
        "boxmode": "overlay",
        "font": {
         "color": "Black",
         "family": "Arial",
         "size": 20
        },
        "legend": {
         "title": {
          "text": "group"
         },
         "tracegroupgap": 0
        },
        "margin": {
         "t": 60
        },
        "template": {
         "data": {
          "bar": [
           {
            "error_x": {
             "color": "#2a3f5f"
            },
            "error_y": {
             "color": "#2a3f5f"
            },
            "marker": {
             "line": {
              "color": "#E5ECF6",
              "width": 0.5
             },
             "pattern": {
              "fillmode": "overlay",
              "size": 10,
              "solidity": 0.2
             }
            },
            "type": "bar"
           }
          ],
          "barpolar": [
           {
            "marker": {
             "line": {
              "color": "#E5ECF6",
              "width": 0.5
             },
             "pattern": {
              "fillmode": "overlay",
              "size": 10,
              "solidity": 0.2
             }
            },
            "type": "barpolar"
           }
          ],
          "carpet": [
           {
            "aaxis": {
             "endlinecolor": "#2a3f5f",
             "gridcolor": "white",
             "linecolor": "white",
             "minorgridcolor": "white",
             "startlinecolor": "#2a3f5f"
            },
            "baxis": {
             "endlinecolor": "#2a3f5f",
             "gridcolor": "white",
             "linecolor": "white",
             "minorgridcolor": "white",
             "startlinecolor": "#2a3f5f"
            },
            "type": "carpet"
           }
          ],
          "choropleth": [
           {
            "colorbar": {
             "outlinewidth": 0,
             "ticks": ""
            },
            "type": "choropleth"
           }
          ],
          "contour": [
           {
            "colorbar": {
             "outlinewidth": 0,
             "ticks": ""
            },
            "colorscale": [
             [
              0,
              "#0d0887"
             ],
             [
              0.1111111111111111,
              "#46039f"
             ],
             [
              0.2222222222222222,
              "#7201a8"
             ],
             [
              0.3333333333333333,
              "#9c179e"
             ],
             [
              0.4444444444444444,
              "#bd3786"
             ],
             [
              0.5555555555555556,
              "#d8576b"
             ],
             [
              0.6666666666666666,
              "#ed7953"
             ],
             [
              0.7777777777777778,
              "#fb9f3a"
             ],
             [
              0.8888888888888888,
              "#fdca26"
             ],
             [
              1,
              "#f0f921"
             ]
            ],
            "type": "contour"
           }
          ],
          "contourcarpet": [
           {
            "colorbar": {
             "outlinewidth": 0,
             "ticks": ""
            },
            "type": "contourcarpet"
           }
          ],
          "heatmap": [
           {
            "colorbar": {
             "outlinewidth": 0,
             "ticks": ""
            },
            "colorscale": [
             [
              0,
              "#0d0887"
             ],
             [
              0.1111111111111111,
              "#46039f"
             ],
             [
              0.2222222222222222,
              "#7201a8"
             ],
             [
              0.3333333333333333,
              "#9c179e"
             ],
             [
              0.4444444444444444,
              "#bd3786"
             ],
             [
              0.5555555555555556,
              "#d8576b"
             ],
             [
              0.6666666666666666,
              "#ed7953"
             ],
             [
              0.7777777777777778,
              "#fb9f3a"
             ],
             [
              0.8888888888888888,
              "#fdca26"
             ],
             [
              1,
              "#f0f921"
             ]
            ],
            "type": "heatmap"
           }
          ],
          "heatmapgl": [
           {
            "colorbar": {
             "outlinewidth": 0,
             "ticks": ""
            },
            "colorscale": [
             [
              0,
              "#0d0887"
             ],
             [
              0.1111111111111111,
              "#46039f"
             ],
             [
              0.2222222222222222,
              "#7201a8"
             ],
             [
              0.3333333333333333,
              "#9c179e"
             ],
             [
              0.4444444444444444,
              "#bd3786"
             ],
             [
              0.5555555555555556,
              "#d8576b"
             ],
             [
              0.6666666666666666,
              "#ed7953"
             ],
             [
              0.7777777777777778,
              "#fb9f3a"
             ],
             [
              0.8888888888888888,
              "#fdca26"
             ],
             [
              1,
              "#f0f921"
             ]
            ],
            "type": "heatmapgl"
           }
          ],
          "histogram": [
           {
            "marker": {
             "pattern": {
              "fillmode": "overlay",
              "size": 10,
              "solidity": 0.2
             }
            },
            "type": "histogram"
           }
          ],
          "histogram2d": [
           {
            "colorbar": {
             "outlinewidth": 0,
             "ticks": ""
            },
            "colorscale": [
             [
              0,
              "#0d0887"
             ],
             [
              0.1111111111111111,
              "#46039f"
             ],
             [
              0.2222222222222222,
              "#7201a8"
             ],
             [
              0.3333333333333333,
              "#9c179e"
             ],
             [
              0.4444444444444444,
              "#bd3786"
             ],
             [
              0.5555555555555556,
              "#d8576b"
             ],
             [
              0.6666666666666666,
              "#ed7953"
             ],
             [
              0.7777777777777778,
              "#fb9f3a"
             ],
             [
              0.8888888888888888,
              "#fdca26"
             ],
             [
              1,
              "#f0f921"
             ]
            ],
            "type": "histogram2d"
           }
          ],
          "histogram2dcontour": [
           {
            "colorbar": {
             "outlinewidth": 0,
             "ticks": ""
            },
            "colorscale": [
             [
              0,
              "#0d0887"
             ],
             [
              0.1111111111111111,
              "#46039f"
             ],
             [
              0.2222222222222222,
              "#7201a8"
             ],
             [
              0.3333333333333333,
              "#9c179e"
             ],
             [
              0.4444444444444444,
              "#bd3786"
             ],
             [
              0.5555555555555556,
              "#d8576b"
             ],
             [
              0.6666666666666666,
              "#ed7953"
             ],
             [
              0.7777777777777778,
              "#fb9f3a"
             ],
             [
              0.8888888888888888,
              "#fdca26"
             ],
             [
              1,
              "#f0f921"
             ]
            ],
            "type": "histogram2dcontour"
           }
          ],
          "mesh3d": [
           {
            "colorbar": {
             "outlinewidth": 0,
             "ticks": ""
            },
            "type": "mesh3d"
           }
          ],
          "parcoords": [
           {
            "line": {
             "colorbar": {
              "outlinewidth": 0,
              "ticks": ""
             }
            },
            "type": "parcoords"
           }
          ],
          "pie": [
           {
            "automargin": true,
            "type": "pie"
           }
          ],
          "scatter": [
           {
            "fillpattern": {
             "fillmode": "overlay",
             "size": 10,
             "solidity": 0.2
            },
            "type": "scatter"
           }
          ],
          "scatter3d": [
           {
            "line": {
             "colorbar": {
              "outlinewidth": 0,
              "ticks": ""
             }
            },
            "marker": {
             "colorbar": {
              "outlinewidth": 0,
              "ticks": ""
             }
            },
            "type": "scatter3d"
           }
          ],
          "scattercarpet": [
           {
            "marker": {
             "colorbar": {
              "outlinewidth": 0,
              "ticks": ""
             }
            },
            "type": "scattercarpet"
           }
          ],
          "scattergeo": [
           {
            "marker": {
             "colorbar": {
              "outlinewidth": 0,
              "ticks": ""
             }
            },
            "type": "scattergeo"
           }
          ],
          "scattergl": [
           {
            "marker": {
             "colorbar": {
              "outlinewidth": 0,
              "ticks": ""
             }
            },
            "type": "scattergl"
           }
          ],
          "scattermapbox": [
           {
            "marker": {
             "colorbar": {
              "outlinewidth": 0,
              "ticks": ""
             }
            },
            "type": "scattermapbox"
           }
          ],
          "scatterpolar": [
           {
            "marker": {
             "colorbar": {
              "outlinewidth": 0,
              "ticks": ""
             }
            },
            "type": "scatterpolar"
           }
          ],
          "scatterpolargl": [
           {
            "marker": {
             "colorbar": {
              "outlinewidth": 0,
              "ticks": ""
             }
            },
            "type": "scatterpolargl"
           }
          ],
          "scatterternary": [
           {
            "marker": {
             "colorbar": {
              "outlinewidth": 0,
              "ticks": ""
             }
            },
            "type": "scatterternary"
           }
          ],
          "surface": [
           {
            "colorbar": {
             "outlinewidth": 0,
             "ticks": ""
            },
            "colorscale": [
             [
              0,
              "#0d0887"
             ],
             [
              0.1111111111111111,
              "#46039f"
             ],
             [
              0.2222222222222222,
              "#7201a8"
             ],
             [
              0.3333333333333333,
              "#9c179e"
             ],
             [
              0.4444444444444444,
              "#bd3786"
             ],
             [
              0.5555555555555556,
              "#d8576b"
             ],
             [
              0.6666666666666666,
              "#ed7953"
             ],
             [
              0.7777777777777778,
              "#fb9f3a"
             ],
             [
              0.8888888888888888,
              "#fdca26"
             ],
             [
              1,
              "#f0f921"
             ]
            ],
            "type": "surface"
           }
          ],
          "table": [
           {
            "cells": {
             "fill": {
              "color": "#EBF0F8"
             },
             "line": {
              "color": "white"
             }
            },
            "header": {
             "fill": {
              "color": "#C8D4E3"
             },
             "line": {
              "color": "white"
             }
            },
            "type": "table"
           }
          ]
         },
         "layout": {
          "annotationdefaults": {
           "arrowcolor": "#2a3f5f",
           "arrowhead": 0,
           "arrowwidth": 1
          },
          "autotypenumbers": "strict",
          "coloraxis": {
           "colorbar": {
            "outlinewidth": 0,
            "ticks": ""
           }
          },
          "colorscale": {
           "diverging": [
            [
             0,
             "#8e0152"
            ],
            [
             0.1,
             "#c51b7d"
            ],
            [
             0.2,
             "#de77ae"
            ],
            [
             0.3,
             "#f1b6da"
            ],
            [
             0.4,
             "#fde0ef"
            ],
            [
             0.5,
             "#f7f7f7"
            ],
            [
             0.6,
             "#e6f5d0"
            ],
            [
             0.7,
             "#b8e186"
            ],
            [
             0.8,
             "#7fbc41"
            ],
            [
             0.9,
             "#4d9221"
            ],
            [
             1,
             "#276419"
            ]
           ],
           "sequential": [
            [
             0,
             "#0d0887"
            ],
            [
             0.1111111111111111,
             "#46039f"
            ],
            [
             0.2222222222222222,
             "#7201a8"
            ],
            [
             0.3333333333333333,
             "#9c179e"
            ],
            [
             0.4444444444444444,
             "#bd3786"
            ],
            [
             0.5555555555555556,
             "#d8576b"
            ],
            [
             0.6666666666666666,
             "#ed7953"
            ],
            [
             0.7777777777777778,
             "#fb9f3a"
            ],
            [
             0.8888888888888888,
             "#fdca26"
            ],
            [
             1,
             "#f0f921"
            ]
           ],
           "sequentialminus": [
            [
             0,
             "#0d0887"
            ],
            [
             0.1111111111111111,
             "#46039f"
            ],
            [
             0.2222222222222222,
             "#7201a8"
            ],
            [
             0.3333333333333333,
             "#9c179e"
            ],
            [
             0.4444444444444444,
             "#bd3786"
            ],
            [
             0.5555555555555556,
             "#d8576b"
            ],
            [
             0.6666666666666666,
             "#ed7953"
            ],
            [
             0.7777777777777778,
             "#fb9f3a"
            ],
            [
             0.8888888888888888,
             "#fdca26"
            ],
            [
             1,
             "#f0f921"
            ]
           ]
          },
          "colorway": [
           "#636efa",
           "#EF553B",
           "#00cc96",
           "#ab63fa",
           "#FFA15A",
           "#19d3f3",
           "#FF6692",
           "#B6E880",
           "#FF97FF",
           "#FECB52"
          ],
          "font": {
           "color": "#2a3f5f"
          },
          "geo": {
           "bgcolor": "white",
           "lakecolor": "white",
           "landcolor": "#E5ECF6",
           "showlakes": true,
           "showland": true,
           "subunitcolor": "white"
          },
          "hoverlabel": {
           "align": "left"
          },
          "hovermode": "closest",
          "mapbox": {
           "style": "light"
          },
          "paper_bgcolor": "white",
          "plot_bgcolor": "#E5ECF6",
          "polar": {
           "angularaxis": {
            "gridcolor": "white",
            "linecolor": "white",
            "ticks": ""
           },
           "bgcolor": "#E5ECF6",
           "radialaxis": {
            "gridcolor": "white",
            "linecolor": "white",
            "ticks": ""
           }
          },
          "scene": {
           "xaxis": {
            "backgroundcolor": "#E5ECF6",
            "gridcolor": "white",
            "gridwidth": 2,
            "linecolor": "white",
            "showbackground": true,
            "ticks": "",
            "zerolinecolor": "white"
           },
           "yaxis": {
            "backgroundcolor": "#E5ECF6",
            "gridcolor": "white",
            "gridwidth": 2,
            "linecolor": "white",
            "showbackground": true,
            "ticks": "",
            "zerolinecolor": "white"
           },
           "zaxis": {
            "backgroundcolor": "#E5ECF6",
            "gridcolor": "white",
            "gridwidth": 2,
            "linecolor": "white",
            "showbackground": true,
            "ticks": "",
            "zerolinecolor": "white"
           }
          },
          "shapedefaults": {
           "line": {
            "color": "#2a3f5f"
           }
          },
          "ternary": {
           "aaxis": {
            "gridcolor": "white",
            "linecolor": "white",
            "ticks": ""
           },
           "baxis": {
            "gridcolor": "white",
            "linecolor": "white",
            "ticks": ""
           },
           "bgcolor": "#E5ECF6",
           "caxis": {
            "gridcolor": "white",
            "linecolor": "white",
            "ticks": ""
           }
          },
          "title": {
           "x": 0.05
          },
          "xaxis": {
           "automargin": true,
           "gridcolor": "white",
           "linecolor": "white",
           "ticks": "",
           "title": {
            "standoff": 15
           },
           "zerolinecolor": "white",
           "zerolinewidth": 2
          },
          "yaxis": {
           "automargin": true,
           "gridcolor": "white",
           "linecolor": "white",
           "ticks": "",
           "title": {
            "standoff": 15
           },
           "zerolinecolor": "white",
           "zerolinewidth": 2
          }
         }
        },
        "xaxis": {
         "anchor": "y",
         "categoryarray": [
          "HCDMSO",
          "PREDMSO",
          "PREmdivi1 25uM",
          "MDMSO",
          "Mmdivi1 25uM",
          "SDMSO",
          "Smdivi1 25uM"
         ],
         "categoryorder": "array",
         "domain": [
          0,
          1
         ],
         "title": {
          "text": "group"
         }
        },
        "yaxis": {
         "anchor": "x",
         "domain": [
          0,
          1
         ],
         "title": {
          "text": "group_p"
         }
        }
       }
      },
      "text/html": [
       "<div>                            <div id=\"7e44e039-f512-4c2b-9cb5-4ce4e52d5551\" class=\"plotly-graph-div\" style=\"height:525px; width:100%;\"></div>            <script type=\"text/javascript\">                require([\"plotly\"], function(Plotly) {                    window.PLOTLYENV=window.PLOTLYENV || {};                                    if (document.getElementById(\"7e44e039-f512-4c2b-9cb5-4ce4e52d5551\")) {                    Plotly.newPlot(                        \"7e44e039-f512-4c2b-9cb5-4ce4e52d5551\",                        [{\"alignmentgroup\":\"True\",\"boxpoints\":\"all\",\"customdata\":[[\"PREDMSO4719.0p4\"],[\"PREDMSO4689.0p6\"],[\"PREDMSO4689.0p6\"],[\"PREDMSO4689.0p6\"],[\"PREDMSO4719.0p5\"],[\"PREDMSO4717.0p7\"],[\"PREDMSO4689.0p6\"],[\"PREDMSO4719.0p5\"],[\"PREDMSO4837.0p9\"],[\"PREDMSO4719.0p4\"],[\"PREDMSO4717.0p7\"],[\"PREDMSO4837.0p9\"],[\"PREDMSO4719.0p5\"],[\"PREDMSO4719.0p5\"],[\"PREDMSO4837.0p9\"],[\"PREDMSO4717.0p7\"],[\"PREDMSO4719.0p4\"],[\"PREDMSO4717.0p7\"],[\"PREDMSO4719.0p4\"],[\"PREDMSO4719.0p5\"],[\"PREDMSO4719.0p4\"],[\"PREDMSO4719.0p4\"],[\"PREDMSO4837.0p9\"],[\"PREDMSO4837.0p9\"],[\"PREDMSO4689.0p6\"],[\"PREDMSO4689.0p6\"],[\"PREDMSO4717.0p7\"],[\"PREDMSO4717.0p7\"]],\"hovertemplate\":\"group=%{x}<br>group_p=%{y}<br>group_with_p=%{customdata[0]}<extra></extra>\",\"legendgroup\":\"PREDMSO\",\"marker\":{\"color\":\"#636efa\"},\"name\":\"PREDMSO\",\"notched\":true,\"offsetgroup\":\"PREDMSO\",\"orientation\":\"v\",\"showlegend\":true,\"x\":[\"PREDMSO\",\"PREDMSO\",\"PREDMSO\",\"PREDMSO\",\"PREDMSO\",\"PREDMSO\",\"PREDMSO\",\"PREDMSO\",\"PREDMSO\",\"PREDMSO\",\"PREDMSO\",\"PREDMSO\",\"PREDMSO\",\"PREDMSO\",\"PREDMSO\",\"PREDMSO\",\"PREDMSO\",\"PREDMSO\",\"PREDMSO\",\"PREDMSO\",\"PREDMSO\",\"PREDMSO\",\"PREDMSO\",\"PREDMSO\",\"PREDMSO\",\"PREDMSO\",\"PREDMSO\",\"PREDMSO\"],\"x0\":\" \",\"xaxis\":\"x\",\"y\":[\"PREDMSOp4\",\"PREDMSOp6\",\"PREDMSOp6\",\"PREDMSOp6\",\"PREDMSOp5\",\"PREDMSOp7\",\"PREDMSOp6\",\"PREDMSOp5\",\"PREDMSOp9\",\"PREDMSOp4\",\"PREDMSOp7\",\"PREDMSOp9\",\"PREDMSOp5\",\"PREDMSOp5\",\"PREDMSOp9\",\"PREDMSOp7\",\"PREDMSOp4\",\"PREDMSOp7\",\"PREDMSOp4\",\"PREDMSOp5\",\"PREDMSOp4\",\"PREDMSOp4\",\"PREDMSOp9\",\"PREDMSOp9\",\"PREDMSOp6\",\"PREDMSOp6\",\"PREDMSOp7\",\"PREDMSOp7\"],\"y0\":\" \",\"yaxis\":\"y\",\"type\":\"box\",\"quartilemethod\":\"inclusive\"},{\"alignmentgroup\":\"True\",\"boxpoints\":\"all\",\"customdata\":[[\"PREmdivi1 25uM4719.0p4\"],[\"PREmdivi1 25uM4689.0p6\"],[\"PREmdivi1 25uM4719.0p4\"],[\"PREmdivi1 25uM4689.0p6\"],[\"PREmdivi1 25uM4689.0p6\"],[\"PREmdivi1 25uM4719.0p5\"],[\"PREmdivi1 25uM4719.0p5\"],[\"PREmdivi1 25uM4717.0p7\"],[\"PREmdivi1 25uM4719.0p4\"],[\"PREmdivi1 25uM4689.0p6\"],[\"PREmdivi1 25uM4719.0p5\"],[\"PREmdivi1 25uM4837.0p9\"],[\"PREmdivi1 25uM4719.0p4\"],[\"PREmdivi1 25uM4837.0p9\"],[\"PREmdivi1 25uM4717.0p7\"],[\"PREmdivi1 25uM4719.0p4\"],[\"PREmdivi1 25uM4837.0p9\"],[\"PREmdivi1 25uM4689.0p6\"],[\"PREmdivi1 25uM4717.0p7\"],[\"PREmdivi1 25uM4719.0p5\"],[\"PREmdivi1 25uM4689.0p6\"],[\"PREmdivi1 25uM4719.0p5\"],[\"PREmdivi1 25uM4717.0p7\"],[\"PREmdivi1 25uM4837.0p9\"],[\"PREmdivi1 25uM4717.0p7\"],[\"PREmdivi1 25uM4719.0p5\"],[\"PREmdivi1 25uM4719.0p4\"]],\"hovertemplate\":\"group=%{x}<br>group_p=%{y}<br>group_with_p=%{customdata[0]}<extra></extra>\",\"legendgroup\":\"PREmdivi1 25uM\",\"marker\":{\"color\":\"#EF553B\"},\"name\":\"PREmdivi1 25uM\",\"notched\":true,\"offsetgroup\":\"PREmdivi1 25uM\",\"orientation\":\"v\",\"showlegend\":true,\"x\":[\"PREmdivi1 25uM\",\"PREmdivi1 25uM\",\"PREmdivi1 25uM\",\"PREmdivi1 25uM\",\"PREmdivi1 25uM\",\"PREmdivi1 25uM\",\"PREmdivi1 25uM\",\"PREmdivi1 25uM\",\"PREmdivi1 25uM\",\"PREmdivi1 25uM\",\"PREmdivi1 25uM\",\"PREmdivi1 25uM\",\"PREmdivi1 25uM\",\"PREmdivi1 25uM\",\"PREmdivi1 25uM\",\"PREmdivi1 25uM\",\"PREmdivi1 25uM\",\"PREmdivi1 25uM\",\"PREmdivi1 25uM\",\"PREmdivi1 25uM\",\"PREmdivi1 25uM\",\"PREmdivi1 25uM\",\"PREmdivi1 25uM\",\"PREmdivi1 25uM\",\"PREmdivi1 25uM\",\"PREmdivi1 25uM\",\"PREmdivi1 25uM\"],\"x0\":\" \",\"xaxis\":\"x\",\"y\":[\"PREmdivi1 25uMp4\",\"PREmdivi1 25uMp6\",\"PREmdivi1 25uMp4\",\"PREmdivi1 25uMp6\",\"PREmdivi1 25uMp6\",\"PREmdivi1 25uMp5\",\"PREmdivi1 25uMp5\",\"PREmdivi1 25uMp7\",\"PREmdivi1 25uMp4\",\"PREmdivi1 25uMp6\",\"PREmdivi1 25uMp5\",\"PREmdivi1 25uMp9\",\"PREmdivi1 25uMp4\",\"PREmdivi1 25uMp9\",\"PREmdivi1 25uMp7\",\"PREmdivi1 25uMp4\",\"PREmdivi1 25uMp9\",\"PREmdivi1 25uMp6\",\"PREmdivi1 25uMp7\",\"PREmdivi1 25uMp5\",\"PREmdivi1 25uMp6\",\"PREmdivi1 25uMp5\",\"PREmdivi1 25uMp7\",\"PREmdivi1 25uMp9\",\"PREmdivi1 25uMp7\",\"PREmdivi1 25uMp5\",\"PREmdivi1 25uMp4\"],\"y0\":\" \",\"yaxis\":\"y\",\"type\":\"box\",\"quartilemethod\":\"inclusive\"},{\"alignmentgroup\":\"True\",\"boxpoints\":\"all\",\"customdata\":[[\"SDMSO4476.0p10\"],[\"SDMSO4709.0p9\"],[\"SDMSO4709.0p9\"],[\"SDMSO4687.0p7\"],[\"SDMSO4807.0p8\"],[\"SDMSO4687.0p7\"],[\"SDMSO4687.0p7\"],[\"SDMSO305.0p6\"],[\"SDMSO4807.0p8\"],[\"SDMSO2165.0p10\"],[\"SDMSO4709.0p9\"],[\"SDMSO305.0p6\"],[\"SDMSO4287.0p5\"],[\"SDMSO4709.0p9\"],[\"SDMSO305.0p6\"],[\"SDMSO4476.0p10\"],[\"SDMSO4687.0p7\"],[\"SDMSO305.0p6\"],[\"SDMSO305.0p6\"],[\"SDMSO2165.0p10\"],[\"SDMSO305.0p6\"],[\"SDMSO4687.0p7\"],[\"SDMSO4807.0p8\"],[\"SDMSO2165.0p10\"],[\"SDMSO4687.0p7\"],[\"SDMSO4476.0p10\"],[\"SDMSO4709.0p9\"],[\"SDMSO4709.0p9\"]],\"hovertemplate\":\"group=%{x}<br>group_p=%{y}<br>group_with_p=%{customdata[0]}<extra></extra>\",\"legendgroup\":\"SDMSO\",\"marker\":{\"color\":\"#00cc96\"},\"name\":\"SDMSO\",\"notched\":true,\"offsetgroup\":\"SDMSO\",\"orientation\":\"v\",\"showlegend\":true,\"x\":[\"SDMSO\",\"SDMSO\",\"SDMSO\",\"SDMSO\",\"SDMSO\",\"SDMSO\",\"SDMSO\",\"SDMSO\",\"SDMSO\",\"SDMSO\",\"SDMSO\",\"SDMSO\",\"SDMSO\",\"SDMSO\",\"SDMSO\",\"SDMSO\",\"SDMSO\",\"SDMSO\",\"SDMSO\",\"SDMSO\",\"SDMSO\",\"SDMSO\",\"SDMSO\",\"SDMSO\",\"SDMSO\",\"SDMSO\",\"SDMSO\",\"SDMSO\"],\"x0\":\" \",\"xaxis\":\"x\",\"y\":[\"SDMSOp10\",\"SDMSOp9\",\"SDMSOp9\",\"SDMSOp7\",\"SDMSOp8\",\"SDMSOp7\",\"SDMSOp7\",\"SDMSOp6\",\"SDMSOp8\",\"SDMSOp10\",\"SDMSOp9\",\"SDMSOp6\",\"SDMSOp5\",\"SDMSOp9\",\"SDMSOp6\",\"SDMSOp10\",\"SDMSOp7\",\"SDMSOp6\",\"SDMSOp6\",\"SDMSOp10\",\"SDMSOp6\",\"SDMSOp7\",\"SDMSOp8\",\"SDMSOp10\",\"SDMSOp7\",\"SDMSOp10\",\"SDMSOp9\",\"SDMSOp9\"],\"y0\":\" \",\"yaxis\":\"y\",\"type\":\"box\",\"quartilemethod\":\"inclusive\"},{\"alignmentgroup\":\"True\",\"boxpoints\":\"all\",\"customdata\":[[\"Smdivi1 25uM305.0p6\"],[\"Smdivi1 25uM4476.0p10\"],[\"Smdivi1 25uM305.0p6\"],[\"Smdivi1 25uM4476.0p10\"],[\"Smdivi1 25uM2165.0p10\"],[\"Smdivi1 25uM4287.0p5\"],[\"Smdivi1 25uM4709.0p9\"],[\"Smdivi1 25uM4287.0p5\"],[\"Smdivi1 25uM4709.0p9\"],[\"Smdivi1 25uM2165.0p10\"],[\"Smdivi1 25uM4287.0p5\"],[\"Smdivi1 25uM4287.0p5\"],[\"Smdivi1 25uM4687.0p7\"],[\"Smdivi1 25uM4709.0p9\"],[\"Smdivi1 25uM2165.0p10\"],[\"Smdivi1 25uM305.0p6\"],[\"Smdivi1 25uM305.0p6\"],[\"Smdivi1 25uM4687.0p7\"],[\"Smdivi1 25uM4287.0p5\"],[\"Smdivi1 25uM4687.0p7\"],[\"Smdivi1 25uM305.0p6\"],[\"Smdivi1 25uM4687.0p7\"],[\"Smdivi1 25uM2165.0p10\"],[\"Smdivi1 25uM4476.0p10\"],[\"Smdivi1 25uM4476.0p10\"],[\"Smdivi1 25uM2165.0p10\"],[\"Smdivi1 25uM4687.0p7\"],[\"Smdivi1 25uM4709.0p9\"],[\"Smdivi1 25uM4687.0p7\"],[\"Smdivi1 25uM4807.0p8\"],[\"Smdivi1 25uM4476.0p10\"],[\"Smdivi1 25uM4807.0p8\"],[\"Smdivi1 25uM4709.0p9\"],[\"Smdivi1 25uM4709.0p9\"],[\"Smdivi1 25uM305.0p6\"],[\"Smdivi1 25uM4476.0p10\"],[\"Smdivi1 25uM2165.0p10\"]],\"hovertemplate\":\"group=%{x}<br>group_p=%{y}<br>group_with_p=%{customdata[0]}<extra></extra>\",\"legendgroup\":\"Smdivi1 25uM\",\"marker\":{\"color\":\"#ab63fa\"},\"name\":\"Smdivi1 25uM\",\"notched\":true,\"offsetgroup\":\"Smdivi1 25uM\",\"orientation\":\"v\",\"showlegend\":true,\"x\":[\"Smdivi1 25uM\",\"Smdivi1 25uM\",\"Smdivi1 25uM\",\"Smdivi1 25uM\",\"Smdivi1 25uM\",\"Smdivi1 25uM\",\"Smdivi1 25uM\",\"Smdivi1 25uM\",\"Smdivi1 25uM\",\"Smdivi1 25uM\",\"Smdivi1 25uM\",\"Smdivi1 25uM\",\"Smdivi1 25uM\",\"Smdivi1 25uM\",\"Smdivi1 25uM\",\"Smdivi1 25uM\",\"Smdivi1 25uM\",\"Smdivi1 25uM\",\"Smdivi1 25uM\",\"Smdivi1 25uM\",\"Smdivi1 25uM\",\"Smdivi1 25uM\",\"Smdivi1 25uM\",\"Smdivi1 25uM\",\"Smdivi1 25uM\",\"Smdivi1 25uM\",\"Smdivi1 25uM\",\"Smdivi1 25uM\",\"Smdivi1 25uM\",\"Smdivi1 25uM\",\"Smdivi1 25uM\",\"Smdivi1 25uM\",\"Smdivi1 25uM\",\"Smdivi1 25uM\",\"Smdivi1 25uM\",\"Smdivi1 25uM\",\"Smdivi1 25uM\"],\"x0\":\" \",\"xaxis\":\"x\",\"y\":[\"Smdivi1 25uMp6\",\"Smdivi1 25uMp10\",\"Smdivi1 25uMp6\",\"Smdivi1 25uMp10\",\"Smdivi1 25uMp10\",\"Smdivi1 25uMp5\",\"Smdivi1 25uMp9\",\"Smdivi1 25uMp5\",\"Smdivi1 25uMp9\",\"Smdivi1 25uMp10\",\"Smdivi1 25uMp5\",\"Smdivi1 25uMp5\",\"Smdivi1 25uMp7\",\"Smdivi1 25uMp9\",\"Smdivi1 25uMp10\",\"Smdivi1 25uMp6\",\"Smdivi1 25uMp6\",\"Smdivi1 25uMp7\",\"Smdivi1 25uMp5\",\"Smdivi1 25uMp7\",\"Smdivi1 25uMp6\",\"Smdivi1 25uMp7\",\"Smdivi1 25uMp10\",\"Smdivi1 25uMp10\",\"Smdivi1 25uMp10\",\"Smdivi1 25uMp10\",\"Smdivi1 25uMp7\",\"Smdivi1 25uMp9\",\"Smdivi1 25uMp7\",\"Smdivi1 25uMp8\",\"Smdivi1 25uMp10\",\"Smdivi1 25uMp8\",\"Smdivi1 25uMp9\",\"Smdivi1 25uMp9\",\"Smdivi1 25uMp6\",\"Smdivi1 25uMp10\",\"Smdivi1 25uMp10\"],\"y0\":\" \",\"yaxis\":\"y\",\"type\":\"box\",\"quartilemethod\":\"inclusive\"},{\"alignmentgroup\":\"True\",\"boxpoints\":\"all\",\"customdata\":[[\"HCDMSO143.0p7\"],[\"HCDMSO1653.0p8\"],[\"HCDMSO1653.0p4\"],[\"HCDMSO730.0p9\"],[\"HCDMSO1653.0p5\"],[\"HCDMSO730.0p9\"],[\"HCDMSO1653.0p7\"],[\"HCDMSO1650.0p8\"],[\"HCDMSO1653.0p8\"],[\"HCDMSO1653.0p4\"],[\"HCDMSO730.0p8\"],[\"HCDMSO730.0p9\"],[\"HCDMSO1653.0p8\"],[\"HCDMSO1653.0p7\"],[\"HCDMSO1016.0p10\"],[\"HCDMSO730.0p9\"],[\"HCDMSO143.0p7\"],[\"HCDMSO1650.0p8\"],[\"HCDMSO1650.0p6\"],[\"HCDMSO1650.0p5\"],[\"HCDMSO1016.0p10\"],[\"HCDMSO1653.0p4\"],[\"HCDMSO1650.0p5\"],[\"HCDMSO1650.0p8\"],[\"HCDMSO730.0p8\"],[\"HCDMSO730.0p9\"],[\"HCDMSO1653.0p4\"],[\"HCDMSO1016.0p10\"],[\"HCDMSO1653.0p4\"],[\"HCDMSO1016.0p10\"],[\"HCDMSO730.0p8\"],[\"HCDMSO143.0p7\"],[\"HCDMSO143.0p7\"],[\"HCDMSO730.0p9\"],[\"HCDMSO1653.0p5\"],[\"HCDMSO1653.0p5\"],[\"HCDMSO1650.0p8\"],[\"HCDMSO1650.0p5\"],[\"HCDMSO730.0p8\"],[\"HCDMSO1016.0p10\"],[\"HCDMSO495.0p7\"],[\"HCDMSO1650.0p8\"],[\"HCDMSO1650.0p5\"],[\"HCDMSO1653.0p7\"],[\"HCDMSO1650.0p6\"],[\"HCDMSO143.0p7\"],[\"HCDMSO1653.0p7\"],[\"HCDMSO1016.0p10\"],[\"HCDMSO1653.0p7\"],[\"HCDMSO1650.0p6\"],[\"HCDMSO1653.0p8\"],[\"HCDMSO1650.0p8\"],[\"HCDMSO1653.0p5\"],[\"HCDMSO1653.0p8\"],[\"HCDMSO1653.0p5\"],[\"HCDMSO730.0p8\"],[\"HCDMSO1653.0p7\"],[\"HCDMSO1653.0p8\"],[\"HCDMSO1653.0p5\"],[\"HCDMSO1650.0p6\"]],\"hovertemplate\":\"group=%{x}<br>group_p=%{y}<br>group_with_p=%{customdata[0]}<extra></extra>\",\"legendgroup\":\"HCDMSO\",\"marker\":{\"color\":\"#FFA15A\"},\"name\":\"HCDMSO\",\"notched\":true,\"offsetgroup\":\"HCDMSO\",\"orientation\":\"v\",\"showlegend\":true,\"x\":[\"HCDMSO\",\"HCDMSO\",\"HCDMSO\",\"HCDMSO\",\"HCDMSO\",\"HCDMSO\",\"HCDMSO\",\"HCDMSO\",\"HCDMSO\",\"HCDMSO\",\"HCDMSO\",\"HCDMSO\",\"HCDMSO\",\"HCDMSO\",\"HCDMSO\",\"HCDMSO\",\"HCDMSO\",\"HCDMSO\",\"HCDMSO\",\"HCDMSO\",\"HCDMSO\",\"HCDMSO\",\"HCDMSO\",\"HCDMSO\",\"HCDMSO\",\"HCDMSO\",\"HCDMSO\",\"HCDMSO\",\"HCDMSO\",\"HCDMSO\",\"HCDMSO\",\"HCDMSO\",\"HCDMSO\",\"HCDMSO\",\"HCDMSO\",\"HCDMSO\",\"HCDMSO\",\"HCDMSO\",\"HCDMSO\",\"HCDMSO\",\"HCDMSO\",\"HCDMSO\",\"HCDMSO\",\"HCDMSO\",\"HCDMSO\",\"HCDMSO\",\"HCDMSO\",\"HCDMSO\",\"HCDMSO\",\"HCDMSO\",\"HCDMSO\",\"HCDMSO\",\"HCDMSO\",\"HCDMSO\",\"HCDMSO\",\"HCDMSO\",\"HCDMSO\",\"HCDMSO\",\"HCDMSO\",\"HCDMSO\"],\"x0\":\" \",\"xaxis\":\"x\",\"y\":[\"HCDMSOp7\",\"HCDMSOp8\",\"HCDMSOp4\",\"HCDMSOp9\",\"HCDMSOp5\",\"HCDMSOp9\",\"HCDMSOp7\",\"HCDMSOp8\",\"HCDMSOp8\",\"HCDMSOp4\",\"HCDMSOp8\",\"HCDMSOp9\",\"HCDMSOp8\",\"HCDMSOp7\",\"HCDMSOp10\",\"HCDMSOp9\",\"HCDMSOp7\",\"HCDMSOp8\",\"HCDMSOp6\",\"HCDMSOp5\",\"HCDMSOp10\",\"HCDMSOp4\",\"HCDMSOp5\",\"HCDMSOp8\",\"HCDMSOp8\",\"HCDMSOp9\",\"HCDMSOp4\",\"HCDMSOp10\",\"HCDMSOp4\",\"HCDMSOp10\",\"HCDMSOp8\",\"HCDMSOp7\",\"HCDMSOp7\",\"HCDMSOp9\",\"HCDMSOp5\",\"HCDMSOp5\",\"HCDMSOp8\",\"HCDMSOp5\",\"HCDMSOp8\",\"HCDMSOp10\",\"HCDMSOp7\",\"HCDMSOp8\",\"HCDMSOp5\",\"HCDMSOp7\",\"HCDMSOp6\",\"HCDMSOp7\",\"HCDMSOp7\",\"HCDMSOp10\",\"HCDMSOp7\",\"HCDMSOp6\",\"HCDMSOp8\",\"HCDMSOp8\",\"HCDMSOp5\",\"HCDMSOp8\",\"HCDMSOp5\",\"HCDMSOp8\",\"HCDMSOp7\",\"HCDMSOp8\",\"HCDMSOp5\",\"HCDMSOp6\"],\"y0\":\" \",\"yaxis\":\"y\",\"type\":\"box\",\"quartilemethod\":\"inclusive\"},{\"alignmentgroup\":\"True\",\"boxpoints\":\"all\",\"customdata\":[[\"Mmdivi1 25uM4819.0p4\"],[\"Mmdivi1 25uM4819.0p4\"],[\"Mmdivi1 25uM4212.0p9\"],[\"Mmdivi1 25uM4819.0p4\"],[\"Mmdivi1 25uM4887.0p7\"],[\"Mmdivi1 25uM4212.0p9\"],[\"Mmdivi1 25uM4887.0p7\"],[\"Mmdivi1 25uM4721.0p5\"],[\"Mmdivi1 25uM4799.0p8\"],[\"Mmdivi1 25uM4799.0p8\"],[\"Mmdivi1 25uM4721.0p5\"],[\"Mmdivi1 25uM4212.0p9\"],[\"Mmdivi1 25uM4819.0p4\"],[\"Mmdivi1 25uM4721.0p5\"],[\"Mmdivi1 25uM4887.0p7\"],[\"Mmdivi1 25uM4887.0p7\"],[\"Mmdivi1 25uM4799.0p8\"],[\"Mmdivi1 25uM4212.0p9\"],[\"Mmdivi1 25uM4715.0p6\"],[\"Mmdivi1 25uM4887.0p7\"],[\"Mmdivi1 25uM4819.0p4\"],[\"Mmdivi1 25uM4715.0p6\"],[\"Mmdivi1 25uM4721.0p5\"],[\"Mmdivi1 25uM4721.0p5\"],[\"Mmdivi1 25uM4721.0p5\"],[\"Mmdivi1 25uM4212.0p9\"],[\"Mmdivi1 25uM4819.0p4\"],[\"Mmdivi1 25uM4799.0p8\"],[\"Mmdivi1 25uM4799.0p8\"],[\"Mmdivi1 25uM4887.0p7\"],[\"Mmdivi1 25uM4799.0p8\"],[\"Mmdivi1 25uM4715.0p6\"],[\"Mmdivi1 25uM4212.0p9\"]],\"hovertemplate\":\"group=%{x}<br>group_p=%{y}<br>group_with_p=%{customdata[0]}<extra></extra>\",\"legendgroup\":\"Mmdivi1 25uM\",\"marker\":{\"color\":\"#19d3f3\"},\"name\":\"Mmdivi1 25uM\",\"notched\":true,\"offsetgroup\":\"Mmdivi1 25uM\",\"orientation\":\"v\",\"showlegend\":true,\"x\":[\"Mmdivi1 25uM\",\"Mmdivi1 25uM\",\"Mmdivi1 25uM\",\"Mmdivi1 25uM\",\"Mmdivi1 25uM\",\"Mmdivi1 25uM\",\"Mmdivi1 25uM\",\"Mmdivi1 25uM\",\"Mmdivi1 25uM\",\"Mmdivi1 25uM\",\"Mmdivi1 25uM\",\"Mmdivi1 25uM\",\"Mmdivi1 25uM\",\"Mmdivi1 25uM\",\"Mmdivi1 25uM\",\"Mmdivi1 25uM\",\"Mmdivi1 25uM\",\"Mmdivi1 25uM\",\"Mmdivi1 25uM\",\"Mmdivi1 25uM\",\"Mmdivi1 25uM\",\"Mmdivi1 25uM\",\"Mmdivi1 25uM\",\"Mmdivi1 25uM\",\"Mmdivi1 25uM\",\"Mmdivi1 25uM\",\"Mmdivi1 25uM\",\"Mmdivi1 25uM\",\"Mmdivi1 25uM\",\"Mmdivi1 25uM\",\"Mmdivi1 25uM\",\"Mmdivi1 25uM\",\"Mmdivi1 25uM\"],\"x0\":\" \",\"xaxis\":\"x\",\"y\":[\"Mmdivi1 25uMp4\",\"Mmdivi1 25uMp4\",\"Mmdivi1 25uMp9\",\"Mmdivi1 25uMp4\",\"Mmdivi1 25uMp7\",\"Mmdivi1 25uMp9\",\"Mmdivi1 25uMp7\",\"Mmdivi1 25uMp5\",\"Mmdivi1 25uMp8\",\"Mmdivi1 25uMp8\",\"Mmdivi1 25uMp5\",\"Mmdivi1 25uMp9\",\"Mmdivi1 25uMp4\",\"Mmdivi1 25uMp5\",\"Mmdivi1 25uMp7\",\"Mmdivi1 25uMp7\",\"Mmdivi1 25uMp8\",\"Mmdivi1 25uMp9\",\"Mmdivi1 25uMp6\",\"Mmdivi1 25uMp7\",\"Mmdivi1 25uMp4\",\"Mmdivi1 25uMp6\",\"Mmdivi1 25uMp5\",\"Mmdivi1 25uMp5\",\"Mmdivi1 25uMp5\",\"Mmdivi1 25uMp9\",\"Mmdivi1 25uMp4\",\"Mmdivi1 25uMp8\",\"Mmdivi1 25uMp8\",\"Mmdivi1 25uMp7\",\"Mmdivi1 25uMp8\",\"Mmdivi1 25uMp6\",\"Mmdivi1 25uMp9\"],\"y0\":\" \",\"yaxis\":\"y\",\"type\":\"box\",\"quartilemethod\":\"inclusive\"},{\"alignmentgroup\":\"True\",\"boxpoints\":\"all\",\"customdata\":[[\"MDMSO4819.0p4\"],[\"MDMSO4799.0p8\"],[\"MDMSO4887.0p7\"],[\"MDMSO4212.0p9\"],[\"MDMSO4721.0p5\"],[\"MDMSO4887.0p7\"],[\"MDMSO4819.0p4\"],[\"MDMSO4721.0p5\"],[\"MDMSO4715.0p6\"],[\"MDMSO4799.0p8\"],[\"MDMSO4799.0p8\"],[\"MDMSO4799.0p8\"],[\"MDMSO4799.0p8\"],[\"MDMSO4212.0p9\"],[\"MDMSO4212.0p9\"],[\"MDMSO4721.0p5\"],[\"MDMSO4819.0p4\"],[\"MDMSO4715.0p6\"],[\"MDMSO4799.0p8\"],[\"MDMSO4212.0p9\"],[\"MDMSO4819.0p4\"],[\"MDMSO4715.0p6\"],[\"MDMSO4887.0p7\"],[\"MDMSO4212.0p9\"],[\"MDMSO4715.0p6\"],[\"MDMSO4212.0p9\"],[\"MDMSO4819.0p4\"],[\"MDMSO4715.0p6\"],[\"MDMSO4887.0p7\"],[\"MDMSO4715.0p6\"],[\"MDMSO4887.0p7\"]],\"hovertemplate\":\"group=%{x}<br>group_p=%{y}<br>group_with_p=%{customdata[0]}<extra></extra>\",\"legendgroup\":\"MDMSO\",\"marker\":{\"color\":\"#FF6692\"},\"name\":\"MDMSO\",\"notched\":true,\"offsetgroup\":\"MDMSO\",\"orientation\":\"v\",\"showlegend\":true,\"x\":[\"MDMSO\",\"MDMSO\",\"MDMSO\",\"MDMSO\",\"MDMSO\",\"MDMSO\",\"MDMSO\",\"MDMSO\",\"MDMSO\",\"MDMSO\",\"MDMSO\",\"MDMSO\",\"MDMSO\",\"MDMSO\",\"MDMSO\",\"MDMSO\",\"MDMSO\",\"MDMSO\",\"MDMSO\",\"MDMSO\",\"MDMSO\",\"MDMSO\",\"MDMSO\",\"MDMSO\",\"MDMSO\",\"MDMSO\",\"MDMSO\",\"MDMSO\",\"MDMSO\",\"MDMSO\",\"MDMSO\"],\"x0\":\" \",\"xaxis\":\"x\",\"y\":[\"MDMSOp4\",\"MDMSOp8\",\"MDMSOp7\",\"MDMSOp9\",\"MDMSOp5\",\"MDMSOp7\",\"MDMSOp4\",\"MDMSOp5\",\"MDMSOp6\",\"MDMSOp8\",\"MDMSOp8\",\"MDMSOp8\",\"MDMSOp8\",\"MDMSOp9\",\"MDMSOp9\",\"MDMSOp5\",\"MDMSOp4\",\"MDMSOp6\",\"MDMSOp8\",\"MDMSOp9\",\"MDMSOp4\",\"MDMSOp6\",\"MDMSOp7\",\"MDMSOp9\",\"MDMSOp6\",\"MDMSOp9\",\"MDMSOp4\",\"MDMSOp6\",\"MDMSOp7\",\"MDMSOp6\",\"MDMSOp7\"],\"y0\":\" \",\"yaxis\":\"y\",\"type\":\"box\",\"quartilemethod\":\"inclusive\"}],                        {\"template\":{\"data\":{\"histogram2dcontour\":[{\"type\":\"histogram2dcontour\",\"colorbar\":{\"outlinewidth\":0,\"ticks\":\"\"},\"colorscale\":[[0.0,\"#0d0887\"],[0.1111111111111111,\"#46039f\"],[0.2222222222222222,\"#7201a8\"],[0.3333333333333333,\"#9c179e\"],[0.4444444444444444,\"#bd3786\"],[0.5555555555555556,\"#d8576b\"],[0.6666666666666666,\"#ed7953\"],[0.7777777777777778,\"#fb9f3a\"],[0.8888888888888888,\"#fdca26\"],[1.0,\"#f0f921\"]]}],\"choropleth\":[{\"type\":\"choropleth\",\"colorbar\":{\"outlinewidth\":0,\"ticks\":\"\"}}],\"histogram2d\":[{\"type\":\"histogram2d\",\"colorbar\":{\"outlinewidth\":0,\"ticks\":\"\"},\"colorscale\":[[0.0,\"#0d0887\"],[0.1111111111111111,\"#46039f\"],[0.2222222222222222,\"#7201a8\"],[0.3333333333333333,\"#9c179e\"],[0.4444444444444444,\"#bd3786\"],[0.5555555555555556,\"#d8576b\"],[0.6666666666666666,\"#ed7953\"],[0.7777777777777778,\"#fb9f3a\"],[0.8888888888888888,\"#fdca26\"],[1.0,\"#f0f921\"]]}],\"heatmap\":[{\"type\":\"heatmap\",\"colorbar\":{\"outlinewidth\":0,\"ticks\":\"\"},\"colorscale\":[[0.0,\"#0d0887\"],[0.1111111111111111,\"#46039f\"],[0.2222222222222222,\"#7201a8\"],[0.3333333333333333,\"#9c179e\"],[0.4444444444444444,\"#bd3786\"],[0.5555555555555556,\"#d8576b\"],[0.6666666666666666,\"#ed7953\"],[0.7777777777777778,\"#fb9f3a\"],[0.8888888888888888,\"#fdca26\"],[1.0,\"#f0f921\"]]}],\"heatmapgl\":[{\"type\":\"heatmapgl\",\"colorbar\":{\"outlinewidth\":0,\"ticks\":\"\"},\"colorscale\":[[0.0,\"#0d0887\"],[0.1111111111111111,\"#46039f\"],[0.2222222222222222,\"#7201a8\"],[0.3333333333333333,\"#9c179e\"],[0.4444444444444444,\"#bd3786\"],[0.5555555555555556,\"#d8576b\"],[0.6666666666666666,\"#ed7953\"],[0.7777777777777778,\"#fb9f3a\"],[0.8888888888888888,\"#fdca26\"],[1.0,\"#f0f921\"]]}],\"contourcarpet\":[{\"type\":\"contourcarpet\",\"colorbar\":{\"outlinewidth\":0,\"ticks\":\"\"}}],\"contour\":[{\"type\":\"contour\",\"colorbar\":{\"outlinewidth\":0,\"ticks\":\"\"},\"colorscale\":[[0.0,\"#0d0887\"],[0.1111111111111111,\"#46039f\"],[0.2222222222222222,\"#7201a8\"],[0.3333333333333333,\"#9c179e\"],[0.4444444444444444,\"#bd3786\"],[0.5555555555555556,\"#d8576b\"],[0.6666666666666666,\"#ed7953\"],[0.7777777777777778,\"#fb9f3a\"],[0.8888888888888888,\"#fdca26\"],[1.0,\"#f0f921\"]]}],\"surface\":[{\"type\":\"surface\",\"colorbar\":{\"outlinewidth\":0,\"ticks\":\"\"},\"colorscale\":[[0.0,\"#0d0887\"],[0.1111111111111111,\"#46039f\"],[0.2222222222222222,\"#7201a8\"],[0.3333333333333333,\"#9c179e\"],[0.4444444444444444,\"#bd3786\"],[0.5555555555555556,\"#d8576b\"],[0.6666666666666666,\"#ed7953\"],[0.7777777777777778,\"#fb9f3a\"],[0.8888888888888888,\"#fdca26\"],[1.0,\"#f0f921\"]]}],\"mesh3d\":[{\"type\":\"mesh3d\",\"colorbar\":{\"outlinewidth\":0,\"ticks\":\"\"}}],\"scatter\":[{\"fillpattern\":{\"fillmode\":\"overlay\",\"size\":10,\"solidity\":0.2},\"type\":\"scatter\"}],\"parcoords\":[{\"type\":\"parcoords\",\"line\":{\"colorbar\":{\"outlinewidth\":0,\"ticks\":\"\"}}}],\"scatterpolargl\":[{\"type\":\"scatterpolargl\",\"marker\":{\"colorbar\":{\"outlinewidth\":0,\"ticks\":\"\"}}}],\"bar\":[{\"error_x\":{\"color\":\"#2a3f5f\"},\"error_y\":{\"color\":\"#2a3f5f\"},\"marker\":{\"line\":{\"color\":\"#E5ECF6\",\"width\":0.5},\"pattern\":{\"fillmode\":\"overlay\",\"size\":10,\"solidity\":0.2}},\"type\":\"bar\"}],\"scattergeo\":[{\"type\":\"scattergeo\",\"marker\":{\"colorbar\":{\"outlinewidth\":0,\"ticks\":\"\"}}}],\"scatterpolar\":[{\"type\":\"scatterpolar\",\"marker\":{\"colorbar\":{\"outlinewidth\":0,\"ticks\":\"\"}}}],\"histogram\":[{\"marker\":{\"pattern\":{\"fillmode\":\"overlay\",\"size\":10,\"solidity\":0.2}},\"type\":\"histogram\"}],\"scattergl\":[{\"type\":\"scattergl\",\"marker\":{\"colorbar\":{\"outlinewidth\":0,\"ticks\":\"\"}}}],\"scatter3d\":[{\"type\":\"scatter3d\",\"line\":{\"colorbar\":{\"outlinewidth\":0,\"ticks\":\"\"}},\"marker\":{\"colorbar\":{\"outlinewidth\":0,\"ticks\":\"\"}}}],\"scattermapbox\":[{\"type\":\"scattermapbox\",\"marker\":{\"colorbar\":{\"outlinewidth\":0,\"ticks\":\"\"}}}],\"scatterternary\":[{\"type\":\"scatterternary\",\"marker\":{\"colorbar\":{\"outlinewidth\":0,\"ticks\":\"\"}}}],\"scattercarpet\":[{\"type\":\"scattercarpet\",\"marker\":{\"colorbar\":{\"outlinewidth\":0,\"ticks\":\"\"}}}],\"carpet\":[{\"aaxis\":{\"endlinecolor\":\"#2a3f5f\",\"gridcolor\":\"white\",\"linecolor\":\"white\",\"minorgridcolor\":\"white\",\"startlinecolor\":\"#2a3f5f\"},\"baxis\":{\"endlinecolor\":\"#2a3f5f\",\"gridcolor\":\"white\",\"linecolor\":\"white\",\"minorgridcolor\":\"white\",\"startlinecolor\":\"#2a3f5f\"},\"type\":\"carpet\"}],\"table\":[{\"cells\":{\"fill\":{\"color\":\"#EBF0F8\"},\"line\":{\"color\":\"white\"}},\"header\":{\"fill\":{\"color\":\"#C8D4E3\"},\"line\":{\"color\":\"white\"}},\"type\":\"table\"}],\"barpolar\":[{\"marker\":{\"line\":{\"color\":\"#E5ECF6\",\"width\":0.5},\"pattern\":{\"fillmode\":\"overlay\",\"size\":10,\"solidity\":0.2}},\"type\":\"barpolar\"}],\"pie\":[{\"automargin\":true,\"type\":\"pie\"}]},\"layout\":{\"autotypenumbers\":\"strict\",\"colorway\":[\"#636efa\",\"#EF553B\",\"#00cc96\",\"#ab63fa\",\"#FFA15A\",\"#19d3f3\",\"#FF6692\",\"#B6E880\",\"#FF97FF\",\"#FECB52\"],\"font\":{\"color\":\"#2a3f5f\"},\"hovermode\":\"closest\",\"hoverlabel\":{\"align\":\"left\"},\"paper_bgcolor\":\"white\",\"plot_bgcolor\":\"#E5ECF6\",\"polar\":{\"bgcolor\":\"#E5ECF6\",\"angularaxis\":{\"gridcolor\":\"white\",\"linecolor\":\"white\",\"ticks\":\"\"},\"radialaxis\":{\"gridcolor\":\"white\",\"linecolor\":\"white\",\"ticks\":\"\"}},\"ternary\":{\"bgcolor\":\"#E5ECF6\",\"aaxis\":{\"gridcolor\":\"white\",\"linecolor\":\"white\",\"ticks\":\"\"},\"baxis\":{\"gridcolor\":\"white\",\"linecolor\":\"white\",\"ticks\":\"\"},\"caxis\":{\"gridcolor\":\"white\",\"linecolor\":\"white\",\"ticks\":\"\"}},\"coloraxis\":{\"colorbar\":{\"outlinewidth\":0,\"ticks\":\"\"}},\"colorscale\":{\"sequential\":[[0.0,\"#0d0887\"],[0.1111111111111111,\"#46039f\"],[0.2222222222222222,\"#7201a8\"],[0.3333333333333333,\"#9c179e\"],[0.4444444444444444,\"#bd3786\"],[0.5555555555555556,\"#d8576b\"],[0.6666666666666666,\"#ed7953\"],[0.7777777777777778,\"#fb9f3a\"],[0.8888888888888888,\"#fdca26\"],[1.0,\"#f0f921\"]],\"sequentialminus\":[[0.0,\"#0d0887\"],[0.1111111111111111,\"#46039f\"],[0.2222222222222222,\"#7201a8\"],[0.3333333333333333,\"#9c179e\"],[0.4444444444444444,\"#bd3786\"],[0.5555555555555556,\"#d8576b\"],[0.6666666666666666,\"#ed7953\"],[0.7777777777777778,\"#fb9f3a\"],[0.8888888888888888,\"#fdca26\"],[1.0,\"#f0f921\"]],\"diverging\":[[0,\"#8e0152\"],[0.1,\"#c51b7d\"],[0.2,\"#de77ae\"],[0.3,\"#f1b6da\"],[0.4,\"#fde0ef\"],[0.5,\"#f7f7f7\"],[0.6,\"#e6f5d0\"],[0.7,\"#b8e186\"],[0.8,\"#7fbc41\"],[0.9,\"#4d9221\"],[1,\"#276419\"]]},\"xaxis\":{\"gridcolor\":\"white\",\"linecolor\":\"white\",\"ticks\":\"\",\"title\":{\"standoff\":15},\"zerolinecolor\":\"white\",\"automargin\":true,\"zerolinewidth\":2},\"yaxis\":{\"gridcolor\":\"white\",\"linecolor\":\"white\",\"ticks\":\"\",\"title\":{\"standoff\":15},\"zerolinecolor\":\"white\",\"automargin\":true,\"zerolinewidth\":2},\"scene\":{\"xaxis\":{\"backgroundcolor\":\"#E5ECF6\",\"gridcolor\":\"white\",\"linecolor\":\"white\",\"showbackground\":true,\"ticks\":\"\",\"zerolinecolor\":\"white\",\"gridwidth\":2},\"yaxis\":{\"backgroundcolor\":\"#E5ECF6\",\"gridcolor\":\"white\",\"linecolor\":\"white\",\"showbackground\":true,\"ticks\":\"\",\"zerolinecolor\":\"white\",\"gridwidth\":2},\"zaxis\":{\"backgroundcolor\":\"#E5ECF6\",\"gridcolor\":\"white\",\"linecolor\":\"white\",\"showbackground\":true,\"ticks\":\"\",\"zerolinecolor\":\"white\",\"gridwidth\":2}},\"shapedefaults\":{\"line\":{\"color\":\"#2a3f5f\"}},\"annotationdefaults\":{\"arrowcolor\":\"#2a3f5f\",\"arrowhead\":0,\"arrowwidth\":1},\"geo\":{\"bgcolor\":\"white\",\"landcolor\":\"#E5ECF6\",\"subunitcolor\":\"white\",\"showland\":true,\"showlakes\":true,\"lakecolor\":\"white\"},\"title\":{\"x\":0.05},\"mapbox\":{\"style\":\"light\"}}},\"xaxis\":{\"anchor\":\"y\",\"domain\":[0.0,1.0],\"title\":{\"text\":\"group\"},\"categoryorder\":\"array\",\"categoryarray\":[\"HCDMSO\",\"PREDMSO\",\"PREmdivi1 25uM\",\"MDMSO\",\"Mmdivi1 25uM\",\"SDMSO\",\"Smdivi1 25uM\"]},\"yaxis\":{\"anchor\":\"x\",\"domain\":[0.0,1.0],\"title\":{\"text\":\"group_p\"}},\"legend\":{\"title\":{\"text\":\"group\"},\"tracegroupgap\":0},\"margin\":{\"t\":60},\"boxmode\":\"overlay\",\"font\":{\"family\":\"Arial\",\"color\":\"Black\",\"size\":20}},                        {\"responsive\": true}                    ).then(function(){\n",
       "                            \n",
       "var gd = document.getElementById('7e44e039-f512-4c2b-9cb5-4ce4e52d5551');\n",
       "var x = new MutationObserver(function (mutations, observer) {{\n",
       "        var display = window.getComputedStyle(gd).display;\n",
       "        if (!display || display === 'none') {{\n",
       "            console.log([gd, 'removed!']);\n",
       "            Plotly.purge(gd);\n",
       "            observer.disconnect();\n",
       "        }}\n",
       "}});\n",
       "\n",
       "// Listen for the removal of the full notebook cells\n",
       "var notebookContainer = gd.closest('#notebook-container');\n",
       "if (notebookContainer) {{\n",
       "    x.observe(notebookContainer, {childList: true});\n",
       "}}\n",
       "\n",
       "// Listen for the clearing of the current output cell\n",
       "var outputEl = gd.closest('.output');\n",
       "if (outputEl) {{\n",
       "    x.observe(outputEl, {childList: true});\n",
       "}}\n",
       "\n",
       "                        })                };                });            </script>        </div>"
      ]
     },
     "metadata": {},
     "output_type": "display_data"
    },
    {
     "data": {
      "application/vnd.plotly.v1+json": {
       "config": {
        "plotlyServerURL": "https://plot.ly"
       },
       "data": [
        {
         "alignmentgroup": "True",
         "boxpoints": "all",
         "customdata": [
          [
           "PREDMSO4719.0p4"
          ],
          [
           "PREDMSO4689.0p6"
          ],
          [
           "PREDMSO4689.0p6"
          ],
          [
           "PREDMSO4689.0p6"
          ],
          [
           "PREDMSO4719.0p5"
          ],
          [
           "PREDMSO4717.0p7"
          ],
          [
           "PREDMSO4689.0p6"
          ],
          [
           "PREDMSO4719.0p5"
          ],
          [
           "PREDMSO4837.0p9"
          ],
          [
           "PREDMSO4719.0p4"
          ],
          [
           "PREDMSO4717.0p7"
          ],
          [
           "PREDMSO4837.0p9"
          ],
          [
           "PREDMSO4719.0p5"
          ],
          [
           "PREDMSO4719.0p5"
          ],
          [
           "PREDMSO4837.0p9"
          ],
          [
           "PREDMSO4717.0p7"
          ],
          [
           "PREDMSO4719.0p4"
          ],
          [
           "PREDMSO4717.0p7"
          ],
          [
           "PREDMSO4719.0p4"
          ],
          [
           "PREDMSO4719.0p5"
          ],
          [
           "PREDMSO4719.0p4"
          ],
          [
           "PREDMSO4719.0p4"
          ],
          [
           "PREDMSO4837.0p9"
          ],
          [
           "PREDMSO4837.0p9"
          ],
          [
           "PREDMSO4689.0p6"
          ],
          [
           "PREDMSO4689.0p6"
          ],
          [
           "PREDMSO4717.0p7"
          ],
          [
           "PREDMSO4717.0p7"
          ]
         ],
         "hovertemplate": "group=%{x}<br>vat1_intensity=%{y}<br>group_with_p=%{customdata[0]}<extra></extra>",
         "legendgroup": "PREDMSO",
         "marker": {
          "color": "#636efa"
         },
         "name": "PREDMSO",
         "notched": true,
         "offsetgroup": "PREDMSO",
         "orientation": "v",
         "quartilemethod": "inclusive",
         "showlegend": true,
         "type": "box",
         "x": [
          "PREDMSO",
          "PREDMSO",
          "PREDMSO",
          "PREDMSO",
          "PREDMSO",
          "PREDMSO",
          "PREDMSO",
          "PREDMSO",
          "PREDMSO",
          "PREDMSO",
          "PREDMSO",
          "PREDMSO",
          "PREDMSO",
          "PREDMSO",
          "PREDMSO",
          "PREDMSO",
          "PREDMSO",
          "PREDMSO",
          "PREDMSO",
          "PREDMSO",
          "PREDMSO",
          "PREDMSO",
          "PREDMSO",
          "PREDMSO",
          "PREDMSO",
          "PREDMSO",
          "PREDMSO",
          "PREDMSO"
         ],
         "x0": " ",
         "xaxis": "x",
         "y": [
          2.5103592239896657,
          2.6404621157624253,
          2.5444843782812314,
          2.6371852666340367,
          2.730337694611879,
          2.9303938256749835,
          2.712566949963666,
          2.4832733806548157,
          2.776967648725298,
          2.752795123132972,
          2.859603495408019,
          2.6157955117549303,
          2.8130799828336004,
          2.816646751313732,
          2.739803374893442,
          2.7020473170583537,
          2.4996255106415872,
          2.687906964091127,
          2.6535734962994395,
          2.7950239571802933,
          2.638559762813711,
          2.6046950074489406,
          2.62309819410291,
          2.6407435652490823,
          2.5860897024800207,
          2.552897754791084,
          2.6305643877820417,
          2.7070593714192297
         ],
         "y0": " ",
         "yaxis": "y"
        },
        {
         "alignmentgroup": "True",
         "boxpoints": "all",
         "customdata": [
          [
           "PREmdivi1 25uM4719.0p4"
          ],
          [
           "PREmdivi1 25uM4689.0p6"
          ],
          [
           "PREmdivi1 25uM4719.0p4"
          ],
          [
           "PREmdivi1 25uM4689.0p6"
          ],
          [
           "PREmdivi1 25uM4689.0p6"
          ],
          [
           "PREmdivi1 25uM4719.0p5"
          ],
          [
           "PREmdivi1 25uM4719.0p5"
          ],
          [
           "PREmdivi1 25uM4717.0p7"
          ],
          [
           "PREmdivi1 25uM4719.0p4"
          ],
          [
           "PREmdivi1 25uM4689.0p6"
          ],
          [
           "PREmdivi1 25uM4719.0p5"
          ],
          [
           "PREmdivi1 25uM4837.0p9"
          ],
          [
           "PREmdivi1 25uM4719.0p4"
          ],
          [
           "PREmdivi1 25uM4837.0p9"
          ],
          [
           "PREmdivi1 25uM4717.0p7"
          ],
          [
           "PREmdivi1 25uM4719.0p4"
          ],
          [
           "PREmdivi1 25uM4837.0p9"
          ],
          [
           "PREmdivi1 25uM4689.0p6"
          ],
          [
           "PREmdivi1 25uM4717.0p7"
          ],
          [
           "PREmdivi1 25uM4719.0p5"
          ],
          [
           "PREmdivi1 25uM4689.0p6"
          ],
          [
           "PREmdivi1 25uM4719.0p5"
          ],
          [
           "PREmdivi1 25uM4717.0p7"
          ],
          [
           "PREmdivi1 25uM4837.0p9"
          ],
          [
           "PREmdivi1 25uM4717.0p7"
          ],
          [
           "PREmdivi1 25uM4719.0p5"
          ],
          [
           "PREmdivi1 25uM4719.0p4"
          ]
         ],
         "hovertemplate": "group=%{x}<br>vat1_intensity=%{y}<br>group_with_p=%{customdata[0]}<extra></extra>",
         "legendgroup": "PREmdivi1 25uM",
         "marker": {
          "color": "#EF553B"
         },
         "name": "PREmdivi1 25uM",
         "notched": true,
         "offsetgroup": "PREmdivi1 25uM",
         "orientation": "v",
         "quartilemethod": "inclusive",
         "showlegend": true,
         "type": "box",
         "x": [
          "PREmdivi1 25uM",
          "PREmdivi1 25uM",
          "PREmdivi1 25uM",
          "PREmdivi1 25uM",
          "PREmdivi1 25uM",
          "PREmdivi1 25uM",
          "PREmdivi1 25uM",
          "PREmdivi1 25uM",
          "PREmdivi1 25uM",
          "PREmdivi1 25uM",
          "PREmdivi1 25uM",
          "PREmdivi1 25uM",
          "PREmdivi1 25uM",
          "PREmdivi1 25uM",
          "PREmdivi1 25uM",
          "PREmdivi1 25uM",
          "PREmdivi1 25uM",
          "PREmdivi1 25uM",
          "PREmdivi1 25uM",
          "PREmdivi1 25uM",
          "PREmdivi1 25uM",
          "PREmdivi1 25uM",
          "PREmdivi1 25uM",
          "PREmdivi1 25uM",
          "PREmdivi1 25uM",
          "PREmdivi1 25uM",
          "PREmdivi1 25uM"
         ],
         "x0": " ",
         "xaxis": "x",
         "y": [
          2.624283875285052,
          2.7132806801197855,
          2.595053642304425,
          2.7339953724969157,
          2.503832096059973,
          2.79298890870701,
          2.726637671564219,
          2.7628027957515373,
          2.523235245619728,
          2.575987376088016,
          2.768916155100789,
          2.6201038173408624,
          2.567224523584046,
          2.594235238199019,
          2.94364584156332,
          2.555474370616272,
          2.7059339133842157,
          2.6089360985373355,
          2.8361705602026834,
          2.885743466694505,
          2.5289524822738425,
          2.8418488341115067,
          2.727841119617424,
          2.6585151883609415,
          2.725659875935494,
          2.6550430579812345,
          2.4523321020977664
         ],
         "y0": " ",
         "yaxis": "y"
        },
        {
         "alignmentgroup": "True",
         "boxpoints": "all",
         "customdata": [
          [
           "SDMSO4476.0p10"
          ],
          [
           "SDMSO4709.0p9"
          ],
          [
           "SDMSO4709.0p9"
          ],
          [
           "SDMSO4687.0p7"
          ],
          [
           "SDMSO4807.0p8"
          ],
          [
           "SDMSO4687.0p7"
          ],
          [
           "SDMSO4687.0p7"
          ],
          [
           "SDMSO305.0p6"
          ],
          [
           "SDMSO4807.0p8"
          ],
          [
           "SDMSO2165.0p10"
          ],
          [
           "SDMSO4709.0p9"
          ],
          [
           "SDMSO305.0p6"
          ],
          [
           "SDMSO4287.0p5"
          ],
          [
           "SDMSO4709.0p9"
          ],
          [
           "SDMSO305.0p6"
          ],
          [
           "SDMSO4476.0p10"
          ],
          [
           "SDMSO4687.0p7"
          ],
          [
           "SDMSO305.0p6"
          ],
          [
           "SDMSO305.0p6"
          ],
          [
           "SDMSO2165.0p10"
          ],
          [
           "SDMSO305.0p6"
          ],
          [
           "SDMSO4687.0p7"
          ],
          [
           "SDMSO4807.0p8"
          ],
          [
           "SDMSO2165.0p10"
          ],
          [
           "SDMSO4687.0p7"
          ],
          [
           "SDMSO4476.0p10"
          ],
          [
           "SDMSO4709.0p9"
          ],
          [
           "SDMSO4709.0p9"
          ]
         ],
         "hovertemplate": "group=%{x}<br>vat1_intensity=%{y}<br>group_with_p=%{customdata[0]}<extra></extra>",
         "legendgroup": "SDMSO",
         "marker": {
          "color": "#00cc96"
         },
         "name": "SDMSO",
         "notched": true,
         "offsetgroup": "SDMSO",
         "orientation": "v",
         "quartilemethod": "inclusive",
         "showlegend": true,
         "type": "box",
         "x": [
          "SDMSO",
          "SDMSO",
          "SDMSO",
          "SDMSO",
          "SDMSO",
          "SDMSO",
          "SDMSO",
          "SDMSO",
          "SDMSO",
          "SDMSO",
          "SDMSO",
          "SDMSO",
          "SDMSO",
          "SDMSO",
          "SDMSO",
          "SDMSO",
          "SDMSO",
          "SDMSO",
          "SDMSO",
          "SDMSO",
          "SDMSO",
          "SDMSO",
          "SDMSO",
          "SDMSO",
          "SDMSO",
          "SDMSO",
          "SDMSO",
          "SDMSO"
         ],
         "x0": " ",
         "xaxis": "x",
         "y": [
          2.7375488211509658,
          2.522315264140828,
          2.5502329435668334,
          2.7662257509376187,
          2.4828249371770474,
          2.514473612611134,
          2.537250527333089,
          2.5130858336090833,
          2.3572158084989887,
          2.724229980200375,
          2.5513546510824185,
          2.4584474249172823,
          2.7109022214895746,
          2.528848311067695,
          2.60610808694298,
          2.927315319307364,
          2.618563305503233,
          2.5876848144281692,
          2.5582546816822784,
          2.695304447082915,
          2.5794640069818735,
          2.6073775535337815,
          2.4412215971707156,
          2.677513947041243,
          2.835549028309056,
          2.7512122534638226,
          2.5747325616917935,
          2.52515837138956
         ],
         "y0": " ",
         "yaxis": "y"
        },
        {
         "alignmentgroup": "True",
         "boxpoints": "all",
         "customdata": [
          [
           "Smdivi1 25uM305.0p6"
          ],
          [
           "Smdivi1 25uM4476.0p10"
          ],
          [
           "Smdivi1 25uM305.0p6"
          ],
          [
           "Smdivi1 25uM4476.0p10"
          ],
          [
           "Smdivi1 25uM2165.0p10"
          ],
          [
           "Smdivi1 25uM4287.0p5"
          ],
          [
           "Smdivi1 25uM4709.0p9"
          ],
          [
           "Smdivi1 25uM4287.0p5"
          ],
          [
           "Smdivi1 25uM4709.0p9"
          ],
          [
           "Smdivi1 25uM2165.0p10"
          ],
          [
           "Smdivi1 25uM4287.0p5"
          ],
          [
           "Smdivi1 25uM4287.0p5"
          ],
          [
           "Smdivi1 25uM4687.0p7"
          ],
          [
           "Smdivi1 25uM4709.0p9"
          ],
          [
           "Smdivi1 25uM2165.0p10"
          ],
          [
           "Smdivi1 25uM305.0p6"
          ],
          [
           "Smdivi1 25uM305.0p6"
          ],
          [
           "Smdivi1 25uM4687.0p7"
          ],
          [
           "Smdivi1 25uM4287.0p5"
          ],
          [
           "Smdivi1 25uM4687.0p7"
          ],
          [
           "Smdivi1 25uM305.0p6"
          ],
          [
           "Smdivi1 25uM4687.0p7"
          ],
          [
           "Smdivi1 25uM2165.0p10"
          ],
          [
           "Smdivi1 25uM4476.0p10"
          ],
          [
           "Smdivi1 25uM4476.0p10"
          ],
          [
           "Smdivi1 25uM2165.0p10"
          ],
          [
           "Smdivi1 25uM4687.0p7"
          ],
          [
           "Smdivi1 25uM4709.0p9"
          ],
          [
           "Smdivi1 25uM4687.0p7"
          ],
          [
           "Smdivi1 25uM4807.0p8"
          ],
          [
           "Smdivi1 25uM4476.0p10"
          ],
          [
           "Smdivi1 25uM4807.0p8"
          ],
          [
           "Smdivi1 25uM4709.0p9"
          ],
          [
           "Smdivi1 25uM4709.0p9"
          ],
          [
           "Smdivi1 25uM305.0p6"
          ],
          [
           "Smdivi1 25uM4476.0p10"
          ],
          [
           "Smdivi1 25uM2165.0p10"
          ]
         ],
         "hovertemplate": "group=%{x}<br>vat1_intensity=%{y}<br>group_with_p=%{customdata[0]}<extra></extra>",
         "legendgroup": "Smdivi1 25uM",
         "marker": {
          "color": "#ab63fa"
         },
         "name": "Smdivi1 25uM",
         "notched": true,
         "offsetgroup": "Smdivi1 25uM",
         "orientation": "v",
         "quartilemethod": "inclusive",
         "showlegend": true,
         "type": "box",
         "x": [
          "Smdivi1 25uM",
          "Smdivi1 25uM",
          "Smdivi1 25uM",
          "Smdivi1 25uM",
          "Smdivi1 25uM",
          "Smdivi1 25uM",
          "Smdivi1 25uM",
          "Smdivi1 25uM",
          "Smdivi1 25uM",
          "Smdivi1 25uM",
          "Smdivi1 25uM",
          "Smdivi1 25uM",
          "Smdivi1 25uM",
          "Smdivi1 25uM",
          "Smdivi1 25uM",
          "Smdivi1 25uM",
          "Smdivi1 25uM",
          "Smdivi1 25uM",
          "Smdivi1 25uM",
          "Smdivi1 25uM",
          "Smdivi1 25uM",
          "Smdivi1 25uM",
          "Smdivi1 25uM",
          "Smdivi1 25uM",
          "Smdivi1 25uM",
          "Smdivi1 25uM",
          "Smdivi1 25uM",
          "Smdivi1 25uM",
          "Smdivi1 25uM",
          "Smdivi1 25uM",
          "Smdivi1 25uM",
          "Smdivi1 25uM",
          "Smdivi1 25uM",
          "Smdivi1 25uM",
          "Smdivi1 25uM",
          "Smdivi1 25uM",
          "Smdivi1 25uM"
         ],
         "x0": " ",
         "xaxis": "x",
         "y": [
          2.537657045584582,
          2.8680609281785268,
          2.596674164028452,
          3.0839024046466146,
          2.9420887916485086,
          3.096161188189865,
          2.516591720766686,
          2.9981076328230745,
          2.5855002830460374,
          2.7421690548754136,
          2.934200964399855,
          2.948083372611116,
          2.921259844688605,
          2.6198650945359834,
          2.7968944555263953,
          2.4460182045216303,
          2.545672865007067,
          2.575754632890125,
          2.9285728991121514,
          3.0237342720323515,
          2.7302342013769945,
          2.4990345814282207,
          2.7565726288747214,
          3.117225848317724,
          2.815778780265102,
          2.752395181959326,
          2.8224793144720515,
          2.5392317354636558,
          2.575532495041909,
          2.793399004132482,
          3.0416187630422025,
          2.6448461711581532,
          2.5541046493558595,
          2.584564635504567,
          2.461469941195569,
          2.828726790456568,
          3.301585544782605
         ],
         "y0": " ",
         "yaxis": "y"
        },
        {
         "alignmentgroup": "True",
         "boxpoints": "all",
         "customdata": [
          [
           "HCDMSO143.0p7"
          ],
          [
           "HCDMSO1653.0p8"
          ],
          [
           "HCDMSO1653.0p4"
          ],
          [
           "HCDMSO730.0p9"
          ],
          [
           "HCDMSO1653.0p5"
          ],
          [
           "HCDMSO730.0p9"
          ],
          [
           "HCDMSO1653.0p7"
          ],
          [
           "HCDMSO1650.0p8"
          ],
          [
           "HCDMSO1653.0p8"
          ],
          [
           "HCDMSO1653.0p4"
          ],
          [
           "HCDMSO730.0p8"
          ],
          [
           "HCDMSO730.0p9"
          ],
          [
           "HCDMSO1653.0p8"
          ],
          [
           "HCDMSO1653.0p7"
          ],
          [
           "HCDMSO1016.0p10"
          ],
          [
           "HCDMSO730.0p9"
          ],
          [
           "HCDMSO143.0p7"
          ],
          [
           "HCDMSO1650.0p8"
          ],
          [
           "HCDMSO1650.0p6"
          ],
          [
           "HCDMSO1650.0p5"
          ],
          [
           "HCDMSO1016.0p10"
          ],
          [
           "HCDMSO1653.0p4"
          ],
          [
           "HCDMSO1650.0p5"
          ],
          [
           "HCDMSO1650.0p8"
          ],
          [
           "HCDMSO730.0p8"
          ],
          [
           "HCDMSO730.0p9"
          ],
          [
           "HCDMSO1653.0p4"
          ],
          [
           "HCDMSO1016.0p10"
          ],
          [
           "HCDMSO1653.0p4"
          ],
          [
           "HCDMSO1016.0p10"
          ],
          [
           "HCDMSO730.0p8"
          ],
          [
           "HCDMSO143.0p7"
          ],
          [
           "HCDMSO143.0p7"
          ],
          [
           "HCDMSO730.0p9"
          ],
          [
           "HCDMSO1653.0p5"
          ],
          [
           "HCDMSO1653.0p5"
          ],
          [
           "HCDMSO1650.0p8"
          ],
          [
           "HCDMSO1650.0p5"
          ],
          [
           "HCDMSO730.0p8"
          ],
          [
           "HCDMSO1016.0p10"
          ],
          [
           "HCDMSO495.0p7"
          ],
          [
           "HCDMSO1650.0p8"
          ],
          [
           "HCDMSO1650.0p5"
          ],
          [
           "HCDMSO1653.0p7"
          ],
          [
           "HCDMSO1650.0p6"
          ],
          [
           "HCDMSO143.0p7"
          ],
          [
           "HCDMSO1653.0p7"
          ],
          [
           "HCDMSO1016.0p10"
          ],
          [
           "HCDMSO1653.0p7"
          ],
          [
           "HCDMSO1650.0p6"
          ],
          [
           "HCDMSO1653.0p8"
          ],
          [
           "HCDMSO1650.0p8"
          ],
          [
           "HCDMSO1653.0p5"
          ],
          [
           "HCDMSO1653.0p8"
          ],
          [
           "HCDMSO1653.0p5"
          ],
          [
           "HCDMSO730.0p8"
          ],
          [
           "HCDMSO1653.0p7"
          ],
          [
           "HCDMSO1653.0p8"
          ],
          [
           "HCDMSO1653.0p5"
          ],
          [
           "HCDMSO1650.0p6"
          ]
         ],
         "hovertemplate": "group=%{x}<br>vat1_intensity=%{y}<br>group_with_p=%{customdata[0]}<extra></extra>",
         "legendgroup": "HCDMSO",
         "marker": {
          "color": "#FFA15A"
         },
         "name": "HCDMSO",
         "notched": true,
         "offsetgroup": "HCDMSO",
         "orientation": "v",
         "quartilemethod": "inclusive",
         "showlegend": true,
         "type": "box",
         "x": [
          "HCDMSO",
          "HCDMSO",
          "HCDMSO",
          "HCDMSO",
          "HCDMSO",
          "HCDMSO",
          "HCDMSO",
          "HCDMSO",
          "HCDMSO",
          "HCDMSO",
          "HCDMSO",
          "HCDMSO",
          "HCDMSO",
          "HCDMSO",
          "HCDMSO",
          "HCDMSO",
          "HCDMSO",
          "HCDMSO",
          "HCDMSO",
          "HCDMSO",
          "HCDMSO",
          "HCDMSO",
          "HCDMSO",
          "HCDMSO",
          "HCDMSO",
          "HCDMSO",
          "HCDMSO",
          "HCDMSO",
          "HCDMSO",
          "HCDMSO",
          "HCDMSO",
          "HCDMSO",
          "HCDMSO",
          "HCDMSO",
          "HCDMSO",
          "HCDMSO",
          "HCDMSO",
          "HCDMSO",
          "HCDMSO",
          "HCDMSO",
          "HCDMSO",
          "HCDMSO",
          "HCDMSO",
          "HCDMSO",
          "HCDMSO",
          "HCDMSO",
          "HCDMSO",
          "HCDMSO",
          "HCDMSO",
          "HCDMSO",
          "HCDMSO",
          "HCDMSO",
          "HCDMSO",
          "HCDMSO",
          "HCDMSO",
          "HCDMSO",
          "HCDMSO",
          "HCDMSO",
          "HCDMSO",
          "HCDMSO"
         ],
         "x0": " ",
         "xaxis": "x",
         "y": [
          2.6767648638683337,
          2.756996166689526,
          2.6476394558508853,
          2.750007232024866,
          2.659505294686636,
          2.754539572565757,
          2.9411002030567004,
          2.756192281062812,
          2.7120340165545476,
          2.745158619803299,
          2.8339804768581214,
          2.6675120037521727,
          2.691558174623927,
          2.588498493296961,
          2.948152220481694,
          2.7580875603876795,
          2.8460429665484037,
          2.7496859975798076,
          2.863638453623656,
          2.737434529450931,
          2.8504486094374037,
          2.7018782442878075,
          3.015700928606016,
          2.9831463801269096,
          2.8688422528578688,
          2.7083845654562184,
          2.6133593501515056,
          2.9608908525480917,
          2.6308454502464804,
          2.81071676807257,
          2.8174377199674994,
          2.7030573937573066,
          2.663554742242465,
          2.692738583201319,
          2.6676876363543216,
          2.85113944434271,
          2.770015237203462,
          2.7591580024079825,
          2.8816370377390035,
          2.8609319227195917,
          2.7669524891019415,
          2.939630405622206,
          2.732198026994798,
          2.7410504767010426,
          2.690583844458019,
          2.7363093247907906,
          2.740507731502834,
          2.9094725683010916,
          2.631443643223867,
          2.7151953331607546,
          2.5753752719623937,
          2.8725375810814855,
          2.7235215144266776,
          2.695589510278406,
          2.6236433905481626,
          2.79698229468308,
          2.8380701929945755,
          2.5975252441561683,
          2.7900152581545496,
          2.7803869068818097
         ],
         "y0": " ",
         "yaxis": "y"
        },
        {
         "alignmentgroup": "True",
         "boxpoints": "all",
         "customdata": [
          [
           "Mmdivi1 25uM4819.0p4"
          ],
          [
           "Mmdivi1 25uM4819.0p4"
          ],
          [
           "Mmdivi1 25uM4212.0p9"
          ],
          [
           "Mmdivi1 25uM4819.0p4"
          ],
          [
           "Mmdivi1 25uM4887.0p7"
          ],
          [
           "Mmdivi1 25uM4212.0p9"
          ],
          [
           "Mmdivi1 25uM4887.0p7"
          ],
          [
           "Mmdivi1 25uM4721.0p5"
          ],
          [
           "Mmdivi1 25uM4799.0p8"
          ],
          [
           "Mmdivi1 25uM4799.0p8"
          ],
          [
           "Mmdivi1 25uM4721.0p5"
          ],
          [
           "Mmdivi1 25uM4212.0p9"
          ],
          [
           "Mmdivi1 25uM4819.0p4"
          ],
          [
           "Mmdivi1 25uM4721.0p5"
          ],
          [
           "Mmdivi1 25uM4887.0p7"
          ],
          [
           "Mmdivi1 25uM4887.0p7"
          ],
          [
           "Mmdivi1 25uM4799.0p8"
          ],
          [
           "Mmdivi1 25uM4212.0p9"
          ],
          [
           "Mmdivi1 25uM4715.0p6"
          ],
          [
           "Mmdivi1 25uM4887.0p7"
          ],
          [
           "Mmdivi1 25uM4819.0p4"
          ],
          [
           "Mmdivi1 25uM4715.0p6"
          ],
          [
           "Mmdivi1 25uM4721.0p5"
          ],
          [
           "Mmdivi1 25uM4721.0p5"
          ],
          [
           "Mmdivi1 25uM4721.0p5"
          ],
          [
           "Mmdivi1 25uM4212.0p9"
          ],
          [
           "Mmdivi1 25uM4819.0p4"
          ],
          [
           "Mmdivi1 25uM4799.0p8"
          ],
          [
           "Mmdivi1 25uM4799.0p8"
          ],
          [
           "Mmdivi1 25uM4887.0p7"
          ],
          [
           "Mmdivi1 25uM4799.0p8"
          ],
          [
           "Mmdivi1 25uM4715.0p6"
          ],
          [
           "Mmdivi1 25uM4212.0p9"
          ]
         ],
         "hovertemplate": "group=%{x}<br>vat1_intensity=%{y}<br>group_with_p=%{customdata[0]}<extra></extra>",
         "legendgroup": "Mmdivi1 25uM",
         "marker": {
          "color": "#19d3f3"
         },
         "name": "Mmdivi1 25uM",
         "notched": true,
         "offsetgroup": "Mmdivi1 25uM",
         "orientation": "v",
         "quartilemethod": "inclusive",
         "showlegend": true,
         "type": "box",
         "x": [
          "Mmdivi1 25uM",
          "Mmdivi1 25uM",
          "Mmdivi1 25uM",
          "Mmdivi1 25uM",
          "Mmdivi1 25uM",
          "Mmdivi1 25uM",
          "Mmdivi1 25uM",
          "Mmdivi1 25uM",
          "Mmdivi1 25uM",
          "Mmdivi1 25uM",
          "Mmdivi1 25uM",
          "Mmdivi1 25uM",
          "Mmdivi1 25uM",
          "Mmdivi1 25uM",
          "Mmdivi1 25uM",
          "Mmdivi1 25uM",
          "Mmdivi1 25uM",
          "Mmdivi1 25uM",
          "Mmdivi1 25uM",
          "Mmdivi1 25uM",
          "Mmdivi1 25uM",
          "Mmdivi1 25uM",
          "Mmdivi1 25uM",
          "Mmdivi1 25uM",
          "Mmdivi1 25uM",
          "Mmdivi1 25uM",
          "Mmdivi1 25uM",
          "Mmdivi1 25uM",
          "Mmdivi1 25uM",
          "Mmdivi1 25uM",
          "Mmdivi1 25uM",
          "Mmdivi1 25uM",
          "Mmdivi1 25uM"
         ],
         "x0": " ",
         "xaxis": "x",
         "y": [
          2.979264533615134,
          2.7860361604721358,
          2.619159865210754,
          2.901677615641598,
          2.9866334134392054,
          2.635690748915071,
          2.7249182089188992,
          2.715537036198336,
          2.5555642808878325,
          2.7696640758026985,
          2.8304191005679598,
          2.6021981676618995,
          2.7703725194568056,
          2.6431170480881665,
          2.987843477046763,
          2.739367424815428,
          2.7676962427499237,
          2.708349958117253,
          2.6438090230533566,
          2.969381038449844,
          2.9666698996922856,
          2.5303737978181773,
          2.5736143713539006,
          2.6466650258691673,
          2.649966444189091,
          2.6675278289615196,
          2.9550634425379827,
          2.6633238978030644,
          2.9254744968169493,
          2.7978606874242433,
          2.691052769565552,
          2.5998434875520857,
          2.7490085373675073
         ],
         "y0": " ",
         "yaxis": "y"
        },
        {
         "alignmentgroup": "True",
         "boxpoints": "all",
         "customdata": [
          [
           "MDMSO4819.0p4"
          ],
          [
           "MDMSO4799.0p8"
          ],
          [
           "MDMSO4887.0p7"
          ],
          [
           "MDMSO4212.0p9"
          ],
          [
           "MDMSO4721.0p5"
          ],
          [
           "MDMSO4887.0p7"
          ],
          [
           "MDMSO4819.0p4"
          ],
          [
           "MDMSO4721.0p5"
          ],
          [
           "MDMSO4715.0p6"
          ],
          [
           "MDMSO4799.0p8"
          ],
          [
           "MDMSO4799.0p8"
          ],
          [
           "MDMSO4799.0p8"
          ],
          [
           "MDMSO4799.0p8"
          ],
          [
           "MDMSO4212.0p9"
          ],
          [
           "MDMSO4212.0p9"
          ],
          [
           "MDMSO4721.0p5"
          ],
          [
           "MDMSO4819.0p4"
          ],
          [
           "MDMSO4715.0p6"
          ],
          [
           "MDMSO4799.0p8"
          ],
          [
           "MDMSO4212.0p9"
          ],
          [
           "MDMSO4819.0p4"
          ],
          [
           "MDMSO4715.0p6"
          ],
          [
           "MDMSO4887.0p7"
          ],
          [
           "MDMSO4212.0p9"
          ],
          [
           "MDMSO4715.0p6"
          ],
          [
           "MDMSO4212.0p9"
          ],
          [
           "MDMSO4819.0p4"
          ],
          [
           "MDMSO4715.0p6"
          ],
          [
           "MDMSO4887.0p7"
          ],
          [
           "MDMSO4715.0p6"
          ],
          [
           "MDMSO4887.0p7"
          ]
         ],
         "hovertemplate": "group=%{x}<br>vat1_intensity=%{y}<br>group_with_p=%{customdata[0]}<extra></extra>",
         "legendgroup": "MDMSO",
         "marker": {
          "color": "#FF6692"
         },
         "name": "MDMSO",
         "notched": true,
         "offsetgroup": "MDMSO",
         "orientation": "v",
         "quartilemethod": "inclusive",
         "showlegend": true,
         "type": "box",
         "x": [
          "MDMSO",
          "MDMSO",
          "MDMSO",
          "MDMSO",
          "MDMSO",
          "MDMSO",
          "MDMSO",
          "MDMSO",
          "MDMSO",
          "MDMSO",
          "MDMSO",
          "MDMSO",
          "MDMSO",
          "MDMSO",
          "MDMSO",
          "MDMSO",
          "MDMSO",
          "MDMSO",
          "MDMSO",
          "MDMSO",
          "MDMSO",
          "MDMSO",
          "MDMSO",
          "MDMSO",
          "MDMSO",
          "MDMSO",
          "MDMSO",
          "MDMSO",
          "MDMSO",
          "MDMSO",
          "MDMSO"
         ],
         "x0": " ",
         "xaxis": "x",
         "y": [
          2.849298526106664,
          2.748194049362059,
          2.690369688864645,
          2.7308190330174766,
          2.7845379745982073,
          2.8526855885351745,
          2.8734151393373826,
          2.666936254815407,
          2.4596864361352457,
          2.74493200368028,
          2.568329754307431,
          2.7334909260339026,
          2.6568372620755545,
          2.7202366860499785,
          2.6489205981354718,
          2.6960294882326052,
          2.9437600977364755,
          2.5252958193010246,
          2.7294262514352376,
          2.6062531771407893,
          2.8422093279353815,
          2.3978739202431334,
          2.716154456650011,
          2.727542598759275,
          2.378419081819331,
          2.494662092452029,
          2.751617557802309,
          2.4595534333990625,
          2.674133753177649,
          2.5278885496803447,
          3.0183924381937746
         ],
         "y0": " ",
         "yaxis": "y"
        }
       ],
       "layout": {
        "boxmode": "overlay",
        "font": {
         "color": "Black",
         "family": "Arial",
         "size": 20
        },
        "legend": {
         "title": {
          "text": "group"
         },
         "tracegroupgap": 0
        },
        "margin": {
         "t": 60
        },
        "template": {
         "data": {
          "bar": [
           {
            "error_x": {
             "color": "#2a3f5f"
            },
            "error_y": {
             "color": "#2a3f5f"
            },
            "marker": {
             "line": {
              "color": "#E5ECF6",
              "width": 0.5
             },
             "pattern": {
              "fillmode": "overlay",
              "size": 10,
              "solidity": 0.2
             }
            },
            "type": "bar"
           }
          ],
          "barpolar": [
           {
            "marker": {
             "line": {
              "color": "#E5ECF6",
              "width": 0.5
             },
             "pattern": {
              "fillmode": "overlay",
              "size": 10,
              "solidity": 0.2
             }
            },
            "type": "barpolar"
           }
          ],
          "carpet": [
           {
            "aaxis": {
             "endlinecolor": "#2a3f5f",
             "gridcolor": "white",
             "linecolor": "white",
             "minorgridcolor": "white",
             "startlinecolor": "#2a3f5f"
            },
            "baxis": {
             "endlinecolor": "#2a3f5f",
             "gridcolor": "white",
             "linecolor": "white",
             "minorgridcolor": "white",
             "startlinecolor": "#2a3f5f"
            },
            "type": "carpet"
           }
          ],
          "choropleth": [
           {
            "colorbar": {
             "outlinewidth": 0,
             "ticks": ""
            },
            "type": "choropleth"
           }
          ],
          "contour": [
           {
            "colorbar": {
             "outlinewidth": 0,
             "ticks": ""
            },
            "colorscale": [
             [
              0,
              "#0d0887"
             ],
             [
              0.1111111111111111,
              "#46039f"
             ],
             [
              0.2222222222222222,
              "#7201a8"
             ],
             [
              0.3333333333333333,
              "#9c179e"
             ],
             [
              0.4444444444444444,
              "#bd3786"
             ],
             [
              0.5555555555555556,
              "#d8576b"
             ],
             [
              0.6666666666666666,
              "#ed7953"
             ],
             [
              0.7777777777777778,
              "#fb9f3a"
             ],
             [
              0.8888888888888888,
              "#fdca26"
             ],
             [
              1,
              "#f0f921"
             ]
            ],
            "type": "contour"
           }
          ],
          "contourcarpet": [
           {
            "colorbar": {
             "outlinewidth": 0,
             "ticks": ""
            },
            "type": "contourcarpet"
           }
          ],
          "heatmap": [
           {
            "colorbar": {
             "outlinewidth": 0,
             "ticks": ""
            },
            "colorscale": [
             [
              0,
              "#0d0887"
             ],
             [
              0.1111111111111111,
              "#46039f"
             ],
             [
              0.2222222222222222,
              "#7201a8"
             ],
             [
              0.3333333333333333,
              "#9c179e"
             ],
             [
              0.4444444444444444,
              "#bd3786"
             ],
             [
              0.5555555555555556,
              "#d8576b"
             ],
             [
              0.6666666666666666,
              "#ed7953"
             ],
             [
              0.7777777777777778,
              "#fb9f3a"
             ],
             [
              0.8888888888888888,
              "#fdca26"
             ],
             [
              1,
              "#f0f921"
             ]
            ],
            "type": "heatmap"
           }
          ],
          "heatmapgl": [
           {
            "colorbar": {
             "outlinewidth": 0,
             "ticks": ""
            },
            "colorscale": [
             [
              0,
              "#0d0887"
             ],
             [
              0.1111111111111111,
              "#46039f"
             ],
             [
              0.2222222222222222,
              "#7201a8"
             ],
             [
              0.3333333333333333,
              "#9c179e"
             ],
             [
              0.4444444444444444,
              "#bd3786"
             ],
             [
              0.5555555555555556,
              "#d8576b"
             ],
             [
              0.6666666666666666,
              "#ed7953"
             ],
             [
              0.7777777777777778,
              "#fb9f3a"
             ],
             [
              0.8888888888888888,
              "#fdca26"
             ],
             [
              1,
              "#f0f921"
             ]
            ],
            "type": "heatmapgl"
           }
          ],
          "histogram": [
           {
            "marker": {
             "pattern": {
              "fillmode": "overlay",
              "size": 10,
              "solidity": 0.2
             }
            },
            "type": "histogram"
           }
          ],
          "histogram2d": [
           {
            "colorbar": {
             "outlinewidth": 0,
             "ticks": ""
            },
            "colorscale": [
             [
              0,
              "#0d0887"
             ],
             [
              0.1111111111111111,
              "#46039f"
             ],
             [
              0.2222222222222222,
              "#7201a8"
             ],
             [
              0.3333333333333333,
              "#9c179e"
             ],
             [
              0.4444444444444444,
              "#bd3786"
             ],
             [
              0.5555555555555556,
              "#d8576b"
             ],
             [
              0.6666666666666666,
              "#ed7953"
             ],
             [
              0.7777777777777778,
              "#fb9f3a"
             ],
             [
              0.8888888888888888,
              "#fdca26"
             ],
             [
              1,
              "#f0f921"
             ]
            ],
            "type": "histogram2d"
           }
          ],
          "histogram2dcontour": [
           {
            "colorbar": {
             "outlinewidth": 0,
             "ticks": ""
            },
            "colorscale": [
             [
              0,
              "#0d0887"
             ],
             [
              0.1111111111111111,
              "#46039f"
             ],
             [
              0.2222222222222222,
              "#7201a8"
             ],
             [
              0.3333333333333333,
              "#9c179e"
             ],
             [
              0.4444444444444444,
              "#bd3786"
             ],
             [
              0.5555555555555556,
              "#d8576b"
             ],
             [
              0.6666666666666666,
              "#ed7953"
             ],
             [
              0.7777777777777778,
              "#fb9f3a"
             ],
             [
              0.8888888888888888,
              "#fdca26"
             ],
             [
              1,
              "#f0f921"
             ]
            ],
            "type": "histogram2dcontour"
           }
          ],
          "mesh3d": [
           {
            "colorbar": {
             "outlinewidth": 0,
             "ticks": ""
            },
            "type": "mesh3d"
           }
          ],
          "parcoords": [
           {
            "line": {
             "colorbar": {
              "outlinewidth": 0,
              "ticks": ""
             }
            },
            "type": "parcoords"
           }
          ],
          "pie": [
           {
            "automargin": true,
            "type": "pie"
           }
          ],
          "scatter": [
           {
            "fillpattern": {
             "fillmode": "overlay",
             "size": 10,
             "solidity": 0.2
            },
            "type": "scatter"
           }
          ],
          "scatter3d": [
           {
            "line": {
             "colorbar": {
              "outlinewidth": 0,
              "ticks": ""
             }
            },
            "marker": {
             "colorbar": {
              "outlinewidth": 0,
              "ticks": ""
             }
            },
            "type": "scatter3d"
           }
          ],
          "scattercarpet": [
           {
            "marker": {
             "colorbar": {
              "outlinewidth": 0,
              "ticks": ""
             }
            },
            "type": "scattercarpet"
           }
          ],
          "scattergeo": [
           {
            "marker": {
             "colorbar": {
              "outlinewidth": 0,
              "ticks": ""
             }
            },
            "type": "scattergeo"
           }
          ],
          "scattergl": [
           {
            "marker": {
             "colorbar": {
              "outlinewidth": 0,
              "ticks": ""
             }
            },
            "type": "scattergl"
           }
          ],
          "scattermapbox": [
           {
            "marker": {
             "colorbar": {
              "outlinewidth": 0,
              "ticks": ""
             }
            },
            "type": "scattermapbox"
           }
          ],
          "scatterpolar": [
           {
            "marker": {
             "colorbar": {
              "outlinewidth": 0,
              "ticks": ""
             }
            },
            "type": "scatterpolar"
           }
          ],
          "scatterpolargl": [
           {
            "marker": {
             "colorbar": {
              "outlinewidth": 0,
              "ticks": ""
             }
            },
            "type": "scatterpolargl"
           }
          ],
          "scatterternary": [
           {
            "marker": {
             "colorbar": {
              "outlinewidth": 0,
              "ticks": ""
             }
            },
            "type": "scatterternary"
           }
          ],
          "surface": [
           {
            "colorbar": {
             "outlinewidth": 0,
             "ticks": ""
            },
            "colorscale": [
             [
              0,
              "#0d0887"
             ],
             [
              0.1111111111111111,
              "#46039f"
             ],
             [
              0.2222222222222222,
              "#7201a8"
             ],
             [
              0.3333333333333333,
              "#9c179e"
             ],
             [
              0.4444444444444444,
              "#bd3786"
             ],
             [
              0.5555555555555556,
              "#d8576b"
             ],
             [
              0.6666666666666666,
              "#ed7953"
             ],
             [
              0.7777777777777778,
              "#fb9f3a"
             ],
             [
              0.8888888888888888,
              "#fdca26"
             ],
             [
              1,
              "#f0f921"
             ]
            ],
            "type": "surface"
           }
          ],
          "table": [
           {
            "cells": {
             "fill": {
              "color": "#EBF0F8"
             },
             "line": {
              "color": "white"
             }
            },
            "header": {
             "fill": {
              "color": "#C8D4E3"
             },
             "line": {
              "color": "white"
             }
            },
            "type": "table"
           }
          ]
         },
         "layout": {
          "annotationdefaults": {
           "arrowcolor": "#2a3f5f",
           "arrowhead": 0,
           "arrowwidth": 1
          },
          "autotypenumbers": "strict",
          "coloraxis": {
           "colorbar": {
            "outlinewidth": 0,
            "ticks": ""
           }
          },
          "colorscale": {
           "diverging": [
            [
             0,
             "#8e0152"
            ],
            [
             0.1,
             "#c51b7d"
            ],
            [
             0.2,
             "#de77ae"
            ],
            [
             0.3,
             "#f1b6da"
            ],
            [
             0.4,
             "#fde0ef"
            ],
            [
             0.5,
             "#f7f7f7"
            ],
            [
             0.6,
             "#e6f5d0"
            ],
            [
             0.7,
             "#b8e186"
            ],
            [
             0.8,
             "#7fbc41"
            ],
            [
             0.9,
             "#4d9221"
            ],
            [
             1,
             "#276419"
            ]
           ],
           "sequential": [
            [
             0,
             "#0d0887"
            ],
            [
             0.1111111111111111,
             "#46039f"
            ],
            [
             0.2222222222222222,
             "#7201a8"
            ],
            [
             0.3333333333333333,
             "#9c179e"
            ],
            [
             0.4444444444444444,
             "#bd3786"
            ],
            [
             0.5555555555555556,
             "#d8576b"
            ],
            [
             0.6666666666666666,
             "#ed7953"
            ],
            [
             0.7777777777777778,
             "#fb9f3a"
            ],
            [
             0.8888888888888888,
             "#fdca26"
            ],
            [
             1,
             "#f0f921"
            ]
           ],
           "sequentialminus": [
            [
             0,
             "#0d0887"
            ],
            [
             0.1111111111111111,
             "#46039f"
            ],
            [
             0.2222222222222222,
             "#7201a8"
            ],
            [
             0.3333333333333333,
             "#9c179e"
            ],
            [
             0.4444444444444444,
             "#bd3786"
            ],
            [
             0.5555555555555556,
             "#d8576b"
            ],
            [
             0.6666666666666666,
             "#ed7953"
            ],
            [
             0.7777777777777778,
             "#fb9f3a"
            ],
            [
             0.8888888888888888,
             "#fdca26"
            ],
            [
             1,
             "#f0f921"
            ]
           ]
          },
          "colorway": [
           "#636efa",
           "#EF553B",
           "#00cc96",
           "#ab63fa",
           "#FFA15A",
           "#19d3f3",
           "#FF6692",
           "#B6E880",
           "#FF97FF",
           "#FECB52"
          ],
          "font": {
           "color": "#2a3f5f"
          },
          "geo": {
           "bgcolor": "white",
           "lakecolor": "white",
           "landcolor": "#E5ECF6",
           "showlakes": true,
           "showland": true,
           "subunitcolor": "white"
          },
          "hoverlabel": {
           "align": "left"
          },
          "hovermode": "closest",
          "mapbox": {
           "style": "light"
          },
          "paper_bgcolor": "white",
          "plot_bgcolor": "#E5ECF6",
          "polar": {
           "angularaxis": {
            "gridcolor": "white",
            "linecolor": "white",
            "ticks": ""
           },
           "bgcolor": "#E5ECF6",
           "radialaxis": {
            "gridcolor": "white",
            "linecolor": "white",
            "ticks": ""
           }
          },
          "scene": {
           "xaxis": {
            "backgroundcolor": "#E5ECF6",
            "gridcolor": "white",
            "gridwidth": 2,
            "linecolor": "white",
            "showbackground": true,
            "ticks": "",
            "zerolinecolor": "white"
           },
           "yaxis": {
            "backgroundcolor": "#E5ECF6",
            "gridcolor": "white",
            "gridwidth": 2,
            "linecolor": "white",
            "showbackground": true,
            "ticks": "",
            "zerolinecolor": "white"
           },
           "zaxis": {
            "backgroundcolor": "#E5ECF6",
            "gridcolor": "white",
            "gridwidth": 2,
            "linecolor": "white",
            "showbackground": true,
            "ticks": "",
            "zerolinecolor": "white"
           }
          },
          "shapedefaults": {
           "line": {
            "color": "#2a3f5f"
           }
          },
          "ternary": {
           "aaxis": {
            "gridcolor": "white",
            "linecolor": "white",
            "ticks": ""
           },
           "baxis": {
            "gridcolor": "white",
            "linecolor": "white",
            "ticks": ""
           },
           "bgcolor": "#E5ECF6",
           "caxis": {
            "gridcolor": "white",
            "linecolor": "white",
            "ticks": ""
           }
          },
          "title": {
           "x": 0.05
          },
          "xaxis": {
           "automargin": true,
           "gridcolor": "white",
           "linecolor": "white",
           "ticks": "",
           "title": {
            "standoff": 15
           },
           "zerolinecolor": "white",
           "zerolinewidth": 2
          },
          "yaxis": {
           "automargin": true,
           "gridcolor": "white",
           "linecolor": "white",
           "ticks": "",
           "title": {
            "standoff": 15
           },
           "zerolinecolor": "white",
           "zerolinewidth": 2
          }
         }
        },
        "xaxis": {
         "anchor": "y",
         "categoryarray": [
          "HCDMSO",
          "PREDMSO",
          "PREmdivi1 25uM",
          "MDMSO",
          "Mmdivi1 25uM",
          "SDMSO",
          "Smdivi1 25uM"
         ],
         "categoryorder": "array",
         "domain": [
          0,
          1
         ],
         "title": {
          "text": "group"
         }
        },
        "yaxis": {
         "anchor": "x",
         "domain": [
          0,
          1
         ],
         "title": {
          "text": "vat1_intensity"
         }
        }
       }
      },
      "text/html": [
       "<div>                            <div id=\"282ff7c5-4ae4-4e86-b9c3-08316dd504bd\" class=\"plotly-graph-div\" style=\"height:525px; width:100%;\"></div>            <script type=\"text/javascript\">                require([\"plotly\"], function(Plotly) {                    window.PLOTLYENV=window.PLOTLYENV || {};                                    if (document.getElementById(\"282ff7c5-4ae4-4e86-b9c3-08316dd504bd\")) {                    Plotly.newPlot(                        \"282ff7c5-4ae4-4e86-b9c3-08316dd504bd\",                        [{\"alignmentgroup\":\"True\",\"boxpoints\":\"all\",\"customdata\":[[\"PREDMSO4719.0p4\"],[\"PREDMSO4689.0p6\"],[\"PREDMSO4689.0p6\"],[\"PREDMSO4689.0p6\"],[\"PREDMSO4719.0p5\"],[\"PREDMSO4717.0p7\"],[\"PREDMSO4689.0p6\"],[\"PREDMSO4719.0p5\"],[\"PREDMSO4837.0p9\"],[\"PREDMSO4719.0p4\"],[\"PREDMSO4717.0p7\"],[\"PREDMSO4837.0p9\"],[\"PREDMSO4719.0p5\"],[\"PREDMSO4719.0p5\"],[\"PREDMSO4837.0p9\"],[\"PREDMSO4717.0p7\"],[\"PREDMSO4719.0p4\"],[\"PREDMSO4717.0p7\"],[\"PREDMSO4719.0p4\"],[\"PREDMSO4719.0p5\"],[\"PREDMSO4719.0p4\"],[\"PREDMSO4719.0p4\"],[\"PREDMSO4837.0p9\"],[\"PREDMSO4837.0p9\"],[\"PREDMSO4689.0p6\"],[\"PREDMSO4689.0p6\"],[\"PREDMSO4717.0p7\"],[\"PREDMSO4717.0p7\"]],\"hovertemplate\":\"group=%{x}<br>vat1_intensity=%{y}<br>group_with_p=%{customdata[0]}<extra></extra>\",\"legendgroup\":\"PREDMSO\",\"marker\":{\"color\":\"#636efa\"},\"name\":\"PREDMSO\",\"notched\":true,\"offsetgroup\":\"PREDMSO\",\"orientation\":\"v\",\"showlegend\":true,\"x\":[\"PREDMSO\",\"PREDMSO\",\"PREDMSO\",\"PREDMSO\",\"PREDMSO\",\"PREDMSO\",\"PREDMSO\",\"PREDMSO\",\"PREDMSO\",\"PREDMSO\",\"PREDMSO\",\"PREDMSO\",\"PREDMSO\",\"PREDMSO\",\"PREDMSO\",\"PREDMSO\",\"PREDMSO\",\"PREDMSO\",\"PREDMSO\",\"PREDMSO\",\"PREDMSO\",\"PREDMSO\",\"PREDMSO\",\"PREDMSO\",\"PREDMSO\",\"PREDMSO\",\"PREDMSO\",\"PREDMSO\"],\"x0\":\" \",\"xaxis\":\"x\",\"y\":[2.5103592239896657,2.6404621157624253,2.5444843782812314,2.6371852666340367,2.730337694611879,2.9303938256749835,2.712566949963666,2.4832733806548157,2.776967648725298,2.752795123132972,2.859603495408019,2.6157955117549303,2.8130799828336004,2.816646751313732,2.739803374893442,2.7020473170583537,2.4996255106415872,2.687906964091127,2.6535734962994395,2.7950239571802933,2.638559762813711,2.6046950074489406,2.62309819410291,2.6407435652490823,2.5860897024800207,2.552897754791084,2.6305643877820417,2.7070593714192297],\"y0\":\" \",\"yaxis\":\"y\",\"type\":\"box\",\"quartilemethod\":\"inclusive\"},{\"alignmentgroup\":\"True\",\"boxpoints\":\"all\",\"customdata\":[[\"PREmdivi1 25uM4719.0p4\"],[\"PREmdivi1 25uM4689.0p6\"],[\"PREmdivi1 25uM4719.0p4\"],[\"PREmdivi1 25uM4689.0p6\"],[\"PREmdivi1 25uM4689.0p6\"],[\"PREmdivi1 25uM4719.0p5\"],[\"PREmdivi1 25uM4719.0p5\"],[\"PREmdivi1 25uM4717.0p7\"],[\"PREmdivi1 25uM4719.0p4\"],[\"PREmdivi1 25uM4689.0p6\"],[\"PREmdivi1 25uM4719.0p5\"],[\"PREmdivi1 25uM4837.0p9\"],[\"PREmdivi1 25uM4719.0p4\"],[\"PREmdivi1 25uM4837.0p9\"],[\"PREmdivi1 25uM4717.0p7\"],[\"PREmdivi1 25uM4719.0p4\"],[\"PREmdivi1 25uM4837.0p9\"],[\"PREmdivi1 25uM4689.0p6\"],[\"PREmdivi1 25uM4717.0p7\"],[\"PREmdivi1 25uM4719.0p5\"],[\"PREmdivi1 25uM4689.0p6\"],[\"PREmdivi1 25uM4719.0p5\"],[\"PREmdivi1 25uM4717.0p7\"],[\"PREmdivi1 25uM4837.0p9\"],[\"PREmdivi1 25uM4717.0p7\"],[\"PREmdivi1 25uM4719.0p5\"],[\"PREmdivi1 25uM4719.0p4\"]],\"hovertemplate\":\"group=%{x}<br>vat1_intensity=%{y}<br>group_with_p=%{customdata[0]}<extra></extra>\",\"legendgroup\":\"PREmdivi1 25uM\",\"marker\":{\"color\":\"#EF553B\"},\"name\":\"PREmdivi1 25uM\",\"notched\":true,\"offsetgroup\":\"PREmdivi1 25uM\",\"orientation\":\"v\",\"showlegend\":true,\"x\":[\"PREmdivi1 25uM\",\"PREmdivi1 25uM\",\"PREmdivi1 25uM\",\"PREmdivi1 25uM\",\"PREmdivi1 25uM\",\"PREmdivi1 25uM\",\"PREmdivi1 25uM\",\"PREmdivi1 25uM\",\"PREmdivi1 25uM\",\"PREmdivi1 25uM\",\"PREmdivi1 25uM\",\"PREmdivi1 25uM\",\"PREmdivi1 25uM\",\"PREmdivi1 25uM\",\"PREmdivi1 25uM\",\"PREmdivi1 25uM\",\"PREmdivi1 25uM\",\"PREmdivi1 25uM\",\"PREmdivi1 25uM\",\"PREmdivi1 25uM\",\"PREmdivi1 25uM\",\"PREmdivi1 25uM\",\"PREmdivi1 25uM\",\"PREmdivi1 25uM\",\"PREmdivi1 25uM\",\"PREmdivi1 25uM\",\"PREmdivi1 25uM\"],\"x0\":\" \",\"xaxis\":\"x\",\"y\":[2.624283875285052,2.7132806801197855,2.595053642304425,2.7339953724969157,2.503832096059973,2.79298890870701,2.726637671564219,2.7628027957515373,2.523235245619728,2.575987376088016,2.768916155100789,2.6201038173408624,2.567224523584046,2.594235238199019,2.94364584156332,2.555474370616272,2.7059339133842157,2.6089360985373355,2.8361705602026834,2.885743466694505,2.5289524822738425,2.8418488341115067,2.727841119617424,2.6585151883609415,2.725659875935494,2.6550430579812345,2.4523321020977664],\"y0\":\" \",\"yaxis\":\"y\",\"type\":\"box\",\"quartilemethod\":\"inclusive\"},{\"alignmentgroup\":\"True\",\"boxpoints\":\"all\",\"customdata\":[[\"SDMSO4476.0p10\"],[\"SDMSO4709.0p9\"],[\"SDMSO4709.0p9\"],[\"SDMSO4687.0p7\"],[\"SDMSO4807.0p8\"],[\"SDMSO4687.0p7\"],[\"SDMSO4687.0p7\"],[\"SDMSO305.0p6\"],[\"SDMSO4807.0p8\"],[\"SDMSO2165.0p10\"],[\"SDMSO4709.0p9\"],[\"SDMSO305.0p6\"],[\"SDMSO4287.0p5\"],[\"SDMSO4709.0p9\"],[\"SDMSO305.0p6\"],[\"SDMSO4476.0p10\"],[\"SDMSO4687.0p7\"],[\"SDMSO305.0p6\"],[\"SDMSO305.0p6\"],[\"SDMSO2165.0p10\"],[\"SDMSO305.0p6\"],[\"SDMSO4687.0p7\"],[\"SDMSO4807.0p8\"],[\"SDMSO2165.0p10\"],[\"SDMSO4687.0p7\"],[\"SDMSO4476.0p10\"],[\"SDMSO4709.0p9\"],[\"SDMSO4709.0p9\"]],\"hovertemplate\":\"group=%{x}<br>vat1_intensity=%{y}<br>group_with_p=%{customdata[0]}<extra></extra>\",\"legendgroup\":\"SDMSO\",\"marker\":{\"color\":\"#00cc96\"},\"name\":\"SDMSO\",\"notched\":true,\"offsetgroup\":\"SDMSO\",\"orientation\":\"v\",\"showlegend\":true,\"x\":[\"SDMSO\",\"SDMSO\",\"SDMSO\",\"SDMSO\",\"SDMSO\",\"SDMSO\",\"SDMSO\",\"SDMSO\",\"SDMSO\",\"SDMSO\",\"SDMSO\",\"SDMSO\",\"SDMSO\",\"SDMSO\",\"SDMSO\",\"SDMSO\",\"SDMSO\",\"SDMSO\",\"SDMSO\",\"SDMSO\",\"SDMSO\",\"SDMSO\",\"SDMSO\",\"SDMSO\",\"SDMSO\",\"SDMSO\",\"SDMSO\",\"SDMSO\"],\"x0\":\" \",\"xaxis\":\"x\",\"y\":[2.7375488211509658,2.522315264140828,2.5502329435668334,2.7662257509376187,2.4828249371770474,2.514473612611134,2.537250527333089,2.5130858336090833,2.3572158084989887,2.724229980200375,2.5513546510824185,2.4584474249172823,2.7109022214895746,2.528848311067695,2.60610808694298,2.927315319307364,2.618563305503233,2.5876848144281692,2.5582546816822784,2.695304447082915,2.5794640069818735,2.6073775535337815,2.4412215971707156,2.677513947041243,2.835549028309056,2.7512122534638226,2.5747325616917935,2.52515837138956],\"y0\":\" \",\"yaxis\":\"y\",\"type\":\"box\",\"quartilemethod\":\"inclusive\"},{\"alignmentgroup\":\"True\",\"boxpoints\":\"all\",\"customdata\":[[\"Smdivi1 25uM305.0p6\"],[\"Smdivi1 25uM4476.0p10\"],[\"Smdivi1 25uM305.0p6\"],[\"Smdivi1 25uM4476.0p10\"],[\"Smdivi1 25uM2165.0p10\"],[\"Smdivi1 25uM4287.0p5\"],[\"Smdivi1 25uM4709.0p9\"],[\"Smdivi1 25uM4287.0p5\"],[\"Smdivi1 25uM4709.0p9\"],[\"Smdivi1 25uM2165.0p10\"],[\"Smdivi1 25uM4287.0p5\"],[\"Smdivi1 25uM4287.0p5\"],[\"Smdivi1 25uM4687.0p7\"],[\"Smdivi1 25uM4709.0p9\"],[\"Smdivi1 25uM2165.0p10\"],[\"Smdivi1 25uM305.0p6\"],[\"Smdivi1 25uM305.0p6\"],[\"Smdivi1 25uM4687.0p7\"],[\"Smdivi1 25uM4287.0p5\"],[\"Smdivi1 25uM4687.0p7\"],[\"Smdivi1 25uM305.0p6\"],[\"Smdivi1 25uM4687.0p7\"],[\"Smdivi1 25uM2165.0p10\"],[\"Smdivi1 25uM4476.0p10\"],[\"Smdivi1 25uM4476.0p10\"],[\"Smdivi1 25uM2165.0p10\"],[\"Smdivi1 25uM4687.0p7\"],[\"Smdivi1 25uM4709.0p9\"],[\"Smdivi1 25uM4687.0p7\"],[\"Smdivi1 25uM4807.0p8\"],[\"Smdivi1 25uM4476.0p10\"],[\"Smdivi1 25uM4807.0p8\"],[\"Smdivi1 25uM4709.0p9\"],[\"Smdivi1 25uM4709.0p9\"],[\"Smdivi1 25uM305.0p6\"],[\"Smdivi1 25uM4476.0p10\"],[\"Smdivi1 25uM2165.0p10\"]],\"hovertemplate\":\"group=%{x}<br>vat1_intensity=%{y}<br>group_with_p=%{customdata[0]}<extra></extra>\",\"legendgroup\":\"Smdivi1 25uM\",\"marker\":{\"color\":\"#ab63fa\"},\"name\":\"Smdivi1 25uM\",\"notched\":true,\"offsetgroup\":\"Smdivi1 25uM\",\"orientation\":\"v\",\"showlegend\":true,\"x\":[\"Smdivi1 25uM\",\"Smdivi1 25uM\",\"Smdivi1 25uM\",\"Smdivi1 25uM\",\"Smdivi1 25uM\",\"Smdivi1 25uM\",\"Smdivi1 25uM\",\"Smdivi1 25uM\",\"Smdivi1 25uM\",\"Smdivi1 25uM\",\"Smdivi1 25uM\",\"Smdivi1 25uM\",\"Smdivi1 25uM\",\"Smdivi1 25uM\",\"Smdivi1 25uM\",\"Smdivi1 25uM\",\"Smdivi1 25uM\",\"Smdivi1 25uM\",\"Smdivi1 25uM\",\"Smdivi1 25uM\",\"Smdivi1 25uM\",\"Smdivi1 25uM\",\"Smdivi1 25uM\",\"Smdivi1 25uM\",\"Smdivi1 25uM\",\"Smdivi1 25uM\",\"Smdivi1 25uM\",\"Smdivi1 25uM\",\"Smdivi1 25uM\",\"Smdivi1 25uM\",\"Smdivi1 25uM\",\"Smdivi1 25uM\",\"Smdivi1 25uM\",\"Smdivi1 25uM\",\"Smdivi1 25uM\",\"Smdivi1 25uM\",\"Smdivi1 25uM\"],\"x0\":\" \",\"xaxis\":\"x\",\"y\":[2.537657045584582,2.8680609281785268,2.596674164028452,3.0839024046466146,2.9420887916485086,3.096161188189865,2.516591720766686,2.9981076328230745,2.5855002830460374,2.7421690548754136,2.934200964399855,2.948083372611116,2.921259844688605,2.6198650945359834,2.7968944555263953,2.4460182045216303,2.545672865007067,2.575754632890125,2.9285728991121514,3.0237342720323515,2.7302342013769945,2.4990345814282207,2.7565726288747214,3.117225848317724,2.815778780265102,2.752395181959326,2.8224793144720515,2.5392317354636558,2.575532495041909,2.793399004132482,3.0416187630422025,2.6448461711581532,2.5541046493558595,2.584564635504567,2.461469941195569,2.828726790456568,3.301585544782605],\"y0\":\" \",\"yaxis\":\"y\",\"type\":\"box\",\"quartilemethod\":\"inclusive\"},{\"alignmentgroup\":\"True\",\"boxpoints\":\"all\",\"customdata\":[[\"HCDMSO143.0p7\"],[\"HCDMSO1653.0p8\"],[\"HCDMSO1653.0p4\"],[\"HCDMSO730.0p9\"],[\"HCDMSO1653.0p5\"],[\"HCDMSO730.0p9\"],[\"HCDMSO1653.0p7\"],[\"HCDMSO1650.0p8\"],[\"HCDMSO1653.0p8\"],[\"HCDMSO1653.0p4\"],[\"HCDMSO730.0p8\"],[\"HCDMSO730.0p9\"],[\"HCDMSO1653.0p8\"],[\"HCDMSO1653.0p7\"],[\"HCDMSO1016.0p10\"],[\"HCDMSO730.0p9\"],[\"HCDMSO143.0p7\"],[\"HCDMSO1650.0p8\"],[\"HCDMSO1650.0p6\"],[\"HCDMSO1650.0p5\"],[\"HCDMSO1016.0p10\"],[\"HCDMSO1653.0p4\"],[\"HCDMSO1650.0p5\"],[\"HCDMSO1650.0p8\"],[\"HCDMSO730.0p8\"],[\"HCDMSO730.0p9\"],[\"HCDMSO1653.0p4\"],[\"HCDMSO1016.0p10\"],[\"HCDMSO1653.0p4\"],[\"HCDMSO1016.0p10\"],[\"HCDMSO730.0p8\"],[\"HCDMSO143.0p7\"],[\"HCDMSO143.0p7\"],[\"HCDMSO730.0p9\"],[\"HCDMSO1653.0p5\"],[\"HCDMSO1653.0p5\"],[\"HCDMSO1650.0p8\"],[\"HCDMSO1650.0p5\"],[\"HCDMSO730.0p8\"],[\"HCDMSO1016.0p10\"],[\"HCDMSO495.0p7\"],[\"HCDMSO1650.0p8\"],[\"HCDMSO1650.0p5\"],[\"HCDMSO1653.0p7\"],[\"HCDMSO1650.0p6\"],[\"HCDMSO143.0p7\"],[\"HCDMSO1653.0p7\"],[\"HCDMSO1016.0p10\"],[\"HCDMSO1653.0p7\"],[\"HCDMSO1650.0p6\"],[\"HCDMSO1653.0p8\"],[\"HCDMSO1650.0p8\"],[\"HCDMSO1653.0p5\"],[\"HCDMSO1653.0p8\"],[\"HCDMSO1653.0p5\"],[\"HCDMSO730.0p8\"],[\"HCDMSO1653.0p7\"],[\"HCDMSO1653.0p8\"],[\"HCDMSO1653.0p5\"],[\"HCDMSO1650.0p6\"]],\"hovertemplate\":\"group=%{x}<br>vat1_intensity=%{y}<br>group_with_p=%{customdata[0]}<extra></extra>\",\"legendgroup\":\"HCDMSO\",\"marker\":{\"color\":\"#FFA15A\"},\"name\":\"HCDMSO\",\"notched\":true,\"offsetgroup\":\"HCDMSO\",\"orientation\":\"v\",\"showlegend\":true,\"x\":[\"HCDMSO\",\"HCDMSO\",\"HCDMSO\",\"HCDMSO\",\"HCDMSO\",\"HCDMSO\",\"HCDMSO\",\"HCDMSO\",\"HCDMSO\",\"HCDMSO\",\"HCDMSO\",\"HCDMSO\",\"HCDMSO\",\"HCDMSO\",\"HCDMSO\",\"HCDMSO\",\"HCDMSO\",\"HCDMSO\",\"HCDMSO\",\"HCDMSO\",\"HCDMSO\",\"HCDMSO\",\"HCDMSO\",\"HCDMSO\",\"HCDMSO\",\"HCDMSO\",\"HCDMSO\",\"HCDMSO\",\"HCDMSO\",\"HCDMSO\",\"HCDMSO\",\"HCDMSO\",\"HCDMSO\",\"HCDMSO\",\"HCDMSO\",\"HCDMSO\",\"HCDMSO\",\"HCDMSO\",\"HCDMSO\",\"HCDMSO\",\"HCDMSO\",\"HCDMSO\",\"HCDMSO\",\"HCDMSO\",\"HCDMSO\",\"HCDMSO\",\"HCDMSO\",\"HCDMSO\",\"HCDMSO\",\"HCDMSO\",\"HCDMSO\",\"HCDMSO\",\"HCDMSO\",\"HCDMSO\",\"HCDMSO\",\"HCDMSO\",\"HCDMSO\",\"HCDMSO\",\"HCDMSO\",\"HCDMSO\"],\"x0\":\" \",\"xaxis\":\"x\",\"y\":[2.6767648638683337,2.756996166689526,2.6476394558508853,2.750007232024866,2.659505294686636,2.754539572565757,2.9411002030567004,2.756192281062812,2.7120340165545476,2.745158619803299,2.8339804768581214,2.6675120037521727,2.691558174623927,2.588498493296961,2.948152220481694,2.7580875603876795,2.8460429665484037,2.7496859975798076,2.863638453623656,2.737434529450931,2.8504486094374037,2.7018782442878075,3.015700928606016,2.9831463801269096,2.8688422528578688,2.7083845654562184,2.6133593501515056,2.9608908525480917,2.6308454502464804,2.81071676807257,2.8174377199674994,2.7030573937573066,2.663554742242465,2.692738583201319,2.6676876363543216,2.85113944434271,2.770015237203462,2.7591580024079825,2.8816370377390035,2.8609319227195917,2.7669524891019415,2.939630405622206,2.732198026994798,2.7410504767010426,2.690583844458019,2.7363093247907906,2.740507731502834,2.9094725683010916,2.631443643223867,2.7151953331607546,2.5753752719623937,2.8725375810814855,2.7235215144266776,2.695589510278406,2.6236433905481626,2.79698229468308,2.8380701929945755,2.5975252441561683,2.7900152581545496,2.7803869068818097],\"y0\":\" \",\"yaxis\":\"y\",\"type\":\"box\",\"quartilemethod\":\"inclusive\"},{\"alignmentgroup\":\"True\",\"boxpoints\":\"all\",\"customdata\":[[\"Mmdivi1 25uM4819.0p4\"],[\"Mmdivi1 25uM4819.0p4\"],[\"Mmdivi1 25uM4212.0p9\"],[\"Mmdivi1 25uM4819.0p4\"],[\"Mmdivi1 25uM4887.0p7\"],[\"Mmdivi1 25uM4212.0p9\"],[\"Mmdivi1 25uM4887.0p7\"],[\"Mmdivi1 25uM4721.0p5\"],[\"Mmdivi1 25uM4799.0p8\"],[\"Mmdivi1 25uM4799.0p8\"],[\"Mmdivi1 25uM4721.0p5\"],[\"Mmdivi1 25uM4212.0p9\"],[\"Mmdivi1 25uM4819.0p4\"],[\"Mmdivi1 25uM4721.0p5\"],[\"Mmdivi1 25uM4887.0p7\"],[\"Mmdivi1 25uM4887.0p7\"],[\"Mmdivi1 25uM4799.0p8\"],[\"Mmdivi1 25uM4212.0p9\"],[\"Mmdivi1 25uM4715.0p6\"],[\"Mmdivi1 25uM4887.0p7\"],[\"Mmdivi1 25uM4819.0p4\"],[\"Mmdivi1 25uM4715.0p6\"],[\"Mmdivi1 25uM4721.0p5\"],[\"Mmdivi1 25uM4721.0p5\"],[\"Mmdivi1 25uM4721.0p5\"],[\"Mmdivi1 25uM4212.0p9\"],[\"Mmdivi1 25uM4819.0p4\"],[\"Mmdivi1 25uM4799.0p8\"],[\"Mmdivi1 25uM4799.0p8\"],[\"Mmdivi1 25uM4887.0p7\"],[\"Mmdivi1 25uM4799.0p8\"],[\"Mmdivi1 25uM4715.0p6\"],[\"Mmdivi1 25uM4212.0p9\"]],\"hovertemplate\":\"group=%{x}<br>vat1_intensity=%{y}<br>group_with_p=%{customdata[0]}<extra></extra>\",\"legendgroup\":\"Mmdivi1 25uM\",\"marker\":{\"color\":\"#19d3f3\"},\"name\":\"Mmdivi1 25uM\",\"notched\":true,\"offsetgroup\":\"Mmdivi1 25uM\",\"orientation\":\"v\",\"showlegend\":true,\"x\":[\"Mmdivi1 25uM\",\"Mmdivi1 25uM\",\"Mmdivi1 25uM\",\"Mmdivi1 25uM\",\"Mmdivi1 25uM\",\"Mmdivi1 25uM\",\"Mmdivi1 25uM\",\"Mmdivi1 25uM\",\"Mmdivi1 25uM\",\"Mmdivi1 25uM\",\"Mmdivi1 25uM\",\"Mmdivi1 25uM\",\"Mmdivi1 25uM\",\"Mmdivi1 25uM\",\"Mmdivi1 25uM\",\"Mmdivi1 25uM\",\"Mmdivi1 25uM\",\"Mmdivi1 25uM\",\"Mmdivi1 25uM\",\"Mmdivi1 25uM\",\"Mmdivi1 25uM\",\"Mmdivi1 25uM\",\"Mmdivi1 25uM\",\"Mmdivi1 25uM\",\"Mmdivi1 25uM\",\"Mmdivi1 25uM\",\"Mmdivi1 25uM\",\"Mmdivi1 25uM\",\"Mmdivi1 25uM\",\"Mmdivi1 25uM\",\"Mmdivi1 25uM\",\"Mmdivi1 25uM\",\"Mmdivi1 25uM\"],\"x0\":\" \",\"xaxis\":\"x\",\"y\":[2.979264533615134,2.7860361604721358,2.619159865210754,2.901677615641598,2.9866334134392054,2.635690748915071,2.7249182089188992,2.715537036198336,2.5555642808878325,2.7696640758026985,2.8304191005679598,2.6021981676618995,2.7703725194568056,2.6431170480881665,2.987843477046763,2.739367424815428,2.7676962427499237,2.708349958117253,2.6438090230533566,2.969381038449844,2.9666698996922856,2.5303737978181773,2.5736143713539006,2.6466650258691673,2.649966444189091,2.6675278289615196,2.9550634425379827,2.6633238978030644,2.9254744968169493,2.7978606874242433,2.691052769565552,2.5998434875520857,2.7490085373675073],\"y0\":\" \",\"yaxis\":\"y\",\"type\":\"box\",\"quartilemethod\":\"inclusive\"},{\"alignmentgroup\":\"True\",\"boxpoints\":\"all\",\"customdata\":[[\"MDMSO4819.0p4\"],[\"MDMSO4799.0p8\"],[\"MDMSO4887.0p7\"],[\"MDMSO4212.0p9\"],[\"MDMSO4721.0p5\"],[\"MDMSO4887.0p7\"],[\"MDMSO4819.0p4\"],[\"MDMSO4721.0p5\"],[\"MDMSO4715.0p6\"],[\"MDMSO4799.0p8\"],[\"MDMSO4799.0p8\"],[\"MDMSO4799.0p8\"],[\"MDMSO4799.0p8\"],[\"MDMSO4212.0p9\"],[\"MDMSO4212.0p9\"],[\"MDMSO4721.0p5\"],[\"MDMSO4819.0p4\"],[\"MDMSO4715.0p6\"],[\"MDMSO4799.0p8\"],[\"MDMSO4212.0p9\"],[\"MDMSO4819.0p4\"],[\"MDMSO4715.0p6\"],[\"MDMSO4887.0p7\"],[\"MDMSO4212.0p9\"],[\"MDMSO4715.0p6\"],[\"MDMSO4212.0p9\"],[\"MDMSO4819.0p4\"],[\"MDMSO4715.0p6\"],[\"MDMSO4887.0p7\"],[\"MDMSO4715.0p6\"],[\"MDMSO4887.0p7\"]],\"hovertemplate\":\"group=%{x}<br>vat1_intensity=%{y}<br>group_with_p=%{customdata[0]}<extra></extra>\",\"legendgroup\":\"MDMSO\",\"marker\":{\"color\":\"#FF6692\"},\"name\":\"MDMSO\",\"notched\":true,\"offsetgroup\":\"MDMSO\",\"orientation\":\"v\",\"showlegend\":true,\"x\":[\"MDMSO\",\"MDMSO\",\"MDMSO\",\"MDMSO\",\"MDMSO\",\"MDMSO\",\"MDMSO\",\"MDMSO\",\"MDMSO\",\"MDMSO\",\"MDMSO\",\"MDMSO\",\"MDMSO\",\"MDMSO\",\"MDMSO\",\"MDMSO\",\"MDMSO\",\"MDMSO\",\"MDMSO\",\"MDMSO\",\"MDMSO\",\"MDMSO\",\"MDMSO\",\"MDMSO\",\"MDMSO\",\"MDMSO\",\"MDMSO\",\"MDMSO\",\"MDMSO\",\"MDMSO\",\"MDMSO\"],\"x0\":\" \",\"xaxis\":\"x\",\"y\":[2.849298526106664,2.748194049362059,2.690369688864645,2.7308190330174766,2.7845379745982073,2.8526855885351745,2.8734151393373826,2.666936254815407,2.4596864361352457,2.74493200368028,2.568329754307431,2.7334909260339026,2.6568372620755545,2.7202366860499785,2.6489205981354718,2.6960294882326052,2.9437600977364755,2.5252958193010246,2.7294262514352376,2.6062531771407893,2.8422093279353815,2.3978739202431334,2.716154456650011,2.727542598759275,2.378419081819331,2.494662092452029,2.751617557802309,2.4595534333990625,2.674133753177649,2.5278885496803447,3.0183924381937746],\"y0\":\" \",\"yaxis\":\"y\",\"type\":\"box\",\"quartilemethod\":\"inclusive\"}],                        {\"template\":{\"data\":{\"histogram2dcontour\":[{\"type\":\"histogram2dcontour\",\"colorbar\":{\"outlinewidth\":0,\"ticks\":\"\"},\"colorscale\":[[0.0,\"#0d0887\"],[0.1111111111111111,\"#46039f\"],[0.2222222222222222,\"#7201a8\"],[0.3333333333333333,\"#9c179e\"],[0.4444444444444444,\"#bd3786\"],[0.5555555555555556,\"#d8576b\"],[0.6666666666666666,\"#ed7953\"],[0.7777777777777778,\"#fb9f3a\"],[0.8888888888888888,\"#fdca26\"],[1.0,\"#f0f921\"]]}],\"choropleth\":[{\"type\":\"choropleth\",\"colorbar\":{\"outlinewidth\":0,\"ticks\":\"\"}}],\"histogram2d\":[{\"type\":\"histogram2d\",\"colorbar\":{\"outlinewidth\":0,\"ticks\":\"\"},\"colorscale\":[[0.0,\"#0d0887\"],[0.1111111111111111,\"#46039f\"],[0.2222222222222222,\"#7201a8\"],[0.3333333333333333,\"#9c179e\"],[0.4444444444444444,\"#bd3786\"],[0.5555555555555556,\"#d8576b\"],[0.6666666666666666,\"#ed7953\"],[0.7777777777777778,\"#fb9f3a\"],[0.8888888888888888,\"#fdca26\"],[1.0,\"#f0f921\"]]}],\"heatmap\":[{\"type\":\"heatmap\",\"colorbar\":{\"outlinewidth\":0,\"ticks\":\"\"},\"colorscale\":[[0.0,\"#0d0887\"],[0.1111111111111111,\"#46039f\"],[0.2222222222222222,\"#7201a8\"],[0.3333333333333333,\"#9c179e\"],[0.4444444444444444,\"#bd3786\"],[0.5555555555555556,\"#d8576b\"],[0.6666666666666666,\"#ed7953\"],[0.7777777777777778,\"#fb9f3a\"],[0.8888888888888888,\"#fdca26\"],[1.0,\"#f0f921\"]]}],\"heatmapgl\":[{\"type\":\"heatmapgl\",\"colorbar\":{\"outlinewidth\":0,\"ticks\":\"\"},\"colorscale\":[[0.0,\"#0d0887\"],[0.1111111111111111,\"#46039f\"],[0.2222222222222222,\"#7201a8\"],[0.3333333333333333,\"#9c179e\"],[0.4444444444444444,\"#bd3786\"],[0.5555555555555556,\"#d8576b\"],[0.6666666666666666,\"#ed7953\"],[0.7777777777777778,\"#fb9f3a\"],[0.8888888888888888,\"#fdca26\"],[1.0,\"#f0f921\"]]}],\"contourcarpet\":[{\"type\":\"contourcarpet\",\"colorbar\":{\"outlinewidth\":0,\"ticks\":\"\"}}],\"contour\":[{\"type\":\"contour\",\"colorbar\":{\"outlinewidth\":0,\"ticks\":\"\"},\"colorscale\":[[0.0,\"#0d0887\"],[0.1111111111111111,\"#46039f\"],[0.2222222222222222,\"#7201a8\"],[0.3333333333333333,\"#9c179e\"],[0.4444444444444444,\"#bd3786\"],[0.5555555555555556,\"#d8576b\"],[0.6666666666666666,\"#ed7953\"],[0.7777777777777778,\"#fb9f3a\"],[0.8888888888888888,\"#fdca26\"],[1.0,\"#f0f921\"]]}],\"surface\":[{\"type\":\"surface\",\"colorbar\":{\"outlinewidth\":0,\"ticks\":\"\"},\"colorscale\":[[0.0,\"#0d0887\"],[0.1111111111111111,\"#46039f\"],[0.2222222222222222,\"#7201a8\"],[0.3333333333333333,\"#9c179e\"],[0.4444444444444444,\"#bd3786\"],[0.5555555555555556,\"#d8576b\"],[0.6666666666666666,\"#ed7953\"],[0.7777777777777778,\"#fb9f3a\"],[0.8888888888888888,\"#fdca26\"],[1.0,\"#f0f921\"]]}],\"mesh3d\":[{\"type\":\"mesh3d\",\"colorbar\":{\"outlinewidth\":0,\"ticks\":\"\"}}],\"scatter\":[{\"fillpattern\":{\"fillmode\":\"overlay\",\"size\":10,\"solidity\":0.2},\"type\":\"scatter\"}],\"parcoords\":[{\"type\":\"parcoords\",\"line\":{\"colorbar\":{\"outlinewidth\":0,\"ticks\":\"\"}}}],\"scatterpolargl\":[{\"type\":\"scatterpolargl\",\"marker\":{\"colorbar\":{\"outlinewidth\":0,\"ticks\":\"\"}}}],\"bar\":[{\"error_x\":{\"color\":\"#2a3f5f\"},\"error_y\":{\"color\":\"#2a3f5f\"},\"marker\":{\"line\":{\"color\":\"#E5ECF6\",\"width\":0.5},\"pattern\":{\"fillmode\":\"overlay\",\"size\":10,\"solidity\":0.2}},\"type\":\"bar\"}],\"scattergeo\":[{\"type\":\"scattergeo\",\"marker\":{\"colorbar\":{\"outlinewidth\":0,\"ticks\":\"\"}}}],\"scatterpolar\":[{\"type\":\"scatterpolar\",\"marker\":{\"colorbar\":{\"outlinewidth\":0,\"ticks\":\"\"}}}],\"histogram\":[{\"marker\":{\"pattern\":{\"fillmode\":\"overlay\",\"size\":10,\"solidity\":0.2}},\"type\":\"histogram\"}],\"scattergl\":[{\"type\":\"scattergl\",\"marker\":{\"colorbar\":{\"outlinewidth\":0,\"ticks\":\"\"}}}],\"scatter3d\":[{\"type\":\"scatter3d\",\"line\":{\"colorbar\":{\"outlinewidth\":0,\"ticks\":\"\"}},\"marker\":{\"colorbar\":{\"outlinewidth\":0,\"ticks\":\"\"}}}],\"scattermapbox\":[{\"type\":\"scattermapbox\",\"marker\":{\"colorbar\":{\"outlinewidth\":0,\"ticks\":\"\"}}}],\"scatterternary\":[{\"type\":\"scatterternary\",\"marker\":{\"colorbar\":{\"outlinewidth\":0,\"ticks\":\"\"}}}],\"scattercarpet\":[{\"type\":\"scattercarpet\",\"marker\":{\"colorbar\":{\"outlinewidth\":0,\"ticks\":\"\"}}}],\"carpet\":[{\"aaxis\":{\"endlinecolor\":\"#2a3f5f\",\"gridcolor\":\"white\",\"linecolor\":\"white\",\"minorgridcolor\":\"white\",\"startlinecolor\":\"#2a3f5f\"},\"baxis\":{\"endlinecolor\":\"#2a3f5f\",\"gridcolor\":\"white\",\"linecolor\":\"white\",\"minorgridcolor\":\"white\",\"startlinecolor\":\"#2a3f5f\"},\"type\":\"carpet\"}],\"table\":[{\"cells\":{\"fill\":{\"color\":\"#EBF0F8\"},\"line\":{\"color\":\"white\"}},\"header\":{\"fill\":{\"color\":\"#C8D4E3\"},\"line\":{\"color\":\"white\"}},\"type\":\"table\"}],\"barpolar\":[{\"marker\":{\"line\":{\"color\":\"#E5ECF6\",\"width\":0.5},\"pattern\":{\"fillmode\":\"overlay\",\"size\":10,\"solidity\":0.2}},\"type\":\"barpolar\"}],\"pie\":[{\"automargin\":true,\"type\":\"pie\"}]},\"layout\":{\"autotypenumbers\":\"strict\",\"colorway\":[\"#636efa\",\"#EF553B\",\"#00cc96\",\"#ab63fa\",\"#FFA15A\",\"#19d3f3\",\"#FF6692\",\"#B6E880\",\"#FF97FF\",\"#FECB52\"],\"font\":{\"color\":\"#2a3f5f\"},\"hovermode\":\"closest\",\"hoverlabel\":{\"align\":\"left\"},\"paper_bgcolor\":\"white\",\"plot_bgcolor\":\"#E5ECF6\",\"polar\":{\"bgcolor\":\"#E5ECF6\",\"angularaxis\":{\"gridcolor\":\"white\",\"linecolor\":\"white\",\"ticks\":\"\"},\"radialaxis\":{\"gridcolor\":\"white\",\"linecolor\":\"white\",\"ticks\":\"\"}},\"ternary\":{\"bgcolor\":\"#E5ECF6\",\"aaxis\":{\"gridcolor\":\"white\",\"linecolor\":\"white\",\"ticks\":\"\"},\"baxis\":{\"gridcolor\":\"white\",\"linecolor\":\"white\",\"ticks\":\"\"},\"caxis\":{\"gridcolor\":\"white\",\"linecolor\":\"white\",\"ticks\":\"\"}},\"coloraxis\":{\"colorbar\":{\"outlinewidth\":0,\"ticks\":\"\"}},\"colorscale\":{\"sequential\":[[0.0,\"#0d0887\"],[0.1111111111111111,\"#46039f\"],[0.2222222222222222,\"#7201a8\"],[0.3333333333333333,\"#9c179e\"],[0.4444444444444444,\"#bd3786\"],[0.5555555555555556,\"#d8576b\"],[0.6666666666666666,\"#ed7953\"],[0.7777777777777778,\"#fb9f3a\"],[0.8888888888888888,\"#fdca26\"],[1.0,\"#f0f921\"]],\"sequentialminus\":[[0.0,\"#0d0887\"],[0.1111111111111111,\"#46039f\"],[0.2222222222222222,\"#7201a8\"],[0.3333333333333333,\"#9c179e\"],[0.4444444444444444,\"#bd3786\"],[0.5555555555555556,\"#d8576b\"],[0.6666666666666666,\"#ed7953\"],[0.7777777777777778,\"#fb9f3a\"],[0.8888888888888888,\"#fdca26\"],[1.0,\"#f0f921\"]],\"diverging\":[[0,\"#8e0152\"],[0.1,\"#c51b7d\"],[0.2,\"#de77ae\"],[0.3,\"#f1b6da\"],[0.4,\"#fde0ef\"],[0.5,\"#f7f7f7\"],[0.6,\"#e6f5d0\"],[0.7,\"#b8e186\"],[0.8,\"#7fbc41\"],[0.9,\"#4d9221\"],[1,\"#276419\"]]},\"xaxis\":{\"gridcolor\":\"white\",\"linecolor\":\"white\",\"ticks\":\"\",\"title\":{\"standoff\":15},\"zerolinecolor\":\"white\",\"automargin\":true,\"zerolinewidth\":2},\"yaxis\":{\"gridcolor\":\"white\",\"linecolor\":\"white\",\"ticks\":\"\",\"title\":{\"standoff\":15},\"zerolinecolor\":\"white\",\"automargin\":true,\"zerolinewidth\":2},\"scene\":{\"xaxis\":{\"backgroundcolor\":\"#E5ECF6\",\"gridcolor\":\"white\",\"linecolor\":\"white\",\"showbackground\":true,\"ticks\":\"\",\"zerolinecolor\":\"white\",\"gridwidth\":2},\"yaxis\":{\"backgroundcolor\":\"#E5ECF6\",\"gridcolor\":\"white\",\"linecolor\":\"white\",\"showbackground\":true,\"ticks\":\"\",\"zerolinecolor\":\"white\",\"gridwidth\":2},\"zaxis\":{\"backgroundcolor\":\"#E5ECF6\",\"gridcolor\":\"white\",\"linecolor\":\"white\",\"showbackground\":true,\"ticks\":\"\",\"zerolinecolor\":\"white\",\"gridwidth\":2}},\"shapedefaults\":{\"line\":{\"color\":\"#2a3f5f\"}},\"annotationdefaults\":{\"arrowcolor\":\"#2a3f5f\",\"arrowhead\":0,\"arrowwidth\":1},\"geo\":{\"bgcolor\":\"white\",\"landcolor\":\"#E5ECF6\",\"subunitcolor\":\"white\",\"showland\":true,\"showlakes\":true,\"lakecolor\":\"white\"},\"title\":{\"x\":0.05},\"mapbox\":{\"style\":\"light\"}}},\"xaxis\":{\"anchor\":\"y\",\"domain\":[0.0,1.0],\"title\":{\"text\":\"group\"},\"categoryorder\":\"array\",\"categoryarray\":[\"HCDMSO\",\"PREDMSO\",\"PREmdivi1 25uM\",\"MDMSO\",\"Mmdivi1 25uM\",\"SDMSO\",\"Smdivi1 25uM\"]},\"yaxis\":{\"anchor\":\"x\",\"domain\":[0.0,1.0],\"title\":{\"text\":\"vat1_intensity\"}},\"legend\":{\"title\":{\"text\":\"group\"},\"tracegroupgap\":0},\"margin\":{\"t\":60},\"boxmode\":\"overlay\",\"font\":{\"family\":\"Arial\",\"color\":\"Black\",\"size\":20}},                        {\"responsive\": true}                    ).then(function(){\n",
       "                            \n",
       "var gd = document.getElementById('282ff7c5-4ae4-4e86-b9c3-08316dd504bd');\n",
       "var x = new MutationObserver(function (mutations, observer) {{\n",
       "        var display = window.getComputedStyle(gd).display;\n",
       "        if (!display || display === 'none') {{\n",
       "            console.log([gd, 'removed!']);\n",
       "            Plotly.purge(gd);\n",
       "            observer.disconnect();\n",
       "        }}\n",
       "}});\n",
       "\n",
       "// Listen for the removal of the full notebook cells\n",
       "var notebookContainer = gd.closest('#notebook-container');\n",
       "if (notebookContainer) {{\n",
       "    x.observe(notebookContainer, {childList: true});\n",
       "}}\n",
       "\n",
       "// Listen for the clearing of the current output cell\n",
       "var outputEl = gd.closest('.output');\n",
       "if (outputEl) {{\n",
       "    x.observe(outputEl, {childList: true});\n",
       "}}\n",
       "\n",
       "                        })                };                });            </script>        </div>"
      ]
     },
     "metadata": {},
     "output_type": "display_data"
    },
    {
     "data": {
      "application/vnd.plotly.v1+json": {
       "config": {
        "plotlyServerURL": "https://plot.ly"
       },
       "data": [
        {
         "alignmentgroup": "True",
         "boxpoints": "all",
         "customdata": [
          [
           "PREDMSO4719.0p4"
          ],
          [
           "PREDMSO4689.0p6"
          ],
          [
           "PREDMSO4689.0p6"
          ],
          [
           "PREDMSO4689.0p6"
          ],
          [
           "PREDMSO4719.0p5"
          ],
          [
           "PREDMSO4717.0p7"
          ],
          [
           "PREDMSO4689.0p6"
          ],
          [
           "PREDMSO4719.0p5"
          ],
          [
           "PREDMSO4837.0p9"
          ],
          [
           "PREDMSO4719.0p4"
          ],
          [
           "PREDMSO4717.0p7"
          ],
          [
           "PREDMSO4837.0p9"
          ],
          [
           "PREDMSO4719.0p5"
          ],
          [
           "PREDMSO4719.0p5"
          ],
          [
           "PREDMSO4837.0p9"
          ],
          [
           "PREDMSO4717.0p7"
          ],
          [
           "PREDMSO4719.0p4"
          ],
          [
           "PREDMSO4717.0p7"
          ],
          [
           "PREDMSO4719.0p4"
          ],
          [
           "PREDMSO4719.0p5"
          ],
          [
           "PREDMSO4719.0p4"
          ],
          [
           "PREDMSO4719.0p4"
          ],
          [
           "PREDMSO4837.0p9"
          ],
          [
           "PREDMSO4837.0p9"
          ],
          [
           "PREDMSO4689.0p6"
          ],
          [
           "PREDMSO4689.0p6"
          ],
          [
           "PREDMSO4717.0p7"
          ],
          [
           "PREDMSO4717.0p7"
          ]
         ],
         "hovertemplate": "group=%{x}<br>vat1_area=%{y}<br>group_with_p=%{customdata[0]}<extra></extra>",
         "legendgroup": "PREDMSO",
         "marker": {
          "color": "#636efa"
         },
         "name": "PREDMSO",
         "notched": true,
         "offsetgroup": "PREDMSO",
         "orientation": "v",
         "quartilemethod": "inclusive",
         "showlegend": true,
         "type": "box",
         "x": [
          "PREDMSO",
          "PREDMSO",
          "PREDMSO",
          "PREDMSO",
          "PREDMSO",
          "PREDMSO",
          "PREDMSO",
          "PREDMSO",
          "PREDMSO",
          "PREDMSO",
          "PREDMSO",
          "PREDMSO",
          "PREDMSO",
          "PREDMSO",
          "PREDMSO",
          "PREDMSO",
          "PREDMSO",
          "PREDMSO",
          "PREDMSO",
          "PREDMSO",
          "PREDMSO",
          "PREDMSO",
          "PREDMSO",
          "PREDMSO",
          "PREDMSO",
          "PREDMSO",
          "PREDMSO",
          "PREDMSO"
         ],
         "x0": " ",
         "xaxis": "x",
         "y": [
          4.859180972003702,
          5.105942570847882,
          4.848214455748171,
          5.022185931063391,
          5.2092033014001,
          5.3305706469643415,
          5.097042717525978,
          4.782798454857549,
          5.500963976572361,
          5.340787663359384,
          5.4219027172230625,
          5.277851164605592,
          5.433921915273617,
          5.414963066879282,
          5.504501557017899,
          5.109405934249854,
          4.842371229930319,
          5.071376029372046,
          5.175282500942245,
          5.320000892271684,
          4.979027724203666,
          5.097512029579347,
          5.272384631180806,
          5.076609009824196,
          4.859819776474033,
          4.750596061091796,
          4.97086672499384,
          5.07701454213735
         ],
         "y0": " ",
         "yaxis": "y"
        },
        {
         "alignmentgroup": "True",
         "boxpoints": "all",
         "customdata": [
          [
           "PREmdivi1 25uM4719.0p4"
          ],
          [
           "PREmdivi1 25uM4689.0p6"
          ],
          [
           "PREmdivi1 25uM4719.0p4"
          ],
          [
           "PREmdivi1 25uM4689.0p6"
          ],
          [
           "PREmdivi1 25uM4689.0p6"
          ],
          [
           "PREmdivi1 25uM4719.0p5"
          ],
          [
           "PREmdivi1 25uM4719.0p5"
          ],
          [
           "PREmdivi1 25uM4717.0p7"
          ],
          [
           "PREmdivi1 25uM4719.0p4"
          ],
          [
           "PREmdivi1 25uM4689.0p6"
          ],
          [
           "PREmdivi1 25uM4719.0p5"
          ],
          [
           "PREmdivi1 25uM4837.0p9"
          ],
          [
           "PREmdivi1 25uM4719.0p4"
          ],
          [
           "PREmdivi1 25uM4837.0p9"
          ],
          [
           "PREmdivi1 25uM4717.0p7"
          ],
          [
           "PREmdivi1 25uM4719.0p4"
          ],
          [
           "PREmdivi1 25uM4837.0p9"
          ],
          [
           "PREmdivi1 25uM4689.0p6"
          ],
          [
           "PREmdivi1 25uM4717.0p7"
          ],
          [
           "PREmdivi1 25uM4719.0p5"
          ],
          [
           "PREmdivi1 25uM4689.0p6"
          ],
          [
           "PREmdivi1 25uM4719.0p5"
          ],
          [
           "PREmdivi1 25uM4717.0p7"
          ],
          [
           "PREmdivi1 25uM4837.0p9"
          ],
          [
           "PREmdivi1 25uM4717.0p7"
          ],
          [
           "PREmdivi1 25uM4719.0p5"
          ],
          [
           "PREmdivi1 25uM4719.0p4"
          ]
         ],
         "hovertemplate": "group=%{x}<br>vat1_area=%{y}<br>group_with_p=%{customdata[0]}<extra></extra>",
         "legendgroup": "PREmdivi1 25uM",
         "marker": {
          "color": "#EF553B"
         },
         "name": "PREmdivi1 25uM",
         "notched": true,
         "offsetgroup": "PREmdivi1 25uM",
         "orientation": "v",
         "quartilemethod": "inclusive",
         "showlegend": true,
         "type": "box",
         "x": [
          "PREmdivi1 25uM",
          "PREmdivi1 25uM",
          "PREmdivi1 25uM",
          "PREmdivi1 25uM",
          "PREmdivi1 25uM",
          "PREmdivi1 25uM",
          "PREmdivi1 25uM",
          "PREmdivi1 25uM",
          "PREmdivi1 25uM",
          "PREmdivi1 25uM",
          "PREmdivi1 25uM",
          "PREmdivi1 25uM",
          "PREmdivi1 25uM",
          "PREmdivi1 25uM",
          "PREmdivi1 25uM",
          "PREmdivi1 25uM",
          "PREmdivi1 25uM",
          "PREmdivi1 25uM",
          "PREmdivi1 25uM",
          "PREmdivi1 25uM",
          "PREmdivi1 25uM",
          "PREmdivi1 25uM",
          "PREmdivi1 25uM",
          "PREmdivi1 25uM",
          "PREmdivi1 25uM",
          "PREmdivi1 25uM",
          "PREmdivi1 25uM"
         ],
         "x0": " ",
         "xaxis": "x",
         "y": [
          5.323369764846792,
          5.230268761510093,
          5.227855812179544,
          5.362631597795448,
          4.913410775009171,
          5.602488879513949,
          5.534854918129149,
          5.3706688609406985,
          5.065974970464684,
          5.050340099237588,
          5.59876589591196,
          5.520862317901033,
          5.190209958873259,
          5.447048114600551,
          5.590776418299414,
          5.0956428253985955,
          5.620313911422242,
          4.922102520995709,
          5.46131536078997,
          5.709679790429279,
          4.918005643636289,
          5.773563005270241,
          5.289293142647411,
          5.430229536872537,
          5.354444399295647,
          5.401317875143633,
          4.901873072056902
         ],
         "y0": " ",
         "yaxis": "y"
        },
        {
         "alignmentgroup": "True",
         "boxpoints": "all",
         "customdata": [
          [
           "SDMSO4476.0p10"
          ],
          [
           "SDMSO4709.0p9"
          ],
          [
           "SDMSO4709.0p9"
          ],
          [
           "SDMSO4687.0p7"
          ],
          [
           "SDMSO4807.0p8"
          ],
          [
           "SDMSO4687.0p7"
          ],
          [
           "SDMSO4687.0p7"
          ],
          [
           "SDMSO305.0p6"
          ],
          [
           "SDMSO4807.0p8"
          ],
          [
           "SDMSO2165.0p10"
          ],
          [
           "SDMSO4709.0p9"
          ],
          [
           "SDMSO305.0p6"
          ],
          [
           "SDMSO4287.0p5"
          ],
          [
           "SDMSO4709.0p9"
          ],
          [
           "SDMSO305.0p6"
          ],
          [
           "SDMSO4476.0p10"
          ],
          [
           "SDMSO4687.0p7"
          ],
          [
           "SDMSO305.0p6"
          ],
          [
           "SDMSO305.0p6"
          ],
          [
           "SDMSO2165.0p10"
          ],
          [
           "SDMSO305.0p6"
          ],
          [
           "SDMSO4687.0p7"
          ],
          [
           "SDMSO4807.0p8"
          ],
          [
           "SDMSO2165.0p10"
          ],
          [
           "SDMSO4687.0p7"
          ],
          [
           "SDMSO4476.0p10"
          ],
          [
           "SDMSO4709.0p9"
          ],
          [
           "SDMSO4709.0p9"
          ]
         ],
         "hovertemplate": "group=%{x}<br>vat1_area=%{y}<br>group_with_p=%{customdata[0]}<extra></extra>",
         "legendgroup": "SDMSO",
         "marker": {
          "color": "#00cc96"
         },
         "name": "SDMSO",
         "notched": true,
         "offsetgroup": "SDMSO",
         "orientation": "v",
         "quartilemethod": "inclusive",
         "showlegend": true,
         "type": "box",
         "x": [
          "SDMSO",
          "SDMSO",
          "SDMSO",
          "SDMSO",
          "SDMSO",
          "SDMSO",
          "SDMSO",
          "SDMSO",
          "SDMSO",
          "SDMSO",
          "SDMSO",
          "SDMSO",
          "SDMSO",
          "SDMSO",
          "SDMSO",
          "SDMSO",
          "SDMSO",
          "SDMSO",
          "SDMSO",
          "SDMSO",
          "SDMSO",
          "SDMSO",
          "SDMSO",
          "SDMSO",
          "SDMSO",
          "SDMSO",
          "SDMSO",
          "SDMSO"
         ],
         "x0": " ",
         "xaxis": "x",
         "y": [
          5.378212697954532,
          5.167849896019569,
          5.206781854285073,
          5.302166569472109,
          5.448719605388837,
          4.908166214102785,
          4.910348384497145,
          4.788930851451579,
          5.12863823423558,
          5.327741663214986,
          5.254764560717896,
          4.740771944656246,
          5.453056444086833,
          5.142232433725652,
          4.848806130553279,
          5.580855797152136,
          5.032074772223499,
          4.9848555952927205,
          4.887345883851752,
          5.254950509307713,
          4.955762570381159,
          5.145962315403393,
          5.44425873554368,
          5.266971729739059,
          5.511746330035027,
          5.377402139219079,
          5.316855590637004,
          5.1623966698084125
         ],
         "y0": " ",
         "yaxis": "y"
        },
        {
         "alignmentgroup": "True",
         "boxpoints": "all",
         "customdata": [
          [
           "Smdivi1 25uM305.0p6"
          ],
          [
           "Smdivi1 25uM4476.0p10"
          ],
          [
           "Smdivi1 25uM305.0p6"
          ],
          [
           "Smdivi1 25uM4476.0p10"
          ],
          [
           "Smdivi1 25uM2165.0p10"
          ],
          [
           "Smdivi1 25uM4287.0p5"
          ],
          [
           "Smdivi1 25uM4709.0p9"
          ],
          [
           "Smdivi1 25uM4287.0p5"
          ],
          [
           "Smdivi1 25uM4709.0p9"
          ],
          [
           "Smdivi1 25uM2165.0p10"
          ],
          [
           "Smdivi1 25uM4287.0p5"
          ],
          [
           "Smdivi1 25uM4287.0p5"
          ],
          [
           "Smdivi1 25uM4687.0p7"
          ],
          [
           "Smdivi1 25uM4709.0p9"
          ],
          [
           "Smdivi1 25uM2165.0p10"
          ],
          [
           "Smdivi1 25uM305.0p6"
          ],
          [
           "Smdivi1 25uM305.0p6"
          ],
          [
           "Smdivi1 25uM4687.0p7"
          ],
          [
           "Smdivi1 25uM4287.0p5"
          ],
          [
           "Smdivi1 25uM4687.0p7"
          ],
          [
           "Smdivi1 25uM305.0p6"
          ],
          [
           "Smdivi1 25uM4687.0p7"
          ],
          [
           "Smdivi1 25uM2165.0p10"
          ],
          [
           "Smdivi1 25uM4476.0p10"
          ],
          [
           "Smdivi1 25uM4476.0p10"
          ],
          [
           "Smdivi1 25uM2165.0p10"
          ],
          [
           "Smdivi1 25uM4687.0p7"
          ],
          [
           "Smdivi1 25uM4709.0p9"
          ],
          [
           "Smdivi1 25uM4687.0p7"
          ],
          [
           "Smdivi1 25uM4807.0p8"
          ],
          [
           "Smdivi1 25uM4476.0p10"
          ],
          [
           "Smdivi1 25uM4807.0p8"
          ],
          [
           "Smdivi1 25uM4709.0p9"
          ],
          [
           "Smdivi1 25uM4709.0p9"
          ],
          [
           "Smdivi1 25uM305.0p6"
          ],
          [
           "Smdivi1 25uM4476.0p10"
          ],
          [
           "Smdivi1 25uM2165.0p10"
          ]
         ],
         "hovertemplate": "group=%{x}<br>vat1_area=%{y}<br>group_with_p=%{customdata[0]}<extra></extra>",
         "legendgroup": "Smdivi1 25uM",
         "marker": {
          "color": "#ab63fa"
         },
         "name": "Smdivi1 25uM",
         "notched": true,
         "offsetgroup": "Smdivi1 25uM",
         "orientation": "v",
         "quartilemethod": "inclusive",
         "showlegend": true,
         "type": "box",
         "x": [
          "Smdivi1 25uM",
          "Smdivi1 25uM",
          "Smdivi1 25uM",
          "Smdivi1 25uM",
          "Smdivi1 25uM",
          "Smdivi1 25uM",
          "Smdivi1 25uM",
          "Smdivi1 25uM",
          "Smdivi1 25uM",
          "Smdivi1 25uM",
          "Smdivi1 25uM",
          "Smdivi1 25uM",
          "Smdivi1 25uM",
          "Smdivi1 25uM",
          "Smdivi1 25uM",
          "Smdivi1 25uM",
          "Smdivi1 25uM",
          "Smdivi1 25uM",
          "Smdivi1 25uM",
          "Smdivi1 25uM",
          "Smdivi1 25uM",
          "Smdivi1 25uM",
          "Smdivi1 25uM",
          "Smdivi1 25uM",
          "Smdivi1 25uM",
          "Smdivi1 25uM",
          "Smdivi1 25uM",
          "Smdivi1 25uM",
          "Smdivi1 25uM",
          "Smdivi1 25uM",
          "Smdivi1 25uM",
          "Smdivi1 25uM",
          "Smdivi1 25uM",
          "Smdivi1 25uM",
          "Smdivi1 25uM",
          "Smdivi1 25uM",
          "Smdivi1 25uM"
         ],
         "x0": " ",
         "xaxis": "x",
         "y": [
          4.933643436723712,
          5.8301634903109205,
          5.051501941065975,
          6.13437442436557,
          5.801952448741909,
          6.240734221934395,
          5.363537650143698,
          6.233158013115206,
          5.501180945229227,
          5.5580280870104035,
          6.061359782562414,
          5.969755236244311,
          5.731280105466239,
          5.534030001369724,
          5.6376169693533935,
          4.722352293932468,
          4.986877236269011,
          5.155632937333302,
          6.109300934978888,
          5.919600964093781,
          5.288475184044275,
          4.932900312415792,
          5.580139445099725,
          6.202761549984714,
          5.73052138160137,
          5.665637268450458,
          5.539590471362439,
          5.383728392187872,
          5.170299404076152,
          6.305924369549765,
          5.996035896859065,
          5.957496828577805,
          5.369350509291357,
          5.553975851200779,
          4.760933298903274,
          5.600447438529065,
          5.667536055733792
         ],
         "y0": " ",
         "yaxis": "y"
        },
        {
         "alignmentgroup": "True",
         "boxpoints": "all",
         "customdata": [
          [
           "HCDMSO143.0p7"
          ],
          [
           "HCDMSO1653.0p8"
          ],
          [
           "HCDMSO1653.0p4"
          ],
          [
           "HCDMSO730.0p9"
          ],
          [
           "HCDMSO1653.0p5"
          ],
          [
           "HCDMSO730.0p9"
          ],
          [
           "HCDMSO1653.0p7"
          ],
          [
           "HCDMSO1650.0p8"
          ],
          [
           "HCDMSO1653.0p8"
          ],
          [
           "HCDMSO1653.0p4"
          ],
          [
           "HCDMSO730.0p8"
          ],
          [
           "HCDMSO730.0p9"
          ],
          [
           "HCDMSO1653.0p8"
          ],
          [
           "HCDMSO1653.0p7"
          ],
          [
           "HCDMSO1016.0p10"
          ],
          [
           "HCDMSO730.0p9"
          ],
          [
           "HCDMSO143.0p7"
          ],
          [
           "HCDMSO1650.0p8"
          ],
          [
           "HCDMSO1650.0p6"
          ],
          [
           "HCDMSO1650.0p5"
          ],
          [
           "HCDMSO1016.0p10"
          ],
          [
           "HCDMSO1653.0p4"
          ],
          [
           "HCDMSO1650.0p5"
          ],
          [
           "HCDMSO1650.0p8"
          ],
          [
           "HCDMSO730.0p8"
          ],
          [
           "HCDMSO730.0p9"
          ],
          [
           "HCDMSO1653.0p4"
          ],
          [
           "HCDMSO1016.0p10"
          ],
          [
           "HCDMSO1653.0p4"
          ],
          [
           "HCDMSO1016.0p10"
          ],
          [
           "HCDMSO730.0p8"
          ],
          [
           "HCDMSO143.0p7"
          ],
          [
           "HCDMSO143.0p7"
          ],
          [
           "HCDMSO730.0p9"
          ],
          [
           "HCDMSO1653.0p5"
          ],
          [
           "HCDMSO1653.0p5"
          ],
          [
           "HCDMSO1650.0p8"
          ],
          [
           "HCDMSO1650.0p5"
          ],
          [
           "HCDMSO730.0p8"
          ],
          [
           "HCDMSO1016.0p10"
          ],
          [
           "HCDMSO495.0p7"
          ],
          [
           "HCDMSO1650.0p8"
          ],
          [
           "HCDMSO1650.0p5"
          ],
          [
           "HCDMSO1653.0p7"
          ],
          [
           "HCDMSO1650.0p6"
          ],
          [
           "HCDMSO143.0p7"
          ],
          [
           "HCDMSO1653.0p7"
          ],
          [
           "HCDMSO1016.0p10"
          ],
          [
           "HCDMSO1653.0p7"
          ],
          [
           "HCDMSO1650.0p6"
          ],
          [
           "HCDMSO1653.0p8"
          ],
          [
           "HCDMSO1650.0p8"
          ],
          [
           "HCDMSO1653.0p5"
          ],
          [
           "HCDMSO1653.0p8"
          ],
          [
           "HCDMSO1653.0p5"
          ],
          [
           "HCDMSO730.0p8"
          ],
          [
           "HCDMSO1653.0p7"
          ],
          [
           "HCDMSO1653.0p8"
          ],
          [
           "HCDMSO1653.0p5"
          ],
          [
           "HCDMSO1650.0p6"
          ]
         ],
         "hovertemplate": "group=%{x}<br>vat1_area=%{y}<br>group_with_p=%{customdata[0]}<extra></extra>",
         "legendgroup": "HCDMSO",
         "marker": {
          "color": "#FFA15A"
         },
         "name": "HCDMSO",
         "notched": true,
         "offsetgroup": "HCDMSO",
         "orientation": "v",
         "quartilemethod": "inclusive",
         "showlegend": true,
         "type": "box",
         "x": [
          "HCDMSO",
          "HCDMSO",
          "HCDMSO",
          "HCDMSO",
          "HCDMSO",
          "HCDMSO",
          "HCDMSO",
          "HCDMSO",
          "HCDMSO",
          "HCDMSO",
          "HCDMSO",
          "HCDMSO",
          "HCDMSO",
          "HCDMSO",
          "HCDMSO",
          "HCDMSO",
          "HCDMSO",
          "HCDMSO",
          "HCDMSO",
          "HCDMSO",
          "HCDMSO",
          "HCDMSO",
          "HCDMSO",
          "HCDMSO",
          "HCDMSO",
          "HCDMSO",
          "HCDMSO",
          "HCDMSO",
          "HCDMSO",
          "HCDMSO",
          "HCDMSO",
          "HCDMSO",
          "HCDMSO",
          "HCDMSO",
          "HCDMSO",
          "HCDMSO",
          "HCDMSO",
          "HCDMSO",
          "HCDMSO",
          "HCDMSO",
          "HCDMSO",
          "HCDMSO",
          "HCDMSO",
          "HCDMSO",
          "HCDMSO",
          "HCDMSO",
          "HCDMSO",
          "HCDMSO",
          "HCDMSO",
          "HCDMSO",
          "HCDMSO",
          "HCDMSO",
          "HCDMSO",
          "HCDMSO",
          "HCDMSO",
          "HCDMSO",
          "HCDMSO",
          "HCDMSO",
          "HCDMSO",
          "HCDMSO"
         ],
         "x0": " ",
         "xaxis": "x",
         "y": [
          5.330666487818298,
          5.553144399939169,
          5.325288820386673,
          5.5031360840442405,
          5.298167231328309,
          5.638773078027053,
          5.748545378197952,
          5.231701767707972,
          5.507987370996905,
          5.506315441624548,
          5.5790097744150735,
          5.448343943369634,
          5.355810950369751,
          5.167487246838472,
          5.834011268616713,
          5.459115550839341,
          5.597642607241934,
          5.368740067805034,
          5.55569166026698,
          5.150940325001124,
          5.711284166821275,
          5.5109488441312875,
          5.701093368753028,
          5.672271915082835,
          5.471113241739941,
          5.433845938284494,
          5.2567207160540965,
          5.79584872609753,
          5.274509234147839,
          5.498325529043229,
          5.557113953303542,
          5.376487601786439,
          5.159918707691971,
          5.493857784259239,
          5.298397210625414,
          5.583036216620945,
          5.250550883616881,
          5.288258477082196,
          5.662994327333957,
          5.694126764018835,
          5.380956214523446,
          5.600004149755676,
          5.230265839443119,
          5.479292392037988,
          5.322949676934901,
          5.407040001334871,
          5.511040693228526,
          5.827257449797618,
          5.249423913515244,
          5.234395761100178,
          5.197275114991438,
          5.5562647496405155,
          5.239271323448785,
          5.456203623529368,
          5.230824159020614,
          5.436907822148266,
          5.60207147597666,
          5.343499765437398,
          5.394936473891915,
          5.388117741631335
         ],
         "y0": " ",
         "yaxis": "y"
        },
        {
         "alignmentgroup": "True",
         "boxpoints": "all",
         "customdata": [
          [
           "Mmdivi1 25uM4819.0p4"
          ],
          [
           "Mmdivi1 25uM4819.0p4"
          ],
          [
           "Mmdivi1 25uM4212.0p9"
          ],
          [
           "Mmdivi1 25uM4819.0p4"
          ],
          [
           "Mmdivi1 25uM4887.0p7"
          ],
          [
           "Mmdivi1 25uM4212.0p9"
          ],
          [
           "Mmdivi1 25uM4887.0p7"
          ],
          [
           "Mmdivi1 25uM4721.0p5"
          ],
          [
           "Mmdivi1 25uM4799.0p8"
          ],
          [
           "Mmdivi1 25uM4799.0p8"
          ],
          [
           "Mmdivi1 25uM4721.0p5"
          ],
          [
           "Mmdivi1 25uM4212.0p9"
          ],
          [
           "Mmdivi1 25uM4819.0p4"
          ],
          [
           "Mmdivi1 25uM4721.0p5"
          ],
          [
           "Mmdivi1 25uM4887.0p7"
          ],
          [
           "Mmdivi1 25uM4887.0p7"
          ],
          [
           "Mmdivi1 25uM4799.0p8"
          ],
          [
           "Mmdivi1 25uM4212.0p9"
          ],
          [
           "Mmdivi1 25uM4715.0p6"
          ],
          [
           "Mmdivi1 25uM4887.0p7"
          ],
          [
           "Mmdivi1 25uM4819.0p4"
          ],
          [
           "Mmdivi1 25uM4715.0p6"
          ],
          [
           "Mmdivi1 25uM4721.0p5"
          ],
          [
           "Mmdivi1 25uM4721.0p5"
          ],
          [
           "Mmdivi1 25uM4721.0p5"
          ],
          [
           "Mmdivi1 25uM4212.0p9"
          ],
          [
           "Mmdivi1 25uM4819.0p4"
          ],
          [
           "Mmdivi1 25uM4799.0p8"
          ],
          [
           "Mmdivi1 25uM4799.0p8"
          ],
          [
           "Mmdivi1 25uM4887.0p7"
          ],
          [
           "Mmdivi1 25uM4799.0p8"
          ],
          [
           "Mmdivi1 25uM4715.0p6"
          ],
          [
           "Mmdivi1 25uM4212.0p9"
          ]
         ],
         "hovertemplate": "group=%{x}<br>vat1_area=%{y}<br>group_with_p=%{customdata[0]}<extra></extra>",
         "legendgroup": "Mmdivi1 25uM",
         "marker": {
          "color": "#19d3f3"
         },
         "name": "Mmdivi1 25uM",
         "notched": true,
         "offsetgroup": "Mmdivi1 25uM",
         "orientation": "v",
         "quartilemethod": "inclusive",
         "showlegend": true,
         "type": "box",
         "x": [
          "Mmdivi1 25uM",
          "Mmdivi1 25uM",
          "Mmdivi1 25uM",
          "Mmdivi1 25uM",
          "Mmdivi1 25uM",
          "Mmdivi1 25uM",
          "Mmdivi1 25uM",
          "Mmdivi1 25uM",
          "Mmdivi1 25uM",
          "Mmdivi1 25uM",
          "Mmdivi1 25uM",
          "Mmdivi1 25uM",
          "Mmdivi1 25uM",
          "Mmdivi1 25uM",
          "Mmdivi1 25uM",
          "Mmdivi1 25uM",
          "Mmdivi1 25uM",
          "Mmdivi1 25uM",
          "Mmdivi1 25uM",
          "Mmdivi1 25uM",
          "Mmdivi1 25uM",
          "Mmdivi1 25uM",
          "Mmdivi1 25uM",
          "Mmdivi1 25uM",
          "Mmdivi1 25uM",
          "Mmdivi1 25uM",
          "Mmdivi1 25uM",
          "Mmdivi1 25uM",
          "Mmdivi1 25uM",
          "Mmdivi1 25uM",
          "Mmdivi1 25uM",
          "Mmdivi1 25uM",
          "Mmdivi1 25uM"
         ],
         "x0": " ",
         "xaxis": "x",
         "y": [
          5.952013962134998,
          5.695638977710092,
          5.100559865182394,
          5.8497133622948665,
          5.98941871094407,
          5.184126912747607,
          5.619203023264156,
          5.215199446046656,
          5.120437504855385,
          5.576911164553918,
          5.317726010316427,
          5.078662570531207,
          5.666071686535894,
          5.065205914656687,
          6.008175825720927,
          5.633684026340779,
          5.566906264731464,
          5.3089882208410435,
          5.074181571785575,
          5.94617916958298,
          6.034877120314191,
          4.881365899574458,
          4.9243744718572,
          5.105880763388718,
          5.080590414729856,
          5.24097103031531,
          5.93410075699124,
          5.308882530080574,
          5.721786558879596,
          5.705803403849139,
          5.437117237167497,
          5.042999306636204,
          5.4533680962431506
         ],
         "y0": " ",
         "yaxis": "y"
        },
        {
         "alignmentgroup": "True",
         "boxpoints": "all",
         "customdata": [
          [
           "MDMSO4819.0p4"
          ],
          [
           "MDMSO4799.0p8"
          ],
          [
           "MDMSO4887.0p7"
          ],
          [
           "MDMSO4212.0p9"
          ],
          [
           "MDMSO4721.0p5"
          ],
          [
           "MDMSO4887.0p7"
          ],
          [
           "MDMSO4819.0p4"
          ],
          [
           "MDMSO4721.0p5"
          ],
          [
           "MDMSO4715.0p6"
          ],
          [
           "MDMSO4799.0p8"
          ],
          [
           "MDMSO4799.0p8"
          ],
          [
           "MDMSO4799.0p8"
          ],
          [
           "MDMSO4799.0p8"
          ],
          [
           "MDMSO4212.0p9"
          ],
          [
           "MDMSO4212.0p9"
          ],
          [
           "MDMSO4721.0p5"
          ],
          [
           "MDMSO4819.0p4"
          ],
          [
           "MDMSO4715.0p6"
          ],
          [
           "MDMSO4799.0p8"
          ],
          [
           "MDMSO4212.0p9"
          ],
          [
           "MDMSO4819.0p4"
          ],
          [
           "MDMSO4715.0p6"
          ],
          [
           "MDMSO4887.0p7"
          ],
          [
           "MDMSO4212.0p9"
          ],
          [
           "MDMSO4715.0p6"
          ],
          [
           "MDMSO4212.0p9"
          ],
          [
           "MDMSO4819.0p4"
          ],
          [
           "MDMSO4715.0p6"
          ],
          [
           "MDMSO4887.0p7"
          ],
          [
           "MDMSO4715.0p6"
          ],
          [
           "MDMSO4887.0p7"
          ]
         ],
         "hovertemplate": "group=%{x}<br>vat1_area=%{y}<br>group_with_p=%{customdata[0]}<extra></extra>",
         "legendgroup": "MDMSO",
         "marker": {
          "color": "#FF6692"
         },
         "name": "MDMSO",
         "notched": true,
         "offsetgroup": "MDMSO",
         "orientation": "v",
         "quartilemethod": "inclusive",
         "showlegend": true,
         "type": "box",
         "x": [
          "MDMSO",
          "MDMSO",
          "MDMSO",
          "MDMSO",
          "MDMSO",
          "MDMSO",
          "MDMSO",
          "MDMSO",
          "MDMSO",
          "MDMSO",
          "MDMSO",
          "MDMSO",
          "MDMSO",
          "MDMSO",
          "MDMSO",
          "MDMSO",
          "MDMSO",
          "MDMSO",
          "MDMSO",
          "MDMSO",
          "MDMSO",
          "MDMSO",
          "MDMSO",
          "MDMSO",
          "MDMSO",
          "MDMSO",
          "MDMSO",
          "MDMSO",
          "MDMSO",
          "MDMSO",
          "MDMSO"
         ],
         "x0": " ",
         "xaxis": "x",
         "y": [
          5.5875117035798585,
          5.375689164094607,
          5.396023702362592,
          5.137535414842285,
          5.164214762847812,
          5.682453079295989,
          5.594396824655065,
          4.737521401178357,
          4.599790120976877,
          5.249691843040587,
          4.909330485071187,
          5.1828904469614905,
          5.150469204809168,
          5.135514972448556,
          5.058873003119013,
          4.853059095514281,
          5.687517258792634,
          4.713081608826917,
          5.216007026237097,
          4.935771384206406,
          5.497564657302009,
          4.509219309037976,
          5.4405549626447405,
          5.137014892350764,
          4.468083540662517,
          4.612778457895733,
          5.440603135674041,
          4.447875874213807,
          5.373052362141468,
          4.714888039294838,
          5.621572864759337
         ],
         "y0": " ",
         "yaxis": "y"
        }
       ],
       "layout": {
        "boxmode": "overlay",
        "font": {
         "color": "Black",
         "family": "Arial",
         "size": 20
        },
        "legend": {
         "title": {
          "text": "group"
         },
         "tracegroupgap": 0
        },
        "margin": {
         "t": 60
        },
        "template": {
         "data": {
          "bar": [
           {
            "error_x": {
             "color": "#2a3f5f"
            },
            "error_y": {
             "color": "#2a3f5f"
            },
            "marker": {
             "line": {
              "color": "#E5ECF6",
              "width": 0.5
             },
             "pattern": {
              "fillmode": "overlay",
              "size": 10,
              "solidity": 0.2
             }
            },
            "type": "bar"
           }
          ],
          "barpolar": [
           {
            "marker": {
             "line": {
              "color": "#E5ECF6",
              "width": 0.5
             },
             "pattern": {
              "fillmode": "overlay",
              "size": 10,
              "solidity": 0.2
             }
            },
            "type": "barpolar"
           }
          ],
          "carpet": [
           {
            "aaxis": {
             "endlinecolor": "#2a3f5f",
             "gridcolor": "white",
             "linecolor": "white",
             "minorgridcolor": "white",
             "startlinecolor": "#2a3f5f"
            },
            "baxis": {
             "endlinecolor": "#2a3f5f",
             "gridcolor": "white",
             "linecolor": "white",
             "minorgridcolor": "white",
             "startlinecolor": "#2a3f5f"
            },
            "type": "carpet"
           }
          ],
          "choropleth": [
           {
            "colorbar": {
             "outlinewidth": 0,
             "ticks": ""
            },
            "type": "choropleth"
           }
          ],
          "contour": [
           {
            "colorbar": {
             "outlinewidth": 0,
             "ticks": ""
            },
            "colorscale": [
             [
              0,
              "#0d0887"
             ],
             [
              0.1111111111111111,
              "#46039f"
             ],
             [
              0.2222222222222222,
              "#7201a8"
             ],
             [
              0.3333333333333333,
              "#9c179e"
             ],
             [
              0.4444444444444444,
              "#bd3786"
             ],
             [
              0.5555555555555556,
              "#d8576b"
             ],
             [
              0.6666666666666666,
              "#ed7953"
             ],
             [
              0.7777777777777778,
              "#fb9f3a"
             ],
             [
              0.8888888888888888,
              "#fdca26"
             ],
             [
              1,
              "#f0f921"
             ]
            ],
            "type": "contour"
           }
          ],
          "contourcarpet": [
           {
            "colorbar": {
             "outlinewidth": 0,
             "ticks": ""
            },
            "type": "contourcarpet"
           }
          ],
          "heatmap": [
           {
            "colorbar": {
             "outlinewidth": 0,
             "ticks": ""
            },
            "colorscale": [
             [
              0,
              "#0d0887"
             ],
             [
              0.1111111111111111,
              "#46039f"
             ],
             [
              0.2222222222222222,
              "#7201a8"
             ],
             [
              0.3333333333333333,
              "#9c179e"
             ],
             [
              0.4444444444444444,
              "#bd3786"
             ],
             [
              0.5555555555555556,
              "#d8576b"
             ],
             [
              0.6666666666666666,
              "#ed7953"
             ],
             [
              0.7777777777777778,
              "#fb9f3a"
             ],
             [
              0.8888888888888888,
              "#fdca26"
             ],
             [
              1,
              "#f0f921"
             ]
            ],
            "type": "heatmap"
           }
          ],
          "heatmapgl": [
           {
            "colorbar": {
             "outlinewidth": 0,
             "ticks": ""
            },
            "colorscale": [
             [
              0,
              "#0d0887"
             ],
             [
              0.1111111111111111,
              "#46039f"
             ],
             [
              0.2222222222222222,
              "#7201a8"
             ],
             [
              0.3333333333333333,
              "#9c179e"
             ],
             [
              0.4444444444444444,
              "#bd3786"
             ],
             [
              0.5555555555555556,
              "#d8576b"
             ],
             [
              0.6666666666666666,
              "#ed7953"
             ],
             [
              0.7777777777777778,
              "#fb9f3a"
             ],
             [
              0.8888888888888888,
              "#fdca26"
             ],
             [
              1,
              "#f0f921"
             ]
            ],
            "type": "heatmapgl"
           }
          ],
          "histogram": [
           {
            "marker": {
             "pattern": {
              "fillmode": "overlay",
              "size": 10,
              "solidity": 0.2
             }
            },
            "type": "histogram"
           }
          ],
          "histogram2d": [
           {
            "colorbar": {
             "outlinewidth": 0,
             "ticks": ""
            },
            "colorscale": [
             [
              0,
              "#0d0887"
             ],
             [
              0.1111111111111111,
              "#46039f"
             ],
             [
              0.2222222222222222,
              "#7201a8"
             ],
             [
              0.3333333333333333,
              "#9c179e"
             ],
             [
              0.4444444444444444,
              "#bd3786"
             ],
             [
              0.5555555555555556,
              "#d8576b"
             ],
             [
              0.6666666666666666,
              "#ed7953"
             ],
             [
              0.7777777777777778,
              "#fb9f3a"
             ],
             [
              0.8888888888888888,
              "#fdca26"
             ],
             [
              1,
              "#f0f921"
             ]
            ],
            "type": "histogram2d"
           }
          ],
          "histogram2dcontour": [
           {
            "colorbar": {
             "outlinewidth": 0,
             "ticks": ""
            },
            "colorscale": [
             [
              0,
              "#0d0887"
             ],
             [
              0.1111111111111111,
              "#46039f"
             ],
             [
              0.2222222222222222,
              "#7201a8"
             ],
             [
              0.3333333333333333,
              "#9c179e"
             ],
             [
              0.4444444444444444,
              "#bd3786"
             ],
             [
              0.5555555555555556,
              "#d8576b"
             ],
             [
              0.6666666666666666,
              "#ed7953"
             ],
             [
              0.7777777777777778,
              "#fb9f3a"
             ],
             [
              0.8888888888888888,
              "#fdca26"
             ],
             [
              1,
              "#f0f921"
             ]
            ],
            "type": "histogram2dcontour"
           }
          ],
          "mesh3d": [
           {
            "colorbar": {
             "outlinewidth": 0,
             "ticks": ""
            },
            "type": "mesh3d"
           }
          ],
          "parcoords": [
           {
            "line": {
             "colorbar": {
              "outlinewidth": 0,
              "ticks": ""
             }
            },
            "type": "parcoords"
           }
          ],
          "pie": [
           {
            "automargin": true,
            "type": "pie"
           }
          ],
          "scatter": [
           {
            "fillpattern": {
             "fillmode": "overlay",
             "size": 10,
             "solidity": 0.2
            },
            "type": "scatter"
           }
          ],
          "scatter3d": [
           {
            "line": {
             "colorbar": {
              "outlinewidth": 0,
              "ticks": ""
             }
            },
            "marker": {
             "colorbar": {
              "outlinewidth": 0,
              "ticks": ""
             }
            },
            "type": "scatter3d"
           }
          ],
          "scattercarpet": [
           {
            "marker": {
             "colorbar": {
              "outlinewidth": 0,
              "ticks": ""
             }
            },
            "type": "scattercarpet"
           }
          ],
          "scattergeo": [
           {
            "marker": {
             "colorbar": {
              "outlinewidth": 0,
              "ticks": ""
             }
            },
            "type": "scattergeo"
           }
          ],
          "scattergl": [
           {
            "marker": {
             "colorbar": {
              "outlinewidth": 0,
              "ticks": ""
             }
            },
            "type": "scattergl"
           }
          ],
          "scattermapbox": [
           {
            "marker": {
             "colorbar": {
              "outlinewidth": 0,
              "ticks": ""
             }
            },
            "type": "scattermapbox"
           }
          ],
          "scatterpolar": [
           {
            "marker": {
             "colorbar": {
              "outlinewidth": 0,
              "ticks": ""
             }
            },
            "type": "scatterpolar"
           }
          ],
          "scatterpolargl": [
           {
            "marker": {
             "colorbar": {
              "outlinewidth": 0,
              "ticks": ""
             }
            },
            "type": "scatterpolargl"
           }
          ],
          "scatterternary": [
           {
            "marker": {
             "colorbar": {
              "outlinewidth": 0,
              "ticks": ""
             }
            },
            "type": "scatterternary"
           }
          ],
          "surface": [
           {
            "colorbar": {
             "outlinewidth": 0,
             "ticks": ""
            },
            "colorscale": [
             [
              0,
              "#0d0887"
             ],
             [
              0.1111111111111111,
              "#46039f"
             ],
             [
              0.2222222222222222,
              "#7201a8"
             ],
             [
              0.3333333333333333,
              "#9c179e"
             ],
             [
              0.4444444444444444,
              "#bd3786"
             ],
             [
              0.5555555555555556,
              "#d8576b"
             ],
             [
              0.6666666666666666,
              "#ed7953"
             ],
             [
              0.7777777777777778,
              "#fb9f3a"
             ],
             [
              0.8888888888888888,
              "#fdca26"
             ],
             [
              1,
              "#f0f921"
             ]
            ],
            "type": "surface"
           }
          ],
          "table": [
           {
            "cells": {
             "fill": {
              "color": "#EBF0F8"
             },
             "line": {
              "color": "white"
             }
            },
            "header": {
             "fill": {
              "color": "#C8D4E3"
             },
             "line": {
              "color": "white"
             }
            },
            "type": "table"
           }
          ]
         },
         "layout": {
          "annotationdefaults": {
           "arrowcolor": "#2a3f5f",
           "arrowhead": 0,
           "arrowwidth": 1
          },
          "autotypenumbers": "strict",
          "coloraxis": {
           "colorbar": {
            "outlinewidth": 0,
            "ticks": ""
           }
          },
          "colorscale": {
           "diverging": [
            [
             0,
             "#8e0152"
            ],
            [
             0.1,
             "#c51b7d"
            ],
            [
             0.2,
             "#de77ae"
            ],
            [
             0.3,
             "#f1b6da"
            ],
            [
             0.4,
             "#fde0ef"
            ],
            [
             0.5,
             "#f7f7f7"
            ],
            [
             0.6,
             "#e6f5d0"
            ],
            [
             0.7,
             "#b8e186"
            ],
            [
             0.8,
             "#7fbc41"
            ],
            [
             0.9,
             "#4d9221"
            ],
            [
             1,
             "#276419"
            ]
           ],
           "sequential": [
            [
             0,
             "#0d0887"
            ],
            [
             0.1111111111111111,
             "#46039f"
            ],
            [
             0.2222222222222222,
             "#7201a8"
            ],
            [
             0.3333333333333333,
             "#9c179e"
            ],
            [
             0.4444444444444444,
             "#bd3786"
            ],
            [
             0.5555555555555556,
             "#d8576b"
            ],
            [
             0.6666666666666666,
             "#ed7953"
            ],
            [
             0.7777777777777778,
             "#fb9f3a"
            ],
            [
             0.8888888888888888,
             "#fdca26"
            ],
            [
             1,
             "#f0f921"
            ]
           ],
           "sequentialminus": [
            [
             0,
             "#0d0887"
            ],
            [
             0.1111111111111111,
             "#46039f"
            ],
            [
             0.2222222222222222,
             "#7201a8"
            ],
            [
             0.3333333333333333,
             "#9c179e"
            ],
            [
             0.4444444444444444,
             "#bd3786"
            ],
            [
             0.5555555555555556,
             "#d8576b"
            ],
            [
             0.6666666666666666,
             "#ed7953"
            ],
            [
             0.7777777777777778,
             "#fb9f3a"
            ],
            [
             0.8888888888888888,
             "#fdca26"
            ],
            [
             1,
             "#f0f921"
            ]
           ]
          },
          "colorway": [
           "#636efa",
           "#EF553B",
           "#00cc96",
           "#ab63fa",
           "#FFA15A",
           "#19d3f3",
           "#FF6692",
           "#B6E880",
           "#FF97FF",
           "#FECB52"
          ],
          "font": {
           "color": "#2a3f5f"
          },
          "geo": {
           "bgcolor": "white",
           "lakecolor": "white",
           "landcolor": "#E5ECF6",
           "showlakes": true,
           "showland": true,
           "subunitcolor": "white"
          },
          "hoverlabel": {
           "align": "left"
          },
          "hovermode": "closest",
          "mapbox": {
           "style": "light"
          },
          "paper_bgcolor": "white",
          "plot_bgcolor": "#E5ECF6",
          "polar": {
           "angularaxis": {
            "gridcolor": "white",
            "linecolor": "white",
            "ticks": ""
           },
           "bgcolor": "#E5ECF6",
           "radialaxis": {
            "gridcolor": "white",
            "linecolor": "white",
            "ticks": ""
           }
          },
          "scene": {
           "xaxis": {
            "backgroundcolor": "#E5ECF6",
            "gridcolor": "white",
            "gridwidth": 2,
            "linecolor": "white",
            "showbackground": true,
            "ticks": "",
            "zerolinecolor": "white"
           },
           "yaxis": {
            "backgroundcolor": "#E5ECF6",
            "gridcolor": "white",
            "gridwidth": 2,
            "linecolor": "white",
            "showbackground": true,
            "ticks": "",
            "zerolinecolor": "white"
           },
           "zaxis": {
            "backgroundcolor": "#E5ECF6",
            "gridcolor": "white",
            "gridwidth": 2,
            "linecolor": "white",
            "showbackground": true,
            "ticks": "",
            "zerolinecolor": "white"
           }
          },
          "shapedefaults": {
           "line": {
            "color": "#2a3f5f"
           }
          },
          "ternary": {
           "aaxis": {
            "gridcolor": "white",
            "linecolor": "white",
            "ticks": ""
           },
           "baxis": {
            "gridcolor": "white",
            "linecolor": "white",
            "ticks": ""
           },
           "bgcolor": "#E5ECF6",
           "caxis": {
            "gridcolor": "white",
            "linecolor": "white",
            "ticks": ""
           }
          },
          "title": {
           "x": 0.05
          },
          "xaxis": {
           "automargin": true,
           "gridcolor": "white",
           "linecolor": "white",
           "ticks": "",
           "title": {
            "standoff": 15
           },
           "zerolinecolor": "white",
           "zerolinewidth": 2
          },
          "yaxis": {
           "automargin": true,
           "gridcolor": "white",
           "linecolor": "white",
           "ticks": "",
           "title": {
            "standoff": 15
           },
           "zerolinecolor": "white",
           "zerolinewidth": 2
          }
         }
        },
        "xaxis": {
         "anchor": "y",
         "categoryarray": [
          "HCDMSO",
          "PREDMSO",
          "PREmdivi1 25uM",
          "MDMSO",
          "Mmdivi1 25uM",
          "SDMSO",
          "Smdivi1 25uM"
         ],
         "categoryorder": "array",
         "domain": [
          0,
          1
         ],
         "title": {
          "text": "group"
         }
        },
        "yaxis": {
         "anchor": "x",
         "domain": [
          0,
          1
         ],
         "title": {
          "text": "vat1_area"
         }
        }
       }
      },
      "text/html": [
       "<div>                            <div id=\"9ffa59d1-a647-4a07-abed-4e54af4361b3\" class=\"plotly-graph-div\" style=\"height:525px; width:100%;\"></div>            <script type=\"text/javascript\">                require([\"plotly\"], function(Plotly) {                    window.PLOTLYENV=window.PLOTLYENV || {};                                    if (document.getElementById(\"9ffa59d1-a647-4a07-abed-4e54af4361b3\")) {                    Plotly.newPlot(                        \"9ffa59d1-a647-4a07-abed-4e54af4361b3\",                        [{\"alignmentgroup\":\"True\",\"boxpoints\":\"all\",\"customdata\":[[\"PREDMSO4719.0p4\"],[\"PREDMSO4689.0p6\"],[\"PREDMSO4689.0p6\"],[\"PREDMSO4689.0p6\"],[\"PREDMSO4719.0p5\"],[\"PREDMSO4717.0p7\"],[\"PREDMSO4689.0p6\"],[\"PREDMSO4719.0p5\"],[\"PREDMSO4837.0p9\"],[\"PREDMSO4719.0p4\"],[\"PREDMSO4717.0p7\"],[\"PREDMSO4837.0p9\"],[\"PREDMSO4719.0p5\"],[\"PREDMSO4719.0p5\"],[\"PREDMSO4837.0p9\"],[\"PREDMSO4717.0p7\"],[\"PREDMSO4719.0p4\"],[\"PREDMSO4717.0p7\"],[\"PREDMSO4719.0p4\"],[\"PREDMSO4719.0p5\"],[\"PREDMSO4719.0p4\"],[\"PREDMSO4719.0p4\"],[\"PREDMSO4837.0p9\"],[\"PREDMSO4837.0p9\"],[\"PREDMSO4689.0p6\"],[\"PREDMSO4689.0p6\"],[\"PREDMSO4717.0p7\"],[\"PREDMSO4717.0p7\"]],\"hovertemplate\":\"group=%{x}<br>vat1_area=%{y}<br>group_with_p=%{customdata[0]}<extra></extra>\",\"legendgroup\":\"PREDMSO\",\"marker\":{\"color\":\"#636efa\"},\"name\":\"PREDMSO\",\"notched\":true,\"offsetgroup\":\"PREDMSO\",\"orientation\":\"v\",\"showlegend\":true,\"x\":[\"PREDMSO\",\"PREDMSO\",\"PREDMSO\",\"PREDMSO\",\"PREDMSO\",\"PREDMSO\",\"PREDMSO\",\"PREDMSO\",\"PREDMSO\",\"PREDMSO\",\"PREDMSO\",\"PREDMSO\",\"PREDMSO\",\"PREDMSO\",\"PREDMSO\",\"PREDMSO\",\"PREDMSO\",\"PREDMSO\",\"PREDMSO\",\"PREDMSO\",\"PREDMSO\",\"PREDMSO\",\"PREDMSO\",\"PREDMSO\",\"PREDMSO\",\"PREDMSO\",\"PREDMSO\",\"PREDMSO\"],\"x0\":\" \",\"xaxis\":\"x\",\"y\":[4.859180972003702,5.105942570847882,4.848214455748171,5.022185931063391,5.2092033014001,5.3305706469643415,5.097042717525978,4.782798454857549,5.500963976572361,5.340787663359384,5.4219027172230625,5.277851164605592,5.433921915273617,5.414963066879282,5.504501557017899,5.109405934249854,4.842371229930319,5.071376029372046,5.175282500942245,5.320000892271684,4.979027724203666,5.097512029579347,5.272384631180806,5.076609009824196,4.859819776474033,4.750596061091796,4.97086672499384,5.07701454213735],\"y0\":\" \",\"yaxis\":\"y\",\"type\":\"box\",\"quartilemethod\":\"inclusive\"},{\"alignmentgroup\":\"True\",\"boxpoints\":\"all\",\"customdata\":[[\"PREmdivi1 25uM4719.0p4\"],[\"PREmdivi1 25uM4689.0p6\"],[\"PREmdivi1 25uM4719.0p4\"],[\"PREmdivi1 25uM4689.0p6\"],[\"PREmdivi1 25uM4689.0p6\"],[\"PREmdivi1 25uM4719.0p5\"],[\"PREmdivi1 25uM4719.0p5\"],[\"PREmdivi1 25uM4717.0p7\"],[\"PREmdivi1 25uM4719.0p4\"],[\"PREmdivi1 25uM4689.0p6\"],[\"PREmdivi1 25uM4719.0p5\"],[\"PREmdivi1 25uM4837.0p9\"],[\"PREmdivi1 25uM4719.0p4\"],[\"PREmdivi1 25uM4837.0p9\"],[\"PREmdivi1 25uM4717.0p7\"],[\"PREmdivi1 25uM4719.0p4\"],[\"PREmdivi1 25uM4837.0p9\"],[\"PREmdivi1 25uM4689.0p6\"],[\"PREmdivi1 25uM4717.0p7\"],[\"PREmdivi1 25uM4719.0p5\"],[\"PREmdivi1 25uM4689.0p6\"],[\"PREmdivi1 25uM4719.0p5\"],[\"PREmdivi1 25uM4717.0p7\"],[\"PREmdivi1 25uM4837.0p9\"],[\"PREmdivi1 25uM4717.0p7\"],[\"PREmdivi1 25uM4719.0p5\"],[\"PREmdivi1 25uM4719.0p4\"]],\"hovertemplate\":\"group=%{x}<br>vat1_area=%{y}<br>group_with_p=%{customdata[0]}<extra></extra>\",\"legendgroup\":\"PREmdivi1 25uM\",\"marker\":{\"color\":\"#EF553B\"},\"name\":\"PREmdivi1 25uM\",\"notched\":true,\"offsetgroup\":\"PREmdivi1 25uM\",\"orientation\":\"v\",\"showlegend\":true,\"x\":[\"PREmdivi1 25uM\",\"PREmdivi1 25uM\",\"PREmdivi1 25uM\",\"PREmdivi1 25uM\",\"PREmdivi1 25uM\",\"PREmdivi1 25uM\",\"PREmdivi1 25uM\",\"PREmdivi1 25uM\",\"PREmdivi1 25uM\",\"PREmdivi1 25uM\",\"PREmdivi1 25uM\",\"PREmdivi1 25uM\",\"PREmdivi1 25uM\",\"PREmdivi1 25uM\",\"PREmdivi1 25uM\",\"PREmdivi1 25uM\",\"PREmdivi1 25uM\",\"PREmdivi1 25uM\",\"PREmdivi1 25uM\",\"PREmdivi1 25uM\",\"PREmdivi1 25uM\",\"PREmdivi1 25uM\",\"PREmdivi1 25uM\",\"PREmdivi1 25uM\",\"PREmdivi1 25uM\",\"PREmdivi1 25uM\",\"PREmdivi1 25uM\"],\"x0\":\" \",\"xaxis\":\"x\",\"y\":[5.323369764846792,5.230268761510093,5.227855812179544,5.362631597795448,4.913410775009171,5.602488879513949,5.534854918129149,5.3706688609406985,5.065974970464684,5.050340099237588,5.59876589591196,5.520862317901033,5.190209958873259,5.447048114600551,5.590776418299414,5.0956428253985955,5.620313911422242,4.922102520995709,5.46131536078997,5.709679790429279,4.918005643636289,5.773563005270241,5.289293142647411,5.430229536872537,5.354444399295647,5.401317875143633,4.901873072056902],\"y0\":\" \",\"yaxis\":\"y\",\"type\":\"box\",\"quartilemethod\":\"inclusive\"},{\"alignmentgroup\":\"True\",\"boxpoints\":\"all\",\"customdata\":[[\"SDMSO4476.0p10\"],[\"SDMSO4709.0p9\"],[\"SDMSO4709.0p9\"],[\"SDMSO4687.0p7\"],[\"SDMSO4807.0p8\"],[\"SDMSO4687.0p7\"],[\"SDMSO4687.0p7\"],[\"SDMSO305.0p6\"],[\"SDMSO4807.0p8\"],[\"SDMSO2165.0p10\"],[\"SDMSO4709.0p9\"],[\"SDMSO305.0p6\"],[\"SDMSO4287.0p5\"],[\"SDMSO4709.0p9\"],[\"SDMSO305.0p6\"],[\"SDMSO4476.0p10\"],[\"SDMSO4687.0p7\"],[\"SDMSO305.0p6\"],[\"SDMSO305.0p6\"],[\"SDMSO2165.0p10\"],[\"SDMSO305.0p6\"],[\"SDMSO4687.0p7\"],[\"SDMSO4807.0p8\"],[\"SDMSO2165.0p10\"],[\"SDMSO4687.0p7\"],[\"SDMSO4476.0p10\"],[\"SDMSO4709.0p9\"],[\"SDMSO4709.0p9\"]],\"hovertemplate\":\"group=%{x}<br>vat1_area=%{y}<br>group_with_p=%{customdata[0]}<extra></extra>\",\"legendgroup\":\"SDMSO\",\"marker\":{\"color\":\"#00cc96\"},\"name\":\"SDMSO\",\"notched\":true,\"offsetgroup\":\"SDMSO\",\"orientation\":\"v\",\"showlegend\":true,\"x\":[\"SDMSO\",\"SDMSO\",\"SDMSO\",\"SDMSO\",\"SDMSO\",\"SDMSO\",\"SDMSO\",\"SDMSO\",\"SDMSO\",\"SDMSO\",\"SDMSO\",\"SDMSO\",\"SDMSO\",\"SDMSO\",\"SDMSO\",\"SDMSO\",\"SDMSO\",\"SDMSO\",\"SDMSO\",\"SDMSO\",\"SDMSO\",\"SDMSO\",\"SDMSO\",\"SDMSO\",\"SDMSO\",\"SDMSO\",\"SDMSO\",\"SDMSO\"],\"x0\":\" \",\"xaxis\":\"x\",\"y\":[5.378212697954532,5.167849896019569,5.206781854285073,5.302166569472109,5.448719605388837,4.908166214102785,4.910348384497145,4.788930851451579,5.12863823423558,5.327741663214986,5.254764560717896,4.740771944656246,5.453056444086833,5.142232433725652,4.848806130553279,5.580855797152136,5.032074772223499,4.9848555952927205,4.887345883851752,5.254950509307713,4.955762570381159,5.145962315403393,5.44425873554368,5.266971729739059,5.511746330035027,5.377402139219079,5.316855590637004,5.1623966698084125],\"y0\":\" \",\"yaxis\":\"y\",\"type\":\"box\",\"quartilemethod\":\"inclusive\"},{\"alignmentgroup\":\"True\",\"boxpoints\":\"all\",\"customdata\":[[\"Smdivi1 25uM305.0p6\"],[\"Smdivi1 25uM4476.0p10\"],[\"Smdivi1 25uM305.0p6\"],[\"Smdivi1 25uM4476.0p10\"],[\"Smdivi1 25uM2165.0p10\"],[\"Smdivi1 25uM4287.0p5\"],[\"Smdivi1 25uM4709.0p9\"],[\"Smdivi1 25uM4287.0p5\"],[\"Smdivi1 25uM4709.0p9\"],[\"Smdivi1 25uM2165.0p10\"],[\"Smdivi1 25uM4287.0p5\"],[\"Smdivi1 25uM4287.0p5\"],[\"Smdivi1 25uM4687.0p7\"],[\"Smdivi1 25uM4709.0p9\"],[\"Smdivi1 25uM2165.0p10\"],[\"Smdivi1 25uM305.0p6\"],[\"Smdivi1 25uM305.0p6\"],[\"Smdivi1 25uM4687.0p7\"],[\"Smdivi1 25uM4287.0p5\"],[\"Smdivi1 25uM4687.0p7\"],[\"Smdivi1 25uM305.0p6\"],[\"Smdivi1 25uM4687.0p7\"],[\"Smdivi1 25uM2165.0p10\"],[\"Smdivi1 25uM4476.0p10\"],[\"Smdivi1 25uM4476.0p10\"],[\"Smdivi1 25uM2165.0p10\"],[\"Smdivi1 25uM4687.0p7\"],[\"Smdivi1 25uM4709.0p9\"],[\"Smdivi1 25uM4687.0p7\"],[\"Smdivi1 25uM4807.0p8\"],[\"Smdivi1 25uM4476.0p10\"],[\"Smdivi1 25uM4807.0p8\"],[\"Smdivi1 25uM4709.0p9\"],[\"Smdivi1 25uM4709.0p9\"],[\"Smdivi1 25uM305.0p6\"],[\"Smdivi1 25uM4476.0p10\"],[\"Smdivi1 25uM2165.0p10\"]],\"hovertemplate\":\"group=%{x}<br>vat1_area=%{y}<br>group_with_p=%{customdata[0]}<extra></extra>\",\"legendgroup\":\"Smdivi1 25uM\",\"marker\":{\"color\":\"#ab63fa\"},\"name\":\"Smdivi1 25uM\",\"notched\":true,\"offsetgroup\":\"Smdivi1 25uM\",\"orientation\":\"v\",\"showlegend\":true,\"x\":[\"Smdivi1 25uM\",\"Smdivi1 25uM\",\"Smdivi1 25uM\",\"Smdivi1 25uM\",\"Smdivi1 25uM\",\"Smdivi1 25uM\",\"Smdivi1 25uM\",\"Smdivi1 25uM\",\"Smdivi1 25uM\",\"Smdivi1 25uM\",\"Smdivi1 25uM\",\"Smdivi1 25uM\",\"Smdivi1 25uM\",\"Smdivi1 25uM\",\"Smdivi1 25uM\",\"Smdivi1 25uM\",\"Smdivi1 25uM\",\"Smdivi1 25uM\",\"Smdivi1 25uM\",\"Smdivi1 25uM\",\"Smdivi1 25uM\",\"Smdivi1 25uM\",\"Smdivi1 25uM\",\"Smdivi1 25uM\",\"Smdivi1 25uM\",\"Smdivi1 25uM\",\"Smdivi1 25uM\",\"Smdivi1 25uM\",\"Smdivi1 25uM\",\"Smdivi1 25uM\",\"Smdivi1 25uM\",\"Smdivi1 25uM\",\"Smdivi1 25uM\",\"Smdivi1 25uM\",\"Smdivi1 25uM\",\"Smdivi1 25uM\",\"Smdivi1 25uM\"],\"x0\":\" \",\"xaxis\":\"x\",\"y\":[4.933643436723712,5.8301634903109205,5.051501941065975,6.13437442436557,5.801952448741909,6.240734221934395,5.363537650143698,6.233158013115206,5.501180945229227,5.5580280870104035,6.061359782562414,5.969755236244311,5.731280105466239,5.534030001369724,5.6376169693533935,4.722352293932468,4.986877236269011,5.155632937333302,6.109300934978888,5.919600964093781,5.288475184044275,4.932900312415792,5.580139445099725,6.202761549984714,5.73052138160137,5.665637268450458,5.539590471362439,5.383728392187872,5.170299404076152,6.305924369549765,5.996035896859065,5.957496828577805,5.369350509291357,5.553975851200779,4.760933298903274,5.600447438529065,5.667536055733792],\"y0\":\" \",\"yaxis\":\"y\",\"type\":\"box\",\"quartilemethod\":\"inclusive\"},{\"alignmentgroup\":\"True\",\"boxpoints\":\"all\",\"customdata\":[[\"HCDMSO143.0p7\"],[\"HCDMSO1653.0p8\"],[\"HCDMSO1653.0p4\"],[\"HCDMSO730.0p9\"],[\"HCDMSO1653.0p5\"],[\"HCDMSO730.0p9\"],[\"HCDMSO1653.0p7\"],[\"HCDMSO1650.0p8\"],[\"HCDMSO1653.0p8\"],[\"HCDMSO1653.0p4\"],[\"HCDMSO730.0p8\"],[\"HCDMSO730.0p9\"],[\"HCDMSO1653.0p8\"],[\"HCDMSO1653.0p7\"],[\"HCDMSO1016.0p10\"],[\"HCDMSO730.0p9\"],[\"HCDMSO143.0p7\"],[\"HCDMSO1650.0p8\"],[\"HCDMSO1650.0p6\"],[\"HCDMSO1650.0p5\"],[\"HCDMSO1016.0p10\"],[\"HCDMSO1653.0p4\"],[\"HCDMSO1650.0p5\"],[\"HCDMSO1650.0p8\"],[\"HCDMSO730.0p8\"],[\"HCDMSO730.0p9\"],[\"HCDMSO1653.0p4\"],[\"HCDMSO1016.0p10\"],[\"HCDMSO1653.0p4\"],[\"HCDMSO1016.0p10\"],[\"HCDMSO730.0p8\"],[\"HCDMSO143.0p7\"],[\"HCDMSO143.0p7\"],[\"HCDMSO730.0p9\"],[\"HCDMSO1653.0p5\"],[\"HCDMSO1653.0p5\"],[\"HCDMSO1650.0p8\"],[\"HCDMSO1650.0p5\"],[\"HCDMSO730.0p8\"],[\"HCDMSO1016.0p10\"],[\"HCDMSO495.0p7\"],[\"HCDMSO1650.0p8\"],[\"HCDMSO1650.0p5\"],[\"HCDMSO1653.0p7\"],[\"HCDMSO1650.0p6\"],[\"HCDMSO143.0p7\"],[\"HCDMSO1653.0p7\"],[\"HCDMSO1016.0p10\"],[\"HCDMSO1653.0p7\"],[\"HCDMSO1650.0p6\"],[\"HCDMSO1653.0p8\"],[\"HCDMSO1650.0p8\"],[\"HCDMSO1653.0p5\"],[\"HCDMSO1653.0p8\"],[\"HCDMSO1653.0p5\"],[\"HCDMSO730.0p8\"],[\"HCDMSO1653.0p7\"],[\"HCDMSO1653.0p8\"],[\"HCDMSO1653.0p5\"],[\"HCDMSO1650.0p6\"]],\"hovertemplate\":\"group=%{x}<br>vat1_area=%{y}<br>group_with_p=%{customdata[0]}<extra></extra>\",\"legendgroup\":\"HCDMSO\",\"marker\":{\"color\":\"#FFA15A\"},\"name\":\"HCDMSO\",\"notched\":true,\"offsetgroup\":\"HCDMSO\",\"orientation\":\"v\",\"showlegend\":true,\"x\":[\"HCDMSO\",\"HCDMSO\",\"HCDMSO\",\"HCDMSO\",\"HCDMSO\",\"HCDMSO\",\"HCDMSO\",\"HCDMSO\",\"HCDMSO\",\"HCDMSO\",\"HCDMSO\",\"HCDMSO\",\"HCDMSO\",\"HCDMSO\",\"HCDMSO\",\"HCDMSO\",\"HCDMSO\",\"HCDMSO\",\"HCDMSO\",\"HCDMSO\",\"HCDMSO\",\"HCDMSO\",\"HCDMSO\",\"HCDMSO\",\"HCDMSO\",\"HCDMSO\",\"HCDMSO\",\"HCDMSO\",\"HCDMSO\",\"HCDMSO\",\"HCDMSO\",\"HCDMSO\",\"HCDMSO\",\"HCDMSO\",\"HCDMSO\",\"HCDMSO\",\"HCDMSO\",\"HCDMSO\",\"HCDMSO\",\"HCDMSO\",\"HCDMSO\",\"HCDMSO\",\"HCDMSO\",\"HCDMSO\",\"HCDMSO\",\"HCDMSO\",\"HCDMSO\",\"HCDMSO\",\"HCDMSO\",\"HCDMSO\",\"HCDMSO\",\"HCDMSO\",\"HCDMSO\",\"HCDMSO\",\"HCDMSO\",\"HCDMSO\",\"HCDMSO\",\"HCDMSO\",\"HCDMSO\",\"HCDMSO\"],\"x0\":\" \",\"xaxis\":\"x\",\"y\":[5.330666487818298,5.553144399939169,5.325288820386673,5.5031360840442405,5.298167231328309,5.638773078027053,5.748545378197952,5.231701767707972,5.507987370996905,5.506315441624548,5.5790097744150735,5.448343943369634,5.355810950369751,5.167487246838472,5.834011268616713,5.459115550839341,5.597642607241934,5.368740067805034,5.55569166026698,5.150940325001124,5.711284166821275,5.5109488441312875,5.701093368753028,5.672271915082835,5.471113241739941,5.433845938284494,5.2567207160540965,5.79584872609753,5.274509234147839,5.498325529043229,5.557113953303542,5.376487601786439,5.159918707691971,5.493857784259239,5.298397210625414,5.583036216620945,5.250550883616881,5.288258477082196,5.662994327333957,5.694126764018835,5.380956214523446,5.600004149755676,5.230265839443119,5.479292392037988,5.322949676934901,5.407040001334871,5.511040693228526,5.827257449797618,5.249423913515244,5.234395761100178,5.197275114991438,5.5562647496405155,5.239271323448785,5.456203623529368,5.230824159020614,5.436907822148266,5.60207147597666,5.343499765437398,5.394936473891915,5.388117741631335],\"y0\":\" \",\"yaxis\":\"y\",\"type\":\"box\",\"quartilemethod\":\"inclusive\"},{\"alignmentgroup\":\"True\",\"boxpoints\":\"all\",\"customdata\":[[\"Mmdivi1 25uM4819.0p4\"],[\"Mmdivi1 25uM4819.0p4\"],[\"Mmdivi1 25uM4212.0p9\"],[\"Mmdivi1 25uM4819.0p4\"],[\"Mmdivi1 25uM4887.0p7\"],[\"Mmdivi1 25uM4212.0p9\"],[\"Mmdivi1 25uM4887.0p7\"],[\"Mmdivi1 25uM4721.0p5\"],[\"Mmdivi1 25uM4799.0p8\"],[\"Mmdivi1 25uM4799.0p8\"],[\"Mmdivi1 25uM4721.0p5\"],[\"Mmdivi1 25uM4212.0p9\"],[\"Mmdivi1 25uM4819.0p4\"],[\"Mmdivi1 25uM4721.0p5\"],[\"Mmdivi1 25uM4887.0p7\"],[\"Mmdivi1 25uM4887.0p7\"],[\"Mmdivi1 25uM4799.0p8\"],[\"Mmdivi1 25uM4212.0p9\"],[\"Mmdivi1 25uM4715.0p6\"],[\"Mmdivi1 25uM4887.0p7\"],[\"Mmdivi1 25uM4819.0p4\"],[\"Mmdivi1 25uM4715.0p6\"],[\"Mmdivi1 25uM4721.0p5\"],[\"Mmdivi1 25uM4721.0p5\"],[\"Mmdivi1 25uM4721.0p5\"],[\"Mmdivi1 25uM4212.0p9\"],[\"Mmdivi1 25uM4819.0p4\"],[\"Mmdivi1 25uM4799.0p8\"],[\"Mmdivi1 25uM4799.0p8\"],[\"Mmdivi1 25uM4887.0p7\"],[\"Mmdivi1 25uM4799.0p8\"],[\"Mmdivi1 25uM4715.0p6\"],[\"Mmdivi1 25uM4212.0p9\"]],\"hovertemplate\":\"group=%{x}<br>vat1_area=%{y}<br>group_with_p=%{customdata[0]}<extra></extra>\",\"legendgroup\":\"Mmdivi1 25uM\",\"marker\":{\"color\":\"#19d3f3\"},\"name\":\"Mmdivi1 25uM\",\"notched\":true,\"offsetgroup\":\"Mmdivi1 25uM\",\"orientation\":\"v\",\"showlegend\":true,\"x\":[\"Mmdivi1 25uM\",\"Mmdivi1 25uM\",\"Mmdivi1 25uM\",\"Mmdivi1 25uM\",\"Mmdivi1 25uM\",\"Mmdivi1 25uM\",\"Mmdivi1 25uM\",\"Mmdivi1 25uM\",\"Mmdivi1 25uM\",\"Mmdivi1 25uM\",\"Mmdivi1 25uM\",\"Mmdivi1 25uM\",\"Mmdivi1 25uM\",\"Mmdivi1 25uM\",\"Mmdivi1 25uM\",\"Mmdivi1 25uM\",\"Mmdivi1 25uM\",\"Mmdivi1 25uM\",\"Mmdivi1 25uM\",\"Mmdivi1 25uM\",\"Mmdivi1 25uM\",\"Mmdivi1 25uM\",\"Mmdivi1 25uM\",\"Mmdivi1 25uM\",\"Mmdivi1 25uM\",\"Mmdivi1 25uM\",\"Mmdivi1 25uM\",\"Mmdivi1 25uM\",\"Mmdivi1 25uM\",\"Mmdivi1 25uM\",\"Mmdivi1 25uM\",\"Mmdivi1 25uM\",\"Mmdivi1 25uM\"],\"x0\":\" \",\"xaxis\":\"x\",\"y\":[5.952013962134998,5.695638977710092,5.100559865182394,5.8497133622948665,5.98941871094407,5.184126912747607,5.619203023264156,5.215199446046656,5.120437504855385,5.576911164553918,5.317726010316427,5.078662570531207,5.666071686535894,5.065205914656687,6.008175825720927,5.633684026340779,5.566906264731464,5.3089882208410435,5.074181571785575,5.94617916958298,6.034877120314191,4.881365899574458,4.9243744718572,5.105880763388718,5.080590414729856,5.24097103031531,5.93410075699124,5.308882530080574,5.721786558879596,5.705803403849139,5.437117237167497,5.042999306636204,5.4533680962431506],\"y0\":\" \",\"yaxis\":\"y\",\"type\":\"box\",\"quartilemethod\":\"inclusive\"},{\"alignmentgroup\":\"True\",\"boxpoints\":\"all\",\"customdata\":[[\"MDMSO4819.0p4\"],[\"MDMSO4799.0p8\"],[\"MDMSO4887.0p7\"],[\"MDMSO4212.0p9\"],[\"MDMSO4721.0p5\"],[\"MDMSO4887.0p7\"],[\"MDMSO4819.0p4\"],[\"MDMSO4721.0p5\"],[\"MDMSO4715.0p6\"],[\"MDMSO4799.0p8\"],[\"MDMSO4799.0p8\"],[\"MDMSO4799.0p8\"],[\"MDMSO4799.0p8\"],[\"MDMSO4212.0p9\"],[\"MDMSO4212.0p9\"],[\"MDMSO4721.0p5\"],[\"MDMSO4819.0p4\"],[\"MDMSO4715.0p6\"],[\"MDMSO4799.0p8\"],[\"MDMSO4212.0p9\"],[\"MDMSO4819.0p4\"],[\"MDMSO4715.0p6\"],[\"MDMSO4887.0p7\"],[\"MDMSO4212.0p9\"],[\"MDMSO4715.0p6\"],[\"MDMSO4212.0p9\"],[\"MDMSO4819.0p4\"],[\"MDMSO4715.0p6\"],[\"MDMSO4887.0p7\"],[\"MDMSO4715.0p6\"],[\"MDMSO4887.0p7\"]],\"hovertemplate\":\"group=%{x}<br>vat1_area=%{y}<br>group_with_p=%{customdata[0]}<extra></extra>\",\"legendgroup\":\"MDMSO\",\"marker\":{\"color\":\"#FF6692\"},\"name\":\"MDMSO\",\"notched\":true,\"offsetgroup\":\"MDMSO\",\"orientation\":\"v\",\"showlegend\":true,\"x\":[\"MDMSO\",\"MDMSO\",\"MDMSO\",\"MDMSO\",\"MDMSO\",\"MDMSO\",\"MDMSO\",\"MDMSO\",\"MDMSO\",\"MDMSO\",\"MDMSO\",\"MDMSO\",\"MDMSO\",\"MDMSO\",\"MDMSO\",\"MDMSO\",\"MDMSO\",\"MDMSO\",\"MDMSO\",\"MDMSO\",\"MDMSO\",\"MDMSO\",\"MDMSO\",\"MDMSO\",\"MDMSO\",\"MDMSO\",\"MDMSO\",\"MDMSO\",\"MDMSO\",\"MDMSO\",\"MDMSO\"],\"x0\":\" \",\"xaxis\":\"x\",\"y\":[5.5875117035798585,5.375689164094607,5.396023702362592,5.137535414842285,5.164214762847812,5.682453079295989,5.594396824655065,4.737521401178357,4.599790120976877,5.249691843040587,4.909330485071187,5.1828904469614905,5.150469204809168,5.135514972448556,5.058873003119013,4.853059095514281,5.687517258792634,4.713081608826917,5.216007026237097,4.935771384206406,5.497564657302009,4.509219309037976,5.4405549626447405,5.137014892350764,4.468083540662517,4.612778457895733,5.440603135674041,4.447875874213807,5.373052362141468,4.714888039294838,5.621572864759337],\"y0\":\" \",\"yaxis\":\"y\",\"type\":\"box\",\"quartilemethod\":\"inclusive\"}],                        {\"template\":{\"data\":{\"histogram2dcontour\":[{\"type\":\"histogram2dcontour\",\"colorbar\":{\"outlinewidth\":0,\"ticks\":\"\"},\"colorscale\":[[0.0,\"#0d0887\"],[0.1111111111111111,\"#46039f\"],[0.2222222222222222,\"#7201a8\"],[0.3333333333333333,\"#9c179e\"],[0.4444444444444444,\"#bd3786\"],[0.5555555555555556,\"#d8576b\"],[0.6666666666666666,\"#ed7953\"],[0.7777777777777778,\"#fb9f3a\"],[0.8888888888888888,\"#fdca26\"],[1.0,\"#f0f921\"]]}],\"choropleth\":[{\"type\":\"choropleth\",\"colorbar\":{\"outlinewidth\":0,\"ticks\":\"\"}}],\"histogram2d\":[{\"type\":\"histogram2d\",\"colorbar\":{\"outlinewidth\":0,\"ticks\":\"\"},\"colorscale\":[[0.0,\"#0d0887\"],[0.1111111111111111,\"#46039f\"],[0.2222222222222222,\"#7201a8\"],[0.3333333333333333,\"#9c179e\"],[0.4444444444444444,\"#bd3786\"],[0.5555555555555556,\"#d8576b\"],[0.6666666666666666,\"#ed7953\"],[0.7777777777777778,\"#fb9f3a\"],[0.8888888888888888,\"#fdca26\"],[1.0,\"#f0f921\"]]}],\"heatmap\":[{\"type\":\"heatmap\",\"colorbar\":{\"outlinewidth\":0,\"ticks\":\"\"},\"colorscale\":[[0.0,\"#0d0887\"],[0.1111111111111111,\"#46039f\"],[0.2222222222222222,\"#7201a8\"],[0.3333333333333333,\"#9c179e\"],[0.4444444444444444,\"#bd3786\"],[0.5555555555555556,\"#d8576b\"],[0.6666666666666666,\"#ed7953\"],[0.7777777777777778,\"#fb9f3a\"],[0.8888888888888888,\"#fdca26\"],[1.0,\"#f0f921\"]]}],\"heatmapgl\":[{\"type\":\"heatmapgl\",\"colorbar\":{\"outlinewidth\":0,\"ticks\":\"\"},\"colorscale\":[[0.0,\"#0d0887\"],[0.1111111111111111,\"#46039f\"],[0.2222222222222222,\"#7201a8\"],[0.3333333333333333,\"#9c179e\"],[0.4444444444444444,\"#bd3786\"],[0.5555555555555556,\"#d8576b\"],[0.6666666666666666,\"#ed7953\"],[0.7777777777777778,\"#fb9f3a\"],[0.8888888888888888,\"#fdca26\"],[1.0,\"#f0f921\"]]}],\"contourcarpet\":[{\"type\":\"contourcarpet\",\"colorbar\":{\"outlinewidth\":0,\"ticks\":\"\"}}],\"contour\":[{\"type\":\"contour\",\"colorbar\":{\"outlinewidth\":0,\"ticks\":\"\"},\"colorscale\":[[0.0,\"#0d0887\"],[0.1111111111111111,\"#46039f\"],[0.2222222222222222,\"#7201a8\"],[0.3333333333333333,\"#9c179e\"],[0.4444444444444444,\"#bd3786\"],[0.5555555555555556,\"#d8576b\"],[0.6666666666666666,\"#ed7953\"],[0.7777777777777778,\"#fb9f3a\"],[0.8888888888888888,\"#fdca26\"],[1.0,\"#f0f921\"]]}],\"surface\":[{\"type\":\"surface\",\"colorbar\":{\"outlinewidth\":0,\"ticks\":\"\"},\"colorscale\":[[0.0,\"#0d0887\"],[0.1111111111111111,\"#46039f\"],[0.2222222222222222,\"#7201a8\"],[0.3333333333333333,\"#9c179e\"],[0.4444444444444444,\"#bd3786\"],[0.5555555555555556,\"#d8576b\"],[0.6666666666666666,\"#ed7953\"],[0.7777777777777778,\"#fb9f3a\"],[0.8888888888888888,\"#fdca26\"],[1.0,\"#f0f921\"]]}],\"mesh3d\":[{\"type\":\"mesh3d\",\"colorbar\":{\"outlinewidth\":0,\"ticks\":\"\"}}],\"scatter\":[{\"fillpattern\":{\"fillmode\":\"overlay\",\"size\":10,\"solidity\":0.2},\"type\":\"scatter\"}],\"parcoords\":[{\"type\":\"parcoords\",\"line\":{\"colorbar\":{\"outlinewidth\":0,\"ticks\":\"\"}}}],\"scatterpolargl\":[{\"type\":\"scatterpolargl\",\"marker\":{\"colorbar\":{\"outlinewidth\":0,\"ticks\":\"\"}}}],\"bar\":[{\"error_x\":{\"color\":\"#2a3f5f\"},\"error_y\":{\"color\":\"#2a3f5f\"},\"marker\":{\"line\":{\"color\":\"#E5ECF6\",\"width\":0.5},\"pattern\":{\"fillmode\":\"overlay\",\"size\":10,\"solidity\":0.2}},\"type\":\"bar\"}],\"scattergeo\":[{\"type\":\"scattergeo\",\"marker\":{\"colorbar\":{\"outlinewidth\":0,\"ticks\":\"\"}}}],\"scatterpolar\":[{\"type\":\"scatterpolar\",\"marker\":{\"colorbar\":{\"outlinewidth\":0,\"ticks\":\"\"}}}],\"histogram\":[{\"marker\":{\"pattern\":{\"fillmode\":\"overlay\",\"size\":10,\"solidity\":0.2}},\"type\":\"histogram\"}],\"scattergl\":[{\"type\":\"scattergl\",\"marker\":{\"colorbar\":{\"outlinewidth\":0,\"ticks\":\"\"}}}],\"scatter3d\":[{\"type\":\"scatter3d\",\"line\":{\"colorbar\":{\"outlinewidth\":0,\"ticks\":\"\"}},\"marker\":{\"colorbar\":{\"outlinewidth\":0,\"ticks\":\"\"}}}],\"scattermapbox\":[{\"type\":\"scattermapbox\",\"marker\":{\"colorbar\":{\"outlinewidth\":0,\"ticks\":\"\"}}}],\"scatterternary\":[{\"type\":\"scatterternary\",\"marker\":{\"colorbar\":{\"outlinewidth\":0,\"ticks\":\"\"}}}],\"scattercarpet\":[{\"type\":\"scattercarpet\",\"marker\":{\"colorbar\":{\"outlinewidth\":0,\"ticks\":\"\"}}}],\"carpet\":[{\"aaxis\":{\"endlinecolor\":\"#2a3f5f\",\"gridcolor\":\"white\",\"linecolor\":\"white\",\"minorgridcolor\":\"white\",\"startlinecolor\":\"#2a3f5f\"},\"baxis\":{\"endlinecolor\":\"#2a3f5f\",\"gridcolor\":\"white\",\"linecolor\":\"white\",\"minorgridcolor\":\"white\",\"startlinecolor\":\"#2a3f5f\"},\"type\":\"carpet\"}],\"table\":[{\"cells\":{\"fill\":{\"color\":\"#EBF0F8\"},\"line\":{\"color\":\"white\"}},\"header\":{\"fill\":{\"color\":\"#C8D4E3\"},\"line\":{\"color\":\"white\"}},\"type\":\"table\"}],\"barpolar\":[{\"marker\":{\"line\":{\"color\":\"#E5ECF6\",\"width\":0.5},\"pattern\":{\"fillmode\":\"overlay\",\"size\":10,\"solidity\":0.2}},\"type\":\"barpolar\"}],\"pie\":[{\"automargin\":true,\"type\":\"pie\"}]},\"layout\":{\"autotypenumbers\":\"strict\",\"colorway\":[\"#636efa\",\"#EF553B\",\"#00cc96\",\"#ab63fa\",\"#FFA15A\",\"#19d3f3\",\"#FF6692\",\"#B6E880\",\"#FF97FF\",\"#FECB52\"],\"font\":{\"color\":\"#2a3f5f\"},\"hovermode\":\"closest\",\"hoverlabel\":{\"align\":\"left\"},\"paper_bgcolor\":\"white\",\"plot_bgcolor\":\"#E5ECF6\",\"polar\":{\"bgcolor\":\"#E5ECF6\",\"angularaxis\":{\"gridcolor\":\"white\",\"linecolor\":\"white\",\"ticks\":\"\"},\"radialaxis\":{\"gridcolor\":\"white\",\"linecolor\":\"white\",\"ticks\":\"\"}},\"ternary\":{\"bgcolor\":\"#E5ECF6\",\"aaxis\":{\"gridcolor\":\"white\",\"linecolor\":\"white\",\"ticks\":\"\"},\"baxis\":{\"gridcolor\":\"white\",\"linecolor\":\"white\",\"ticks\":\"\"},\"caxis\":{\"gridcolor\":\"white\",\"linecolor\":\"white\",\"ticks\":\"\"}},\"coloraxis\":{\"colorbar\":{\"outlinewidth\":0,\"ticks\":\"\"}},\"colorscale\":{\"sequential\":[[0.0,\"#0d0887\"],[0.1111111111111111,\"#46039f\"],[0.2222222222222222,\"#7201a8\"],[0.3333333333333333,\"#9c179e\"],[0.4444444444444444,\"#bd3786\"],[0.5555555555555556,\"#d8576b\"],[0.6666666666666666,\"#ed7953\"],[0.7777777777777778,\"#fb9f3a\"],[0.8888888888888888,\"#fdca26\"],[1.0,\"#f0f921\"]],\"sequentialminus\":[[0.0,\"#0d0887\"],[0.1111111111111111,\"#46039f\"],[0.2222222222222222,\"#7201a8\"],[0.3333333333333333,\"#9c179e\"],[0.4444444444444444,\"#bd3786\"],[0.5555555555555556,\"#d8576b\"],[0.6666666666666666,\"#ed7953\"],[0.7777777777777778,\"#fb9f3a\"],[0.8888888888888888,\"#fdca26\"],[1.0,\"#f0f921\"]],\"diverging\":[[0,\"#8e0152\"],[0.1,\"#c51b7d\"],[0.2,\"#de77ae\"],[0.3,\"#f1b6da\"],[0.4,\"#fde0ef\"],[0.5,\"#f7f7f7\"],[0.6,\"#e6f5d0\"],[0.7,\"#b8e186\"],[0.8,\"#7fbc41\"],[0.9,\"#4d9221\"],[1,\"#276419\"]]},\"xaxis\":{\"gridcolor\":\"white\",\"linecolor\":\"white\",\"ticks\":\"\",\"title\":{\"standoff\":15},\"zerolinecolor\":\"white\",\"automargin\":true,\"zerolinewidth\":2},\"yaxis\":{\"gridcolor\":\"white\",\"linecolor\":\"white\",\"ticks\":\"\",\"title\":{\"standoff\":15},\"zerolinecolor\":\"white\",\"automargin\":true,\"zerolinewidth\":2},\"scene\":{\"xaxis\":{\"backgroundcolor\":\"#E5ECF6\",\"gridcolor\":\"white\",\"linecolor\":\"white\",\"showbackground\":true,\"ticks\":\"\",\"zerolinecolor\":\"white\",\"gridwidth\":2},\"yaxis\":{\"backgroundcolor\":\"#E5ECF6\",\"gridcolor\":\"white\",\"linecolor\":\"white\",\"showbackground\":true,\"ticks\":\"\",\"zerolinecolor\":\"white\",\"gridwidth\":2},\"zaxis\":{\"backgroundcolor\":\"#E5ECF6\",\"gridcolor\":\"white\",\"linecolor\":\"white\",\"showbackground\":true,\"ticks\":\"\",\"zerolinecolor\":\"white\",\"gridwidth\":2}},\"shapedefaults\":{\"line\":{\"color\":\"#2a3f5f\"}},\"annotationdefaults\":{\"arrowcolor\":\"#2a3f5f\",\"arrowhead\":0,\"arrowwidth\":1},\"geo\":{\"bgcolor\":\"white\",\"landcolor\":\"#E5ECF6\",\"subunitcolor\":\"white\",\"showland\":true,\"showlakes\":true,\"lakecolor\":\"white\"},\"title\":{\"x\":0.05},\"mapbox\":{\"style\":\"light\"}}},\"xaxis\":{\"anchor\":\"y\",\"domain\":[0.0,1.0],\"title\":{\"text\":\"group\"},\"categoryorder\":\"array\",\"categoryarray\":[\"HCDMSO\",\"PREDMSO\",\"PREmdivi1 25uM\",\"MDMSO\",\"Mmdivi1 25uM\",\"SDMSO\",\"Smdivi1 25uM\"]},\"yaxis\":{\"anchor\":\"x\",\"domain\":[0.0,1.0],\"title\":{\"text\":\"vat1_area\"}},\"legend\":{\"title\":{\"text\":\"group\"},\"tracegroupgap\":0},\"margin\":{\"t\":60},\"boxmode\":\"overlay\",\"font\":{\"family\":\"Arial\",\"color\":\"Black\",\"size\":20}},                        {\"responsive\": true}                    ).then(function(){\n",
       "                            \n",
       "var gd = document.getElementById('9ffa59d1-a647-4a07-abed-4e54af4361b3');\n",
       "var x = new MutationObserver(function (mutations, observer) {{\n",
       "        var display = window.getComputedStyle(gd).display;\n",
       "        if (!display || display === 'none') {{\n",
       "            console.log([gd, 'removed!']);\n",
       "            Plotly.purge(gd);\n",
       "            observer.disconnect();\n",
       "        }}\n",
       "}});\n",
       "\n",
       "// Listen for the removal of the full notebook cells\n",
       "var notebookContainer = gd.closest('#notebook-container');\n",
       "if (notebookContainer) {{\n",
       "    x.observe(notebookContainer, {childList: true});\n",
       "}}\n",
       "\n",
       "// Listen for the clearing of the current output cell\n",
       "var outputEl = gd.closest('.output');\n",
       "if (outputEl) {{\n",
       "    x.observe(outputEl, {childList: true});\n",
       "}}\n",
       "\n",
       "                        })                };                });            </script>        </div>"
      ]
     },
     "metadata": {},
     "output_type": "display_data"
    }
   ],
   "source": [
    "### box plots all feat\n",
    "for col in df_stats.columns[3:]:\n",
    "    \n",
    "    fig = px.box(df_stats, x = \"group\", y = col, hover_data=[\"group_with_p\"],\n",
    "                 points=\"all\", color=\"group\",\n",
    "            notched=True)\n",
    "    fig.update_xaxes(categoryorder='array', categoryarray= ['HCDMSO', 'PREDMSO', 'PREmdivi1 25uM',\n",
    "                                                            'MDMSO', 'Mmdivi1 25uM', \n",
    "                                                           'SDMSO', 'Smdivi1 25uM'])\n",
    "    fig.update_traces(quartilemethod=\"inclusive\") # or \"inclusive\", or \"linear\" by default\n",
    "    fig.update_layout(\n",
    "    font_family=\"Arial\",\n",
    "    font_color=\"Black\",\n",
    "    font_size=20,\n",
    "    font=dict(\n",
    "        family=\"Arial\",\n",
    "        size=20,\n",
    "        color=\"Black\"\n",
    "    )\n",
    ")\n",
    "\n",
    "    fig.write_image(path + '//' + f\"{col}box_plot_image.pdf\", engine=\"kaleido\")\n",
    "    fig.show()"
   ]
  },
  {
   "cell_type": "code",
   "execution_count": null,
   "id": "54498d52",
   "metadata": {},
   "outputs": [],
   "source": [
    "#statistics"
   ]
  },
  {
   "cell_type": "code",
   "execution_count": 123,
   "id": "49872c5c",
   "metadata": {},
   "outputs": [],
   "source": [
    "#DEF GROUPS\n",
    "#hc\n",
    "HC = df_stats[(df_stats['group'] == 'HCDMSO')]\n",
    "HC_intensity_mean = HC[[\"vat1_intensity\"]]\n",
    "HC_area = HC[[\"vat1_area\"]]\n",
    "#ds\n",
    "#Sev\n",
    "S = df_stats[(df_stats['group'] == 'SDMSO')]\n",
    "S_intensity_mean = S[[\"vat1_intensity\"]]\n",
    "S_area = S[[\"vat1_area\"]]\n",
    "#Mild\n",
    "M = df_stats[(df_stats['group'] == 'MDMSO')]\n",
    "M_intensity_mean = M[[\"vat1_intensity\"]]\n",
    "M_area = M[[\"vat1_area\"]]\n",
    "#Pre\n",
    "P = df_stats[(df_stats['group'] == 'PREDMSO')]\n",
    "P_intensity_mean = P[[\"vat1_intensity\"]]\n",
    "P_area = P[[\"vat1_area\"]]\n",
    "#dsT\n",
    "#Sev\n",
    "ST = df_stats[(df_stats['group'] == 'Smdivi1 25uM')]\n",
    "ST_intensity_mean = ST[[\"vat1_intensity\"]]\n",
    "ST_area = ST[[\"vat1_area\"]]\n",
    "#Mild\n",
    "MT = df_stats[(df_stats['group'] == 'Mmdivi1 25uM')]\n",
    "MT_intensity_mean = MT[[\"vat1_intensity\"]]\n",
    "MT_area = MT[[\"vat1_area\"]]\n",
    "#Pre\n",
    "PT = df_stats[(df_stats['group'] == 'PREmdivi1 25uM')]\n",
    "PT_intensity_mean = PT[[\"vat1_intensity\"]]\n",
    "PT_area = PT[[\"vat1_area\"]]\n"
   ]
  },
  {
   "cell_type": "code",
   "execution_count": 124,
   "id": "db5540fe",
   "metadata": {},
   "outputs": [],
   "source": [
    "# hc vs ds \n",
    "one_list = [(S_intensity_mean), (HC_intensity_mean)]\n",
    "two_list = [(M_intensity_mean), (HC_intensity_mean)]\n",
    "three_list = [(P_intensity_mean), (HC_intensity_mean)]\n",
    "#ds vs dst \n",
    "one2_list = [(S_intensity_mean), (ST_intensity_mean)]\n",
    "two2_list = [(M_intensity_mean), (MT_intensity_mean)]\n",
    "three2_list = [(P_intensity_mean), (PT_intensity_mean)]\n",
    "#DS vs ds \n",
    "one3_list = [ (S_intensity_mean), (M_intensity_mean)]\n",
    "two3_list = [(S_intensity_mean), (P_intensity_mean)]\n",
    "three3_list = [(M_intensity_mean), (P_intensity_mean)]\n",
    "#general lists \n",
    "all_list = (one_list, two_list, three_list)\n",
    "sec_list = (one2_list, two2_list, three2_list)\n",
    "t_list = (one3_list, two3_list, three3_list)"
   ]
  },
  {
   "cell_type": "code",
   "execution_count": 126,
   "id": "3bf9bf12",
   "metadata": {},
   "outputs": [],
   "source": [
    "def t_function(list):\n",
    "    for item in list:\n",
    "        name = [i for i in globals() if globals()[i] is item][0]\n",
    "        item1 = list[0]\n",
    "        item2 = list[1]\n",
    "        twosample_results = scipy.stats.ttest_ind(item1, item2, equal_var=False, permutations=1000)\n",
    "        matrix_twosample = [\n",
    "        ['', 'Test Statistic', 'p-value'],\n",
    "        ['{}'.format(name), twosample_results[0], twosample_results[1]]\n",
    "    ]\n",
    "        twosample_table = FF.create_table(matrix_twosample, index=True)\n",
    "        cf.go_offline()\n",
    "        iplot(twosample_table, filename='{}twosample-table')"
   ]
  },
  {
   "cell_type": "code",
   "execution_count": null,
   "id": "75e6acf6",
   "metadata": {},
   "outputs": [],
   "source": [
    "for x in all_list:\n",
    "    t_function(x)\n",
    "    print('done')"
   ]
  },
  {
   "cell_type": "code",
   "execution_count": null,
   "id": "bf9ad316",
   "metadata": {},
   "outputs": [],
   "source": [
    "for x in sec_list:\n",
    "    t_function(x)\n",
    "    print('done')"
   ]
  },
  {
   "cell_type": "code",
   "execution_count": null,
   "id": "6c3b217f",
   "metadata": {},
   "outputs": [],
   "source": [
    "for x in t_list:\n",
    "    t_function(x)\n",
    "    print('done')"
   ]
  },
  {
   "cell_type": "code",
   "execution_count": null,
   "id": "ac7c2221",
   "metadata": {},
   "outputs": [],
   "source": [
    "######################"
   ]
  }
 ],
 "metadata": {
  "kernelspec": {
   "display_name": "Python 3 (ipykernel)",
   "language": "python",
   "name": "python3"
  },
  "language_info": {
   "codemirror_mode": {
    "name": "ipython",
    "version": 3
   },
   "file_extension": ".py",
   "mimetype": "text/x-python",
   "name": "python",
   "nbconvert_exporter": "python",
   "pygments_lexer": "ipython3",
   "version": "3.9.13"
  }
 },
 "nbformat": 4,
 "nbformat_minor": 5
}
