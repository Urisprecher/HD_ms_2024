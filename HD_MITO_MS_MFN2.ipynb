{
 "cells": [
  {
   "cell_type": "code",
   "execution_count": 1,
   "id": "0fb632cd",
   "metadata": {},
   "outputs": [
    {
     "data": {
      "text/html": [
       "        <script type=\"text/javascript\">\n",
       "        window.PlotlyConfig = {MathJaxConfig: 'local'};\n",
       "        if (window.MathJax && window.MathJax.Hub && window.MathJax.Hub.Config) {window.MathJax.Hub.Config({SVG: {font: \"STIX-Web\"}});}\n",
       "        if (typeof require !== 'undefined') {\n",
       "        require.undef(\"plotly\");\n",
       "        requirejs.config({\n",
       "            paths: {\n",
       "                'plotly': ['https://cdn.plot.ly/plotly-2.12.1.min']\n",
       "            }\n",
       "        });\n",
       "        require(['plotly'], function(Plotly) {\n",
       "            window._Plotly = Plotly;\n",
       "        });\n",
       "        }\n",
       "        </script>\n",
       "        "
      ]
     },
     "metadata": {},
     "output_type": "display_data"
    },
    {
     "data": {
      "text/html": [
       "        <script type=\"text/javascript\">\n",
       "        window.PlotlyConfig = {MathJaxConfig: 'local'};\n",
       "        if (window.MathJax && window.MathJax.Hub && window.MathJax.Hub.Config) {window.MathJax.Hub.Config({SVG: {font: \"STIX-Web\"}});}\n",
       "        if (typeof require !== 'undefined') {\n",
       "        require.undef(\"plotly\");\n",
       "        requirejs.config({\n",
       "            paths: {\n",
       "                'plotly': ['https://cdn.plot.ly/plotly-2.12.1.min']\n",
       "            }\n",
       "        });\n",
       "        require(['plotly'], function(Plotly) {\n",
       "            window._Plotly = Plotly;\n",
       "        });\n",
       "        }\n",
       "        </script>\n",
       "        "
      ]
     },
     "metadata": {},
     "output_type": "display_data"
    }
   ],
   "source": [
    "import numpy as np\n",
    "import pandas as pd\n",
    "import matplotlib.pyplot as plt\n",
    "%matplotlib inline\n",
    "import os\n",
    "import sys\n",
    "import glob\n",
    "import pandas as pd\n",
    "import numpy as np\n",
    "import seaborn as sns\n",
    "import os\n",
    "import sys\n",
    "import glob\n",
    "from sklearn import preprocessing\n",
    "import matplotlib.pyplot as plt\n",
    "from pandas.plotting import scatter_matrix \n",
    "%matplotlib inline\n",
    "from sklearn.decomposition import PCA\n",
    "from sklearn.preprocessing import StandardScaler\n",
    "from sklearn.discriminant_analysis import LinearDiscriminantAnalysis as LDA\n",
    "from sklearn.discriminant_analysis import QuadraticDiscriminantAnalysis as QDA\n",
    "from sklearn.manifold import TSNE\n",
    "from colour import Color\n",
    "from sklearn.covariance import EllipticEnvelope\n",
    "from itertools import combinations\n",
    "import pandas as pd\n",
    "import numpy as np\n",
    "import seaborn as sns\n",
    "import os\n",
    "import sys\n",
    "import glob\n",
    "from sklearn import preprocessing\n",
    "import matplotlib.pyplot as plt\n",
    "from pandas.plotting import scatter_matrix \n",
    "%matplotlib inline\n",
    "# from pptx import Presentation\n",
    "# from pptx.util import Inches\n",
    "from sklearn.decomposition import PCA\n",
    "from sklearn.preprocessing import StandardScaler\n",
    "from sklearn.discriminant_analysis import LinearDiscriminantAnalysis as LDA\n",
    "from sklearn.discriminant_analysis import QuadraticDiscriminantAnalysis as QDA\n",
    "from sklearn.manifold import TSNE\n",
    "from colour import Color\n",
    "from sklearn.covariance import EllipticEnvelope\n",
    "import sklearn.linear_model\n",
    "from sklearn.linear_model import LinearRegression\n",
    "from sklearn import svm\n",
    "from sklearn.datasets import make_moons, make_blobs\n",
    "from sklearn.covariance import EllipticEnvelope\n",
    "from sklearn.ensemble import IsolationForest\n",
    "from sklearn.neighbors import LocalOutlierFactor\n",
    "#from sklearn.linear_model import SGDOneClassSVM\n",
    "from sklearn.kernel_approximation import Nystroem\n",
    "from sklearn.pipeline import make_pipeline\n",
    "from sklearn import preprocessing\n",
    "import matplotlib.pyplot as plt\n",
    "from pandas.plotting import scatter_matrix \n",
    "from psynlig import plot_correlation_heatmap\n",
    "#import pingouin as pg\n",
    "from scipy.stats import pearsonr\n",
    "import plotly.express as px\n",
    "import plotly.graph_objs as go\n",
    "from plotly.tools import FigureFactory as FF\n",
    "import chart_studio as cs\n",
    "import numpy as np\n",
    "import pandas as pd\n",
    "import scipy\n",
    "import chart_studio.plotly as py\n",
    "from plotly.offline import iplot\n",
    "import pandas as pd\n",
    "import numpy as np  \n",
    "%matplotlib inline  \n",
    "from plotly import __version__ \n",
    "from plotly.offline import download_plotlyjs, init_notebook_mode, plot, iplot\n",
    "import cufflinks as cf\n",
    "init_notebook_mode(connected=True)\n",
    "cf.go_offline()\n",
    "import chart_studio.plotly as py\n",
    "from sklearn import preprocessing\n",
    "from pandas.plotting import scatter_matrix \n",
    "from psynlig import plot_correlation_heatmap\n",
    "#import pingouin as pg\n",
    "from scipy.stats import pearsonr\n",
    "import kaleido"
   ]
  },
  {
   "cell_type": "code",
   "execution_count": 2,
   "id": "d6d00fb4",
   "metadata": {},
   "outputs": [],
   "source": [
    "##functions"
   ]
  },
  {
   "cell_type": "code",
   "execution_count": 3,
   "id": "8d56f0eb",
   "metadata": {},
   "outputs": [],
   "source": [
    "def summarize_dataframe(df, group_col):\n",
    "    \"\"\"\n",
    "    This function takes a pandas DataFrame and a column to group by as inputs and returns\n",
    "    a summary DataFrame with statistical parameters for each group.\n",
    "    \"\"\"\n",
    "    # Group the DataFrame by the specified column\n",
    "    grouped_df = df.groupby(group_col)\n",
    "   \n",
    "    # Define a dictionary to hold the statistical parameters to compute for each column\n",
    "    agg_dict = {}\n",
    "   \n",
    "    # Loop over the columns in the DataFrame and add the statistical parameters to the agg_dict\n",
    "    for col in df.columns:\n",
    "        if col != group_col:\n",
    "            agg_dict[col] = [\n",
    "                ('count', 'count'),\n",
    "                ('mean', 'mean'),\n",
    "                ('std', 'std'),\n",
    "                ('min', 'min'),\n",
    "                ('25%', lambda x: np.quantile(x, 0.25)),\n",
    "                ('median', 'median'),\n",
    "                ('75%', lambda x: np.quantile(x, 0.75)),\n",
    "                ('max', 'max')\n",
    "                \n",
    "            ]\n",
    "   \n",
    "    # Compute the summary statistics for each group and column using the agg_dict\n",
    "    summary_df = grouped_df.agg(agg_dict)\n",
    "   \n",
    "    # Flatten the multi-index column names into a single level\n",
    "    summary_df.columns = [f'{col}_{stat}' for col, stat in summary_df.columns]\n",
    "   \n",
    "    # Rename the index column\n",
    "    summary_df.index.name = group_col\n",
    "   \n",
    "    # Return the summary DataFrame\n",
    "    return summary_df"
   ]
  },
  {
   "cell_type": "code",
   "execution_count": 4,
   "id": "221b5b43",
   "metadata": {},
   "outputs": [],
   "source": [
    "def add_plate_column(folder_path):\n",
    "    files = os.listdir(folder_path)\n",
    "    output_folder = os.path.join(folder_path, \"output\")\n",
    "    os.makedirs(output_folder, exist_ok=True)\n",
    "   \n",
    "    for i, file in enumerate(files):\n",
    "        if file.endswith(\".csv\"):\n",
    "            file_path = os.path.join(folder_path, file)\n",
    "            output_path = os.path.join(output_folder, file)\n",
    "           \n",
    "            df = pd.read_csv(file_path)\n",
    "            df.insert(0, \"plate\", f\"p{i+1}\")\n",
    "            df['Row'] = 'r' + df['Row'].astype(str)\n",
    "            df['Column'] = 'c' + df['Column'].astype(str)\n",
    "            df[\"pos\"] = df[\"Row\"].astype(str) + df[\"Column\"].astype(str)  + df[\"plate\"].astype(str) \n",
    "            df.to_csv(output_path, index=False)"
   ]
  },
  {
   "cell_type": "code",
   "execution_count": 89,
   "id": "f13d8d23",
   "metadata": {},
   "outputs": [],
   "source": [
    "def dist_check_if_hc(frame):\n",
    "    frame = frame.drop(columns=['Local Outlier Factor 30', 'Local Outlier Factor 30_outliers',\n",
    "       'Local Outlier Factor 10', 'Local Outlier Factor 10_outliers',\n",
    "       'Local Outlier Factor 8', 'Local Outlier Factor 8_outliers', 'group', 'group_p', 'Cell_id',\n",
    "       'group_with_id', 'group_with_p'])\n",
    "    print(\"frame_ready\")\n",
    "    for col in frame:\n",
    "            \n",
    "            plt.hist(frame[col])\n",
    "            plt.title(f\"Histogram of hc({col})\")\n",
    "            plt.xlabel(f\"hc({col})\")\n",
    "            plt.ylabel(\"Frequency\")\n",
    "            plt.show()\n",
    "            plt.savefig(path + '//' + f\"hist_hc{col}.pdf\", dpi = 600)\n",
    "            plt.close()\n",
    "            print(\"hist_done!\")\n",
    "            plt.figure()\n",
    "            scipy.stats.probplot(frame[col], dist=\"norm\", plot=plt)\n",
    "            plt.title(f\"Q-Q-{col}\")\n",
    "            plt.show\n",
    "            plt.savefig(path + '//' + f\"Q-Q_hc{col}.pdf\", dpi = 600)\n",
    "            plt.close()\n",
    "            print(\"qq_done:)\")\n",
    "            plt.figure()\n",
    "            sns.distplot(frame[col], kde = True, color ='red', bins = 30)\n",
    "            plt.title(f\"dist-{col}\")\n",
    "            plt.show\n",
    "            plt.savefig(path + '//' + f\"dist_hc{col}.pdf\", dpi = 600)\n",
    "            plt.close()\n",
    "            print(\"on it:)\")\n",
    "            print(\"done:)\")\n",
    "        "
   ]
  },
  {
   "cell_type": "code",
   "execution_count": 6,
   "id": "df2a5188",
   "metadata": {},
   "outputs": [],
   "source": [
    "def dist_check_if_max(frame):\n",
    "    \n",
    "    print(\"frame_ready\")\n",
    "    for col in frame:\n",
    "            #Nh_df_24 = Nh_df_24.drop(columns=[\"PC\", \"group_with_pc\", \"group\", \"group_with_id\"])\n",
    "            plt.hist(frame[col])\n",
    "            plt.title(f\"Histogram of max({col})\")\n",
    "            plt.xlabel(f\"max({col})\")\n",
    "            plt.ylabel(\"Frequency\")\n",
    "            plt.show()\n",
    "            plt.savefig(path + '//' + f\"hist_max{col}.pdf\", dpi = 600)\n",
    "            plt.close()\n",
    "            print(\"hist_done!\")\n",
    "            plt.figure()\n",
    "            scipy.stats.probplot(frame[col], dist=\"norm\", plot=plt)\n",
    "            plt.title(f\"Q-Q-{col}\")\n",
    "            plt.show\n",
    "            plt.savefig(path + '//' + f\"Q-Q_max{col}.pdf\", dpi = 600)\n",
    "            plt.close()\n",
    "            print(\"qq_done:)\")\n",
    "            plt.figure()\n",
    "            sns.distplot(frame[col], kde = True, color ='red', bins = 30)\n",
    "            plt.title(f\"dist-{col}\")\n",
    "            plt.show\n",
    "            plt.savefig(path + '//' + f\"dist_max{col}.pdf\", dpi = 600)\n",
    "            plt.close()\n",
    "            print(\"on it:)\")\n",
    "            print(\"done:)\")"
   ]
  },
  {
   "cell_type": "code",
   "execution_count": 7,
   "id": "d529670e",
   "metadata": {},
   "outputs": [],
   "source": [
    "def dist_check_if_log(frame):\n",
    "    \n",
    "    print(\"frame_ready\")\n",
    "    for col in frame:\n",
    "            #Nh_df_24 = Nh_df_24.drop(columns=[\"PC\", \"group_with_pc\", \"group\", \"group_with_id\"])\n",
    "            plt.hist(frame[col])\n",
    "            plt.title(f\"Histogram of log({col})\")\n",
    "            plt.xlabel(f\"log({col})\")\n",
    "            plt.ylabel(\"Frequency\")\n",
    "            plt.show()\n",
    "            plt.savefig(path + '//' + f\"hist_log{col}.pdf\", dpi = 600)\n",
    "            plt.close()\n",
    "            print(\"hist_done!\")\n",
    "            plt.figure()\n",
    "            scipy.stats.probplot(frame[col], dist=\"norm\", plot=plt)\n",
    "            plt.title(f\"Q-Q-{col}\")\n",
    "            plt.show\n",
    "            plt.savefig(path + '//' + f\"Q-Q_log{col}.pdf\", dpi = 600)\n",
    "            plt.close()\n",
    "            print(\"qq_done:)\")\n",
    "            plt.figure()\n",
    "            sns.distplot(frame[col], kde = True, color ='red', bins = 30)\n",
    "            plt.title(f\"dist-{col}\")\n",
    "            plt.show\n",
    "            plt.savefig(path + '//' + f\"dist_log{col}.pdf\", dpi = 600)\n",
    "            plt.close()\n",
    "            print(\"on it:)\")\n",
    "            print(\"done:)\")"
   ]
  },
  {
   "cell_type": "code",
   "execution_count": 9,
   "id": "4f870bee",
   "metadata": {},
   "outputs": [],
   "source": [
    "def dist_check_if_log_2(frame):\n",
    "    \n",
    "    print(\"frame_ready\")\n",
    "    for col in frame:\n",
    "            #Nh_df_24 = Nh_df_24.drop(columns=[\"PC\", \"group_with_pc\", \"group\", \"group_with_id\"])\n",
    "            plt.hist(frame[col])\n",
    "            plt.title(f\"Histogram of log+1({col})\")\n",
    "            plt.xlabel(f\"log+1({col})\")\n",
    "            plt.ylabel(\"Frequency\")\n",
    "            plt.show()\n",
    "            plt.savefig(path + '//' + f\"hist_log+1{col}.pdf\", dpi = 600)\n",
    "            plt.close()\n",
    "            print(\"hist_done!\")\n",
    "            plt.figure()\n",
    "            scipy.stats.probplot(frame[col], dist=\"norm\", plot=plt)\n",
    "            plt.title(f\"Q-Q-{col}\")\n",
    "            plt.show\n",
    "            plt.savefig(path + '//' + f\"Q-Q_log+1{col}.pdf\", dpi = 600)\n",
    "            plt.close()\n",
    "            print(\"qq_done:)\")\n",
    "            plt.figure()\n",
    "            sns.distplot(frame[col], kde = True, color ='red', bins = 30)\n",
    "            plt.title(f\"dist-{col}\")\n",
    "            plt.show\n",
    "            plt.savefig(path + '//' + f\"dist_log+1{col}.pdf\", dpi = 600)\n",
    "            plt.close()\n",
    "            print(\"on it:)\")\n",
    "            print(\"done:)\")"
   ]
  },
  {
   "cell_type": "code",
   "execution_count": 8,
   "id": "16f80c53",
   "metadata": {},
   "outputs": [],
   "source": [
    "### mfn2 \n",
    "add_plate_column('C:/Users/Uri8s/MFN2')"
   ]
  },
  {
   "cell_type": "code",
   "execution_count": 10,
   "id": "a66da6bd",
   "metadata": {},
   "outputs": [
    {
     "name": "stdout",
     "output_type": "stream",
     "text": [
      "Output folder created\n"
     ]
    }
   ],
   "source": [
    "## mfn2 res path\n",
    "path = ('MFN2_res') \n",
    "if not os.path.exists(path):\n",
    "    os.mkdir(path)\n",
    "    print('Output folder created')"
   ]
  },
  {
   "cell_type": "code",
   "execution_count": null,
   "id": "48af69f3",
   "metadata": {},
   "outputs": [],
   "source": [
    "#mfn2\n",
    "all_files = glob.glob('C:/Users/Uri8s/output_mfn2/*.csv')\n",
    "\n",
    "li = []\n",
    "\n",
    "for filename in all_files:\n",
    "    df = pd.read_csv(filename)\n",
    "\n",
    "    li.append(df)\n",
    "\n",
    "mfn2_df = pd.concat(li, axis=0, ignore_index=True)"
   ]
  },
  {
   "cell_type": "code",
   "execution_count": null,
   "id": "530b8277",
   "metadata": {},
   "outputs": [],
   "source": [
    "#index frame\n",
    "mfn2_df[\"group\"] = mfn2_df[\"Severity\"].astype(str) + mfn2_df[\"Compound\"].astype(str)\n",
    "mfn2_df.set_index([\"group\"], inplace = True,\n",
    "                            append = True, drop = False)\n",
    "mfn2_df[\"group_with_id\"] = mfn2_df[\"Severity\"].astype(str) + mfn2_df[\"Compound\"].astype(str) + mfn2_df[\"Cell ID\"].astype(str) \n",
    "mfn2_df.set_index([\"group_with_id\"], inplace = True,\n",
    "                            append = True, drop = False)\n",
    "mfn2_df[\"group_with_p\"] = mfn2_df[\"Severity\"].astype(str) + mfn2_df[\"Compound\"].astype(str) + mfn2_df[\"Cell ID\"].astype(str) + mfn2_df[\"plate\"].astype(str)\n",
    "mfn2_df.set_index([\"group_with_p\"], inplace = True,\n",
    "                            append = True, drop = False)\n",
    "mfn2_df[\"group_p\"] = mfn2_df[\"Severity\"].astype(str) + mfn2_df[\"Compound\"].astype(str) + mfn2_df[\"plate\"].astype(str)\n",
    "mfn2_df.set_index([\"group_p\"], inplace = True,\n",
    "                            append = True, drop = False)"
   ]
  },
  {
   "cell_type": "code",
   "execution_count": 14,
   "id": "5b7b0ba3",
   "metadata": {
    "scrolled": true
   },
   "outputs": [
    {
     "data": {
      "image/png": "[encoded data removed]",
      "text/plain": [
       "<Figure size 432x288 with 1 Axes>"
      ]
     },
     "metadata": {
      "needs_background": "light"
     },
     "output_type": "display_data"
    },
    {
     "name": "stdout",
     "output_type": "stream",
     "text": [
      "Total number of cell types 600\n"
     ]
    },
    {
     "data": {
      "image/png": "[encoded data removed]",
      "text/plain": [
       "<Figure size 432x288 with 1 Axes>"
      ]
     },
     "metadata": {
      "needs_background": "light"
     },
     "output_type": "display_data"
    },
    {
     "name": "stdout",
     "output_type": "stream",
     "text": [
      "Total number of cells 597\n"
     ]
    }
   ],
   "source": [
    "cell_types =  mfn2_df[\"group\"].values\n",
    "sns.histplot(cell_types)\n",
    "plt.show()\n",
    "print(f'Total number of cell types {len(cell_types)}')\n",
    "mfn2_df = mfn2_df.loc[cell_types != 'nannan']\n",
    "sns.histplot(mfn2_df[\"group\"].values)\n",
    "plt.show()\n",
    "print(f'Total number of cells {len(mfn2_df)}')"
   ]
  },
  {
   "cell_type": "code",
   "execution_count": 15,
   "id": "e9222353",
   "metadata": {},
   "outputs": [
    {
     "data": {
      "text/plain": [
       "HCDMSO            240\n",
       "Smdivi1 25uM       66\n",
       "SDMSO              66\n",
       "Mmdivi1 25uM       60\n",
       "MDMSO              60\n",
       "PREmdivi1 25uM     54\n",
       "PREDMSO            51\n",
       "Name: group, dtype: int64"
      ]
     },
     "execution_count": 15,
     "metadata": {},
     "output_type": "execute_result"
    }
   ],
   "source": [
    "mfn2_df[\"group\"].value_counts()"
   ]
  },
  {
   "cell_type": "code",
   "execution_count": 16,
   "id": "ec685b98",
   "metadata": {},
   "outputs": [
    {
     "data": {
      "text/plain": [
       "p1     60\n",
       "p3     60\n",
       "p5     60\n",
       "p6     60\n",
       "p7     60\n",
       "p8     60\n",
       "p9     60\n",
       "p10    60\n",
       "p4     59\n",
       "p2     58\n",
       "Name: plate, dtype: int64"
      ]
     },
     "execution_count": 16,
     "metadata": {},
     "output_type": "execute_result"
    }
   ],
   "source": [
    "mfn2_df[\"plate\"].value_counts()"
   ]
  },
  {
   "cell_type": "code",
   "execution_count": 17,
   "id": "b10ebc92",
   "metadata": {},
   "outputs": [
    {
     "data": {
      "image/png": "[encoded data removed]",
      "text/plain": [
       "<Figure size 432x288 with 1 Axes>"
      ]
     },
     "metadata": {
      "needs_background": "light"
     },
     "output_type": "display_data"
    },
    {
     "name": "stdout",
     "output_type": "stream",
     "text": [
      "Total number of cell types 597\n"
     ]
    },
    {
     "data": {
      "image/png": "[encoded data removed]",
      "text/plain": [
       "<Figure size 432x288 with 1 Axes>"
      ]
     },
     "metadata": {
      "needs_background": "light"
     },
     "output_type": "display_data"
    },
    {
     "name": "stdout",
     "output_type": "stream",
     "text": [
      "Total number of cells 537\n"
     ]
    }
   ],
   "source": [
    "plate_types =  mfn2_df[\"plate\"].values\n",
    "sns.histplot(plate_types)\n",
    "plt.show()\n",
    "print(f'Total number of cell types {len(plate_types)}')\n",
    "mfn2_df = mfn2_df.loc[plate_types != 'p1']\n",
    "sns.histplot(mfn2_df[\"plate\"].values)\n",
    "plt.show()\n",
    "print(f'Total number of cells {len(mfn2_df)}')"
   ]
  },
  {
   "cell_type": "code",
   "execution_count": 18,
   "id": "097c6c0e",
   "metadata": {
    "scrolled": true
   },
   "outputs": [
    {
     "data": {
      "image/png": "[encoded data removed]",
      "text/plain": [
       "<Figure size 432x288 with 1 Axes>"
      ]
     },
     "metadata": {
      "needs_background": "light"
     },
     "output_type": "display_data"
    },
    {
     "name": "stdout",
     "output_type": "stream",
     "text": [
      "Total number of cell types 537\n"
     ]
    },
    {
     "data": {
      "image/png": "[encoded data removed]",
      "text/plain": [
       "<Figure size 432x288 with 1 Axes>"
      ]
     },
     "metadata": {
      "needs_background": "light"
     },
     "output_type": "display_data"
    },
    {
     "name": "stdout",
     "output_type": "stream",
     "text": [
      "Total number of cells 479\n"
     ]
    }
   ],
   "source": [
    "plate_types =  mfn2_df[\"plate\"].values\n",
    "sns.histplot(plate_types)\n",
    "plt.show()\n",
    "print(f'Total number of cell types {len(plate_types)}')\n",
    "mfn2_df = mfn2_df.loc[plate_types != 'p2']\n",
    "sns.histplot(mfn2_df[\"plate\"].values)\n",
    "plt.show()\n",
    "print(f'Total number of cells {len(mfn2_df)}')"
   ]
  },
  {
   "cell_type": "code",
   "execution_count": 19,
   "id": "cc3e1636",
   "metadata": {},
   "outputs": [
    {
     "data": {
      "image/png": "[encoded data removed]",
      "text/plain": [
       "<Figure size 432x288 with 1 Axes>"
      ]
     },
     "metadata": {
      "needs_background": "light"
     },
     "output_type": "display_data"
    },
    {
     "name": "stdout",
     "output_type": "stream",
     "text": [
      "Total number of cell types 479\n"
     ]
    },
    {
     "data": {
      "image/png": "[encoded data removed]",
      "text/plain": [
       "<Figure size 432x288 with 1 Axes>"
      ]
     },
     "metadata": {
      "needs_background": "light"
     },
     "output_type": "display_data"
    },
    {
     "name": "stdout",
     "output_type": "stream",
     "text": [
      "Total number of cells 419\n"
     ]
    }
   ],
   "source": [
    "plate_types =  mfn2_df[\"plate\"].values\n",
    "sns.histplot(plate_types)\n",
    "plt.show()\n",
    "print(f'Total number of cell types {len(plate_types)}')\n",
    "mfn2_df = mfn2_df.loc[plate_types != 'p3']\n",
    "sns.histplot(mfn2_df[\"plate\"].values)\n",
    "plt.show()\n",
    "print(f'Total number of cells {len(mfn2_df)}')"
   ]
  },
  {
   "cell_type": "code",
   "execution_count": 20,
   "id": "59cab54c",
   "metadata": {
    "scrolled": true
   },
   "outputs": [
    {
     "data": {
      "text/plain": [
       "HCDMSO            168\n",
       "Smdivi1 25uM       48\n",
       "SDMSO              48\n",
       "Mmdivi1 25uM       42\n",
       "MDMSO              42\n",
       "PREmdivi1 25uM     36\n",
       "PREDMSO            35\n",
       "Name: group, dtype: int64"
      ]
     },
     "execution_count": 20,
     "metadata": {},
     "output_type": "execute_result"
    }
   ],
   "source": [
    "mfn2_df[\"group\"].value_counts()"
   ]
  },
  {
   "cell_type": "code",
   "execution_count": 114,
   "id": "0d5f205b",
   "metadata": {},
   "outputs": [
    {
     "data": {
      "text/html": [
       "<div>\n",
       "<style scoped>\n",
       "    .dataframe tbody tr th:only-of-type {\n",
       "        vertical-align: middle;\n",
       "    }\n",
       "\n",
       "    .dataframe tbody tr th {\n",
       "        vertical-align: top;\n",
       "    }\n",
       "\n",
       "    .dataframe thead th {\n",
       "        text-align: right;\n",
       "    }\n",
       "</style>\n",
       "<table border=\"1\" class=\"dataframe\">\n",
       "  <thead>\n",
       "    <tr style=\"text-align: right;\">\n",
       "      <th></th>\n",
       "      <th></th>\n",
       "      <th></th>\n",
       "      <th></th>\n",
       "      <th></th>\n",
       "      <th>plate</th>\n",
       "      <th>Row</th>\n",
       "      <th>Column</th>\n",
       "      <th>Plane</th>\n",
       "      <th>Timepoint</th>\n",
       "      <th>modified_spots_chanel_4 - Total Spot Area - Mean per Well</th>\n",
       "      <th>modified_spots_chanel_4 - Relative Spot Intensity - Mean per Well</th>\n",
       "      <th>modified_spots_chanel_4 - Number of Spots - Mean per Well</th>\n",
       "      <th>modified_spots_chanel_4 - Number of Spots per Area of modified_spots_chanel_4 - Mean per Well</th>\n",
       "      <th>modified_spots_chanel_3 - Total Spot Area - Mean per Well</th>\n",
       "      <th>...</th>\n",
       "      <th>Time [s]</th>\n",
       "      <th>Compound</th>\n",
       "      <th>Cell Type</th>\n",
       "      <th>Cell ID</th>\n",
       "      <th>Severity</th>\n",
       "      <th>pos</th>\n",
       "      <th>group</th>\n",
       "      <th>group_with_id</th>\n",
       "      <th>group_with_p</th>\n",
       "      <th>group_p</th>\n",
       "    </tr>\n",
       "    <tr>\n",
       "      <th></th>\n",
       "      <th>group</th>\n",
       "      <th>group_with_id</th>\n",
       "      <th>group_with_p</th>\n",
       "      <th>group_p</th>\n",
       "      <th></th>\n",
       "      <th></th>\n",
       "      <th></th>\n",
       "      <th></th>\n",
       "      <th></th>\n",
       "      <th></th>\n",
       "      <th></th>\n",
       "      <th></th>\n",
       "      <th></th>\n",
       "      <th></th>\n",
       "      <th></th>\n",
       "      <th></th>\n",
       "      <th></th>\n",
       "      <th></th>\n",
       "      <th></th>\n",
       "      <th></th>\n",
       "      <th></th>\n",
       "      <th></th>\n",
       "      <th></th>\n",
       "      <th></th>\n",
       "      <th></th>\n",
       "    </tr>\n",
       "  </thead>\n",
       "  <tbody>\n",
       "    <tr>\n",
       "      <th>180</th>\n",
       "      <th>PREmdivi1 25uM</th>\n",
       "      <th>PREmdivi1 25uM4719.0</th>\n",
       "      <th>PREmdivi1 25uM4719.0p4</th>\n",
       "      <th>PREmdivi1 25uMp4</th>\n",
       "      <td>p4</td>\n",
       "      <td>r2</td>\n",
       "      <td>c2</td>\n",
       "      <td>1</td>\n",
       "      <td>0</td>\n",
       "      <td>5.416028</td>\n",
       "      <td>0.510847</td>\n",
       "      <td>1.038530</td>\n",
       "      <td>0.180028</td>\n",
       "      <td>15.342139</td>\n",
       "      <td>...</td>\n",
       "      <td>0.0</td>\n",
       "      <td>mdivi1 25uM</td>\n",
       "      <td>HD</td>\n",
       "      <td>4719.0</td>\n",
       "      <td>PRE</td>\n",
       "      <td>r2c2p4</td>\n",
       "      <td>PREmdivi1 25uM</td>\n",
       "      <td>PREmdivi1 25uM4719.0</td>\n",
       "      <td>PREmdivi1 25uM4719.0p4</td>\n",
       "      <td>PREmdivi1 25uMp4</td>\n",
       "    </tr>\n",
       "    <tr>\n",
       "      <th>181</th>\n",
       "      <th>Mmdivi1 25uM</th>\n",
       "      <th>Mmdivi1 25uM4819.0</th>\n",
       "      <th>Mmdivi1 25uM4819.0p4</th>\n",
       "      <th>Mmdivi1 25uMp4</th>\n",
       "      <td>p4</td>\n",
       "      <td>r2</td>\n",
       "      <td>c3</td>\n",
       "      <td>1</td>\n",
       "      <td>0</td>\n",
       "      <td>5.934011</td>\n",
       "      <td>0.509235</td>\n",
       "      <td>1.082709</td>\n",
       "      <td>0.171991</td>\n",
       "      <td>13.358364</td>\n",
       "      <td>...</td>\n",
       "      <td>0.0</td>\n",
       "      <td>mdivi1 25uM</td>\n",
       "      <td>HD</td>\n",
       "      <td>4819.0</td>\n",
       "      <td>M</td>\n",
       "      <td>r2c3p4</td>\n",
       "      <td>Mmdivi1 25uM</td>\n",
       "      <td>Mmdivi1 25uM4819.0</td>\n",
       "      <td>Mmdivi1 25uM4819.0p4</td>\n",
       "      <td>Mmdivi1 25uMp4</td>\n",
       "    </tr>\n",
       "    <tr>\n",
       "      <th>182</th>\n",
       "      <th>Smdivi1 25uM</th>\n",
       "      <th>Smdivi1 25uM4200.0</th>\n",
       "      <th>Smdivi1 25uM4200.0p4</th>\n",
       "      <th>Smdivi1 25uMp4</th>\n",
       "      <td>p4</td>\n",
       "      <td>r2</td>\n",
       "      <td>c4</td>\n",
       "      <td>1</td>\n",
       "      <td>0</td>\n",
       "      <td>5.843381</td>\n",
       "      <td>0.513037</td>\n",
       "      <td>1.074222</td>\n",
       "      <td>0.173729</td>\n",
       "      <td>13.415049</td>\n",
       "      <td>...</td>\n",
       "      <td>0.0</td>\n",
       "      <td>mdivi1 25uM</td>\n",
       "      <td>HD</td>\n",
       "      <td>4200.0</td>\n",
       "      <td>S</td>\n",
       "      <td>r2c4p4</td>\n",
       "      <td>Smdivi1 25uM</td>\n",
       "      <td>Smdivi1 25uM4200.0</td>\n",
       "      <td>Smdivi1 25uM4200.0p4</td>\n",
       "      <td>Smdivi1 25uMp4</td>\n",
       "    </tr>\n",
       "    <tr>\n",
       "      <th>184</th>\n",
       "      <th>HCDMSO</th>\n",
       "      <th>HCDMSO1653.0</th>\n",
       "      <th>HCDMSO1653.0p4</th>\n",
       "      <th>HCDMSOp4</th>\n",
       "      <td>p4</td>\n",
       "      <td>r2</td>\n",
       "      <td>c6</td>\n",
       "      <td>1</td>\n",
       "      <td>0</td>\n",
       "      <td>6.471074</td>\n",
       "      <td>0.515612</td>\n",
       "      <td>1.108316</td>\n",
       "      <td>0.165546</td>\n",
       "      <td>14.067673</td>\n",
       "      <td>...</td>\n",
       "      <td>0.0</td>\n",
       "      <td>DMSO</td>\n",
       "      <td>HC</td>\n",
       "      <td>1653.0</td>\n",
       "      <td>HC</td>\n",
       "      <td>r2c6p4</td>\n",
       "      <td>HCDMSO</td>\n",
       "      <td>HCDMSO1653.0</td>\n",
       "      <td>HCDMSO1653.0p4</td>\n",
       "      <td>HCDMSOp4</td>\n",
       "    </tr>\n",
       "    <tr>\n",
       "      <th>185</th>\n",
       "      <th>HCDMSO</th>\n",
       "      <th>HCDMSO848.0</th>\n",
       "      <th>HCDMSO848.0p4</th>\n",
       "      <th>HCDMSOp4</th>\n",
       "      <td>p4</td>\n",
       "      <td>r2</td>\n",
       "      <td>c7</td>\n",
       "      <td>1</td>\n",
       "      <td>0</td>\n",
       "      <td>6.798287</td>\n",
       "      <td>0.519994</td>\n",
       "      <td>1.127246</td>\n",
       "      <td>0.161853</td>\n",
       "      <td>14.563273</td>\n",
       "      <td>...</td>\n",
       "      <td>0.0</td>\n",
       "      <td>DMSO</td>\n",
       "      <td>HC</td>\n",
       "      <td>848.0</td>\n",
       "      <td>HC</td>\n",
       "      <td>r2c7p4</td>\n",
       "      <td>HCDMSO</td>\n",
       "      <td>HCDMSO848.0</td>\n",
       "      <td>HCDMSO848.0p4</td>\n",
       "      <td>HCDMSOp4</td>\n",
       "    </tr>\n",
       "    <tr>\n",
       "      <th>...</th>\n",
       "      <th>...</th>\n",
       "      <th>...</th>\n",
       "      <th>...</th>\n",
       "      <th>...</th>\n",
       "      <td>...</td>\n",
       "      <td>...</td>\n",
       "      <td>...</td>\n",
       "      <td>...</td>\n",
       "      <td>...</td>\n",
       "      <td>...</td>\n",
       "      <td>...</td>\n",
       "      <td>...</td>\n",
       "      <td>...</td>\n",
       "      <td>...</td>\n",
       "      <td>...</td>\n",
       "      <td>...</td>\n",
       "      <td>...</td>\n",
       "      <td>...</td>\n",
       "      <td>...</td>\n",
       "      <td>...</td>\n",
       "      <td>...</td>\n",
       "      <td>...</td>\n",
       "      <td>...</td>\n",
       "      <td>...</td>\n",
       "      <td>...</td>\n",
       "    </tr>\n",
       "    <tr>\n",
       "      <th>592</th>\n",
       "      <th>SDMSO</th>\n",
       "      <th>SDMSO4476.0</th>\n",
       "      <th>SDMSO4476.0p10</th>\n",
       "      <th>SDMSOp10</th>\n",
       "      <td>p10</td>\n",
       "      <td>r7</td>\n",
       "      <td>c4</td>\n",
       "      <td>1</td>\n",
       "      <td>0</td>\n",
       "      <td>6.638008</td>\n",
       "      <td>0.523413</td>\n",
       "      <td>1.122344</td>\n",
       "      <td>0.164227</td>\n",
       "      <td>12.685509</td>\n",
       "      <td>...</td>\n",
       "      <td>0.0</td>\n",
       "      <td>DMSO</td>\n",
       "      <td>HD</td>\n",
       "      <td>4476.0</td>\n",
       "      <td>S</td>\n",
       "      <td>r7c4p10</td>\n",
       "      <td>SDMSO</td>\n",
       "      <td>SDMSO4476.0</td>\n",
       "      <td>SDMSO4476.0p10</td>\n",
       "      <td>SDMSOp10</td>\n",
       "    </tr>\n",
       "    <tr>\n",
       "      <th>596</th>\n",
       "      <th>HCDMSO</th>\n",
       "      <th>HCDMSO848.0</th>\n",
       "      <th>HCDMSO848.0p10</th>\n",
       "      <th>HCDMSOp10</th>\n",
       "      <td>p10</td>\n",
       "      <td>r7</td>\n",
       "      <td>c8</td>\n",
       "      <td>1</td>\n",
       "      <td>0</td>\n",
       "      <td>7.448643</td>\n",
       "      <td>0.520933</td>\n",
       "      <td>1.159241</td>\n",
       "      <td>0.155052</td>\n",
       "      <td>15.753524</td>\n",
       "      <td>...</td>\n",
       "      <td>0.0</td>\n",
       "      <td>DMSO</td>\n",
       "      <td>HC</td>\n",
       "      <td>848.0</td>\n",
       "      <td>HC</td>\n",
       "      <td>r7c8p10</td>\n",
       "      <td>HCDMSO</td>\n",
       "      <td>HCDMSO848.0</td>\n",
       "      <td>HCDMSO848.0p10</td>\n",
       "      <td>HCDMSOp10</td>\n",
       "    </tr>\n",
       "    <tr>\n",
       "      <th>597</th>\n",
       "      <th>SDMSO</th>\n",
       "      <th>SDMSO2165.0</th>\n",
       "      <th>SDMSO2165.0p10</th>\n",
       "      <th>SDMSOp10</th>\n",
       "      <td>p10</td>\n",
       "      <td>r7</td>\n",
       "      <td>c9</td>\n",
       "      <td>1</td>\n",
       "      <td>0</td>\n",
       "      <td>7.303365</td>\n",
       "      <td>0.520957</td>\n",
       "      <td>1.148826</td>\n",
       "      <td>0.156296</td>\n",
       "      <td>14.854338</td>\n",
       "      <td>...</td>\n",
       "      <td>0.0</td>\n",
       "      <td>DMSO</td>\n",
       "      <td>HD</td>\n",
       "      <td>2165.0</td>\n",
       "      <td>S</td>\n",
       "      <td>r7c9p10</td>\n",
       "      <td>SDMSO</td>\n",
       "      <td>SDMSO2165.0</td>\n",
       "      <td>SDMSO2165.0p10</td>\n",
       "      <td>SDMSOp10</td>\n",
       "    </tr>\n",
       "    <tr>\n",
       "      <th>598</th>\n",
       "      <th>MDMSO</th>\n",
       "      <th>MDMSO4196.0</th>\n",
       "      <th>MDMSO4196.0p10</th>\n",
       "      <th>MDMSOp10</th>\n",
       "      <td>p10</td>\n",
       "      <td>r7</td>\n",
       "      <td>c10</td>\n",
       "      <td>1</td>\n",
       "      <td>0</td>\n",
       "      <td>7.581694</td>\n",
       "      <td>0.522448</td>\n",
       "      <td>1.164081</td>\n",
       "      <td>0.154426</td>\n",
       "      <td>17.436726</td>\n",
       "      <td>...</td>\n",
       "      <td>0.0</td>\n",
       "      <td>DMSO</td>\n",
       "      <td>HD</td>\n",
       "      <td>4196.0</td>\n",
       "      <td>M</td>\n",
       "      <td>r7c10p10</td>\n",
       "      <td>MDMSO</td>\n",
       "      <td>MDMSO4196.0</td>\n",
       "      <td>MDMSO4196.0p10</td>\n",
       "      <td>MDMSOp10</td>\n",
       "    </tr>\n",
       "    <tr>\n",
       "      <th>599</th>\n",
       "      <th>SDMSO</th>\n",
       "      <th>SDMSO4476.0</th>\n",
       "      <th>SDMSO4476.0p10</th>\n",
       "      <th>SDMSOp10</th>\n",
       "      <td>p10</td>\n",
       "      <td>r7</td>\n",
       "      <td>c11</td>\n",
       "      <td>1</td>\n",
       "      <td>0</td>\n",
       "      <td>6.847857</td>\n",
       "      <td>0.516712</td>\n",
       "      <td>1.128201</td>\n",
       "      <td>0.160123</td>\n",
       "      <td>14.716535</td>\n",
       "      <td>...</td>\n",
       "      <td>0.0</td>\n",
       "      <td>DMSO</td>\n",
       "      <td>HD</td>\n",
       "      <td>4476.0</td>\n",
       "      <td>S</td>\n",
       "      <td>r7c11p10</td>\n",
       "      <td>SDMSO</td>\n",
       "      <td>SDMSO4476.0</td>\n",
       "      <td>SDMSO4476.0p10</td>\n",
       "      <td>SDMSOp10</td>\n",
       "    </tr>\n",
       "  </tbody>\n",
       "</table>\n",
       "<p>349 rows × 128 columns</p>\n",
       "</div>"
      ],
      "text/plain": [
       "                                                                                plate  \\\n",
       "    group          group_with_id        group_with_p           group_p                  \n",
       "180 PREmdivi1 25uM PREmdivi1 25uM4719.0 PREmdivi1 25uM4719.0p4 PREmdivi1 25uMp4    p4   \n",
       "181 Mmdivi1 25uM   Mmdivi1 25uM4819.0   Mmdivi1 25uM4819.0p4   Mmdivi1 25uMp4      p4   \n",
       "182 Smdivi1 25uM   Smdivi1 25uM4200.0   Smdivi1 25uM4200.0p4   Smdivi1 25uMp4      p4   \n",
       "184 HCDMSO         HCDMSO1653.0         HCDMSO1653.0p4         HCDMSOp4            p4   \n",
       "185 HCDMSO         HCDMSO848.0          HCDMSO848.0p4          HCDMSOp4            p4   \n",
       "...                                                                               ...   \n",
       "592 SDMSO          SDMSO4476.0          SDMSO4476.0p10         SDMSOp10           p10   \n",
       "596 HCDMSO         HCDMSO848.0          HCDMSO848.0p10         HCDMSOp10          p10   \n",
       "597 SDMSO          SDMSO2165.0          SDMSO2165.0p10         SDMSOp10           p10   \n",
       "598 MDMSO          MDMSO4196.0          MDMSO4196.0p10         MDMSOp10           p10   \n",
       "599 SDMSO          SDMSO4476.0          SDMSO4476.0p10         SDMSOp10           p10   \n",
       "\n",
       "                                                                                Row  \\\n",
       "    group          group_with_id        group_with_p           group_p                \n",
       "180 PREmdivi1 25uM PREmdivi1 25uM4719.0 PREmdivi1 25uM4719.0p4 PREmdivi1 25uMp4  r2   \n",
       "181 Mmdivi1 25uM   Mmdivi1 25uM4819.0   Mmdivi1 25uM4819.0p4   Mmdivi1 25uMp4    r2   \n",
       "182 Smdivi1 25uM   Smdivi1 25uM4200.0   Smdivi1 25uM4200.0p4   Smdivi1 25uMp4    r2   \n",
       "184 HCDMSO         HCDMSO1653.0         HCDMSO1653.0p4         HCDMSOp4          r2   \n",
       "185 HCDMSO         HCDMSO848.0          HCDMSO848.0p4          HCDMSOp4          r2   \n",
       "...                                                                              ..   \n",
       "592 SDMSO          SDMSO4476.0          SDMSO4476.0p10         SDMSOp10          r7   \n",
       "596 HCDMSO         HCDMSO848.0          HCDMSO848.0p10         HCDMSOp10         r7   \n",
       "597 SDMSO          SDMSO2165.0          SDMSO2165.0p10         SDMSOp10          r7   \n",
       "598 MDMSO          MDMSO4196.0          MDMSO4196.0p10         MDMSOp10          r7   \n",
       "599 SDMSO          SDMSO4476.0          SDMSO4476.0p10         SDMSOp10          r7   \n",
       "\n",
       "                                                                                Column  \\\n",
       "    group          group_with_id        group_with_p           group_p                   \n",
       "180 PREmdivi1 25uM PREmdivi1 25uM4719.0 PREmdivi1 25uM4719.0p4 PREmdivi1 25uMp4     c2   \n",
       "181 Mmdivi1 25uM   Mmdivi1 25uM4819.0   Mmdivi1 25uM4819.0p4   Mmdivi1 25uMp4       c3   \n",
       "182 Smdivi1 25uM   Smdivi1 25uM4200.0   Smdivi1 25uM4200.0p4   Smdivi1 25uMp4       c4   \n",
       "184 HCDMSO         HCDMSO1653.0         HCDMSO1653.0p4         HCDMSOp4             c6   \n",
       "185 HCDMSO         HCDMSO848.0          HCDMSO848.0p4          HCDMSOp4             c7   \n",
       "...                                                                                ...   \n",
       "592 SDMSO          SDMSO4476.0          SDMSO4476.0p10         SDMSOp10             c4   \n",
       "596 HCDMSO         HCDMSO848.0          HCDMSO848.0p10         HCDMSOp10            c8   \n",
       "597 SDMSO          SDMSO2165.0          SDMSO2165.0p10         SDMSOp10             c9   \n",
       "598 MDMSO          MDMSO4196.0          MDMSO4196.0p10         MDMSOp10            c10   \n",
       "599 SDMSO          SDMSO4476.0          SDMSO4476.0p10         SDMSOp10            c11   \n",
       "\n",
       "                                                                                 Plane  \\\n",
       "    group          group_with_id        group_with_p           group_p                   \n",
       "180 PREmdivi1 25uM PREmdivi1 25uM4719.0 PREmdivi1 25uM4719.0p4 PREmdivi1 25uMp4      1   \n",
       "181 Mmdivi1 25uM   Mmdivi1 25uM4819.0   Mmdivi1 25uM4819.0p4   Mmdivi1 25uMp4        1   \n",
       "182 Smdivi1 25uM   Smdivi1 25uM4200.0   Smdivi1 25uM4200.0p4   Smdivi1 25uMp4        1   \n",
       "184 HCDMSO         HCDMSO1653.0         HCDMSO1653.0p4         HCDMSOp4              1   \n",
       "185 HCDMSO         HCDMSO848.0          HCDMSO848.0p4          HCDMSOp4              1   \n",
       "...                                                                                ...   \n",
       "592 SDMSO          SDMSO4476.0          SDMSO4476.0p10         SDMSOp10              1   \n",
       "596 HCDMSO         HCDMSO848.0          HCDMSO848.0p10         HCDMSOp10             1   \n",
       "597 SDMSO          SDMSO2165.0          SDMSO2165.0p10         SDMSOp10              1   \n",
       "598 MDMSO          MDMSO4196.0          MDMSO4196.0p10         MDMSOp10              1   \n",
       "599 SDMSO          SDMSO4476.0          SDMSO4476.0p10         SDMSOp10              1   \n",
       "\n",
       "                                                                                 Timepoint  \\\n",
       "    group          group_with_id        group_with_p           group_p                       \n",
       "180 PREmdivi1 25uM PREmdivi1 25uM4719.0 PREmdivi1 25uM4719.0p4 PREmdivi1 25uMp4          0   \n",
       "181 Mmdivi1 25uM   Mmdivi1 25uM4819.0   Mmdivi1 25uM4819.0p4   Mmdivi1 25uMp4            0   \n",
       "182 Smdivi1 25uM   Smdivi1 25uM4200.0   Smdivi1 25uM4200.0p4   Smdivi1 25uMp4            0   \n",
       "184 HCDMSO         HCDMSO1653.0         HCDMSO1653.0p4         HCDMSOp4                  0   \n",
       "185 HCDMSO         HCDMSO848.0          HCDMSO848.0p4          HCDMSOp4                  0   \n",
       "...                                                                                    ...   \n",
       "592 SDMSO          SDMSO4476.0          SDMSO4476.0p10         SDMSOp10                  0   \n",
       "596 HCDMSO         HCDMSO848.0          HCDMSO848.0p10         HCDMSOp10                 0   \n",
       "597 SDMSO          SDMSO2165.0          SDMSO2165.0p10         SDMSOp10                  0   \n",
       "598 MDMSO          MDMSO4196.0          MDMSO4196.0p10         MDMSOp10                  0   \n",
       "599 SDMSO          SDMSO4476.0          SDMSO4476.0p10         SDMSOp10                  0   \n",
       "\n",
       "                                                                                 modified_spots_chanel_4 - Total Spot Area - Mean per Well  \\\n",
       "    group          group_with_id        group_with_p           group_p                                                                       \n",
       "180 PREmdivi1 25uM PREmdivi1 25uM4719.0 PREmdivi1 25uM4719.0p4 PREmdivi1 25uMp4                                           5.416028           \n",
       "181 Mmdivi1 25uM   Mmdivi1 25uM4819.0   Mmdivi1 25uM4819.0p4   Mmdivi1 25uMp4                                             5.934011           \n",
       "182 Smdivi1 25uM   Smdivi1 25uM4200.0   Smdivi1 25uM4200.0p4   Smdivi1 25uMp4                                             5.843381           \n",
       "184 HCDMSO         HCDMSO1653.0         HCDMSO1653.0p4         HCDMSOp4                                                   6.471074           \n",
       "185 HCDMSO         HCDMSO848.0          HCDMSO848.0p4          HCDMSOp4                                                   6.798287           \n",
       "...                                                                                                                            ...           \n",
       "592 SDMSO          SDMSO4476.0          SDMSO4476.0p10         SDMSOp10                                                   6.638008           \n",
       "596 HCDMSO         HCDMSO848.0          HCDMSO848.0p10         HCDMSOp10                                                  7.448643           \n",
       "597 SDMSO          SDMSO2165.0          SDMSO2165.0p10         SDMSOp10                                                   7.303365           \n",
       "598 MDMSO          MDMSO4196.0          MDMSO4196.0p10         MDMSOp10                                                   7.581694           \n",
       "599 SDMSO          SDMSO4476.0          SDMSO4476.0p10         SDMSOp10                                                   6.847857           \n",
       "\n",
       "                                                                                 modified_spots_chanel_4 - Relative Spot Intensity - Mean per Well  \\\n",
       "    group          group_with_id        group_with_p           group_p                                                                               \n",
       "180 PREmdivi1 25uM PREmdivi1 25uM4719.0 PREmdivi1 25uM4719.0p4 PREmdivi1 25uMp4                                           0.510847                   \n",
       "181 Mmdivi1 25uM   Mmdivi1 25uM4819.0   Mmdivi1 25uM4819.0p4   Mmdivi1 25uMp4                                             0.509235                   \n",
       "182 Smdivi1 25uM   Smdivi1 25uM4200.0   Smdivi1 25uM4200.0p4   Smdivi1 25uMp4                                             0.513037                   \n",
       "184 HCDMSO         HCDMSO1653.0         HCDMSO1653.0p4         HCDMSOp4                                                   0.515612                   \n",
       "185 HCDMSO         HCDMSO848.0          HCDMSO848.0p4          HCDMSOp4                                                   0.519994                   \n",
       "...                                                                                                                            ...                   \n",
       "592 SDMSO          SDMSO4476.0          SDMSO4476.0p10         SDMSOp10                                                   0.523413                   \n",
       "596 HCDMSO         HCDMSO848.0          HCDMSO848.0p10         HCDMSOp10                                                  0.520933                   \n",
       "597 SDMSO          SDMSO2165.0          SDMSO2165.0p10         SDMSOp10                                                   0.520957                   \n",
       "598 MDMSO          MDMSO4196.0          MDMSO4196.0p10         MDMSOp10                                                   0.522448                   \n",
       "599 SDMSO          SDMSO4476.0          SDMSO4476.0p10         SDMSOp10                                                   0.516712                   \n",
       "\n",
       "                                                                                 modified_spots_chanel_4 - Number of Spots - Mean per Well  \\\n",
       "    group          group_with_id        group_with_p           group_p                                                                       \n",
       "180 PREmdivi1 25uM PREmdivi1 25uM4719.0 PREmdivi1 25uM4719.0p4 PREmdivi1 25uMp4                                           1.038530           \n",
       "181 Mmdivi1 25uM   Mmdivi1 25uM4819.0   Mmdivi1 25uM4819.0p4   Mmdivi1 25uMp4                                             1.082709           \n",
       "182 Smdivi1 25uM   Smdivi1 25uM4200.0   Smdivi1 25uM4200.0p4   Smdivi1 25uMp4                                             1.074222           \n",
       "184 HCDMSO         HCDMSO1653.0         HCDMSO1653.0p4         HCDMSOp4                                                   1.108316           \n",
       "185 HCDMSO         HCDMSO848.0          HCDMSO848.0p4          HCDMSOp4                                                   1.127246           \n",
       "...                                                                                                                            ...           \n",
       "592 SDMSO          SDMSO4476.0          SDMSO4476.0p10         SDMSOp10                                                   1.122344           \n",
       "596 HCDMSO         HCDMSO848.0          HCDMSO848.0p10         HCDMSOp10                                                  1.159241           \n",
       "597 SDMSO          SDMSO2165.0          SDMSO2165.0p10         SDMSOp10                                                   1.148826           \n",
       "598 MDMSO          MDMSO4196.0          MDMSO4196.0p10         MDMSOp10                                                   1.164081           \n",
       "599 SDMSO          SDMSO4476.0          SDMSO4476.0p10         SDMSOp10                                                   1.128201           \n",
       "\n",
       "                                                                                 modified_spots_chanel_4 - Number of Spots per Area of modified_spots_chanel_4 - Mean per Well  \\\n",
       "    group          group_with_id        group_with_p           group_p                                                                                                           \n",
       "180 PREmdivi1 25uM PREmdivi1 25uM4719.0 PREmdivi1 25uM4719.0p4 PREmdivi1 25uMp4                                           0.180028                                               \n",
       "181 Mmdivi1 25uM   Mmdivi1 25uM4819.0   Mmdivi1 25uM4819.0p4   Mmdivi1 25uMp4                                             0.171991                                               \n",
       "182 Smdivi1 25uM   Smdivi1 25uM4200.0   Smdivi1 25uM4200.0p4   Smdivi1 25uMp4                                             0.173729                                               \n",
       "184 HCDMSO         HCDMSO1653.0         HCDMSO1653.0p4         HCDMSOp4                                                   0.165546                                               \n",
       "185 HCDMSO         HCDMSO848.0          HCDMSO848.0p4          HCDMSOp4                                                   0.161853                                               \n",
       "...                                                                                                                            ...                                               \n",
       "592 SDMSO          SDMSO4476.0          SDMSO4476.0p10         SDMSOp10                                                   0.164227                                               \n",
       "596 HCDMSO         HCDMSO848.0          HCDMSO848.0p10         HCDMSOp10                                                  0.155052                                               \n",
       "597 SDMSO          SDMSO2165.0          SDMSO2165.0p10         SDMSOp10                                                   0.156296                                               \n",
       "598 MDMSO          MDMSO4196.0          MDMSO4196.0p10         MDMSOp10                                                   0.154426                                               \n",
       "599 SDMSO          SDMSO4476.0          SDMSO4476.0p10         SDMSOp10                                                   0.160123                                               \n",
       "\n",
       "                                                                                 modified_spots_chanel_3 - Total Spot Area - Mean per Well  \\\n",
       "    group          group_with_id        group_with_p           group_p                                                                       \n",
       "180 PREmdivi1 25uM PREmdivi1 25uM4719.0 PREmdivi1 25uM4719.0p4 PREmdivi1 25uMp4                                          15.342139           \n",
       "181 Mmdivi1 25uM   Mmdivi1 25uM4819.0   Mmdivi1 25uM4819.0p4   Mmdivi1 25uMp4                                            13.358364           \n",
       "182 Smdivi1 25uM   Smdivi1 25uM4200.0   Smdivi1 25uM4200.0p4   Smdivi1 25uMp4                                            13.415049           \n",
       "184 HCDMSO         HCDMSO1653.0         HCDMSO1653.0p4         HCDMSOp4                                                  14.067673           \n",
       "185 HCDMSO         HCDMSO848.0          HCDMSO848.0p4          HCDMSOp4                                                  14.563273           \n",
       "...                                                                                                                            ...           \n",
       "592 SDMSO          SDMSO4476.0          SDMSO4476.0p10         SDMSOp10                                                  12.685509           \n",
       "596 HCDMSO         HCDMSO848.0          HCDMSO848.0p10         HCDMSOp10                                                 15.753524           \n",
       "597 SDMSO          SDMSO2165.0          SDMSO2165.0p10         SDMSOp10                                                  14.854338           \n",
       "598 MDMSO          MDMSO4196.0          MDMSO4196.0p10         MDMSOp10                                                  17.436726           \n",
       "599 SDMSO          SDMSO4476.0          SDMSO4476.0p10         SDMSOp10                                                  14.716535           \n",
       "\n",
       "                                                                                 ...  \\\n",
       "    group          group_with_id        group_with_p           group_p           ...   \n",
       "180 PREmdivi1 25uM PREmdivi1 25uM4719.0 PREmdivi1 25uM4719.0p4 PREmdivi1 25uMp4  ...   \n",
       "181 Mmdivi1 25uM   Mmdivi1 25uM4819.0   Mmdivi1 25uM4819.0p4   Mmdivi1 25uMp4    ...   \n",
       "182 Smdivi1 25uM   Smdivi1 25uM4200.0   Smdivi1 25uM4200.0p4   Smdivi1 25uMp4    ...   \n",
       "184 HCDMSO         HCDMSO1653.0         HCDMSO1653.0p4         HCDMSOp4          ...   \n",
       "185 HCDMSO         HCDMSO848.0          HCDMSO848.0p4          HCDMSOp4          ...   \n",
       "...                                                                              ...   \n",
       "592 SDMSO          SDMSO4476.0          SDMSO4476.0p10         SDMSOp10          ...   \n",
       "596 HCDMSO         HCDMSO848.0          HCDMSO848.0p10         HCDMSOp10         ...   \n",
       "597 SDMSO          SDMSO2165.0          SDMSO2165.0p10         SDMSOp10          ...   \n",
       "598 MDMSO          MDMSO4196.0          MDMSO4196.0p10         MDMSOp10          ...   \n",
       "599 SDMSO          SDMSO4476.0          SDMSO4476.0p10         SDMSOp10          ...   \n",
       "\n",
       "                                                                                 Time [s]  \\\n",
       "    group          group_with_id        group_with_p           group_p                      \n",
       "180 PREmdivi1 25uM PREmdivi1 25uM4719.0 PREmdivi1 25uM4719.0p4 PREmdivi1 25uMp4       0.0   \n",
       "181 Mmdivi1 25uM   Mmdivi1 25uM4819.0   Mmdivi1 25uM4819.0p4   Mmdivi1 25uMp4         0.0   \n",
       "182 Smdivi1 25uM   Smdivi1 25uM4200.0   Smdivi1 25uM4200.0p4   Smdivi1 25uMp4         0.0   \n",
       "184 HCDMSO         HCDMSO1653.0         HCDMSO1653.0p4         HCDMSOp4               0.0   \n",
       "185 HCDMSO         HCDMSO848.0          HCDMSO848.0p4          HCDMSOp4               0.0   \n",
       "...                                                                                   ...   \n",
       "592 SDMSO          SDMSO4476.0          SDMSO4476.0p10         SDMSOp10               0.0   \n",
       "596 HCDMSO         HCDMSO848.0          HCDMSO848.0p10         HCDMSOp10              0.0   \n",
       "597 SDMSO          SDMSO2165.0          SDMSO2165.0p10         SDMSOp10               0.0   \n",
       "598 MDMSO          MDMSO4196.0          MDMSO4196.0p10         MDMSOp10               0.0   \n",
       "599 SDMSO          SDMSO4476.0          SDMSO4476.0p10         SDMSOp10               0.0   \n",
       "\n",
       "                                                                                    Compound  \\\n",
       "    group          group_with_id        group_with_p           group_p                         \n",
       "180 PREmdivi1 25uM PREmdivi1 25uM4719.0 PREmdivi1 25uM4719.0p4 PREmdivi1 25uMp4  mdivi1 25uM   \n",
       "181 Mmdivi1 25uM   Mmdivi1 25uM4819.0   Mmdivi1 25uM4819.0p4   Mmdivi1 25uMp4    mdivi1 25uM   \n",
       "182 Smdivi1 25uM   Smdivi1 25uM4200.0   Smdivi1 25uM4200.0p4   Smdivi1 25uMp4    mdivi1 25uM   \n",
       "184 HCDMSO         HCDMSO1653.0         HCDMSO1653.0p4         HCDMSOp4                 DMSO   \n",
       "185 HCDMSO         HCDMSO848.0          HCDMSO848.0p4          HCDMSOp4                 DMSO   \n",
       "...                                                                                      ...   \n",
       "592 SDMSO          SDMSO4476.0          SDMSO4476.0p10         SDMSOp10                 DMSO   \n",
       "596 HCDMSO         HCDMSO848.0          HCDMSO848.0p10         HCDMSOp10                DMSO   \n",
       "597 SDMSO          SDMSO2165.0          SDMSO2165.0p10         SDMSOp10                 DMSO   \n",
       "598 MDMSO          MDMSO4196.0          MDMSO4196.0p10         MDMSOp10                 DMSO   \n",
       "599 SDMSO          SDMSO4476.0          SDMSO4476.0p10         SDMSOp10                 DMSO   \n",
       "\n",
       "                                                                                 Cell Type  \\\n",
       "    group          group_with_id        group_with_p           group_p                       \n",
       "180 PREmdivi1 25uM PREmdivi1 25uM4719.0 PREmdivi1 25uM4719.0p4 PREmdivi1 25uMp4         HD   \n",
       "181 Mmdivi1 25uM   Mmdivi1 25uM4819.0   Mmdivi1 25uM4819.0p4   Mmdivi1 25uMp4           HD   \n",
       "182 Smdivi1 25uM   Smdivi1 25uM4200.0   Smdivi1 25uM4200.0p4   Smdivi1 25uMp4           HD   \n",
       "184 HCDMSO         HCDMSO1653.0         HCDMSO1653.0p4         HCDMSOp4                 HC   \n",
       "185 HCDMSO         HCDMSO848.0          HCDMSO848.0p4          HCDMSOp4                 HC   \n",
       "...                                                                                    ...   \n",
       "592 SDMSO          SDMSO4476.0          SDMSO4476.0p10         SDMSOp10                 HD   \n",
       "596 HCDMSO         HCDMSO848.0          HCDMSO848.0p10         HCDMSOp10                HC   \n",
       "597 SDMSO          SDMSO2165.0          SDMSO2165.0p10         SDMSOp10                 HD   \n",
       "598 MDMSO          MDMSO4196.0          MDMSO4196.0p10         MDMSOp10                 HD   \n",
       "599 SDMSO          SDMSO4476.0          SDMSO4476.0p10         SDMSOp10                 HD   \n",
       "\n",
       "                                                                                 Cell ID  \\\n",
       "    group          group_with_id        group_with_p           group_p                     \n",
       "180 PREmdivi1 25uM PREmdivi1 25uM4719.0 PREmdivi1 25uM4719.0p4 PREmdivi1 25uMp4   4719.0   \n",
       "181 Mmdivi1 25uM   Mmdivi1 25uM4819.0   Mmdivi1 25uM4819.0p4   Mmdivi1 25uMp4     4819.0   \n",
       "182 Smdivi1 25uM   Smdivi1 25uM4200.0   Smdivi1 25uM4200.0p4   Smdivi1 25uMp4     4200.0   \n",
       "184 HCDMSO         HCDMSO1653.0         HCDMSO1653.0p4         HCDMSOp4           1653.0   \n",
       "185 HCDMSO         HCDMSO848.0          HCDMSO848.0p4          HCDMSOp4            848.0   \n",
       "...                                                                                  ...   \n",
       "592 SDMSO          SDMSO4476.0          SDMSO4476.0p10         SDMSOp10           4476.0   \n",
       "596 HCDMSO         HCDMSO848.0          HCDMSO848.0p10         HCDMSOp10           848.0   \n",
       "597 SDMSO          SDMSO2165.0          SDMSO2165.0p10         SDMSOp10           2165.0   \n",
       "598 MDMSO          MDMSO4196.0          MDMSO4196.0p10         MDMSOp10           4196.0   \n",
       "599 SDMSO          SDMSO4476.0          SDMSO4476.0p10         SDMSOp10           4476.0   \n",
       "\n",
       "                                                                                 Severity  \\\n",
       "    group          group_with_id        group_with_p           group_p                      \n",
       "180 PREmdivi1 25uM PREmdivi1 25uM4719.0 PREmdivi1 25uM4719.0p4 PREmdivi1 25uMp4       PRE   \n",
       "181 Mmdivi1 25uM   Mmdivi1 25uM4819.0   Mmdivi1 25uM4819.0p4   Mmdivi1 25uMp4           M   \n",
       "182 Smdivi1 25uM   Smdivi1 25uM4200.0   Smdivi1 25uM4200.0p4   Smdivi1 25uMp4           S   \n",
       "184 HCDMSO         HCDMSO1653.0         HCDMSO1653.0p4         HCDMSOp4                HC   \n",
       "185 HCDMSO         HCDMSO848.0          HCDMSO848.0p4          HCDMSOp4                HC   \n",
       "...                                                                                   ...   \n",
       "592 SDMSO          SDMSO4476.0          SDMSO4476.0p10         SDMSOp10                 S   \n",
       "596 HCDMSO         HCDMSO848.0          HCDMSO848.0p10         HCDMSOp10               HC   \n",
       "597 SDMSO          SDMSO2165.0          SDMSO2165.0p10         SDMSOp10                 S   \n",
       "598 MDMSO          MDMSO4196.0          MDMSO4196.0p10         MDMSOp10                 M   \n",
       "599 SDMSO          SDMSO4476.0          SDMSO4476.0p10         SDMSOp10                 S   \n",
       "\n",
       "                                                                                      pos  \\\n",
       "    group          group_with_id        group_with_p           group_p                      \n",
       "180 PREmdivi1 25uM PREmdivi1 25uM4719.0 PREmdivi1 25uM4719.0p4 PREmdivi1 25uMp4    r2c2p4   \n",
       "181 Mmdivi1 25uM   Mmdivi1 25uM4819.0   Mmdivi1 25uM4819.0p4   Mmdivi1 25uMp4      r2c3p4   \n",
       "182 Smdivi1 25uM   Smdivi1 25uM4200.0   Smdivi1 25uM4200.0p4   Smdivi1 25uMp4      r2c4p4   \n",
       "184 HCDMSO         HCDMSO1653.0         HCDMSO1653.0p4         HCDMSOp4            r2c6p4   \n",
       "185 HCDMSO         HCDMSO848.0          HCDMSO848.0p4          HCDMSOp4            r2c7p4   \n",
       "...                                                                                   ...   \n",
       "592 SDMSO          SDMSO4476.0          SDMSO4476.0p10         SDMSOp10           r7c4p10   \n",
       "596 HCDMSO         HCDMSO848.0          HCDMSO848.0p10         HCDMSOp10          r7c8p10   \n",
       "597 SDMSO          SDMSO2165.0          SDMSO2165.0p10         SDMSOp10           r7c9p10   \n",
       "598 MDMSO          MDMSO4196.0          MDMSO4196.0p10         MDMSOp10          r7c10p10   \n",
       "599 SDMSO          SDMSO4476.0          SDMSO4476.0p10         SDMSOp10          r7c11p10   \n",
       "\n",
       "                                                                                          group  \\\n",
       "    group          group_with_id        group_with_p           group_p                            \n",
       "180 PREmdivi1 25uM PREmdivi1 25uM4719.0 PREmdivi1 25uM4719.0p4 PREmdivi1 25uMp4  PREmdivi1 25uM   \n",
       "181 Mmdivi1 25uM   Mmdivi1 25uM4819.0   Mmdivi1 25uM4819.0p4   Mmdivi1 25uMp4      Mmdivi1 25uM   \n",
       "182 Smdivi1 25uM   Smdivi1 25uM4200.0   Smdivi1 25uM4200.0p4   Smdivi1 25uMp4      Smdivi1 25uM   \n",
       "184 HCDMSO         HCDMSO1653.0         HCDMSO1653.0p4         HCDMSOp4                  HCDMSO   \n",
       "185 HCDMSO         HCDMSO848.0          HCDMSO848.0p4          HCDMSOp4                  HCDMSO   \n",
       "...                                                                                         ...   \n",
       "592 SDMSO          SDMSO4476.0          SDMSO4476.0p10         SDMSOp10                   SDMSO   \n",
       "596 HCDMSO         HCDMSO848.0          HCDMSO848.0p10         HCDMSOp10                 HCDMSO   \n",
       "597 SDMSO          SDMSO2165.0          SDMSO2165.0p10         SDMSOp10                   SDMSO   \n",
       "598 MDMSO          MDMSO4196.0          MDMSO4196.0p10         MDMSOp10                   MDMSO   \n",
       "599 SDMSO          SDMSO4476.0          SDMSO4476.0p10         SDMSOp10                   SDMSO   \n",
       "\n",
       "                                                                                        group_with_id  \\\n",
       "    group          group_with_id        group_with_p           group_p                                  \n",
       "180 PREmdivi1 25uM PREmdivi1 25uM4719.0 PREmdivi1 25uM4719.0p4 PREmdivi1 25uMp4  PREmdivi1 25uM4719.0   \n",
       "181 Mmdivi1 25uM   Mmdivi1 25uM4819.0   Mmdivi1 25uM4819.0p4   Mmdivi1 25uMp4      Mmdivi1 25uM4819.0   \n",
       "182 Smdivi1 25uM   Smdivi1 25uM4200.0   Smdivi1 25uM4200.0p4   Smdivi1 25uMp4      Smdivi1 25uM4200.0   \n",
       "184 HCDMSO         HCDMSO1653.0         HCDMSO1653.0p4         HCDMSOp4                  HCDMSO1653.0   \n",
       "185 HCDMSO         HCDMSO848.0          HCDMSO848.0p4          HCDMSOp4                   HCDMSO848.0   \n",
       "...                                                                                               ...   \n",
       "592 SDMSO          SDMSO4476.0          SDMSO4476.0p10         SDMSOp10                   SDMSO4476.0   \n",
       "596 HCDMSO         HCDMSO848.0          HCDMSO848.0p10         HCDMSOp10                  HCDMSO848.0   \n",
       "597 SDMSO          SDMSO2165.0          SDMSO2165.0p10         SDMSOp10                   SDMSO2165.0   \n",
       "598 MDMSO          MDMSO4196.0          MDMSO4196.0p10         MDMSOp10                   MDMSO4196.0   \n",
       "599 SDMSO          SDMSO4476.0          SDMSO4476.0p10         SDMSOp10                   SDMSO4476.0   \n",
       "\n",
       "                                                                                           group_with_p  \\\n",
       "    group          group_with_id        group_with_p           group_p                                    \n",
       "180 PREmdivi1 25uM PREmdivi1 25uM4719.0 PREmdivi1 25uM4719.0p4 PREmdivi1 25uMp4  PREmdivi1 25uM4719.0p4   \n",
       "181 Mmdivi1 25uM   Mmdivi1 25uM4819.0   Mmdivi1 25uM4819.0p4   Mmdivi1 25uMp4      Mmdivi1 25uM4819.0p4   \n",
       "182 Smdivi1 25uM   Smdivi1 25uM4200.0   Smdivi1 25uM4200.0p4   Smdivi1 25uMp4      Smdivi1 25uM4200.0p4   \n",
       "184 HCDMSO         HCDMSO1653.0         HCDMSO1653.0p4         HCDMSOp4                  HCDMSO1653.0p4   \n",
       "185 HCDMSO         HCDMSO848.0          HCDMSO848.0p4          HCDMSOp4                   HCDMSO848.0p4   \n",
       "...                                                                                                 ...   \n",
       "592 SDMSO          SDMSO4476.0          SDMSO4476.0p10         SDMSOp10                  SDMSO4476.0p10   \n",
       "596 HCDMSO         HCDMSO848.0          HCDMSO848.0p10         HCDMSOp10                 HCDMSO848.0p10   \n",
       "597 SDMSO          SDMSO2165.0          SDMSO2165.0p10         SDMSOp10                  SDMSO2165.0p10   \n",
       "598 MDMSO          MDMSO4196.0          MDMSO4196.0p10         MDMSOp10                  MDMSO4196.0p10   \n",
       "599 SDMSO          SDMSO4476.0          SDMSO4476.0p10         SDMSOp10                  SDMSO4476.0p10   \n",
       "\n",
       "                                                                                          group_p  \n",
       "    group          group_with_id        group_with_p           group_p                             \n",
       "180 PREmdivi1 25uM PREmdivi1 25uM4719.0 PREmdivi1 25uM4719.0p4 PREmdivi1 25uMp4  PREmdivi1 25uMp4  \n",
       "181 Mmdivi1 25uM   Mmdivi1 25uM4819.0   Mmdivi1 25uM4819.0p4   Mmdivi1 25uMp4      Mmdivi1 25uMp4  \n",
       "182 Smdivi1 25uM   Smdivi1 25uM4200.0   Smdivi1 25uM4200.0p4   Smdivi1 25uMp4      Smdivi1 25uMp4  \n",
       "184 HCDMSO         HCDMSO1653.0         HCDMSO1653.0p4         HCDMSOp4                  HCDMSOp4  \n",
       "185 HCDMSO         HCDMSO848.0          HCDMSO848.0p4          HCDMSOp4                  HCDMSOp4  \n",
       "...                                                                                           ...  \n",
       "592 SDMSO          SDMSO4476.0          SDMSO4476.0p10         SDMSOp10                  SDMSOp10  \n",
       "596 HCDMSO         HCDMSO848.0          HCDMSO848.0p10         HCDMSOp10                HCDMSOp10  \n",
       "597 SDMSO          SDMSO2165.0          SDMSO2165.0p10         SDMSOp10                  SDMSOp10  \n",
       "598 MDMSO          MDMSO4196.0          MDMSO4196.0p10         MDMSOp10                  MDMSOp10  \n",
       "599 SDMSO          SDMSO4476.0          SDMSO4476.0p10         SDMSOp10                  SDMSOp10  \n",
       "\n",
       "[349 rows x 128 columns]"
      ]
     },
     "execution_count": 114,
     "metadata": {},
     "output_type": "execute_result"
    }
   ],
   "source": [
    "# # Values to be removed based on the \"Group\" column\n",
    "# groups_to_remove = [\"HCDMSO1650.0p6\", \"HCDMSO1650.0p7\", \"HCDMSO1650.0p4\",\n",
    "# \"HCDMSO1653.0p7\", \"HCDMSO1653.0p5\", \"HCDMSO495.0p7\", \"HCDMSO495.0p6\",\n",
    "# \"HCDMSO143.0p7\", \"HCDMSO848.0p5\", \"HCDMSO1170.0p10\"]\n",
    "# # Remove rows with the specified values in the \"Group\" column\n",
    "# mfn1_df = mfn1_df[~mfn1_df['group_with_p'].isin(groups_to_remove)]\n",
    "# # Display the filtered DataFrame\n",
    "# mfn1_df"
   ]
  },
  {
   "cell_type": "code",
   "execution_count": 21,
   "id": "e87a430f",
   "metadata": {},
   "outputs": [
    {
     "data": {
      "image/png": "[encoded data removed]",
      "text/plain": [
       "<Figure size 432x288 with 1 Axes>"
      ]
     },
     "metadata": {
      "needs_background": "light"
     },
     "output_type": "display_data"
    },
    {
     "name": "stdout",
     "output_type": "stream",
     "text": [
      "Total number of cell types 419\n"
     ]
    },
    {
     "data": {
      "image/png": "[encoded data removed]",
      "text/plain": [
       "<Figure size 432x288 with 1 Axes>"
      ]
     },
     "metadata": {
      "needs_background": "light"
     },
     "output_type": "display_data"
    },
    {
     "name": "stdout",
     "output_type": "stream",
     "text": [
      "Total number of cells 407\n"
     ]
    }
   ],
   "source": [
    "mfn2_df[\"Cell ID\"] = mfn2_df[\"Cell ID\"].astype(str)\n",
    "cell_types =  mfn2_df[\"Cell ID\"].values\n",
    "sns.histplot(cell_types)\n",
    "plt.show()\n",
    "print(f'Total number of cell types {len(cell_types)}')\n",
    "mfn2_df = mfn2_df.loc[cell_types != '4200.0']\n",
    "sns.histplot(mfn2_df[\"Cell ID\"].values)\n",
    "plt.show()\n",
    "print(f'Total number of cells {len(mfn2_df)}')"
   ]
  },
  {
   "cell_type": "code",
   "execution_count": 22,
   "id": "cd16f54e",
   "metadata": {
    "scrolled": true
   },
   "outputs": [
    {
     "data": {
      "image/png": "[encoded data removed]",
      "text/plain": [
       "<Figure size 432x288 with 1 Axes>"
      ]
     },
     "metadata": {
      "needs_background": "light"
     },
     "output_type": "display_data"
    },
    {
     "name": "stdout",
     "output_type": "stream",
     "text": [
      "Total number of cell types 407\n"
     ]
    },
    {
     "data": {
      "image/png": "[encoded data removed]",
      "text/plain": [
       "<Figure size 432x288 with 1 Axes>"
      ]
     },
     "metadata": {
      "needs_background": "light"
     },
     "output_type": "display_data"
    },
    {
     "name": "stdout",
     "output_type": "stream",
     "text": [
      "Total number of cells 395\n"
     ]
    }
   ],
   "source": [
    "cell_types =  mfn2_df[\"Cell ID\"].values\n",
    "sns.histplot(cell_types)\n",
    "plt.show()\n",
    "print(f'Total number of cell types {len(cell_types)}')\n",
    "mfn2_df = mfn2_df.loc[cell_types != '4196.0']\n",
    "sns.histplot(mfn2_df[\"Cell ID\"].values)\n",
    "plt.show()\n",
    "print(f'Total number of cells {len(mfn2_df)}')"
   ]
  },
  {
   "cell_type": "code",
   "execution_count": 311,
   "id": "e5e51f70",
   "metadata": {},
   "outputs": [
    {
     "data": {
      "image/png": "[encoded data removed]",
      "text/plain": [
       "<Figure size 432x288 with 1 Axes>"
      ]
     },
     "metadata": {
      "needs_background": "light"
     },
     "output_type": "display_data"
    },
    {
     "name": "stdout",
     "output_type": "stream",
     "text": [
      "Total number of cell types 450\n"
     ]
    },
    {
     "data": {
      "image/png": "[encoded data removed]",
      "text/plain": [
       "<Figure size 432x288 with 1 Axes>"
      ]
     },
     "metadata": {
      "needs_background": "light"
     },
     "output_type": "display_data"
    },
    {
     "name": "stdout",
     "output_type": "stream",
     "text": [
      "Total number of cells 438\n"
     ]
    }
   ],
   "source": [
    "# cell_types =  mfn1_df[\"Cell ID\"].values\n",
    "# sns.histplot(cell_types)\n",
    "# plt.show()\n",
    "# print(f'Total number of cell types {len(cell_types)}')\n",
    "# mfn1_df = mfn1_df.loc[cell_types != '4715.0']\n",
    "# sns.histplot(mfn1_df[\"Cell ID\"].values)\n",
    "# plt.show()\n",
    "# print(f'Total number of cells {len(mfn1_df)}')"
   ]
  },
  {
   "cell_type": "code",
   "execution_count": 106,
   "id": "a639e58d",
   "metadata": {},
   "outputs": [
    {
     "data": {
      "image/png": "[encoded data removed]",
      "text/plain": [
       "<Figure size 432x288 with 1 Axes>"
      ]
     },
     "metadata": {},
     "output_type": "display_data"
    },
    {
     "name": "stdout",
     "output_type": "stream",
     "text": [
      "Total number of cell types 331\n"
     ]
    },
    {
     "data": {
      "image/png": "[encoded data removed]",
      "text/plain": [
       "<Figure size 432x288 with 1 Axes>"
      ]
     },
     "metadata": {},
     "output_type": "display_data"
    },
    {
     "name": "stdout",
     "output_type": "stream",
     "text": [
      "Total number of cells 308\n"
     ]
    }
   ],
   "source": [
    "# cell_types =  drp1_df[\"Cell ID\"].values\n",
    "# sns.histplot(cell_types)\n",
    "# plt.show()\n",
    "# print(f'Total number of cell types {len(cell_types)}')\n",
    "# drp1_df = drp1_df.loc[cell_types != '1653.0']\n",
    "# sns.histplot(drp1_df[\"Cell ID\"].values)\n",
    "# plt.show()\n",
    "# print(f'Total number of cells {len(drp1_df)}')"
   ]
  },
  {
   "cell_type": "code",
   "execution_count": 23,
   "id": "21e2d512",
   "metadata": {
    "scrolled": true
   },
   "outputs": [
    {
     "data": {
      "image/png": "[encoded data removed]",
      "text/plain": [
       "<Figure size 432x288 with 1 Axes>"
      ]
     },
     "metadata": {
      "needs_background": "light"
     },
     "output_type": "display_data"
    },
    {
     "name": "stdout",
     "output_type": "stream",
     "text": [
      "Total number of cell types 395\n"
     ]
    },
    {
     "data": {
      "image/png": "[encoded data removed]",
      "text/plain": [
       "<Figure size 432x288 with 1 Axes>"
      ]
     },
     "metadata": {
      "needs_background": "light"
     },
     "output_type": "display_data"
    },
    {
     "name": "stdout",
     "output_type": "stream",
     "text": [
      "Total number of cells 353\n"
     ]
    }
   ],
   "source": [
    "cell_types =  mfn2_df[\"Cell ID\"].values\n",
    "sns.histplot(cell_types)\n",
    "plt.show()\n",
    "print(f'Total number of cell types {len(cell_types)}')\n",
    "mfn2_df = mfn2_df.loc[cell_types != '848.0']\n",
    "sns.histplot(mfn2_df[\"Cell ID\"].values)\n",
    "plt.show()\n",
    "print(f'Total number of cells {len(mfn2_df)}')"
   ]
  },
  {
   "cell_type": "code",
   "execution_count": 24,
   "id": "a5f1db4c",
   "metadata": {
    "scrolled": true
   },
   "outputs": [],
   "source": [
    "#summary 1\n",
    "mfn2_df_sum = mfn2_df.drop(columns=[\"group\", \"group_with_id\",\"group_with_p\", \"group_p\", \"Cell ID\", \"plate\", \"Row\", \"Column\", \"Cell Type\",\n",
    "                                    \"Plane\", \"Timepoint\", \"Height [µm]\", \"Time [s]\", \"Compound\", \"Severity\", \"pos\" ])\n",
    "mfn2_df_sum = mfn2_df_sum.reset_index()\n",
    "mfn2_df_sum = mfn2_df_sum.drop(columns=[\"group_with_id\",\"group\", \"group_p\", \"level_0\"])\n",
    "sum1 = summarize_dataframe(mfn2_df_sum, \"group_with_p\")\n",
    "sum1 = sum1.reset_index()\n",
    "sum1.to_csv(path + \"//\" + 'mfn2_sum1a.csv', index=None)"
   ]
  },
  {
   "cell_type": "code",
   "execution_count": null,
   "id": "e00f0c88",
   "metadata": {},
   "outputs": [],
   "source": [
    "# clear low and high cell count\n",
    "cell_count =  mfn2_df[\"all_cells - Number of Objects\"].values\n",
    "sns.histplot(cell_count)\n",
    "plt.show()\n",
    "mfn2_df = mfn2_df.loc[cell_count<1200]\n",
    "sns.histplot(mfn2_df[\"all_cells - Number of Objects\"].values)\n",
    "plt.show()\n",
    "mfn2_df = mfn2_df.loc[cell_count>200]\n",
    "sns.histplot(mfn2_df[\"all_cells - Number of Objects\"].values)\n",
    "plt.show()"
   ]
  },
  {
   "cell_type": "code",
   "execution_count": 32,
   "id": "3e493a2d",
   "metadata": {},
   "outputs": [],
   "source": [
    "mfn2_df.to_csv(path + \"//\" + 'mfn2_df1.csv', index=None)    "
   ]
  },
  {
   "cell_type": "code",
   "execution_count": 35,
   "id": "a305913c",
   "metadata": {
    "scrolled": true
   },
   "outputs": [
    {
     "data": {
      "application/vnd.plotly.v1+json": {
       "config": {
        "plotlyServerURL": "https://plot.ly"
       },
       "data": [
        {
         "alignmentgroup": "True",
         "hovertemplate": "group=%{x}<br>all_cells - Number of Objects=%{y}<extra></extra>",
         "legendgroup": "",
         "marker": {
          "color": "#636efa",
          "pattern": {
           "shape": ""
          }
         },
         "name": "",
         "offsetgroup": "",
         "orientation": "v",
         "showlegend": false,
         "textposition": "auto",
         "type": "bar",
         "x": [
          "HCDMSO",
          "MDMSO",
          "Mmdivi1 25uM",
          "PREDMSO",
          "PREmdivi1 25uM",
          "SDMSO",
          "Smdivi1 25uM"
         ],
         "xaxis": "x",
         "y": [
          629.65,
          640.7096774193549,
          641.3333333333334,
          646.0857142857143,
          673.258064516129,
          672.5714285714286,
          697.0487804878048
         ],
         "yaxis": "y"
        }
       ],
       "layout": {
        "barmode": "group",
        "legend": {
         "tracegroupgap": 0
        },
        "margin": {
         "t": 60
        },
        "template": {
         "data": {
          "bar": [
           {
            "error_x": {
             "color": "#2a3f5f"
            },
            "error_y": {
             "color": "#2a3f5f"
            },
            "marker": {
             "line": {
              "color": "#E5ECF6",
              "width": 0.5
             },
             "pattern": {
              "fillmode": "overlay",
              "size": 10,
              "solidity": 0.2
             }
            },
            "type": "bar"
           }
          ],
          "barpolar": [
           {
            "marker": {
             "line": {
              "color": "#E5ECF6",
              "width": 0.5
             },
             "pattern": {
              "fillmode": "overlay",
              "size": 10,
              "solidity": 0.2
             }
            },
            "type": "barpolar"
           }
          ],
          "carpet": [
           {
            "aaxis": {
             "endlinecolor": "#2a3f5f",
             "gridcolor": "white",
             "linecolor": "white",
             "minorgridcolor": "white",
             "startlinecolor": "#2a3f5f"
            },
            "baxis": {
             "endlinecolor": "#2a3f5f",
             "gridcolor": "white",
             "linecolor": "white",
             "minorgridcolor": "white",
             "startlinecolor": "#2a3f5f"
            },
            "type": "carpet"
           }
          ],
          "choropleth": [
           {
            "colorbar": {
             "outlinewidth": 0,
             "ticks": ""
            },
            "type": "choropleth"
           }
          ],
          "contour": [
           {
            "colorbar": {
             "outlinewidth": 0,
             "ticks": ""
            },
            "colorscale": [
             [
              0,
              "#0d0887"
             ],
             [
              0.1111111111111111,
              "#46039f"
             ],
             [
              0.2222222222222222,
              "#7201a8"
             ],
             [
              0.3333333333333333,
              "#9c179e"
             ],
             [
              0.4444444444444444,
              "#bd3786"
             ],
             [
              0.5555555555555556,
              "#d8576b"
             ],
             [
              0.6666666666666666,
              "#ed7953"
             ],
             [
              0.7777777777777778,
              "#fb9f3a"
             ],
             [
              0.8888888888888888,
              "#fdca26"
             ],
             [
              1,
              "#f0f921"
             ]
            ],
            "type": "contour"
           }
          ],
          "contourcarpet": [
           {
            "colorbar": {
             "outlinewidth": 0,
             "ticks": ""
            },
            "type": "contourcarpet"
           }
          ],
          "heatmap": [
           {
            "colorbar": {
             "outlinewidth": 0,
             "ticks": ""
            },
            "colorscale": [
             [
              0,
              "#0d0887"
             ],
             [
              0.1111111111111111,
              "#46039f"
             ],
             [
              0.2222222222222222,
              "#7201a8"
             ],
             [
              0.3333333333333333,
              "#9c179e"
             ],
             [
              0.4444444444444444,
              "#bd3786"
             ],
             [
              0.5555555555555556,
              "#d8576b"
             ],
             [
              0.6666666666666666,
              "#ed7953"
             ],
             [
              0.7777777777777778,
              "#fb9f3a"
             ],
             [
              0.8888888888888888,
              "#fdca26"
             ],
             [
              1,
              "#f0f921"
             ]
            ],
            "type": "heatmap"
           }
          ],
          "heatmapgl": [
           {
            "colorbar": {
             "outlinewidth": 0,
             "ticks": ""
            },
            "colorscale": [
             [
              0,
              "#0d0887"
             ],
             [
              0.1111111111111111,
              "#46039f"
             ],
             [
              0.2222222222222222,
              "#7201a8"
             ],
             [
              0.3333333333333333,
              "#9c179e"
             ],
             [
              0.4444444444444444,
              "#bd3786"
             ],
             [
              0.5555555555555556,
              "#d8576b"
             ],
             [
              0.6666666666666666,
              "#ed7953"
             ],
             [
              0.7777777777777778,
              "#fb9f3a"
             ],
             [
              0.8888888888888888,
              "#fdca26"
             ],
             [
              1,
              "#f0f921"
             ]
            ],
            "type": "heatmapgl"
           }
          ],
          "histogram": [
           {
            "marker": {
             "pattern": {
              "fillmode": "overlay",
              "size": 10,
              "solidity": 0.2
             }
            },
            "type": "histogram"
           }
          ],
          "histogram2d": [
           {
            "colorbar": {
             "outlinewidth": 0,
             "ticks": ""
            },
            "colorscale": [
             [
              0,
              "#0d0887"
             ],
             [
              0.1111111111111111,
              "#46039f"
             ],
             [
              0.2222222222222222,
              "#7201a8"
             ],
             [
              0.3333333333333333,
              "#9c179e"
             ],
             [
              0.4444444444444444,
              "#bd3786"
             ],
             [
              0.5555555555555556,
              "#d8576b"
             ],
             [
              0.6666666666666666,
              "#ed7953"
             ],
             [
              0.7777777777777778,
              "#fb9f3a"
             ],
             [
              0.8888888888888888,
              "#fdca26"
             ],
             [
              1,
              "#f0f921"
             ]
            ],
            "type": "histogram2d"
           }
          ],
          "histogram2dcontour": [
           {
            "colorbar": {
             "outlinewidth": 0,
             "ticks": ""
            },
            "colorscale": [
             [
              0,
              "#0d0887"
             ],
             [
              0.1111111111111111,
              "#46039f"
             ],
             [
              0.2222222222222222,
              "#7201a8"
             ],
             [
              0.3333333333333333,
              "#9c179e"
             ],
             [
              0.4444444444444444,
              "#bd3786"
             ],
             [
              0.5555555555555556,
              "#d8576b"
             ],
             [
              0.6666666666666666,
              "#ed7953"
             ],
             [
              0.7777777777777778,
              "#fb9f3a"
             ],
             [
              0.8888888888888888,
              "#fdca26"
             ],
             [
              1,
              "#f0f921"
             ]
            ],
            "type": "histogram2dcontour"
           }
          ],
          "mesh3d": [
           {
            "colorbar": {
             "outlinewidth": 0,
             "ticks": ""
            },
            "type": "mesh3d"
           }
          ],
          "parcoords": [
           {
            "line": {
             "colorbar": {
              "outlinewidth": 0,
              "ticks": ""
             }
            },
            "type": "parcoords"
           }
          ],
          "pie": [
           {
            "automargin": true,
            "type": "pie"
           }
          ],
          "scatter": [
           {
            "fillpattern": {
             "fillmode": "overlay",
             "size": 10,
             "solidity": 0.2
            },
            "type": "scatter"
           }
          ],
          "scatter3d": [
           {
            "line": {
             "colorbar": {
              "outlinewidth": 0,
              "ticks": ""
             }
            },
            "marker": {
             "colorbar": {
              "outlinewidth": 0,
              "ticks": ""
             }
            },
            "type": "scatter3d"
           }
          ],
          "scattercarpet": [
           {
            "marker": {
             "colorbar": {
              "outlinewidth": 0,
              "ticks": ""
             }
            },
            "type": "scattercarpet"
           }
          ],
          "scattergeo": [
           {
            "marker": {
             "colorbar": {
              "outlinewidth": 0,
              "ticks": ""
             }
            },
            "type": "scattergeo"
           }
          ],
          "scattergl": [
           {
            "marker": {
             "colorbar": {
              "outlinewidth": 0,
              "ticks": ""
             }
            },
            "type": "scattergl"
           }
          ],
          "scattermapbox": [
           {
            "marker": {
             "colorbar": {
              "outlinewidth": 0,
              "ticks": ""
             }
            },
            "type": "scattermapbox"
           }
          ],
          "scatterpolar": [
           {
            "marker": {
             "colorbar": {
              "outlinewidth": 0,
              "ticks": ""
             }
            },
            "type": "scatterpolar"
           }
          ],
          "scatterpolargl": [
           {
            "marker": {
             "colorbar": {
              "outlinewidth": 0,
              "ticks": ""
             }
            },
            "type": "scatterpolargl"
           }
          ],
          "scatterternary": [
           {
            "marker": {
             "colorbar": {
              "outlinewidth": 0,
              "ticks": ""
             }
            },
            "type": "scatterternary"
           }
          ],
          "surface": [
           {
            "colorbar": {
             "outlinewidth": 0,
             "ticks": ""
            },
            "colorscale": [
             [
              0,
              "#0d0887"
             ],
             [
              0.1111111111111111,
              "#46039f"
             ],
             [
              0.2222222222222222,
              "#7201a8"
             ],
             [
              0.3333333333333333,
              "#9c179e"
             ],
             [
              0.4444444444444444,
              "#bd3786"
             ],
             [
              0.5555555555555556,
              "#d8576b"
             ],
             [
              0.6666666666666666,
              "#ed7953"
             ],
             [
              0.7777777777777778,
              "#fb9f3a"
             ],
             [
              0.8888888888888888,
              "#fdca26"
             ],
             [
              1,
              "#f0f921"
             ]
            ],
            "type": "surface"
           }
          ],
          "table": [
           {
            "cells": {
             "fill": {
              "color": "#EBF0F8"
             },
             "line": {
              "color": "white"
             }
            },
            "header": {
             "fill": {
              "color": "#C8D4E3"
             },
             "line": {
              "color": "white"
             }
            },
            "type": "table"
           }
          ]
         },
         "layout": {
          "annotationdefaults": {
           "arrowcolor": "#2a3f5f",
           "arrowhead": 0,
           "arrowwidth": 1
          },
          "autotypenumbers": "strict",
          "coloraxis": {
           "colorbar": {
            "outlinewidth": 0,
            "ticks": ""
           }
          },
          "colorscale": {
           "diverging": [
            [
             0,
             "#8e0152"
            ],
            [
             0.1,
             "#c51b7d"
            ],
            [
             0.2,
             "#de77ae"
            ],
            [
             0.3,
             "#f1b6da"
            ],
            [
             0.4,
             "#fde0ef"
            ],
            [
             0.5,
             "#f7f7f7"
            ],
            [
             0.6,
             "#e6f5d0"
            ],
            [
             0.7,
             "#b8e186"
            ],
            [
             0.8,
             "#7fbc41"
            ],
            [
             0.9,
             "#4d9221"
            ],
            [
             1,
             "#276419"
            ]
           ],
           "sequential": [
            [
             0,
             "#0d0887"
            ],
            [
             0.1111111111111111,
             "#46039f"
            ],
            [
             0.2222222222222222,
             "#7201a8"
            ],
            [
             0.3333333333333333,
             "#9c179e"
            ],
            [
             0.4444444444444444,
             "#bd3786"
            ],
            [
             0.5555555555555556,
             "#d8576b"
            ],
            [
             0.6666666666666666,
             "#ed7953"
            ],
            [
             0.7777777777777778,
             "#fb9f3a"
            ],
            [
             0.8888888888888888,
             "#fdca26"
            ],
            [
             1,
             "#f0f921"
            ]
           ],
           "sequentialminus": [
            [
             0,
             "#0d0887"
            ],
            [
             0.1111111111111111,
             "#46039f"
            ],
            [
             0.2222222222222222,
             "#7201a8"
            ],
            [
             0.3333333333333333,
             "#9c179e"
            ],
            [
             0.4444444444444444,
             "#bd3786"
            ],
            [
             0.5555555555555556,
             "#d8576b"
            ],
            [
             0.6666666666666666,
             "#ed7953"
            ],
            [
             0.7777777777777778,
             "#fb9f3a"
            ],
            [
             0.8888888888888888,
             "#fdca26"
            ],
            [
             1,
             "#f0f921"
            ]
           ]
          },
          "colorway": [
           "#636efa",
           "#EF553B",
           "#00cc96",
           "#ab63fa",
           "#FFA15A",
           "#19d3f3",
           "#FF6692",
           "#B6E880",
           "#FF97FF",
           "#FECB52"
          ],
          "font": {
           "color": "#2a3f5f"
          },
          "geo": {
           "bgcolor": "white",
           "lakecolor": "white",
           "landcolor": "#E5ECF6",
           "showlakes": true,
           "showland": true,
           "subunitcolor": "white"
          },
          "hoverlabel": {
           "align": "left"
          },
          "hovermode": "closest",
          "mapbox": {
           "style": "light"
          },
          "paper_bgcolor": "white",
          "plot_bgcolor": "#E5ECF6",
          "polar": {
           "angularaxis": {
            "gridcolor": "white",
            "linecolor": "white",
            "ticks": ""
           },
           "bgcolor": "#E5ECF6",
           "radialaxis": {
            "gridcolor": "white",
            "linecolor": "white",
            "ticks": ""
           }
          },
          "scene": {
           "xaxis": {
            "backgroundcolor": "#E5ECF6",
            "gridcolor": "white",
            "gridwidth": 2,
            "linecolor": "white",
            "showbackground": true,
            "ticks": "",
            "zerolinecolor": "white"
           },
           "yaxis": {
            "backgroundcolor": "#E5ECF6",
            "gridcolor": "white",
            "gridwidth": 2,
            "linecolor": "white",
            "showbackground": true,
            "ticks": "",
            "zerolinecolor": "white"
           },
           "zaxis": {
            "backgroundcolor": "#E5ECF6",
            "gridcolor": "white",
            "gridwidth": 2,
            "linecolor": "white",
            "showbackground": true,
            "ticks": "",
            "zerolinecolor": "white"
           }
          },
          "shapedefaults": {
           "line": {
            "color": "#2a3f5f"
           }
          },
          "ternary": {
           "aaxis": {
            "gridcolor": "white",
            "linecolor": "white",
            "ticks": ""
           },
           "baxis": {
            "gridcolor": "white",
            "linecolor": "white",
            "ticks": ""
           },
           "bgcolor": "#E5ECF6",
           "caxis": {
            "gridcolor": "white",
            "linecolor": "white",
            "ticks": ""
           }
          },
          "title": {
           "x": 0.05
          },
          "xaxis": {
           "automargin": true,
           "gridcolor": "white",
           "linecolor": "white",
           "ticks": "",
           "title": {
            "standoff": 15
           },
           "zerolinecolor": "white",
           "zerolinewidth": 2
          },
          "yaxis": {
           "automargin": true,
           "gridcolor": "white",
           "linecolor": "white",
           "ticks": "",
           "title": {
            "standoff": 15
           },
           "zerolinecolor": "white",
           "zerolinewidth": 2
          }
         }
        },
        "xaxis": {
         "anchor": "y",
         "domain": [
          0,
          1
         ],
         "title": {
          "text": "group"
         }
        },
        "yaxis": {
         "anchor": "x",
         "domain": [
          0,
          1
         ],
         "title": {
          "text": "all_cells - Number of Objects"
         }
        }
       }
      },
      "text/html": [
       "<div>                            <div id=\"43449cc3-3684-443e-82bf-5cd031b34591\" class=\"plotly-graph-div\" style=\"height:525px; width:100%;\"></div>            <script type=\"text/javascript\">                require([\"plotly\"], function(Plotly) {                    window.PLOTLYENV=window.PLOTLYENV || {};                                    if (document.getElementById(\"43449cc3-3684-443e-82bf-5cd031b34591\")) {                    Plotly.newPlot(                        \"43449cc3-3684-443e-82bf-5cd031b34591\",                        [{\"alignmentgroup\":\"True\",\"hovertemplate\":\"group=%{x}<br>all_cells - Number of Objects=%{y}<extra></extra>\",\"legendgroup\":\"\",\"marker\":{\"color\":\"#636efa\",\"pattern\":{\"shape\":\"\"}},\"name\":\"\",\"offsetgroup\":\"\",\"orientation\":\"v\",\"showlegend\":false,\"textposition\":\"auto\",\"x\":[\"HCDMSO\",\"MDMSO\",\"Mmdivi1 25uM\",\"PREDMSO\",\"PREmdivi1 25uM\",\"SDMSO\",\"Smdivi1 25uM\"],\"xaxis\":\"x\",\"y\":[629.65,640.7096774193549,641.3333333333334,646.0857142857143,673.258064516129,672.5714285714286,697.0487804878048],\"yaxis\":\"y\",\"type\":\"bar\"}],                        {\"template\":{\"data\":{\"histogram2dcontour\":[{\"type\":\"histogram2dcontour\",\"colorbar\":{\"outlinewidth\":0,\"ticks\":\"\"},\"colorscale\":[[0.0,\"#0d0887\"],[0.1111111111111111,\"#46039f\"],[0.2222222222222222,\"#7201a8\"],[0.3333333333333333,\"#9c179e\"],[0.4444444444444444,\"#bd3786\"],[0.5555555555555556,\"#d8576b\"],[0.6666666666666666,\"#ed7953\"],[0.7777777777777778,\"#fb9f3a\"],[0.8888888888888888,\"#fdca26\"],[1.0,\"#f0f921\"]]}],\"choropleth\":[{\"type\":\"choropleth\",\"colorbar\":{\"outlinewidth\":0,\"ticks\":\"\"}}],\"histogram2d\":[{\"type\":\"histogram2d\",\"colorbar\":{\"outlinewidth\":0,\"ticks\":\"\"},\"colorscale\":[[0.0,\"#0d0887\"],[0.1111111111111111,\"#46039f\"],[0.2222222222222222,\"#7201a8\"],[0.3333333333333333,\"#9c179e\"],[0.4444444444444444,\"#bd3786\"],[0.5555555555555556,\"#d8576b\"],[0.6666666666666666,\"#ed7953\"],[0.7777777777777778,\"#fb9f3a\"],[0.8888888888888888,\"#fdca26\"],[1.0,\"#f0f921\"]]}],\"heatmap\":[{\"type\":\"heatmap\",\"colorbar\":{\"outlinewidth\":0,\"ticks\":\"\"},\"colorscale\":[[0.0,\"#0d0887\"],[0.1111111111111111,\"#46039f\"],[0.2222222222222222,\"#7201a8\"],[0.3333333333333333,\"#9c179e\"],[0.4444444444444444,\"#bd3786\"],[0.5555555555555556,\"#d8576b\"],[0.6666666666666666,\"#ed7953\"],[0.7777777777777778,\"#fb9f3a\"],[0.8888888888888888,\"#fdca26\"],[1.0,\"#f0f921\"]]}],\"heatmapgl\":[{\"type\":\"heatmapgl\",\"colorbar\":{\"outlinewidth\":0,\"ticks\":\"\"},\"colorscale\":[[0.0,\"#0d0887\"],[0.1111111111111111,\"#46039f\"],[0.2222222222222222,\"#7201a8\"],[0.3333333333333333,\"#9c179e\"],[0.4444444444444444,\"#bd3786\"],[0.5555555555555556,\"#d8576b\"],[0.6666666666666666,\"#ed7953\"],[0.7777777777777778,\"#fb9f3a\"],[0.8888888888888888,\"#fdca26\"],[1.0,\"#f0f921\"]]}],\"contourcarpet\":[{\"type\":\"contourcarpet\",\"colorbar\":{\"outlinewidth\":0,\"ticks\":\"\"}}],\"contour\":[{\"type\":\"contour\",\"colorbar\":{\"outlinewidth\":0,\"ticks\":\"\"},\"colorscale\":[[0.0,\"#0d0887\"],[0.1111111111111111,\"#46039f\"],[0.2222222222222222,\"#7201a8\"],[0.3333333333333333,\"#9c179e\"],[0.4444444444444444,\"#bd3786\"],[0.5555555555555556,\"#d8576b\"],[0.6666666666666666,\"#ed7953\"],[0.7777777777777778,\"#fb9f3a\"],[0.8888888888888888,\"#fdca26\"],[1.0,\"#f0f921\"]]}],\"surface\":[{\"type\":\"surface\",\"colorbar\":{\"outlinewidth\":0,\"ticks\":\"\"},\"colorscale\":[[0.0,\"#0d0887\"],[0.1111111111111111,\"#46039f\"],[0.2222222222222222,\"#7201a8\"],[0.3333333333333333,\"#9c179e\"],[0.4444444444444444,\"#bd3786\"],[0.5555555555555556,\"#d8576b\"],[0.6666666666666666,\"#ed7953\"],[0.7777777777777778,\"#fb9f3a\"],[0.8888888888888888,\"#fdca26\"],[1.0,\"#f0f921\"]]}],\"mesh3d\":[{\"type\":\"mesh3d\",\"colorbar\":{\"outlinewidth\":0,\"ticks\":\"\"}}],\"scatter\":[{\"fillpattern\":{\"fillmode\":\"overlay\",\"size\":10,\"solidity\":0.2},\"type\":\"scatter\"}],\"parcoords\":[{\"type\":\"parcoords\",\"line\":{\"colorbar\":{\"outlinewidth\":0,\"ticks\":\"\"}}}],\"scatterpolargl\":[{\"type\":\"scatterpolargl\",\"marker\":{\"colorbar\":{\"outlinewidth\":0,\"ticks\":\"\"}}}],\"bar\":[{\"error_x\":{\"color\":\"#2a3f5f\"},\"error_y\":{\"color\":\"#2a3f5f\"},\"marker\":{\"line\":{\"color\":\"#E5ECF6\",\"width\":0.5},\"pattern\":{\"fillmode\":\"overlay\",\"size\":10,\"solidity\":0.2}},\"type\":\"bar\"}],\"scattergeo\":[{\"type\":\"scattergeo\",\"marker\":{\"colorbar\":{\"outlinewidth\":0,\"ticks\":\"\"}}}],\"scatterpolar\":[{\"type\":\"scatterpolar\",\"marker\":{\"colorbar\":{\"outlinewidth\":0,\"ticks\":\"\"}}}],\"histogram\":[{\"marker\":{\"pattern\":{\"fillmode\":\"overlay\",\"size\":10,\"solidity\":0.2}},\"type\":\"histogram\"}],\"scattergl\":[{\"type\":\"scattergl\",\"marker\":{\"colorbar\":{\"outlinewidth\":0,\"ticks\":\"\"}}}],\"scatter3d\":[{\"type\":\"scatter3d\",\"line\":{\"colorbar\":{\"outlinewidth\":0,\"ticks\":\"\"}},\"marker\":{\"colorbar\":{\"outlinewidth\":0,\"ticks\":\"\"}}}],\"scattermapbox\":[{\"type\":\"scattermapbox\",\"marker\":{\"colorbar\":{\"outlinewidth\":0,\"ticks\":\"\"}}}],\"scatterternary\":[{\"type\":\"scatterternary\",\"marker\":{\"colorbar\":{\"outlinewidth\":0,\"ticks\":\"\"}}}],\"scattercarpet\":[{\"type\":\"scattercarpet\",\"marker\":{\"colorbar\":{\"outlinewidth\":0,\"ticks\":\"\"}}}],\"carpet\":[{\"aaxis\":{\"endlinecolor\":\"#2a3f5f\",\"gridcolor\":\"white\",\"linecolor\":\"white\",\"minorgridcolor\":\"white\",\"startlinecolor\":\"#2a3f5f\"},\"baxis\":{\"endlinecolor\":\"#2a3f5f\",\"gridcolor\":\"white\",\"linecolor\":\"white\",\"minorgridcolor\":\"white\",\"startlinecolor\":\"#2a3f5f\"},\"type\":\"carpet\"}],\"table\":[{\"cells\":{\"fill\":{\"color\":\"#EBF0F8\"},\"line\":{\"color\":\"white\"}},\"header\":{\"fill\":{\"color\":\"#C8D4E3\"},\"line\":{\"color\":\"white\"}},\"type\":\"table\"}],\"barpolar\":[{\"marker\":{\"line\":{\"color\":\"#E5ECF6\",\"width\":0.5},\"pattern\":{\"fillmode\":\"overlay\",\"size\":10,\"solidity\":0.2}},\"type\":\"barpolar\"}],\"pie\":[{\"automargin\":true,\"type\":\"pie\"}]},\"layout\":{\"autotypenumbers\":\"strict\",\"colorway\":[\"#636efa\",\"#EF553B\",\"#00cc96\",\"#ab63fa\",\"#FFA15A\",\"#19d3f3\",\"#FF6692\",\"#B6E880\",\"#FF97FF\",\"#FECB52\"],\"font\":{\"color\":\"#2a3f5f\"},\"hovermode\":\"closest\",\"hoverlabel\":{\"align\":\"left\"},\"paper_bgcolor\":\"white\",\"plot_bgcolor\":\"#E5ECF6\",\"polar\":{\"bgcolor\":\"#E5ECF6\",\"angularaxis\":{\"gridcolor\":\"white\",\"linecolor\":\"white\",\"ticks\":\"\"},\"radialaxis\":{\"gridcolor\":\"white\",\"linecolor\":\"white\",\"ticks\":\"\"}},\"ternary\":{\"bgcolor\":\"#E5ECF6\",\"aaxis\":{\"gridcolor\":\"white\",\"linecolor\":\"white\",\"ticks\":\"\"},\"baxis\":{\"gridcolor\":\"white\",\"linecolor\":\"white\",\"ticks\":\"\"},\"caxis\":{\"gridcolor\":\"white\",\"linecolor\":\"white\",\"ticks\":\"\"}},\"coloraxis\":{\"colorbar\":{\"outlinewidth\":0,\"ticks\":\"\"}},\"colorscale\":{\"sequential\":[[0.0,\"#0d0887\"],[0.1111111111111111,\"#46039f\"],[0.2222222222222222,\"#7201a8\"],[0.3333333333333333,\"#9c179e\"],[0.4444444444444444,\"#bd3786\"],[0.5555555555555556,\"#d8576b\"],[0.6666666666666666,\"#ed7953\"],[0.7777777777777778,\"#fb9f3a\"],[0.8888888888888888,\"#fdca26\"],[1.0,\"#f0f921\"]],\"sequentialminus\":[[0.0,\"#0d0887\"],[0.1111111111111111,\"#46039f\"],[0.2222222222222222,\"#7201a8\"],[0.3333333333333333,\"#9c179e\"],[0.4444444444444444,\"#bd3786\"],[0.5555555555555556,\"#d8576b\"],[0.6666666666666666,\"#ed7953\"],[0.7777777777777778,\"#fb9f3a\"],[0.8888888888888888,\"#fdca26\"],[1.0,\"#f0f921\"]],\"diverging\":[[0,\"#8e0152\"],[0.1,\"#c51b7d\"],[0.2,\"#de77ae\"],[0.3,\"#f1b6da\"],[0.4,\"#fde0ef\"],[0.5,\"#f7f7f7\"],[0.6,\"#e6f5d0\"],[0.7,\"#b8e186\"],[0.8,\"#7fbc41\"],[0.9,\"#4d9221\"],[1,\"#276419\"]]},\"xaxis\":{\"gridcolor\":\"white\",\"linecolor\":\"white\",\"ticks\":\"\",\"title\":{\"standoff\":15},\"zerolinecolor\":\"white\",\"automargin\":true,\"zerolinewidth\":2},\"yaxis\":{\"gridcolor\":\"white\",\"linecolor\":\"white\",\"ticks\":\"\",\"title\":{\"standoff\":15},\"zerolinecolor\":\"white\",\"automargin\":true,\"zerolinewidth\":2},\"scene\":{\"xaxis\":{\"backgroundcolor\":\"#E5ECF6\",\"gridcolor\":\"white\",\"linecolor\":\"white\",\"showbackground\":true,\"ticks\":\"\",\"zerolinecolor\":\"white\",\"gridwidth\":2},\"yaxis\":{\"backgroundcolor\":\"#E5ECF6\",\"gridcolor\":\"white\",\"linecolor\":\"white\",\"showbackground\":true,\"ticks\":\"\",\"zerolinecolor\":\"white\",\"gridwidth\":2},\"zaxis\":{\"backgroundcolor\":\"#E5ECF6\",\"gridcolor\":\"white\",\"linecolor\":\"white\",\"showbackground\":true,\"ticks\":\"\",\"zerolinecolor\":\"white\",\"gridwidth\":2}},\"shapedefaults\":{\"line\":{\"color\":\"#2a3f5f\"}},\"annotationdefaults\":{\"arrowcolor\":\"#2a3f5f\",\"arrowhead\":0,\"arrowwidth\":1},\"geo\":{\"bgcolor\":\"white\",\"landcolor\":\"#E5ECF6\",\"subunitcolor\":\"white\",\"showland\":true,\"showlakes\":true,\"lakecolor\":\"white\"},\"title\":{\"x\":0.05},\"mapbox\":{\"style\":\"light\"}}},\"xaxis\":{\"anchor\":\"y\",\"domain\":[0.0,1.0],\"title\":{\"text\":\"group\"}},\"yaxis\":{\"anchor\":\"x\",\"domain\":[0.0,1.0],\"title\":{\"text\":\"all_cells - Number of Objects\"}},\"legend\":{\"tracegroupgap\":0},\"margin\":{\"t\":60},\"barmode\":\"group\"},                        {\"responsive\": true}                    ).then(function(){\n",
       "                            \n",
       "var gd = document.getElementById('43449cc3-3684-443e-82bf-5cd031b34591');\n",
       "var x = new MutationObserver(function (mutations, observer) {{\n",
       "        var display = window.getComputedStyle(gd).display;\n",
       "        if (!display || display === 'none') {{\n",
       "            console.log([gd, 'removed!']);\n",
       "            Plotly.purge(gd);\n",
       "            observer.disconnect();\n",
       "        }}\n",
       "}});\n",
       "\n",
       "// Listen for the removal of the full notebook cells\n",
       "var notebookContainer = gd.closest('#notebook-container');\n",
       "if (notebookContainer) {{\n",
       "    x.observe(notebookContainer, {childList: true});\n",
       "}}\n",
       "\n",
       "// Listen for the clearing of the current output cell\n",
       "var outputEl = gd.closest('.output');\n",
       "if (outputEl) {{\n",
       "    x.observe(outputEl, {childList: true});\n",
       "}}\n",
       "\n",
       "                        })                };                });            </script>        </div>"
      ]
     },
     "metadata": {},
     "output_type": "display_data"
    }
   ],
   "source": [
    "#count per group\n",
    "mfn2_df_count = mfn2_df.groupby(level=1).mean()\n",
    "mfn2_df_count = mfn2_df_count.reset_index()\n",
    "count_cells = px.bar(mfn2_df_count, x = \"group\", y = \"all_cells - Number of Objects\",\n",
    "            barmode = 'group')\n",
    "\n",
    "count_cells.show()"
   ]
  },
  {
   "cell_type": "code",
   "execution_count": null,
   "id": "99966ccb",
   "metadata": {},
   "outputs": [],
   "source": [
    "#keep features by corelation analysis\n",
    "mfn2_df2 = mfn2_df[['group', 'group_with_id', \"group_with_p\", \"Cell ID\", \"group_p\",\n",
    "                           \"spots_chanel_4_final - Intensity_Spot chanel_4_final Mean - Mean per Well\", \"total_ir_chanel_4_normalized\"]]\n",
    "mfn2_df2.columns = [str(col) + '_mfn2' for col in mfn2_df2.columns]\n",
    "mfn2_df2 = mfn2_df2.rename(\n",
    "     columns={\"group_mfn2\":\"group\",\n",
    "              \"group_with_id_mfn2\":\"group_with_id\",\n",
    "              \"group_with_p_mfn2\":\"group_with_p\",\n",
    "              \"group_p_mfn2\":\"group_p\",\n",
    "              \"Cell ID_mfn2\":\"Cell_id\",\n",
    "              \"spots_chanel_4_final - Intensity_Spot chanel_4_final Mean - Mean per Well_mfn2\":\"mfn2_intensity\",\n",
    "              \"total_ir_chanel_4_normalized_mfn2\":\"mfn2_area\"})\n",
    "print(mfn2_df2)\n",
    "mfn2_df2.to_csv(path + \"//\" + 'mfn2_df2.csv', index=None)    "
   ]
  },
  {
   "cell_type": "code",
   "execution_count": null,
   "id": "2a935338",
   "metadata": {},
   "outputs": [],
   "source": [
    "#summary 2\n",
    "mfn2_df_sum = mfn2_df2.drop(columns=[\"group\", \"group_with_id\",\"group_with_p\", \"group_p\"])\n",
    "mfn2_df_sum = mfn2_df_sum.reset_index()\n",
    "mfn2_df_sum = mfn2_df_sum.drop(columns=[\"Cell_id\", \"group_with_id\",\"group\", \"level_0\", \"group_p\"])\n",
    "sum2 = summarize_dataframe(mfn2_df_sum, \"group_with_p\")\n",
    "sum2 = sum2.reset_index()\n",
    "sum2.to_csv(path + \"//\" + 'mfn2_sum2b.csv', index=None)"
   ]
  },
  {
   "cell_type": "code",
   "execution_count": null,
   "id": "fcade0bc",
   "metadata": {},
   "outputs": [],
   "source": [
    "# OUTLIER DETECTION MODE \n",
    "DataFrame_OutliersDetections = mfn2_df2.copy()\n",
    "types = mfn2_df2[\"group\"].unique()\n",
    "mask = []\n",
    "features = mfn2_df2.columns[5:]\n",
    "#['LysoSpots-RSI', 'LysoSpots-CSI', 'LysoSpots-USPI', 'LysoSpots-SC', 'LysoSpots-SBI', 'LysoSpots-RI', 'LysoSpots-STRI', 'LysoSpots-SAUM', 'LysoSpots-SR', 'TmreSpots-RSI', 'TmreSpots-CSI', 'TmreSpots-USPI', 'TmreSpots-SC', 'TmreSpots-SBI', 'TmreSpots-SAPX', 'TmreSpots-RI', 'TmreSpots-STRI', 'TmreSpots-SAUM', 'TmreIArea-UM', 'TmreIArea-R', 'LysoIArea-UM', 'LysoIArea-R', 'TmreIntensityMean', 'TmreIntensitySum', 'Calceinarea', 'CalceinR', 'Nucarea', 'NucR', 'TmreTSarea', 'LysointensityMean', 'LysointensitySum', 'LysoTSarea', 'CalceinIntensityMean', 'NucIntensityMean']\n",
    "# features = ['LysoSpots-RSI', 'LysoSpots-CSI', 'LysoSpots-USPI', 'LysoSpots-SC', 'LysoSpots-SBI', 'LysoSpots-SAPX', 'LysoSpots-RI', 'LysoSpots-STRI', 'LysoSpots-SAUM', 'LysoSpots-SR', 'TmreSpots-RSI', 'TmreSpots-CSI', 'TmreSpots-USPI', 'TmreSpots-SC', 'TmreSpots-SBI', 'TmreSpots-SAPX', 'TmreSpots-RI', 'TmreSpots-STRI', 'TmreSpots-SAUM', 'TmreIArea-UM', 'TmreIArea-R', 'LysoIArea-UM', 'LysoIArea-R', 'TmreIntensityMean', 'TmreIntensitySum', 'Calceinarea', 'CalceinR', 'Nucarea', 'NucR', 'TmreTSarea', 'LysointensityMean', 'LysointensitySum', 'LysoTSarea', 'CalceinIntensityMean', 'NucIntensityMean']\n",
    "print(types)\n",
    "# detector_list = ['pca_approx', 'robust_cov']\n",
    "\n",
    "\n",
    "detector_list = [\n",
    "    \n",
    "        (\n",
    "        \"Local Outlier Factor 8\",\n",
    "        LocalOutlierFactor(n_neighbors=8),\n",
    "    ),\n",
    "    (\n",
    "        \"Local Outlier Factor 10\",\n",
    "        LocalOutlierFactor(n_neighbors=10),\n",
    "    ),\n",
    "        (\n",
    "         \"Local Outlier Factor 30\",\n",
    "        LocalOutlierFactor(n_neighbors=30),\n",
    "        ),\n",
    "    ]"
   ]
  },
  {
   "cell_type": "code",
   "execution_count": 55,
   "id": "a188efdd",
   "metadata": {},
   "outputs": [],
   "source": [
    "for name, algorithm in detector_list:\n",
    "    errors = np.full(len(DataFrame_OutliersDetections),fill_value=np.nan)\n",
    "    outliers = np.full(len(DataFrame_OutliersDetections),fill_value=np.nan)\n",
    "\n",
    "    for type in types:\n",
    "        x = DataFrame_OutliersDetections.loc[:,features].values\n",
    "        F = x.sum(1)\n",
    "        mask = np.zeros(x.shape[0])\n",
    "        mask[np.isfinite(F)] = 1\n",
    "        mask_type = mask * np.array(DataFrame_OutliersDetections[\"group\"] == type)\n",
    "        Curr_df = DataFrame_OutliersDetections.loc[mask_type==1,features]\n",
    "\n",
    "        x = Curr_df.values\n",
    "        if name == 'pca_approx':\n",
    "\n",
    "            x = StandardScaler().fit_transform(x)\n",
    "            # F = x.sum(1)\n",
    "            # x = x[np.isfinite(F),:]\n",
    "            # mask[1-np.isfinite(F)] = False\n",
    "            # pd.DataFrame(data = Curr_df, columns = features).head()\n",
    "            # pca = PCA(n_components=2)\n",
    "            lower_dimensional_data = algorithm.fit_transform(x)\n",
    "            pproximation = algorithm.inverse_transform(lower_dimensional_data)\n",
    "\n",
    "            err = np.linalg.norm(x-pproximation,2,axis=1)\n",
    "\n",
    "            errors[mask_type==1] = err\n",
    "            outliers[mask_type==1] = (err < 5) * 2 - 1\n",
    "            if False:\n",
    "                plt.scatter(lower_dimensional_data[:,0],lower_dimensional_data[:,1],c=err>5)\n",
    "                plt.title(type)\n",
    "                plt.show()\n",
    "        else:\n",
    "            algorithm.fit(x)\n",
    "            if name == \"Robust covariance\":\n",
    "                errors[mask_type==1] = algorithm.mahalanobis(x)\n",
    "                outliers[mask_type==1] = algorithm.predict(x)\n",
    "\n",
    "            if  \"Local Outlier Factor\" in name:\n",
    "                errors[mask_type==1] = algorithm.negative_outlier_factor_\n",
    "                outliers[mask_type==1] = algorithm.fit_predict(x)\n",
    "            else:\n",
    "                y_pred = algorithm.fit(x).predict(x)\n",
    "\n",
    "\n",
    "\n",
    "        # Curr_df[name] = errors[mask_type==1]\n",
    "        # Curr_df[f'{name}_outliers'] = outliers[mask_type==1]\n",
    "        # Curr_df.set_index(name, inplace = True,\n",
    "        #                         append = True, drop = False)\n",
    "        # file =   f'{type}_df_outliers_det.csv'\n",
    "        # Curr_df.to_csv(file)\n",
    "    DataFrame_OutliersDetections[name] = errors\n",
    "    DataFrame_OutliersDetections[f'{name}_outliers'] = outliers\n",
    "    DataFrame_OutliersDetections.set_index(name, inplace = True,\n",
    "                            append = True, drop = False)\n",
    "\n",
    "    DataFrame_OutliersDetections.to_csv(path + \"//\" + 'mfn2_df4.csv', index=None)    "
   ]
  },
  {
   "cell_type": "code",
   "execution_count": null,
   "id": "8f4d6601",
   "metadata": {},
   "outputs": [],
   "source": [
    "DataFrame_OutliersDetections[\"group\"].value_counts()"
   ]
  },
  {
   "cell_type": "code",
   "execution_count": null,
   "id": "f854d0fd",
   "metadata": {},
   "outputs": [],
   "source": [
    "df_clean = DataFrame_OutliersDetections[DataFrame_OutliersDetections['Local Outlier Factor 10_outliers'] == 1]\n",
    "df_clean[\"group\"].value_counts()"
   ]
  },
  {
   "cell_type": "code",
   "execution_count": null,
   "id": "8a74b3eb",
   "metadata": {},
   "outputs": [],
   "source": [
    "## export for integ"
   ]
  },
  {
   "cell_type": "code",
   "execution_count": null,
   "id": "14c74ccd",
   "metadata": {},
   "outputs": [],
   "source": [
    "df_integ = df_clean.groupby(level=2).mean()\n",
    "df_integ = df_integ.reset_index()"
   ]
  },
  {
   "cell_type": "code",
   "execution_count": 86,
   "id": "f69c7aa4",
   "metadata": {},
   "outputs": [],
   "source": [
    "df_clean.to_csv(path + \"//\" + 'mfn2_df5.csv', index=None)    \n",
    "df_integ.to_csv(path + \"//\" + 'mfn2_df_integ.csv', index=None)    "
   ]
  },
  {
   "cell_type": "code",
   "execution_count": null,
   "id": "2c92f4ab",
   "metadata": {},
   "outputs": [],
   "source": [
    "#normalize data"
   ]
  },
  {
   "cell_type": "code",
   "execution_count": 66,
   "id": "2556ed88",
   "metadata": {
    "scrolled": false
   },
   "outputs": [
    {
     "name": "stderr",
     "output_type": "stream",
     "text": [
      "C:\\Users\\Uri8s\\AppData\\Local\\Temp/ipykernel_28376/1008584565.py:3: FutureWarning:\n",
      "\n",
      "Dropping of nuisance columns in DataFrame reductions (with 'numeric_only=None') is deprecated; in a future version this will raise TypeError.  Select only valid columns before calling the reduction.\n",
      "\n"
     ]
    }
   ],
   "source": [
    "#hc mean norm\n",
    "hc = df_clean[(df_clean['group'] == 'HCDMSO')]\n",
    "hc_mean = hc.mean()\n",
    "Nh_df = df_clean/hc_mean"
   ]
  },
  {
   "cell_type": "code",
   "execution_count": 69,
   "id": "981d84e2",
   "metadata": {},
   "outputs": [],
   "source": [
    "df_log = df_clean.drop(columns=[\"group_with_p\", \"group\", \"group_with_id\", \"group_p\",\n",
    "                           'Local Outlier Factor 8', \"Cell_id\",\n",
    "       'Local Outlier Factor 8_outliers', 'Local Outlier Factor 10',\n",
    "       'Local Outlier Factor 10_outliers', 'Local Outlier Factor 30',\n",
    "       'Local Outlier Factor 30_outliers'])\n",
    "for col in df_log:\n",
    "    df_log[col] = np.log(df_log[col])\n",
    "    NL_df = df_log.copy()"
   ]
  },
  {
   "cell_type": "code",
   "execution_count": 73,
   "id": "72815a33",
   "metadata": {},
   "outputs": [],
   "source": [
    "df_log_2 = df_clean.drop(columns=[\"group_with_p\", \"group\", \"group_with_id\", \"group_p\",\n",
    "                           'Local Outlier Factor 8', \"Cell_id\",\n",
    "       'Local Outlier Factor 8_outliers', 'Local Outlier Factor 10',\n",
    "       'Local Outlier Factor 10_outliers', 'Local Outlier Factor 30',\n",
    "       'Local Outlier Factor 30_outliers'])\n",
    "for col in df_log_2:\n",
    "        df_log_2[col] = np.log(1+df_log_2[col]-min(df_log_2[col]))\n",
    "        NL2_df = df_log_2.copy()"
   ]
  },
  {
   "cell_type": "code",
   "execution_count": 74,
   "id": "ca10dd0d",
   "metadata": {},
   "outputs": [],
   "source": [
    "df_max_scaled = df_clean.drop(columns=[\"group_with_p\", \"group\", \"group_with_id\", \"group_p\",\n",
    "                           'Local Outlier Factor 8', \"Cell_id\",\n",
    "       'Local Outlier Factor 8_outliers', 'Local Outlier Factor 10',\n",
    "       'Local Outlier Factor 10_outliers', 'Local Outlier Factor 30',\n",
    "       'Local Outlier Factor 30_outliers'])\n",
    "for column in df_max_scaled.columns:\n",
    "        df_max_scaled[column] = df_max_scaled[column]  / df_max_scaled[column].abs().max()\n",
    "        NM_df = df_max_scaled.copy()"
   ]
  },
  {
   "cell_type": "code",
   "execution_count": 75,
   "id": "cd339918",
   "metadata": {},
   "outputs": [
    {
     "name": "stdout",
     "output_type": "stream",
     "text": [
      "done\n"
     ]
    }
   ],
   "source": [
    "#initialze the excel writer\n",
    "writer = pd.ExcelWriter(path + '//' + 'mfn2_normalzied-excel.xlsx', engine='xlsxwriter')\n",
    "\n",
    "    #store your dataframes in a  dict, where the key is the sheet name you want\n",
    "frames = {'hc': Nh_df, 'log': NL_df, 'log2':NL2_df,\n",
    "              'max': NM_df}\n",
    "    #frames = {'HCUN': HCUN, 'DSUN': DSUN}\n",
    "    #now loop thru and put each on a specific sheet\n",
    "for sheet, frame in  frames.items(): # .use .items for python 3.X\n",
    "    frame.to_excel(writer, sheet_name = sheet)\n",
    "\n",
    "    #critical last step\n",
    "writer.save()\n",
    "    #writer.close()\n",
    "print('done')"
   ]
  },
  {
   "cell_type": "code",
   "execution_count": null,
   "id": "c4d55dc8",
   "metadata": {},
   "outputs": [],
   "source": [
    "#feat QC"
   ]
  },
  {
   "cell_type": "code",
   "execution_count": null,
   "id": "ddfe35d4",
   "metadata": {},
   "outputs": [],
   "source": [
    "df_var_calc = df_clean.copy()\n",
    "df_var_calc = df_var_calc.drop(columns=['Local Outlier Factor 30', 'Local Outlier Factor 30_outliers',\n",
    "       'Local Outlier Factor 10', 'Local Outlier Factor 10_outliers',\n",
    "       'Local Outlier Factor 8', 'Local Outlier Factor 8_outliers', 'group', \"Cell_id\",\n",
    "       'group_with_id', 'group_with_p', 'group_p'])"
   ]
  },
  {
   "cell_type": "code",
   "execution_count": null,
   "id": "847a3126",
   "metadata": {},
   "outputs": [],
   "source": [
    "#variance each feature\n",
    "feature_variances = df_var_calc.var()\n",
    "\n",
    "##standard deviation each feature\n",
    "feature_std_devs = df_var_calc.std()\n",
    "\n",
    "###CV each feature\n",
    "feature_cv = df_var_calc.std() / df_var_calc.mean()\n",
    "\n",
    "###printresults\n",
    "print(\"Feature Variance:\")\n",
    "print(feature_variances)\n",
    "\n",
    "print(\"\\nFeature Standard Deviation:\")\n",
    "print(feature_std_devs)\n",
    "\n",
    "print(\"\\nFeature Coefficient of Variation (CV):\")\n",
    "print(feature_cv)\n",
    "\n",
    "\n",
    "feature_variances.to_csv(path + \"//\" + 'mfn2-feature_variances.csv', index=None)\n",
    "feature_std_devs.to_csv(path + \"//\" + 'mfn2-feature_std_devs.csv', index=None)\n",
    "feature_cv.to_csv(path + \"//\" + 'mfn2-feature_coefficient_of_variation.csv', index=None)"
   ]
  },
  {
   "cell_type": "code",
   "execution_count": null,
   "id": "2af53f7b",
   "metadata": {},
   "outputs": [],
   "source": [
    "# Visualization\n",
    "# Plot feature variances\n",
    "plt.bar(range(len(feature_variances)), feature_variances, align='center')\n",
    "plt.xticks(range(len(feature_variances)), feature_variances.index, rotation=45)\n",
    "plt.title('Feature Variance')\n",
    "plt.ylabel('Variance')\n",
    "plt.xlabel('features')\n",
    "plt.show()\n",
    "plt.savefig(path + '//' + \"mfn2-feature_var.pdf\", dpi = 600)\n",
    "plt.close()\n",
    "print(\"var_done!\")"
   ]
  },
  {
   "cell_type": "code",
   "execution_count": null,
   "id": "d4c4ea74",
   "metadata": {},
   "outputs": [],
   "source": [
    "# Plot feature standard deviations\n",
    "plt.bar(range(len(feature_std_devs)), feature_std_devs, align='center')\n",
    "plt.xticks(range(len(feature_std_devs)), feature_std_devs.index, rotation=45)\n",
    "plt.title('Feature Standard Deviation')\n",
    "plt.ylabel('Standard Deviation')\n",
    "plt.xlabel('features')\n",
    "plt.show()\n",
    "plt.savefig(path + '//' + \"mfn2-feature_sd.pdf\", dpi = 600)\n",
    "plt.close()\n",
    "print(\"sd_done!\")"
   ]
  },
  {
   "cell_type": "code",
   "execution_count": null,
   "id": "8a6e863d",
   "metadata": {},
   "outputs": [],
   "source": [
    "# Plot feature coefficient of variation\n",
    "plt.bar(range(len(feature_cv)), feature_cv, align='center')\n",
    "plt.xticks(range(len(feature_cv)), feature_cv.index, rotation=45)\n",
    "plt.title('Feature Coefficient of Variation (CV)')\n",
    "plt.ylabel('Coefficient of Variation')\n",
    "plt.xlabel('features')\n",
    "plt.show()\n",
    "plt.savefig(path + '//' + \"mfn2-feature_cv.pdf\", dpi = 600)\n",
    "plt.close()\n",
    "print(\"cv_done!\")\n",
    "\n",
    "plt.tight_layout()\n",
    "plt.show()"
   ]
  },
  {
   "cell_type": "code",
   "execution_count": 83,
   "id": "217575b3",
   "metadata": {},
   "outputs": [],
   "source": [
    "### make sure to groupby mean before plotting"
   ]
  },
  {
   "cell_type": "code",
   "execution_count": null,
   "id": "abb2246f",
   "metadata": {},
   "outputs": [],
   "source": [
    "df_plot = df_log.groupby(level=5).mean()\n",
    "df_plot = df_plot.reset_index()"
   ]
  },
  {
   "cell_type": "code",
   "execution_count": 86,
   "id": "98938d2f",
   "metadata": {
    "scrolled": true
   },
   "outputs": [
    {
     "data": {
      "application/vnd.plotly.v1+json": {
       "config": {
        "plotlyServerURL": "https://plot.ly"
       },
       "data": [
        {
         "alignmentgroup": "True",
         "hovertemplate": "group_with_id=%{y}<extra></extra>",
         "legendgroup": "",
         "marker": {
          "color": "#636efa",
          "pattern": {
           "shape": ""
          }
         },
         "name": "",
         "offsetgroup": "",
         "orientation": "v",
         "showlegend": false,
         "textposition": "auto",
         "type": "bar",
         "x": [
          "HCDMSO1016.0",
          "HCDMSO1170.0",
          "HCDMSO143.0",
          "HCDMSO1650.0",
          "HCDMSO1653.0",
          "HCDMSO495.0",
          "HCDMSO730.0",
          "HCDMSO951.0",
          "MDMSO4212.0",
          "MDMSO4715.0",
          "MDMSO4799.0",
          "MDMSO4819.0",
          "MDMSO4887.0",
          "Mmdivi1 25uM4212.0",
          "Mmdivi1 25uM4715.0",
          "Mmdivi1 25uM4721.0",
          "Mmdivi1 25uM4799.0",
          "Mmdivi1 25uM4819.0",
          "Mmdivi1 25uM4887.0",
          "PREDMSO4689.0",
          "PREDMSO4717.0",
          "PREDMSO4719.0",
          "PREDMSO4837.0",
          "PREmdivi1 25uM4689.0",
          "PREmdivi1 25uM4717.0",
          "PREmdivi1 25uM4719.0",
          "PREmdivi1 25uM4837.0",
          "SDMSO2165.0",
          "SDMSO305.0",
          "SDMSO4287.0",
          "SDMSO4476.0",
          "SDMSO4687.0",
          "SDMSO4709.0",
          "SDMSO4807.0",
          "Smdivi1 25uM2165.0",
          "Smdivi1 25uM305.0",
          "Smdivi1 25uM4287.0",
          "Smdivi1 25uM4476.0",
          "Smdivi1 25uM4687.0",
          "Smdivi1 25uM4709.0"
         ],
         "xaxis": "x",
         "y": [
          "HCDMSO1016.0",
          "HCDMSO1170.0",
          "HCDMSO143.0",
          "HCDMSO1650.0",
          "HCDMSO1653.0",
          "HCDMSO495.0",
          "HCDMSO730.0",
          "HCDMSO951.0",
          "MDMSO4212.0",
          "MDMSO4715.0",
          "MDMSO4799.0",
          "MDMSO4819.0",
          "MDMSO4887.0",
          "Mmdivi1 25uM4212.0",
          "Mmdivi1 25uM4715.0",
          "Mmdivi1 25uM4721.0",
          "Mmdivi1 25uM4799.0",
          "Mmdivi1 25uM4819.0",
          "Mmdivi1 25uM4887.0",
          "PREDMSO4689.0",
          "PREDMSO4717.0",
          "PREDMSO4719.0",
          "PREDMSO4837.0",
          "PREmdivi1 25uM4689.0",
          "PREmdivi1 25uM4717.0",
          "PREmdivi1 25uM4719.0",
          "PREmdivi1 25uM4837.0",
          "SDMSO2165.0",
          "SDMSO305.0",
          "SDMSO4287.0",
          "SDMSO4476.0",
          "SDMSO4687.0",
          "SDMSO4709.0",
          "SDMSO4807.0",
          "Smdivi1 25uM2165.0",
          "Smdivi1 25uM305.0",
          "Smdivi1 25uM4287.0",
          "Smdivi1 25uM4476.0",
          "Smdivi1 25uM4687.0",
          "Smdivi1 25uM4709.0"
         ],
         "yaxis": "y"
        }
       ],
       "layout": {
        "barmode": "group",
        "legend": {
         "tracegroupgap": 0
        },
        "margin": {
         "t": 60
        },
        "template": {
         "data": {
          "bar": [
           {
            "error_x": {
             "color": "#2a3f5f"
            },
            "error_y": {
             "color": "#2a3f5f"
            },
            "marker": {
             "line": {
              "color": "#E5ECF6",
              "width": 0.5
             },
             "pattern": {
              "fillmode": "overlay",
              "size": 10,
              "solidity": 0.2
             }
            },
            "type": "bar"
           }
          ],
          "barpolar": [
           {
            "marker": {
             "line": {
              "color": "#E5ECF6",
              "width": 0.5
             },
             "pattern": {
              "fillmode": "overlay",
              "size": 10,
              "solidity": 0.2
             }
            },
            "type": "barpolar"
           }
          ],
          "carpet": [
           {
            "aaxis": {
             "endlinecolor": "#2a3f5f",
             "gridcolor": "white",
             "linecolor": "white",
             "minorgridcolor": "white",
             "startlinecolor": "#2a3f5f"
            },
            "baxis": {
             "endlinecolor": "#2a3f5f",
             "gridcolor": "white",
             "linecolor": "white",
             "minorgridcolor": "white",
             "startlinecolor": "#2a3f5f"
            },
            "type": "carpet"
           }
          ],
          "choropleth": [
           {
            "colorbar": {
             "outlinewidth": 0,
             "ticks": ""
            },
            "type": "choropleth"
           }
          ],
          "contour": [
           {
            "colorbar": {
             "outlinewidth": 0,
             "ticks": ""
            },
            "colorscale": [
             [
              0,
              "#0d0887"
             ],
             [
              0.1111111111111111,
              "#46039f"
             ],
             [
              0.2222222222222222,
              "#7201a8"
             ],
             [
              0.3333333333333333,
              "#9c179e"
             ],
             [
              0.4444444444444444,
              "#bd3786"
             ],
             [
              0.5555555555555556,
              "#d8576b"
             ],
             [
              0.6666666666666666,
              "#ed7953"
             ],
             [
              0.7777777777777778,
              "#fb9f3a"
             ],
             [
              0.8888888888888888,
              "#fdca26"
             ],
             [
              1,
              "#f0f921"
             ]
            ],
            "type": "contour"
           }
          ],
          "contourcarpet": [
           {
            "colorbar": {
             "outlinewidth": 0,
             "ticks": ""
            },
            "type": "contourcarpet"
           }
          ],
          "heatmap": [
           {
            "colorbar": {
             "outlinewidth": 0,
             "ticks": ""
            },
            "colorscale": [
             [
              0,
              "#0d0887"
             ],
             [
              0.1111111111111111,
              "#46039f"
             ],
             [
              0.2222222222222222,
              "#7201a8"
             ],
             [
              0.3333333333333333,
              "#9c179e"
             ],
             [
              0.4444444444444444,
              "#bd3786"
             ],
             [
              0.5555555555555556,
              "#d8576b"
             ],
             [
              0.6666666666666666,
              "#ed7953"
             ],
             [
              0.7777777777777778,
              "#fb9f3a"
             ],
             [
              0.8888888888888888,
              "#fdca26"
             ],
             [
              1,
              "#f0f921"
             ]
            ],
            "type": "heatmap"
           }
          ],
          "heatmapgl": [
           {
            "colorbar": {
             "outlinewidth": 0,
             "ticks": ""
            },
            "colorscale": [
             [
              0,
              "#0d0887"
             ],
             [
              0.1111111111111111,
              "#46039f"
             ],
             [
              0.2222222222222222,
              "#7201a8"
             ],
             [
              0.3333333333333333,
              "#9c179e"
             ],
             [
              0.4444444444444444,
              "#bd3786"
             ],
             [
              0.5555555555555556,
              "#d8576b"
             ],
             [
              0.6666666666666666,
              "#ed7953"
             ],
             [
              0.7777777777777778,
              "#fb9f3a"
             ],
             [
              0.8888888888888888,
              "#fdca26"
             ],
             [
              1,
              "#f0f921"
             ]
            ],
            "type": "heatmapgl"
           }
          ],
          "histogram": [
           {
            "marker": {
             "pattern": {
              "fillmode": "overlay",
              "size": 10,
              "solidity": 0.2
             }
            },
            "type": "histogram"
           }
          ],
          "histogram2d": [
           {
            "colorbar": {
             "outlinewidth": 0,
             "ticks": ""
            },
            "colorscale": [
             [
              0,
              "#0d0887"
             ],
             [
              0.1111111111111111,
              "#46039f"
             ],
             [
              0.2222222222222222,
              "#7201a8"
             ],
             [
              0.3333333333333333,
              "#9c179e"
             ],
             [
              0.4444444444444444,
              "#bd3786"
             ],
             [
              0.5555555555555556,
              "#d8576b"
             ],
             [
              0.6666666666666666,
              "#ed7953"
             ],
             [
              0.7777777777777778,
              "#fb9f3a"
             ],
             [
              0.8888888888888888,
              "#fdca26"
             ],
             [
              1,
              "#f0f921"
             ]
            ],
            "type": "histogram2d"
           }
          ],
          "histogram2dcontour": [
           {
            "colorbar": {
             "outlinewidth": 0,
             "ticks": ""
            },
            "colorscale": [
             [
              0,
              "#0d0887"
             ],
             [
              0.1111111111111111,
              "#46039f"
             ],
             [
              0.2222222222222222,
              "#7201a8"
             ],
             [
              0.3333333333333333,
              "#9c179e"
             ],
             [
              0.4444444444444444,
              "#bd3786"
             ],
             [
              0.5555555555555556,
              "#d8576b"
             ],
             [
              0.6666666666666666,
              "#ed7953"
             ],
             [
              0.7777777777777778,
              "#fb9f3a"
             ],
             [
              0.8888888888888888,
              "#fdca26"
             ],
             [
              1,
              "#f0f921"
             ]
            ],
            "type": "histogram2dcontour"
           }
          ],
          "mesh3d": [
           {
            "colorbar": {
             "outlinewidth": 0,
             "ticks": ""
            },
            "type": "mesh3d"
           }
          ],
          "parcoords": [
           {
            "line": {
             "colorbar": {
              "outlinewidth": 0,
              "ticks": ""
             }
            },
            "type": "parcoords"
           }
          ],
          "pie": [
           {
            "automargin": true,
            "type": "pie"
           }
          ],
          "scatter": [
           {
            "fillpattern": {
             "fillmode": "overlay",
             "size": 10,
             "solidity": 0.2
            },
            "type": "scatter"
           }
          ],
          "scatter3d": [
           {
            "line": {
             "colorbar": {
              "outlinewidth": 0,
              "ticks": ""
             }
            },
            "marker": {
             "colorbar": {
              "outlinewidth": 0,
              "ticks": ""
             }
            },
            "type": "scatter3d"
           }
          ],
          "scattercarpet": [
           {
            "marker": {
             "colorbar": {
              "outlinewidth": 0,
              "ticks": ""
             }
            },
            "type": "scattercarpet"
           }
          ],
          "scattergeo": [
           {
            "marker": {
             "colorbar": {
              "outlinewidth": 0,
              "ticks": ""
             }
            },
            "type": "scattergeo"
           }
          ],
          "scattergl": [
           {
            "marker": {
             "colorbar": {
              "outlinewidth": 0,
              "ticks": ""
             }
            },
            "type": "scattergl"
           }
          ],
          "scattermapbox": [
           {
            "marker": {
             "colorbar": {
              "outlinewidth": 0,
              "ticks": ""
             }
            },
            "type": "scattermapbox"
           }
          ],
          "scatterpolar": [
           {
            "marker": {
             "colorbar": {
              "outlinewidth": 0,
              "ticks": ""
             }
            },
            "type": "scatterpolar"
           }
          ],
          "scatterpolargl": [
           {
            "marker": {
             "colorbar": {
              "outlinewidth": 0,
              "ticks": ""
             }
            },
            "type": "scatterpolargl"
           }
          ],
          "scatterternary": [
           {
            "marker": {
             "colorbar": {
              "outlinewidth": 0,
              "ticks": ""
             }
            },
            "type": "scatterternary"
           }
          ],
          "surface": [
           {
            "colorbar": {
             "outlinewidth": 0,
             "ticks": ""
            },
            "colorscale": [
             [
              0,
              "#0d0887"
             ],
             [
              0.1111111111111111,
              "#46039f"
             ],
             [
              0.2222222222222222,
              "#7201a8"
             ],
             [
              0.3333333333333333,
              "#9c179e"
             ],
             [
              0.4444444444444444,
              "#bd3786"
             ],
             [
              0.5555555555555556,
              "#d8576b"
             ],
             [
              0.6666666666666666,
              "#ed7953"
             ],
             [
              0.7777777777777778,
              "#fb9f3a"
             ],
             [
              0.8888888888888888,
              "#fdca26"
             ],
             [
              1,
              "#f0f921"
             ]
            ],
            "type": "surface"
           }
          ],
          "table": [
           {
            "cells": {
             "fill": {
              "color": "#EBF0F8"
             },
             "line": {
              "color": "white"
             }
            },
            "header": {
             "fill": {
              "color": "#C8D4E3"
             },
             "line": {
              "color": "white"
             }
            },
            "type": "table"
           }
          ]
         },
         "layout": {
          "annotationdefaults": {
           "arrowcolor": "#2a3f5f",
           "arrowhead": 0,
           "arrowwidth": 1
          },
          "autotypenumbers": "strict",
          "coloraxis": {
           "colorbar": {
            "outlinewidth": 0,
            "ticks": ""
           }
          },
          "colorscale": {
           "diverging": [
            [
             0,
             "#8e0152"
            ],
            [
             0.1,
             "#c51b7d"
            ],
            [
             0.2,
             "#de77ae"
            ],
            [
             0.3,
             "#f1b6da"
            ],
            [
             0.4,
             "#fde0ef"
            ],
            [
             0.5,
             "#f7f7f7"
            ],
            [
             0.6,
             "#e6f5d0"
            ],
            [
             0.7,
             "#b8e186"
            ],
            [
             0.8,
             "#7fbc41"
            ],
            [
             0.9,
             "#4d9221"
            ],
            [
             1,
             "#276419"
            ]
           ],
           "sequential": [
            [
             0,
             "#0d0887"
            ],
            [
             0.1111111111111111,
             "#46039f"
            ],
            [
             0.2222222222222222,
             "#7201a8"
            ],
            [
             0.3333333333333333,
             "#9c179e"
            ],
            [
             0.4444444444444444,
             "#bd3786"
            ],
            [
             0.5555555555555556,
             "#d8576b"
            ],
            [
             0.6666666666666666,
             "#ed7953"
            ],
            [
             0.7777777777777778,
             "#fb9f3a"
            ],
            [
             0.8888888888888888,
             "#fdca26"
            ],
            [
             1,
             "#f0f921"
            ]
           ],
           "sequentialminus": [
            [
             0,
             "#0d0887"
            ],
            [
             0.1111111111111111,
             "#46039f"
            ],
            [
             0.2222222222222222,
             "#7201a8"
            ],
            [
             0.3333333333333333,
             "#9c179e"
            ],
            [
             0.4444444444444444,
             "#bd3786"
            ],
            [
             0.5555555555555556,
             "#d8576b"
            ],
            [
             0.6666666666666666,
             "#ed7953"
            ],
            [
             0.7777777777777778,
             "#fb9f3a"
            ],
            [
             0.8888888888888888,
             "#fdca26"
            ],
            [
             1,
             "#f0f921"
            ]
           ]
          },
          "colorway": [
           "#636efa",
           "#EF553B",
           "#00cc96",
           "#ab63fa",
           "#FFA15A",
           "#19d3f3",
           "#FF6692",
           "#B6E880",
           "#FF97FF",
           "#FECB52"
          ],
          "font": {
           "color": "#2a3f5f"
          },
          "geo": {
           "bgcolor": "white",
           "lakecolor": "white",
           "landcolor": "#E5ECF6",
           "showlakes": true,
           "showland": true,
           "subunitcolor": "white"
          },
          "hoverlabel": {
           "align": "left"
          },
          "hovermode": "closest",
          "mapbox": {
           "style": "light"
          },
          "paper_bgcolor": "white",
          "plot_bgcolor": "#E5ECF6",
          "polar": {
           "angularaxis": {
            "gridcolor": "white",
            "linecolor": "white",
            "ticks": ""
           },
           "bgcolor": "#E5ECF6",
           "radialaxis": {
            "gridcolor": "white",
            "linecolor": "white",
            "ticks": ""
           }
          },
          "scene": {
           "xaxis": {
            "backgroundcolor": "#E5ECF6",
            "gridcolor": "white",
            "gridwidth": 2,
            "linecolor": "white",
            "showbackground": true,
            "ticks": "",
            "zerolinecolor": "white"
           },
           "yaxis": {
            "backgroundcolor": "#E5ECF6",
            "gridcolor": "white",
            "gridwidth": 2,
            "linecolor": "white",
            "showbackground": true,
            "ticks": "",
            "zerolinecolor": "white"
           },
           "zaxis": {
            "backgroundcolor": "#E5ECF6",
            "gridcolor": "white",
            "gridwidth": 2,
            "linecolor": "white",
            "showbackground": true,
            "ticks": "",
            "zerolinecolor": "white"
           }
          },
          "shapedefaults": {
           "line": {
            "color": "#2a3f5f"
           }
          },
          "ternary": {
           "aaxis": {
            "gridcolor": "white",
            "linecolor": "white",
            "ticks": ""
           },
           "baxis": {
            "gridcolor": "white",
            "linecolor": "white",
            "ticks": ""
           },
           "bgcolor": "#E5ECF6",
           "caxis": {
            "gridcolor": "white",
            "linecolor": "white",
            "ticks": ""
           }
          },
          "title": {
           "x": 0.05
          },
          "xaxis": {
           "automargin": true,
           "gridcolor": "white",
           "linecolor": "white",
           "ticks": "",
           "title": {
            "standoff": 15
           },
           "zerolinecolor": "white",
           "zerolinewidth": 2
          },
          "yaxis": {
           "automargin": true,
           "gridcolor": "white",
           "linecolor": "white",
           "ticks": "",
           "title": {
            "standoff": 15
           },
           "zerolinecolor": "white",
           "zerolinewidth": 2
          }
         }
        },
        "xaxis": {
         "anchor": "y",
         "domain": [
          0,
          1
         ],
         "title": {
          "text": "group_with_id"
         }
        },
        "yaxis": {
         "anchor": "x",
         "domain": [
          0,
          1
         ],
         "title": {
          "text": "group_with_id"
         }
        }
       }
      },
      "text/html": [
       "<div>                            <div id=\"822b8bf4-5c77-4123-af31-2dd95478deaa\" class=\"plotly-graph-div\" style=\"height:525px; width:100%;\"></div>            <script type=\"text/javascript\">                require([\"plotly\"], function(Plotly) {                    window.PLOTLYENV=window.PLOTLYENV || {};                                    if (document.getElementById(\"822b8bf4-5c77-4123-af31-2dd95478deaa\")) {                    Plotly.newPlot(                        \"822b8bf4-5c77-4123-af31-2dd95478deaa\",                        [{\"alignmentgroup\":\"True\",\"hovertemplate\":\"group_with_id=%{y}<extra></extra>\",\"legendgroup\":\"\",\"marker\":{\"color\":\"#636efa\",\"pattern\":{\"shape\":\"\"}},\"name\":\"\",\"offsetgroup\":\"\",\"orientation\":\"v\",\"showlegend\":false,\"textposition\":\"auto\",\"x\":[\"HCDMSO1016.0\",\"HCDMSO1170.0\",\"HCDMSO143.0\",\"HCDMSO1650.0\",\"HCDMSO1653.0\",\"HCDMSO495.0\",\"HCDMSO730.0\",\"HCDMSO951.0\",\"MDMSO4212.0\",\"MDMSO4715.0\",\"MDMSO4799.0\",\"MDMSO4819.0\",\"MDMSO4887.0\",\"Mmdivi1 25uM4212.0\",\"Mmdivi1 25uM4715.0\",\"Mmdivi1 25uM4721.0\",\"Mmdivi1 25uM4799.0\",\"Mmdivi1 25uM4819.0\",\"Mmdivi1 25uM4887.0\",\"PREDMSO4689.0\",\"PREDMSO4717.0\",\"PREDMSO4719.0\",\"PREDMSO4837.0\",\"PREmdivi1 25uM4689.0\",\"PREmdivi1 25uM4717.0\",\"PREmdivi1 25uM4719.0\",\"PREmdivi1 25uM4837.0\",\"SDMSO2165.0\",\"SDMSO305.0\",\"SDMSO4287.0\",\"SDMSO4476.0\",\"SDMSO4687.0\",\"SDMSO4709.0\",\"SDMSO4807.0\",\"Smdivi1 25uM2165.0\",\"Smdivi1 25uM305.0\",\"Smdivi1 25uM4287.0\",\"Smdivi1 25uM4476.0\",\"Smdivi1 25uM4687.0\",\"Smdivi1 25uM4709.0\"],\"xaxis\":\"x\",\"y\":[\"HCDMSO1016.0\",\"HCDMSO1170.0\",\"HCDMSO143.0\",\"HCDMSO1650.0\",\"HCDMSO1653.0\",\"HCDMSO495.0\",\"HCDMSO730.0\",\"HCDMSO951.0\",\"MDMSO4212.0\",\"MDMSO4715.0\",\"MDMSO4799.0\",\"MDMSO4819.0\",\"MDMSO4887.0\",\"Mmdivi1 25uM4212.0\",\"Mmdivi1 25uM4715.0\",\"Mmdivi1 25uM4721.0\",\"Mmdivi1 25uM4799.0\",\"Mmdivi1 25uM4819.0\",\"Mmdivi1 25uM4887.0\",\"PREDMSO4689.0\",\"PREDMSO4717.0\",\"PREDMSO4719.0\",\"PREDMSO4837.0\",\"PREmdivi1 25uM4689.0\",\"PREmdivi1 25uM4717.0\",\"PREmdivi1 25uM4719.0\",\"PREmdivi1 25uM4837.0\",\"SDMSO2165.0\",\"SDMSO305.0\",\"SDMSO4287.0\",\"SDMSO4476.0\",\"SDMSO4687.0\",\"SDMSO4709.0\",\"SDMSO4807.0\",\"Smdivi1 25uM2165.0\",\"Smdivi1 25uM305.0\",\"Smdivi1 25uM4287.0\",\"Smdivi1 25uM4476.0\",\"Smdivi1 25uM4687.0\",\"Smdivi1 25uM4709.0\"],\"yaxis\":\"y\",\"type\":\"bar\"}],                        {\"template\":{\"data\":{\"histogram2dcontour\":[{\"type\":\"histogram2dcontour\",\"colorbar\":{\"outlinewidth\":0,\"ticks\":\"\"},\"colorscale\":[[0.0,\"#0d0887\"],[0.1111111111111111,\"#46039f\"],[0.2222222222222222,\"#7201a8\"],[0.3333333333333333,\"#9c179e\"],[0.4444444444444444,\"#bd3786\"],[0.5555555555555556,\"#d8576b\"],[0.6666666666666666,\"#ed7953\"],[0.7777777777777778,\"#fb9f3a\"],[0.8888888888888888,\"#fdca26\"],[1.0,\"#f0f921\"]]}],\"choropleth\":[{\"type\":\"choropleth\",\"colorbar\":{\"outlinewidth\":0,\"ticks\":\"\"}}],\"histogram2d\":[{\"type\":\"histogram2d\",\"colorbar\":{\"outlinewidth\":0,\"ticks\":\"\"},\"colorscale\":[[0.0,\"#0d0887\"],[0.1111111111111111,\"#46039f\"],[0.2222222222222222,\"#7201a8\"],[0.3333333333333333,\"#9c179e\"],[0.4444444444444444,\"#bd3786\"],[0.5555555555555556,\"#d8576b\"],[0.6666666666666666,\"#ed7953\"],[0.7777777777777778,\"#fb9f3a\"],[0.8888888888888888,\"#fdca26\"],[1.0,\"#f0f921\"]]}],\"heatmap\":[{\"type\":\"heatmap\",\"colorbar\":{\"outlinewidth\":0,\"ticks\":\"\"},\"colorscale\":[[0.0,\"#0d0887\"],[0.1111111111111111,\"#46039f\"],[0.2222222222222222,\"#7201a8\"],[0.3333333333333333,\"#9c179e\"],[0.4444444444444444,\"#bd3786\"],[0.5555555555555556,\"#d8576b\"],[0.6666666666666666,\"#ed7953\"],[0.7777777777777778,\"#fb9f3a\"],[0.8888888888888888,\"#fdca26\"],[1.0,\"#f0f921\"]]}],\"heatmapgl\":[{\"type\":\"heatmapgl\",\"colorbar\":{\"outlinewidth\":0,\"ticks\":\"\"},\"colorscale\":[[0.0,\"#0d0887\"],[0.1111111111111111,\"#46039f\"],[0.2222222222222222,\"#7201a8\"],[0.3333333333333333,\"#9c179e\"],[0.4444444444444444,\"#bd3786\"],[0.5555555555555556,\"#d8576b\"],[0.6666666666666666,\"#ed7953\"],[0.7777777777777778,\"#fb9f3a\"],[0.8888888888888888,\"#fdca26\"],[1.0,\"#f0f921\"]]}],\"contourcarpet\":[{\"type\":\"contourcarpet\",\"colorbar\":{\"outlinewidth\":0,\"ticks\":\"\"}}],\"contour\":[{\"type\":\"contour\",\"colorbar\":{\"outlinewidth\":0,\"ticks\":\"\"},\"colorscale\":[[0.0,\"#0d0887\"],[0.1111111111111111,\"#46039f\"],[0.2222222222222222,\"#7201a8\"],[0.3333333333333333,\"#9c179e\"],[0.4444444444444444,\"#bd3786\"],[0.5555555555555556,\"#d8576b\"],[0.6666666666666666,\"#ed7953\"],[0.7777777777777778,\"#fb9f3a\"],[0.8888888888888888,\"#fdca26\"],[1.0,\"#f0f921\"]]}],\"surface\":[{\"type\":\"surface\",\"colorbar\":{\"outlinewidth\":0,\"ticks\":\"\"},\"colorscale\":[[0.0,\"#0d0887\"],[0.1111111111111111,\"#46039f\"],[0.2222222222222222,\"#7201a8\"],[0.3333333333333333,\"#9c179e\"],[0.4444444444444444,\"#bd3786\"],[0.5555555555555556,\"#d8576b\"],[0.6666666666666666,\"#ed7953\"],[0.7777777777777778,\"#fb9f3a\"],[0.8888888888888888,\"#fdca26\"],[1.0,\"#f0f921\"]]}],\"mesh3d\":[{\"type\":\"mesh3d\",\"colorbar\":{\"outlinewidth\":0,\"ticks\":\"\"}}],\"scatter\":[{\"fillpattern\":{\"fillmode\":\"overlay\",\"size\":10,\"solidity\":0.2},\"type\":\"scatter\"}],\"parcoords\":[{\"type\":\"parcoords\",\"line\":{\"colorbar\":{\"outlinewidth\":0,\"ticks\":\"\"}}}],\"scatterpolargl\":[{\"type\":\"scatterpolargl\",\"marker\":{\"colorbar\":{\"outlinewidth\":0,\"ticks\":\"\"}}}],\"bar\":[{\"error_x\":{\"color\":\"#2a3f5f\"},\"error_y\":{\"color\":\"#2a3f5f\"},\"marker\":{\"line\":{\"color\":\"#E5ECF6\",\"width\":0.5},\"pattern\":{\"fillmode\":\"overlay\",\"size\":10,\"solidity\":0.2}},\"type\":\"bar\"}],\"scattergeo\":[{\"type\":\"scattergeo\",\"marker\":{\"colorbar\":{\"outlinewidth\":0,\"ticks\":\"\"}}}],\"scatterpolar\":[{\"type\":\"scatterpolar\",\"marker\":{\"colorbar\":{\"outlinewidth\":0,\"ticks\":\"\"}}}],\"histogram\":[{\"marker\":{\"pattern\":{\"fillmode\":\"overlay\",\"size\":10,\"solidity\":0.2}},\"type\":\"histogram\"}],\"scattergl\":[{\"type\":\"scattergl\",\"marker\":{\"colorbar\":{\"outlinewidth\":0,\"ticks\":\"\"}}}],\"scatter3d\":[{\"type\":\"scatter3d\",\"line\":{\"colorbar\":{\"outlinewidth\":0,\"ticks\":\"\"}},\"marker\":{\"colorbar\":{\"outlinewidth\":0,\"ticks\":\"\"}}}],\"scattermapbox\":[{\"type\":\"scattermapbox\",\"marker\":{\"colorbar\":{\"outlinewidth\":0,\"ticks\":\"\"}}}],\"scatterternary\":[{\"type\":\"scatterternary\",\"marker\":{\"colorbar\":{\"outlinewidth\":0,\"ticks\":\"\"}}}],\"scattercarpet\":[{\"type\":\"scattercarpet\",\"marker\":{\"colorbar\":{\"outlinewidth\":0,\"ticks\":\"\"}}}],\"carpet\":[{\"aaxis\":{\"endlinecolor\":\"#2a3f5f\",\"gridcolor\":\"white\",\"linecolor\":\"white\",\"minorgridcolor\":\"white\",\"startlinecolor\":\"#2a3f5f\"},\"baxis\":{\"endlinecolor\":\"#2a3f5f\",\"gridcolor\":\"white\",\"linecolor\":\"white\",\"minorgridcolor\":\"white\",\"startlinecolor\":\"#2a3f5f\"},\"type\":\"carpet\"}],\"table\":[{\"cells\":{\"fill\":{\"color\":\"#EBF0F8\"},\"line\":{\"color\":\"white\"}},\"header\":{\"fill\":{\"color\":\"#C8D4E3\"},\"line\":{\"color\":\"white\"}},\"type\":\"table\"}],\"barpolar\":[{\"marker\":{\"line\":{\"color\":\"#E5ECF6\",\"width\":0.5},\"pattern\":{\"fillmode\":\"overlay\",\"size\":10,\"solidity\":0.2}},\"type\":\"barpolar\"}],\"pie\":[{\"automargin\":true,\"type\":\"pie\"}]},\"layout\":{\"autotypenumbers\":\"strict\",\"colorway\":[\"#636efa\",\"#EF553B\",\"#00cc96\",\"#ab63fa\",\"#FFA15A\",\"#19d3f3\",\"#FF6692\",\"#B6E880\",\"#FF97FF\",\"#FECB52\"],\"font\":{\"color\":\"#2a3f5f\"},\"hovermode\":\"closest\",\"hoverlabel\":{\"align\":\"left\"},\"paper_bgcolor\":\"white\",\"plot_bgcolor\":\"#E5ECF6\",\"polar\":{\"bgcolor\":\"#E5ECF6\",\"angularaxis\":{\"gridcolor\":\"white\",\"linecolor\":\"white\",\"ticks\":\"\"},\"radialaxis\":{\"gridcolor\":\"white\",\"linecolor\":\"white\",\"ticks\":\"\"}},\"ternary\":{\"bgcolor\":\"#E5ECF6\",\"aaxis\":{\"gridcolor\":\"white\",\"linecolor\":\"white\",\"ticks\":\"\"},\"baxis\":{\"gridcolor\":\"white\",\"linecolor\":\"white\",\"ticks\":\"\"},\"caxis\":{\"gridcolor\":\"white\",\"linecolor\":\"white\",\"ticks\":\"\"}},\"coloraxis\":{\"colorbar\":{\"outlinewidth\":0,\"ticks\":\"\"}},\"colorscale\":{\"sequential\":[[0.0,\"#0d0887\"],[0.1111111111111111,\"#46039f\"],[0.2222222222222222,\"#7201a8\"],[0.3333333333333333,\"#9c179e\"],[0.4444444444444444,\"#bd3786\"],[0.5555555555555556,\"#d8576b\"],[0.6666666666666666,\"#ed7953\"],[0.7777777777777778,\"#fb9f3a\"],[0.8888888888888888,\"#fdca26\"],[1.0,\"#f0f921\"]],\"sequentialminus\":[[0.0,\"#0d0887\"],[0.1111111111111111,\"#46039f\"],[0.2222222222222222,\"#7201a8\"],[0.3333333333333333,\"#9c179e\"],[0.4444444444444444,\"#bd3786\"],[0.5555555555555556,\"#d8576b\"],[0.6666666666666666,\"#ed7953\"],[0.7777777777777778,\"#fb9f3a\"],[0.8888888888888888,\"#fdca26\"],[1.0,\"#f0f921\"]],\"diverging\":[[0,\"#8e0152\"],[0.1,\"#c51b7d\"],[0.2,\"#de77ae\"],[0.3,\"#f1b6da\"],[0.4,\"#fde0ef\"],[0.5,\"#f7f7f7\"],[0.6,\"#e6f5d0\"],[0.7,\"#b8e186\"],[0.8,\"#7fbc41\"],[0.9,\"#4d9221\"],[1,\"#276419\"]]},\"xaxis\":{\"gridcolor\":\"white\",\"linecolor\":\"white\",\"ticks\":\"\",\"title\":{\"standoff\":15},\"zerolinecolor\":\"white\",\"automargin\":true,\"zerolinewidth\":2},\"yaxis\":{\"gridcolor\":\"white\",\"linecolor\":\"white\",\"ticks\":\"\",\"title\":{\"standoff\":15},\"zerolinecolor\":\"white\",\"automargin\":true,\"zerolinewidth\":2},\"scene\":{\"xaxis\":{\"backgroundcolor\":\"#E5ECF6\",\"gridcolor\":\"white\",\"linecolor\":\"white\",\"showbackground\":true,\"ticks\":\"\",\"zerolinecolor\":\"white\",\"gridwidth\":2},\"yaxis\":{\"backgroundcolor\":\"#E5ECF6\",\"gridcolor\":\"white\",\"linecolor\":\"white\",\"showbackground\":true,\"ticks\":\"\",\"zerolinecolor\":\"white\",\"gridwidth\":2},\"zaxis\":{\"backgroundcolor\":\"#E5ECF6\",\"gridcolor\":\"white\",\"linecolor\":\"white\",\"showbackground\":true,\"ticks\":\"\",\"zerolinecolor\":\"white\",\"gridwidth\":2}},\"shapedefaults\":{\"line\":{\"color\":\"#2a3f5f\"}},\"annotationdefaults\":{\"arrowcolor\":\"#2a3f5f\",\"arrowhead\":0,\"arrowwidth\":1},\"geo\":{\"bgcolor\":\"white\",\"landcolor\":\"#E5ECF6\",\"subunitcolor\":\"white\",\"showland\":true,\"showlakes\":true,\"lakecolor\":\"white\"},\"title\":{\"x\":0.05},\"mapbox\":{\"style\":\"light\"}}},\"xaxis\":{\"anchor\":\"y\",\"domain\":[0.0,1.0],\"title\":{\"text\":\"group_with_id\"}},\"yaxis\":{\"anchor\":\"x\",\"domain\":[0.0,1.0],\"title\":{\"text\":\"group_with_id\"}},\"legend\":{\"tracegroupgap\":0},\"margin\":{\"t\":60},\"barmode\":\"group\"},                        {\"responsive\": true}                    ).then(function(){\n",
       "                            \n",
       "var gd = document.getElementById('822b8bf4-5c77-4123-af31-2dd95478deaa');\n",
       "var x = new MutationObserver(function (mutations, observer) {{\n",
       "        var display = window.getComputedStyle(gd).display;\n",
       "        if (!display || display === 'none') {{\n",
       "            console.log([gd, 'removed!']);\n",
       "            Plotly.purge(gd);\n",
       "            observer.disconnect();\n",
       "        }}\n",
       "}});\n",
       "\n",
       "// Listen for the removal of the full notebook cells\n",
       "var notebookContainer = gd.closest('#notebook-container');\n",
       "if (notebookContainer) {{\n",
       "    x.observe(notebookContainer, {childList: true});\n",
       "}}\n",
       "\n",
       "// Listen for the clearing of the current output cell\n",
       "var outputEl = gd.closest('.output');\n",
       "if (outputEl) {{\n",
       "    x.observe(outputEl, {childList: true});\n",
       "}}\n",
       "\n",
       "                        })                };                });            </script>        </div>"
      ]
     },
     "metadata": {},
     "output_type": "display_data"
    },
    {
     "data": {
      "application/vnd.plotly.v1+json": {
       "config": {
        "plotlyServerURL": "https://plot.ly"
       },
       "data": [
        {
         "alignmentgroup": "True",
         "hovertemplate": "group_with_id=%{x}<br>mfn2_intensity=%{y}<extra></extra>",
         "legendgroup": "",
         "marker": {
          "color": "#636efa",
          "pattern": {
           "shape": ""
          }
         },
         "name": "",
         "offsetgroup": "",
         "orientation": "v",
         "showlegend": false,
         "textposition": "auto",
         "type": "bar",
         "x": [
          "HCDMSO1016.0",
          "HCDMSO1170.0",
          "HCDMSO143.0",
          "HCDMSO1650.0",
          "HCDMSO1653.0",
          "HCDMSO495.0",
          "HCDMSO730.0",
          "HCDMSO951.0",
          "MDMSO4212.0",
          "MDMSO4715.0",
          "MDMSO4799.0",
          "MDMSO4819.0",
          "MDMSO4887.0",
          "Mmdivi1 25uM4212.0",
          "Mmdivi1 25uM4715.0",
          "Mmdivi1 25uM4721.0",
          "Mmdivi1 25uM4799.0",
          "Mmdivi1 25uM4819.0",
          "Mmdivi1 25uM4887.0",
          "PREDMSO4689.0",
          "PREDMSO4717.0",
          "PREDMSO4719.0",
          "PREDMSO4837.0",
          "PREmdivi1 25uM4689.0",
          "PREmdivi1 25uM4717.0",
          "PREmdivi1 25uM4719.0",
          "PREmdivi1 25uM4837.0",
          "SDMSO2165.0",
          "SDMSO305.0",
          "SDMSO4287.0",
          "SDMSO4476.0",
          "SDMSO4687.0",
          "SDMSO4709.0",
          "SDMSO4807.0",
          "Smdivi1 25uM2165.0",
          "Smdivi1 25uM305.0",
          "Smdivi1 25uM4287.0",
          "Smdivi1 25uM4476.0",
          "Smdivi1 25uM4687.0",
          "Smdivi1 25uM4709.0"
         ],
         "xaxis": "x",
         "y": [
          4.871003518995988,
          4.913238166620788,
          4.950048204792015,
          5.024448718141086,
          4.898300728535542,
          5.00372325024585,
          5.015540031654368,
          4.891937907616033,
          5.05131091858929,
          4.966616235097335,
          4.968262209697701,
          4.998780350401794,
          4.932303673809261,
          5.026675684784164,
          4.986084583636994,
          4.919267535646616,
          5.001711804971948,
          4.925388514342889,
          4.975961392189959,
          4.967941462132831,
          5.011997449852136,
          4.961632696174992,
          4.936458687926131,
          4.95084212183689,
          5.00351393639689,
          4.911108313511412,
          4.941582141131825,
          4.839071591715587,
          4.96263695058211,
          4.851437069770683,
          4.850521645794634,
          5.01916845256452,
          4.858771270745028,
          4.808130211882441,
          4.832159332361924,
          4.953865216674337,
          4.841804754048624,
          4.835593391658056,
          5.000266991368485,
          4.873567219738985
         ],
         "yaxis": "y"
        }
       ],
       "layout": {
        "barmode": "group",
        "legend": {
         "tracegroupgap": 0
        },
        "margin": {
         "t": 60
        },
        "template": {
         "data": {
          "bar": [
           {
            "error_x": {
             "color": "#2a3f5f"
            },
            "error_y": {
             "color": "#2a3f5f"
            },
            "marker": {
             "line": {
              "color": "#E5ECF6",
              "width": 0.5
             },
             "pattern": {
              "fillmode": "overlay",
              "size": 10,
              "solidity": 0.2
             }
            },
            "type": "bar"
           }
          ],
          "barpolar": [
           {
            "marker": {
             "line": {
              "color": "#E5ECF6",
              "width": 0.5
             },
             "pattern": {
              "fillmode": "overlay",
              "size": 10,
              "solidity": 0.2
             }
            },
            "type": "barpolar"
           }
          ],
          "carpet": [
           {
            "aaxis": {
             "endlinecolor": "#2a3f5f",
             "gridcolor": "white",
             "linecolor": "white",
             "minorgridcolor": "white",
             "startlinecolor": "#2a3f5f"
            },
            "baxis": {
             "endlinecolor": "#2a3f5f",
             "gridcolor": "white",
             "linecolor": "white",
             "minorgridcolor": "white",
             "startlinecolor": "#2a3f5f"
            },
            "type": "carpet"
           }
          ],
          "choropleth": [
           {
            "colorbar": {
             "outlinewidth": 0,
             "ticks": ""
            },
            "type": "choropleth"
           }
          ],
          "contour": [
           {
            "colorbar": {
             "outlinewidth": 0,
             "ticks": ""
            },
            "colorscale": [
             [
              0,
              "#0d0887"
             ],
             [
              0.1111111111111111,
              "#46039f"
             ],
             [
              0.2222222222222222,
              "#7201a8"
             ],
             [
              0.3333333333333333,
              "#9c179e"
             ],
             [
              0.4444444444444444,
              "#bd3786"
             ],
             [
              0.5555555555555556,
              "#d8576b"
             ],
             [
              0.6666666666666666,
              "#ed7953"
             ],
             [
              0.7777777777777778,
              "#fb9f3a"
             ],
             [
              0.8888888888888888,
              "#fdca26"
             ],
             [
              1,
              "#f0f921"
             ]
            ],
            "type": "contour"
           }
          ],
          "contourcarpet": [
           {
            "colorbar": {
             "outlinewidth": 0,
             "ticks": ""
            },
            "type": "contourcarpet"
           }
          ],
          "heatmap": [
           {
            "colorbar": {
             "outlinewidth": 0,
             "ticks": ""
            },
            "colorscale": [
             [
              0,
              "#0d0887"
             ],
             [
              0.1111111111111111,
              "#46039f"
             ],
             [
              0.2222222222222222,
              "#7201a8"
             ],
             [
              0.3333333333333333,
              "#9c179e"
             ],
             [
              0.4444444444444444,
              "#bd3786"
             ],
             [
              0.5555555555555556,
              "#d8576b"
             ],
             [
              0.6666666666666666,
              "#ed7953"
             ],
             [
              0.7777777777777778,
              "#fb9f3a"
             ],
             [
              0.8888888888888888,
              "#fdca26"
             ],
             [
              1,
              "#f0f921"
             ]
            ],
            "type": "heatmap"
           }
          ],
          "heatmapgl": [
           {
            "colorbar": {
             "outlinewidth": 0,
             "ticks": ""
            },
            "colorscale": [
             [
              0,
              "#0d0887"
             ],
             [
              0.1111111111111111,
              "#46039f"
             ],
             [
              0.2222222222222222,
              "#7201a8"
             ],
             [
              0.3333333333333333,
              "#9c179e"
             ],
             [
              0.4444444444444444,
              "#bd3786"
             ],
             [
              0.5555555555555556,
              "#d8576b"
             ],
             [
              0.6666666666666666,
              "#ed7953"
             ],
             [
              0.7777777777777778,
              "#fb9f3a"
             ],
             [
              0.8888888888888888,
              "#fdca26"
             ],
             [
              1,
              "#f0f921"
             ]
            ],
            "type": "heatmapgl"
           }
          ],
          "histogram": [
           {
            "marker": {
             "pattern": {
              "fillmode": "overlay",
              "size": 10,
              "solidity": 0.2
             }
            },
            "type": "histogram"
           }
          ],
          "histogram2d": [
           {
            "colorbar": {
             "outlinewidth": 0,
             "ticks": ""
            },
            "colorscale": [
             [
              0,
              "#0d0887"
             ],
             [
              0.1111111111111111,
              "#46039f"
             ],
             [
              0.2222222222222222,
              "#7201a8"
             ],
             [
              0.3333333333333333,
              "#9c179e"
             ],
             [
              0.4444444444444444,
              "#bd3786"
             ],
             [
              0.5555555555555556,
              "#d8576b"
             ],
             [
              0.6666666666666666,
              "#ed7953"
             ],
             [
              0.7777777777777778,
              "#fb9f3a"
             ],
             [
              0.8888888888888888,
              "#fdca26"
             ],
             [
              1,
              "#f0f921"
             ]
            ],
            "type": "histogram2d"
           }
          ],
          "histogram2dcontour": [
           {
            "colorbar": {
             "outlinewidth": 0,
             "ticks": ""
            },
            "colorscale": [
             [
              0,
              "#0d0887"
             ],
             [
              0.1111111111111111,
              "#46039f"
             ],
             [
              0.2222222222222222,
              "#7201a8"
             ],
             [
              0.3333333333333333,
              "#9c179e"
             ],
             [
              0.4444444444444444,
              "#bd3786"
             ],
             [
              0.5555555555555556,
              "#d8576b"
             ],
             [
              0.6666666666666666,
              "#ed7953"
             ],
             [
              0.7777777777777778,
              "#fb9f3a"
             ],
             [
              0.8888888888888888,
              "#fdca26"
             ],
             [
              1,
              "#f0f921"
             ]
            ],
            "type": "histogram2dcontour"
           }
          ],
          "mesh3d": [
           {
            "colorbar": {
             "outlinewidth": 0,
             "ticks": ""
            },
            "type": "mesh3d"
           }
          ],
          "parcoords": [
           {
            "line": {
             "colorbar": {
              "outlinewidth": 0,
              "ticks": ""
             }
            },
            "type": "parcoords"
           }
          ],
          "pie": [
           {
            "automargin": true,
            "type": "pie"
           }
          ],
          "scatter": [
           {
            "fillpattern": {
             "fillmode": "overlay",
             "size": 10,
             "solidity": 0.2
            },
            "type": "scatter"
           }
          ],
          "scatter3d": [
           {
            "line": {
             "colorbar": {
              "outlinewidth": 0,
              "ticks": ""
             }
            },
            "marker": {
             "colorbar": {
              "outlinewidth": 0,
              "ticks": ""
             }
            },
            "type": "scatter3d"
           }
          ],
          "scattercarpet": [
           {
            "marker": {
             "colorbar": {
              "outlinewidth": 0,
              "ticks": ""
             }
            },
            "type": "scattercarpet"
           }
          ],
          "scattergeo": [
           {
            "marker": {
             "colorbar": {
              "outlinewidth": 0,
              "ticks": ""
             }
            },
            "type": "scattergeo"
           }
          ],
          "scattergl": [
           {
            "marker": {
             "colorbar": {
              "outlinewidth": 0,
              "ticks": ""
             }
            },
            "type": "scattergl"
           }
          ],
          "scattermapbox": [
           {
            "marker": {
             "colorbar": {
              "outlinewidth": 0,
              "ticks": ""
             }
            },
            "type": "scattermapbox"
           }
          ],
          "scatterpolar": [
           {
            "marker": {
             "colorbar": {
              "outlinewidth": 0,
              "ticks": ""
             }
            },
            "type": "scatterpolar"
           }
          ],
          "scatterpolargl": [
           {
            "marker": {
             "colorbar": {
              "outlinewidth": 0,
              "ticks": ""
             }
            },
            "type": "scatterpolargl"
           }
          ],
          "scatterternary": [
           {
            "marker": {
             "colorbar": {
              "outlinewidth": 0,
              "ticks": ""
             }
            },
            "type": "scatterternary"
           }
          ],
          "surface": [
           {
            "colorbar": {
             "outlinewidth": 0,
             "ticks": ""
            },
            "colorscale": [
             [
              0,
              "#0d0887"
             ],
             [
              0.1111111111111111,
              "#46039f"
             ],
             [
              0.2222222222222222,
              "#7201a8"
             ],
             [
              0.3333333333333333,
              "#9c179e"
             ],
             [
              0.4444444444444444,
              "#bd3786"
             ],
             [
              0.5555555555555556,
              "#d8576b"
             ],
             [
              0.6666666666666666,
              "#ed7953"
             ],
             [
              0.7777777777777778,
              "#fb9f3a"
             ],
             [
              0.8888888888888888,
              "#fdca26"
             ],
             [
              1,
              "#f0f921"
             ]
            ],
            "type": "surface"
           }
          ],
          "table": [
           {
            "cells": {
             "fill": {
              "color": "#EBF0F8"
             },
             "line": {
              "color": "white"
             }
            },
            "header": {
             "fill": {
              "color": "#C8D4E3"
             },
             "line": {
              "color": "white"
             }
            },
            "type": "table"
           }
          ]
         },
         "layout": {
          "annotationdefaults": {
           "arrowcolor": "#2a3f5f",
           "arrowhead": 0,
           "arrowwidth": 1
          },
          "autotypenumbers": "strict",
          "coloraxis": {
           "colorbar": {
            "outlinewidth": 0,
            "ticks": ""
           }
          },
          "colorscale": {
           "diverging": [
            [
             0,
             "#8e0152"
            ],
            [
             0.1,
             "#c51b7d"
            ],
            [
             0.2,
             "#de77ae"
            ],
            [
             0.3,
             "#f1b6da"
            ],
            [
             0.4,
             "#fde0ef"
            ],
            [
             0.5,
             "#f7f7f7"
            ],
            [
             0.6,
             "#e6f5d0"
            ],
            [
             0.7,
             "#b8e186"
            ],
            [
             0.8,
             "#7fbc41"
            ],
            [
             0.9,
             "#4d9221"
            ],
            [
             1,
             "#276419"
            ]
           ],
           "sequential": [
            [
             0,
             "#0d0887"
            ],
            [
             0.1111111111111111,
             "#46039f"
            ],
            [
             0.2222222222222222,
             "#7201a8"
            ],
            [
             0.3333333333333333,
             "#9c179e"
            ],
            [
             0.4444444444444444,
             "#bd3786"
            ],
            [
             0.5555555555555556,
             "#d8576b"
            ],
            [
             0.6666666666666666,
             "#ed7953"
            ],
            [
             0.7777777777777778,
             "#fb9f3a"
            ],
            [
             0.8888888888888888,
             "#fdca26"
            ],
            [
             1,
             "#f0f921"
            ]
           ],
           "sequentialminus": [
            [
             0,
             "#0d0887"
            ],
            [
             0.1111111111111111,
             "#46039f"
            ],
            [
             0.2222222222222222,
             "#7201a8"
            ],
            [
             0.3333333333333333,
             "#9c179e"
            ],
            [
             0.4444444444444444,
             "#bd3786"
            ],
            [
             0.5555555555555556,
             "#d8576b"
            ],
            [
             0.6666666666666666,
             "#ed7953"
            ],
            [
             0.7777777777777778,
             "#fb9f3a"
            ],
            [
             0.8888888888888888,
             "#fdca26"
            ],
            [
             1,
             "#f0f921"
            ]
           ]
          },
          "colorway": [
           "#636efa",
           "#EF553B",
           "#00cc96",
           "#ab63fa",
           "#FFA15A",
           "#19d3f3",
           "#FF6692",
           "#B6E880",
           "#FF97FF",
           "#FECB52"
          ],
          "font": {
           "color": "#2a3f5f"
          },
          "geo": {
           "bgcolor": "white",
           "lakecolor": "white",
           "landcolor": "#E5ECF6",
           "showlakes": true,
           "showland": true,
           "subunitcolor": "white"
          },
          "hoverlabel": {
           "align": "left"
          },
          "hovermode": "closest",
          "mapbox": {
           "style": "light"
          },
          "paper_bgcolor": "white",
          "plot_bgcolor": "#E5ECF6",
          "polar": {
           "angularaxis": {
            "gridcolor": "white",
            "linecolor": "white",
            "ticks": ""
           },
           "bgcolor": "#E5ECF6",
           "radialaxis": {
            "gridcolor": "white",
            "linecolor": "white",
            "ticks": ""
           }
          },
          "scene": {
           "xaxis": {
            "backgroundcolor": "#E5ECF6",
            "gridcolor": "white",
            "gridwidth": 2,
            "linecolor": "white",
            "showbackground": true,
            "ticks": "",
            "zerolinecolor": "white"
           },
           "yaxis": {
            "backgroundcolor": "#E5ECF6",
            "gridcolor": "white",
            "gridwidth": 2,
            "linecolor": "white",
            "showbackground": true,
            "ticks": "",
            "zerolinecolor": "white"
           },
           "zaxis": {
            "backgroundcolor": "#E5ECF6",
            "gridcolor": "white",
            "gridwidth": 2,
            "linecolor": "white",
            "showbackground": true,
            "ticks": "",
            "zerolinecolor": "white"
           }
          },
          "shapedefaults": {
           "line": {
            "color": "#2a3f5f"
           }
          },
          "ternary": {
           "aaxis": {
            "gridcolor": "white",
            "linecolor": "white",
            "ticks": ""
           },
           "baxis": {
            "gridcolor": "white",
            "linecolor": "white",
            "ticks": ""
           },
           "bgcolor": "#E5ECF6",
           "caxis": {
            "gridcolor": "white",
            "linecolor": "white",
            "ticks": ""
           }
          },
          "title": {
           "x": 0.05
          },
          "xaxis": {
           "automargin": true,
           "gridcolor": "white",
           "linecolor": "white",
           "ticks": "",
           "title": {
            "standoff": 15
           },
           "zerolinecolor": "white",
           "zerolinewidth": 2
          },
          "yaxis": {
           "automargin": true,
           "gridcolor": "white",
           "linecolor": "white",
           "ticks": "",
           "title": {
            "standoff": 15
           },
           "zerolinecolor": "white",
           "zerolinewidth": 2
          }
         }
        },
        "xaxis": {
         "anchor": "y",
         "domain": [
          0,
          1
         ],
         "title": {
          "text": "group_with_id"
         }
        },
        "yaxis": {
         "anchor": "x",
         "domain": [
          0,
          1
         ],
         "title": {
          "text": "mfn2_intensity"
         }
        }
       }
      },
      "text/html": [
       "<div>                            <div id=\"a0091d1d-6186-4bdd-88ac-5273f7235266\" class=\"plotly-graph-div\" style=\"height:525px; width:100%;\"></div>            <script type=\"text/javascript\">                require([\"plotly\"], function(Plotly) {                    window.PLOTLYENV=window.PLOTLYENV || {};                                    if (document.getElementById(\"a0091d1d-6186-4bdd-88ac-5273f7235266\")) {                    Plotly.newPlot(                        \"a0091d1d-6186-4bdd-88ac-5273f7235266\",                        [{\"alignmentgroup\":\"True\",\"hovertemplate\":\"group_with_id=%{x}<br>mfn2_intensity=%{y}<extra></extra>\",\"legendgroup\":\"\",\"marker\":{\"color\":\"#636efa\",\"pattern\":{\"shape\":\"\"}},\"name\":\"\",\"offsetgroup\":\"\",\"orientation\":\"v\",\"showlegend\":false,\"textposition\":\"auto\",\"x\":[\"HCDMSO1016.0\",\"HCDMSO1170.0\",\"HCDMSO143.0\",\"HCDMSO1650.0\",\"HCDMSO1653.0\",\"HCDMSO495.0\",\"HCDMSO730.0\",\"HCDMSO951.0\",\"MDMSO4212.0\",\"MDMSO4715.0\",\"MDMSO4799.0\",\"MDMSO4819.0\",\"MDMSO4887.0\",\"Mmdivi1 25uM4212.0\",\"Mmdivi1 25uM4715.0\",\"Mmdivi1 25uM4721.0\",\"Mmdivi1 25uM4799.0\",\"Mmdivi1 25uM4819.0\",\"Mmdivi1 25uM4887.0\",\"PREDMSO4689.0\",\"PREDMSO4717.0\",\"PREDMSO4719.0\",\"PREDMSO4837.0\",\"PREmdivi1 25uM4689.0\",\"PREmdivi1 25uM4717.0\",\"PREmdivi1 25uM4719.0\",\"PREmdivi1 25uM4837.0\",\"SDMSO2165.0\",\"SDMSO305.0\",\"SDMSO4287.0\",\"SDMSO4476.0\",\"SDMSO4687.0\",\"SDMSO4709.0\",\"SDMSO4807.0\",\"Smdivi1 25uM2165.0\",\"Smdivi1 25uM305.0\",\"Smdivi1 25uM4287.0\",\"Smdivi1 25uM4476.0\",\"Smdivi1 25uM4687.0\",\"Smdivi1 25uM4709.0\"],\"xaxis\":\"x\",\"y\":[4.871003518995988,4.913238166620788,4.950048204792015,5.024448718141086,4.898300728535542,5.00372325024585,5.015540031654368,4.891937907616033,5.05131091858929,4.966616235097335,4.968262209697701,4.998780350401794,4.932303673809261,5.026675684784164,4.986084583636994,4.919267535646616,5.001711804971948,4.925388514342889,4.975961392189959,4.967941462132831,5.011997449852136,4.961632696174992,4.936458687926131,4.95084212183689,5.00351393639689,4.911108313511412,4.941582141131825,4.839071591715587,4.96263695058211,4.851437069770683,4.850521645794634,5.01916845256452,4.858771270745028,4.808130211882441,4.832159332361924,4.953865216674337,4.841804754048624,4.835593391658056,5.000266991368485,4.873567219738985],\"yaxis\":\"y\",\"type\":\"bar\"}],                        {\"template\":{\"data\":{\"histogram2dcontour\":[{\"type\":\"histogram2dcontour\",\"colorbar\":{\"outlinewidth\":0,\"ticks\":\"\"},\"colorscale\":[[0.0,\"#0d0887\"],[0.1111111111111111,\"#46039f\"],[0.2222222222222222,\"#7201a8\"],[0.3333333333333333,\"#9c179e\"],[0.4444444444444444,\"#bd3786\"],[0.5555555555555556,\"#d8576b\"],[0.6666666666666666,\"#ed7953\"],[0.7777777777777778,\"#fb9f3a\"],[0.8888888888888888,\"#fdca26\"],[1.0,\"#f0f921\"]]}],\"choropleth\":[{\"type\":\"choropleth\",\"colorbar\":{\"outlinewidth\":0,\"ticks\":\"\"}}],\"histogram2d\":[{\"type\":\"histogram2d\",\"colorbar\":{\"outlinewidth\":0,\"ticks\":\"\"},\"colorscale\":[[0.0,\"#0d0887\"],[0.1111111111111111,\"#46039f\"],[0.2222222222222222,\"#7201a8\"],[0.3333333333333333,\"#9c179e\"],[0.4444444444444444,\"#bd3786\"],[0.5555555555555556,\"#d8576b\"],[0.6666666666666666,\"#ed7953\"],[0.7777777777777778,\"#fb9f3a\"],[0.8888888888888888,\"#fdca26\"],[1.0,\"#f0f921\"]]}],\"heatmap\":[{\"type\":\"heatmap\",\"colorbar\":{\"outlinewidth\":0,\"ticks\":\"\"},\"colorscale\":[[0.0,\"#0d0887\"],[0.1111111111111111,\"#46039f\"],[0.2222222222222222,\"#7201a8\"],[0.3333333333333333,\"#9c179e\"],[0.4444444444444444,\"#bd3786\"],[0.5555555555555556,\"#d8576b\"],[0.6666666666666666,\"#ed7953\"],[0.7777777777777778,\"#fb9f3a\"],[0.8888888888888888,\"#fdca26\"],[1.0,\"#f0f921\"]]}],\"heatmapgl\":[{\"type\":\"heatmapgl\",\"colorbar\":{\"outlinewidth\":0,\"ticks\":\"\"},\"colorscale\":[[0.0,\"#0d0887\"],[0.1111111111111111,\"#46039f\"],[0.2222222222222222,\"#7201a8\"],[0.3333333333333333,\"#9c179e\"],[0.4444444444444444,\"#bd3786\"],[0.5555555555555556,\"#d8576b\"],[0.6666666666666666,\"#ed7953\"],[0.7777777777777778,\"#fb9f3a\"],[0.8888888888888888,\"#fdca26\"],[1.0,\"#f0f921\"]]}],\"contourcarpet\":[{\"type\":\"contourcarpet\",\"colorbar\":{\"outlinewidth\":0,\"ticks\":\"\"}}],\"contour\":[{\"type\":\"contour\",\"colorbar\":{\"outlinewidth\":0,\"ticks\":\"\"},\"colorscale\":[[0.0,\"#0d0887\"],[0.1111111111111111,\"#46039f\"],[0.2222222222222222,\"#7201a8\"],[0.3333333333333333,\"#9c179e\"],[0.4444444444444444,\"#bd3786\"],[0.5555555555555556,\"#d8576b\"],[0.6666666666666666,\"#ed7953\"],[0.7777777777777778,\"#fb9f3a\"],[0.8888888888888888,\"#fdca26\"],[1.0,\"#f0f921\"]]}],\"surface\":[{\"type\":\"surface\",\"colorbar\":{\"outlinewidth\":0,\"ticks\":\"\"},\"colorscale\":[[0.0,\"#0d0887\"],[0.1111111111111111,\"#46039f\"],[0.2222222222222222,\"#7201a8\"],[0.3333333333333333,\"#9c179e\"],[0.4444444444444444,\"#bd3786\"],[0.5555555555555556,\"#d8576b\"],[0.6666666666666666,\"#ed7953\"],[0.7777777777777778,\"#fb9f3a\"],[0.8888888888888888,\"#fdca26\"],[1.0,\"#f0f921\"]]}],\"mesh3d\":[{\"type\":\"mesh3d\",\"colorbar\":{\"outlinewidth\":0,\"ticks\":\"\"}}],\"scatter\":[{\"fillpattern\":{\"fillmode\":\"overlay\",\"size\":10,\"solidity\":0.2},\"type\":\"scatter\"}],\"parcoords\":[{\"type\":\"parcoords\",\"line\":{\"colorbar\":{\"outlinewidth\":0,\"ticks\":\"\"}}}],\"scatterpolargl\":[{\"type\":\"scatterpolargl\",\"marker\":{\"colorbar\":{\"outlinewidth\":0,\"ticks\":\"\"}}}],\"bar\":[{\"error_x\":{\"color\":\"#2a3f5f\"},\"error_y\":{\"color\":\"#2a3f5f\"},\"marker\":{\"line\":{\"color\":\"#E5ECF6\",\"width\":0.5},\"pattern\":{\"fillmode\":\"overlay\",\"size\":10,\"solidity\":0.2}},\"type\":\"bar\"}],\"scattergeo\":[{\"type\":\"scattergeo\",\"marker\":{\"colorbar\":{\"outlinewidth\":0,\"ticks\":\"\"}}}],\"scatterpolar\":[{\"type\":\"scatterpolar\",\"marker\":{\"colorbar\":{\"outlinewidth\":0,\"ticks\":\"\"}}}],\"histogram\":[{\"marker\":{\"pattern\":{\"fillmode\":\"overlay\",\"size\":10,\"solidity\":0.2}},\"type\":\"histogram\"}],\"scattergl\":[{\"type\":\"scattergl\",\"marker\":{\"colorbar\":{\"outlinewidth\":0,\"ticks\":\"\"}}}],\"scatter3d\":[{\"type\":\"scatter3d\",\"line\":{\"colorbar\":{\"outlinewidth\":0,\"ticks\":\"\"}},\"marker\":{\"colorbar\":{\"outlinewidth\":0,\"ticks\":\"\"}}}],\"scattermapbox\":[{\"type\":\"scattermapbox\",\"marker\":{\"colorbar\":{\"outlinewidth\":0,\"ticks\":\"\"}}}],\"scatterternary\":[{\"type\":\"scatterternary\",\"marker\":{\"colorbar\":{\"outlinewidth\":0,\"ticks\":\"\"}}}],\"scattercarpet\":[{\"type\":\"scattercarpet\",\"marker\":{\"colorbar\":{\"outlinewidth\":0,\"ticks\":\"\"}}}],\"carpet\":[{\"aaxis\":{\"endlinecolor\":\"#2a3f5f\",\"gridcolor\":\"white\",\"linecolor\":\"white\",\"minorgridcolor\":\"white\",\"startlinecolor\":\"#2a3f5f\"},\"baxis\":{\"endlinecolor\":\"#2a3f5f\",\"gridcolor\":\"white\",\"linecolor\":\"white\",\"minorgridcolor\":\"white\",\"startlinecolor\":\"#2a3f5f\"},\"type\":\"carpet\"}],\"table\":[{\"cells\":{\"fill\":{\"color\":\"#EBF0F8\"},\"line\":{\"color\":\"white\"}},\"header\":{\"fill\":{\"color\":\"#C8D4E3\"},\"line\":{\"color\":\"white\"}},\"type\":\"table\"}],\"barpolar\":[{\"marker\":{\"line\":{\"color\":\"#E5ECF6\",\"width\":0.5},\"pattern\":{\"fillmode\":\"overlay\",\"size\":10,\"solidity\":0.2}},\"type\":\"barpolar\"}],\"pie\":[{\"automargin\":true,\"type\":\"pie\"}]},\"layout\":{\"autotypenumbers\":\"strict\",\"colorway\":[\"#636efa\",\"#EF553B\",\"#00cc96\",\"#ab63fa\",\"#FFA15A\",\"#19d3f3\",\"#FF6692\",\"#B6E880\",\"#FF97FF\",\"#FECB52\"],\"font\":{\"color\":\"#2a3f5f\"},\"hovermode\":\"closest\",\"hoverlabel\":{\"align\":\"left\"},\"paper_bgcolor\":\"white\",\"plot_bgcolor\":\"#E5ECF6\",\"polar\":{\"bgcolor\":\"#E5ECF6\",\"angularaxis\":{\"gridcolor\":\"white\",\"linecolor\":\"white\",\"ticks\":\"\"},\"radialaxis\":{\"gridcolor\":\"white\",\"linecolor\":\"white\",\"ticks\":\"\"}},\"ternary\":{\"bgcolor\":\"#E5ECF6\",\"aaxis\":{\"gridcolor\":\"white\",\"linecolor\":\"white\",\"ticks\":\"\"},\"baxis\":{\"gridcolor\":\"white\",\"linecolor\":\"white\",\"ticks\":\"\"},\"caxis\":{\"gridcolor\":\"white\",\"linecolor\":\"white\",\"ticks\":\"\"}},\"coloraxis\":{\"colorbar\":{\"outlinewidth\":0,\"ticks\":\"\"}},\"colorscale\":{\"sequential\":[[0.0,\"#0d0887\"],[0.1111111111111111,\"#46039f\"],[0.2222222222222222,\"#7201a8\"],[0.3333333333333333,\"#9c179e\"],[0.4444444444444444,\"#bd3786\"],[0.5555555555555556,\"#d8576b\"],[0.6666666666666666,\"#ed7953\"],[0.7777777777777778,\"#fb9f3a\"],[0.8888888888888888,\"#fdca26\"],[1.0,\"#f0f921\"]],\"sequentialminus\":[[0.0,\"#0d0887\"],[0.1111111111111111,\"#46039f\"],[0.2222222222222222,\"#7201a8\"],[0.3333333333333333,\"#9c179e\"],[0.4444444444444444,\"#bd3786\"],[0.5555555555555556,\"#d8576b\"],[0.6666666666666666,\"#ed7953\"],[0.7777777777777778,\"#fb9f3a\"],[0.8888888888888888,\"#fdca26\"],[1.0,\"#f0f921\"]],\"diverging\":[[0,\"#8e0152\"],[0.1,\"#c51b7d\"],[0.2,\"#de77ae\"],[0.3,\"#f1b6da\"],[0.4,\"#fde0ef\"],[0.5,\"#f7f7f7\"],[0.6,\"#e6f5d0\"],[0.7,\"#b8e186\"],[0.8,\"#7fbc41\"],[0.9,\"#4d9221\"],[1,\"#276419\"]]},\"xaxis\":{\"gridcolor\":\"white\",\"linecolor\":\"white\",\"ticks\":\"\",\"title\":{\"standoff\":15},\"zerolinecolor\":\"white\",\"automargin\":true,\"zerolinewidth\":2},\"yaxis\":{\"gridcolor\":\"white\",\"linecolor\":\"white\",\"ticks\":\"\",\"title\":{\"standoff\":15},\"zerolinecolor\":\"white\",\"automargin\":true,\"zerolinewidth\":2},\"scene\":{\"xaxis\":{\"backgroundcolor\":\"#E5ECF6\",\"gridcolor\":\"white\",\"linecolor\":\"white\",\"showbackground\":true,\"ticks\":\"\",\"zerolinecolor\":\"white\",\"gridwidth\":2},\"yaxis\":{\"backgroundcolor\":\"#E5ECF6\",\"gridcolor\":\"white\",\"linecolor\":\"white\",\"showbackground\":true,\"ticks\":\"\",\"zerolinecolor\":\"white\",\"gridwidth\":2},\"zaxis\":{\"backgroundcolor\":\"#E5ECF6\",\"gridcolor\":\"white\",\"linecolor\":\"white\",\"showbackground\":true,\"ticks\":\"\",\"zerolinecolor\":\"white\",\"gridwidth\":2}},\"shapedefaults\":{\"line\":{\"color\":\"#2a3f5f\"}},\"annotationdefaults\":{\"arrowcolor\":\"#2a3f5f\",\"arrowhead\":0,\"arrowwidth\":1},\"geo\":{\"bgcolor\":\"white\",\"landcolor\":\"#E5ECF6\",\"subunitcolor\":\"white\",\"showland\":true,\"showlakes\":true,\"lakecolor\":\"white\"},\"title\":{\"x\":0.05},\"mapbox\":{\"style\":\"light\"}}},\"xaxis\":{\"anchor\":\"y\",\"domain\":[0.0,1.0],\"title\":{\"text\":\"group_with_id\"}},\"yaxis\":{\"anchor\":\"x\",\"domain\":[0.0,1.0],\"title\":{\"text\":\"mfn2_intensity\"}},\"legend\":{\"tracegroupgap\":0},\"margin\":{\"t\":60},\"barmode\":\"group\"},                        {\"responsive\": true}                    ).then(function(){\n",
       "                            \n",
       "var gd = document.getElementById('a0091d1d-6186-4bdd-88ac-5273f7235266');\n",
       "var x = new MutationObserver(function (mutations, observer) {{\n",
       "        var display = window.getComputedStyle(gd).display;\n",
       "        if (!display || display === 'none') {{\n",
       "            console.log([gd, 'removed!']);\n",
       "            Plotly.purge(gd);\n",
       "            observer.disconnect();\n",
       "        }}\n",
       "}});\n",
       "\n",
       "// Listen for the removal of the full notebook cells\n",
       "var notebookContainer = gd.closest('#notebook-container');\n",
       "if (notebookContainer) {{\n",
       "    x.observe(notebookContainer, {childList: true});\n",
       "}}\n",
       "\n",
       "// Listen for the clearing of the current output cell\n",
       "var outputEl = gd.closest('.output');\n",
       "if (outputEl) {{\n",
       "    x.observe(outputEl, {childList: true});\n",
       "}}\n",
       "\n",
       "                        })                };                });            </script>        </div>"
      ]
     },
     "metadata": {},
     "output_type": "display_data"
    },
    {
     "data": {
      "application/vnd.plotly.v1+json": {
       "config": {
        "plotlyServerURL": "https://plot.ly"
       },
       "data": [
        {
         "alignmentgroup": "True",
         "hovertemplate": "group_with_id=%{x}<br>mfn2_area=%{y}<extra></extra>",
         "legendgroup": "",
         "marker": {
          "color": "#636efa",
          "pattern": {
           "shape": ""
          }
         },
         "name": "",
         "offsetgroup": "",
         "orientation": "v",
         "showlegend": false,
         "textposition": "auto",
         "type": "bar",
         "x": [
          "HCDMSO1016.0",
          "HCDMSO1170.0",
          "HCDMSO143.0",
          "HCDMSO1650.0",
          "HCDMSO1653.0",
          "HCDMSO495.0",
          "HCDMSO730.0",
          "HCDMSO951.0",
          "MDMSO4212.0",
          "MDMSO4715.0",
          "MDMSO4799.0",
          "MDMSO4819.0",
          "MDMSO4887.0",
          "Mmdivi1 25uM4212.0",
          "Mmdivi1 25uM4715.0",
          "Mmdivi1 25uM4721.0",
          "Mmdivi1 25uM4799.0",
          "Mmdivi1 25uM4819.0",
          "Mmdivi1 25uM4887.0",
          "PREDMSO4689.0",
          "PREDMSO4717.0",
          "PREDMSO4719.0",
          "PREDMSO4837.0",
          "PREmdivi1 25uM4689.0",
          "PREmdivi1 25uM4717.0",
          "PREmdivi1 25uM4719.0",
          "PREmdivi1 25uM4837.0",
          "SDMSO2165.0",
          "SDMSO305.0",
          "SDMSO4287.0",
          "SDMSO4476.0",
          "SDMSO4687.0",
          "SDMSO4709.0",
          "SDMSO4807.0",
          "Smdivi1 25uM2165.0",
          "Smdivi1 25uM305.0",
          "Smdivi1 25uM4287.0",
          "Smdivi1 25uM4476.0",
          "Smdivi1 25uM4687.0",
          "Smdivi1 25uM4709.0"
         ],
         "xaxis": "x",
         "y": [
          6.431492058310689,
          6.6468953143758895,
          6.4984115348192155,
          6.582631286860028,
          6.502766301043732,
          6.431380964296815,
          6.625516496969169,
          6.274182958905836,
          6.43715688091064,
          6.386769572967136,
          6.391945609764971,
          6.517586215878665,
          6.5097661078821645,
          6.5608738942878775,
          6.423353059363881,
          6.211898160219356,
          6.6282406937229865,
          6.4805589424279395,
          6.6052102401372315,
          6.424621847007695,
          6.496765541215435,
          6.4509796462787365,
          6.534447165875779,
          6.492555372399181,
          6.537611078914906,
          6.451299417282358,
          6.598359101131861,
          6.112278483722269,
          6.3419352379511595,
          6.567610194719058,
          6.302695105200776,
          6.615636377858909,
          6.4075559242769655,
          6.726055779681896,
          6.320888724858666,
          6.398687600205431,
          6.599144090964836,
          6.343027672214508,
          6.635355849469416,
          6.599069847880558
         ],
         "yaxis": "y"
        }
       ],
       "layout": {
        "barmode": "group",
        "legend": {
         "tracegroupgap": 0
        },
        "margin": {
         "t": 60
        },
        "template": {
         "data": {
          "bar": [
           {
            "error_x": {
             "color": "#2a3f5f"
            },
            "error_y": {
             "color": "#2a3f5f"
            },
            "marker": {
             "line": {
              "color": "#E5ECF6",
              "width": 0.5
             },
             "pattern": {
              "fillmode": "overlay",
              "size": 10,
              "solidity": 0.2
             }
            },
            "type": "bar"
           }
          ],
          "barpolar": [
           {
            "marker": {
             "line": {
              "color": "#E5ECF6",
              "width": 0.5
             },
             "pattern": {
              "fillmode": "overlay",
              "size": 10,
              "solidity": 0.2
             }
            },
            "type": "barpolar"
           }
          ],
          "carpet": [
           {
            "aaxis": {
             "endlinecolor": "#2a3f5f",
             "gridcolor": "white",
             "linecolor": "white",
             "minorgridcolor": "white",
             "startlinecolor": "#2a3f5f"
            },
            "baxis": {
             "endlinecolor": "#2a3f5f",
             "gridcolor": "white",
             "linecolor": "white",
             "minorgridcolor": "white",
             "startlinecolor": "#2a3f5f"
            },
            "type": "carpet"
           }
          ],
          "choropleth": [
           {
            "colorbar": {
             "outlinewidth": 0,
             "ticks": ""
            },
            "type": "choropleth"
           }
          ],
          "contour": [
           {
            "colorbar": {
             "outlinewidth": 0,
             "ticks": ""
            },
            "colorscale": [
             [
              0,
              "#0d0887"
             ],
             [
              0.1111111111111111,
              "#46039f"
             ],
             [
              0.2222222222222222,
              "#7201a8"
             ],
             [
              0.3333333333333333,
              "#9c179e"
             ],
             [
              0.4444444444444444,
              "#bd3786"
             ],
             [
              0.5555555555555556,
              "#d8576b"
             ],
             [
              0.6666666666666666,
              "#ed7953"
             ],
             [
              0.7777777777777778,
              "#fb9f3a"
             ],
             [
              0.8888888888888888,
              "#fdca26"
             ],
             [
              1,
              "#f0f921"
             ]
            ],
            "type": "contour"
           }
          ],
          "contourcarpet": [
           {
            "colorbar": {
             "outlinewidth": 0,
             "ticks": ""
            },
            "type": "contourcarpet"
           }
          ],
          "heatmap": [
           {
            "colorbar": {
             "outlinewidth": 0,
             "ticks": ""
            },
            "colorscale": [
             [
              0,
              "#0d0887"
             ],
             [
              0.1111111111111111,
              "#46039f"
             ],
             [
              0.2222222222222222,
              "#7201a8"
             ],
             [
              0.3333333333333333,
              "#9c179e"
             ],
             [
              0.4444444444444444,
              "#bd3786"
             ],
             [
              0.5555555555555556,
              "#d8576b"
             ],
             [
              0.6666666666666666,
              "#ed7953"
             ],
             [
              0.7777777777777778,
              "#fb9f3a"
             ],
             [
              0.8888888888888888,
              "#fdca26"
             ],
             [
              1,
              "#f0f921"
             ]
            ],
            "type": "heatmap"
           }
          ],
          "heatmapgl": [
           {
            "colorbar": {
             "outlinewidth": 0,
             "ticks": ""
            },
            "colorscale": [
             [
              0,
              "#0d0887"
             ],
             [
              0.1111111111111111,
              "#46039f"
             ],
             [
              0.2222222222222222,
              "#7201a8"
             ],
             [
              0.3333333333333333,
              "#9c179e"
             ],
             [
              0.4444444444444444,
              "#bd3786"
             ],
             [
              0.5555555555555556,
              "#d8576b"
             ],
             [
              0.6666666666666666,
              "#ed7953"
             ],
             [
              0.7777777777777778,
              "#fb9f3a"
             ],
             [
              0.8888888888888888,
              "#fdca26"
             ],
             [
              1,
              "#f0f921"
             ]
            ],
            "type": "heatmapgl"
           }
          ],
          "histogram": [
           {
            "marker": {
             "pattern": {
              "fillmode": "overlay",
              "size": 10,
              "solidity": 0.2
             }
            },
            "type": "histogram"
           }
          ],
          "histogram2d": [
           {
            "colorbar": {
             "outlinewidth": 0,
             "ticks": ""
            },
            "colorscale": [
             [
              0,
              "#0d0887"
             ],
             [
              0.1111111111111111,
              "#46039f"
             ],
             [
              0.2222222222222222,
              "#7201a8"
             ],
             [
              0.3333333333333333,
              "#9c179e"
             ],
             [
              0.4444444444444444,
              "#bd3786"
             ],
             [
              0.5555555555555556,
              "#d8576b"
             ],
             [
              0.6666666666666666,
              "#ed7953"
             ],
             [
              0.7777777777777778,
              "#fb9f3a"
             ],
             [
              0.8888888888888888,
              "#fdca26"
             ],
             [
              1,
              "#f0f921"
             ]
            ],
            "type": "histogram2d"
           }
          ],
          "histogram2dcontour": [
           {
            "colorbar": {
             "outlinewidth": 0,
             "ticks": ""
            },
            "colorscale": [
             [
              0,
              "#0d0887"
             ],
             [
              0.1111111111111111,
              "#46039f"
             ],
             [
              0.2222222222222222,
              "#7201a8"
             ],
             [
              0.3333333333333333,
              "#9c179e"
             ],
             [
              0.4444444444444444,
              "#bd3786"
             ],
             [
              0.5555555555555556,
              "#d8576b"
             ],
             [
              0.6666666666666666,
              "#ed7953"
             ],
             [
              0.7777777777777778,
              "#fb9f3a"
             ],
             [
              0.8888888888888888,
              "#fdca26"
             ],
             [
              1,
              "#f0f921"
             ]
            ],
            "type": "histogram2dcontour"
           }
          ],
          "mesh3d": [
           {
            "colorbar": {
             "outlinewidth": 0,
             "ticks": ""
            },
            "type": "mesh3d"
           }
          ],
          "parcoords": [
           {
            "line": {
             "colorbar": {
              "outlinewidth": 0,
              "ticks": ""
             }
            },
            "type": "parcoords"
           }
          ],
          "pie": [
           {
            "automargin": true,
            "type": "pie"
           }
          ],
          "scatter": [
           {
            "fillpattern": {
             "fillmode": "overlay",
             "size": 10,
             "solidity": 0.2
            },
            "type": "scatter"
           }
          ],
          "scatter3d": [
           {
            "line": {
             "colorbar": {
              "outlinewidth": 0,
              "ticks": ""
             }
            },
            "marker": {
             "colorbar": {
              "outlinewidth": 0,
              "ticks": ""
             }
            },
            "type": "scatter3d"
           }
          ],
          "scattercarpet": [
           {
            "marker": {
             "colorbar": {
              "outlinewidth": 0,
              "ticks": ""
             }
            },
            "type": "scattercarpet"
           }
          ],
          "scattergeo": [
           {
            "marker": {
             "colorbar": {
              "outlinewidth": 0,
              "ticks": ""
             }
            },
            "type": "scattergeo"
           }
          ],
          "scattergl": [
           {
            "marker": {
             "colorbar": {
              "outlinewidth": 0,
              "ticks": ""
             }
            },
            "type": "scattergl"
           }
          ],
          "scattermapbox": [
           {
            "marker": {
             "colorbar": {
              "outlinewidth": 0,
              "ticks": ""
             }
            },
            "type": "scattermapbox"
           }
          ],
          "scatterpolar": [
           {
            "marker": {
             "colorbar": {
              "outlinewidth": 0,
              "ticks": ""
             }
            },
            "type": "scatterpolar"
           }
          ],
          "scatterpolargl": [
           {
            "marker": {
             "colorbar": {
              "outlinewidth": 0,
              "ticks": ""
             }
            },
            "type": "scatterpolargl"
           }
          ],
          "scatterternary": [
           {
            "marker": {
             "colorbar": {
              "outlinewidth": 0,
              "ticks": ""
             }
            },
            "type": "scatterternary"
           }
          ],
          "surface": [
           {
            "colorbar": {
             "outlinewidth": 0,
             "ticks": ""
            },
            "colorscale": [
             [
              0,
              "#0d0887"
             ],
             [
              0.1111111111111111,
              "#46039f"
             ],
             [
              0.2222222222222222,
              "#7201a8"
             ],
             [
              0.3333333333333333,
              "#9c179e"
             ],
             [
              0.4444444444444444,
              "#bd3786"
             ],
             [
              0.5555555555555556,
              "#d8576b"
             ],
             [
              0.6666666666666666,
              "#ed7953"
             ],
             [
              0.7777777777777778,
              "#fb9f3a"
             ],
             [
              0.8888888888888888,
              "#fdca26"
             ],
             [
              1,
              "#f0f921"
             ]
            ],
            "type": "surface"
           }
          ],
          "table": [
           {
            "cells": {
             "fill": {
              "color": "#EBF0F8"
             },
             "line": {
              "color": "white"
             }
            },
            "header": {
             "fill": {
              "color": "#C8D4E3"
             },
             "line": {
              "color": "white"
             }
            },
            "type": "table"
           }
          ]
         },
         "layout": {
          "annotationdefaults": {
           "arrowcolor": "#2a3f5f",
           "arrowhead": 0,
           "arrowwidth": 1
          },
          "autotypenumbers": "strict",
          "coloraxis": {
           "colorbar": {
            "outlinewidth": 0,
            "ticks": ""
           }
          },
          "colorscale": {
           "diverging": [
            [
             0,
             "#8e0152"
            ],
            [
             0.1,
             "#c51b7d"
            ],
            [
             0.2,
             "#de77ae"
            ],
            [
             0.3,
             "#f1b6da"
            ],
            [
             0.4,
             "#fde0ef"
            ],
            [
             0.5,
             "#f7f7f7"
            ],
            [
             0.6,
             "#e6f5d0"
            ],
            [
             0.7,
             "#b8e186"
            ],
            [
             0.8,
             "#7fbc41"
            ],
            [
             0.9,
             "#4d9221"
            ],
            [
             1,
             "#276419"
            ]
           ],
           "sequential": [
            [
             0,
             "#0d0887"
            ],
            [
             0.1111111111111111,
             "#46039f"
            ],
            [
             0.2222222222222222,
             "#7201a8"
            ],
            [
             0.3333333333333333,
             "#9c179e"
            ],
            [
             0.4444444444444444,
             "#bd3786"
            ],
            [
             0.5555555555555556,
             "#d8576b"
            ],
            [
             0.6666666666666666,
             "#ed7953"
            ],
            [
             0.7777777777777778,
             "#fb9f3a"
            ],
            [
             0.8888888888888888,
             "#fdca26"
            ],
            [
             1,
             "#f0f921"
            ]
           ],
           "sequentialminus": [
            [
             0,
             "#0d0887"
            ],
            [
             0.1111111111111111,
             "#46039f"
            ],
            [
             0.2222222222222222,
             "#7201a8"
            ],
            [
             0.3333333333333333,
             "#9c179e"
            ],
            [
             0.4444444444444444,
             "#bd3786"
            ],
            [
             0.5555555555555556,
             "#d8576b"
            ],
            [
             0.6666666666666666,
             "#ed7953"
            ],
            [
             0.7777777777777778,
             "#fb9f3a"
            ],
            [
             0.8888888888888888,
             "#fdca26"
            ],
            [
             1,
             "#f0f921"
            ]
           ]
          },
          "colorway": [
           "#636efa",
           "#EF553B",
           "#00cc96",
           "#ab63fa",
           "#FFA15A",
           "#19d3f3",
           "#FF6692",
           "#B6E880",
           "#FF97FF",
           "#FECB52"
          ],
          "font": {
           "color": "#2a3f5f"
          },
          "geo": {
           "bgcolor": "white",
           "lakecolor": "white",
           "landcolor": "#E5ECF6",
           "showlakes": true,
           "showland": true,
           "subunitcolor": "white"
          },
          "hoverlabel": {
           "align": "left"
          },
          "hovermode": "closest",
          "mapbox": {
           "style": "light"
          },
          "paper_bgcolor": "white",
          "plot_bgcolor": "#E5ECF6",
          "polar": {
           "angularaxis": {
            "gridcolor": "white",
            "linecolor": "white",
            "ticks": ""
           },
           "bgcolor": "#E5ECF6",
           "radialaxis": {
            "gridcolor": "white",
            "linecolor": "white",
            "ticks": ""
           }
          },
          "scene": {
           "xaxis": {
            "backgroundcolor": "#E5ECF6",
            "gridcolor": "white",
            "gridwidth": 2,
            "linecolor": "white",
            "showbackground": true,
            "ticks": "",
            "zerolinecolor": "white"
           },
           "yaxis": {
            "backgroundcolor": "#E5ECF6",
            "gridcolor": "white",
            "gridwidth": 2,
            "linecolor": "white",
            "showbackground": true,
            "ticks": "",
            "zerolinecolor": "white"
           },
           "zaxis": {
            "backgroundcolor": "#E5ECF6",
            "gridcolor": "white",
            "gridwidth": 2,
            "linecolor": "white",
            "showbackground": true,
            "ticks": "",
            "zerolinecolor": "white"
           }
          },
          "shapedefaults": {
           "line": {
            "color": "#2a3f5f"
           }
          },
          "ternary": {
           "aaxis": {
            "gridcolor": "white",
            "linecolor": "white",
            "ticks": ""
           },
           "baxis": {
            "gridcolor": "white",
            "linecolor": "white",
            "ticks": ""
           },
           "bgcolor": "#E5ECF6",
           "caxis": {
            "gridcolor": "white",
            "linecolor": "white",
            "ticks": ""
           }
          },
          "title": {
           "x": 0.05
          },
          "xaxis": {
           "automargin": true,
           "gridcolor": "white",
           "linecolor": "white",
           "ticks": "",
           "title": {
            "standoff": 15
           },
           "zerolinecolor": "white",
           "zerolinewidth": 2
          },
          "yaxis": {
           "automargin": true,
           "gridcolor": "white",
           "linecolor": "white",
           "ticks": "",
           "title": {
            "standoff": 15
           },
           "zerolinecolor": "white",
           "zerolinewidth": 2
          }
         }
        },
        "xaxis": {
         "anchor": "y",
         "domain": [
          0,
          1
         ],
         "title": {
          "text": "group_with_id"
         }
        },
        "yaxis": {
         "anchor": "x",
         "domain": [
          0,
          1
         ],
         "title": {
          "text": "mfn2_area"
         }
        }
       }
      },
      "text/html": [
       "<div>                            <div id=\"a4078576-679c-44d8-aa7c-e23f38bbcd55\" class=\"plotly-graph-div\" style=\"height:525px; width:100%;\"></div>            <script type=\"text/javascript\">                require([\"plotly\"], function(Plotly) {                    window.PLOTLYENV=window.PLOTLYENV || {};                                    if (document.getElementById(\"a4078576-679c-44d8-aa7c-e23f38bbcd55\")) {                    Plotly.newPlot(                        \"a4078576-679c-44d8-aa7c-e23f38bbcd55\",                        [{\"alignmentgroup\":\"True\",\"hovertemplate\":\"group_with_id=%{x}<br>mfn2_area=%{y}<extra></extra>\",\"legendgroup\":\"\",\"marker\":{\"color\":\"#636efa\",\"pattern\":{\"shape\":\"\"}},\"name\":\"\",\"offsetgroup\":\"\",\"orientation\":\"v\",\"showlegend\":false,\"textposition\":\"auto\",\"x\":[\"HCDMSO1016.0\",\"HCDMSO1170.0\",\"HCDMSO143.0\",\"HCDMSO1650.0\",\"HCDMSO1653.0\",\"HCDMSO495.0\",\"HCDMSO730.0\",\"HCDMSO951.0\",\"MDMSO4212.0\",\"MDMSO4715.0\",\"MDMSO4799.0\",\"MDMSO4819.0\",\"MDMSO4887.0\",\"Mmdivi1 25uM4212.0\",\"Mmdivi1 25uM4715.0\",\"Mmdivi1 25uM4721.0\",\"Mmdivi1 25uM4799.0\",\"Mmdivi1 25uM4819.0\",\"Mmdivi1 25uM4887.0\",\"PREDMSO4689.0\",\"PREDMSO4717.0\",\"PREDMSO4719.0\",\"PREDMSO4837.0\",\"PREmdivi1 25uM4689.0\",\"PREmdivi1 25uM4717.0\",\"PREmdivi1 25uM4719.0\",\"PREmdivi1 25uM4837.0\",\"SDMSO2165.0\",\"SDMSO305.0\",\"SDMSO4287.0\",\"SDMSO4476.0\",\"SDMSO4687.0\",\"SDMSO4709.0\",\"SDMSO4807.0\",\"Smdivi1 25uM2165.0\",\"Smdivi1 25uM305.0\",\"Smdivi1 25uM4287.0\",\"Smdivi1 25uM4476.0\",\"Smdivi1 25uM4687.0\",\"Smdivi1 25uM4709.0\"],\"xaxis\":\"x\",\"y\":[6.431492058310689,6.6468953143758895,6.4984115348192155,6.582631286860028,6.502766301043732,6.431380964296815,6.625516496969169,6.274182958905836,6.43715688091064,6.386769572967136,6.391945609764971,6.517586215878665,6.5097661078821645,6.5608738942878775,6.423353059363881,6.211898160219356,6.6282406937229865,6.4805589424279395,6.6052102401372315,6.424621847007695,6.496765541215435,6.4509796462787365,6.534447165875779,6.492555372399181,6.537611078914906,6.451299417282358,6.598359101131861,6.112278483722269,6.3419352379511595,6.567610194719058,6.302695105200776,6.615636377858909,6.4075559242769655,6.726055779681896,6.320888724858666,6.398687600205431,6.599144090964836,6.343027672214508,6.635355849469416,6.599069847880558],\"yaxis\":\"y\",\"type\":\"bar\"}],                        {\"template\":{\"data\":{\"histogram2dcontour\":[{\"type\":\"histogram2dcontour\",\"colorbar\":{\"outlinewidth\":0,\"ticks\":\"\"},\"colorscale\":[[0.0,\"#0d0887\"],[0.1111111111111111,\"#46039f\"],[0.2222222222222222,\"#7201a8\"],[0.3333333333333333,\"#9c179e\"],[0.4444444444444444,\"#bd3786\"],[0.5555555555555556,\"#d8576b\"],[0.6666666666666666,\"#ed7953\"],[0.7777777777777778,\"#fb9f3a\"],[0.8888888888888888,\"#fdca26\"],[1.0,\"#f0f921\"]]}],\"choropleth\":[{\"type\":\"choropleth\",\"colorbar\":{\"outlinewidth\":0,\"ticks\":\"\"}}],\"histogram2d\":[{\"type\":\"histogram2d\",\"colorbar\":{\"outlinewidth\":0,\"ticks\":\"\"},\"colorscale\":[[0.0,\"#0d0887\"],[0.1111111111111111,\"#46039f\"],[0.2222222222222222,\"#7201a8\"],[0.3333333333333333,\"#9c179e\"],[0.4444444444444444,\"#bd3786\"],[0.5555555555555556,\"#d8576b\"],[0.6666666666666666,\"#ed7953\"],[0.7777777777777778,\"#fb9f3a\"],[0.8888888888888888,\"#fdca26\"],[1.0,\"#f0f921\"]]}],\"heatmap\":[{\"type\":\"heatmap\",\"colorbar\":{\"outlinewidth\":0,\"ticks\":\"\"},\"colorscale\":[[0.0,\"#0d0887\"],[0.1111111111111111,\"#46039f\"],[0.2222222222222222,\"#7201a8\"],[0.3333333333333333,\"#9c179e\"],[0.4444444444444444,\"#bd3786\"],[0.5555555555555556,\"#d8576b\"],[0.6666666666666666,\"#ed7953\"],[0.7777777777777778,\"#fb9f3a\"],[0.8888888888888888,\"#fdca26\"],[1.0,\"#f0f921\"]]}],\"heatmapgl\":[{\"type\":\"heatmapgl\",\"colorbar\":{\"outlinewidth\":0,\"ticks\":\"\"},\"colorscale\":[[0.0,\"#0d0887\"],[0.1111111111111111,\"#46039f\"],[0.2222222222222222,\"#7201a8\"],[0.3333333333333333,\"#9c179e\"],[0.4444444444444444,\"#bd3786\"],[0.5555555555555556,\"#d8576b\"],[0.6666666666666666,\"#ed7953\"],[0.7777777777777778,\"#fb9f3a\"],[0.8888888888888888,\"#fdca26\"],[1.0,\"#f0f921\"]]}],\"contourcarpet\":[{\"type\":\"contourcarpet\",\"colorbar\":{\"outlinewidth\":0,\"ticks\":\"\"}}],\"contour\":[{\"type\":\"contour\",\"colorbar\":{\"outlinewidth\":0,\"ticks\":\"\"},\"colorscale\":[[0.0,\"#0d0887\"],[0.1111111111111111,\"#46039f\"],[0.2222222222222222,\"#7201a8\"],[0.3333333333333333,\"#9c179e\"],[0.4444444444444444,\"#bd3786\"],[0.5555555555555556,\"#d8576b\"],[0.6666666666666666,\"#ed7953\"],[0.7777777777777778,\"#fb9f3a\"],[0.8888888888888888,\"#fdca26\"],[1.0,\"#f0f921\"]]}],\"surface\":[{\"type\":\"surface\",\"colorbar\":{\"outlinewidth\":0,\"ticks\":\"\"},\"colorscale\":[[0.0,\"#0d0887\"],[0.1111111111111111,\"#46039f\"],[0.2222222222222222,\"#7201a8\"],[0.3333333333333333,\"#9c179e\"],[0.4444444444444444,\"#bd3786\"],[0.5555555555555556,\"#d8576b\"],[0.6666666666666666,\"#ed7953\"],[0.7777777777777778,\"#fb9f3a\"],[0.8888888888888888,\"#fdca26\"],[1.0,\"#f0f921\"]]}],\"mesh3d\":[{\"type\":\"mesh3d\",\"colorbar\":{\"outlinewidth\":0,\"ticks\":\"\"}}],\"scatter\":[{\"fillpattern\":{\"fillmode\":\"overlay\",\"size\":10,\"solidity\":0.2},\"type\":\"scatter\"}],\"parcoords\":[{\"type\":\"parcoords\",\"line\":{\"colorbar\":{\"outlinewidth\":0,\"ticks\":\"\"}}}],\"scatterpolargl\":[{\"type\":\"scatterpolargl\",\"marker\":{\"colorbar\":{\"outlinewidth\":0,\"ticks\":\"\"}}}],\"bar\":[{\"error_x\":{\"color\":\"#2a3f5f\"},\"error_y\":{\"color\":\"#2a3f5f\"},\"marker\":{\"line\":{\"color\":\"#E5ECF6\",\"width\":0.5},\"pattern\":{\"fillmode\":\"overlay\",\"size\":10,\"solidity\":0.2}},\"type\":\"bar\"}],\"scattergeo\":[{\"type\":\"scattergeo\",\"marker\":{\"colorbar\":{\"outlinewidth\":0,\"ticks\":\"\"}}}],\"scatterpolar\":[{\"type\":\"scatterpolar\",\"marker\":{\"colorbar\":{\"outlinewidth\":0,\"ticks\":\"\"}}}],\"histogram\":[{\"marker\":{\"pattern\":{\"fillmode\":\"overlay\",\"size\":10,\"solidity\":0.2}},\"type\":\"histogram\"}],\"scattergl\":[{\"type\":\"scattergl\",\"marker\":{\"colorbar\":{\"outlinewidth\":0,\"ticks\":\"\"}}}],\"scatter3d\":[{\"type\":\"scatter3d\",\"line\":{\"colorbar\":{\"outlinewidth\":0,\"ticks\":\"\"}},\"marker\":{\"colorbar\":{\"outlinewidth\":0,\"ticks\":\"\"}}}],\"scattermapbox\":[{\"type\":\"scattermapbox\",\"marker\":{\"colorbar\":{\"outlinewidth\":0,\"ticks\":\"\"}}}],\"scatterternary\":[{\"type\":\"scatterternary\",\"marker\":{\"colorbar\":{\"outlinewidth\":0,\"ticks\":\"\"}}}],\"scattercarpet\":[{\"type\":\"scattercarpet\",\"marker\":{\"colorbar\":{\"outlinewidth\":0,\"ticks\":\"\"}}}],\"carpet\":[{\"aaxis\":{\"endlinecolor\":\"#2a3f5f\",\"gridcolor\":\"white\",\"linecolor\":\"white\",\"minorgridcolor\":\"white\",\"startlinecolor\":\"#2a3f5f\"},\"baxis\":{\"endlinecolor\":\"#2a3f5f\",\"gridcolor\":\"white\",\"linecolor\":\"white\",\"minorgridcolor\":\"white\",\"startlinecolor\":\"#2a3f5f\"},\"type\":\"carpet\"}],\"table\":[{\"cells\":{\"fill\":{\"color\":\"#EBF0F8\"},\"line\":{\"color\":\"white\"}},\"header\":{\"fill\":{\"color\":\"#C8D4E3\"},\"line\":{\"color\":\"white\"}},\"type\":\"table\"}],\"barpolar\":[{\"marker\":{\"line\":{\"color\":\"#E5ECF6\",\"width\":0.5},\"pattern\":{\"fillmode\":\"overlay\",\"size\":10,\"solidity\":0.2}},\"type\":\"barpolar\"}],\"pie\":[{\"automargin\":true,\"type\":\"pie\"}]},\"layout\":{\"autotypenumbers\":\"strict\",\"colorway\":[\"#636efa\",\"#EF553B\",\"#00cc96\",\"#ab63fa\",\"#FFA15A\",\"#19d3f3\",\"#FF6692\",\"#B6E880\",\"#FF97FF\",\"#FECB52\"],\"font\":{\"color\":\"#2a3f5f\"},\"hovermode\":\"closest\",\"hoverlabel\":{\"align\":\"left\"},\"paper_bgcolor\":\"white\",\"plot_bgcolor\":\"#E5ECF6\",\"polar\":{\"bgcolor\":\"#E5ECF6\",\"angularaxis\":{\"gridcolor\":\"white\",\"linecolor\":\"white\",\"ticks\":\"\"},\"radialaxis\":{\"gridcolor\":\"white\",\"linecolor\":\"white\",\"ticks\":\"\"}},\"ternary\":{\"bgcolor\":\"#E5ECF6\",\"aaxis\":{\"gridcolor\":\"white\",\"linecolor\":\"white\",\"ticks\":\"\"},\"baxis\":{\"gridcolor\":\"white\",\"linecolor\":\"white\",\"ticks\":\"\"},\"caxis\":{\"gridcolor\":\"white\",\"linecolor\":\"white\",\"ticks\":\"\"}},\"coloraxis\":{\"colorbar\":{\"outlinewidth\":0,\"ticks\":\"\"}},\"colorscale\":{\"sequential\":[[0.0,\"#0d0887\"],[0.1111111111111111,\"#46039f\"],[0.2222222222222222,\"#7201a8\"],[0.3333333333333333,\"#9c179e\"],[0.4444444444444444,\"#bd3786\"],[0.5555555555555556,\"#d8576b\"],[0.6666666666666666,\"#ed7953\"],[0.7777777777777778,\"#fb9f3a\"],[0.8888888888888888,\"#fdca26\"],[1.0,\"#f0f921\"]],\"sequentialminus\":[[0.0,\"#0d0887\"],[0.1111111111111111,\"#46039f\"],[0.2222222222222222,\"#7201a8\"],[0.3333333333333333,\"#9c179e\"],[0.4444444444444444,\"#bd3786\"],[0.5555555555555556,\"#d8576b\"],[0.6666666666666666,\"#ed7953\"],[0.7777777777777778,\"#fb9f3a\"],[0.8888888888888888,\"#fdca26\"],[1.0,\"#f0f921\"]],\"diverging\":[[0,\"#8e0152\"],[0.1,\"#c51b7d\"],[0.2,\"#de77ae\"],[0.3,\"#f1b6da\"],[0.4,\"#fde0ef\"],[0.5,\"#f7f7f7\"],[0.6,\"#e6f5d0\"],[0.7,\"#b8e186\"],[0.8,\"#7fbc41\"],[0.9,\"#4d9221\"],[1,\"#276419\"]]},\"xaxis\":{\"gridcolor\":\"white\",\"linecolor\":\"white\",\"ticks\":\"\",\"title\":{\"standoff\":15},\"zerolinecolor\":\"white\",\"automargin\":true,\"zerolinewidth\":2},\"yaxis\":{\"gridcolor\":\"white\",\"linecolor\":\"white\",\"ticks\":\"\",\"title\":{\"standoff\":15},\"zerolinecolor\":\"white\",\"automargin\":true,\"zerolinewidth\":2},\"scene\":{\"xaxis\":{\"backgroundcolor\":\"#E5ECF6\",\"gridcolor\":\"white\",\"linecolor\":\"white\",\"showbackground\":true,\"ticks\":\"\",\"zerolinecolor\":\"white\",\"gridwidth\":2},\"yaxis\":{\"backgroundcolor\":\"#E5ECF6\",\"gridcolor\":\"white\",\"linecolor\":\"white\",\"showbackground\":true,\"ticks\":\"\",\"zerolinecolor\":\"white\",\"gridwidth\":2},\"zaxis\":{\"backgroundcolor\":\"#E5ECF6\",\"gridcolor\":\"white\",\"linecolor\":\"white\",\"showbackground\":true,\"ticks\":\"\",\"zerolinecolor\":\"white\",\"gridwidth\":2}},\"shapedefaults\":{\"line\":{\"color\":\"#2a3f5f\"}},\"annotationdefaults\":{\"arrowcolor\":\"#2a3f5f\",\"arrowhead\":0,\"arrowwidth\":1},\"geo\":{\"bgcolor\":\"white\",\"landcolor\":\"#E5ECF6\",\"subunitcolor\":\"white\",\"showland\":true,\"showlakes\":true,\"lakecolor\":\"white\"},\"title\":{\"x\":0.05},\"mapbox\":{\"style\":\"light\"}}},\"xaxis\":{\"anchor\":\"y\",\"domain\":[0.0,1.0],\"title\":{\"text\":\"group_with_id\"}},\"yaxis\":{\"anchor\":\"x\",\"domain\":[0.0,1.0],\"title\":{\"text\":\"mfn2_area\"}},\"legend\":{\"tracegroupgap\":0},\"margin\":{\"t\":60},\"barmode\":\"group\"},                        {\"responsive\": true}                    ).then(function(){\n",
       "                            \n",
       "var gd = document.getElementById('a4078576-679c-44d8-aa7c-e23f38bbcd55');\n",
       "var x = new MutationObserver(function (mutations, observer) {{\n",
       "        var display = window.getComputedStyle(gd).display;\n",
       "        if (!display || display === 'none') {{\n",
       "            console.log([gd, 'removed!']);\n",
       "            Plotly.purge(gd);\n",
       "            observer.disconnect();\n",
       "        }}\n",
       "}});\n",
       "\n",
       "// Listen for the removal of the full notebook cells\n",
       "var notebookContainer = gd.closest('#notebook-container');\n",
       "if (notebookContainer) {{\n",
       "    x.observe(notebookContainer, {childList: true});\n",
       "}}\n",
       "\n",
       "// Listen for the clearing of the current output cell\n",
       "var outputEl = gd.closest('.output');\n",
       "if (outputEl) {{\n",
       "    x.observe(outputEl, {childList: true});\n",
       "}}\n",
       "\n",
       "                        })                };                });            </script>        </div>"
      ]
     },
     "metadata": {},
     "output_type": "display_data"
    }
   ],
   "source": [
    "for col in df_plot:\n",
    "    \n",
    "    fig = px.bar(df_plot, x = \"group_with_id\", y = col,\n",
    "            barmode = 'group')\n",
    "    fig.write_image(path + '//' + f\"{col}mid_plot_image.pdf\", engine=\"kaleido\")\n",
    "    fig.show()"
   ]
  },
  {
   "cell_type": "code",
   "execution_count": null,
   "id": "78824cb1",
   "metadata": {},
   "outputs": [],
   "source": [
    "dist_check_if_hc(Nh_df)\n",
    "dist_check_if_log(df_log)\n",
    "dist_check_if_log_2(df_log_2)\n",
    "dist_check_if_max(df_max_scaled)"
   ]
  },
  {
   "cell_type": "code",
   "execution_count": null,
   "id": "faf6c275",
   "metadata": {},
   "outputs": [],
   "source": [
    "### vis+stats_marker conclusions "
   ]
  },
  {
   "cell_type": "code",
   "execution_count": null,
   "id": "65eec2d2",
   "metadata": {},
   "outputs": [],
   "source": [
    "df_stats = df_log.copy()\n",
    "df_stats = df_stats.reset_index()\n",
    "df_stats = df_stats.drop(columns=['Local Outlier Factor 30', 'Local Outlier Factor 10', 'Local Outlier Factor 8', 'level_0'])\n",
    "df_stats = df_stats.reset_index()\n",
    "df_stats = df_stats.drop(columns=['index'])"
   ]
  },
  {
   "cell_type": "code",
   "execution_count": null,
   "id": "d8ce05b0",
   "metadata": {},
   "outputs": [],
   "source": [
    "grouped_df = df_stats.groupby(\"group\").mean()\n",
    "grouped_df.fillna(0, inplace=True)\n",
    "grouped_df =(grouped_df-grouped_df.mean())/grouped_df.std()\n",
    "###heatmap \n",
    "plt.figure(figsize=(8, 6))\n",
    "sns.heatmap(grouped_df, cmap='BuPu')\n",
    "sns.set_style(\"white\")\n",
    "SMALL_SIZE =3\n",
    "MEDIUM_SIZE = 5\n",
    "BIGGER_SIZE = 12\n",
    "plt.rc('font', size=SMALL_SIZE)          # controls default text sizes\n",
    "plt.rc('axes', titlesize=SMALL_SIZE)     # fontsize of the axes title\n",
    "plt.rc('axes', labelsize=SMALL_SIZE)    # fontsize of the x and y labels\n",
    "plt.rc('xtick', labelsize=SMALL_SIZE)    # fontsize of the tick labels\n",
    "plt.rc('ytick', labelsize=MEDIUM_SIZE)    # fontsize of the tick labels\n",
    "plt.rc('legend', fontsize=SMALL_SIZE)    # legend fontsize\n",
    "plt.rc('figure', titlesize=BIGGER_SIZE)  # fontsize of the figure title\n",
    "cax = plt.gcf().axes[0]\n",
    "cax.tick_params(labelsize=6)\n",
    "plt.yticks(rotation=\"horizontal\")\n",
    "plt.xticks(rotation=\"vertical\")\n",
    "plt.margins(0.1)\n",
    "plt.subplots_adjust(bottom=0.3)\n",
    "plt.savefig(path + '//' + \"heatmap_mfn2.pdf\")\n",
    "plt.show()\n"
   ]
  },
  {
   "cell_type": "code",
   "execution_count": 100,
   "id": "0409829c",
   "metadata": {
    "scrolled": true
   },
   "outputs": [
    {
     "data": {
      "application/vnd.plotly.v1+json": {
       "config": {
        "plotlyServerURL": "https://plot.ly"
       },
       "data": [
        {
         "alignmentgroup": "True",
         "boxpoints": "all",
         "customdata": [
          [
           "HCDMSO495.0p6"
          ],
          [
           "HCDMSO1170.0p10"
          ],
          [
           "HCDMSO1650.0p7"
          ],
          [
           "HCDMSO1650.0p8"
          ],
          [
           "HCDMSO1650.0p6"
          ],
          [
           "HCDMSO1650.0p9"
          ],
          [
           "HCDMSO495.0p6"
          ],
          [
           "HCDMSO1653.0p7"
          ],
          [
           "HCDMSO1650.0p9"
          ],
          [
           "HCDMSO730.0p8"
          ],
          [
           "HCDMSO143.0p6"
          ],
          [
           "HCDMSO1650.0p7"
          ],
          [
           "HCDMSO1653.0p8"
          ],
          [
           "HCDMSO730.0p9"
          ],
          [
           "HCDMSO1016.0p10"
          ],
          [
           "HCDMSO1170.0p10"
          ],
          [
           "HCDMSO1653.0p7"
          ],
          [
           "HCDMSO951.0p10"
          ],
          [
           "HCDMSO1653.0p4"
          ],
          [
           "HCDMSO143.0p7"
          ],
          [
           "HCDMSO143.0p7"
          ],
          [
           "HCDMSO1653.0p9"
          ],
          [
           "HCDMSO730.0p9"
          ],
          [
           "HCDMSO495.0p7"
          ],
          [
           "HCDMSO143.0p6"
          ],
          [
           "HCDMSO1016.0p10"
          ],
          [
           "HCDMSO1016.0p10"
          ],
          [
           "HCDMSO1170.0p10"
          ],
          [
           "HCDMSO1016.0p10"
          ],
          [
           "HCDMSO143.0p6"
          ],
          [
           "HCDMSO730.0p9"
          ],
          [
           "HCDMSO143.0p6"
          ],
          [
           "HCDMSO495.0p6"
          ],
          [
           "HCDMSO1170.0p10"
          ],
          [
           "HCDMSO730.0p9"
          ],
          [
           "HCDMSO730.0p9"
          ],
          [
           "HCDMSO1016.0p10"
          ],
          [
           "HCDMSO1170.0p10"
          ],
          [
           "HCDMSO495.0p7"
          ],
          [
           "HCDMSO495.0p7"
          ],
          [
           "HCDMSO1016.0p10"
          ]
         ],
         "hovertemplate": "group=%{x}<br>group_p=%{y}<br>group_with_p=%{customdata[0]}<extra></extra>",
         "legendgroup": "HCDMSO",
         "marker": {
          "color": "#636efa"
         },
         "name": "HCDMSO",
         "notched": true,
         "offsetgroup": "HCDMSO",
         "orientation": "v",
         "quartilemethod": "inclusive",
         "showlegend": true,
         "type": "box",
         "x": [
          "HCDMSO",
          "HCDMSO",
          "HCDMSO",
          "HCDMSO",
          "HCDMSO",
          "HCDMSO",
          "HCDMSO",
          "HCDMSO",
          "HCDMSO",
          "HCDMSO",
          "HCDMSO",
          "HCDMSO",
          "HCDMSO",
          "HCDMSO",
          "HCDMSO",
          "HCDMSO",
          "HCDMSO",
          "HCDMSO",
          "HCDMSO",
          "HCDMSO",
          "HCDMSO",
          "HCDMSO",
          "HCDMSO",
          "HCDMSO",
          "HCDMSO",
          "HCDMSO",
          "HCDMSO",
          "HCDMSO",
          "HCDMSO",
          "HCDMSO",
          "HCDMSO",
          "HCDMSO",
          "HCDMSO",
          "HCDMSO",
          "HCDMSO",
          "HCDMSO",
          "HCDMSO",
          "HCDMSO",
          "HCDMSO",
          "HCDMSO",
          "HCDMSO"
         ],
         "x0": " ",
         "xaxis": "x",
         "y": [
          "HCDMSOp6",
          "HCDMSOp10",
          "HCDMSOp7",
          "HCDMSOp8",
          "HCDMSOp6",
          "HCDMSOp9",
          "HCDMSOp6",
          "HCDMSOp7",
          "HCDMSOp9",
          "HCDMSOp8",
          "HCDMSOp6",
          "HCDMSOp7",
          "HCDMSOp8",
          "HCDMSOp9",
          "HCDMSOp10",
          "HCDMSOp10",
          "HCDMSOp7",
          "HCDMSOp10",
          "HCDMSOp4",
          "HCDMSOp7",
          "HCDMSOp7",
          "HCDMSOp9",
          "HCDMSOp9",
          "HCDMSOp7",
          "HCDMSOp6",
          "HCDMSOp10",
          "HCDMSOp10",
          "HCDMSOp10",
          "HCDMSOp10",
          "HCDMSOp6",
          "HCDMSOp9",
          "HCDMSOp6",
          "HCDMSOp6",
          "HCDMSOp10",
          "HCDMSOp9",
          "HCDMSOp9",
          "HCDMSOp10",
          "HCDMSOp10",
          "HCDMSOp7",
          "HCDMSOp7",
          "HCDMSOp10"
         ],
         "y0": " ",
         "yaxis": "y"
        },
        {
         "alignmentgroup": "True",
         "boxpoints": "all",
         "customdata": [
          [
           "MDMSO4819.0p4"
          ],
          [
           "MDMSO4819.0p4"
          ],
          [
           "MDMSO4819.0p4"
          ],
          [
           "MDMSO4799.0p8"
          ],
          [
           "MDMSO4715.0p6"
          ],
          [
           "MDMSO4212.0p9"
          ],
          [
           "MDMSO4212.0p9"
          ],
          [
           "MDMSO4212.0p9"
          ],
          [
           "MDMSO4887.0p7"
          ],
          [
           "MDMSO4212.0p9"
          ],
          [
           "MDMSO4819.0p4"
          ],
          [
           "MDMSO4819.0p4"
          ],
          [
           "MDMSO4715.0p6"
          ],
          [
           "MDMSO4887.0p7"
          ],
          [
           "MDMSO4799.0p8"
          ],
          [
           "MDMSO4715.0p6"
          ],
          [
           "MDMSO4887.0p7"
          ],
          [
           "MDMSO4715.0p6"
          ],
          [
           "MDMSO4799.0p8"
          ],
          [
           "MDMSO4799.0p8"
          ],
          [
           "MDMSO4799.0p8"
          ],
          [
           "MDMSO4819.0p4"
          ],
          [
           "MDMSO4212.0p9"
          ]
         ],
         "hovertemplate": "group=%{x}<br>group_p=%{y}<br>group_with_p=%{customdata[0]}<extra></extra>",
         "legendgroup": "MDMSO",
         "marker": {
          "color": "#EF553B"
         },
         "name": "MDMSO",
         "notched": true,
         "offsetgroup": "MDMSO",
         "orientation": "v",
         "quartilemethod": "inclusive",
         "showlegend": true,
         "type": "box",
         "x": [
          "MDMSO",
          "MDMSO",
          "MDMSO",
          "MDMSO",
          "MDMSO",
          "MDMSO",
          "MDMSO",
          "MDMSO",
          "MDMSO",
          "MDMSO",
          "MDMSO",
          "MDMSO",
          "MDMSO",
          "MDMSO",
          "MDMSO",
          "MDMSO",
          "MDMSO",
          "MDMSO",
          "MDMSO",
          "MDMSO",
          "MDMSO",
          "MDMSO",
          "MDMSO"
         ],
         "x0": " ",
         "xaxis": "x",
         "y": [
          "MDMSOp4",
          "MDMSOp4",
          "MDMSOp4",
          "MDMSOp8",
          "MDMSOp6",
          "MDMSOp9",
          "MDMSOp9",
          "MDMSOp9",
          "MDMSOp7",
          "MDMSOp9",
          "MDMSOp4",
          "MDMSOp4",
          "MDMSOp6",
          "MDMSOp7",
          "MDMSOp8",
          "MDMSOp6",
          "MDMSOp7",
          "MDMSOp6",
          "MDMSOp8",
          "MDMSOp8",
          "MDMSOp8",
          "MDMSOp4",
          "MDMSOp9"
         ],
         "y0": " ",
         "yaxis": "y"
        },
        {
         "alignmentgroup": "True",
         "boxpoints": "all",
         "customdata": [
          [
           "Mmdivi1 25uM4715.0p6"
          ],
          [
           "Mmdivi1 25uM4799.0p8"
          ],
          [
           "Mmdivi1 25uM4212.0p9"
          ],
          [
           "Mmdivi1 25uM4715.0p6"
          ],
          [
           "Mmdivi1 25uM4887.0p7"
          ],
          [
           "Mmdivi1 25uM4819.0p4"
          ],
          [
           "Mmdivi1 25uM4799.0p8"
          ],
          [
           "Mmdivi1 25uM4887.0p7"
          ],
          [
           "Mmdivi1 25uM4715.0p6"
          ],
          [
           "Mmdivi1 25uM4721.0p5"
          ],
          [
           "Mmdivi1 25uM4819.0p4"
          ],
          [
           "Mmdivi1 25uM4715.0p6"
          ],
          [
           "Mmdivi1 25uM4212.0p9"
          ],
          [
           "Mmdivi1 25uM4819.0p4"
          ],
          [
           "Mmdivi1 25uM4212.0p9"
          ],
          [
           "Mmdivi1 25uM4799.0p8"
          ],
          [
           "Mmdivi1 25uM4715.0p6"
          ],
          [
           "Mmdivi1 25uM4721.0p5"
          ],
          [
           "Mmdivi1 25uM4721.0p5"
          ],
          [
           "Mmdivi1 25uM4887.0p7"
          ],
          [
           "Mmdivi1 25uM4819.0p4"
          ],
          [
           "Mmdivi1 25uM4799.0p8"
          ],
          [
           "Mmdivi1 25uM4212.0p9"
          ],
          [
           "Mmdivi1 25uM4887.0p7"
          ],
          [
           "Mmdivi1 25uM4212.0p9"
          ],
          [
           "Mmdivi1 25uM4715.0p6"
          ],
          [
           "Mmdivi1 25uM4819.0p4"
          ],
          [
           "Mmdivi1 25uM4887.0p7"
          ],
          [
           "Mmdivi1 25uM4887.0p7"
          ],
          [
           "Mmdivi1 25uM4799.0p8"
          ],
          [
           "Mmdivi1 25uM4819.0p4"
          ],
          [
           "Mmdivi1 25uM4721.0p5"
          ],
          [
           "Mmdivi1 25uM4721.0p5"
          ],
          [
           "Mmdivi1 25uM4799.0p8"
          ],
          [
           "Mmdivi1 25uM4212.0p9"
          ]
         ],
         "hovertemplate": "group=%{x}<br>group_p=%{y}<br>group_with_p=%{customdata[0]}<extra></extra>",
         "legendgroup": "Mmdivi1 25uM",
         "marker": {
          "color": "#00cc96"
         },
         "name": "Mmdivi1 25uM",
         "notched": true,
         "offsetgroup": "Mmdivi1 25uM",
         "orientation": "v",
         "quartilemethod": "inclusive",
         "showlegend": true,
         "type": "box",
         "x": [
          "Mmdivi1 25uM",
          "Mmdivi1 25uM",
          "Mmdivi1 25uM",
          "Mmdivi1 25uM",
          "Mmdivi1 25uM",
          "Mmdivi1 25uM",
          "Mmdivi1 25uM",
          "Mmdivi1 25uM",
          "Mmdivi1 25uM",
          "Mmdivi1 25uM",
          "Mmdivi1 25uM",
          "Mmdivi1 25uM",
          "Mmdivi1 25uM",
          "Mmdivi1 25uM",
          "Mmdivi1 25uM",
          "Mmdivi1 25uM",
          "Mmdivi1 25uM",
          "Mmdivi1 25uM",
          "Mmdivi1 25uM",
          "Mmdivi1 25uM",
          "Mmdivi1 25uM",
          "Mmdivi1 25uM",
          "Mmdivi1 25uM",
          "Mmdivi1 25uM",
          "Mmdivi1 25uM",
          "Mmdivi1 25uM",
          "Mmdivi1 25uM",
          "Mmdivi1 25uM",
          "Mmdivi1 25uM",
          "Mmdivi1 25uM",
          "Mmdivi1 25uM",
          "Mmdivi1 25uM",
          "Mmdivi1 25uM",
          "Mmdivi1 25uM",
          "Mmdivi1 25uM"
         ],
         "x0": " ",
         "xaxis": "x",
         "y": [
          "Mmdivi1 25uMp6",
          "Mmdivi1 25uMp8",
          "Mmdivi1 25uMp9",
          "Mmdivi1 25uMp6",
          "Mmdivi1 25uMp7",
          "Mmdivi1 25uMp4",
          "Mmdivi1 25uMp8",
          "Mmdivi1 25uMp7",
          "Mmdivi1 25uMp6",
          "Mmdivi1 25uMp5",
          "Mmdivi1 25uMp4",
          "Mmdivi1 25uMp6",
          "Mmdivi1 25uMp9",
          "Mmdivi1 25uMp4",
          "Mmdivi1 25uMp9",
          "Mmdivi1 25uMp8",
          "Mmdivi1 25uMp6",
          "Mmdivi1 25uMp5",
          "Mmdivi1 25uMp5",
          "Mmdivi1 25uMp7",
          "Mmdivi1 25uMp4",
          "Mmdivi1 25uMp8",
          "Mmdivi1 25uMp9",
          "Mmdivi1 25uMp7",
          "Mmdivi1 25uMp9",
          "Mmdivi1 25uMp6",
          "Mmdivi1 25uMp4",
          "Mmdivi1 25uMp7",
          "Mmdivi1 25uMp7",
          "Mmdivi1 25uMp8",
          "Mmdivi1 25uMp4",
          "Mmdivi1 25uMp5",
          "Mmdivi1 25uMp5",
          "Mmdivi1 25uMp8",
          "Mmdivi1 25uMp9"
         ],
         "y0": " ",
         "yaxis": "y"
        },
        {
         "alignmentgroup": "True",
         "boxpoints": "all",
         "customdata": [
          [
           "PREDMSO4717.0p7"
          ],
          [
           "PREDMSO4689.0p6"
          ],
          [
           "PREDMSO4717.0p7"
          ],
          [
           "PREDMSO4837.0p9"
          ],
          [
           "PREDMSO4837.0p9"
          ],
          [
           "PREDMSO4717.0p7"
          ],
          [
           "PREDMSO4837.0p9"
          ],
          [
           "PREDMSO4837.0p9"
          ],
          [
           "PREDMSO4717.0p7"
          ],
          [
           "PREDMSO4719.0p5"
          ],
          [
           "PREDMSO4719.0p4"
          ],
          [
           "PREDMSO4719.0p4"
          ],
          [
           "PREDMSO4719.0p5"
          ],
          [
           "PREDMSO4689.0p6"
          ],
          [
           "PREDMSO4719.0p4"
          ],
          [
           "PREDMSO4717.0p7"
          ],
          [
           "PREDMSO4719.0p4"
          ],
          [
           "PREDMSO4717.0p7"
          ],
          [
           "PREDMSO4689.0p6"
          ],
          [
           "PREDMSO4719.0p5"
          ],
          [
           "PREDMSO4837.0p9"
          ],
          [
           "PREDMSO4719.0p4"
          ],
          [
           "PREDMSO4719.0p5"
          ],
          [
           "PREDMSO4837.0p9"
          ]
         ],
         "hovertemplate": "group=%{x}<br>group_p=%{y}<br>group_with_p=%{customdata[0]}<extra></extra>",
         "legendgroup": "PREDMSO",
         "marker": {
          "color": "#ab63fa"
         },
         "name": "PREDMSO",
         "notched": true,
         "offsetgroup": "PREDMSO",
         "orientation": "v",
         "quartilemethod": "inclusive",
         "showlegend": true,
         "type": "box",
         "x": [
          "PREDMSO",
          "PREDMSO",
          "PREDMSO",
          "PREDMSO",
          "PREDMSO",
          "PREDMSO",
          "PREDMSO",
          "PREDMSO",
          "PREDMSO",
          "PREDMSO",
          "PREDMSO",
          "PREDMSO",
          "PREDMSO",
          "PREDMSO",
          "PREDMSO",
          "PREDMSO",
          "PREDMSO",
          "PREDMSO",
          "PREDMSO",
          "PREDMSO",
          "PREDMSO",
          "PREDMSO",
          "PREDMSO",
          "PREDMSO"
         ],
         "x0": " ",
         "xaxis": "x",
         "y": [
          "PREDMSOp7",
          "PREDMSOp6",
          "PREDMSOp7",
          "PREDMSOp9",
          "PREDMSOp9",
          "PREDMSOp7",
          "PREDMSOp9",
          "PREDMSOp9",
          "PREDMSOp7",
          "PREDMSOp5",
          "PREDMSOp4",
          "PREDMSOp4",
          "PREDMSOp5",
          "PREDMSOp6",
          "PREDMSOp4",
          "PREDMSOp7",
          "PREDMSOp4",
          "PREDMSOp7",
          "PREDMSOp6",
          "PREDMSOp5",
          "PREDMSOp9",
          "PREDMSOp4",
          "PREDMSOp5",
          "PREDMSOp9"
         ],
         "y0": " ",
         "yaxis": "y"
        },
        {
         "alignmentgroup": "True",
         "boxpoints": "all",
         "customdata": [
          [
           "PREmdivi1 25uM4717.0p7"
          ],
          [
           "PREmdivi1 25uM4717.0p7"
          ],
          [
           "PREmdivi1 25uM4719.0p4"
          ],
          [
           "PREmdivi1 25uM4719.0p4"
          ],
          [
           "PREmdivi1 25uM4837.0p9"
          ],
          [
           "PREmdivi1 25uM4719.0p5"
          ],
          [
           "PREmdivi1 25uM4719.0p4"
          ],
          [
           "PREmdivi1 25uM4719.0p5"
          ],
          [
           "PREmdivi1 25uM4719.0p4"
          ],
          [
           "PREmdivi1 25uM4689.0p6"
          ],
          [
           "PREmdivi1 25uM4719.0p4"
          ],
          [
           "PREmdivi1 25uM4719.0p5"
          ],
          [
           "PREmdivi1 25uM4717.0p7"
          ],
          [
           "PREmdivi1 25uM4719.0p5"
          ],
          [
           "PREmdivi1 25uM4689.0p6"
          ],
          [
           "PREmdivi1 25uM4689.0p6"
          ],
          [
           "PREmdivi1 25uM4717.0p7"
          ],
          [
           "PREmdivi1 25uM4837.0p9"
          ],
          [
           "PREmdivi1 25uM4719.0p5"
          ],
          [
           "PREmdivi1 25uM4719.0p5"
          ],
          [
           "PREmdivi1 25uM4717.0p7"
          ],
          [
           "PREmdivi1 25uM4837.0p9"
          ],
          [
           "PREmdivi1 25uM4689.0p6"
          ],
          [
           "PREmdivi1 25uM4689.0p6"
          ],
          [
           "PREmdivi1 25uM4689.0p6"
          ],
          [
           "PREmdivi1 25uM4717.0p7"
          ],
          [
           "PREmdivi1 25uM4719.0p4"
          ]
         ],
         "hovertemplate": "group=%{x}<br>group_p=%{y}<br>group_with_p=%{customdata[0]}<extra></extra>",
         "legendgroup": "PREmdivi1 25uM",
         "marker": {
          "color": "#FFA15A"
         },
         "name": "PREmdivi1 25uM",
         "notched": true,
         "offsetgroup": "PREmdivi1 25uM",
         "orientation": "v",
         "quartilemethod": "inclusive",
         "showlegend": true,
         "type": "box",
         "x": [
          "PREmdivi1 25uM",
          "PREmdivi1 25uM",
          "PREmdivi1 25uM",
          "PREmdivi1 25uM",
          "PREmdivi1 25uM",
          "PREmdivi1 25uM",
          "PREmdivi1 25uM",
          "PREmdivi1 25uM",
          "PREmdivi1 25uM",
          "PREmdivi1 25uM",
          "PREmdivi1 25uM",
          "PREmdivi1 25uM",
          "PREmdivi1 25uM",
          "PREmdivi1 25uM",
          "PREmdivi1 25uM",
          "PREmdivi1 25uM",
          "PREmdivi1 25uM",
          "PREmdivi1 25uM",
          "PREmdivi1 25uM",
          "PREmdivi1 25uM",
          "PREmdivi1 25uM",
          "PREmdivi1 25uM",
          "PREmdivi1 25uM",
          "PREmdivi1 25uM",
          "PREmdivi1 25uM",
          "PREmdivi1 25uM",
          "PREmdivi1 25uM"
         ],
         "x0": " ",
         "xaxis": "x",
         "y": [
          "PREmdivi1 25uMp7",
          "PREmdivi1 25uMp7",
          "PREmdivi1 25uMp4",
          "PREmdivi1 25uMp4",
          "PREmdivi1 25uMp9",
          "PREmdivi1 25uMp5",
          "PREmdivi1 25uMp4",
          "PREmdivi1 25uMp5",
          "PREmdivi1 25uMp4",
          "PREmdivi1 25uMp6",
          "PREmdivi1 25uMp4",
          "PREmdivi1 25uMp5",
          "PREmdivi1 25uMp7",
          "PREmdivi1 25uMp5",
          "PREmdivi1 25uMp6",
          "PREmdivi1 25uMp6",
          "PREmdivi1 25uMp7",
          "PREmdivi1 25uMp9",
          "PREmdivi1 25uMp5",
          "PREmdivi1 25uMp5",
          "PREmdivi1 25uMp7",
          "PREmdivi1 25uMp9",
          "PREmdivi1 25uMp6",
          "PREmdivi1 25uMp6",
          "PREmdivi1 25uMp6",
          "PREmdivi1 25uMp7",
          "PREmdivi1 25uMp4"
         ],
         "y0": " ",
         "yaxis": "y"
        },
        {
         "alignmentgroup": "True",
         "boxpoints": "all",
         "customdata": [
          [
           "SDMSO4709.0p9"
          ],
          [
           "SDMSO305.0p6"
          ],
          [
           "SDMSO4687.0p7"
          ],
          [
           "SDMSO4287.0p5"
          ],
          [
           "SDMSO2165.0p10"
          ],
          [
           "SDMSO4687.0p7"
          ],
          [
           "SDMSO305.0p6"
          ],
          [
           "SDMSO305.0p6"
          ],
          [
           "SDMSO4709.0p9"
          ],
          [
           "SDMSO4287.0p5"
          ],
          [
           "SDMSO4687.0p7"
          ],
          [
           "SDMSO305.0p6"
          ],
          [
           "SDMSO4709.0p9"
          ],
          [
           "SDMSO4287.0p5"
          ],
          [
           "SDMSO4287.0p5"
          ],
          [
           "SDMSO4476.0p10"
          ],
          [
           "SDMSO4709.0p9"
          ],
          [
           "SDMSO4687.0p7"
          ],
          [
           "SDMSO4709.0p9"
          ],
          [
           "SDMSO4807.0p8"
          ],
          [
           "SDMSO4709.0p9"
          ],
          [
           "SDMSO305.0p6"
          ],
          [
           "SDMSO4287.0p5"
          ],
          [
           "SDMSO4687.0p7"
          ],
          [
           "SDMSO4287.0p5"
          ],
          [
           "SDMSO4687.0p7"
          ],
          [
           "SDMSO4476.0p10"
          ],
          [
           "SDMSO305.0p6"
          ]
         ],
         "hovertemplate": "group=%{x}<br>group_p=%{y}<br>group_with_p=%{customdata[0]}<extra></extra>",
         "legendgroup": "SDMSO",
         "marker": {
          "color": "#19d3f3"
         },
         "name": "SDMSO",
         "notched": true,
         "offsetgroup": "SDMSO",
         "orientation": "v",
         "quartilemethod": "inclusive",
         "showlegend": true,
         "type": "box",
         "x": [
          "SDMSO",
          "SDMSO",
          "SDMSO",
          "SDMSO",
          "SDMSO",
          "SDMSO",
          "SDMSO",
          "SDMSO",
          "SDMSO",
          "SDMSO",
          "SDMSO",
          "SDMSO",
          "SDMSO",
          "SDMSO",
          "SDMSO",
          "SDMSO",
          "SDMSO",
          "SDMSO",
          "SDMSO",
          "SDMSO",
          "SDMSO",
          "SDMSO",
          "SDMSO",
          "SDMSO",
          "SDMSO",
          "SDMSO",
          "SDMSO",
          "SDMSO"
         ],
         "x0": " ",
         "xaxis": "x",
         "y": [
          "SDMSOp9",
          "SDMSOp6",
          "SDMSOp7",
          "SDMSOp5",
          "SDMSOp10",
          "SDMSOp7",
          "SDMSOp6",
          "SDMSOp6",
          "SDMSOp9",
          "SDMSOp5",
          "SDMSOp7",
          "SDMSOp6",
          "SDMSOp9",
          "SDMSOp5",
          "SDMSOp5",
          "SDMSOp10",
          "SDMSOp9",
          "SDMSOp7",
          "SDMSOp9",
          "SDMSOp8",
          "SDMSOp9",
          "SDMSOp6",
          "SDMSOp5",
          "SDMSOp7",
          "SDMSOp5",
          "SDMSOp7",
          "SDMSOp10",
          "SDMSOp6"
         ],
         "y0": " ",
         "yaxis": "y"
        },
        {
         "alignmentgroup": "True",
         "boxpoints": "all",
         "customdata": [
          [
           "Smdivi1 25uM305.0p6"
          ],
          [
           "Smdivi1 25uM305.0p6"
          ],
          [
           "Smdivi1 25uM305.0p6"
          ],
          [
           "Smdivi1 25uM4287.0p5"
          ],
          [
           "Smdivi1 25uM4687.0p7"
          ],
          [
           "Smdivi1 25uM4476.0p10"
          ],
          [
           "Smdivi1 25uM4687.0p7"
          ],
          [
           "Smdivi1 25uM4287.0p5"
          ],
          [
           "Smdivi1 25uM4709.0p9"
          ],
          [
           "Smdivi1 25uM2165.0p10"
          ],
          [
           "Smdivi1 25uM305.0p6"
          ],
          [
           "Smdivi1 25uM4709.0p9"
          ],
          [
           "Smdivi1 25uM4287.0p5"
          ],
          [
           "Smdivi1 25uM4687.0p7"
          ],
          [
           "Smdivi1 25uM4709.0p9"
          ],
          [
           "Smdivi1 25uM2165.0p10"
          ],
          [
           "Smdivi1 25uM4687.0p7"
          ],
          [
           "Smdivi1 25uM4709.0p9"
          ],
          [
           "Smdivi1 25uM305.0p6"
          ],
          [
           "Smdivi1 25uM4287.0p5"
          ],
          [
           "Smdivi1 25uM305.0p6"
          ],
          [
           "Smdivi1 25uM2165.0p10"
          ],
          [
           "Smdivi1 25uM4687.0p7"
          ],
          [
           "Smdivi1 25uM4476.0p10"
          ],
          [
           "Smdivi1 25uM4476.0p10"
          ],
          [
           "Smdivi1 25uM4287.0p5"
          ],
          [
           "Smdivi1 25uM4476.0p10"
          ],
          [
           "Smdivi1 25uM4687.0p7"
          ],
          [
           "Smdivi1 25uM4287.0p5"
          ],
          [
           "Smdivi1 25uM2165.0p10"
          ],
          [
           "Smdivi1 25uM2165.0p10"
          ],
          [
           "Smdivi1 25uM4709.0p9"
          ],
          [
           "Smdivi1 25uM4476.0p10"
          ],
          [
           "Smdivi1 25uM4476.0p10"
          ],
          [
           "Smdivi1 25uM4709.0p9"
          ]
         ],
         "hovertemplate": "group=%{x}<br>group_p=%{y}<br>group_with_p=%{customdata[0]}<extra></extra>",
         "legendgroup": "Smdivi1 25uM",
         "marker": {
          "color": "#FF6692"
         },
         "name": "Smdivi1 25uM",
         "notched": true,
         "offsetgroup": "Smdivi1 25uM",
         "orientation": "v",
         "quartilemethod": "inclusive",
         "showlegend": true,
         "type": "box",
         "x": [
          "Smdivi1 25uM",
          "Smdivi1 25uM",
          "Smdivi1 25uM",
          "Smdivi1 25uM",
          "Smdivi1 25uM",
          "Smdivi1 25uM",
          "Smdivi1 25uM",
          "Smdivi1 25uM",
          "Smdivi1 25uM",
          "Smdivi1 25uM",
          "Smdivi1 25uM",
          "Smdivi1 25uM",
          "Smdivi1 25uM",
          "Smdivi1 25uM",
          "Smdivi1 25uM",
          "Smdivi1 25uM",
          "Smdivi1 25uM",
          "Smdivi1 25uM",
          "Smdivi1 25uM",
          "Smdivi1 25uM",
          "Smdivi1 25uM",
          "Smdivi1 25uM",
          "Smdivi1 25uM",
          "Smdivi1 25uM",
          "Smdivi1 25uM",
          "Smdivi1 25uM",
          "Smdivi1 25uM",
          "Smdivi1 25uM",
          "Smdivi1 25uM",
          "Smdivi1 25uM",
          "Smdivi1 25uM",
          "Smdivi1 25uM",
          "Smdivi1 25uM",
          "Smdivi1 25uM",
          "Smdivi1 25uM"
         ],
         "x0": " ",
         "xaxis": "x",
         "y": [
          "Smdivi1 25uMp6",
          "Smdivi1 25uMp6",
          "Smdivi1 25uMp6",
          "Smdivi1 25uMp5",
          "Smdivi1 25uMp7",
          "Smdivi1 25uMp10",
          "Smdivi1 25uMp7",
          "Smdivi1 25uMp5",
          "Smdivi1 25uMp9",
          "Smdivi1 25uMp10",
          "Smdivi1 25uMp6",
          "Smdivi1 25uMp9",
          "Smdivi1 25uMp5",
          "Smdivi1 25uMp7",
          "Smdivi1 25uMp9",
          "Smdivi1 25uMp10",
          "Smdivi1 25uMp7",
          "Smdivi1 25uMp9",
          "Smdivi1 25uMp6",
          "Smdivi1 25uMp5",
          "Smdivi1 25uMp6",
          "Smdivi1 25uMp10",
          "Smdivi1 25uMp7",
          "Smdivi1 25uMp10",
          "Smdivi1 25uMp10",
          "Smdivi1 25uMp5",
          "Smdivi1 25uMp10",
          "Smdivi1 25uMp7",
          "Smdivi1 25uMp5",
          "Smdivi1 25uMp10",
          "Smdivi1 25uMp10",
          "Smdivi1 25uMp9",
          "Smdivi1 25uMp10",
          "Smdivi1 25uMp10",
          "Smdivi1 25uMp9"
         ],
         "y0": " ",
         "yaxis": "y"
        }
       ],
       "layout": {
        "boxmode": "overlay",
        "font": {
         "color": "Black",
         "family": "Arial",
         "size": 20
        },
        "legend": {
         "title": {
          "text": "group"
         },
         "tracegroupgap": 0
        },
        "margin": {
         "t": 60
        },
        "template": {
         "data": {
          "bar": [
           {
            "error_x": {
             "color": "#2a3f5f"
            },
            "error_y": {
             "color": "#2a3f5f"
            },
            "marker": {
             "line": {
              "color": "#E5ECF6",
              "width": 0.5
             },
             "pattern": {
              "fillmode": "overlay",
              "size": 10,
              "solidity": 0.2
             }
            },
            "type": "bar"
           }
          ],
          "barpolar": [
           {
            "marker": {
             "line": {
              "color": "#E5ECF6",
              "width": 0.5
             },
             "pattern": {
              "fillmode": "overlay",
              "size": 10,
              "solidity": 0.2
             }
            },
            "type": "barpolar"
           }
          ],
          "carpet": [
           {
            "aaxis": {
             "endlinecolor": "#2a3f5f",
             "gridcolor": "white",
             "linecolor": "white",
             "minorgridcolor": "white",
             "startlinecolor": "#2a3f5f"
            },
            "baxis": {
             "endlinecolor": "#2a3f5f",
             "gridcolor": "white",
             "linecolor": "white",
             "minorgridcolor": "white",
             "startlinecolor": "#2a3f5f"
            },
            "type": "carpet"
           }
          ],
          "choropleth": [
           {
            "colorbar": {
             "outlinewidth": 0,
             "ticks": ""
            },
            "type": "choropleth"
           }
          ],
          "contour": [
           {
            "colorbar": {
             "outlinewidth": 0,
             "ticks": ""
            },
            "colorscale": [
             [
              0,
              "#0d0887"
             ],
             [
              0.1111111111111111,
              "#46039f"
             ],
             [
              0.2222222222222222,
              "#7201a8"
             ],
             [
              0.3333333333333333,
              "#9c179e"
             ],
             [
              0.4444444444444444,
              "#bd3786"
             ],
             [
              0.5555555555555556,
              "#d8576b"
             ],
             [
              0.6666666666666666,
              "#ed7953"
             ],
             [
              0.7777777777777778,
              "#fb9f3a"
             ],
             [
              0.8888888888888888,
              "#fdca26"
             ],
             [
              1,
              "#f0f921"
             ]
            ],
            "type": "contour"
           }
          ],
          "contourcarpet": [
           {
            "colorbar": {
             "outlinewidth": 0,
             "ticks": ""
            },
            "type": "contourcarpet"
           }
          ],
          "heatmap": [
           {
            "colorbar": {
             "outlinewidth": 0,
             "ticks": ""
            },
            "colorscale": [
             [
              0,
              "#0d0887"
             ],
             [
              0.1111111111111111,
              "#46039f"
             ],
             [
              0.2222222222222222,
              "#7201a8"
             ],
             [
              0.3333333333333333,
              "#9c179e"
             ],
             [
              0.4444444444444444,
              "#bd3786"
             ],
             [
              0.5555555555555556,
              "#d8576b"
             ],
             [
              0.6666666666666666,
              "#ed7953"
             ],
             [
              0.7777777777777778,
              "#fb9f3a"
             ],
             [
              0.8888888888888888,
              "#fdca26"
             ],
             [
              1,
              "#f0f921"
             ]
            ],
            "type": "heatmap"
           }
          ],
          "heatmapgl": [
           {
            "colorbar": {
             "outlinewidth": 0,
             "ticks": ""
            },
            "colorscale": [
             [
              0,
              "#0d0887"
             ],
             [
              0.1111111111111111,
              "#46039f"
             ],
             [
              0.2222222222222222,
              "#7201a8"
             ],
             [
              0.3333333333333333,
              "#9c179e"
             ],
             [
              0.4444444444444444,
              "#bd3786"
             ],
             [
              0.5555555555555556,
              "#d8576b"
             ],
             [
              0.6666666666666666,
              "#ed7953"
             ],
             [
              0.7777777777777778,
              "#fb9f3a"
             ],
             [
              0.8888888888888888,
              "#fdca26"
             ],
             [
              1,
              "#f0f921"
             ]
            ],
            "type": "heatmapgl"
           }
          ],
          "histogram": [
           {
            "marker": {
             "pattern": {
              "fillmode": "overlay",
              "size": 10,
              "solidity": 0.2
             }
            },
            "type": "histogram"
           }
          ],
          "histogram2d": [
           {
            "colorbar": {
             "outlinewidth": 0,
             "ticks": ""
            },
            "colorscale": [
             [
              0,
              "#0d0887"
             ],
             [
              0.1111111111111111,
              "#46039f"
             ],
             [
              0.2222222222222222,
              "#7201a8"
             ],
             [
              0.3333333333333333,
              "#9c179e"
             ],
             [
              0.4444444444444444,
              "#bd3786"
             ],
             [
              0.5555555555555556,
              "#d8576b"
             ],
             [
              0.6666666666666666,
              "#ed7953"
             ],
             [
              0.7777777777777778,
              "#fb9f3a"
             ],
             [
              0.8888888888888888,
              "#fdca26"
             ],
             [
              1,
              "#f0f921"
             ]
            ],
            "type": "histogram2d"
           }
          ],
          "histogram2dcontour": [
           {
            "colorbar": {
             "outlinewidth": 0,
             "ticks": ""
            },
            "colorscale": [
             [
              0,
              "#0d0887"
             ],
             [
              0.1111111111111111,
              "#46039f"
             ],
             [
              0.2222222222222222,
              "#7201a8"
             ],
             [
              0.3333333333333333,
              "#9c179e"
             ],
             [
              0.4444444444444444,
              "#bd3786"
             ],
             [
              0.5555555555555556,
              "#d8576b"
             ],
             [
              0.6666666666666666,
              "#ed7953"
             ],
             [
              0.7777777777777778,
              "#fb9f3a"
             ],
             [
              0.8888888888888888,
              "#fdca26"
             ],
             [
              1,
              "#f0f921"
             ]
            ],
            "type": "histogram2dcontour"
           }
          ],
          "mesh3d": [
           {
            "colorbar": {
             "outlinewidth": 0,
             "ticks": ""
            },
            "type": "mesh3d"
           }
          ],
          "parcoords": [
           {
            "line": {
             "colorbar": {
              "outlinewidth": 0,
              "ticks": ""
             }
            },
            "type": "parcoords"
           }
          ],
          "pie": [
           {
            "automargin": true,
            "type": "pie"
           }
          ],
          "scatter": [
           {
            "fillpattern": {
             "fillmode": "overlay",
             "size": 10,
             "solidity": 0.2
            },
            "type": "scatter"
           }
          ],
          "scatter3d": [
           {
            "line": {
             "colorbar": {
              "outlinewidth": 0,
              "ticks": ""
             }
            },
            "marker": {
             "colorbar": {
              "outlinewidth": 0,
              "ticks": ""
             }
            },
            "type": "scatter3d"
           }
          ],
          "scattercarpet": [
           {
            "marker": {
             "colorbar": {
              "outlinewidth": 0,
              "ticks": ""
             }
            },
            "type": "scattercarpet"
           }
          ],
          "scattergeo": [
           {
            "marker": {
             "colorbar": {
              "outlinewidth": 0,
              "ticks": ""
             }
            },
            "type": "scattergeo"
           }
          ],
          "scattergl": [
           {
            "marker": {
             "colorbar": {
              "outlinewidth": 0,
              "ticks": ""
             }
            },
            "type": "scattergl"
           }
          ],
          "scattermapbox": [
           {
            "marker": {
             "colorbar": {
              "outlinewidth": 0,
              "ticks": ""
             }
            },
            "type": "scattermapbox"
           }
          ],
          "scatterpolar": [
           {
            "marker": {
             "colorbar": {
              "outlinewidth": 0,
              "ticks": ""
             }
            },
            "type": "scatterpolar"
           }
          ],
          "scatterpolargl": [
           {
            "marker": {
             "colorbar": {
              "outlinewidth": 0,
              "ticks": ""
             }
            },
            "type": "scatterpolargl"
           }
          ],
          "scatterternary": [
           {
            "marker": {
             "colorbar": {
              "outlinewidth": 0,
              "ticks": ""
             }
            },
            "type": "scatterternary"
           }
          ],
          "surface": [
           {
            "colorbar": {
             "outlinewidth": 0,
             "ticks": ""
            },
            "colorscale": [
             [
              0,
              "#0d0887"
             ],
             [
              0.1111111111111111,
              "#46039f"
             ],
             [
              0.2222222222222222,
              "#7201a8"
             ],
             [
              0.3333333333333333,
              "#9c179e"
             ],
             [
              0.4444444444444444,
              "#bd3786"
             ],
             [
              0.5555555555555556,
              "#d8576b"
             ],
             [
              0.6666666666666666,
              "#ed7953"
             ],
             [
              0.7777777777777778,
              "#fb9f3a"
             ],
             [
              0.8888888888888888,
              "#fdca26"
             ],
             [
              1,
              "#f0f921"
             ]
            ],
            "type": "surface"
           }
          ],
          "table": [
           {
            "cells": {
             "fill": {
              "color": "#EBF0F8"
             },
             "line": {
              "color": "white"
             }
            },
            "header": {
             "fill": {
              "color": "#C8D4E3"
             },
             "line": {
              "color": "white"
             }
            },
            "type": "table"
           }
          ]
         },
         "layout": {
          "annotationdefaults": {
           "arrowcolor": "#2a3f5f",
           "arrowhead": 0,
           "arrowwidth": 1
          },
          "autotypenumbers": "strict",
          "coloraxis": {
           "colorbar": {
            "outlinewidth": 0,
            "ticks": ""
           }
          },
          "colorscale": {
           "diverging": [
            [
             0,
             "#8e0152"
            ],
            [
             0.1,
             "#c51b7d"
            ],
            [
             0.2,
             "#de77ae"
            ],
            [
             0.3,
             "#f1b6da"
            ],
            [
             0.4,
             "#fde0ef"
            ],
            [
             0.5,
             "#f7f7f7"
            ],
            [
             0.6,
             "#e6f5d0"
            ],
            [
             0.7,
             "#b8e186"
            ],
            [
             0.8,
             "#7fbc41"
            ],
            [
             0.9,
             "#4d9221"
            ],
            [
             1,
             "#276419"
            ]
           ],
           "sequential": [
            [
             0,
             "#0d0887"
            ],
            [
             0.1111111111111111,
             "#46039f"
            ],
            [
             0.2222222222222222,
             "#7201a8"
            ],
            [
             0.3333333333333333,
             "#9c179e"
            ],
            [
             0.4444444444444444,
             "#bd3786"
            ],
            [
             0.5555555555555556,
             "#d8576b"
            ],
            [
             0.6666666666666666,
             "#ed7953"
            ],
            [
             0.7777777777777778,
             "#fb9f3a"
            ],
            [
             0.8888888888888888,
             "#fdca26"
            ],
            [
             1,
             "#f0f921"
            ]
           ],
           "sequentialminus": [
            [
             0,
             "#0d0887"
            ],
            [
             0.1111111111111111,
             "#46039f"
            ],
            [
             0.2222222222222222,
             "#7201a8"
            ],
            [
             0.3333333333333333,
             "#9c179e"
            ],
            [
             0.4444444444444444,
             "#bd3786"
            ],
            [
             0.5555555555555556,
             "#d8576b"
            ],
            [
             0.6666666666666666,
             "#ed7953"
            ],
            [
             0.7777777777777778,
             "#fb9f3a"
            ],
            [
             0.8888888888888888,
             "#fdca26"
            ],
            [
             1,
             "#f0f921"
            ]
           ]
          },
          "colorway": [
           "#636efa",
           "#EF553B",
           "#00cc96",
           "#ab63fa",
           "#FFA15A",
           "#19d3f3",
           "#FF6692",
           "#B6E880",
           "#FF97FF",
           "#FECB52"
          ],
          "font": {
           "color": "#2a3f5f"
          },
          "geo": {
           "bgcolor": "white",
           "lakecolor": "white",
           "landcolor": "#E5ECF6",
           "showlakes": true,
           "showland": true,
           "subunitcolor": "white"
          },
          "hoverlabel": {
           "align": "left"
          },
          "hovermode": "closest",
          "mapbox": {
           "style": "light"
          },
          "paper_bgcolor": "white",
          "plot_bgcolor": "#E5ECF6",
          "polar": {
           "angularaxis": {
            "gridcolor": "white",
            "linecolor": "white",
            "ticks": ""
           },
           "bgcolor": "#E5ECF6",
           "radialaxis": {
            "gridcolor": "white",
            "linecolor": "white",
            "ticks": ""
           }
          },
          "scene": {
           "xaxis": {
            "backgroundcolor": "#E5ECF6",
            "gridcolor": "white",
            "gridwidth": 2,
            "linecolor": "white",
            "showbackground": true,
            "ticks": "",
            "zerolinecolor": "white"
           },
           "yaxis": {
            "backgroundcolor": "#E5ECF6",
            "gridcolor": "white",
            "gridwidth": 2,
            "linecolor": "white",
            "showbackground": true,
            "ticks": "",
            "zerolinecolor": "white"
           },
           "zaxis": {
            "backgroundcolor": "#E5ECF6",
            "gridcolor": "white",
            "gridwidth": 2,
            "linecolor": "white",
            "showbackground": true,
            "ticks": "",
            "zerolinecolor": "white"
           }
          },
          "shapedefaults": {
           "line": {
            "color": "#2a3f5f"
           }
          },
          "ternary": {
           "aaxis": {
            "gridcolor": "white",
            "linecolor": "white",
            "ticks": ""
           },
           "baxis": {
            "gridcolor": "white",
            "linecolor": "white",
            "ticks": ""
           },
           "bgcolor": "#E5ECF6",
           "caxis": {
            "gridcolor": "white",
            "linecolor": "white",
            "ticks": ""
           }
          },
          "title": {
           "x": 0.05
          },
          "xaxis": {
           "automargin": true,
           "gridcolor": "white",
           "linecolor": "white",
           "ticks": "",
           "title": {
            "standoff": 15
           },
           "zerolinecolor": "white",
           "zerolinewidth": 2
          },
          "yaxis": {
           "automargin": true,
           "gridcolor": "white",
           "linecolor": "white",
           "ticks": "",
           "title": {
            "standoff": 15
           },
           "zerolinecolor": "white",
           "zerolinewidth": 2
          }
         }
        },
        "xaxis": {
         "anchor": "y",
         "categoryarray": [
          "HCDMSO",
          "PREDMSO",
          "PREmdivi1 25uM",
          "MDMSO",
          "Mmdivi1 25uM",
          "SDMSO",
          "Smdivi1 25uM"
         ],
         "categoryorder": "array",
         "domain": [
          0,
          1
         ],
         "title": {
          "text": "group"
         }
        },
        "yaxis": {
         "anchor": "x",
         "domain": [
          0,
          1
         ],
         "title": {
          "text": "group_p"
         }
        }
       }
      },
      "text/html": [
       "<div>                            <div id=\"44f62cba-473e-4560-a00c-a489a90e07ea\" class=\"plotly-graph-div\" style=\"height:525px; width:100%;\"></div>            <script type=\"text/javascript\">                require([\"plotly\"], function(Plotly) {                    window.PLOTLYENV=window.PLOTLYENV || {};                                    if (document.getElementById(\"44f62cba-473e-4560-a00c-a489a90e07ea\")) {                    Plotly.newPlot(                        \"44f62cba-473e-4560-a00c-a489a90e07ea\",                        [{\"alignmentgroup\":\"True\",\"boxpoints\":\"all\",\"customdata\":[[\"HCDMSO495.0p6\"],[\"HCDMSO1170.0p10\"],[\"HCDMSO1650.0p7\"],[\"HCDMSO1650.0p8\"],[\"HCDMSO1650.0p6\"],[\"HCDMSO1650.0p9\"],[\"HCDMSO495.0p6\"],[\"HCDMSO1653.0p7\"],[\"HCDMSO1650.0p9\"],[\"HCDMSO730.0p8\"],[\"HCDMSO143.0p6\"],[\"HCDMSO1650.0p7\"],[\"HCDMSO1653.0p8\"],[\"HCDMSO730.0p9\"],[\"HCDMSO1016.0p10\"],[\"HCDMSO1170.0p10\"],[\"HCDMSO1653.0p7\"],[\"HCDMSO951.0p10\"],[\"HCDMSO1653.0p4\"],[\"HCDMSO143.0p7\"],[\"HCDMSO143.0p7\"],[\"HCDMSO1653.0p9\"],[\"HCDMSO730.0p9\"],[\"HCDMSO495.0p7\"],[\"HCDMSO143.0p6\"],[\"HCDMSO1016.0p10\"],[\"HCDMSO1016.0p10\"],[\"HCDMSO1170.0p10\"],[\"HCDMSO1016.0p10\"],[\"HCDMSO143.0p6\"],[\"HCDMSO730.0p9\"],[\"HCDMSO143.0p6\"],[\"HCDMSO495.0p6\"],[\"HCDMSO1170.0p10\"],[\"HCDMSO730.0p9\"],[\"HCDMSO730.0p9\"],[\"HCDMSO1016.0p10\"],[\"HCDMSO1170.0p10\"],[\"HCDMSO495.0p7\"],[\"HCDMSO495.0p7\"],[\"HCDMSO1016.0p10\"]],\"hovertemplate\":\"group=%{x}<br>group_p=%{y}<br>group_with_p=%{customdata[0]}<extra></extra>\",\"legendgroup\":\"HCDMSO\",\"marker\":{\"color\":\"#636efa\"},\"name\":\"HCDMSO\",\"notched\":true,\"offsetgroup\":\"HCDMSO\",\"orientation\":\"v\",\"showlegend\":true,\"x\":[\"HCDMSO\",\"HCDMSO\",\"HCDMSO\",\"HCDMSO\",\"HCDMSO\",\"HCDMSO\",\"HCDMSO\",\"HCDMSO\",\"HCDMSO\",\"HCDMSO\",\"HCDMSO\",\"HCDMSO\",\"HCDMSO\",\"HCDMSO\",\"HCDMSO\",\"HCDMSO\",\"HCDMSO\",\"HCDMSO\",\"HCDMSO\",\"HCDMSO\",\"HCDMSO\",\"HCDMSO\",\"HCDMSO\",\"HCDMSO\",\"HCDMSO\",\"HCDMSO\",\"HCDMSO\",\"HCDMSO\",\"HCDMSO\",\"HCDMSO\",\"HCDMSO\",\"HCDMSO\",\"HCDMSO\",\"HCDMSO\",\"HCDMSO\",\"HCDMSO\",\"HCDMSO\",\"HCDMSO\",\"HCDMSO\",\"HCDMSO\",\"HCDMSO\"],\"x0\":\" \",\"xaxis\":\"x\",\"y\":[\"HCDMSOp6\",\"HCDMSOp10\",\"HCDMSOp7\",\"HCDMSOp8\",\"HCDMSOp6\",\"HCDMSOp9\",\"HCDMSOp6\",\"HCDMSOp7\",\"HCDMSOp9\",\"HCDMSOp8\",\"HCDMSOp6\",\"HCDMSOp7\",\"HCDMSOp8\",\"HCDMSOp9\",\"HCDMSOp10\",\"HCDMSOp10\",\"HCDMSOp7\",\"HCDMSOp10\",\"HCDMSOp4\",\"HCDMSOp7\",\"HCDMSOp7\",\"HCDMSOp9\",\"HCDMSOp9\",\"HCDMSOp7\",\"HCDMSOp6\",\"HCDMSOp10\",\"HCDMSOp10\",\"HCDMSOp10\",\"HCDMSOp10\",\"HCDMSOp6\",\"HCDMSOp9\",\"HCDMSOp6\",\"HCDMSOp6\",\"HCDMSOp10\",\"HCDMSOp9\",\"HCDMSOp9\",\"HCDMSOp10\",\"HCDMSOp10\",\"HCDMSOp7\",\"HCDMSOp7\",\"HCDMSOp10\"],\"y0\":\" \",\"yaxis\":\"y\",\"type\":\"box\",\"quartilemethod\":\"inclusive\"},{\"alignmentgroup\":\"True\",\"boxpoints\":\"all\",\"customdata\":[[\"MDMSO4819.0p4\"],[\"MDMSO4819.0p4\"],[\"MDMSO4819.0p4\"],[\"MDMSO4799.0p8\"],[\"MDMSO4715.0p6\"],[\"MDMSO4212.0p9\"],[\"MDMSO4212.0p9\"],[\"MDMSO4212.0p9\"],[\"MDMSO4887.0p7\"],[\"MDMSO4212.0p9\"],[\"MDMSO4819.0p4\"],[\"MDMSO4819.0p4\"],[\"MDMSO4715.0p6\"],[\"MDMSO4887.0p7\"],[\"MDMSO4799.0p8\"],[\"MDMSO4715.0p6\"],[\"MDMSO4887.0p7\"],[\"MDMSO4715.0p6\"],[\"MDMSO4799.0p8\"],[\"MDMSO4799.0p8\"],[\"MDMSO4799.0p8\"],[\"MDMSO4819.0p4\"],[\"MDMSO4212.0p9\"]],\"hovertemplate\":\"group=%{x}<br>group_p=%{y}<br>group_with_p=%{customdata[0]}<extra></extra>\",\"legendgroup\":\"MDMSO\",\"marker\":{\"color\":\"#EF553B\"},\"name\":\"MDMSO\",\"notched\":true,\"offsetgroup\":\"MDMSO\",\"orientation\":\"v\",\"showlegend\":true,\"x\":[\"MDMSO\",\"MDMSO\",\"MDMSO\",\"MDMSO\",\"MDMSO\",\"MDMSO\",\"MDMSO\",\"MDMSO\",\"MDMSO\",\"MDMSO\",\"MDMSO\",\"MDMSO\",\"MDMSO\",\"MDMSO\",\"MDMSO\",\"MDMSO\",\"MDMSO\",\"MDMSO\",\"MDMSO\",\"MDMSO\",\"MDMSO\",\"MDMSO\",\"MDMSO\"],\"x0\":\" \",\"xaxis\":\"x\",\"y\":[\"MDMSOp4\",\"MDMSOp4\",\"MDMSOp4\",\"MDMSOp8\",\"MDMSOp6\",\"MDMSOp9\",\"MDMSOp9\",\"MDMSOp9\",\"MDMSOp7\",\"MDMSOp9\",\"MDMSOp4\",\"MDMSOp4\",\"MDMSOp6\",\"MDMSOp7\",\"MDMSOp8\",\"MDMSOp6\",\"MDMSOp7\",\"MDMSOp6\",\"MDMSOp8\",\"MDMSOp8\",\"MDMSOp8\",\"MDMSOp4\",\"MDMSOp9\"],\"y0\":\" \",\"yaxis\":\"y\",\"type\":\"box\",\"quartilemethod\":\"inclusive\"},{\"alignmentgroup\":\"True\",\"boxpoints\":\"all\",\"customdata\":[[\"Mmdivi1 25uM4715.0p6\"],[\"Mmdivi1 25uM4799.0p8\"],[\"Mmdivi1 25uM4212.0p9\"],[\"Mmdivi1 25uM4715.0p6\"],[\"Mmdivi1 25uM4887.0p7\"],[\"Mmdivi1 25uM4819.0p4\"],[\"Mmdivi1 25uM4799.0p8\"],[\"Mmdivi1 25uM4887.0p7\"],[\"Mmdivi1 25uM4715.0p6\"],[\"Mmdivi1 25uM4721.0p5\"],[\"Mmdivi1 25uM4819.0p4\"],[\"Mmdivi1 25uM4715.0p6\"],[\"Mmdivi1 25uM4212.0p9\"],[\"Mmdivi1 25uM4819.0p4\"],[\"Mmdivi1 25uM4212.0p9\"],[\"Mmdivi1 25uM4799.0p8\"],[\"Mmdivi1 25uM4715.0p6\"],[\"Mmdivi1 25uM4721.0p5\"],[\"Mmdivi1 25uM4721.0p5\"],[\"Mmdivi1 25uM4887.0p7\"],[\"Mmdivi1 25uM4819.0p4\"],[\"Mmdivi1 25uM4799.0p8\"],[\"Mmdivi1 25uM4212.0p9\"],[\"Mmdivi1 25uM4887.0p7\"],[\"Mmdivi1 25uM4212.0p9\"],[\"Mmdivi1 25uM4715.0p6\"],[\"Mmdivi1 25uM4819.0p4\"],[\"Mmdivi1 25uM4887.0p7\"],[\"Mmdivi1 25uM4887.0p7\"],[\"Mmdivi1 25uM4799.0p8\"],[\"Mmdivi1 25uM4819.0p4\"],[\"Mmdivi1 25uM4721.0p5\"],[\"Mmdivi1 25uM4721.0p5\"],[\"Mmdivi1 25uM4799.0p8\"],[\"Mmdivi1 25uM4212.0p9\"]],\"hovertemplate\":\"group=%{x}<br>group_p=%{y}<br>group_with_p=%{customdata[0]}<extra></extra>\",\"legendgroup\":\"Mmdivi1 25uM\",\"marker\":{\"color\":\"#00cc96\"},\"name\":\"Mmdivi1 25uM\",\"notched\":true,\"offsetgroup\":\"Mmdivi1 25uM\",\"orientation\":\"v\",\"showlegend\":true,\"x\":[\"Mmdivi1 25uM\",\"Mmdivi1 25uM\",\"Mmdivi1 25uM\",\"Mmdivi1 25uM\",\"Mmdivi1 25uM\",\"Mmdivi1 25uM\",\"Mmdivi1 25uM\",\"Mmdivi1 25uM\",\"Mmdivi1 25uM\",\"Mmdivi1 25uM\",\"Mmdivi1 25uM\",\"Mmdivi1 25uM\",\"Mmdivi1 25uM\",\"Mmdivi1 25uM\",\"Mmdivi1 25uM\",\"Mmdivi1 25uM\",\"Mmdivi1 25uM\",\"Mmdivi1 25uM\",\"Mmdivi1 25uM\",\"Mmdivi1 25uM\",\"Mmdivi1 25uM\",\"Mmdivi1 25uM\",\"Mmdivi1 25uM\",\"Mmdivi1 25uM\",\"Mmdivi1 25uM\",\"Mmdivi1 25uM\",\"Mmdivi1 25uM\",\"Mmdivi1 25uM\",\"Mmdivi1 25uM\",\"Mmdivi1 25uM\",\"Mmdivi1 25uM\",\"Mmdivi1 25uM\",\"Mmdivi1 25uM\",\"Mmdivi1 25uM\",\"Mmdivi1 25uM\"],\"x0\":\" \",\"xaxis\":\"x\",\"y\":[\"Mmdivi1 25uMp6\",\"Mmdivi1 25uMp8\",\"Mmdivi1 25uMp9\",\"Mmdivi1 25uMp6\",\"Mmdivi1 25uMp7\",\"Mmdivi1 25uMp4\",\"Mmdivi1 25uMp8\",\"Mmdivi1 25uMp7\",\"Mmdivi1 25uMp6\",\"Mmdivi1 25uMp5\",\"Mmdivi1 25uMp4\",\"Mmdivi1 25uMp6\",\"Mmdivi1 25uMp9\",\"Mmdivi1 25uMp4\",\"Mmdivi1 25uMp9\",\"Mmdivi1 25uMp8\",\"Mmdivi1 25uMp6\",\"Mmdivi1 25uMp5\",\"Mmdivi1 25uMp5\",\"Mmdivi1 25uMp7\",\"Mmdivi1 25uMp4\",\"Mmdivi1 25uMp8\",\"Mmdivi1 25uMp9\",\"Mmdivi1 25uMp7\",\"Mmdivi1 25uMp9\",\"Mmdivi1 25uMp6\",\"Mmdivi1 25uMp4\",\"Mmdivi1 25uMp7\",\"Mmdivi1 25uMp7\",\"Mmdivi1 25uMp8\",\"Mmdivi1 25uMp4\",\"Mmdivi1 25uMp5\",\"Mmdivi1 25uMp5\",\"Mmdivi1 25uMp8\",\"Mmdivi1 25uMp9\"],\"y0\":\" \",\"yaxis\":\"y\",\"type\":\"box\",\"quartilemethod\":\"inclusive\"},{\"alignmentgroup\":\"True\",\"boxpoints\":\"all\",\"customdata\":[[\"PREDMSO4717.0p7\"],[\"PREDMSO4689.0p6\"],[\"PREDMSO4717.0p7\"],[\"PREDMSO4837.0p9\"],[\"PREDMSO4837.0p9\"],[\"PREDMSO4717.0p7\"],[\"PREDMSO4837.0p9\"],[\"PREDMSO4837.0p9\"],[\"PREDMSO4717.0p7\"],[\"PREDMSO4719.0p5\"],[\"PREDMSO4719.0p4\"],[\"PREDMSO4719.0p4\"],[\"PREDMSO4719.0p5\"],[\"PREDMSO4689.0p6\"],[\"PREDMSO4719.0p4\"],[\"PREDMSO4717.0p7\"],[\"PREDMSO4719.0p4\"],[\"PREDMSO4717.0p7\"],[\"PREDMSO4689.0p6\"],[\"PREDMSO4719.0p5\"],[\"PREDMSO4837.0p9\"],[\"PREDMSO4719.0p4\"],[\"PREDMSO4719.0p5\"],[\"PREDMSO4837.0p9\"]],\"hovertemplate\":\"group=%{x}<br>group_p=%{y}<br>group_with_p=%{customdata[0]}<extra></extra>\",\"legendgroup\":\"PREDMSO\",\"marker\":{\"color\":\"#ab63fa\"},\"name\":\"PREDMSO\",\"notched\":true,\"offsetgroup\":\"PREDMSO\",\"orientation\":\"v\",\"showlegend\":true,\"x\":[\"PREDMSO\",\"PREDMSO\",\"PREDMSO\",\"PREDMSO\",\"PREDMSO\",\"PREDMSO\",\"PREDMSO\",\"PREDMSO\",\"PREDMSO\",\"PREDMSO\",\"PREDMSO\",\"PREDMSO\",\"PREDMSO\",\"PREDMSO\",\"PREDMSO\",\"PREDMSO\",\"PREDMSO\",\"PREDMSO\",\"PREDMSO\",\"PREDMSO\",\"PREDMSO\",\"PREDMSO\",\"PREDMSO\",\"PREDMSO\"],\"x0\":\" \",\"xaxis\":\"x\",\"y\":[\"PREDMSOp7\",\"PREDMSOp6\",\"PREDMSOp7\",\"PREDMSOp9\",\"PREDMSOp9\",\"PREDMSOp7\",\"PREDMSOp9\",\"PREDMSOp9\",\"PREDMSOp7\",\"PREDMSOp5\",\"PREDMSOp4\",\"PREDMSOp4\",\"PREDMSOp5\",\"PREDMSOp6\",\"PREDMSOp4\",\"PREDMSOp7\",\"PREDMSOp4\",\"PREDMSOp7\",\"PREDMSOp6\",\"PREDMSOp5\",\"PREDMSOp9\",\"PREDMSOp4\",\"PREDMSOp5\",\"PREDMSOp9\"],\"y0\":\" \",\"yaxis\":\"y\",\"type\":\"box\",\"quartilemethod\":\"inclusive\"},{\"alignmentgroup\":\"True\",\"boxpoints\":\"all\",\"customdata\":[[\"PREmdivi1 25uM4717.0p7\"],[\"PREmdivi1 25uM4717.0p7\"],[\"PREmdivi1 25uM4719.0p4\"],[\"PREmdivi1 25uM4719.0p4\"],[\"PREmdivi1 25uM4837.0p9\"],[\"PREmdivi1 25uM4719.0p5\"],[\"PREmdivi1 25uM4719.0p4\"],[\"PREmdivi1 25uM4719.0p5\"],[\"PREmdivi1 25uM4719.0p4\"],[\"PREmdivi1 25uM4689.0p6\"],[\"PREmdivi1 25uM4719.0p4\"],[\"PREmdivi1 25uM4719.0p5\"],[\"PREmdivi1 25uM4717.0p7\"],[\"PREmdivi1 25uM4719.0p5\"],[\"PREmdivi1 25uM4689.0p6\"],[\"PREmdivi1 25uM4689.0p6\"],[\"PREmdivi1 25uM4717.0p7\"],[\"PREmdivi1 25uM4837.0p9\"],[\"PREmdivi1 25uM4719.0p5\"],[\"PREmdivi1 25uM4719.0p5\"],[\"PREmdivi1 25uM4717.0p7\"],[\"PREmdivi1 25uM4837.0p9\"],[\"PREmdivi1 25uM4689.0p6\"],[\"PREmdivi1 25uM4689.0p6\"],[\"PREmdivi1 25uM4689.0p6\"],[\"PREmdivi1 25uM4717.0p7\"],[\"PREmdivi1 25uM4719.0p4\"]],\"hovertemplate\":\"group=%{x}<br>group_p=%{y}<br>group_with_p=%{customdata[0]}<extra></extra>\",\"legendgroup\":\"PREmdivi1 25uM\",\"marker\":{\"color\":\"#FFA15A\"},\"name\":\"PREmdivi1 25uM\",\"notched\":true,\"offsetgroup\":\"PREmdivi1 25uM\",\"orientation\":\"v\",\"showlegend\":true,\"x\":[\"PREmdivi1 25uM\",\"PREmdivi1 25uM\",\"PREmdivi1 25uM\",\"PREmdivi1 25uM\",\"PREmdivi1 25uM\",\"PREmdivi1 25uM\",\"PREmdivi1 25uM\",\"PREmdivi1 25uM\",\"PREmdivi1 25uM\",\"PREmdivi1 25uM\",\"PREmdivi1 25uM\",\"PREmdivi1 25uM\",\"PREmdivi1 25uM\",\"PREmdivi1 25uM\",\"PREmdivi1 25uM\",\"PREmdivi1 25uM\",\"PREmdivi1 25uM\",\"PREmdivi1 25uM\",\"PREmdivi1 25uM\",\"PREmdivi1 25uM\",\"PREmdivi1 25uM\",\"PREmdivi1 25uM\",\"PREmdivi1 25uM\",\"PREmdivi1 25uM\",\"PREmdivi1 25uM\",\"PREmdivi1 25uM\",\"PREmdivi1 25uM\"],\"x0\":\" \",\"xaxis\":\"x\",\"y\":[\"PREmdivi1 25uMp7\",\"PREmdivi1 25uMp7\",\"PREmdivi1 25uMp4\",\"PREmdivi1 25uMp4\",\"PREmdivi1 25uMp9\",\"PREmdivi1 25uMp5\",\"PREmdivi1 25uMp4\",\"PREmdivi1 25uMp5\",\"PREmdivi1 25uMp4\",\"PREmdivi1 25uMp6\",\"PREmdivi1 25uMp4\",\"PREmdivi1 25uMp5\",\"PREmdivi1 25uMp7\",\"PREmdivi1 25uMp5\",\"PREmdivi1 25uMp6\",\"PREmdivi1 25uMp6\",\"PREmdivi1 25uMp7\",\"PREmdivi1 25uMp9\",\"PREmdivi1 25uMp5\",\"PREmdivi1 25uMp5\",\"PREmdivi1 25uMp7\",\"PREmdivi1 25uMp9\",\"PREmdivi1 25uMp6\",\"PREmdivi1 25uMp6\",\"PREmdivi1 25uMp6\",\"PREmdivi1 25uMp7\",\"PREmdivi1 25uMp4\"],\"y0\":\" \",\"yaxis\":\"y\",\"type\":\"box\",\"quartilemethod\":\"inclusive\"},{\"alignmentgroup\":\"True\",\"boxpoints\":\"all\",\"customdata\":[[\"SDMSO4709.0p9\"],[\"SDMSO305.0p6\"],[\"SDMSO4687.0p7\"],[\"SDMSO4287.0p5\"],[\"SDMSO2165.0p10\"],[\"SDMSO4687.0p7\"],[\"SDMSO305.0p6\"],[\"SDMSO305.0p6\"],[\"SDMSO4709.0p9\"],[\"SDMSO4287.0p5\"],[\"SDMSO4687.0p7\"],[\"SDMSO305.0p6\"],[\"SDMSO4709.0p9\"],[\"SDMSO4287.0p5\"],[\"SDMSO4287.0p5\"],[\"SDMSO4476.0p10\"],[\"SDMSO4709.0p9\"],[\"SDMSO4687.0p7\"],[\"SDMSO4709.0p9\"],[\"SDMSO4807.0p8\"],[\"SDMSO4709.0p9\"],[\"SDMSO305.0p6\"],[\"SDMSO4287.0p5\"],[\"SDMSO4687.0p7\"],[\"SDMSO4287.0p5\"],[\"SDMSO4687.0p7\"],[\"SDMSO4476.0p10\"],[\"SDMSO305.0p6\"]],\"hovertemplate\":\"group=%{x}<br>group_p=%{y}<br>group_with_p=%{customdata[0]}<extra></extra>\",\"legendgroup\":\"SDMSO\",\"marker\":{\"color\":\"#19d3f3\"},\"name\":\"SDMSO\",\"notched\":true,\"offsetgroup\":\"SDMSO\",\"orientation\":\"v\",\"showlegend\":true,\"x\":[\"SDMSO\",\"SDMSO\",\"SDMSO\",\"SDMSO\",\"SDMSO\",\"SDMSO\",\"SDMSO\",\"SDMSO\",\"SDMSO\",\"SDMSO\",\"SDMSO\",\"SDMSO\",\"SDMSO\",\"SDMSO\",\"SDMSO\",\"SDMSO\",\"SDMSO\",\"SDMSO\",\"SDMSO\",\"SDMSO\",\"SDMSO\",\"SDMSO\",\"SDMSO\",\"SDMSO\",\"SDMSO\",\"SDMSO\",\"SDMSO\",\"SDMSO\"],\"x0\":\" \",\"xaxis\":\"x\",\"y\":[\"SDMSOp9\",\"SDMSOp6\",\"SDMSOp7\",\"SDMSOp5\",\"SDMSOp10\",\"SDMSOp7\",\"SDMSOp6\",\"SDMSOp6\",\"SDMSOp9\",\"SDMSOp5\",\"SDMSOp7\",\"SDMSOp6\",\"SDMSOp9\",\"SDMSOp5\",\"SDMSOp5\",\"SDMSOp10\",\"SDMSOp9\",\"SDMSOp7\",\"SDMSOp9\",\"SDMSOp8\",\"SDMSOp9\",\"SDMSOp6\",\"SDMSOp5\",\"SDMSOp7\",\"SDMSOp5\",\"SDMSOp7\",\"SDMSOp10\",\"SDMSOp6\"],\"y0\":\" \",\"yaxis\":\"y\",\"type\":\"box\",\"quartilemethod\":\"inclusive\"},{\"alignmentgroup\":\"True\",\"boxpoints\":\"all\",\"customdata\":[[\"Smdivi1 25uM305.0p6\"],[\"Smdivi1 25uM305.0p6\"],[\"Smdivi1 25uM305.0p6\"],[\"Smdivi1 25uM4287.0p5\"],[\"Smdivi1 25uM4687.0p7\"],[\"Smdivi1 25uM4476.0p10\"],[\"Smdivi1 25uM4687.0p7\"],[\"Smdivi1 25uM4287.0p5\"],[\"Smdivi1 25uM4709.0p9\"],[\"Smdivi1 25uM2165.0p10\"],[\"Smdivi1 25uM305.0p6\"],[\"Smdivi1 25uM4709.0p9\"],[\"Smdivi1 25uM4287.0p5\"],[\"Smdivi1 25uM4687.0p7\"],[\"Smdivi1 25uM4709.0p9\"],[\"Smdivi1 25uM2165.0p10\"],[\"Smdivi1 25uM4687.0p7\"],[\"Smdivi1 25uM4709.0p9\"],[\"Smdivi1 25uM305.0p6\"],[\"Smdivi1 25uM4287.0p5\"],[\"Smdivi1 25uM305.0p6\"],[\"Smdivi1 25uM2165.0p10\"],[\"Smdivi1 25uM4687.0p7\"],[\"Smdivi1 25uM4476.0p10\"],[\"Smdivi1 25uM4476.0p10\"],[\"Smdivi1 25uM4287.0p5\"],[\"Smdivi1 25uM4476.0p10\"],[\"Smdivi1 25uM4687.0p7\"],[\"Smdivi1 25uM4287.0p5\"],[\"Smdivi1 25uM2165.0p10\"],[\"Smdivi1 25uM2165.0p10\"],[\"Smdivi1 25uM4709.0p9\"],[\"Smdivi1 25uM4476.0p10\"],[\"Smdivi1 25uM4476.0p10\"],[\"Smdivi1 25uM4709.0p9\"]],\"hovertemplate\":\"group=%{x}<br>group_p=%{y}<br>group_with_p=%{customdata[0]}<extra></extra>\",\"legendgroup\":\"Smdivi1 25uM\",\"marker\":{\"color\":\"#FF6692\"},\"name\":\"Smdivi1 25uM\",\"notched\":true,\"offsetgroup\":\"Smdivi1 25uM\",\"orientation\":\"v\",\"showlegend\":true,\"x\":[\"Smdivi1 25uM\",\"Smdivi1 25uM\",\"Smdivi1 25uM\",\"Smdivi1 25uM\",\"Smdivi1 25uM\",\"Smdivi1 25uM\",\"Smdivi1 25uM\",\"Smdivi1 25uM\",\"Smdivi1 25uM\",\"Smdivi1 25uM\",\"Smdivi1 25uM\",\"Smdivi1 25uM\",\"Smdivi1 25uM\",\"Smdivi1 25uM\",\"Smdivi1 25uM\",\"Smdivi1 25uM\",\"Smdivi1 25uM\",\"Smdivi1 25uM\",\"Smdivi1 25uM\",\"Smdivi1 25uM\",\"Smdivi1 25uM\",\"Smdivi1 25uM\",\"Smdivi1 25uM\",\"Smdivi1 25uM\",\"Smdivi1 25uM\",\"Smdivi1 25uM\",\"Smdivi1 25uM\",\"Smdivi1 25uM\",\"Smdivi1 25uM\",\"Smdivi1 25uM\",\"Smdivi1 25uM\",\"Smdivi1 25uM\",\"Smdivi1 25uM\",\"Smdivi1 25uM\",\"Smdivi1 25uM\"],\"x0\":\" \",\"xaxis\":\"x\",\"y\":[\"Smdivi1 25uMp6\",\"Smdivi1 25uMp6\",\"Smdivi1 25uMp6\",\"Smdivi1 25uMp5\",\"Smdivi1 25uMp7\",\"Smdivi1 25uMp10\",\"Smdivi1 25uMp7\",\"Smdivi1 25uMp5\",\"Smdivi1 25uMp9\",\"Smdivi1 25uMp10\",\"Smdivi1 25uMp6\",\"Smdivi1 25uMp9\",\"Smdivi1 25uMp5\",\"Smdivi1 25uMp7\",\"Smdivi1 25uMp9\",\"Smdivi1 25uMp10\",\"Smdivi1 25uMp7\",\"Smdivi1 25uMp9\",\"Smdivi1 25uMp6\",\"Smdivi1 25uMp5\",\"Smdivi1 25uMp6\",\"Smdivi1 25uMp10\",\"Smdivi1 25uMp7\",\"Smdivi1 25uMp10\",\"Smdivi1 25uMp10\",\"Smdivi1 25uMp5\",\"Smdivi1 25uMp10\",\"Smdivi1 25uMp7\",\"Smdivi1 25uMp5\",\"Smdivi1 25uMp10\",\"Smdivi1 25uMp10\",\"Smdivi1 25uMp9\",\"Smdivi1 25uMp10\",\"Smdivi1 25uMp10\",\"Smdivi1 25uMp9\"],\"y0\":\" \",\"yaxis\":\"y\",\"type\":\"box\",\"quartilemethod\":\"inclusive\"}],                        {\"template\":{\"data\":{\"histogram2dcontour\":[{\"type\":\"histogram2dcontour\",\"colorbar\":{\"outlinewidth\":0,\"ticks\":\"\"},\"colorscale\":[[0.0,\"#0d0887\"],[0.1111111111111111,\"#46039f\"],[0.2222222222222222,\"#7201a8\"],[0.3333333333333333,\"#9c179e\"],[0.4444444444444444,\"#bd3786\"],[0.5555555555555556,\"#d8576b\"],[0.6666666666666666,\"#ed7953\"],[0.7777777777777778,\"#fb9f3a\"],[0.8888888888888888,\"#fdca26\"],[1.0,\"#f0f921\"]]}],\"choropleth\":[{\"type\":\"choropleth\",\"colorbar\":{\"outlinewidth\":0,\"ticks\":\"\"}}],\"histogram2d\":[{\"type\":\"histogram2d\",\"colorbar\":{\"outlinewidth\":0,\"ticks\":\"\"},\"colorscale\":[[0.0,\"#0d0887\"],[0.1111111111111111,\"#46039f\"],[0.2222222222222222,\"#7201a8\"],[0.3333333333333333,\"#9c179e\"],[0.4444444444444444,\"#bd3786\"],[0.5555555555555556,\"#d8576b\"],[0.6666666666666666,\"#ed7953\"],[0.7777777777777778,\"#fb9f3a\"],[0.8888888888888888,\"#fdca26\"],[1.0,\"#f0f921\"]]}],\"heatmap\":[{\"type\":\"heatmap\",\"colorbar\":{\"outlinewidth\":0,\"ticks\":\"\"},\"colorscale\":[[0.0,\"#0d0887\"],[0.1111111111111111,\"#46039f\"],[0.2222222222222222,\"#7201a8\"],[0.3333333333333333,\"#9c179e\"],[0.4444444444444444,\"#bd3786\"],[0.5555555555555556,\"#d8576b\"],[0.6666666666666666,\"#ed7953\"],[0.7777777777777778,\"#fb9f3a\"],[0.8888888888888888,\"#fdca26\"],[1.0,\"#f0f921\"]]}],\"heatmapgl\":[{\"type\":\"heatmapgl\",\"colorbar\":{\"outlinewidth\":0,\"ticks\":\"\"},\"colorscale\":[[0.0,\"#0d0887\"],[0.1111111111111111,\"#46039f\"],[0.2222222222222222,\"#7201a8\"],[0.3333333333333333,\"#9c179e\"],[0.4444444444444444,\"#bd3786\"],[0.5555555555555556,\"#d8576b\"],[0.6666666666666666,\"#ed7953\"],[0.7777777777777778,\"#fb9f3a\"],[0.8888888888888888,\"#fdca26\"],[1.0,\"#f0f921\"]]}],\"contourcarpet\":[{\"type\":\"contourcarpet\",\"colorbar\":{\"outlinewidth\":0,\"ticks\":\"\"}}],\"contour\":[{\"type\":\"contour\",\"colorbar\":{\"outlinewidth\":0,\"ticks\":\"\"},\"colorscale\":[[0.0,\"#0d0887\"],[0.1111111111111111,\"#46039f\"],[0.2222222222222222,\"#7201a8\"],[0.3333333333333333,\"#9c179e\"],[0.4444444444444444,\"#bd3786\"],[0.5555555555555556,\"#d8576b\"],[0.6666666666666666,\"#ed7953\"],[0.7777777777777778,\"#fb9f3a\"],[0.8888888888888888,\"#fdca26\"],[1.0,\"#f0f921\"]]}],\"surface\":[{\"type\":\"surface\",\"colorbar\":{\"outlinewidth\":0,\"ticks\":\"\"},\"colorscale\":[[0.0,\"#0d0887\"],[0.1111111111111111,\"#46039f\"],[0.2222222222222222,\"#7201a8\"],[0.3333333333333333,\"#9c179e\"],[0.4444444444444444,\"#bd3786\"],[0.5555555555555556,\"#d8576b\"],[0.6666666666666666,\"#ed7953\"],[0.7777777777777778,\"#fb9f3a\"],[0.8888888888888888,\"#fdca26\"],[1.0,\"#f0f921\"]]}],\"mesh3d\":[{\"type\":\"mesh3d\",\"colorbar\":{\"outlinewidth\":0,\"ticks\":\"\"}}],\"scatter\":[{\"fillpattern\":{\"fillmode\":\"overlay\",\"size\":10,\"solidity\":0.2},\"type\":\"scatter\"}],\"parcoords\":[{\"type\":\"parcoords\",\"line\":{\"colorbar\":{\"outlinewidth\":0,\"ticks\":\"\"}}}],\"scatterpolargl\":[{\"type\":\"scatterpolargl\",\"marker\":{\"colorbar\":{\"outlinewidth\":0,\"ticks\":\"\"}}}],\"bar\":[{\"error_x\":{\"color\":\"#2a3f5f\"},\"error_y\":{\"color\":\"#2a3f5f\"},\"marker\":{\"line\":{\"color\":\"#E5ECF6\",\"width\":0.5},\"pattern\":{\"fillmode\":\"overlay\",\"size\":10,\"solidity\":0.2}},\"type\":\"bar\"}],\"scattergeo\":[{\"type\":\"scattergeo\",\"marker\":{\"colorbar\":{\"outlinewidth\":0,\"ticks\":\"\"}}}],\"scatterpolar\":[{\"type\":\"scatterpolar\",\"marker\":{\"colorbar\":{\"outlinewidth\":0,\"ticks\":\"\"}}}],\"histogram\":[{\"marker\":{\"pattern\":{\"fillmode\":\"overlay\",\"size\":10,\"solidity\":0.2}},\"type\":\"histogram\"}],\"scattergl\":[{\"type\":\"scattergl\",\"marker\":{\"colorbar\":{\"outlinewidth\":0,\"ticks\":\"\"}}}],\"scatter3d\":[{\"type\":\"scatter3d\",\"line\":{\"colorbar\":{\"outlinewidth\":0,\"ticks\":\"\"}},\"marker\":{\"colorbar\":{\"outlinewidth\":0,\"ticks\":\"\"}}}],\"scattermapbox\":[{\"type\":\"scattermapbox\",\"marker\":{\"colorbar\":{\"outlinewidth\":0,\"ticks\":\"\"}}}],\"scatterternary\":[{\"type\":\"scatterternary\",\"marker\":{\"colorbar\":{\"outlinewidth\":0,\"ticks\":\"\"}}}],\"scattercarpet\":[{\"type\":\"scattercarpet\",\"marker\":{\"colorbar\":{\"outlinewidth\":0,\"ticks\":\"\"}}}],\"carpet\":[{\"aaxis\":{\"endlinecolor\":\"#2a3f5f\",\"gridcolor\":\"white\",\"linecolor\":\"white\",\"minorgridcolor\":\"white\",\"startlinecolor\":\"#2a3f5f\"},\"baxis\":{\"endlinecolor\":\"#2a3f5f\",\"gridcolor\":\"white\",\"linecolor\":\"white\",\"minorgridcolor\":\"white\",\"startlinecolor\":\"#2a3f5f\"},\"type\":\"carpet\"}],\"table\":[{\"cells\":{\"fill\":{\"color\":\"#EBF0F8\"},\"line\":{\"color\":\"white\"}},\"header\":{\"fill\":{\"color\":\"#C8D4E3\"},\"line\":{\"color\":\"white\"}},\"type\":\"table\"}],\"barpolar\":[{\"marker\":{\"line\":{\"color\":\"#E5ECF6\",\"width\":0.5},\"pattern\":{\"fillmode\":\"overlay\",\"size\":10,\"solidity\":0.2}},\"type\":\"barpolar\"}],\"pie\":[{\"automargin\":true,\"type\":\"pie\"}]},\"layout\":{\"autotypenumbers\":\"strict\",\"colorway\":[\"#636efa\",\"#EF553B\",\"#00cc96\",\"#ab63fa\",\"#FFA15A\",\"#19d3f3\",\"#FF6692\",\"#B6E880\",\"#FF97FF\",\"#FECB52\"],\"font\":{\"color\":\"#2a3f5f\"},\"hovermode\":\"closest\",\"hoverlabel\":{\"align\":\"left\"},\"paper_bgcolor\":\"white\",\"plot_bgcolor\":\"#E5ECF6\",\"polar\":{\"bgcolor\":\"#E5ECF6\",\"angularaxis\":{\"gridcolor\":\"white\",\"linecolor\":\"white\",\"ticks\":\"\"},\"radialaxis\":{\"gridcolor\":\"white\",\"linecolor\":\"white\",\"ticks\":\"\"}},\"ternary\":{\"bgcolor\":\"#E5ECF6\",\"aaxis\":{\"gridcolor\":\"white\",\"linecolor\":\"white\",\"ticks\":\"\"},\"baxis\":{\"gridcolor\":\"white\",\"linecolor\":\"white\",\"ticks\":\"\"},\"caxis\":{\"gridcolor\":\"white\",\"linecolor\":\"white\",\"ticks\":\"\"}},\"coloraxis\":{\"colorbar\":{\"outlinewidth\":0,\"ticks\":\"\"}},\"colorscale\":{\"sequential\":[[0.0,\"#0d0887\"],[0.1111111111111111,\"#46039f\"],[0.2222222222222222,\"#7201a8\"],[0.3333333333333333,\"#9c179e\"],[0.4444444444444444,\"#bd3786\"],[0.5555555555555556,\"#d8576b\"],[0.6666666666666666,\"#ed7953\"],[0.7777777777777778,\"#fb9f3a\"],[0.8888888888888888,\"#fdca26\"],[1.0,\"#f0f921\"]],\"sequentialminus\":[[0.0,\"#0d0887\"],[0.1111111111111111,\"#46039f\"],[0.2222222222222222,\"#7201a8\"],[0.3333333333333333,\"#9c179e\"],[0.4444444444444444,\"#bd3786\"],[0.5555555555555556,\"#d8576b\"],[0.6666666666666666,\"#ed7953\"],[0.7777777777777778,\"#fb9f3a\"],[0.8888888888888888,\"#fdca26\"],[1.0,\"#f0f921\"]],\"diverging\":[[0,\"#8e0152\"],[0.1,\"#c51b7d\"],[0.2,\"#de77ae\"],[0.3,\"#f1b6da\"],[0.4,\"#fde0ef\"],[0.5,\"#f7f7f7\"],[0.6,\"#e6f5d0\"],[0.7,\"#b8e186\"],[0.8,\"#7fbc41\"],[0.9,\"#4d9221\"],[1,\"#276419\"]]},\"xaxis\":{\"gridcolor\":\"white\",\"linecolor\":\"white\",\"ticks\":\"\",\"title\":{\"standoff\":15},\"zerolinecolor\":\"white\",\"automargin\":true,\"zerolinewidth\":2},\"yaxis\":{\"gridcolor\":\"white\",\"linecolor\":\"white\",\"ticks\":\"\",\"title\":{\"standoff\":15},\"zerolinecolor\":\"white\",\"automargin\":true,\"zerolinewidth\":2},\"scene\":{\"xaxis\":{\"backgroundcolor\":\"#E5ECF6\",\"gridcolor\":\"white\",\"linecolor\":\"white\",\"showbackground\":true,\"ticks\":\"\",\"zerolinecolor\":\"white\",\"gridwidth\":2},\"yaxis\":{\"backgroundcolor\":\"#E5ECF6\",\"gridcolor\":\"white\",\"linecolor\":\"white\",\"showbackground\":true,\"ticks\":\"\",\"zerolinecolor\":\"white\",\"gridwidth\":2},\"zaxis\":{\"backgroundcolor\":\"#E5ECF6\",\"gridcolor\":\"white\",\"linecolor\":\"white\",\"showbackground\":true,\"ticks\":\"\",\"zerolinecolor\":\"white\",\"gridwidth\":2}},\"shapedefaults\":{\"line\":{\"color\":\"#2a3f5f\"}},\"annotationdefaults\":{\"arrowcolor\":\"#2a3f5f\",\"arrowhead\":0,\"arrowwidth\":1},\"geo\":{\"bgcolor\":\"white\",\"landcolor\":\"#E5ECF6\",\"subunitcolor\":\"white\",\"showland\":true,\"showlakes\":true,\"lakecolor\":\"white\"},\"title\":{\"x\":0.05},\"mapbox\":{\"style\":\"light\"}}},\"xaxis\":{\"anchor\":\"y\",\"domain\":[0.0,1.0],\"title\":{\"text\":\"group\"},\"categoryorder\":\"array\",\"categoryarray\":[\"HCDMSO\",\"PREDMSO\",\"PREmdivi1 25uM\",\"MDMSO\",\"Mmdivi1 25uM\",\"SDMSO\",\"Smdivi1 25uM\"]},\"yaxis\":{\"anchor\":\"x\",\"domain\":[0.0,1.0],\"title\":{\"text\":\"group_p\"}},\"legend\":{\"title\":{\"text\":\"group\"},\"tracegroupgap\":0},\"margin\":{\"t\":60},\"boxmode\":\"overlay\",\"font\":{\"family\":\"Arial\",\"color\":\"Black\",\"size\":20}},                        {\"responsive\": true}                    ).then(function(){\n",
       "                            \n",
       "var gd = document.getElementById('44f62cba-473e-4560-a00c-a489a90e07ea');\n",
       "var x = new MutationObserver(function (mutations, observer) {{\n",
       "        var display = window.getComputedStyle(gd).display;\n",
       "        if (!display || display === 'none') {{\n",
       "            console.log([gd, 'removed!']);\n",
       "            Plotly.purge(gd);\n",
       "            observer.disconnect();\n",
       "        }}\n",
       "}});\n",
       "\n",
       "// Listen for the removal of the full notebook cells\n",
       "var notebookContainer = gd.closest('#notebook-container');\n",
       "if (notebookContainer) {{\n",
       "    x.observe(notebookContainer, {childList: true});\n",
       "}}\n",
       "\n",
       "// Listen for the clearing of the current output cell\n",
       "var outputEl = gd.closest('.output');\n",
       "if (outputEl) {{\n",
       "    x.observe(outputEl, {childList: true});\n",
       "}}\n",
       "\n",
       "                        })                };                });            </script>        </div>"
      ]
     },
     "metadata": {},
     "output_type": "display_data"
    },
    {
     "data": {
      "application/vnd.plotly.v1+json": {
       "config": {
        "plotlyServerURL": "https://plot.ly"
       },
       "data": [
        {
         "alignmentgroup": "True",
         "boxpoints": "all",
         "customdata": [
          [
           "HCDMSO495.0p6"
          ],
          [
           "HCDMSO1170.0p10"
          ],
          [
           "HCDMSO1650.0p7"
          ],
          [
           "HCDMSO1650.0p8"
          ],
          [
           "HCDMSO1650.0p6"
          ],
          [
           "HCDMSO1650.0p9"
          ],
          [
           "HCDMSO495.0p6"
          ],
          [
           "HCDMSO1653.0p7"
          ],
          [
           "HCDMSO1650.0p9"
          ],
          [
           "HCDMSO730.0p8"
          ],
          [
           "HCDMSO143.0p6"
          ],
          [
           "HCDMSO1650.0p7"
          ],
          [
           "HCDMSO1653.0p8"
          ],
          [
           "HCDMSO730.0p9"
          ],
          [
           "HCDMSO1016.0p10"
          ],
          [
           "HCDMSO1170.0p10"
          ],
          [
           "HCDMSO1653.0p7"
          ],
          [
           "HCDMSO951.0p10"
          ],
          [
           "HCDMSO1653.0p4"
          ],
          [
           "HCDMSO143.0p7"
          ],
          [
           "HCDMSO143.0p7"
          ],
          [
           "HCDMSO1653.0p9"
          ],
          [
           "HCDMSO730.0p9"
          ],
          [
           "HCDMSO495.0p7"
          ],
          [
           "HCDMSO143.0p6"
          ],
          [
           "HCDMSO1016.0p10"
          ],
          [
           "HCDMSO1016.0p10"
          ],
          [
           "HCDMSO1170.0p10"
          ],
          [
           "HCDMSO1016.0p10"
          ],
          [
           "HCDMSO143.0p6"
          ],
          [
           "HCDMSO730.0p9"
          ],
          [
           "HCDMSO143.0p6"
          ],
          [
           "HCDMSO495.0p6"
          ],
          [
           "HCDMSO1170.0p10"
          ],
          [
           "HCDMSO730.0p9"
          ],
          [
           "HCDMSO730.0p9"
          ],
          [
           "HCDMSO1016.0p10"
          ],
          [
           "HCDMSO1170.0p10"
          ],
          [
           "HCDMSO495.0p7"
          ],
          [
           "HCDMSO495.0p7"
          ],
          [
           "HCDMSO1016.0p10"
          ]
         ],
         "hovertemplate": "group=%{x}<br>mfn2_intensity=%{y}<br>group_with_p=%{customdata[0]}<extra></extra>",
         "legendgroup": "HCDMSO",
         "marker": {
          "color": "#636efa"
         },
         "name": "HCDMSO",
         "notched": true,
         "offsetgroup": "HCDMSO",
         "orientation": "v",
         "quartilemethod": "inclusive",
         "showlegend": true,
         "type": "box",
         "x": [
          "HCDMSO",
          "HCDMSO",
          "HCDMSO",
          "HCDMSO",
          "HCDMSO",
          "HCDMSO",
          "HCDMSO",
          "HCDMSO",
          "HCDMSO",
          "HCDMSO",
          "HCDMSO",
          "HCDMSO",
          "HCDMSO",
          "HCDMSO",
          "HCDMSO",
          "HCDMSO",
          "HCDMSO",
          "HCDMSO",
          "HCDMSO",
          "HCDMSO",
          "HCDMSO",
          "HCDMSO",
          "HCDMSO",
          "HCDMSO",
          "HCDMSO",
          "HCDMSO",
          "HCDMSO",
          "HCDMSO",
          "HCDMSO",
          "HCDMSO",
          "HCDMSO",
          "HCDMSO",
          "HCDMSO",
          "HCDMSO",
          "HCDMSO",
          "HCDMSO",
          "HCDMSO",
          "HCDMSO",
          "HCDMSO",
          "HCDMSO",
          "HCDMSO"
         ],
         "x0": " ",
         "xaxis": "x",
         "y": [
          5.03733016773726,
          4.903158248635292,
          4.972279175698787,
          5.041728300049075,
          5.0893526337652055,
          5.025263509366111,
          4.972395554219585,
          4.874136552431577,
          5.026376036114152,
          4.978837533189739,
          4.9222876202522805,
          4.991692653853183,
          4.904093876670545,
          5.010269193409576,
          4.869106686774833,
          4.941817883258041,
          4.858229943822667,
          4.891937907616033,
          4.951524633363001,
          4.974449101387007,
          5.023951882622333,
          4.9035186363899195,
          4.99426084956646,
          4.997710376521418,
          4.905258051498535,
          4.873982902571752,
          4.898546970205284,
          4.901663391341506,
          4.847060262200966,
          4.936645134488517,
          5.058552728506564,
          4.937697438503417,
          5.041854497425813,
          4.890591978204993,
          5.028699992329653,
          5.022619892924213,
          4.843979540253076,
          4.928959331664104,
          5.007361408376048,
          4.965687497194975,
          4.893344751970022
         ],
         "y0": " ",
         "yaxis": "y"
        },
        {
         "alignmentgroup": "True",
         "boxpoints": "all",
         "customdata": [
          [
           "MDMSO4819.0p4"
          ],
          [
           "MDMSO4819.0p4"
          ],
          [
           "MDMSO4819.0p4"
          ],
          [
           "MDMSO4799.0p8"
          ],
          [
           "MDMSO4715.0p6"
          ],
          [
           "MDMSO4212.0p9"
          ],
          [
           "MDMSO4212.0p9"
          ],
          [
           "MDMSO4212.0p9"
          ],
          [
           "MDMSO4887.0p7"
          ],
          [
           "MDMSO4212.0p9"
          ],
          [
           "MDMSO4819.0p4"
          ],
          [
           "MDMSO4819.0p4"
          ],
          [
           "MDMSO4715.0p6"
          ],
          [
           "MDMSO4887.0p7"
          ],
          [
           "MDMSO4799.0p8"
          ],
          [
           "MDMSO4715.0p6"
          ],
          [
           "MDMSO4887.0p7"
          ],
          [
           "MDMSO4715.0p6"
          ],
          [
           "MDMSO4799.0p8"
          ],
          [
           "MDMSO4799.0p8"
          ],
          [
           "MDMSO4799.0p8"
          ],
          [
           "MDMSO4819.0p4"
          ],
          [
           "MDMSO4212.0p9"
          ]
         ],
         "hovertemplate": "group=%{x}<br>mfn2_intensity=%{y}<br>group_with_p=%{customdata[0]}<extra></extra>",
         "legendgroup": "MDMSO",
         "marker": {
          "color": "#EF553B"
         },
         "name": "MDMSO",
         "notched": true,
         "offsetgroup": "MDMSO",
         "orientation": "v",
         "quartilemethod": "inclusive",
         "showlegend": true,
         "type": "box",
         "x": [
          "MDMSO",
          "MDMSO",
          "MDMSO",
          "MDMSO",
          "MDMSO",
          "MDMSO",
          "MDMSO",
          "MDMSO",
          "MDMSO",
          "MDMSO",
          "MDMSO",
          "MDMSO",
          "MDMSO",
          "MDMSO",
          "MDMSO",
          "MDMSO",
          "MDMSO",
          "MDMSO",
          "MDMSO",
          "MDMSO",
          "MDMSO",
          "MDMSO",
          "MDMSO"
         ],
         "x0": " ",
         "xaxis": "x",
         "y": [
          4.958600100457221,
          5.023145008890767,
          4.993403978756631,
          5.013852873983119,
          4.964247846773478,
          5.0314570867035915,
          5.055207231656801,
          5.049523767237013,
          4.937050385634713,
          5.071276152097746,
          4.998810784727943,
          4.984284181469034,
          4.977893855966484,
          4.933983022452321,
          4.996899254954514,
          4.968717338424361,
          4.925877613340748,
          4.955605899225015,
          4.975199937363451,
          4.926373011303888,
          4.928985970883533,
          5.034438048109164,
          5.0490903552513
         ],
         "y0": " ",
         "yaxis": "y"
        },
        {
         "alignmentgroup": "True",
         "boxpoints": "all",
         "customdata": [
          [
           "Mmdivi1 25uM4715.0p6"
          ],
          [
           "Mmdivi1 25uM4799.0p8"
          ],
          [
           "Mmdivi1 25uM4212.0p9"
          ],
          [
           "Mmdivi1 25uM4715.0p6"
          ],
          [
           "Mmdivi1 25uM4887.0p7"
          ],
          [
           "Mmdivi1 25uM4819.0p4"
          ],
          [
           "Mmdivi1 25uM4799.0p8"
          ],
          [
           "Mmdivi1 25uM4887.0p7"
          ],
          [
           "Mmdivi1 25uM4715.0p6"
          ],
          [
           "Mmdivi1 25uM4721.0p5"
          ],
          [
           "Mmdivi1 25uM4819.0p4"
          ],
          [
           "Mmdivi1 25uM4715.0p6"
          ],
          [
           "Mmdivi1 25uM4212.0p9"
          ],
          [
           "Mmdivi1 25uM4819.0p4"
          ],
          [
           "Mmdivi1 25uM4212.0p9"
          ],
          [
           "Mmdivi1 25uM4799.0p8"
          ],
          [
           "Mmdivi1 25uM4715.0p6"
          ],
          [
           "Mmdivi1 25uM4721.0p5"
          ],
          [
           "Mmdivi1 25uM4721.0p5"
          ],
          [
           "Mmdivi1 25uM4887.0p7"
          ],
          [
           "Mmdivi1 25uM4819.0p4"
          ],
          [
           "Mmdivi1 25uM4799.0p8"
          ],
          [
           "Mmdivi1 25uM4212.0p9"
          ],
          [
           "Mmdivi1 25uM4887.0p7"
          ],
          [
           "Mmdivi1 25uM4212.0p9"
          ],
          [
           "Mmdivi1 25uM4715.0p6"
          ],
          [
           "Mmdivi1 25uM4819.0p4"
          ],
          [
           "Mmdivi1 25uM4887.0p7"
          ],
          [
           "Mmdivi1 25uM4887.0p7"
          ],
          [
           "Mmdivi1 25uM4799.0p8"
          ],
          [
           "Mmdivi1 25uM4819.0p4"
          ],
          [
           "Mmdivi1 25uM4721.0p5"
          ],
          [
           "Mmdivi1 25uM4721.0p5"
          ],
          [
           "Mmdivi1 25uM4799.0p8"
          ],
          [
           "Mmdivi1 25uM4212.0p9"
          ]
         ],
         "hovertemplate": "group=%{x}<br>mfn2_intensity=%{y}<br>group_with_p=%{customdata[0]}<extra></extra>",
         "legendgroup": "Mmdivi1 25uM",
         "marker": {
          "color": "#00cc96"
         },
         "name": "Mmdivi1 25uM",
         "notched": true,
         "offsetgroup": "Mmdivi1 25uM",
         "orientation": "v",
         "quartilemethod": "inclusive",
         "showlegend": true,
         "type": "box",
         "x": [
          "Mmdivi1 25uM",
          "Mmdivi1 25uM",
          "Mmdivi1 25uM",
          "Mmdivi1 25uM",
          "Mmdivi1 25uM",
          "Mmdivi1 25uM",
          "Mmdivi1 25uM",
          "Mmdivi1 25uM",
          "Mmdivi1 25uM",
          "Mmdivi1 25uM",
          "Mmdivi1 25uM",
          "Mmdivi1 25uM",
          "Mmdivi1 25uM",
          "Mmdivi1 25uM",
          "Mmdivi1 25uM",
          "Mmdivi1 25uM",
          "Mmdivi1 25uM",
          "Mmdivi1 25uM",
          "Mmdivi1 25uM",
          "Mmdivi1 25uM",
          "Mmdivi1 25uM",
          "Mmdivi1 25uM",
          "Mmdivi1 25uM",
          "Mmdivi1 25uM",
          "Mmdivi1 25uM",
          "Mmdivi1 25uM",
          "Mmdivi1 25uM",
          "Mmdivi1 25uM",
          "Mmdivi1 25uM",
          "Mmdivi1 25uM",
          "Mmdivi1 25uM",
          "Mmdivi1 25uM",
          "Mmdivi1 25uM",
          "Mmdivi1 25uM",
          "Mmdivi1 25uM"
         ],
         "x0": " ",
         "xaxis": "x",
         "y": [
          4.986790570620793,
          5.010293276875033,
          5.043962460820924,
          4.991571797638366,
          4.999725768638993,
          4.965724041905324,
          5.047189849367448,
          4.920977027736335,
          4.984204175500516,
          4.908101043238667,
          4.8895733887144015,
          4.968012660077854,
          4.994223624766057,
          4.898745796568719,
          5.031033032474782,
          4.969644904495567,
          5.021602686233874,
          4.9409491310310845,
          4.957523545034033,
          5.03092040863034,
          4.90583108336844,
          5.039572690522021,
          5.024186084729246,
          4.9277636158885425,
          5.008659493500475,
          4.964325611750559,
          4.96785339218386,
          5.031345230251476,
          4.945036301994066,
          4.927279733781704,
          4.924603383316587,
          4.899347264990155,
          4.890416693939139,
          5.0162903747899135,
          5.057989412413495
         ],
         "y0": " ",
         "yaxis": "y"
        },
        {
         "alignmentgroup": "True",
         "boxpoints": "all",
         "customdata": [
          [
           "PREDMSO4717.0p7"
          ],
          [
           "PREDMSO4689.0p6"
          ],
          [
           "PREDMSO4717.0p7"
          ],
          [
           "PREDMSO4837.0p9"
          ],
          [
           "PREDMSO4837.0p9"
          ],
          [
           "PREDMSO4717.0p7"
          ],
          [
           "PREDMSO4837.0p9"
          ],
          [
           "PREDMSO4837.0p9"
          ],
          [
           "PREDMSO4717.0p7"
          ],
          [
           "PREDMSO4719.0p5"
          ],
          [
           "PREDMSO4719.0p4"
          ],
          [
           "PREDMSO4719.0p4"
          ],
          [
           "PREDMSO4719.0p5"
          ],
          [
           "PREDMSO4689.0p6"
          ],
          [
           "PREDMSO4719.0p4"
          ],
          [
           "PREDMSO4717.0p7"
          ],
          [
           "PREDMSO4719.0p4"
          ],
          [
           "PREDMSO4717.0p7"
          ],
          [
           "PREDMSO4689.0p6"
          ],
          [
           "PREDMSO4719.0p5"
          ],
          [
           "PREDMSO4837.0p9"
          ],
          [
           "PREDMSO4719.0p4"
          ],
          [
           "PREDMSO4719.0p5"
          ],
          [
           "PREDMSO4837.0p9"
          ]
         ],
         "hovertemplate": "group=%{x}<br>mfn2_intensity=%{y}<br>group_with_p=%{customdata[0]}<extra></extra>",
         "legendgroup": "PREDMSO",
         "marker": {
          "color": "#ab63fa"
         },
         "name": "PREDMSO",
         "notched": true,
         "offsetgroup": "PREDMSO",
         "orientation": "v",
         "quartilemethod": "inclusive",
         "showlegend": true,
         "type": "box",
         "x": [
          "PREDMSO",
          "PREDMSO",
          "PREDMSO",
          "PREDMSO",
          "PREDMSO",
          "PREDMSO",
          "PREDMSO",
          "PREDMSO",
          "PREDMSO",
          "PREDMSO",
          "PREDMSO",
          "PREDMSO",
          "PREDMSO",
          "PREDMSO",
          "PREDMSO",
          "PREDMSO",
          "PREDMSO",
          "PREDMSO",
          "PREDMSO",
          "PREDMSO",
          "PREDMSO",
          "PREDMSO",
          "PREDMSO",
          "PREDMSO"
         ],
         "x0": " ",
         "xaxis": "x",
         "y": [
          5.012359783309631,
          4.991227855917369,
          4.995360974342022,
          4.870672404983987,
          4.98855153025172,
          5.031487820499879,
          4.970226120277419,
          4.93577967941673,
          5.059104846976968,
          4.903871921375919,
          4.986399493139727,
          5.006157400090261,
          4.944979366912571,
          4.9914281324735965,
          4.900623450222921,
          5.040541749698719,
          5.037947795019178,
          4.933129524285599,
          4.921168398007529,
          5.003486217899708,
          4.9788858005297465,
          4.899314524606782,
          4.971914096307866,
          4.874636592097182
         ],
         "y0": " ",
         "yaxis": "y"
        },
        {
         "alignmentgroup": "True",
         "boxpoints": "all",
         "customdata": [
          [
           "PREmdivi1 25uM4717.0p7"
          ],
          [
           "PREmdivi1 25uM4717.0p7"
          ],
          [
           "PREmdivi1 25uM4719.0p4"
          ],
          [
           "PREmdivi1 25uM4719.0p4"
          ],
          [
           "PREmdivi1 25uM4837.0p9"
          ],
          [
           "PREmdivi1 25uM4719.0p5"
          ],
          [
           "PREmdivi1 25uM4719.0p4"
          ],
          [
           "PREmdivi1 25uM4719.0p5"
          ],
          [
           "PREmdivi1 25uM4719.0p4"
          ],
          [
           "PREmdivi1 25uM4689.0p6"
          ],
          [
           "PREmdivi1 25uM4719.0p4"
          ],
          [
           "PREmdivi1 25uM4719.0p5"
          ],
          [
           "PREmdivi1 25uM4717.0p7"
          ],
          [
           "PREmdivi1 25uM4719.0p5"
          ],
          [
           "PREmdivi1 25uM4689.0p6"
          ],
          [
           "PREmdivi1 25uM4689.0p6"
          ],
          [
           "PREmdivi1 25uM4717.0p7"
          ],
          [
           "PREmdivi1 25uM4837.0p9"
          ],
          [
           "PREmdivi1 25uM4719.0p5"
          ],
          [
           "PREmdivi1 25uM4719.0p5"
          ],
          [
           "PREmdivi1 25uM4717.0p7"
          ],
          [
           "PREmdivi1 25uM4837.0p9"
          ],
          [
           "PREmdivi1 25uM4689.0p6"
          ],
          [
           "PREmdivi1 25uM4689.0p6"
          ],
          [
           "PREmdivi1 25uM4689.0p6"
          ],
          [
           "PREmdivi1 25uM4717.0p7"
          ],
          [
           "PREmdivi1 25uM4719.0p4"
          ]
         ],
         "hovertemplate": "group=%{x}<br>mfn2_intensity=%{y}<br>group_with_p=%{customdata[0]}<extra></extra>",
         "legendgroup": "PREmdivi1 25uM",
         "marker": {
          "color": "#FFA15A"
         },
         "name": "PREmdivi1 25uM",
         "notched": true,
         "offsetgroup": "PREmdivi1 25uM",
         "orientation": "v",
         "quartilemethod": "inclusive",
         "showlegend": true,
         "type": "box",
         "x": [
          "PREmdivi1 25uM",
          "PREmdivi1 25uM",
          "PREmdivi1 25uM",
          "PREmdivi1 25uM",
          "PREmdivi1 25uM",
          "PREmdivi1 25uM",
          "PREmdivi1 25uM",
          "PREmdivi1 25uM",
          "PREmdivi1 25uM",
          "PREmdivi1 25uM",
          "PREmdivi1 25uM",
          "PREmdivi1 25uM",
          "PREmdivi1 25uM",
          "PREmdivi1 25uM",
          "PREmdivi1 25uM",
          "PREmdivi1 25uM",
          "PREmdivi1 25uM",
          "PREmdivi1 25uM",
          "PREmdivi1 25uM",
          "PREmdivi1 25uM",
          "PREmdivi1 25uM",
          "PREmdivi1 25uM",
          "PREmdivi1 25uM",
          "PREmdivi1 25uM",
          "PREmdivi1 25uM",
          "PREmdivi1 25uM",
          "PREmdivi1 25uM"
         ],
         "x0": " ",
         "xaxis": "x",
         "y": [
          5.036699080656327,
          5.048595063029312,
          4.915605667167292,
          4.923236121807384,
          4.9591196088904725,
          4.966020250768269,
          4.9172655958146,
          4.915573829926299,
          4.968880796562123,
          4.916260683768294,
          4.895952090519701,
          4.932206327061495,
          5.031899676833994,
          4.846340372551933,
          4.978121135944934,
          4.9287633202946,
          4.995992796388876,
          4.962757382943481,
          4.86772105554377,
          4.869947712732814,
          4.907052690918667,
          4.9028694315615216,
          4.907834796024987,
          5.01394113426697,
          4.960131660721557,
          5.000844310554164,
          4.91454994168126
         ],
         "y0": " ",
         "yaxis": "y"
        },
        {
         "alignmentgroup": "True",
         "boxpoints": "all",
         "customdata": [
          [
           "SDMSO4709.0p9"
          ],
          [
           "SDMSO305.0p6"
          ],
          [
           "SDMSO4687.0p7"
          ],
          [
           "SDMSO4287.0p5"
          ],
          [
           "SDMSO2165.0p10"
          ],
          [
           "SDMSO4687.0p7"
          ],
          [
           "SDMSO305.0p6"
          ],
          [
           "SDMSO305.0p6"
          ],
          [
           "SDMSO4709.0p9"
          ],
          [
           "SDMSO4287.0p5"
          ],
          [
           "SDMSO4687.0p7"
          ],
          [
           "SDMSO305.0p6"
          ],
          [
           "SDMSO4709.0p9"
          ],
          [
           "SDMSO4287.0p5"
          ],
          [
           "SDMSO4287.0p5"
          ],
          [
           "SDMSO4476.0p10"
          ],
          [
           "SDMSO4709.0p9"
          ],
          [
           "SDMSO4687.0p7"
          ],
          [
           "SDMSO4709.0p9"
          ],
          [
           "SDMSO4807.0p8"
          ],
          [
           "SDMSO4709.0p9"
          ],
          [
           "SDMSO305.0p6"
          ],
          [
           "SDMSO4287.0p5"
          ],
          [
           "SDMSO4687.0p7"
          ],
          [
           "SDMSO4287.0p5"
          ],
          [
           "SDMSO4687.0p7"
          ],
          [
           "SDMSO4476.0p10"
          ],
          [
           "SDMSO305.0p6"
          ]
         ],
         "hovertemplate": "group=%{x}<br>mfn2_intensity=%{y}<br>group_with_p=%{customdata[0]}<extra></extra>",
         "legendgroup": "SDMSO",
         "marker": {
          "color": "#19d3f3"
         },
         "name": "SDMSO",
         "notched": true,
         "offsetgroup": "SDMSO",
         "orientation": "v",
         "quartilemethod": "inclusive",
         "showlegend": true,
         "type": "box",
         "x": [
          "SDMSO",
          "SDMSO",
          "SDMSO",
          "SDMSO",
          "SDMSO",
          "SDMSO",
          "SDMSO",
          "SDMSO",
          "SDMSO",
          "SDMSO",
          "SDMSO",
          "SDMSO",
          "SDMSO",
          "SDMSO",
          "SDMSO",
          "SDMSO",
          "SDMSO",
          "SDMSO",
          "SDMSO",
          "SDMSO",
          "SDMSO",
          "SDMSO",
          "SDMSO",
          "SDMSO",
          "SDMSO",
          "SDMSO",
          "SDMSO",
          "SDMSO"
         ],
         "x0": " ",
         "xaxis": "x",
         "y": [
          4.853449031547372,
          4.975051333999351,
          5.033870555464392,
          4.853152589017747,
          4.839071591715587,
          5.011543261189351,
          4.955204623661835,
          4.930162224491974,
          4.837125522166806,
          4.83507951584512,
          5.060010761900822,
          4.909876293130821,
          4.865539308058896,
          4.853062303628697,
          4.888096775390473,
          4.844574720137846,
          4.87624243998317,
          4.997161807065017,
          4.851655565619601,
          4.808130211882441,
          4.868615757094325,
          5.0108847002053,
          4.831407142435279,
          4.982238601539138,
          4.847824092306782,
          5.0301857282284,
          4.8564685714514235,
          4.99464252800338
         ],
         "y0": " ",
         "yaxis": "y"
        },
        {
         "alignmentgroup": "True",
         "boxpoints": "all",
         "customdata": [
          [
           "Smdivi1 25uM305.0p6"
          ],
          [
           "Smdivi1 25uM305.0p6"
          ],
          [
           "Smdivi1 25uM305.0p6"
          ],
          [
           "Smdivi1 25uM4287.0p5"
          ],
          [
           "Smdivi1 25uM4687.0p7"
          ],
          [
           "Smdivi1 25uM4476.0p10"
          ],
          [
           "Smdivi1 25uM4687.0p7"
          ],
          [
           "Smdivi1 25uM4287.0p5"
          ],
          [
           "Smdivi1 25uM4709.0p9"
          ],
          [
           "Smdivi1 25uM2165.0p10"
          ],
          [
           "Smdivi1 25uM305.0p6"
          ],
          [
           "Smdivi1 25uM4709.0p9"
          ],
          [
           "Smdivi1 25uM4287.0p5"
          ],
          [
           "Smdivi1 25uM4687.0p7"
          ],
          [
           "Smdivi1 25uM4709.0p9"
          ],
          [
           "Smdivi1 25uM2165.0p10"
          ],
          [
           "Smdivi1 25uM4687.0p7"
          ],
          [
           "Smdivi1 25uM4709.0p9"
          ],
          [
           "Smdivi1 25uM305.0p6"
          ],
          [
           "Smdivi1 25uM4287.0p5"
          ],
          [
           "Smdivi1 25uM305.0p6"
          ],
          [
           "Smdivi1 25uM2165.0p10"
          ],
          [
           "Smdivi1 25uM4687.0p7"
          ],
          [
           "Smdivi1 25uM4476.0p10"
          ],
          [
           "Smdivi1 25uM4476.0p10"
          ],
          [
           "Smdivi1 25uM4287.0p5"
          ],
          [
           "Smdivi1 25uM4476.0p10"
          ],
          [
           "Smdivi1 25uM4687.0p7"
          ],
          [
           "Smdivi1 25uM4287.0p5"
          ],
          [
           "Smdivi1 25uM2165.0p10"
          ],
          [
           "Smdivi1 25uM2165.0p10"
          ],
          [
           "Smdivi1 25uM4709.0p9"
          ],
          [
           "Smdivi1 25uM4476.0p10"
          ],
          [
           "Smdivi1 25uM4476.0p10"
          ],
          [
           "Smdivi1 25uM4709.0p9"
          ]
         ],
         "hovertemplate": "group=%{x}<br>mfn2_intensity=%{y}<br>group_with_p=%{customdata[0]}<extra></extra>",
         "legendgroup": "Smdivi1 25uM",
         "marker": {
          "color": "#FF6692"
         },
         "name": "Smdivi1 25uM",
         "notched": true,
         "offsetgroup": "Smdivi1 25uM",
         "orientation": "v",
         "quartilemethod": "inclusive",
         "showlegend": true,
         "type": "box",
         "x": [
          "Smdivi1 25uM",
          "Smdivi1 25uM",
          "Smdivi1 25uM",
          "Smdivi1 25uM",
          "Smdivi1 25uM",
          "Smdivi1 25uM",
          "Smdivi1 25uM",
          "Smdivi1 25uM",
          "Smdivi1 25uM",
          "Smdivi1 25uM",
          "Smdivi1 25uM",
          "Smdivi1 25uM",
          "Smdivi1 25uM",
          "Smdivi1 25uM",
          "Smdivi1 25uM",
          "Smdivi1 25uM",
          "Smdivi1 25uM",
          "Smdivi1 25uM",
          "Smdivi1 25uM",
          "Smdivi1 25uM",
          "Smdivi1 25uM",
          "Smdivi1 25uM",
          "Smdivi1 25uM",
          "Smdivi1 25uM",
          "Smdivi1 25uM",
          "Smdivi1 25uM",
          "Smdivi1 25uM",
          "Smdivi1 25uM",
          "Smdivi1 25uM",
          "Smdivi1 25uM",
          "Smdivi1 25uM",
          "Smdivi1 25uM",
          "Smdivi1 25uM",
          "Smdivi1 25uM",
          "Smdivi1 25uM"
         ],
         "x0": " ",
         "xaxis": "x",
         "y": [
          4.97045277763576,
          4.9697774373079575,
          4.994742821303083,
          4.81067999982771,
          4.985204958283512,
          4.876135217294387,
          4.9070365436257815,
          4.874934598142327,
          4.852225303101364,
          4.820019639305339,
          4.901792017319822,
          4.879211719186159,
          4.845633382799918,
          5.104502665947526,
          4.882592984086,
          4.850951253708356,
          4.967800303476218,
          4.903484783656928,
          4.949258404354744,
          4.80783903124954,
          4.937167842124652,
          4.8371470564112595,
          5.090156177347723,
          4.8288159537065285,
          4.7945294401837595,
          4.838579933924031,
          4.858969384895788,
          4.946901299530153,
          4.8731615783482205,
          4.850618603135849,
          4.802060109248817,
          4.8494155436018085,
          4.828249428922562,
          4.82686092494531,
          4.87447298480165
         ],
         "y0": " ",
         "yaxis": "y"
        }
       ],
       "layout": {
        "boxmode": "overlay",
        "font": {
         "color": "Black",
         "family": "Arial",
         "size": 20
        },
        "legend": {
         "title": {
          "text": "group"
         },
         "tracegroupgap": 0
        },
        "margin": {
         "t": 60
        },
        "template": {
         "data": {
          "bar": [
           {
            "error_x": {
             "color": "#2a3f5f"
            },
            "error_y": {
             "color": "#2a3f5f"
            },
            "marker": {
             "line": {
              "color": "#E5ECF6",
              "width": 0.5
             },
             "pattern": {
              "fillmode": "overlay",
              "size": 10,
              "solidity": 0.2
             }
            },
            "type": "bar"
           }
          ],
          "barpolar": [
           {
            "marker": {
             "line": {
              "color": "#E5ECF6",
              "width": 0.5
             },
             "pattern": {
              "fillmode": "overlay",
              "size": 10,
              "solidity": 0.2
             }
            },
            "type": "barpolar"
           }
          ],
          "carpet": [
           {
            "aaxis": {
             "endlinecolor": "#2a3f5f",
             "gridcolor": "white",
             "linecolor": "white",
             "minorgridcolor": "white",
             "startlinecolor": "#2a3f5f"
            },
            "baxis": {
             "endlinecolor": "#2a3f5f",
             "gridcolor": "white",
             "linecolor": "white",
             "minorgridcolor": "white",
             "startlinecolor": "#2a3f5f"
            },
            "type": "carpet"
           }
          ],
          "choropleth": [
           {
            "colorbar": {
             "outlinewidth": 0,
             "ticks": ""
            },
            "type": "choropleth"
           }
          ],
          "contour": [
           {
            "colorbar": {
             "outlinewidth": 0,
             "ticks": ""
            },
            "colorscale": [
             [
              0,
              "#0d0887"
             ],
             [
              0.1111111111111111,
              "#46039f"
             ],
             [
              0.2222222222222222,
              "#7201a8"
             ],
             [
              0.3333333333333333,
              "#9c179e"
             ],
             [
              0.4444444444444444,
              "#bd3786"
             ],
             [
              0.5555555555555556,
              "#d8576b"
             ],
             [
              0.6666666666666666,
              "#ed7953"
             ],
             [
              0.7777777777777778,
              "#fb9f3a"
             ],
             [
              0.8888888888888888,
              "#fdca26"
             ],
             [
              1,
              "#f0f921"
             ]
            ],
            "type": "contour"
           }
          ],
          "contourcarpet": [
           {
            "colorbar": {
             "outlinewidth": 0,
             "ticks": ""
            },
            "type": "contourcarpet"
           }
          ],
          "heatmap": [
           {
            "colorbar": {
             "outlinewidth": 0,
             "ticks": ""
            },
            "colorscale": [
             [
              0,
              "#0d0887"
             ],
             [
              0.1111111111111111,
              "#46039f"
             ],
             [
              0.2222222222222222,
              "#7201a8"
             ],
             [
              0.3333333333333333,
              "#9c179e"
             ],
             [
              0.4444444444444444,
              "#bd3786"
             ],
             [
              0.5555555555555556,
              "#d8576b"
             ],
             [
              0.6666666666666666,
              "#ed7953"
             ],
             [
              0.7777777777777778,
              "#fb9f3a"
             ],
             [
              0.8888888888888888,
              "#fdca26"
             ],
             [
              1,
              "#f0f921"
             ]
            ],
            "type": "heatmap"
           }
          ],
          "heatmapgl": [
           {
            "colorbar": {
             "outlinewidth": 0,
             "ticks": ""
            },
            "colorscale": [
             [
              0,
              "#0d0887"
             ],
             [
              0.1111111111111111,
              "#46039f"
             ],
             [
              0.2222222222222222,
              "#7201a8"
             ],
             [
              0.3333333333333333,
              "#9c179e"
             ],
             [
              0.4444444444444444,
              "#bd3786"
             ],
             [
              0.5555555555555556,
              "#d8576b"
             ],
             [
              0.6666666666666666,
              "#ed7953"
             ],
             [
              0.7777777777777778,
              "#fb9f3a"
             ],
             [
              0.8888888888888888,
              "#fdca26"
             ],
             [
              1,
              "#f0f921"
             ]
            ],
            "type": "heatmapgl"
           }
          ],
          "histogram": [
           {
            "marker": {
             "pattern": {
              "fillmode": "overlay",
              "size": 10,
              "solidity": 0.2
             }
            },
            "type": "histogram"
           }
          ],
          "histogram2d": [
           {
            "colorbar": {
             "outlinewidth": 0,
             "ticks": ""
            },
            "colorscale": [
             [
              0,
              "#0d0887"
             ],
             [
              0.1111111111111111,
              "#46039f"
             ],
             [
              0.2222222222222222,
              "#7201a8"
             ],
             [
              0.3333333333333333,
              "#9c179e"
             ],
             [
              0.4444444444444444,
              "#bd3786"
             ],
             [
              0.5555555555555556,
              "#d8576b"
             ],
             [
              0.6666666666666666,
              "#ed7953"
             ],
             [
              0.7777777777777778,
              "#fb9f3a"
             ],
             [
              0.8888888888888888,
              "#fdca26"
             ],
             [
              1,
              "#f0f921"
             ]
            ],
            "type": "histogram2d"
           }
          ],
          "histogram2dcontour": [
           {
            "colorbar": {
             "outlinewidth": 0,
             "ticks": ""
            },
            "colorscale": [
             [
              0,
              "#0d0887"
             ],
             [
              0.1111111111111111,
              "#46039f"
             ],
             [
              0.2222222222222222,
              "#7201a8"
             ],
             [
              0.3333333333333333,
              "#9c179e"
             ],
             [
              0.4444444444444444,
              "#bd3786"
             ],
             [
              0.5555555555555556,
              "#d8576b"
             ],
             [
              0.6666666666666666,
              "#ed7953"
             ],
             [
              0.7777777777777778,
              "#fb9f3a"
             ],
             [
              0.8888888888888888,
              "#fdca26"
             ],
             [
              1,
              "#f0f921"
             ]
            ],
            "type": "histogram2dcontour"
           }
          ],
          "mesh3d": [
           {
            "colorbar": {
             "outlinewidth": 0,
             "ticks": ""
            },
            "type": "mesh3d"
           }
          ],
          "parcoords": [
           {
            "line": {
             "colorbar": {
              "outlinewidth": 0,
              "ticks": ""
             }
            },
            "type": "parcoords"
           }
          ],
          "pie": [
           {
            "automargin": true,
            "type": "pie"
           }
          ],
          "scatter": [
           {
            "fillpattern": {
             "fillmode": "overlay",
             "size": 10,
             "solidity": 0.2
            },
            "type": "scatter"
           }
          ],
          "scatter3d": [
           {
            "line": {
             "colorbar": {
              "outlinewidth": 0,
              "ticks": ""
             }
            },
            "marker": {
             "colorbar": {
              "outlinewidth": 0,
              "ticks": ""
             }
            },
            "type": "scatter3d"
           }
          ],
          "scattercarpet": [
           {
            "marker": {
             "colorbar": {
              "outlinewidth": 0,
              "ticks": ""
             }
            },
            "type": "scattercarpet"
           }
          ],
          "scattergeo": [
           {
            "marker": {
             "colorbar": {
              "outlinewidth": 0,
              "ticks": ""
             }
            },
            "type": "scattergeo"
           }
          ],
          "scattergl": [
           {
            "marker": {
             "colorbar": {
              "outlinewidth": 0,
              "ticks": ""
             }
            },
            "type": "scattergl"
           }
          ],
          "scattermapbox": [
           {
            "marker": {
             "colorbar": {
              "outlinewidth": 0,
              "ticks": ""
             }
            },
            "type": "scattermapbox"
           }
          ],
          "scatterpolar": [
           {
            "marker": {
             "colorbar": {
              "outlinewidth": 0,
              "ticks": ""
             }
            },
            "type": "scatterpolar"
           }
          ],
          "scatterpolargl": [
           {
            "marker": {
             "colorbar": {
              "outlinewidth": 0,
              "ticks": ""
             }
            },
            "type": "scatterpolargl"
           }
          ],
          "scatterternary": [
           {
            "marker": {
             "colorbar": {
              "outlinewidth": 0,
              "ticks": ""
             }
            },
            "type": "scatterternary"
           }
          ],
          "surface": [
           {
            "colorbar": {
             "outlinewidth": 0,
             "ticks": ""
            },
            "colorscale": [
             [
              0,
              "#0d0887"
             ],
             [
              0.1111111111111111,
              "#46039f"
             ],
             [
              0.2222222222222222,
              "#7201a8"
             ],
             [
              0.3333333333333333,
              "#9c179e"
             ],
             [
              0.4444444444444444,
              "#bd3786"
             ],
             [
              0.5555555555555556,
              "#d8576b"
             ],
             [
              0.6666666666666666,
              "#ed7953"
             ],
             [
              0.7777777777777778,
              "#fb9f3a"
             ],
             [
              0.8888888888888888,
              "#fdca26"
             ],
             [
              1,
              "#f0f921"
             ]
            ],
            "type": "surface"
           }
          ],
          "table": [
           {
            "cells": {
             "fill": {
              "color": "#EBF0F8"
             },
             "line": {
              "color": "white"
             }
            },
            "header": {
             "fill": {
              "color": "#C8D4E3"
             },
             "line": {
              "color": "white"
             }
            },
            "type": "table"
           }
          ]
         },
         "layout": {
          "annotationdefaults": {
           "arrowcolor": "#2a3f5f",
           "arrowhead": 0,
           "arrowwidth": 1
          },
          "autotypenumbers": "strict",
          "coloraxis": {
           "colorbar": {
            "outlinewidth": 0,
            "ticks": ""
           }
          },
          "colorscale": {
           "diverging": [
            [
             0,
             "#8e0152"
            ],
            [
             0.1,
             "#c51b7d"
            ],
            [
             0.2,
             "#de77ae"
            ],
            [
             0.3,
             "#f1b6da"
            ],
            [
             0.4,
             "#fde0ef"
            ],
            [
             0.5,
             "#f7f7f7"
            ],
            [
             0.6,
             "#e6f5d0"
            ],
            [
             0.7,
             "#b8e186"
            ],
            [
             0.8,
             "#7fbc41"
            ],
            [
             0.9,
             "#4d9221"
            ],
            [
             1,
             "#276419"
            ]
           ],
           "sequential": [
            [
             0,
             "#0d0887"
            ],
            [
             0.1111111111111111,
             "#46039f"
            ],
            [
             0.2222222222222222,
             "#7201a8"
            ],
            [
             0.3333333333333333,
             "#9c179e"
            ],
            [
             0.4444444444444444,
             "#bd3786"
            ],
            [
             0.5555555555555556,
             "#d8576b"
            ],
            [
             0.6666666666666666,
             "#ed7953"
            ],
            [
             0.7777777777777778,
             "#fb9f3a"
            ],
            [
             0.8888888888888888,
             "#fdca26"
            ],
            [
             1,
             "#f0f921"
            ]
           ],
           "sequentialminus": [
            [
             0,
             "#0d0887"
            ],
            [
             0.1111111111111111,
             "#46039f"
            ],
            [
             0.2222222222222222,
             "#7201a8"
            ],
            [
             0.3333333333333333,
             "#9c179e"
            ],
            [
             0.4444444444444444,
             "#bd3786"
            ],
            [
             0.5555555555555556,
             "#d8576b"
            ],
            [
             0.6666666666666666,
             "#ed7953"
            ],
            [
             0.7777777777777778,
             "#fb9f3a"
            ],
            [
             0.8888888888888888,
             "#fdca26"
            ],
            [
             1,
             "#f0f921"
            ]
           ]
          },
          "colorway": [
           "#636efa",
           "#EF553B",
           "#00cc96",
           "#ab63fa",
           "#FFA15A",
           "#19d3f3",
           "#FF6692",
           "#B6E880",
           "#FF97FF",
           "#FECB52"
          ],
          "font": {
           "color": "#2a3f5f"
          },
          "geo": {
           "bgcolor": "white",
           "lakecolor": "white",
           "landcolor": "#E5ECF6",
           "showlakes": true,
           "showland": true,
           "subunitcolor": "white"
          },
          "hoverlabel": {
           "align": "left"
          },
          "hovermode": "closest",
          "mapbox": {
           "style": "light"
          },
          "paper_bgcolor": "white",
          "plot_bgcolor": "#E5ECF6",
          "polar": {
           "angularaxis": {
            "gridcolor": "white",
            "linecolor": "white",
            "ticks": ""
           },
           "bgcolor": "#E5ECF6",
           "radialaxis": {
            "gridcolor": "white",
            "linecolor": "white",
            "ticks": ""
           }
          },
          "scene": {
           "xaxis": {
            "backgroundcolor": "#E5ECF6",
            "gridcolor": "white",
            "gridwidth": 2,
            "linecolor": "white",
            "showbackground": true,
            "ticks": "",
            "zerolinecolor": "white"
           },
           "yaxis": {
            "backgroundcolor": "#E5ECF6",
            "gridcolor": "white",
            "gridwidth": 2,
            "linecolor": "white",
            "showbackground": true,
            "ticks": "",
            "zerolinecolor": "white"
           },
           "zaxis": {
            "backgroundcolor": "#E5ECF6",
            "gridcolor": "white",
            "gridwidth": 2,
            "linecolor": "white",
            "showbackground": true,
            "ticks": "",
            "zerolinecolor": "white"
           }
          },
          "shapedefaults": {
           "line": {
            "color": "#2a3f5f"
           }
          },
          "ternary": {
           "aaxis": {
            "gridcolor": "white",
            "linecolor": "white",
            "ticks": ""
           },
           "baxis": {
            "gridcolor": "white",
            "linecolor": "white",
            "ticks": ""
           },
           "bgcolor": "#E5ECF6",
           "caxis": {
            "gridcolor": "white",
            "linecolor": "white",
            "ticks": ""
           }
          },
          "title": {
           "x": 0.05
          },
          "xaxis": {
           "automargin": true,
           "gridcolor": "white",
           "linecolor": "white",
           "ticks": "",
           "title": {
            "standoff": 15
           },
           "zerolinecolor": "white",
           "zerolinewidth": 2
          },
          "yaxis": {
           "automargin": true,
           "gridcolor": "white",
           "linecolor": "white",
           "ticks": "",
           "title": {
            "standoff": 15
           },
           "zerolinecolor": "white",
           "zerolinewidth": 2
          }
         }
        },
        "xaxis": {
         "anchor": "y",
         "categoryarray": [
          "HCDMSO",
          "PREDMSO",
          "PREmdivi1 25uM",
          "MDMSO",
          "Mmdivi1 25uM",
          "SDMSO",
          "Smdivi1 25uM"
         ],
         "categoryorder": "array",
         "domain": [
          0,
          1
         ],
         "title": {
          "text": "group"
         }
        },
        "yaxis": {
         "anchor": "x",
         "domain": [
          0,
          1
         ],
         "title": {
          "text": "mfn2_intensity"
         }
        }
       }
      },
      "text/html": [
       "<div>                            <div id=\"782a7c9f-75bf-4317-85d4-1eccdbd5fb21\" class=\"plotly-graph-div\" style=\"height:525px; width:100%;\"></div>            <script type=\"text/javascript\">                require([\"plotly\"], function(Plotly) {                    window.PLOTLYENV=window.PLOTLYENV || {};                                    if (document.getElementById(\"782a7c9f-75bf-4317-85d4-1eccdbd5fb21\")) {                    Plotly.newPlot(                        \"782a7c9f-75bf-4317-85d4-1eccdbd5fb21\",                        [{\"alignmentgroup\":\"True\",\"boxpoints\":\"all\",\"customdata\":[[\"HCDMSO495.0p6\"],[\"HCDMSO1170.0p10\"],[\"HCDMSO1650.0p7\"],[\"HCDMSO1650.0p8\"],[\"HCDMSO1650.0p6\"],[\"HCDMSO1650.0p9\"],[\"HCDMSO495.0p6\"],[\"HCDMSO1653.0p7\"],[\"HCDMSO1650.0p9\"],[\"HCDMSO730.0p8\"],[\"HCDMSO143.0p6\"],[\"HCDMSO1650.0p7\"],[\"HCDMSO1653.0p8\"],[\"HCDMSO730.0p9\"],[\"HCDMSO1016.0p10\"],[\"HCDMSO1170.0p10\"],[\"HCDMSO1653.0p7\"],[\"HCDMSO951.0p10\"],[\"HCDMSO1653.0p4\"],[\"HCDMSO143.0p7\"],[\"HCDMSO143.0p7\"],[\"HCDMSO1653.0p9\"],[\"HCDMSO730.0p9\"],[\"HCDMSO495.0p7\"],[\"HCDMSO143.0p6\"],[\"HCDMSO1016.0p10\"],[\"HCDMSO1016.0p10\"],[\"HCDMSO1170.0p10\"],[\"HCDMSO1016.0p10\"],[\"HCDMSO143.0p6\"],[\"HCDMSO730.0p9\"],[\"HCDMSO143.0p6\"],[\"HCDMSO495.0p6\"],[\"HCDMSO1170.0p10\"],[\"HCDMSO730.0p9\"],[\"HCDMSO730.0p9\"],[\"HCDMSO1016.0p10\"],[\"HCDMSO1170.0p10\"],[\"HCDMSO495.0p7\"],[\"HCDMSO495.0p7\"],[\"HCDMSO1016.0p10\"]],\"hovertemplate\":\"group=%{x}<br>mfn2_intensity=%{y}<br>group_with_p=%{customdata[0]}<extra></extra>\",\"legendgroup\":\"HCDMSO\",\"marker\":{\"color\":\"#636efa\"},\"name\":\"HCDMSO\",\"notched\":true,\"offsetgroup\":\"HCDMSO\",\"orientation\":\"v\",\"showlegend\":true,\"x\":[\"HCDMSO\",\"HCDMSO\",\"HCDMSO\",\"HCDMSO\",\"HCDMSO\",\"HCDMSO\",\"HCDMSO\",\"HCDMSO\",\"HCDMSO\",\"HCDMSO\",\"HCDMSO\",\"HCDMSO\",\"HCDMSO\",\"HCDMSO\",\"HCDMSO\",\"HCDMSO\",\"HCDMSO\",\"HCDMSO\",\"HCDMSO\",\"HCDMSO\",\"HCDMSO\",\"HCDMSO\",\"HCDMSO\",\"HCDMSO\",\"HCDMSO\",\"HCDMSO\",\"HCDMSO\",\"HCDMSO\",\"HCDMSO\",\"HCDMSO\",\"HCDMSO\",\"HCDMSO\",\"HCDMSO\",\"HCDMSO\",\"HCDMSO\",\"HCDMSO\",\"HCDMSO\",\"HCDMSO\",\"HCDMSO\",\"HCDMSO\",\"HCDMSO\"],\"x0\":\" \",\"xaxis\":\"x\",\"y\":[5.03733016773726,4.903158248635292,4.972279175698787,5.041728300049075,5.0893526337652055,5.025263509366111,4.972395554219585,4.874136552431577,5.026376036114152,4.978837533189739,4.9222876202522805,4.991692653853183,4.904093876670545,5.010269193409576,4.869106686774833,4.941817883258041,4.858229943822667,4.891937907616033,4.951524633363001,4.974449101387007,5.023951882622333,4.9035186363899195,4.99426084956646,4.997710376521418,4.905258051498535,4.873982902571752,4.898546970205284,4.901663391341506,4.847060262200966,4.936645134488517,5.058552728506564,4.937697438503417,5.041854497425813,4.890591978204993,5.028699992329653,5.022619892924213,4.843979540253076,4.928959331664104,5.007361408376048,4.965687497194975,4.893344751970022],\"y0\":\" \",\"yaxis\":\"y\",\"type\":\"box\",\"quartilemethod\":\"inclusive\"},{\"alignmentgroup\":\"True\",\"boxpoints\":\"all\",\"customdata\":[[\"MDMSO4819.0p4\"],[\"MDMSO4819.0p4\"],[\"MDMSO4819.0p4\"],[\"MDMSO4799.0p8\"],[\"MDMSO4715.0p6\"],[\"MDMSO4212.0p9\"],[\"MDMSO4212.0p9\"],[\"MDMSO4212.0p9\"],[\"MDMSO4887.0p7\"],[\"MDMSO4212.0p9\"],[\"MDMSO4819.0p4\"],[\"MDMSO4819.0p4\"],[\"MDMSO4715.0p6\"],[\"MDMSO4887.0p7\"],[\"MDMSO4799.0p8\"],[\"MDMSO4715.0p6\"],[\"MDMSO4887.0p7\"],[\"MDMSO4715.0p6\"],[\"MDMSO4799.0p8\"],[\"MDMSO4799.0p8\"],[\"MDMSO4799.0p8\"],[\"MDMSO4819.0p4\"],[\"MDMSO4212.0p9\"]],\"hovertemplate\":\"group=%{x}<br>mfn2_intensity=%{y}<br>group_with_p=%{customdata[0]}<extra></extra>\",\"legendgroup\":\"MDMSO\",\"marker\":{\"color\":\"#EF553B\"},\"name\":\"MDMSO\",\"notched\":true,\"offsetgroup\":\"MDMSO\",\"orientation\":\"v\",\"showlegend\":true,\"x\":[\"MDMSO\",\"MDMSO\",\"MDMSO\",\"MDMSO\",\"MDMSO\",\"MDMSO\",\"MDMSO\",\"MDMSO\",\"MDMSO\",\"MDMSO\",\"MDMSO\",\"MDMSO\",\"MDMSO\",\"MDMSO\",\"MDMSO\",\"MDMSO\",\"MDMSO\",\"MDMSO\",\"MDMSO\",\"MDMSO\",\"MDMSO\",\"MDMSO\",\"MDMSO\"],\"x0\":\" \",\"xaxis\":\"x\",\"y\":[4.958600100457221,5.023145008890767,4.993403978756631,5.013852873983119,4.964247846773478,5.0314570867035915,5.055207231656801,5.049523767237013,4.937050385634713,5.071276152097746,4.998810784727943,4.984284181469034,4.977893855966484,4.933983022452321,4.996899254954514,4.968717338424361,4.925877613340748,4.955605899225015,4.975199937363451,4.926373011303888,4.928985970883533,5.034438048109164,5.0490903552513],\"y0\":\" \",\"yaxis\":\"y\",\"type\":\"box\",\"quartilemethod\":\"inclusive\"},{\"alignmentgroup\":\"True\",\"boxpoints\":\"all\",\"customdata\":[[\"Mmdivi1 25uM4715.0p6\"],[\"Mmdivi1 25uM4799.0p8\"],[\"Mmdivi1 25uM4212.0p9\"],[\"Mmdivi1 25uM4715.0p6\"],[\"Mmdivi1 25uM4887.0p7\"],[\"Mmdivi1 25uM4819.0p4\"],[\"Mmdivi1 25uM4799.0p8\"],[\"Mmdivi1 25uM4887.0p7\"],[\"Mmdivi1 25uM4715.0p6\"],[\"Mmdivi1 25uM4721.0p5\"],[\"Mmdivi1 25uM4819.0p4\"],[\"Mmdivi1 25uM4715.0p6\"],[\"Mmdivi1 25uM4212.0p9\"],[\"Mmdivi1 25uM4819.0p4\"],[\"Mmdivi1 25uM4212.0p9\"],[\"Mmdivi1 25uM4799.0p8\"],[\"Mmdivi1 25uM4715.0p6\"],[\"Mmdivi1 25uM4721.0p5\"],[\"Mmdivi1 25uM4721.0p5\"],[\"Mmdivi1 25uM4887.0p7\"],[\"Mmdivi1 25uM4819.0p4\"],[\"Mmdivi1 25uM4799.0p8\"],[\"Mmdivi1 25uM4212.0p9\"],[\"Mmdivi1 25uM4887.0p7\"],[\"Mmdivi1 25uM4212.0p9\"],[\"Mmdivi1 25uM4715.0p6\"],[\"Mmdivi1 25uM4819.0p4\"],[\"Mmdivi1 25uM4887.0p7\"],[\"Mmdivi1 25uM4887.0p7\"],[\"Mmdivi1 25uM4799.0p8\"],[\"Mmdivi1 25uM4819.0p4\"],[\"Mmdivi1 25uM4721.0p5\"],[\"Mmdivi1 25uM4721.0p5\"],[\"Mmdivi1 25uM4799.0p8\"],[\"Mmdivi1 25uM4212.0p9\"]],\"hovertemplate\":\"group=%{x}<br>mfn2_intensity=%{y}<br>group_with_p=%{customdata[0]}<extra></extra>\",\"legendgroup\":\"Mmdivi1 25uM\",\"marker\":{\"color\":\"#00cc96\"},\"name\":\"Mmdivi1 25uM\",\"notched\":true,\"offsetgroup\":\"Mmdivi1 25uM\",\"orientation\":\"v\",\"showlegend\":true,\"x\":[\"Mmdivi1 25uM\",\"Mmdivi1 25uM\",\"Mmdivi1 25uM\",\"Mmdivi1 25uM\",\"Mmdivi1 25uM\",\"Mmdivi1 25uM\",\"Mmdivi1 25uM\",\"Mmdivi1 25uM\",\"Mmdivi1 25uM\",\"Mmdivi1 25uM\",\"Mmdivi1 25uM\",\"Mmdivi1 25uM\",\"Mmdivi1 25uM\",\"Mmdivi1 25uM\",\"Mmdivi1 25uM\",\"Mmdivi1 25uM\",\"Mmdivi1 25uM\",\"Mmdivi1 25uM\",\"Mmdivi1 25uM\",\"Mmdivi1 25uM\",\"Mmdivi1 25uM\",\"Mmdivi1 25uM\",\"Mmdivi1 25uM\",\"Mmdivi1 25uM\",\"Mmdivi1 25uM\",\"Mmdivi1 25uM\",\"Mmdivi1 25uM\",\"Mmdivi1 25uM\",\"Mmdivi1 25uM\",\"Mmdivi1 25uM\",\"Mmdivi1 25uM\",\"Mmdivi1 25uM\",\"Mmdivi1 25uM\",\"Mmdivi1 25uM\",\"Mmdivi1 25uM\"],\"x0\":\" \",\"xaxis\":\"x\",\"y\":[4.986790570620793,5.010293276875033,5.043962460820924,4.991571797638366,4.999725768638993,4.965724041905324,5.047189849367448,4.920977027736335,4.984204175500516,4.908101043238667,4.8895733887144015,4.968012660077854,4.994223624766057,4.898745796568719,5.031033032474782,4.969644904495567,5.021602686233874,4.9409491310310845,4.957523545034033,5.03092040863034,4.90583108336844,5.039572690522021,5.024186084729246,4.9277636158885425,5.008659493500475,4.964325611750559,4.96785339218386,5.031345230251476,4.945036301994066,4.927279733781704,4.924603383316587,4.899347264990155,4.890416693939139,5.0162903747899135,5.057989412413495],\"y0\":\" \",\"yaxis\":\"y\",\"type\":\"box\",\"quartilemethod\":\"inclusive\"},{\"alignmentgroup\":\"True\",\"boxpoints\":\"all\",\"customdata\":[[\"PREDMSO4717.0p7\"],[\"PREDMSO4689.0p6\"],[\"PREDMSO4717.0p7\"],[\"PREDMSO4837.0p9\"],[\"PREDMSO4837.0p9\"],[\"PREDMSO4717.0p7\"],[\"PREDMSO4837.0p9\"],[\"PREDMSO4837.0p9\"],[\"PREDMSO4717.0p7\"],[\"PREDMSO4719.0p5\"],[\"PREDMSO4719.0p4\"],[\"PREDMSO4719.0p4\"],[\"PREDMSO4719.0p5\"],[\"PREDMSO4689.0p6\"],[\"PREDMSO4719.0p4\"],[\"PREDMSO4717.0p7\"],[\"PREDMSO4719.0p4\"],[\"PREDMSO4717.0p7\"],[\"PREDMSO4689.0p6\"],[\"PREDMSO4719.0p5\"],[\"PREDMSO4837.0p9\"],[\"PREDMSO4719.0p4\"],[\"PREDMSO4719.0p5\"],[\"PREDMSO4837.0p9\"]],\"hovertemplate\":\"group=%{x}<br>mfn2_intensity=%{y}<br>group_with_p=%{customdata[0]}<extra></extra>\",\"legendgroup\":\"PREDMSO\",\"marker\":{\"color\":\"#ab63fa\"},\"name\":\"PREDMSO\",\"notched\":true,\"offsetgroup\":\"PREDMSO\",\"orientation\":\"v\",\"showlegend\":true,\"x\":[\"PREDMSO\",\"PREDMSO\",\"PREDMSO\",\"PREDMSO\",\"PREDMSO\",\"PREDMSO\",\"PREDMSO\",\"PREDMSO\",\"PREDMSO\",\"PREDMSO\",\"PREDMSO\",\"PREDMSO\",\"PREDMSO\",\"PREDMSO\",\"PREDMSO\",\"PREDMSO\",\"PREDMSO\",\"PREDMSO\",\"PREDMSO\",\"PREDMSO\",\"PREDMSO\",\"PREDMSO\",\"PREDMSO\",\"PREDMSO\"],\"x0\":\" \",\"xaxis\":\"x\",\"y\":[5.012359783309631,4.991227855917369,4.995360974342022,4.870672404983987,4.98855153025172,5.031487820499879,4.970226120277419,4.93577967941673,5.059104846976968,4.903871921375919,4.986399493139727,5.006157400090261,4.944979366912571,4.9914281324735965,4.900623450222921,5.040541749698719,5.037947795019178,4.933129524285599,4.921168398007529,5.003486217899708,4.9788858005297465,4.899314524606782,4.971914096307866,4.874636592097182],\"y0\":\" \",\"yaxis\":\"y\",\"type\":\"box\",\"quartilemethod\":\"inclusive\"},{\"alignmentgroup\":\"True\",\"boxpoints\":\"all\",\"customdata\":[[\"PREmdivi1 25uM4717.0p7\"],[\"PREmdivi1 25uM4717.0p7\"],[\"PREmdivi1 25uM4719.0p4\"],[\"PREmdivi1 25uM4719.0p4\"],[\"PREmdivi1 25uM4837.0p9\"],[\"PREmdivi1 25uM4719.0p5\"],[\"PREmdivi1 25uM4719.0p4\"],[\"PREmdivi1 25uM4719.0p5\"],[\"PREmdivi1 25uM4719.0p4\"],[\"PREmdivi1 25uM4689.0p6\"],[\"PREmdivi1 25uM4719.0p4\"],[\"PREmdivi1 25uM4719.0p5\"],[\"PREmdivi1 25uM4717.0p7\"],[\"PREmdivi1 25uM4719.0p5\"],[\"PREmdivi1 25uM4689.0p6\"],[\"PREmdivi1 25uM4689.0p6\"],[\"PREmdivi1 25uM4717.0p7\"],[\"PREmdivi1 25uM4837.0p9\"],[\"PREmdivi1 25uM4719.0p5\"],[\"PREmdivi1 25uM4719.0p5\"],[\"PREmdivi1 25uM4717.0p7\"],[\"PREmdivi1 25uM4837.0p9\"],[\"PREmdivi1 25uM4689.0p6\"],[\"PREmdivi1 25uM4689.0p6\"],[\"PREmdivi1 25uM4689.0p6\"],[\"PREmdivi1 25uM4717.0p7\"],[\"PREmdivi1 25uM4719.0p4\"]],\"hovertemplate\":\"group=%{x}<br>mfn2_intensity=%{y}<br>group_with_p=%{customdata[0]}<extra></extra>\",\"legendgroup\":\"PREmdivi1 25uM\",\"marker\":{\"color\":\"#FFA15A\"},\"name\":\"PREmdivi1 25uM\",\"notched\":true,\"offsetgroup\":\"PREmdivi1 25uM\",\"orientation\":\"v\",\"showlegend\":true,\"x\":[\"PREmdivi1 25uM\",\"PREmdivi1 25uM\",\"PREmdivi1 25uM\",\"PREmdivi1 25uM\",\"PREmdivi1 25uM\",\"PREmdivi1 25uM\",\"PREmdivi1 25uM\",\"PREmdivi1 25uM\",\"PREmdivi1 25uM\",\"PREmdivi1 25uM\",\"PREmdivi1 25uM\",\"PREmdivi1 25uM\",\"PREmdivi1 25uM\",\"PREmdivi1 25uM\",\"PREmdivi1 25uM\",\"PREmdivi1 25uM\",\"PREmdivi1 25uM\",\"PREmdivi1 25uM\",\"PREmdivi1 25uM\",\"PREmdivi1 25uM\",\"PREmdivi1 25uM\",\"PREmdivi1 25uM\",\"PREmdivi1 25uM\",\"PREmdivi1 25uM\",\"PREmdivi1 25uM\",\"PREmdivi1 25uM\",\"PREmdivi1 25uM\"],\"x0\":\" \",\"xaxis\":\"x\",\"y\":[5.036699080656327,5.048595063029312,4.915605667167292,4.923236121807384,4.9591196088904725,4.966020250768269,4.9172655958146,4.915573829926299,4.968880796562123,4.916260683768294,4.895952090519701,4.932206327061495,5.031899676833994,4.846340372551933,4.978121135944934,4.9287633202946,4.995992796388876,4.962757382943481,4.86772105554377,4.869947712732814,4.907052690918667,4.9028694315615216,4.907834796024987,5.01394113426697,4.960131660721557,5.000844310554164,4.91454994168126],\"y0\":\" \",\"yaxis\":\"y\",\"type\":\"box\",\"quartilemethod\":\"inclusive\"},{\"alignmentgroup\":\"True\",\"boxpoints\":\"all\",\"customdata\":[[\"SDMSO4709.0p9\"],[\"SDMSO305.0p6\"],[\"SDMSO4687.0p7\"],[\"SDMSO4287.0p5\"],[\"SDMSO2165.0p10\"],[\"SDMSO4687.0p7\"],[\"SDMSO305.0p6\"],[\"SDMSO305.0p6\"],[\"SDMSO4709.0p9\"],[\"SDMSO4287.0p5\"],[\"SDMSO4687.0p7\"],[\"SDMSO305.0p6\"],[\"SDMSO4709.0p9\"],[\"SDMSO4287.0p5\"],[\"SDMSO4287.0p5\"],[\"SDMSO4476.0p10\"],[\"SDMSO4709.0p9\"],[\"SDMSO4687.0p7\"],[\"SDMSO4709.0p9\"],[\"SDMSO4807.0p8\"],[\"SDMSO4709.0p9\"],[\"SDMSO305.0p6\"],[\"SDMSO4287.0p5\"],[\"SDMSO4687.0p7\"],[\"SDMSO4287.0p5\"],[\"SDMSO4687.0p7\"],[\"SDMSO4476.0p10\"],[\"SDMSO305.0p6\"]],\"hovertemplate\":\"group=%{x}<br>mfn2_intensity=%{y}<br>group_with_p=%{customdata[0]}<extra></extra>\",\"legendgroup\":\"SDMSO\",\"marker\":{\"color\":\"#19d3f3\"},\"name\":\"SDMSO\",\"notched\":true,\"offsetgroup\":\"SDMSO\",\"orientation\":\"v\",\"showlegend\":true,\"x\":[\"SDMSO\",\"SDMSO\",\"SDMSO\",\"SDMSO\",\"SDMSO\",\"SDMSO\",\"SDMSO\",\"SDMSO\",\"SDMSO\",\"SDMSO\",\"SDMSO\",\"SDMSO\",\"SDMSO\",\"SDMSO\",\"SDMSO\",\"SDMSO\",\"SDMSO\",\"SDMSO\",\"SDMSO\",\"SDMSO\",\"SDMSO\",\"SDMSO\",\"SDMSO\",\"SDMSO\",\"SDMSO\",\"SDMSO\",\"SDMSO\",\"SDMSO\"],\"x0\":\" \",\"xaxis\":\"x\",\"y\":[4.853449031547372,4.975051333999351,5.033870555464392,4.853152589017747,4.839071591715587,5.011543261189351,4.955204623661835,4.930162224491974,4.837125522166806,4.83507951584512,5.060010761900822,4.909876293130821,4.865539308058896,4.853062303628697,4.888096775390473,4.844574720137846,4.87624243998317,4.997161807065017,4.851655565619601,4.808130211882441,4.868615757094325,5.0108847002053,4.831407142435279,4.982238601539138,4.847824092306782,5.0301857282284,4.8564685714514235,4.99464252800338],\"y0\":\" \",\"yaxis\":\"y\",\"type\":\"box\",\"quartilemethod\":\"inclusive\"},{\"alignmentgroup\":\"True\",\"boxpoints\":\"all\",\"customdata\":[[\"Smdivi1 25uM305.0p6\"],[\"Smdivi1 25uM305.0p6\"],[\"Smdivi1 25uM305.0p6\"],[\"Smdivi1 25uM4287.0p5\"],[\"Smdivi1 25uM4687.0p7\"],[\"Smdivi1 25uM4476.0p10\"],[\"Smdivi1 25uM4687.0p7\"],[\"Smdivi1 25uM4287.0p5\"],[\"Smdivi1 25uM4709.0p9\"],[\"Smdivi1 25uM2165.0p10\"],[\"Smdivi1 25uM305.0p6\"],[\"Smdivi1 25uM4709.0p9\"],[\"Smdivi1 25uM4287.0p5\"],[\"Smdivi1 25uM4687.0p7\"],[\"Smdivi1 25uM4709.0p9\"],[\"Smdivi1 25uM2165.0p10\"],[\"Smdivi1 25uM4687.0p7\"],[\"Smdivi1 25uM4709.0p9\"],[\"Smdivi1 25uM305.0p6\"],[\"Smdivi1 25uM4287.0p5\"],[\"Smdivi1 25uM305.0p6\"],[\"Smdivi1 25uM2165.0p10\"],[\"Smdivi1 25uM4687.0p7\"],[\"Smdivi1 25uM4476.0p10\"],[\"Smdivi1 25uM4476.0p10\"],[\"Smdivi1 25uM4287.0p5\"],[\"Smdivi1 25uM4476.0p10\"],[\"Smdivi1 25uM4687.0p7\"],[\"Smdivi1 25uM4287.0p5\"],[\"Smdivi1 25uM2165.0p10\"],[\"Smdivi1 25uM2165.0p10\"],[\"Smdivi1 25uM4709.0p9\"],[\"Smdivi1 25uM4476.0p10\"],[\"Smdivi1 25uM4476.0p10\"],[\"Smdivi1 25uM4709.0p9\"]],\"hovertemplate\":\"group=%{x}<br>mfn2_intensity=%{y}<br>group_with_p=%{customdata[0]}<extra></extra>\",\"legendgroup\":\"Smdivi1 25uM\",\"marker\":{\"color\":\"#FF6692\"},\"name\":\"Smdivi1 25uM\",\"notched\":true,\"offsetgroup\":\"Smdivi1 25uM\",\"orientation\":\"v\",\"showlegend\":true,\"x\":[\"Smdivi1 25uM\",\"Smdivi1 25uM\",\"Smdivi1 25uM\",\"Smdivi1 25uM\",\"Smdivi1 25uM\",\"Smdivi1 25uM\",\"Smdivi1 25uM\",\"Smdivi1 25uM\",\"Smdivi1 25uM\",\"Smdivi1 25uM\",\"Smdivi1 25uM\",\"Smdivi1 25uM\",\"Smdivi1 25uM\",\"Smdivi1 25uM\",\"Smdivi1 25uM\",\"Smdivi1 25uM\",\"Smdivi1 25uM\",\"Smdivi1 25uM\",\"Smdivi1 25uM\",\"Smdivi1 25uM\",\"Smdivi1 25uM\",\"Smdivi1 25uM\",\"Smdivi1 25uM\",\"Smdivi1 25uM\",\"Smdivi1 25uM\",\"Smdivi1 25uM\",\"Smdivi1 25uM\",\"Smdivi1 25uM\",\"Smdivi1 25uM\",\"Smdivi1 25uM\",\"Smdivi1 25uM\",\"Smdivi1 25uM\",\"Smdivi1 25uM\",\"Smdivi1 25uM\",\"Smdivi1 25uM\"],\"x0\":\" \",\"xaxis\":\"x\",\"y\":[4.97045277763576,4.9697774373079575,4.994742821303083,4.81067999982771,4.985204958283512,4.876135217294387,4.9070365436257815,4.874934598142327,4.852225303101364,4.820019639305339,4.901792017319822,4.879211719186159,4.845633382799918,5.104502665947526,4.882592984086,4.850951253708356,4.967800303476218,4.903484783656928,4.949258404354744,4.80783903124954,4.937167842124652,4.8371470564112595,5.090156177347723,4.8288159537065285,4.7945294401837595,4.838579933924031,4.858969384895788,4.946901299530153,4.8731615783482205,4.850618603135849,4.802060109248817,4.8494155436018085,4.828249428922562,4.82686092494531,4.87447298480165],\"y0\":\" \",\"yaxis\":\"y\",\"type\":\"box\",\"quartilemethod\":\"inclusive\"}],                        {\"template\":{\"data\":{\"histogram2dcontour\":[{\"type\":\"histogram2dcontour\",\"colorbar\":{\"outlinewidth\":0,\"ticks\":\"\"},\"colorscale\":[[0.0,\"#0d0887\"],[0.1111111111111111,\"#46039f\"],[0.2222222222222222,\"#7201a8\"],[0.3333333333333333,\"#9c179e\"],[0.4444444444444444,\"#bd3786\"],[0.5555555555555556,\"#d8576b\"],[0.6666666666666666,\"#ed7953\"],[0.7777777777777778,\"#fb9f3a\"],[0.8888888888888888,\"#fdca26\"],[1.0,\"#f0f921\"]]}],\"choropleth\":[{\"type\":\"choropleth\",\"colorbar\":{\"outlinewidth\":0,\"ticks\":\"\"}}],\"histogram2d\":[{\"type\":\"histogram2d\",\"colorbar\":{\"outlinewidth\":0,\"ticks\":\"\"},\"colorscale\":[[0.0,\"#0d0887\"],[0.1111111111111111,\"#46039f\"],[0.2222222222222222,\"#7201a8\"],[0.3333333333333333,\"#9c179e\"],[0.4444444444444444,\"#bd3786\"],[0.5555555555555556,\"#d8576b\"],[0.6666666666666666,\"#ed7953\"],[0.7777777777777778,\"#fb9f3a\"],[0.8888888888888888,\"#fdca26\"],[1.0,\"#f0f921\"]]}],\"heatmap\":[{\"type\":\"heatmap\",\"colorbar\":{\"outlinewidth\":0,\"ticks\":\"\"},\"colorscale\":[[0.0,\"#0d0887\"],[0.1111111111111111,\"#46039f\"],[0.2222222222222222,\"#7201a8\"],[0.3333333333333333,\"#9c179e\"],[0.4444444444444444,\"#bd3786\"],[0.5555555555555556,\"#d8576b\"],[0.6666666666666666,\"#ed7953\"],[0.7777777777777778,\"#fb9f3a\"],[0.8888888888888888,\"#fdca26\"],[1.0,\"#f0f921\"]]}],\"heatmapgl\":[{\"type\":\"heatmapgl\",\"colorbar\":{\"outlinewidth\":0,\"ticks\":\"\"},\"colorscale\":[[0.0,\"#0d0887\"],[0.1111111111111111,\"#46039f\"],[0.2222222222222222,\"#7201a8\"],[0.3333333333333333,\"#9c179e\"],[0.4444444444444444,\"#bd3786\"],[0.5555555555555556,\"#d8576b\"],[0.6666666666666666,\"#ed7953\"],[0.7777777777777778,\"#fb9f3a\"],[0.8888888888888888,\"#fdca26\"],[1.0,\"#f0f921\"]]}],\"contourcarpet\":[{\"type\":\"contourcarpet\",\"colorbar\":{\"outlinewidth\":0,\"ticks\":\"\"}}],\"contour\":[{\"type\":\"contour\",\"colorbar\":{\"outlinewidth\":0,\"ticks\":\"\"},\"colorscale\":[[0.0,\"#0d0887\"],[0.1111111111111111,\"#46039f\"],[0.2222222222222222,\"#7201a8\"],[0.3333333333333333,\"#9c179e\"],[0.4444444444444444,\"#bd3786\"],[0.5555555555555556,\"#d8576b\"],[0.6666666666666666,\"#ed7953\"],[0.7777777777777778,\"#fb9f3a\"],[0.8888888888888888,\"#fdca26\"],[1.0,\"#f0f921\"]]}],\"surface\":[{\"type\":\"surface\",\"colorbar\":{\"outlinewidth\":0,\"ticks\":\"\"},\"colorscale\":[[0.0,\"#0d0887\"],[0.1111111111111111,\"#46039f\"],[0.2222222222222222,\"#7201a8\"],[0.3333333333333333,\"#9c179e\"],[0.4444444444444444,\"#bd3786\"],[0.5555555555555556,\"#d8576b\"],[0.6666666666666666,\"#ed7953\"],[0.7777777777777778,\"#fb9f3a\"],[0.8888888888888888,\"#fdca26\"],[1.0,\"#f0f921\"]]}],\"mesh3d\":[{\"type\":\"mesh3d\",\"colorbar\":{\"outlinewidth\":0,\"ticks\":\"\"}}],\"scatter\":[{\"fillpattern\":{\"fillmode\":\"overlay\",\"size\":10,\"solidity\":0.2},\"type\":\"scatter\"}],\"parcoords\":[{\"type\":\"parcoords\",\"line\":{\"colorbar\":{\"outlinewidth\":0,\"ticks\":\"\"}}}],\"scatterpolargl\":[{\"type\":\"scatterpolargl\",\"marker\":{\"colorbar\":{\"outlinewidth\":0,\"ticks\":\"\"}}}],\"bar\":[{\"error_x\":{\"color\":\"#2a3f5f\"},\"error_y\":{\"color\":\"#2a3f5f\"},\"marker\":{\"line\":{\"color\":\"#E5ECF6\",\"width\":0.5},\"pattern\":{\"fillmode\":\"overlay\",\"size\":10,\"solidity\":0.2}},\"type\":\"bar\"}],\"scattergeo\":[{\"type\":\"scattergeo\",\"marker\":{\"colorbar\":{\"outlinewidth\":0,\"ticks\":\"\"}}}],\"scatterpolar\":[{\"type\":\"scatterpolar\",\"marker\":{\"colorbar\":{\"outlinewidth\":0,\"ticks\":\"\"}}}],\"histogram\":[{\"marker\":{\"pattern\":{\"fillmode\":\"overlay\",\"size\":10,\"solidity\":0.2}},\"type\":\"histogram\"}],\"scattergl\":[{\"type\":\"scattergl\",\"marker\":{\"colorbar\":{\"outlinewidth\":0,\"ticks\":\"\"}}}],\"scatter3d\":[{\"type\":\"scatter3d\",\"line\":{\"colorbar\":{\"outlinewidth\":0,\"ticks\":\"\"}},\"marker\":{\"colorbar\":{\"outlinewidth\":0,\"ticks\":\"\"}}}],\"scattermapbox\":[{\"type\":\"scattermapbox\",\"marker\":{\"colorbar\":{\"outlinewidth\":0,\"ticks\":\"\"}}}],\"scatterternary\":[{\"type\":\"scatterternary\",\"marker\":{\"colorbar\":{\"outlinewidth\":0,\"ticks\":\"\"}}}],\"scattercarpet\":[{\"type\":\"scattercarpet\",\"marker\":{\"colorbar\":{\"outlinewidth\":0,\"ticks\":\"\"}}}],\"carpet\":[{\"aaxis\":{\"endlinecolor\":\"#2a3f5f\",\"gridcolor\":\"white\",\"linecolor\":\"white\",\"minorgridcolor\":\"white\",\"startlinecolor\":\"#2a3f5f\"},\"baxis\":{\"endlinecolor\":\"#2a3f5f\",\"gridcolor\":\"white\",\"linecolor\":\"white\",\"minorgridcolor\":\"white\",\"startlinecolor\":\"#2a3f5f\"},\"type\":\"carpet\"}],\"table\":[{\"cells\":{\"fill\":{\"color\":\"#EBF0F8\"},\"line\":{\"color\":\"white\"}},\"header\":{\"fill\":{\"color\":\"#C8D4E3\"},\"line\":{\"color\":\"white\"}},\"type\":\"table\"}],\"barpolar\":[{\"marker\":{\"line\":{\"color\":\"#E5ECF6\",\"width\":0.5},\"pattern\":{\"fillmode\":\"overlay\",\"size\":10,\"solidity\":0.2}},\"type\":\"barpolar\"}],\"pie\":[{\"automargin\":true,\"type\":\"pie\"}]},\"layout\":{\"autotypenumbers\":\"strict\",\"colorway\":[\"#636efa\",\"#EF553B\",\"#00cc96\",\"#ab63fa\",\"#FFA15A\",\"#19d3f3\",\"#FF6692\",\"#B6E880\",\"#FF97FF\",\"#FECB52\"],\"font\":{\"color\":\"#2a3f5f\"},\"hovermode\":\"closest\",\"hoverlabel\":{\"align\":\"left\"},\"paper_bgcolor\":\"white\",\"plot_bgcolor\":\"#E5ECF6\",\"polar\":{\"bgcolor\":\"#E5ECF6\",\"angularaxis\":{\"gridcolor\":\"white\",\"linecolor\":\"white\",\"ticks\":\"\"},\"radialaxis\":{\"gridcolor\":\"white\",\"linecolor\":\"white\",\"ticks\":\"\"}},\"ternary\":{\"bgcolor\":\"#E5ECF6\",\"aaxis\":{\"gridcolor\":\"white\",\"linecolor\":\"white\",\"ticks\":\"\"},\"baxis\":{\"gridcolor\":\"white\",\"linecolor\":\"white\",\"ticks\":\"\"},\"caxis\":{\"gridcolor\":\"white\",\"linecolor\":\"white\",\"ticks\":\"\"}},\"coloraxis\":{\"colorbar\":{\"outlinewidth\":0,\"ticks\":\"\"}},\"colorscale\":{\"sequential\":[[0.0,\"#0d0887\"],[0.1111111111111111,\"#46039f\"],[0.2222222222222222,\"#7201a8\"],[0.3333333333333333,\"#9c179e\"],[0.4444444444444444,\"#bd3786\"],[0.5555555555555556,\"#d8576b\"],[0.6666666666666666,\"#ed7953\"],[0.7777777777777778,\"#fb9f3a\"],[0.8888888888888888,\"#fdca26\"],[1.0,\"#f0f921\"]],\"sequentialminus\":[[0.0,\"#0d0887\"],[0.1111111111111111,\"#46039f\"],[0.2222222222222222,\"#7201a8\"],[0.3333333333333333,\"#9c179e\"],[0.4444444444444444,\"#bd3786\"],[0.5555555555555556,\"#d8576b\"],[0.6666666666666666,\"#ed7953\"],[0.7777777777777778,\"#fb9f3a\"],[0.8888888888888888,\"#fdca26\"],[1.0,\"#f0f921\"]],\"diverging\":[[0,\"#8e0152\"],[0.1,\"#c51b7d\"],[0.2,\"#de77ae\"],[0.3,\"#f1b6da\"],[0.4,\"#fde0ef\"],[0.5,\"#f7f7f7\"],[0.6,\"#e6f5d0\"],[0.7,\"#b8e186\"],[0.8,\"#7fbc41\"],[0.9,\"#4d9221\"],[1,\"#276419\"]]},\"xaxis\":{\"gridcolor\":\"white\",\"linecolor\":\"white\",\"ticks\":\"\",\"title\":{\"standoff\":15},\"zerolinecolor\":\"white\",\"automargin\":true,\"zerolinewidth\":2},\"yaxis\":{\"gridcolor\":\"white\",\"linecolor\":\"white\",\"ticks\":\"\",\"title\":{\"standoff\":15},\"zerolinecolor\":\"white\",\"automargin\":true,\"zerolinewidth\":2},\"scene\":{\"xaxis\":{\"backgroundcolor\":\"#E5ECF6\",\"gridcolor\":\"white\",\"linecolor\":\"white\",\"showbackground\":true,\"ticks\":\"\",\"zerolinecolor\":\"white\",\"gridwidth\":2},\"yaxis\":{\"backgroundcolor\":\"#E5ECF6\",\"gridcolor\":\"white\",\"linecolor\":\"white\",\"showbackground\":true,\"ticks\":\"\",\"zerolinecolor\":\"white\",\"gridwidth\":2},\"zaxis\":{\"backgroundcolor\":\"#E5ECF6\",\"gridcolor\":\"white\",\"linecolor\":\"white\",\"showbackground\":true,\"ticks\":\"\",\"zerolinecolor\":\"white\",\"gridwidth\":2}},\"shapedefaults\":{\"line\":{\"color\":\"#2a3f5f\"}},\"annotationdefaults\":{\"arrowcolor\":\"#2a3f5f\",\"arrowhead\":0,\"arrowwidth\":1},\"geo\":{\"bgcolor\":\"white\",\"landcolor\":\"#E5ECF6\",\"subunitcolor\":\"white\",\"showland\":true,\"showlakes\":true,\"lakecolor\":\"white\"},\"title\":{\"x\":0.05},\"mapbox\":{\"style\":\"light\"}}},\"xaxis\":{\"anchor\":\"y\",\"domain\":[0.0,1.0],\"title\":{\"text\":\"group\"},\"categoryorder\":\"array\",\"categoryarray\":[\"HCDMSO\",\"PREDMSO\",\"PREmdivi1 25uM\",\"MDMSO\",\"Mmdivi1 25uM\",\"SDMSO\",\"Smdivi1 25uM\"]},\"yaxis\":{\"anchor\":\"x\",\"domain\":[0.0,1.0],\"title\":{\"text\":\"mfn2_intensity\"}},\"legend\":{\"title\":{\"text\":\"group\"},\"tracegroupgap\":0},\"margin\":{\"t\":60},\"boxmode\":\"overlay\",\"font\":{\"family\":\"Arial\",\"color\":\"Black\",\"size\":20}},                        {\"responsive\": true}                    ).then(function(){\n",
       "                            \n",
       "var gd = document.getElementById('782a7c9f-75bf-4317-85d4-1eccdbd5fb21');\n",
       "var x = new MutationObserver(function (mutations, observer) {{\n",
       "        var display = window.getComputedStyle(gd).display;\n",
       "        if (!display || display === 'none') {{\n",
       "            console.log([gd, 'removed!']);\n",
       "            Plotly.purge(gd);\n",
       "            observer.disconnect();\n",
       "        }}\n",
       "}});\n",
       "\n",
       "// Listen for the removal of the full notebook cells\n",
       "var notebookContainer = gd.closest('#notebook-container');\n",
       "if (notebookContainer) {{\n",
       "    x.observe(notebookContainer, {childList: true});\n",
       "}}\n",
       "\n",
       "// Listen for the clearing of the current output cell\n",
       "var outputEl = gd.closest('.output');\n",
       "if (outputEl) {{\n",
       "    x.observe(outputEl, {childList: true});\n",
       "}}\n",
       "\n",
       "                        })                };                });            </script>        </div>"
      ]
     },
     "metadata": {},
     "output_type": "display_data"
    },
    {
     "data": {
      "application/vnd.plotly.v1+json": {
       "config": {
        "plotlyServerURL": "https://plot.ly"
       },
       "data": [
        {
         "alignmentgroup": "True",
         "boxpoints": "all",
         "customdata": [
          [
           "HCDMSO495.0p6"
          ],
          [
           "HCDMSO1170.0p10"
          ],
          [
           "HCDMSO1650.0p7"
          ],
          [
           "HCDMSO1650.0p8"
          ],
          [
           "HCDMSO1650.0p6"
          ],
          [
           "HCDMSO1650.0p9"
          ],
          [
           "HCDMSO495.0p6"
          ],
          [
           "HCDMSO1653.0p7"
          ],
          [
           "HCDMSO1650.0p9"
          ],
          [
           "HCDMSO730.0p8"
          ],
          [
           "HCDMSO143.0p6"
          ],
          [
           "HCDMSO1650.0p7"
          ],
          [
           "HCDMSO1653.0p8"
          ],
          [
           "HCDMSO730.0p9"
          ],
          [
           "HCDMSO1016.0p10"
          ],
          [
           "HCDMSO1170.0p10"
          ],
          [
           "HCDMSO1653.0p7"
          ],
          [
           "HCDMSO951.0p10"
          ],
          [
           "HCDMSO1653.0p4"
          ],
          [
           "HCDMSO143.0p7"
          ],
          [
           "HCDMSO143.0p7"
          ],
          [
           "HCDMSO1653.0p9"
          ],
          [
           "HCDMSO730.0p9"
          ],
          [
           "HCDMSO495.0p7"
          ],
          [
           "HCDMSO143.0p6"
          ],
          [
           "HCDMSO1016.0p10"
          ],
          [
           "HCDMSO1016.0p10"
          ],
          [
           "HCDMSO1170.0p10"
          ],
          [
           "HCDMSO1016.0p10"
          ],
          [
           "HCDMSO143.0p6"
          ],
          [
           "HCDMSO730.0p9"
          ],
          [
           "HCDMSO143.0p6"
          ],
          [
           "HCDMSO495.0p6"
          ],
          [
           "HCDMSO1170.0p10"
          ],
          [
           "HCDMSO730.0p9"
          ],
          [
           "HCDMSO730.0p9"
          ],
          [
           "HCDMSO1016.0p10"
          ],
          [
           "HCDMSO1170.0p10"
          ],
          [
           "HCDMSO495.0p7"
          ],
          [
           "HCDMSO495.0p7"
          ],
          [
           "HCDMSO1016.0p10"
          ]
         ],
         "hovertemplate": "group=%{x}<br>mfn2_area=%{y}<br>group_with_p=%{customdata[0]}<extra></extra>",
         "legendgroup": "HCDMSO",
         "marker": {
          "color": "#636efa"
         },
         "name": "HCDMSO",
         "notched": true,
         "offsetgroup": "HCDMSO",
         "orientation": "v",
         "quartilemethod": "inclusive",
         "showlegend": true,
         "type": "box",
         "x": [
          "HCDMSO",
          "HCDMSO",
          "HCDMSO",
          "HCDMSO",
          "HCDMSO",
          "HCDMSO",
          "HCDMSO",
          "HCDMSO",
          "HCDMSO",
          "HCDMSO",
          "HCDMSO",
          "HCDMSO",
          "HCDMSO",
          "HCDMSO",
          "HCDMSO",
          "HCDMSO",
          "HCDMSO",
          "HCDMSO",
          "HCDMSO",
          "HCDMSO",
          "HCDMSO",
          "HCDMSO",
          "HCDMSO",
          "HCDMSO",
          "HCDMSO",
          "HCDMSO",
          "HCDMSO",
          "HCDMSO",
          "HCDMSO",
          "HCDMSO",
          "HCDMSO",
          "HCDMSO",
          "HCDMSO",
          "HCDMSO",
          "HCDMSO",
          "HCDMSO",
          "HCDMSO",
          "HCDMSO",
          "HCDMSO",
          "HCDMSO",
          "HCDMSO"
         ],
         "x0": " ",
         "xaxis": "x",
         "y": [
          6.491224660593116,
          6.629681677180406,
          6.594846380511697,
          6.6430216789818095,
          6.66500424923287,
          6.552751308014429,
          6.383140359715472,
          6.447074701817708,
          6.566806696735587,
          6.582750478119746,
          6.449570978578066,
          6.4733574076837765,
          6.636394376971904,
          6.689244431513866,
          6.482605563861146,
          6.717183015570757,
          6.2659569877520145,
          6.274182958905836,
          6.624354837086167,
          6.550009788640179,
          6.63137110525282,
          6.5400506015908695,
          6.670825044693205,
          6.4283715807368065,
          6.434756231703065,
          6.345446264435106,
          6.51094666127695,
          6.666276620689017,
          6.408866115050632,
          6.516248092661179,
          6.618232370680564,
          6.408513012079986,
          6.677315662194469,
          6.577523146292006,
          6.593752353492905,
          6.598294303314732,
          6.352400832970989,
          6.643812112147261,
          6.335648737534582,
          6.272584785006442,
          6.488686912269316
         ],
         "y0": " ",
         "yaxis": "y"
        },
        {
         "alignmentgroup": "True",
         "boxpoints": "all",
         "customdata": [
          [
           "MDMSO4819.0p4"
          ],
          [
           "MDMSO4819.0p4"
          ],
          [
           "MDMSO4819.0p4"
          ],
          [
           "MDMSO4799.0p8"
          ],
          [
           "MDMSO4715.0p6"
          ],
          [
           "MDMSO4212.0p9"
          ],
          [
           "MDMSO4212.0p9"
          ],
          [
           "MDMSO4212.0p9"
          ],
          [
           "MDMSO4887.0p7"
          ],
          [
           "MDMSO4212.0p9"
          ],
          [
           "MDMSO4819.0p4"
          ],
          [
           "MDMSO4819.0p4"
          ],
          [
           "MDMSO4715.0p6"
          ],
          [
           "MDMSO4887.0p7"
          ],
          [
           "MDMSO4799.0p8"
          ],
          [
           "MDMSO4715.0p6"
          ],
          [
           "MDMSO4887.0p7"
          ],
          [
           "MDMSO4715.0p6"
          ],
          [
           "MDMSO4799.0p8"
          ],
          [
           "MDMSO4799.0p8"
          ],
          [
           "MDMSO4799.0p8"
          ],
          [
           "MDMSO4819.0p4"
          ],
          [
           "MDMSO4212.0p9"
          ]
         ],
         "hovertemplate": "group=%{x}<br>mfn2_area=%{y}<br>group_with_p=%{customdata[0]}<extra></extra>",
         "legendgroup": "MDMSO",
         "marker": {
          "color": "#EF553B"
         },
         "name": "MDMSO",
         "notched": true,
         "offsetgroup": "MDMSO",
         "orientation": "v",
         "quartilemethod": "inclusive",
         "showlegend": true,
         "type": "box",
         "x": [
          "MDMSO",
          "MDMSO",
          "MDMSO",
          "MDMSO",
          "MDMSO",
          "MDMSO",
          "MDMSO",
          "MDMSO",
          "MDMSO",
          "MDMSO",
          "MDMSO",
          "MDMSO",
          "MDMSO",
          "MDMSO",
          "MDMSO",
          "MDMSO",
          "MDMSO",
          "MDMSO",
          "MDMSO",
          "MDMSO",
          "MDMSO",
          "MDMSO",
          "MDMSO"
         ],
         "x0": " ",
         "xaxis": "x",
         "y": [
          6.481267499408838,
          6.500093371456595,
          6.692335096123098,
          6.381371046463512,
          6.375733145385014,
          6.334841753906087,
          6.429194473859848,
          6.3855314643450205,
          6.5201136215135715,
          6.454926222656563,
          6.385329060004724,
          6.658183464462804,
          6.534372461098021,
          6.48627895093982,
          6.507218590267184,
          6.357052399570803,
          6.522905751193103,
          6.279920285814705,
          6.335603321088142,
          6.397440114676211,
          6.338094976329805,
          6.388308803815928,
          6.581290489785682
         ],
         "y0": " ",
         "yaxis": "y"
        },
        {
         "alignmentgroup": "True",
         "boxpoints": "all",
         "customdata": [
          [
           "Mmdivi1 25uM4715.0p6"
          ],
          [
           "Mmdivi1 25uM4799.0p8"
          ],
          [
           "Mmdivi1 25uM4212.0p9"
          ],
          [
           "Mmdivi1 25uM4715.0p6"
          ],
          [
           "Mmdivi1 25uM4887.0p7"
          ],
          [
           "Mmdivi1 25uM4819.0p4"
          ],
          [
           "Mmdivi1 25uM4799.0p8"
          ],
          [
           "Mmdivi1 25uM4887.0p7"
          ],
          [
           "Mmdivi1 25uM4715.0p6"
          ],
          [
           "Mmdivi1 25uM4721.0p5"
          ],
          [
           "Mmdivi1 25uM4819.0p4"
          ],
          [
           "Mmdivi1 25uM4715.0p6"
          ],
          [
           "Mmdivi1 25uM4212.0p9"
          ],
          [
           "Mmdivi1 25uM4819.0p4"
          ],
          [
           "Mmdivi1 25uM4212.0p9"
          ],
          [
           "Mmdivi1 25uM4799.0p8"
          ],
          [
           "Mmdivi1 25uM4715.0p6"
          ],
          [
           "Mmdivi1 25uM4721.0p5"
          ],
          [
           "Mmdivi1 25uM4721.0p5"
          ],
          [
           "Mmdivi1 25uM4887.0p7"
          ],
          [
           "Mmdivi1 25uM4819.0p4"
          ],
          [
           "Mmdivi1 25uM4799.0p8"
          ],
          [
           "Mmdivi1 25uM4212.0p9"
          ],
          [
           "Mmdivi1 25uM4887.0p7"
          ],
          [
           "Mmdivi1 25uM4212.0p9"
          ],
          [
           "Mmdivi1 25uM4715.0p6"
          ],
          [
           "Mmdivi1 25uM4819.0p4"
          ],
          [
           "Mmdivi1 25uM4887.0p7"
          ],
          [
           "Mmdivi1 25uM4887.0p7"
          ],
          [
           "Mmdivi1 25uM4799.0p8"
          ],
          [
           "Mmdivi1 25uM4819.0p4"
          ],
          [
           "Mmdivi1 25uM4721.0p5"
          ],
          [
           "Mmdivi1 25uM4721.0p5"
          ],
          [
           "Mmdivi1 25uM4799.0p8"
          ],
          [
           "Mmdivi1 25uM4212.0p9"
          ]
         ],
         "hovertemplate": "group=%{x}<br>mfn2_area=%{y}<br>group_with_p=%{customdata[0]}<extra></extra>",
         "legendgroup": "Mmdivi1 25uM",
         "marker": {
          "color": "#00cc96"
         },
         "name": "Mmdivi1 25uM",
         "notched": true,
         "offsetgroup": "Mmdivi1 25uM",
         "orientation": "v",
         "quartilemethod": "inclusive",
         "showlegend": true,
         "type": "box",
         "x": [
          "Mmdivi1 25uM",
          "Mmdivi1 25uM",
          "Mmdivi1 25uM",
          "Mmdivi1 25uM",
          "Mmdivi1 25uM",
          "Mmdivi1 25uM",
          "Mmdivi1 25uM",
          "Mmdivi1 25uM",
          "Mmdivi1 25uM",
          "Mmdivi1 25uM",
          "Mmdivi1 25uM",
          "Mmdivi1 25uM",
          "Mmdivi1 25uM",
          "Mmdivi1 25uM",
          "Mmdivi1 25uM",
          "Mmdivi1 25uM",
          "Mmdivi1 25uM",
          "Mmdivi1 25uM",
          "Mmdivi1 25uM",
          "Mmdivi1 25uM",
          "Mmdivi1 25uM",
          "Mmdivi1 25uM",
          "Mmdivi1 25uM",
          "Mmdivi1 25uM",
          "Mmdivi1 25uM",
          "Mmdivi1 25uM",
          "Mmdivi1 25uM",
          "Mmdivi1 25uM",
          "Mmdivi1 25uM",
          "Mmdivi1 25uM",
          "Mmdivi1 25uM",
          "Mmdivi1 25uM",
          "Mmdivi1 25uM",
          "Mmdivi1 25uM",
          "Mmdivi1 25uM"
         ],
         "x0": " ",
         "xaxis": "x",
         "y": [
          6.483415765421774,
          6.523269231907893,
          6.551099093391752,
          6.311474242035838,
          6.790606226353162,
          6.497949634996308,
          6.730770024753223,
          6.399458070796125,
          6.508432480346457,
          6.208204888830128,
          6.518574952380857,
          6.394418944803885,
          6.417900862262523,
          6.25246015323018,
          6.641914886475708,
          6.712543341554815,
          6.458667180390157,
          6.189860211860292,
          6.213384148739276,
          6.665076765204845,
          6.2097021711985265,
          6.645749585279365,
          6.469349825198136,
          6.325262500703795,
          6.599977177175601,
          6.383709743185173,
          6.797549833031058,
          6.768850730925249,
          6.682007146840211,
          6.460689781852056,
          6.607116909730706,
          6.289493230180142,
          6.1585483214869425,
          6.696422196990565,
          6.685001521223548
         ],
         "y0": " ",
         "yaxis": "y"
        },
        {
         "alignmentgroup": "True",
         "boxpoints": "all",
         "customdata": [
          [
           "PREDMSO4717.0p7"
          ],
          [
           "PREDMSO4689.0p6"
          ],
          [
           "PREDMSO4717.0p7"
          ],
          [
           "PREDMSO4837.0p9"
          ],
          [
           "PREDMSO4837.0p9"
          ],
          [
           "PREDMSO4717.0p7"
          ],
          [
           "PREDMSO4837.0p9"
          ],
          [
           "PREDMSO4837.0p9"
          ],
          [
           "PREDMSO4717.0p7"
          ],
          [
           "PREDMSO4719.0p5"
          ],
          [
           "PREDMSO4719.0p4"
          ],
          [
           "PREDMSO4719.0p4"
          ],
          [
           "PREDMSO4719.0p5"
          ],
          [
           "PREDMSO4689.0p6"
          ],
          [
           "PREDMSO4719.0p4"
          ],
          [
           "PREDMSO4717.0p7"
          ],
          [
           "PREDMSO4719.0p4"
          ],
          [
           "PREDMSO4717.0p7"
          ],
          [
           "PREDMSO4689.0p6"
          ],
          [
           "PREDMSO4719.0p5"
          ],
          [
           "PREDMSO4837.0p9"
          ],
          [
           "PREDMSO4719.0p4"
          ],
          [
           "PREDMSO4719.0p5"
          ],
          [
           "PREDMSO4837.0p9"
          ]
         ],
         "hovertemplate": "group=%{x}<br>mfn2_area=%{y}<br>group_with_p=%{customdata[0]}<extra></extra>",
         "legendgroup": "PREDMSO",
         "marker": {
          "color": "#ab63fa"
         },
         "name": "PREDMSO",
         "notched": true,
         "offsetgroup": "PREDMSO",
         "orientation": "v",
         "quartilemethod": "inclusive",
         "showlegend": true,
         "type": "box",
         "x": [
          "PREDMSO",
          "PREDMSO",
          "PREDMSO",
          "PREDMSO",
          "PREDMSO",
          "PREDMSO",
          "PREDMSO",
          "PREDMSO",
          "PREDMSO",
          "PREDMSO",
          "PREDMSO",
          "PREDMSO",
          "PREDMSO",
          "PREDMSO",
          "PREDMSO",
          "PREDMSO",
          "PREDMSO",
          "PREDMSO",
          "PREDMSO",
          "PREDMSO",
          "PREDMSO",
          "PREDMSO",
          "PREDMSO",
          "PREDMSO"
         ],
         "x0": " ",
         "xaxis": "x",
         "y": [
          6.5317114758714565,
          6.453061447483327,
          6.439924569274278,
          6.4287135676873675,
          6.612924298256673,
          6.529314918772271,
          6.655652326675145,
          6.572419850710188,
          6.62110186632641,
          6.360483754982605,
          6.380933861536058,
          6.581998588526518,
          6.437787050327393,
          6.398342854306422,
          6.361679476418825,
          6.466759297254062,
          6.559286143680675,
          6.391781119794133,
          6.4224612392333364,
          6.532786948964522,
          6.522100996464488,
          6.417425116169872,
          6.426435875902166,
          6.414871955460813
         ],
         "y0": " ",
         "yaxis": "y"
        },
        {
         "alignmentgroup": "True",
         "boxpoints": "all",
         "customdata": [
          [
           "PREmdivi1 25uM4717.0p7"
          ],
          [
           "PREmdivi1 25uM4717.0p7"
          ],
          [
           "PREmdivi1 25uM4719.0p4"
          ],
          [
           "PREmdivi1 25uM4719.0p4"
          ],
          [
           "PREmdivi1 25uM4837.0p9"
          ],
          [
           "PREmdivi1 25uM4719.0p5"
          ],
          [
           "PREmdivi1 25uM4719.0p4"
          ],
          [
           "PREmdivi1 25uM4719.0p5"
          ],
          [
           "PREmdivi1 25uM4719.0p4"
          ],
          [
           "PREmdivi1 25uM4689.0p6"
          ],
          [
           "PREmdivi1 25uM4719.0p4"
          ],
          [
           "PREmdivi1 25uM4719.0p5"
          ],
          [
           "PREmdivi1 25uM4717.0p7"
          ],
          [
           "PREmdivi1 25uM4719.0p5"
          ],
          [
           "PREmdivi1 25uM4689.0p6"
          ],
          [
           "PREmdivi1 25uM4689.0p6"
          ],
          [
           "PREmdivi1 25uM4717.0p7"
          ],
          [
           "PREmdivi1 25uM4837.0p9"
          ],
          [
           "PREmdivi1 25uM4719.0p5"
          ],
          [
           "PREmdivi1 25uM4719.0p5"
          ],
          [
           "PREmdivi1 25uM4717.0p7"
          ],
          [
           "PREmdivi1 25uM4837.0p9"
          ],
          [
           "PREmdivi1 25uM4689.0p6"
          ],
          [
           "PREmdivi1 25uM4689.0p6"
          ],
          [
           "PREmdivi1 25uM4689.0p6"
          ],
          [
           "PREmdivi1 25uM4717.0p7"
          ],
          [
           "PREmdivi1 25uM4719.0p4"
          ]
         ],
         "hovertemplate": "group=%{x}<br>mfn2_area=%{y}<br>group_with_p=%{customdata[0]}<extra></extra>",
         "legendgroup": "PREmdivi1 25uM",
         "marker": {
          "color": "#FFA15A"
         },
         "name": "PREmdivi1 25uM",
         "notched": true,
         "offsetgroup": "PREmdivi1 25uM",
         "orientation": "v",
         "quartilemethod": "inclusive",
         "showlegend": true,
         "type": "box",
         "x": [
          "PREmdivi1 25uM",
          "PREmdivi1 25uM",
          "PREmdivi1 25uM",
          "PREmdivi1 25uM",
          "PREmdivi1 25uM",
          "PREmdivi1 25uM",
          "PREmdivi1 25uM",
          "PREmdivi1 25uM",
          "PREmdivi1 25uM",
          "PREmdivi1 25uM",
          "PREmdivi1 25uM",
          "PREmdivi1 25uM",
          "PREmdivi1 25uM",
          "PREmdivi1 25uM",
          "PREmdivi1 25uM",
          "PREmdivi1 25uM",
          "PREmdivi1 25uM",
          "PREmdivi1 25uM",
          "PREmdivi1 25uM",
          "PREmdivi1 25uM",
          "PREmdivi1 25uM",
          "PREmdivi1 25uM",
          "PREmdivi1 25uM",
          "PREmdivi1 25uM",
          "PREmdivi1 25uM",
          "PREmdivi1 25uM",
          "PREmdivi1 25uM"
         ],
         "x0": " ",
         "xaxis": "x",
         "y": [
          6.625785194606736,
          6.543862700558635,
          6.555423077452495,
          6.416209680224633,
          6.57964777079666,
          6.437407694744264,
          6.377093808236599,
          6.360902795004168,
          6.399300086449494,
          6.443915042698307,
          6.487264095859125,
          6.6086127596849735,
          6.609131385098412,
          6.377115251305223,
          6.4695556889850945,
          6.481957153191426,
          6.496240690340389,
          6.578073405921522,
          6.505568748999778,
          6.425890608933974,
          6.416640932364539,
          6.637356126677402,
          6.455440030029034,
          6.53605248768378,
          6.5684118318074445,
          6.534005570520721,
          6.464804400493571
         ],
         "y0": " ",
         "yaxis": "y"
        },
        {
         "alignmentgroup": "True",
         "boxpoints": "all",
         "customdata": [
          [
           "SDMSO4709.0p9"
          ],
          [
           "SDMSO305.0p6"
          ],
          [
           "SDMSO4687.0p7"
          ],
          [
           "SDMSO4287.0p5"
          ],
          [
           "SDMSO2165.0p10"
          ],
          [
           "SDMSO4687.0p7"
          ],
          [
           "SDMSO305.0p6"
          ],
          [
           "SDMSO305.0p6"
          ],
          [
           "SDMSO4709.0p9"
          ],
          [
           "SDMSO4287.0p5"
          ],
          [
           "SDMSO4687.0p7"
          ],
          [
           "SDMSO305.0p6"
          ],
          [
           "SDMSO4709.0p9"
          ],
          [
           "SDMSO4287.0p5"
          ],
          [
           "SDMSO4287.0p5"
          ],
          [
           "SDMSO4476.0p10"
          ],
          [
           "SDMSO4709.0p9"
          ],
          [
           "SDMSO4687.0p7"
          ],
          [
           "SDMSO4709.0p9"
          ],
          [
           "SDMSO4807.0p8"
          ],
          [
           "SDMSO4709.0p9"
          ],
          [
           "SDMSO305.0p6"
          ],
          [
           "SDMSO4287.0p5"
          ],
          [
           "SDMSO4687.0p7"
          ],
          [
           "SDMSO4287.0p5"
          ],
          [
           "SDMSO4687.0p7"
          ],
          [
           "SDMSO4476.0p10"
          ],
          [
           "SDMSO305.0p6"
          ]
         ],
         "hovertemplate": "group=%{x}<br>mfn2_area=%{y}<br>group_with_p=%{customdata[0]}<extra></extra>",
         "legendgroup": "SDMSO",
         "marker": {
          "color": "#19d3f3"
         },
         "name": "SDMSO",
         "notched": true,
         "offsetgroup": "SDMSO",
         "orientation": "v",
         "quartilemethod": "inclusive",
         "showlegend": true,
         "type": "box",
         "x": [
          "SDMSO",
          "SDMSO",
          "SDMSO",
          "SDMSO",
          "SDMSO",
          "SDMSO",
          "SDMSO",
          "SDMSO",
          "SDMSO",
          "SDMSO",
          "SDMSO",
          "SDMSO",
          "SDMSO",
          "SDMSO",
          "SDMSO",
          "SDMSO",
          "SDMSO",
          "SDMSO",
          "SDMSO",
          "SDMSO",
          "SDMSO",
          "SDMSO",
          "SDMSO",
          "SDMSO",
          "SDMSO",
          "SDMSO",
          "SDMSO",
          "SDMSO"
         ],
         "x0": " ",
         "xaxis": "x",
         "y": [
          6.450022551533352,
          6.490931874635827,
          6.661670949209148,
          6.5374773110376365,
          6.112278483722269,
          6.665022719144183,
          6.363544350169136,
          6.281391403713616,
          6.199253593250599,
          6.603306129916702,
          6.560566204714542,
          6.246451354764708,
          6.464130921521012,
          6.543734433985123,
          6.601361411086559,
          6.2496577461351235,
          6.4797789076897025,
          6.463226902969818,
          6.3226336709054,
          6.726055779681896,
          6.529515900761727,
          6.3595539017740785,
          6.683351688182747,
          6.743422639347237,
          6.43643019410558,
          6.599908851768524,
          6.3557324642664295,
          6.30973854264959
         ],
         "y0": " ",
         "yaxis": "y"
        },
        {
         "alignmentgroup": "True",
         "boxpoints": "all",
         "customdata": [
          [
           "Smdivi1 25uM305.0p6"
          ],
          [
           "Smdivi1 25uM305.0p6"
          ],
          [
           "Smdivi1 25uM305.0p6"
          ],
          [
           "Smdivi1 25uM4287.0p5"
          ],
          [
           "Smdivi1 25uM4687.0p7"
          ],
          [
           "Smdivi1 25uM4476.0p10"
          ],
          [
           "Smdivi1 25uM4687.0p7"
          ],
          [
           "Smdivi1 25uM4287.0p5"
          ],
          [
           "Smdivi1 25uM4709.0p9"
          ],
          [
           "Smdivi1 25uM2165.0p10"
          ],
          [
           "Smdivi1 25uM305.0p6"
          ],
          [
           "Smdivi1 25uM4709.0p9"
          ],
          [
           "Smdivi1 25uM4287.0p5"
          ],
          [
           "Smdivi1 25uM4687.0p7"
          ],
          [
           "Smdivi1 25uM4709.0p9"
          ],
          [
           "Smdivi1 25uM2165.0p10"
          ],
          [
           "Smdivi1 25uM4687.0p7"
          ],
          [
           "Smdivi1 25uM4709.0p9"
          ],
          [
           "Smdivi1 25uM305.0p6"
          ],
          [
           "Smdivi1 25uM4287.0p5"
          ],
          [
           "Smdivi1 25uM305.0p6"
          ],
          [
           "Smdivi1 25uM2165.0p10"
          ],
          [
           "Smdivi1 25uM4687.0p7"
          ],
          [
           "Smdivi1 25uM4476.0p10"
          ],
          [
           "Smdivi1 25uM4476.0p10"
          ],
          [
           "Smdivi1 25uM4287.0p5"
          ],
          [
           "Smdivi1 25uM4476.0p10"
          ],
          [
           "Smdivi1 25uM4687.0p7"
          ],
          [
           "Smdivi1 25uM4287.0p5"
          ],
          [
           "Smdivi1 25uM2165.0p10"
          ],
          [
           "Smdivi1 25uM2165.0p10"
          ],
          [
           "Smdivi1 25uM4709.0p9"
          ],
          [
           "Smdivi1 25uM4476.0p10"
          ],
          [
           "Smdivi1 25uM4476.0p10"
          ],
          [
           "Smdivi1 25uM4709.0p9"
          ]
         ],
         "hovertemplate": "group=%{x}<br>mfn2_area=%{y}<br>group_with_p=%{customdata[0]}<extra></extra>",
         "legendgroup": "Smdivi1 25uM",
         "marker": {
          "color": "#FF6692"
         },
         "name": "Smdivi1 25uM",
         "notched": true,
         "offsetgroup": "Smdivi1 25uM",
         "orientation": "v",
         "quartilemethod": "inclusive",
         "showlegend": true,
         "type": "box",
         "x": [
          "Smdivi1 25uM",
          "Smdivi1 25uM",
          "Smdivi1 25uM",
          "Smdivi1 25uM",
          "Smdivi1 25uM",
          "Smdivi1 25uM",
          "Smdivi1 25uM",
          "Smdivi1 25uM",
          "Smdivi1 25uM",
          "Smdivi1 25uM",
          "Smdivi1 25uM",
          "Smdivi1 25uM",
          "Smdivi1 25uM",
          "Smdivi1 25uM",
          "Smdivi1 25uM",
          "Smdivi1 25uM",
          "Smdivi1 25uM",
          "Smdivi1 25uM",
          "Smdivi1 25uM",
          "Smdivi1 25uM",
          "Smdivi1 25uM",
          "Smdivi1 25uM",
          "Smdivi1 25uM",
          "Smdivi1 25uM",
          "Smdivi1 25uM",
          "Smdivi1 25uM",
          "Smdivi1 25uM",
          "Smdivi1 25uM",
          "Smdivi1 25uM",
          "Smdivi1 25uM",
          "Smdivi1 25uM",
          "Smdivi1 25uM",
          "Smdivi1 25uM",
          "Smdivi1 25uM",
          "Smdivi1 25uM"
         ],
         "x0": " ",
         "xaxis": "x",
         "y": [
          6.475592934196779,
          6.413864716236011,
          6.540201898617042,
          6.678541526277431,
          6.5678907333713825,
          6.354571973456275,
          6.412045176778537,
          6.597878793847127,
          6.412649962270031,
          6.374054923112416,
          6.264375160296405,
          6.533414012456679,
          6.778045636552458,
          6.7972903631557315,
          6.711922560894849,
          6.253666624785445,
          6.678346316982609,
          6.694546486013706,
          6.395969521934002,
          6.616024229702455,
          6.302121369952349,
          6.411871819937692,
          6.761913083279404,
          6.253382366526019,
          6.321292265119336,
          6.385541778423477,
          6.321506415919229,
          6.594649423248831,
          6.538832580986069,
          6.334324896455663,
          6.230525360002113,
          6.540240671825156,
          6.421061786279909,
          6.386351225986285,
          6.70164539382293
         ],
         "y0": " ",
         "yaxis": "y"
        }
       ],
       "layout": {
        "boxmode": "overlay",
        "font": {
         "color": "Black",
         "family": "Arial",
         "size": 20
        },
        "legend": {
         "title": {
          "text": "group"
         },
         "tracegroupgap": 0
        },
        "margin": {
         "t": 60
        },
        "template": {
         "data": {
          "bar": [
           {
            "error_x": {
             "color": "#2a3f5f"
            },
            "error_y": {
             "color": "#2a3f5f"
            },
            "marker": {
             "line": {
              "color": "#E5ECF6",
              "width": 0.5
             },
             "pattern": {
              "fillmode": "overlay",
              "size": 10,
              "solidity": 0.2
             }
            },
            "type": "bar"
           }
          ],
          "barpolar": [
           {
            "marker": {
             "line": {
              "color": "#E5ECF6",
              "width": 0.5
             },
             "pattern": {
              "fillmode": "overlay",
              "size": 10,
              "solidity": 0.2
             }
            },
            "type": "barpolar"
           }
          ],
          "carpet": [
           {
            "aaxis": {
             "endlinecolor": "#2a3f5f",
             "gridcolor": "white",
             "linecolor": "white",
             "minorgridcolor": "white",
             "startlinecolor": "#2a3f5f"
            },
            "baxis": {
             "endlinecolor": "#2a3f5f",
             "gridcolor": "white",
             "linecolor": "white",
             "minorgridcolor": "white",
             "startlinecolor": "#2a3f5f"
            },
            "type": "carpet"
           }
          ],
          "choropleth": [
           {
            "colorbar": {
             "outlinewidth": 0,
             "ticks": ""
            },
            "type": "choropleth"
           }
          ],
          "contour": [
           {
            "colorbar": {
             "outlinewidth": 0,
             "ticks": ""
            },
            "colorscale": [
             [
              0,
              "#0d0887"
             ],
             [
              0.1111111111111111,
              "#46039f"
             ],
             [
              0.2222222222222222,
              "#7201a8"
             ],
             [
              0.3333333333333333,
              "#9c179e"
             ],
             [
              0.4444444444444444,
              "#bd3786"
             ],
             [
              0.5555555555555556,
              "#d8576b"
             ],
             [
              0.6666666666666666,
              "#ed7953"
             ],
             [
              0.7777777777777778,
              "#fb9f3a"
             ],
             [
              0.8888888888888888,
              "#fdca26"
             ],
             [
              1,
              "#f0f921"
             ]
            ],
            "type": "contour"
           }
          ],
          "contourcarpet": [
           {
            "colorbar": {
             "outlinewidth": 0,
             "ticks": ""
            },
            "type": "contourcarpet"
           }
          ],
          "heatmap": [
           {
            "colorbar": {
             "outlinewidth": 0,
             "ticks": ""
            },
            "colorscale": [
             [
              0,
              "#0d0887"
             ],
             [
              0.1111111111111111,
              "#46039f"
             ],
             [
              0.2222222222222222,
              "#7201a8"
             ],
             [
              0.3333333333333333,
              "#9c179e"
             ],
             [
              0.4444444444444444,
              "#bd3786"
             ],
             [
              0.5555555555555556,
              "#d8576b"
             ],
             [
              0.6666666666666666,
              "#ed7953"
             ],
             [
              0.7777777777777778,
              "#fb9f3a"
             ],
             [
              0.8888888888888888,
              "#fdca26"
             ],
             [
              1,
              "#f0f921"
             ]
            ],
            "type": "heatmap"
           }
          ],
          "heatmapgl": [
           {
            "colorbar": {
             "outlinewidth": 0,
             "ticks": ""
            },
            "colorscale": [
             [
              0,
              "#0d0887"
             ],
             [
              0.1111111111111111,
              "#46039f"
             ],
             [
              0.2222222222222222,
              "#7201a8"
             ],
             [
              0.3333333333333333,
              "#9c179e"
             ],
             [
              0.4444444444444444,
              "#bd3786"
             ],
             [
              0.5555555555555556,
              "#d8576b"
             ],
             [
              0.6666666666666666,
              "#ed7953"
             ],
             [
              0.7777777777777778,
              "#fb9f3a"
             ],
             [
              0.8888888888888888,
              "#fdca26"
             ],
             [
              1,
              "#f0f921"
             ]
            ],
            "type": "heatmapgl"
           }
          ],
          "histogram": [
           {
            "marker": {
             "pattern": {
              "fillmode": "overlay",
              "size": 10,
              "solidity": 0.2
             }
            },
            "type": "histogram"
           }
          ],
          "histogram2d": [
           {
            "colorbar": {
             "outlinewidth": 0,
             "ticks": ""
            },
            "colorscale": [
             [
              0,
              "#0d0887"
             ],
             [
              0.1111111111111111,
              "#46039f"
             ],
             [
              0.2222222222222222,
              "#7201a8"
             ],
             [
              0.3333333333333333,
              "#9c179e"
             ],
             [
              0.4444444444444444,
              "#bd3786"
             ],
             [
              0.5555555555555556,
              "#d8576b"
             ],
             [
              0.6666666666666666,
              "#ed7953"
             ],
             [
              0.7777777777777778,
              "#fb9f3a"
             ],
             [
              0.8888888888888888,
              "#fdca26"
             ],
             [
              1,
              "#f0f921"
             ]
            ],
            "type": "histogram2d"
           }
          ],
          "histogram2dcontour": [
           {
            "colorbar": {
             "outlinewidth": 0,
             "ticks": ""
            },
            "colorscale": [
             [
              0,
              "#0d0887"
             ],
             [
              0.1111111111111111,
              "#46039f"
             ],
             [
              0.2222222222222222,
              "#7201a8"
             ],
             [
              0.3333333333333333,
              "#9c179e"
             ],
             [
              0.4444444444444444,
              "#bd3786"
             ],
             [
              0.5555555555555556,
              "#d8576b"
             ],
             [
              0.6666666666666666,
              "#ed7953"
             ],
             [
              0.7777777777777778,
              "#fb9f3a"
             ],
             [
              0.8888888888888888,
              "#fdca26"
             ],
             [
              1,
              "#f0f921"
             ]
            ],
            "type": "histogram2dcontour"
           }
          ],
          "mesh3d": [
           {
            "colorbar": {
             "outlinewidth": 0,
             "ticks": ""
            },
            "type": "mesh3d"
           }
          ],
          "parcoords": [
           {
            "line": {
             "colorbar": {
              "outlinewidth": 0,
              "ticks": ""
             }
            },
            "type": "parcoords"
           }
          ],
          "pie": [
           {
            "automargin": true,
            "type": "pie"
           }
          ],
          "scatter": [
           {
            "fillpattern": {
             "fillmode": "overlay",
             "size": 10,
             "solidity": 0.2
            },
            "type": "scatter"
           }
          ],
          "scatter3d": [
           {
            "line": {
             "colorbar": {
              "outlinewidth": 0,
              "ticks": ""
             }
            },
            "marker": {
             "colorbar": {
              "outlinewidth": 0,
              "ticks": ""
             }
            },
            "type": "scatter3d"
           }
          ],
          "scattercarpet": [
           {
            "marker": {
             "colorbar": {
              "outlinewidth": 0,
              "ticks": ""
             }
            },
            "type": "scattercarpet"
           }
          ],
          "scattergeo": [
           {
            "marker": {
             "colorbar": {
              "outlinewidth": 0,
              "ticks": ""
             }
            },
            "type": "scattergeo"
           }
          ],
          "scattergl": [
           {
            "marker": {
             "colorbar": {
              "outlinewidth": 0,
              "ticks": ""
             }
            },
            "type": "scattergl"
           }
          ],
          "scattermapbox": [
           {
            "marker": {
             "colorbar": {
              "outlinewidth": 0,
              "ticks": ""
             }
            },
            "type": "scattermapbox"
           }
          ],
          "scatterpolar": [
           {
            "marker": {
             "colorbar": {
              "outlinewidth": 0,
              "ticks": ""
             }
            },
            "type": "scatterpolar"
           }
          ],
          "scatterpolargl": [
           {
            "marker": {
             "colorbar": {
              "outlinewidth": 0,
              "ticks": ""
             }
            },
            "type": "scatterpolargl"
           }
          ],
          "scatterternary": [
           {
            "marker": {
             "colorbar": {
              "outlinewidth": 0,
              "ticks": ""
             }
            },
            "type": "scatterternary"
           }
          ],
          "surface": [
           {
            "colorbar": {
             "outlinewidth": 0,
             "ticks": ""
            },
            "colorscale": [
             [
              0,
              "#0d0887"
             ],
             [
              0.1111111111111111,
              "#46039f"
             ],
             [
              0.2222222222222222,
              "#7201a8"
             ],
             [
              0.3333333333333333,
              "#9c179e"
             ],
             [
              0.4444444444444444,
              "#bd3786"
             ],
             [
              0.5555555555555556,
              "#d8576b"
             ],
             [
              0.6666666666666666,
              "#ed7953"
             ],
             [
              0.7777777777777778,
              "#fb9f3a"
             ],
             [
              0.8888888888888888,
              "#fdca26"
             ],
             [
              1,
              "#f0f921"
             ]
            ],
            "type": "surface"
           }
          ],
          "table": [
           {
            "cells": {
             "fill": {
              "color": "#EBF0F8"
             },
             "line": {
              "color": "white"
             }
            },
            "header": {
             "fill": {
              "color": "#C8D4E3"
             },
             "line": {
              "color": "white"
             }
            },
            "type": "table"
           }
          ]
         },
         "layout": {
          "annotationdefaults": {
           "arrowcolor": "#2a3f5f",
           "arrowhead": 0,
           "arrowwidth": 1
          },
          "autotypenumbers": "strict",
          "coloraxis": {
           "colorbar": {
            "outlinewidth": 0,
            "ticks": ""
           }
          },
          "colorscale": {
           "diverging": [
            [
             0,
             "#8e0152"
            ],
            [
             0.1,
             "#c51b7d"
            ],
            [
             0.2,
             "#de77ae"
            ],
            [
             0.3,
             "#f1b6da"
            ],
            [
             0.4,
             "#fde0ef"
            ],
            [
             0.5,
             "#f7f7f7"
            ],
            [
             0.6,
             "#e6f5d0"
            ],
            [
             0.7,
             "#b8e186"
            ],
            [
             0.8,
             "#7fbc41"
            ],
            [
             0.9,
             "#4d9221"
            ],
            [
             1,
             "#276419"
            ]
           ],
           "sequential": [
            [
             0,
             "#0d0887"
            ],
            [
             0.1111111111111111,
             "#46039f"
            ],
            [
             0.2222222222222222,
             "#7201a8"
            ],
            [
             0.3333333333333333,
             "#9c179e"
            ],
            [
             0.4444444444444444,
             "#bd3786"
            ],
            [
             0.5555555555555556,
             "#d8576b"
            ],
            [
             0.6666666666666666,
             "#ed7953"
            ],
            [
             0.7777777777777778,
             "#fb9f3a"
            ],
            [
             0.8888888888888888,
             "#fdca26"
            ],
            [
             1,
             "#f0f921"
            ]
           ],
           "sequentialminus": [
            [
             0,
             "#0d0887"
            ],
            [
             0.1111111111111111,
             "#46039f"
            ],
            [
             0.2222222222222222,
             "#7201a8"
            ],
            [
             0.3333333333333333,
             "#9c179e"
            ],
            [
             0.4444444444444444,
             "#bd3786"
            ],
            [
             0.5555555555555556,
             "#d8576b"
            ],
            [
             0.6666666666666666,
             "#ed7953"
            ],
            [
             0.7777777777777778,
             "#fb9f3a"
            ],
            [
             0.8888888888888888,
             "#fdca26"
            ],
            [
             1,
             "#f0f921"
            ]
           ]
          },
          "colorway": [
           "#636efa",
           "#EF553B",
           "#00cc96",
           "#ab63fa",
           "#FFA15A",
           "#19d3f3",
           "#FF6692",
           "#B6E880",
           "#FF97FF",
           "#FECB52"
          ],
          "font": {
           "color": "#2a3f5f"
          },
          "geo": {
           "bgcolor": "white",
           "lakecolor": "white",
           "landcolor": "#E5ECF6",
           "showlakes": true,
           "showland": true,
           "subunitcolor": "white"
          },
          "hoverlabel": {
           "align": "left"
          },
          "hovermode": "closest",
          "mapbox": {
           "style": "light"
          },
          "paper_bgcolor": "white",
          "plot_bgcolor": "#E5ECF6",
          "polar": {
           "angularaxis": {
            "gridcolor": "white",
            "linecolor": "white",
            "ticks": ""
           },
           "bgcolor": "#E5ECF6",
           "radialaxis": {
            "gridcolor": "white",
            "linecolor": "white",
            "ticks": ""
           }
          },
          "scene": {
           "xaxis": {
            "backgroundcolor": "#E5ECF6",
            "gridcolor": "white",
            "gridwidth": 2,
            "linecolor": "white",
            "showbackground": true,
            "ticks": "",
            "zerolinecolor": "white"
           },
           "yaxis": {
            "backgroundcolor": "#E5ECF6",
            "gridcolor": "white",
            "gridwidth": 2,
            "linecolor": "white",
            "showbackground": true,
            "ticks": "",
            "zerolinecolor": "white"
           },
           "zaxis": {
            "backgroundcolor": "#E5ECF6",
            "gridcolor": "white",
            "gridwidth": 2,
            "linecolor": "white",
            "showbackground": true,
            "ticks": "",
            "zerolinecolor": "white"
           }
          },
          "shapedefaults": {
           "line": {
            "color": "#2a3f5f"
           }
          },
          "ternary": {
           "aaxis": {
            "gridcolor": "white",
            "linecolor": "white",
            "ticks": ""
           },
           "baxis": {
            "gridcolor": "white",
            "linecolor": "white",
            "ticks": ""
           },
           "bgcolor": "#E5ECF6",
           "caxis": {
            "gridcolor": "white",
            "linecolor": "white",
            "ticks": ""
           }
          },
          "title": {
           "x": 0.05
          },
          "xaxis": {
           "automargin": true,
           "gridcolor": "white",
           "linecolor": "white",
           "ticks": "",
           "title": {
            "standoff": 15
           },
           "zerolinecolor": "white",
           "zerolinewidth": 2
          },
          "yaxis": {
           "automargin": true,
           "gridcolor": "white",
           "linecolor": "white",
           "ticks": "",
           "title": {
            "standoff": 15
           },
           "zerolinecolor": "white",
           "zerolinewidth": 2
          }
         }
        },
        "xaxis": {
         "anchor": "y",
         "categoryarray": [
          "HCDMSO",
          "PREDMSO",
          "PREmdivi1 25uM",
          "MDMSO",
          "Mmdivi1 25uM",
          "SDMSO",
          "Smdivi1 25uM"
         ],
         "categoryorder": "array",
         "domain": [
          0,
          1
         ],
         "title": {
          "text": "group"
         }
        },
        "yaxis": {
         "anchor": "x",
         "domain": [
          0,
          1
         ],
         "title": {
          "text": "mfn2_area"
         }
        }
       }
      },
      "text/html": [
       "<div>                            <div id=\"b463ab43-23b8-4d57-ac8c-68f81cd98602\" class=\"plotly-graph-div\" style=\"height:525px; width:100%;\"></div>            <script type=\"text/javascript\">                require([\"plotly\"], function(Plotly) {                    window.PLOTLYENV=window.PLOTLYENV || {};                                    if (document.getElementById(\"b463ab43-23b8-4d57-ac8c-68f81cd98602\")) {                    Plotly.newPlot(                        \"b463ab43-23b8-4d57-ac8c-68f81cd98602\",                        [{\"alignmentgroup\":\"True\",\"boxpoints\":\"all\",\"customdata\":[[\"HCDMSO495.0p6\"],[\"HCDMSO1170.0p10\"],[\"HCDMSO1650.0p7\"],[\"HCDMSO1650.0p8\"],[\"HCDMSO1650.0p6\"],[\"HCDMSO1650.0p9\"],[\"HCDMSO495.0p6\"],[\"HCDMSO1653.0p7\"],[\"HCDMSO1650.0p9\"],[\"HCDMSO730.0p8\"],[\"HCDMSO143.0p6\"],[\"HCDMSO1650.0p7\"],[\"HCDMSO1653.0p8\"],[\"HCDMSO730.0p9\"],[\"HCDMSO1016.0p10\"],[\"HCDMSO1170.0p10\"],[\"HCDMSO1653.0p7\"],[\"HCDMSO951.0p10\"],[\"HCDMSO1653.0p4\"],[\"HCDMSO143.0p7\"],[\"HCDMSO143.0p7\"],[\"HCDMSO1653.0p9\"],[\"HCDMSO730.0p9\"],[\"HCDMSO495.0p7\"],[\"HCDMSO143.0p6\"],[\"HCDMSO1016.0p10\"],[\"HCDMSO1016.0p10\"],[\"HCDMSO1170.0p10\"],[\"HCDMSO1016.0p10\"],[\"HCDMSO143.0p6\"],[\"HCDMSO730.0p9\"],[\"HCDMSO143.0p6\"],[\"HCDMSO495.0p6\"],[\"HCDMSO1170.0p10\"],[\"HCDMSO730.0p9\"],[\"HCDMSO730.0p9\"],[\"HCDMSO1016.0p10\"],[\"HCDMSO1170.0p10\"],[\"HCDMSO495.0p7\"],[\"HCDMSO495.0p7\"],[\"HCDMSO1016.0p10\"]],\"hovertemplate\":\"group=%{x}<br>mfn2_area=%{y}<br>group_with_p=%{customdata[0]}<extra></extra>\",\"legendgroup\":\"HCDMSO\",\"marker\":{\"color\":\"#636efa\"},\"name\":\"HCDMSO\",\"notched\":true,\"offsetgroup\":\"HCDMSO\",\"orientation\":\"v\",\"showlegend\":true,\"x\":[\"HCDMSO\",\"HCDMSO\",\"HCDMSO\",\"HCDMSO\",\"HCDMSO\",\"HCDMSO\",\"HCDMSO\",\"HCDMSO\",\"HCDMSO\",\"HCDMSO\",\"HCDMSO\",\"HCDMSO\",\"HCDMSO\",\"HCDMSO\",\"HCDMSO\",\"HCDMSO\",\"HCDMSO\",\"HCDMSO\",\"HCDMSO\",\"HCDMSO\",\"HCDMSO\",\"HCDMSO\",\"HCDMSO\",\"HCDMSO\",\"HCDMSO\",\"HCDMSO\",\"HCDMSO\",\"HCDMSO\",\"HCDMSO\",\"HCDMSO\",\"HCDMSO\",\"HCDMSO\",\"HCDMSO\",\"HCDMSO\",\"HCDMSO\",\"HCDMSO\",\"HCDMSO\",\"HCDMSO\",\"HCDMSO\",\"HCDMSO\",\"HCDMSO\"],\"x0\":\" \",\"xaxis\":\"x\",\"y\":[6.491224660593116,6.629681677180406,6.594846380511697,6.6430216789818095,6.66500424923287,6.552751308014429,6.383140359715472,6.447074701817708,6.566806696735587,6.582750478119746,6.449570978578066,6.4733574076837765,6.636394376971904,6.689244431513866,6.482605563861146,6.717183015570757,6.2659569877520145,6.274182958905836,6.624354837086167,6.550009788640179,6.63137110525282,6.5400506015908695,6.670825044693205,6.4283715807368065,6.434756231703065,6.345446264435106,6.51094666127695,6.666276620689017,6.408866115050632,6.516248092661179,6.618232370680564,6.408513012079986,6.677315662194469,6.577523146292006,6.593752353492905,6.598294303314732,6.352400832970989,6.643812112147261,6.335648737534582,6.272584785006442,6.488686912269316],\"y0\":\" \",\"yaxis\":\"y\",\"type\":\"box\",\"quartilemethod\":\"inclusive\"},{\"alignmentgroup\":\"True\",\"boxpoints\":\"all\",\"customdata\":[[\"MDMSO4819.0p4\"],[\"MDMSO4819.0p4\"],[\"MDMSO4819.0p4\"],[\"MDMSO4799.0p8\"],[\"MDMSO4715.0p6\"],[\"MDMSO4212.0p9\"],[\"MDMSO4212.0p9\"],[\"MDMSO4212.0p9\"],[\"MDMSO4887.0p7\"],[\"MDMSO4212.0p9\"],[\"MDMSO4819.0p4\"],[\"MDMSO4819.0p4\"],[\"MDMSO4715.0p6\"],[\"MDMSO4887.0p7\"],[\"MDMSO4799.0p8\"],[\"MDMSO4715.0p6\"],[\"MDMSO4887.0p7\"],[\"MDMSO4715.0p6\"],[\"MDMSO4799.0p8\"],[\"MDMSO4799.0p8\"],[\"MDMSO4799.0p8\"],[\"MDMSO4819.0p4\"],[\"MDMSO4212.0p9\"]],\"hovertemplate\":\"group=%{x}<br>mfn2_area=%{y}<br>group_with_p=%{customdata[0]}<extra></extra>\",\"legendgroup\":\"MDMSO\",\"marker\":{\"color\":\"#EF553B\"},\"name\":\"MDMSO\",\"notched\":true,\"offsetgroup\":\"MDMSO\",\"orientation\":\"v\",\"showlegend\":true,\"x\":[\"MDMSO\",\"MDMSO\",\"MDMSO\",\"MDMSO\",\"MDMSO\",\"MDMSO\",\"MDMSO\",\"MDMSO\",\"MDMSO\",\"MDMSO\",\"MDMSO\",\"MDMSO\",\"MDMSO\",\"MDMSO\",\"MDMSO\",\"MDMSO\",\"MDMSO\",\"MDMSO\",\"MDMSO\",\"MDMSO\",\"MDMSO\",\"MDMSO\",\"MDMSO\"],\"x0\":\" \",\"xaxis\":\"x\",\"y\":[6.481267499408838,6.500093371456595,6.692335096123098,6.381371046463512,6.375733145385014,6.334841753906087,6.429194473859848,6.3855314643450205,6.5201136215135715,6.454926222656563,6.385329060004724,6.658183464462804,6.534372461098021,6.48627895093982,6.507218590267184,6.357052399570803,6.522905751193103,6.279920285814705,6.335603321088142,6.397440114676211,6.338094976329805,6.388308803815928,6.581290489785682],\"y0\":\" \",\"yaxis\":\"y\",\"type\":\"box\",\"quartilemethod\":\"inclusive\"},{\"alignmentgroup\":\"True\",\"boxpoints\":\"all\",\"customdata\":[[\"Mmdivi1 25uM4715.0p6\"],[\"Mmdivi1 25uM4799.0p8\"],[\"Mmdivi1 25uM4212.0p9\"],[\"Mmdivi1 25uM4715.0p6\"],[\"Mmdivi1 25uM4887.0p7\"],[\"Mmdivi1 25uM4819.0p4\"],[\"Mmdivi1 25uM4799.0p8\"],[\"Mmdivi1 25uM4887.0p7\"],[\"Mmdivi1 25uM4715.0p6\"],[\"Mmdivi1 25uM4721.0p5\"],[\"Mmdivi1 25uM4819.0p4\"],[\"Mmdivi1 25uM4715.0p6\"],[\"Mmdivi1 25uM4212.0p9\"],[\"Mmdivi1 25uM4819.0p4\"],[\"Mmdivi1 25uM4212.0p9\"],[\"Mmdivi1 25uM4799.0p8\"],[\"Mmdivi1 25uM4715.0p6\"],[\"Mmdivi1 25uM4721.0p5\"],[\"Mmdivi1 25uM4721.0p5\"],[\"Mmdivi1 25uM4887.0p7\"],[\"Mmdivi1 25uM4819.0p4\"],[\"Mmdivi1 25uM4799.0p8\"],[\"Mmdivi1 25uM4212.0p9\"],[\"Mmdivi1 25uM4887.0p7\"],[\"Mmdivi1 25uM4212.0p9\"],[\"Mmdivi1 25uM4715.0p6\"],[\"Mmdivi1 25uM4819.0p4\"],[\"Mmdivi1 25uM4887.0p7\"],[\"Mmdivi1 25uM4887.0p7\"],[\"Mmdivi1 25uM4799.0p8\"],[\"Mmdivi1 25uM4819.0p4\"],[\"Mmdivi1 25uM4721.0p5\"],[\"Mmdivi1 25uM4721.0p5\"],[\"Mmdivi1 25uM4799.0p8\"],[\"Mmdivi1 25uM4212.0p9\"]],\"hovertemplate\":\"group=%{x}<br>mfn2_area=%{y}<br>group_with_p=%{customdata[0]}<extra></extra>\",\"legendgroup\":\"Mmdivi1 25uM\",\"marker\":{\"color\":\"#00cc96\"},\"name\":\"Mmdivi1 25uM\",\"notched\":true,\"offsetgroup\":\"Mmdivi1 25uM\",\"orientation\":\"v\",\"showlegend\":true,\"x\":[\"Mmdivi1 25uM\",\"Mmdivi1 25uM\",\"Mmdivi1 25uM\",\"Mmdivi1 25uM\",\"Mmdivi1 25uM\",\"Mmdivi1 25uM\",\"Mmdivi1 25uM\",\"Mmdivi1 25uM\",\"Mmdivi1 25uM\",\"Mmdivi1 25uM\",\"Mmdivi1 25uM\",\"Mmdivi1 25uM\",\"Mmdivi1 25uM\",\"Mmdivi1 25uM\",\"Mmdivi1 25uM\",\"Mmdivi1 25uM\",\"Mmdivi1 25uM\",\"Mmdivi1 25uM\",\"Mmdivi1 25uM\",\"Mmdivi1 25uM\",\"Mmdivi1 25uM\",\"Mmdivi1 25uM\",\"Mmdivi1 25uM\",\"Mmdivi1 25uM\",\"Mmdivi1 25uM\",\"Mmdivi1 25uM\",\"Mmdivi1 25uM\",\"Mmdivi1 25uM\",\"Mmdivi1 25uM\",\"Mmdivi1 25uM\",\"Mmdivi1 25uM\",\"Mmdivi1 25uM\",\"Mmdivi1 25uM\",\"Mmdivi1 25uM\",\"Mmdivi1 25uM\"],\"x0\":\" \",\"xaxis\":\"x\",\"y\":[6.483415765421774,6.523269231907893,6.551099093391752,6.311474242035838,6.790606226353162,6.497949634996308,6.730770024753223,6.399458070796125,6.508432480346457,6.208204888830128,6.518574952380857,6.394418944803885,6.417900862262523,6.25246015323018,6.641914886475708,6.712543341554815,6.458667180390157,6.189860211860292,6.213384148739276,6.665076765204845,6.2097021711985265,6.645749585279365,6.469349825198136,6.325262500703795,6.599977177175601,6.383709743185173,6.797549833031058,6.768850730925249,6.682007146840211,6.460689781852056,6.607116909730706,6.289493230180142,6.1585483214869425,6.696422196990565,6.685001521223548],\"y0\":\" \",\"yaxis\":\"y\",\"type\":\"box\",\"quartilemethod\":\"inclusive\"},{\"alignmentgroup\":\"True\",\"boxpoints\":\"all\",\"customdata\":[[\"PREDMSO4717.0p7\"],[\"PREDMSO4689.0p6\"],[\"PREDMSO4717.0p7\"],[\"PREDMSO4837.0p9\"],[\"PREDMSO4837.0p9\"],[\"PREDMSO4717.0p7\"],[\"PREDMSO4837.0p9\"],[\"PREDMSO4837.0p9\"],[\"PREDMSO4717.0p7\"],[\"PREDMSO4719.0p5\"],[\"PREDMSO4719.0p4\"],[\"PREDMSO4719.0p4\"],[\"PREDMSO4719.0p5\"],[\"PREDMSO4689.0p6\"],[\"PREDMSO4719.0p4\"],[\"PREDMSO4717.0p7\"],[\"PREDMSO4719.0p4\"],[\"PREDMSO4717.0p7\"],[\"PREDMSO4689.0p6\"],[\"PREDMSO4719.0p5\"],[\"PREDMSO4837.0p9\"],[\"PREDMSO4719.0p4\"],[\"PREDMSO4719.0p5\"],[\"PREDMSO4837.0p9\"]],\"hovertemplate\":\"group=%{x}<br>mfn2_area=%{y}<br>group_with_p=%{customdata[0]}<extra></extra>\",\"legendgroup\":\"PREDMSO\",\"marker\":{\"color\":\"#ab63fa\"},\"name\":\"PREDMSO\",\"notched\":true,\"offsetgroup\":\"PREDMSO\",\"orientation\":\"v\",\"showlegend\":true,\"x\":[\"PREDMSO\",\"PREDMSO\",\"PREDMSO\",\"PREDMSO\",\"PREDMSO\",\"PREDMSO\",\"PREDMSO\",\"PREDMSO\",\"PREDMSO\",\"PREDMSO\",\"PREDMSO\",\"PREDMSO\",\"PREDMSO\",\"PREDMSO\",\"PREDMSO\",\"PREDMSO\",\"PREDMSO\",\"PREDMSO\",\"PREDMSO\",\"PREDMSO\",\"PREDMSO\",\"PREDMSO\",\"PREDMSO\",\"PREDMSO\"],\"x0\":\" \",\"xaxis\":\"x\",\"y\":[6.5317114758714565,6.453061447483327,6.439924569274278,6.4287135676873675,6.612924298256673,6.529314918772271,6.655652326675145,6.572419850710188,6.62110186632641,6.360483754982605,6.380933861536058,6.581998588526518,6.437787050327393,6.398342854306422,6.361679476418825,6.466759297254062,6.559286143680675,6.391781119794133,6.4224612392333364,6.532786948964522,6.522100996464488,6.417425116169872,6.426435875902166,6.414871955460813],\"y0\":\" \",\"yaxis\":\"y\",\"type\":\"box\",\"quartilemethod\":\"inclusive\"},{\"alignmentgroup\":\"True\",\"boxpoints\":\"all\",\"customdata\":[[\"PREmdivi1 25uM4717.0p7\"],[\"PREmdivi1 25uM4717.0p7\"],[\"PREmdivi1 25uM4719.0p4\"],[\"PREmdivi1 25uM4719.0p4\"],[\"PREmdivi1 25uM4837.0p9\"],[\"PREmdivi1 25uM4719.0p5\"],[\"PREmdivi1 25uM4719.0p4\"],[\"PREmdivi1 25uM4719.0p5\"],[\"PREmdivi1 25uM4719.0p4\"],[\"PREmdivi1 25uM4689.0p6\"],[\"PREmdivi1 25uM4719.0p4\"],[\"PREmdivi1 25uM4719.0p5\"],[\"PREmdivi1 25uM4717.0p7\"],[\"PREmdivi1 25uM4719.0p5\"],[\"PREmdivi1 25uM4689.0p6\"],[\"PREmdivi1 25uM4689.0p6\"],[\"PREmdivi1 25uM4717.0p7\"],[\"PREmdivi1 25uM4837.0p9\"],[\"PREmdivi1 25uM4719.0p5\"],[\"PREmdivi1 25uM4719.0p5\"],[\"PREmdivi1 25uM4717.0p7\"],[\"PREmdivi1 25uM4837.0p9\"],[\"PREmdivi1 25uM4689.0p6\"],[\"PREmdivi1 25uM4689.0p6\"],[\"PREmdivi1 25uM4689.0p6\"],[\"PREmdivi1 25uM4717.0p7\"],[\"PREmdivi1 25uM4719.0p4\"]],\"hovertemplate\":\"group=%{x}<br>mfn2_area=%{y}<br>group_with_p=%{customdata[0]}<extra></extra>\",\"legendgroup\":\"PREmdivi1 25uM\",\"marker\":{\"color\":\"#FFA15A\"},\"name\":\"PREmdivi1 25uM\",\"notched\":true,\"offsetgroup\":\"PREmdivi1 25uM\",\"orientation\":\"v\",\"showlegend\":true,\"x\":[\"PREmdivi1 25uM\",\"PREmdivi1 25uM\",\"PREmdivi1 25uM\",\"PREmdivi1 25uM\",\"PREmdivi1 25uM\",\"PREmdivi1 25uM\",\"PREmdivi1 25uM\",\"PREmdivi1 25uM\",\"PREmdivi1 25uM\",\"PREmdivi1 25uM\",\"PREmdivi1 25uM\",\"PREmdivi1 25uM\",\"PREmdivi1 25uM\",\"PREmdivi1 25uM\",\"PREmdivi1 25uM\",\"PREmdivi1 25uM\",\"PREmdivi1 25uM\",\"PREmdivi1 25uM\",\"PREmdivi1 25uM\",\"PREmdivi1 25uM\",\"PREmdivi1 25uM\",\"PREmdivi1 25uM\",\"PREmdivi1 25uM\",\"PREmdivi1 25uM\",\"PREmdivi1 25uM\",\"PREmdivi1 25uM\",\"PREmdivi1 25uM\"],\"x0\":\" \",\"xaxis\":\"x\",\"y\":[6.625785194606736,6.543862700558635,6.555423077452495,6.416209680224633,6.57964777079666,6.437407694744264,6.377093808236599,6.360902795004168,6.399300086449494,6.443915042698307,6.487264095859125,6.6086127596849735,6.609131385098412,6.377115251305223,6.4695556889850945,6.481957153191426,6.496240690340389,6.578073405921522,6.505568748999778,6.425890608933974,6.416640932364539,6.637356126677402,6.455440030029034,6.53605248768378,6.5684118318074445,6.534005570520721,6.464804400493571],\"y0\":\" \",\"yaxis\":\"y\",\"type\":\"box\",\"quartilemethod\":\"inclusive\"},{\"alignmentgroup\":\"True\",\"boxpoints\":\"all\",\"customdata\":[[\"SDMSO4709.0p9\"],[\"SDMSO305.0p6\"],[\"SDMSO4687.0p7\"],[\"SDMSO4287.0p5\"],[\"SDMSO2165.0p10\"],[\"SDMSO4687.0p7\"],[\"SDMSO305.0p6\"],[\"SDMSO305.0p6\"],[\"SDMSO4709.0p9\"],[\"SDMSO4287.0p5\"],[\"SDMSO4687.0p7\"],[\"SDMSO305.0p6\"],[\"SDMSO4709.0p9\"],[\"SDMSO4287.0p5\"],[\"SDMSO4287.0p5\"],[\"SDMSO4476.0p10\"],[\"SDMSO4709.0p9\"],[\"SDMSO4687.0p7\"],[\"SDMSO4709.0p9\"],[\"SDMSO4807.0p8\"],[\"SDMSO4709.0p9\"],[\"SDMSO305.0p6\"],[\"SDMSO4287.0p5\"],[\"SDMSO4687.0p7\"],[\"SDMSO4287.0p5\"],[\"SDMSO4687.0p7\"],[\"SDMSO4476.0p10\"],[\"SDMSO305.0p6\"]],\"hovertemplate\":\"group=%{x}<br>mfn2_area=%{y}<br>group_with_p=%{customdata[0]}<extra></extra>\",\"legendgroup\":\"SDMSO\",\"marker\":{\"color\":\"#19d3f3\"},\"name\":\"SDMSO\",\"notched\":true,\"offsetgroup\":\"SDMSO\",\"orientation\":\"v\",\"showlegend\":true,\"x\":[\"SDMSO\",\"SDMSO\",\"SDMSO\",\"SDMSO\",\"SDMSO\",\"SDMSO\",\"SDMSO\",\"SDMSO\",\"SDMSO\",\"SDMSO\",\"SDMSO\",\"SDMSO\",\"SDMSO\",\"SDMSO\",\"SDMSO\",\"SDMSO\",\"SDMSO\",\"SDMSO\",\"SDMSO\",\"SDMSO\",\"SDMSO\",\"SDMSO\",\"SDMSO\",\"SDMSO\",\"SDMSO\",\"SDMSO\",\"SDMSO\",\"SDMSO\"],\"x0\":\" \",\"xaxis\":\"x\",\"y\":[6.450022551533352,6.490931874635827,6.661670949209148,6.5374773110376365,6.112278483722269,6.665022719144183,6.363544350169136,6.281391403713616,6.199253593250599,6.603306129916702,6.560566204714542,6.246451354764708,6.464130921521012,6.543734433985123,6.601361411086559,6.2496577461351235,6.4797789076897025,6.463226902969818,6.3226336709054,6.726055779681896,6.529515900761727,6.3595539017740785,6.683351688182747,6.743422639347237,6.43643019410558,6.599908851768524,6.3557324642664295,6.30973854264959],\"y0\":\" \",\"yaxis\":\"y\",\"type\":\"box\",\"quartilemethod\":\"inclusive\"},{\"alignmentgroup\":\"True\",\"boxpoints\":\"all\",\"customdata\":[[\"Smdivi1 25uM305.0p6\"],[\"Smdivi1 25uM305.0p6\"],[\"Smdivi1 25uM305.0p6\"],[\"Smdivi1 25uM4287.0p5\"],[\"Smdivi1 25uM4687.0p7\"],[\"Smdivi1 25uM4476.0p10\"],[\"Smdivi1 25uM4687.0p7\"],[\"Smdivi1 25uM4287.0p5\"],[\"Smdivi1 25uM4709.0p9\"],[\"Smdivi1 25uM2165.0p10\"],[\"Smdivi1 25uM305.0p6\"],[\"Smdivi1 25uM4709.0p9\"],[\"Smdivi1 25uM4287.0p5\"],[\"Smdivi1 25uM4687.0p7\"],[\"Smdivi1 25uM4709.0p9\"],[\"Smdivi1 25uM2165.0p10\"],[\"Smdivi1 25uM4687.0p7\"],[\"Smdivi1 25uM4709.0p9\"],[\"Smdivi1 25uM305.0p6\"],[\"Smdivi1 25uM4287.0p5\"],[\"Smdivi1 25uM305.0p6\"],[\"Smdivi1 25uM2165.0p10\"],[\"Smdivi1 25uM4687.0p7\"],[\"Smdivi1 25uM4476.0p10\"],[\"Smdivi1 25uM4476.0p10\"],[\"Smdivi1 25uM4287.0p5\"],[\"Smdivi1 25uM4476.0p10\"],[\"Smdivi1 25uM4687.0p7\"],[\"Smdivi1 25uM4287.0p5\"],[\"Smdivi1 25uM2165.0p10\"],[\"Smdivi1 25uM2165.0p10\"],[\"Smdivi1 25uM4709.0p9\"],[\"Smdivi1 25uM4476.0p10\"],[\"Smdivi1 25uM4476.0p10\"],[\"Smdivi1 25uM4709.0p9\"]],\"hovertemplate\":\"group=%{x}<br>mfn2_area=%{y}<br>group_with_p=%{customdata[0]}<extra></extra>\",\"legendgroup\":\"Smdivi1 25uM\",\"marker\":{\"color\":\"#FF6692\"},\"name\":\"Smdivi1 25uM\",\"notched\":true,\"offsetgroup\":\"Smdivi1 25uM\",\"orientation\":\"v\",\"showlegend\":true,\"x\":[\"Smdivi1 25uM\",\"Smdivi1 25uM\",\"Smdivi1 25uM\",\"Smdivi1 25uM\",\"Smdivi1 25uM\",\"Smdivi1 25uM\",\"Smdivi1 25uM\",\"Smdivi1 25uM\",\"Smdivi1 25uM\",\"Smdivi1 25uM\",\"Smdivi1 25uM\",\"Smdivi1 25uM\",\"Smdivi1 25uM\",\"Smdivi1 25uM\",\"Smdivi1 25uM\",\"Smdivi1 25uM\",\"Smdivi1 25uM\",\"Smdivi1 25uM\",\"Smdivi1 25uM\",\"Smdivi1 25uM\",\"Smdivi1 25uM\",\"Smdivi1 25uM\",\"Smdivi1 25uM\",\"Smdivi1 25uM\",\"Smdivi1 25uM\",\"Smdivi1 25uM\",\"Smdivi1 25uM\",\"Smdivi1 25uM\",\"Smdivi1 25uM\",\"Smdivi1 25uM\",\"Smdivi1 25uM\",\"Smdivi1 25uM\",\"Smdivi1 25uM\",\"Smdivi1 25uM\",\"Smdivi1 25uM\"],\"x0\":\" \",\"xaxis\":\"x\",\"y\":[6.475592934196779,6.413864716236011,6.540201898617042,6.678541526277431,6.5678907333713825,6.354571973456275,6.412045176778537,6.597878793847127,6.412649962270031,6.374054923112416,6.264375160296405,6.533414012456679,6.778045636552458,6.7972903631557315,6.711922560894849,6.253666624785445,6.678346316982609,6.694546486013706,6.395969521934002,6.616024229702455,6.302121369952349,6.411871819937692,6.761913083279404,6.253382366526019,6.321292265119336,6.385541778423477,6.321506415919229,6.594649423248831,6.538832580986069,6.334324896455663,6.230525360002113,6.540240671825156,6.421061786279909,6.386351225986285,6.70164539382293],\"y0\":\" \",\"yaxis\":\"y\",\"type\":\"box\",\"quartilemethod\":\"inclusive\"}],                        {\"template\":{\"data\":{\"histogram2dcontour\":[{\"type\":\"histogram2dcontour\",\"colorbar\":{\"outlinewidth\":0,\"ticks\":\"\"},\"colorscale\":[[0.0,\"#0d0887\"],[0.1111111111111111,\"#46039f\"],[0.2222222222222222,\"#7201a8\"],[0.3333333333333333,\"#9c179e\"],[0.4444444444444444,\"#bd3786\"],[0.5555555555555556,\"#d8576b\"],[0.6666666666666666,\"#ed7953\"],[0.7777777777777778,\"#fb9f3a\"],[0.8888888888888888,\"#fdca26\"],[1.0,\"#f0f921\"]]}],\"choropleth\":[{\"type\":\"choropleth\",\"colorbar\":{\"outlinewidth\":0,\"ticks\":\"\"}}],\"histogram2d\":[{\"type\":\"histogram2d\",\"colorbar\":{\"outlinewidth\":0,\"ticks\":\"\"},\"colorscale\":[[0.0,\"#0d0887\"],[0.1111111111111111,\"#46039f\"],[0.2222222222222222,\"#7201a8\"],[0.3333333333333333,\"#9c179e\"],[0.4444444444444444,\"#bd3786\"],[0.5555555555555556,\"#d8576b\"],[0.6666666666666666,\"#ed7953\"],[0.7777777777777778,\"#fb9f3a\"],[0.8888888888888888,\"#fdca26\"],[1.0,\"#f0f921\"]]}],\"heatmap\":[{\"type\":\"heatmap\",\"colorbar\":{\"outlinewidth\":0,\"ticks\":\"\"},\"colorscale\":[[0.0,\"#0d0887\"],[0.1111111111111111,\"#46039f\"],[0.2222222222222222,\"#7201a8\"],[0.3333333333333333,\"#9c179e\"],[0.4444444444444444,\"#bd3786\"],[0.5555555555555556,\"#d8576b\"],[0.6666666666666666,\"#ed7953\"],[0.7777777777777778,\"#fb9f3a\"],[0.8888888888888888,\"#fdca26\"],[1.0,\"#f0f921\"]]}],\"heatmapgl\":[{\"type\":\"heatmapgl\",\"colorbar\":{\"outlinewidth\":0,\"ticks\":\"\"},\"colorscale\":[[0.0,\"#0d0887\"],[0.1111111111111111,\"#46039f\"],[0.2222222222222222,\"#7201a8\"],[0.3333333333333333,\"#9c179e\"],[0.4444444444444444,\"#bd3786\"],[0.5555555555555556,\"#d8576b\"],[0.6666666666666666,\"#ed7953\"],[0.7777777777777778,\"#fb9f3a\"],[0.8888888888888888,\"#fdca26\"],[1.0,\"#f0f921\"]]}],\"contourcarpet\":[{\"type\":\"contourcarpet\",\"colorbar\":{\"outlinewidth\":0,\"ticks\":\"\"}}],\"contour\":[{\"type\":\"contour\",\"colorbar\":{\"outlinewidth\":0,\"ticks\":\"\"},\"colorscale\":[[0.0,\"#0d0887\"],[0.1111111111111111,\"#46039f\"],[0.2222222222222222,\"#7201a8\"],[0.3333333333333333,\"#9c179e\"],[0.4444444444444444,\"#bd3786\"],[0.5555555555555556,\"#d8576b\"],[0.6666666666666666,\"#ed7953\"],[0.7777777777777778,\"#fb9f3a\"],[0.8888888888888888,\"#fdca26\"],[1.0,\"#f0f921\"]]}],\"surface\":[{\"type\":\"surface\",\"colorbar\":{\"outlinewidth\":0,\"ticks\":\"\"},\"colorscale\":[[0.0,\"#0d0887\"],[0.1111111111111111,\"#46039f\"],[0.2222222222222222,\"#7201a8\"],[0.3333333333333333,\"#9c179e\"],[0.4444444444444444,\"#bd3786\"],[0.5555555555555556,\"#d8576b\"],[0.6666666666666666,\"#ed7953\"],[0.7777777777777778,\"#fb9f3a\"],[0.8888888888888888,\"#fdca26\"],[1.0,\"#f0f921\"]]}],\"mesh3d\":[{\"type\":\"mesh3d\",\"colorbar\":{\"outlinewidth\":0,\"ticks\":\"\"}}],\"scatter\":[{\"fillpattern\":{\"fillmode\":\"overlay\",\"size\":10,\"solidity\":0.2},\"type\":\"scatter\"}],\"parcoords\":[{\"type\":\"parcoords\",\"line\":{\"colorbar\":{\"outlinewidth\":0,\"ticks\":\"\"}}}],\"scatterpolargl\":[{\"type\":\"scatterpolargl\",\"marker\":{\"colorbar\":{\"outlinewidth\":0,\"ticks\":\"\"}}}],\"bar\":[{\"error_x\":{\"color\":\"#2a3f5f\"},\"error_y\":{\"color\":\"#2a3f5f\"},\"marker\":{\"line\":{\"color\":\"#E5ECF6\",\"width\":0.5},\"pattern\":{\"fillmode\":\"overlay\",\"size\":10,\"solidity\":0.2}},\"type\":\"bar\"}],\"scattergeo\":[{\"type\":\"scattergeo\",\"marker\":{\"colorbar\":{\"outlinewidth\":0,\"ticks\":\"\"}}}],\"scatterpolar\":[{\"type\":\"scatterpolar\",\"marker\":{\"colorbar\":{\"outlinewidth\":0,\"ticks\":\"\"}}}],\"histogram\":[{\"marker\":{\"pattern\":{\"fillmode\":\"overlay\",\"size\":10,\"solidity\":0.2}},\"type\":\"histogram\"}],\"scattergl\":[{\"type\":\"scattergl\",\"marker\":{\"colorbar\":{\"outlinewidth\":0,\"ticks\":\"\"}}}],\"scatter3d\":[{\"type\":\"scatter3d\",\"line\":{\"colorbar\":{\"outlinewidth\":0,\"ticks\":\"\"}},\"marker\":{\"colorbar\":{\"outlinewidth\":0,\"ticks\":\"\"}}}],\"scattermapbox\":[{\"type\":\"scattermapbox\",\"marker\":{\"colorbar\":{\"outlinewidth\":0,\"ticks\":\"\"}}}],\"scatterternary\":[{\"type\":\"scatterternary\",\"marker\":{\"colorbar\":{\"outlinewidth\":0,\"ticks\":\"\"}}}],\"scattercarpet\":[{\"type\":\"scattercarpet\",\"marker\":{\"colorbar\":{\"outlinewidth\":0,\"ticks\":\"\"}}}],\"carpet\":[{\"aaxis\":{\"endlinecolor\":\"#2a3f5f\",\"gridcolor\":\"white\",\"linecolor\":\"white\",\"minorgridcolor\":\"white\",\"startlinecolor\":\"#2a3f5f\"},\"baxis\":{\"endlinecolor\":\"#2a3f5f\",\"gridcolor\":\"white\",\"linecolor\":\"white\",\"minorgridcolor\":\"white\",\"startlinecolor\":\"#2a3f5f\"},\"type\":\"carpet\"}],\"table\":[{\"cells\":{\"fill\":{\"color\":\"#EBF0F8\"},\"line\":{\"color\":\"white\"}},\"header\":{\"fill\":{\"color\":\"#C8D4E3\"},\"line\":{\"color\":\"white\"}},\"type\":\"table\"}],\"barpolar\":[{\"marker\":{\"line\":{\"color\":\"#E5ECF6\",\"width\":0.5},\"pattern\":{\"fillmode\":\"overlay\",\"size\":10,\"solidity\":0.2}},\"type\":\"barpolar\"}],\"pie\":[{\"automargin\":true,\"type\":\"pie\"}]},\"layout\":{\"autotypenumbers\":\"strict\",\"colorway\":[\"#636efa\",\"#EF553B\",\"#00cc96\",\"#ab63fa\",\"#FFA15A\",\"#19d3f3\",\"#FF6692\",\"#B6E880\",\"#FF97FF\",\"#FECB52\"],\"font\":{\"color\":\"#2a3f5f\"},\"hovermode\":\"closest\",\"hoverlabel\":{\"align\":\"left\"},\"paper_bgcolor\":\"white\",\"plot_bgcolor\":\"#E5ECF6\",\"polar\":{\"bgcolor\":\"#E5ECF6\",\"angularaxis\":{\"gridcolor\":\"white\",\"linecolor\":\"white\",\"ticks\":\"\"},\"radialaxis\":{\"gridcolor\":\"white\",\"linecolor\":\"white\",\"ticks\":\"\"}},\"ternary\":{\"bgcolor\":\"#E5ECF6\",\"aaxis\":{\"gridcolor\":\"white\",\"linecolor\":\"white\",\"ticks\":\"\"},\"baxis\":{\"gridcolor\":\"white\",\"linecolor\":\"white\",\"ticks\":\"\"},\"caxis\":{\"gridcolor\":\"white\",\"linecolor\":\"white\",\"ticks\":\"\"}},\"coloraxis\":{\"colorbar\":{\"outlinewidth\":0,\"ticks\":\"\"}},\"colorscale\":{\"sequential\":[[0.0,\"#0d0887\"],[0.1111111111111111,\"#46039f\"],[0.2222222222222222,\"#7201a8\"],[0.3333333333333333,\"#9c179e\"],[0.4444444444444444,\"#bd3786\"],[0.5555555555555556,\"#d8576b\"],[0.6666666666666666,\"#ed7953\"],[0.7777777777777778,\"#fb9f3a\"],[0.8888888888888888,\"#fdca26\"],[1.0,\"#f0f921\"]],\"sequentialminus\":[[0.0,\"#0d0887\"],[0.1111111111111111,\"#46039f\"],[0.2222222222222222,\"#7201a8\"],[0.3333333333333333,\"#9c179e\"],[0.4444444444444444,\"#bd3786\"],[0.5555555555555556,\"#d8576b\"],[0.6666666666666666,\"#ed7953\"],[0.7777777777777778,\"#fb9f3a\"],[0.8888888888888888,\"#fdca26\"],[1.0,\"#f0f921\"]],\"diverging\":[[0,\"#8e0152\"],[0.1,\"#c51b7d\"],[0.2,\"#de77ae\"],[0.3,\"#f1b6da\"],[0.4,\"#fde0ef\"],[0.5,\"#f7f7f7\"],[0.6,\"#e6f5d0\"],[0.7,\"#b8e186\"],[0.8,\"#7fbc41\"],[0.9,\"#4d9221\"],[1,\"#276419\"]]},\"xaxis\":{\"gridcolor\":\"white\",\"linecolor\":\"white\",\"ticks\":\"\",\"title\":{\"standoff\":15},\"zerolinecolor\":\"white\",\"automargin\":true,\"zerolinewidth\":2},\"yaxis\":{\"gridcolor\":\"white\",\"linecolor\":\"white\",\"ticks\":\"\",\"title\":{\"standoff\":15},\"zerolinecolor\":\"white\",\"automargin\":true,\"zerolinewidth\":2},\"scene\":{\"xaxis\":{\"backgroundcolor\":\"#E5ECF6\",\"gridcolor\":\"white\",\"linecolor\":\"white\",\"showbackground\":true,\"ticks\":\"\",\"zerolinecolor\":\"white\",\"gridwidth\":2},\"yaxis\":{\"backgroundcolor\":\"#E5ECF6\",\"gridcolor\":\"white\",\"linecolor\":\"white\",\"showbackground\":true,\"ticks\":\"\",\"zerolinecolor\":\"white\",\"gridwidth\":2},\"zaxis\":{\"backgroundcolor\":\"#E5ECF6\",\"gridcolor\":\"white\",\"linecolor\":\"white\",\"showbackground\":true,\"ticks\":\"\",\"zerolinecolor\":\"white\",\"gridwidth\":2}},\"shapedefaults\":{\"line\":{\"color\":\"#2a3f5f\"}},\"annotationdefaults\":{\"arrowcolor\":\"#2a3f5f\",\"arrowhead\":0,\"arrowwidth\":1},\"geo\":{\"bgcolor\":\"white\",\"landcolor\":\"#E5ECF6\",\"subunitcolor\":\"white\",\"showland\":true,\"showlakes\":true,\"lakecolor\":\"white\"},\"title\":{\"x\":0.05},\"mapbox\":{\"style\":\"light\"}}},\"xaxis\":{\"anchor\":\"y\",\"domain\":[0.0,1.0],\"title\":{\"text\":\"group\"},\"categoryorder\":\"array\",\"categoryarray\":[\"HCDMSO\",\"PREDMSO\",\"PREmdivi1 25uM\",\"MDMSO\",\"Mmdivi1 25uM\",\"SDMSO\",\"Smdivi1 25uM\"]},\"yaxis\":{\"anchor\":\"x\",\"domain\":[0.0,1.0],\"title\":{\"text\":\"mfn2_area\"}},\"legend\":{\"title\":{\"text\":\"group\"},\"tracegroupgap\":0},\"margin\":{\"t\":60},\"boxmode\":\"overlay\",\"font\":{\"family\":\"Arial\",\"color\":\"Black\",\"size\":20}},                        {\"responsive\": true}                    ).then(function(){\n",
       "                            \n",
       "var gd = document.getElementById('b463ab43-23b8-4d57-ac8c-68f81cd98602');\n",
       "var x = new MutationObserver(function (mutations, observer) {{\n",
       "        var display = window.getComputedStyle(gd).display;\n",
       "        if (!display || display === 'none') {{\n",
       "            console.log([gd, 'removed!']);\n",
       "            Plotly.purge(gd);\n",
       "            observer.disconnect();\n",
       "        }}\n",
       "}});\n",
       "\n",
       "// Listen for the removal of the full notebook cells\n",
       "var notebookContainer = gd.closest('#notebook-container');\n",
       "if (notebookContainer) {{\n",
       "    x.observe(notebookContainer, {childList: true});\n",
       "}}\n",
       "\n",
       "// Listen for the clearing of the current output cell\n",
       "var outputEl = gd.closest('.output');\n",
       "if (outputEl) {{\n",
       "    x.observe(outputEl, {childList: true});\n",
       "}}\n",
       "\n",
       "                        })                };                });            </script>        </div>"
      ]
     },
     "metadata": {},
     "output_type": "display_data"
    }
   ],
   "source": [
    "### box plots all feat\n",
    "for col in df_stats.columns[3:]:\n",
    "    \n",
    "    fig = px.box(df_stats, x = \"group\", y = col, hover_data=[\"group_with_p\"],\n",
    "                 points=\"all\", color=\"group\",\n",
    "            notched=True)\n",
    "    fig.update_xaxes(categoryorder='array', categoryarray= ['HCDMSO', 'PREDMSO', 'PREmdivi1 25uM',\n",
    "                                                            'MDMSO', 'Mmdivi1 25uM', \n",
    "                                                           'SDMSO', 'Smdivi1 25uM'])\n",
    "    fig.update_traces(quartilemethod=\"inclusive\") # or \"inclusive\", or \"linear\" by default\n",
    "    fig.update_layout(\n",
    "    font_family=\"Arial\",\n",
    "    font_color=\"Black\",\n",
    "    font_size=20,\n",
    "    font=dict(\n",
    "        family=\"Arial\",\n",
    "        size=20,\n",
    "        color=\"Black\"\n",
    "    )\n",
    ")\n",
    "\n",
    "    fig.write_image(path + '//' + f\"{col}box_plot_image.pdf\", engine=\"kaleido\")\n",
    "    fig.show()"
   ]
  },
  {
   "cell_type": "code",
   "execution_count": null,
   "id": "536eaf3f",
   "metadata": {},
   "outputs": [],
   "source": [
    "#statistics"
   ]
  },
  {
   "cell_type": "code",
   "execution_count": 102,
   "id": "49872c5c",
   "metadata": {},
   "outputs": [],
   "source": [
    "#DEF GROUPS\n",
    "#hc\n",
    "HC = df_stats[(df_stats['group'] == 'HCDMSO')]\n",
    "HC_intensity_mean = HC[[\"mfn2_intensity\"]]\n",
    "HC_area = HC[[\"mfn2_area\"]]\n",
    "#ds\n",
    "#Sev\n",
    "S = df_stats[(df_stats['group'] == 'SDMSO')]\n",
    "S_intensity_mean = S[[\"mfn2_intensity\"]]\n",
    "S_area = S[[\"mfn2_area\"]]\n",
    "#Mild\n",
    "M = df_stats[(df_stats['group'] == 'MDMSO')]\n",
    "M_intensity_mean = M[[\"mfn2_intensity\"]]\n",
    "M_area = M[[\"mfn2_area\"]]\n",
    "#Pre\n",
    "P = df_stats[(df_stats['group'] == 'PREDMSO')]\n",
    "P_intensity_mean = P[[\"mfn2_intensity\"]]\n",
    "P_area = P[[\"mfn2_area\"]]\n",
    "#dsT\n",
    "#Sev\n",
    "ST = df_stats[(df_stats['group'] == 'Smdivi1 25uM')]\n",
    "ST_intensity_mean = ST[[\"mfn2_intensity\"]]\n",
    "ST_area = ST[[\"mfn2_area\"]]\n",
    "#Mild\n",
    "MT = df_stats[(df_stats['group'] == 'Mmdivi1 25uM')]\n",
    "MT_intensity_mean = MT[[\"mfn2_intensity\"]]\n",
    "MT_area = MT[[\"mfn2_area\"]]\n",
    "#Pre\n",
    "PT = df_stats[(df_stats['group'] == 'PREmdivi1 25uM')]\n",
    "PT_intensity_mean = PT[[\"mfn2_intensity\"]]\n",
    "PT_area = PT[[\"mfn2_area\"]]\n"
   ]
  },
  {
   "cell_type": "code",
   "execution_count": 103,
   "id": "db5540fe",
   "metadata": {},
   "outputs": [],
   "source": [
    "# hc vs ds \n",
    "one_list = [(S_intensity_mean), (HC_intensity_mean)]\n",
    "two_list = [(M_intensity_mean), (HC_intensity_mean)]\n",
    "three_list = [(P_intensity_mean), (HC_intensity_mean)]\n",
    "#ds vs dst \n",
    "one2_list = [(S_intensity_mean), (ST_intensity_mean)]\n",
    "two2_list = [(M_intensity_mean), (MT_intensity_mean)]\n",
    "three2_list = [(P_intensity_mean), (PT_intensity_mean)]\n",
    "#DS vs ds \n",
    "one3_list = [ (S_intensity_mean), (M_intensity_mean)]\n",
    "two3_list = [(S_intensity_mean), (P_intensity_mean)]\n",
    "three3_list = [(M_intensity_mean), (P_intensity_mean)]\n",
    "#general lists \n",
    "all_list = (one_list, two_list, three_list)\n",
    "sec_list = (one2_list, two2_list, three2_list)\n",
    "t_list = (one3_list, two3_list, three3_list)"
   ]
  },
  {
   "cell_type": "code",
   "execution_count": 104,
   "id": "3bf9bf12",
   "metadata": {},
   "outputs": [],
   "source": [
    "def t_function(list):\n",
    "    for item in list:\n",
    "        name = [i for i in globals() if globals()[i] is item][0]\n",
    "        item1 = list[0]\n",
    "        item2 = list[1]\n",
    "        twosample_results = scipy.stats.ttest_ind(item1, item2, equal_var=False, permutations=1000)\n",
    "        matrix_twosample = [\n",
    "        ['', 'Test Statistic', 'p-value'],\n",
    "        ['{}'.format(name), twosample_results[0], twosample_results[1]]\n",
    "    ]\n",
    "        twosample_table = FF.create_table(matrix_twosample, index=True)\n",
    "        cf.go_offline()\n",
    "        iplot(twosample_table, filename='{}twosample-table')"
   ]
  },
  {
   "cell_type": "code",
   "execution_count": null,
   "id": "a82696dc",
   "metadata": {},
   "outputs": [],
   "source": [
    "for x in all_list:\n",
    "    t_function(x)\n",
    "    print('done')"
   ]
  },
  {
   "cell_type": "code",
   "execution_count": null,
   "id": "c16a703d",
   "metadata": {},
   "outputs": [],
   "source": [
    "for x in sec_list:\n",
    "    t_function(x)\n",
    "    print('done')"
   ]
  },
  {
   "cell_type": "code",
   "execution_count": null,
   "id": "f906eeed",
   "metadata": {},
   "outputs": [],
   "source": [
    "for x in t_list:\n",
    "    t_function(x)\n",
    "    print('done')"
   ]
  },
  {
   "cell_type": "code",
   "execution_count": null,
   "id": "ac7c2221",
   "metadata": {},
   "outputs": [],
   "source": [
    "######################"
   ]
  },
  {
   "cell_type": "code",
   "execution_count": null,
   "id": "6b22dace",
   "metadata": {},
   "outputs": [],
   "source": []
  }
 ],
 "metadata": {
  "kernelspec": {
   "display_name": "Python 3 (ipykernel)",
   "language": "python",
   "name": "python3"
  },
  "language_info": {
   "codemirror_mode": {
    "name": "ipython",
    "version": 3
   },
   "file_extension": ".py",
   "mimetype": "text/x-python",
   "name": "python",
   "nbconvert_exporter": "python",
   "pygments_lexer": "ipython3",
   "version": "3.9.13"
  }
 },
 "nbformat": 4,
 "nbformat_minor": 5
}
